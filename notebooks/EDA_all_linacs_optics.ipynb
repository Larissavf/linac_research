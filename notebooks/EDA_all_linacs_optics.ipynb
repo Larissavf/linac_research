{
 "cells": [
  {
   "cell_type": "code",
   "execution_count": 3,
   "id": "d080961c",
   "metadata": {},
   "outputs": [],
   "source": [
    "import pandas as pd\n",
    "import numpy as np\n",
    "import matplotlib.pyplot as plt\n",
    "import plotly.express as px\n",
    "import re\n",
    "import seaborn as sns\n"
   ]
  },
  {
   "cell_type": "markdown",
   "id": "8e8cb5a6",
   "metadata": {},
   "source": [
    "# optics bestanden\n",
    "## alle parts en items over de gehele tijd en alle linacs\n"
   ]
  },
  {
   "cell_type": "code",
   "execution_count": 5,
   "id": "e697e9a4",
   "metadata": {},
   "outputs": [],
   "source": [
    "linac2_headers = pd.read_csv(\"data/calblocks_update_table_cal_headers.csv\", names=[\"date\", \"file_name\", \"empty\", \"thiing\", \"thing\"])\n",
    "linac2_items = pd.read_csv(\"data/calblocks_update_table_cal_items.csv\",  names=[\"item\", \"category\", \"thing\", \"thiing\"])\n",
    "linac2_values = pd.read_csv(\"data/calblocks_update_table_cal_values.csv\", names=[\"id\", \"calheaders_id\", \"item\", \"part\", \"value\"])\n",
    "\n",
    "linac2_headers.reset_index(inplace=True)\n",
    "linac2_headers.set_index(\"level_0\", inplace=True)\n",
    "linac2_headers['datum'] = linac2_headers['date'].str.replace('/', '-', regex=False)\n",
    "\n",
    "linac2_headers['date'] = pd.to_datetime(linac2_headers['date'], format='%d/%m/%Y')\n",
    "linac2_headers[\"date\"] = linac2_headers[\"date\"].astype(\"str\")\n",
    "\n",
    "linac2_headers.columns = [\"linac\",\"date\", \"file_name\", \"empty\", \"thiing\", \"thing\", \"datum\"]"
   ]
  },
  {
   "cell_type": "code",
   "execution_count": 6,
   "id": "58460cdc",
   "metadata": {},
   "outputs": [],
   "source": [
    "tempdf = linac2_headers[[\"linac\", \"date\", \"file_name\"]].merge(linac2_values[[\"calheaders_id\", \"item\", \"part\", \"value\"]] ,left_on=\"level_0\", right_on=\"calheaders_id\", how=\"inner\").drop(columns=\"calheaders_id\")\n",
    "merged_df = tempdf.merge(linac2_items[[\"item\", \"category\"]], on = \"item\", how=\"inner\")\n",
    "\n",
    "merged_df[\"Part&item\"] = \"I:\"+ merged_df[\"item\"].astype(str) + \" P:\"+ merged_df[\"part\"].astype(str)\n",
    "merged_df = merged_df.sort_values([\"linac\", \"date\"])\n"
   ]
  },
  {
   "cell_type": "markdown",
   "id": "759984d5",
   "metadata": {},
   "source": [
    "Optics files"
   ]
  },
  {
   "cell_type": "code",
   "execution_count": 8,
   "id": "928a3f91",
   "metadata": {},
   "outputs": [],
   "source": [
    "tempdf = linac2_headers[[\"linac\", \"date\", \"file_name\"]].merge(linac2_values[[\"calheaders_id\", \"item\", \"part\", \"value\"]] ,left_on=\"level_0\", right_on=\"calheaders_id\", how=\"inner\").drop(columns=\"calheaders_id\")\n",
    "merged_df = tempdf.merge(linac2_items[[\"item\", \"category\"]], on = \"item\", how=\"inner\")\n",
    "\n",
    "\n",
    "merged_df = merged_df[merged_df[\"linac\"] != 7460]\n",
    "\n",
    "optics_df = merged_df[merged_df[\"file_name\"].str.contains(\"Optics\")].copy()\n",
    "optics_df[\"Part&item\"] = \"I:\"+ optics_df[\"item\"].astype(str) + \" P:\"+ optics_df[\"part\"].astype(str)"
   ]
  },
  {
   "cell_type": "code",
   "execution_count": 9,
   "id": "405660ee",
   "metadata": {},
   "outputs": [],
   "source": [
    "optics_files = optics_df[\"file_name\"].unique().tolist()\n",
    "\n",
    "show = pd.DataFrame(index=optics_files)\n",
    "show[\"parts\"] = [optics_df[optics_df[\"file_name\"] == file][\"part\"].unique().tolist() for file in optics_files]\n",
    "show[\"items\"] = [optics_df[optics_df[\"file_name\"] == file][\"item\"].unique().tolist() for file in optics_files]\n",
    "show[\"amount of dates\"] = [len(optics_df[optics_df[\"file_name\"] == file][\"date\"].unique().tolist()) for file in optics_files]\n"
   ]
  },
  {
   "cell_type": "code",
   "execution_count": 10,
   "id": "46a9c1aa",
   "metadata": {},
   "outputs": [
    {
     "data": {
      "text/html": [
       "<div>\n",
       "<style scoped>\n",
       "    .dataframe tbody tr th:only-of-type {\n",
       "        vertical-align: middle;\n",
       "    }\n",
       "\n",
       "    .dataframe tbody tr th {\n",
       "        vertical-align: top;\n",
       "    }\n",
       "\n",
       "    .dataframe thead th {\n",
       "        text-align: right;\n",
       "    }\n",
       "</style>\n",
       "<table border=\"1\" class=\"dataframe\">\n",
       "  <thead>\n",
       "    <tr style=\"text-align: right;\">\n",
       "      <th></th>\n",
       "      <th>parts</th>\n",
       "      <th>items</th>\n",
       "      <th>amount of dates</th>\n",
       "      <th>veranderingen</th>\n",
       "    </tr>\n",
       "  </thead>\n",
       "  <tbody>\n",
       "    <tr>\n",
       "      <th>Optics_Gen_Cal_Data</th>\n",
       "      <td>[131.0, 130.0, 181.0, 383.0, 384.0, 385.0, 386...</td>\n",
       "      <td>[2291, 2292, 2293, 2009, 2288, 2280, 2290]</td>\n",
       "      <td>39</td>\n",
       "      <td>2</td>\n",
       "    </tr>\n",
       "    <tr>\n",
       "      <th>Optics_Dist_Y2_01_To_40</th>\n",
       "      <td>[398.0, 399.0, 400.0, 401.0]</td>\n",
       "      <td>[2380]</td>\n",
       "      <td>39</td>\n",
       "      <td>4</td>\n",
       "    </tr>\n",
       "    <tr>\n",
       "      <th>Optics_LP_Y_01_To_20</th>\n",
       "      <td>[280.0, 281.0, 282.0, 283.0, 284.0, 285.0, 286...</td>\n",
       "      <td>[2300]</td>\n",
       "      <td>39</td>\n",
       "      <td>20</td>\n",
       "    </tr>\n",
       "    <tr>\n",
       "      <th>Optics_Dist_Y1_01_To_40</th>\n",
       "      <td>[398.0, 399.0, 400.0, 401.0]</td>\n",
       "      <td>[2460]</td>\n",
       "      <td>39</td>\n",
       "      <td>4</td>\n",
       "    </tr>\n",
       "    <tr>\n",
       "      <th>Optics_LP_X_01_To_20</th>\n",
       "      <td>[260.0, 261.0, 262.0, 263.0, 264.0, 265.0, 266...</td>\n",
       "      <td>[2300]</td>\n",
       "      <td>39</td>\n",
       "      <td>20</td>\n",
       "    </tr>\n",
       "  </tbody>\n",
       "</table>\n",
       "</div>"
      ],
      "text/plain": [
       "                                                                     parts  \\\n",
       "Optics_Gen_Cal_Data      [131.0, 130.0, 181.0, 383.0, 384.0, 385.0, 386...   \n",
       "Optics_Dist_Y2_01_To_40                       [398.0, 399.0, 400.0, 401.0]   \n",
       "Optics_LP_Y_01_To_20     [280.0, 281.0, 282.0, 283.0, 284.0, 285.0, 286...   \n",
       "Optics_Dist_Y1_01_To_40                       [398.0, 399.0, 400.0, 401.0]   \n",
       "Optics_LP_X_01_To_20     [260.0, 261.0, 262.0, 263.0, 264.0, 265.0, 266...   \n",
       "\n",
       "                                                              items  \\\n",
       "Optics_Gen_Cal_Data      [2291, 2292, 2293, 2009, 2288, 2280, 2290]   \n",
       "Optics_Dist_Y2_01_To_40                                      [2380]   \n",
       "Optics_LP_Y_01_To_20                                         [2300]   \n",
       "Optics_Dist_Y1_01_To_40                                      [2460]   \n",
       "Optics_LP_X_01_To_20                                         [2300]   \n",
       "\n",
       "                         amount of dates  veranderingen  \n",
       "Optics_Gen_Cal_Data                   39              2  \n",
       "Optics_Dist_Y2_01_To_40               39              4  \n",
       "Optics_LP_Y_01_To_20                  39             20  \n",
       "Optics_Dist_Y1_01_To_40               39              4  \n",
       "Optics_LP_X_01_To_20                  39             20  "
      ]
     },
     "execution_count": 10,
     "metadata": {},
     "output_type": "execute_result"
    }
   ],
   "source": [
    "total_changes = []\n",
    "for file in show.index:\n",
    "    mlc = merged_df[merged_df[\"file_name\"] == file].copy()\n",
    "    mlc[\"Part&item\"] = \"I:\" + mlc[\"item\"].astype(str) + \" P:\" + mlc[\"part\"].astype(str)\n",
    "\n",
    "\n",
    "    nop45 = mlc[mlc[\"part\"] != 45]\n",
    "\n",
    "    for linac in list(set(nop45[\"linac\"])):\n",
    "        result = pd.DataFrame()\n",
    "\n",
    "        linec_df = nop45[nop45[\"linac\"] == linac]\n",
    "        dates = list(set(linec_df[\"date\"]))\n",
    "\n",
    "        for item in range(len(dates)-1):\n",
    "            old = linec_df[linec_df[\"date\"] == dates[item]]\n",
    "            new = linec_df[linec_df[\"date\"] == dates[item+1]]\n",
    "\n",
    "            diff = new[\"value\"].values - old[\"value\"].values\n",
    "            temp = pd.DataFrame({\n",
    "                \"date\": new[\"date\"].tolist(),\n",
    "                \"difference\": diff,\n",
    "                \"PI\": new[\"Part&item\"],\n",
    "                \"linac\": new[\"linac\"]\n",
    "            })\n",
    "\n",
    "            result = pd.concat([temp, result])\n",
    "            \n",
    "\n",
    "    changed = result[result[\"difference\"] != 0]\n",
    "\n",
    "    changes = changed[\"PI\"].unique().tolist()\n",
    "\n",
    "    total_changes.append(changes)\n",
    "\n",
    "    #only the changed combination of part and item\n",
    "    changes_df = mlc[mlc[\"Part&item\"].isin(changes)]\n",
    "\n",
    "\n",
    "show[\"veranderingen\"] = [len(change) for change in total_changes]\n",
    "show\n"
   ]
  },
  {
   "cell_type": "markdown",
   "id": "44dca3af",
   "metadata": {},
   "source": [
    "# Optics_Gen_Cal_Data\n",
    "109: Calibrated X co-ordinate of the centre of the reference reflector.\n",
    "110: Calibrated Y co-ordinate of the centre of the reference reflector.\n"
   ]
  },
  {
   "cell_type": "code",
   "execution_count": 11,
   "id": "7a4950e1",
   "metadata": {},
   "outputs": [
    {
     "name": "stdout",
     "output_type": "stream",
     "text": [
      "2983\n",
      "2325\n",
      "2638\n",
      "2191\n"
     ]
    },
    {
     "name": "stderr",
     "output_type": "stream",
     "text": [
      "C:\\Users\\Laris\\AppData\\Local\\Temp\\ipykernel_4464\\3055770331.py:48: SettingWithCopyWarning: \n",
      "A value is trying to be set on a copy of a slice from a DataFrame.\n",
      "Try using .loc[row_indexer,col_indexer] = value instead\n",
      "\n",
      "See the caveats in the documentation: https://pandas.pydata.org/pandas-docs/stable/user_guide/indexing.html#returning-a-view-versus-a-copy\n",
      "  gen_cal[\"Part&item\"] = \"I:\"+ gen_cal[\"item\"].astype(str) + \" P:\"+ gen_cal[\"part\"].astype(str)\n"
     ]
    },
    {
     "data": {
      "text/html": [
       "<div>\n",
       "<style scoped>\n",
       "    .dataframe tbody tr th:only-of-type {\n",
       "        vertical-align: middle;\n",
       "    }\n",
       "\n",
       "    .dataframe tbody tr th {\n",
       "        vertical-align: top;\n",
       "    }\n",
       "\n",
       "    .dataframe thead tr th {\n",
       "        text-align: left;\n",
       "    }\n",
       "</style>\n",
       "<table border=\"1\" class=\"dataframe\">\n",
       "  <thead>\n",
       "    <tr>\n",
       "      <th>item</th>\n",
       "      <th colspan=\"2\" halign=\"left\">2280</th>\n",
       "    </tr>\n",
       "    <tr>\n",
       "      <th>part</th>\n",
       "      <th>109.0</th>\n",
       "      <th>110.0</th>\n",
       "    </tr>\n",
       "    <tr>\n",
       "      <th>category</th>\n",
       "      <th>Ref Refl 01</th>\n",
       "      <th>Ref Refl 01</th>\n",
       "    </tr>\n",
       "  </thead>\n",
       "  <tbody>\n",
       "    <tr>\n",
       "      <th>count</th>\n",
       "      <td>13.00</td>\n",
       "      <td>13.00</td>\n",
       "    </tr>\n",
       "    <tr>\n",
       "      <th>mean</th>\n",
       "      <td>242.77</td>\n",
       "      <td>354.38</td>\n",
       "    </tr>\n",
       "    <tr>\n",
       "      <th>std</th>\n",
       "      <td>1.64</td>\n",
       "      <td>1.76</td>\n",
       "    </tr>\n",
       "    <tr>\n",
       "      <th>min</th>\n",
       "      <td>240.00</td>\n",
       "      <td>352.00</td>\n",
       "    </tr>\n",
       "    <tr>\n",
       "      <th>25%</th>\n",
       "      <td>242.00</td>\n",
       "      <td>353.00</td>\n",
       "    </tr>\n",
       "    <tr>\n",
       "      <th>50%</th>\n",
       "      <td>243.00</td>\n",
       "      <td>354.00</td>\n",
       "    </tr>\n",
       "    <tr>\n",
       "      <th>75%</th>\n",
       "      <td>244.00</td>\n",
       "      <td>355.00</td>\n",
       "    </tr>\n",
       "    <tr>\n",
       "      <th>max</th>\n",
       "      <td>245.00</td>\n",
       "      <td>357.00</td>\n",
       "    </tr>\n",
       "    <tr>\n",
       "      <th>count</th>\n",
       "      <td>8.00</td>\n",
       "      <td>8.00</td>\n",
       "    </tr>\n",
       "    <tr>\n",
       "      <th>mean</th>\n",
       "      <td>212.88</td>\n",
       "      <td>349.38</td>\n",
       "    </tr>\n",
       "    <tr>\n",
       "      <th>std</th>\n",
       "      <td>13.64</td>\n",
       "      <td>0.92</td>\n",
       "    </tr>\n",
       "    <tr>\n",
       "      <th>min</th>\n",
       "      <td>202.00</td>\n",
       "      <td>348.00</td>\n",
       "    </tr>\n",
       "    <tr>\n",
       "      <th>25%</th>\n",
       "      <td>203.00</td>\n",
       "      <td>349.00</td>\n",
       "    </tr>\n",
       "    <tr>\n",
       "      <th>50%</th>\n",
       "      <td>203.50</td>\n",
       "      <td>349.00</td>\n",
       "    </tr>\n",
       "    <tr>\n",
       "      <th>75%</th>\n",
       "      <td>229.00</td>\n",
       "      <td>350.00</td>\n",
       "    </tr>\n",
       "    <tr>\n",
       "      <th>max</th>\n",
       "      <td>230.00</td>\n",
       "      <td>351.00</td>\n",
       "    </tr>\n",
       "    <tr>\n",
       "      <th>count</th>\n",
       "      <td>15.00</td>\n",
       "      <td>15.00</td>\n",
       "    </tr>\n",
       "    <tr>\n",
       "      <th>mean</th>\n",
       "      <td>248.67</td>\n",
       "      <td>362.73</td>\n",
       "    </tr>\n",
       "    <tr>\n",
       "      <th>std</th>\n",
       "      <td>8.19</td>\n",
       "      <td>2.91</td>\n",
       "    </tr>\n",
       "    <tr>\n",
       "      <th>min</th>\n",
       "      <td>237.00</td>\n",
       "      <td>358.00</td>\n",
       "    </tr>\n",
       "    <tr>\n",
       "      <th>25%</th>\n",
       "      <td>238.00</td>\n",
       "      <td>359.00</td>\n",
       "    </tr>\n",
       "    <tr>\n",
       "      <th>50%</th>\n",
       "      <td>253.00</td>\n",
       "      <td>364.00</td>\n",
       "    </tr>\n",
       "    <tr>\n",
       "      <th>75%</th>\n",
       "      <td>254.00</td>\n",
       "      <td>365.00</td>\n",
       "    </tr>\n",
       "    <tr>\n",
       "      <th>max</th>\n",
       "      <td>257.00</td>\n",
       "      <td>365.00</td>\n",
       "    </tr>\n",
       "    <tr>\n",
       "      <th>count</th>\n",
       "      <td>16.00</td>\n",
       "      <td>16.00</td>\n",
       "    </tr>\n",
       "    <tr>\n",
       "      <th>mean</th>\n",
       "      <td>228.38</td>\n",
       "      <td>376.88</td>\n",
       "    </tr>\n",
       "    <tr>\n",
       "      <th>std</th>\n",
       "      <td>1.31</td>\n",
       "      <td>3.84</td>\n",
       "    </tr>\n",
       "    <tr>\n",
       "      <th>min</th>\n",
       "      <td>226.00</td>\n",
       "      <td>371.00</td>\n",
       "    </tr>\n",
       "    <tr>\n",
       "      <th>25%</th>\n",
       "      <td>227.75</td>\n",
       "      <td>374.00</td>\n",
       "    </tr>\n",
       "    <tr>\n",
       "      <th>50%</th>\n",
       "      <td>229.00</td>\n",
       "      <td>375.50</td>\n",
       "    </tr>\n",
       "    <tr>\n",
       "      <th>75%</th>\n",
       "      <td>229.00</td>\n",
       "      <td>381.00</td>\n",
       "    </tr>\n",
       "    <tr>\n",
       "      <th>max</th>\n",
       "      <td>230.00</td>\n",
       "      <td>381.00</td>\n",
       "    </tr>\n",
       "  </tbody>\n",
       "</table>\n",
       "</div>"
      ],
      "text/plain": [
       "item            2280            \n",
       "part           109.0       110.0\n",
       "category Ref Refl 01 Ref Refl 01\n",
       "count          13.00       13.00\n",
       "mean          242.77      354.38\n",
       "std             1.64        1.76\n",
       "min           240.00      352.00\n",
       "25%           242.00      353.00\n",
       "50%           243.00      354.00\n",
       "75%           244.00      355.00\n",
       "max           245.00      357.00\n",
       "count           8.00        8.00\n",
       "mean          212.88      349.38\n",
       "std            13.64        0.92\n",
       "min           202.00      348.00\n",
       "25%           203.00      349.00\n",
       "50%           203.50      349.00\n",
       "75%           229.00      350.00\n",
       "max           230.00      351.00\n",
       "count          15.00       15.00\n",
       "mean          248.67      362.73\n",
       "std             8.19        2.91\n",
       "min           237.00      358.00\n",
       "25%           238.00      359.00\n",
       "50%           253.00      364.00\n",
       "75%           254.00      365.00\n",
       "max           257.00      365.00\n",
       "count          16.00       16.00\n",
       "mean          228.38      376.88\n",
       "std             1.31        3.84\n",
       "min           226.00      371.00\n",
       "25%           227.75      374.00\n",
       "50%           229.00      375.50\n",
       "75%           229.00      381.00\n",
       "max           230.00      381.00"
      ]
     },
     "execution_count": 11,
     "metadata": {},
     "output_type": "execute_result"
    },
    {
     "data": {
      "image/png": "[encoded data removed]",
      "text/plain": [
       "<Figure size 2500x1300 with 2 Axes>"
      ]
     },
     "metadata": {},
     "output_type": "display_data"
    },
    {
     "data": {
      "image/png": "[encoded data removed]",
      "text/plain": [
       "<Figure size 2500x1300 with 2 Axes>"
      ]
     },
     "metadata": {},
     "output_type": "display_data"
    },
    {
     "data": {
      "image/png": "[encoded data removed]",
      "text/plain": [
       "<Figure size 2500x1300 with 2 Axes>"
      ]
     },
     "metadata": {},
     "output_type": "display_data"
    },
    {
     "data": {
      "image/png": "[encoded data removed]",
      "text/plain": [
       "<Figure size 2500x1300 with 2 Axes>"
      ]
     },
     "metadata": {},
     "output_type": "display_data"
    }
   ],
   "source": [
    "\n",
    "def determine_changes_analysis(gen_cal):\n",
    "    nop45 = gen_cal[gen_cal[\"part\"] != 45]\n",
    "\n",
    "    for linac in list(set(nop45[\"linac\"])):\n",
    "        result = pd.DataFrame()\n",
    "\n",
    "        linec_df = nop45[nop45[\"linac\"] == linac]\n",
    "        dates = list(set(linec_df[\"date\"]))\n",
    "\n",
    "        for item in range(len(dates)-1):\n",
    "            old = linec_df[linec_df[\"date\"] == dates[item]]\n",
    "            new = linec_df[linec_df[\"date\"] == dates[item+1]]\n",
    "\n",
    "            diff = new[\"value\"].values - old[\"value\"].values\n",
    "            temp = pd.DataFrame({\n",
    "                \"date\": new[\"date\"].tolist(),\n",
    "                \"difference\": diff,\n",
    "                \"PI\": new[\"Part&item\"],\n",
    "                \"linac\": new[\"linac\"]\n",
    "            })\n",
    "\n",
    "            result = pd.concat([temp, result])\n",
    "        \n",
    "\n",
    "    changed = result[result[\"difference\"] != 0]\n",
    "\n",
    "    changes = changed[\"PI\"].unique().tolist()\n",
    "\n",
    "    total_changes.append(changes)\n",
    "\n",
    "\n",
    "    #only the changed combination of part and item\n",
    "    changes_df_gen_cal = gen_cal[gen_cal[\"Part&item\"].isin(changes)]\n",
    "\n",
    "    show = pd.DataFrame()\n",
    "\n",
    "\n",
    "    # for every linac the describe of the same data\n",
    "    for linac in list(set(changes_df_gen_cal[\"linac\"])):\n",
    "        print(linac)\n",
    "        pivoted_cal = changes_df_gen_cal[changes_df_gen_cal[\"linac\"] == linac].pivot(index=\"date\", columns=[\"item\", \"part\", \"category\"], values=\"value\")\n",
    "        describing = pivoted_cal.describe()\n",
    "        show = pd.concat([show, describing])\n",
    "        pivoted_cal.hist(figsize=(25,13));\n",
    "    return show, gen_cal\n",
    "\n",
    "gen_cal = merged_df[merged_df[\"file_name\"] == \"Optics_Gen_Cal_Data\"]\n",
    "gen_cal[\"Part&item\"] = \"I:\"+ gen_cal[\"item\"].astype(str) + \" P:\"+ gen_cal[\"part\"].astype(str)\n",
    "\n",
    "show, gen_cal = determine_changes_analysis(gen_cal)\n",
    "\n",
    "show.round(2)\n",
    "   "
   ]
  },
  {
   "cell_type": "code",
   "execution_count": 12,
   "id": "eea4b8f1",
   "metadata": {},
   "outputs": [
    {
     "data": {
      "application/vnd.plotly.v1+json": {
       "config": {
        "plotlyServerURL": "https://plot.ly"
       },
       "data": [
        {
         "customdata": [
          [
           "I:2280 P:109.0",
           "Ref Refl 01"
          ],
          [
           "I:2280 P:109.0",
           "Ref Refl 01"
          ],
          [
           "I:2280 P:109.0",
           "Ref Refl 01"
          ],
          [
           "I:2280 P:109.0",
           "Ref Refl 01"
          ],
          [
           "I:2280 P:109.0",
           "Ref Refl 01"
          ],
          [
           "I:2280 P:109.0",
           "Ref Refl 01"
          ],
          [
           "I:2280 P:109.0",
           "Ref Refl 01"
          ],
          [
           "I:2280 P:109.0",
           "Ref Refl 01"
          ],
          [
           "I:2280 P:109.0",
           "Ref Refl 01"
          ],
          [
           "I:2280 P:109.0",
           "Ref Refl 01"
          ],
          [
           "I:2280 P:109.0",
           "Ref Refl 01"
          ],
          [
           "I:2280 P:109.0",
           "Ref Refl 01"
          ],
          [
           "I:2280 P:109.0",
           "Ref Refl 01"
          ],
          [
           "I:2280 P:109.0",
           "Ref Refl 01"
          ],
          [
           "I:2280 P:109.0",
           "Ref Refl 01"
          ]
         ],
         "hovertemplate": "linac=2638<br>date=%{x}<br>value=%{y}<br>Part&item=%{customdata[0]}<br>category=%{customdata[1]}<extra></extra>",
         "legendgroup": "2638",
         "line": {
          "color": "#636efa",
          "dash": "solid"
         },
         "marker": {
          "symbol": "circle"
         },
         "mode": "lines+markers",
         "name": "2638",
         "orientation": "v",
         "showlegend": true,
         "type": "scatter",
         "x": [
          "2025-05-21",
          "2025-04-09",
          "2025-02-26",
          "2025-02-24",
          "2025-02-12",
          "2025-01-29",
          "2025-01-08",
          "2024-12-18",
          "2024-08-14",
          "2024-06-26",
          "2024-06-19",
          "2024-05-01",
          "2024-03-13",
          "2024-01-31",
          "2023-12-13"
         ],
         "xaxis": "x",
         "y": {
          "bdata": "/wD+AP4A/gAAAQEB/gD9APwA/QDuAO4A7QDtAO4A",
          "dtype": "i2"
         },
         "yaxis": "y"
        },
        {
         "customdata": [
          [
           "I:2280 P:109.0",
           "Ref Refl 01"
          ],
          [
           "I:2280 P:109.0",
           "Ref Refl 01"
          ],
          [
           "I:2280 P:109.0",
           "Ref Refl 01"
          ],
          [
           "I:2280 P:109.0",
           "Ref Refl 01"
          ],
          [
           "I:2280 P:109.0",
           "Ref Refl 01"
          ],
          [
           "I:2280 P:109.0",
           "Ref Refl 01"
          ],
          [
           "I:2280 P:109.0",
           "Ref Refl 01"
          ],
          [
           "I:2280 P:109.0",
           "Ref Refl 01"
          ],
          [
           "I:2280 P:109.0",
           "Ref Refl 01"
          ],
          [
           "I:2280 P:109.0",
           "Ref Refl 01"
          ],
          [
           "I:2280 P:109.0",
           "Ref Refl 01"
          ],
          [
           "I:2280 P:109.0",
           "Ref Refl 01"
          ],
          [
           "I:2280 P:109.0",
           "Ref Refl 01"
          ],
          [
           "I:2280 P:109.0",
           "Ref Refl 01"
          ],
          [
           "I:2280 P:109.0",
           "Ref Refl 01"
          ],
          [
           "I:2280 P:109.0",
           "Ref Refl 01"
          ]
         ],
         "hovertemplate": "linac=2191<br>date=%{x}<br>value=%{y}<br>Part&item=%{customdata[0]}<br>category=%{customdata[1]}<extra></extra>",
         "legendgroup": "2191",
         "line": {
          "color": "#EF553B",
          "dash": "solid"
         },
         "marker": {
          "symbol": "circle"
         },
         "mode": "lines+markers",
         "name": "2191",
         "orientation": "v",
         "showlegend": true,
         "type": "scatter",
         "x": [
          "2025-04-23",
          "2025-03-12",
          "2025-02-12",
          "2025-01-08",
          "2024-11-26",
          "2024-11-06",
          "2024-09-25",
          "2024-09-11",
          "2024-07-24",
          "2024-07-03",
          "2024-06-19",
          "2024-05-01",
          "2024-03-20",
          "2024-02-07",
          "2023-12-27",
          "2023-12-13"
         ],
         "xaxis": "x",
         "y": {
          "bdata": "5gDlAOYA5QDlAOUA5gDjAOIA5ADlAOQA5QDjAOQA4gA=",
          "dtype": "i2"
         },
         "yaxis": "y"
        },
        {
         "customdata": [
          [
           "I:2280 P:109.0",
           "Ref Refl 01"
          ],
          [
           "I:2280 P:109.0",
           "Ref Refl 01"
          ],
          [
           "I:2280 P:109.0",
           "Ref Refl 01"
          ],
          [
           "I:2280 P:109.0",
           "Ref Refl 01"
          ],
          [
           "I:2280 P:109.0",
           "Ref Refl 01"
          ],
          [
           "I:2280 P:109.0",
           "Ref Refl 01"
          ],
          [
           "I:2280 P:109.0",
           "Ref Refl 01"
          ],
          [
           "I:2280 P:109.0",
           "Ref Refl 01"
          ],
          [
           "I:2280 P:109.0",
           "Ref Refl 01"
          ],
          [
           "I:2280 P:109.0",
           "Ref Refl 01"
          ],
          [
           "I:2280 P:109.0",
           "Ref Refl 01"
          ],
          [
           "I:2280 P:109.0",
           "Ref Refl 01"
          ],
          [
           "I:2280 P:109.0",
           "Ref Refl 01"
          ]
         ],
         "hovertemplate": "linac=2983<br>date=%{x}<br>value=%{y}<br>Part&item=%{customdata[0]}<br>category=%{customdata[1]}<extra></extra>",
         "legendgroup": "2983",
         "line": {
          "color": "#00cc96",
          "dash": "solid"
         },
         "marker": {
          "symbol": "circle"
         },
         "mode": "lines+markers",
         "name": "2983",
         "orientation": "v",
         "showlegend": true,
         "type": "scatter",
         "x": [
          "2025-02-19",
          "2025-01-15",
          "2024-11-27",
          "2024-10-09",
          "2024-09-25",
          "2024-09-11",
          "2024-07-24",
          "2024-06-12",
          "2024-06-05",
          "2024-04-24",
          "2024-03-13",
          "2024-03-06",
          "2024-02-21"
         ],
         "xaxis": "x",
         "y": {
          "bdata": "8wD1APAA8QDyAPIA9AD1APMA8QDyAPMA9QA=",
          "dtype": "i2"
         },
         "yaxis": "y"
        },
        {
         "customdata": [
          [
           "I:2280 P:109.0",
           "Ref Refl 01"
          ],
          [
           "I:2280 P:109.0",
           "Ref Refl 01"
          ],
          [
           "I:2280 P:109.0",
           "Ref Refl 01"
          ],
          [
           "I:2280 P:109.0",
           "Ref Refl 01"
          ],
          [
           "I:2280 P:109.0",
           "Ref Refl 01"
          ],
          [
           "I:2280 P:109.0",
           "Ref Refl 01"
          ],
          [
           "I:2280 P:109.0",
           "Ref Refl 01"
          ],
          [
           "I:2280 P:109.0",
           "Ref Refl 01"
          ]
         ],
         "hovertemplate": "linac=2325<br>date=%{x}<br>value=%{y}<br>Part&item=%{customdata[0]}<br>category=%{customdata[1]}<extra></extra>",
         "legendgroup": "2325",
         "line": {
          "color": "#ab63fa",
          "dash": "solid"
         },
         "marker": {
          "symbol": "circle"
         },
         "mode": "lines+markers",
         "name": "2325",
         "orientation": "v",
         "showlegend": true,
         "type": "scatter",
         "x": [
          "2024-05-01",
          "2024-04-24",
          "2024-03-20",
          "2024-01-31",
          "2023-12-20",
          "2023-11-15",
          "2023-10-11",
          "2023-09-13"
         ],
         "xaxis": "x",
         "y": {
          "bdata": "zADLAMsAywDKAOUA5QDmAA==",
          "dtype": "i2"
         },
         "yaxis": "y"
        }
       ],
       "layout": {
        "legend": {
         "title": {
          "text": "linac"
         },
         "tracegroupgap": 0
        },
        "margin": {
         "t": 60
        },
        "template": {
         "data": {
          "bar": [
           {
            "error_x": {
             "color": "#2a3f5f"
            },
            "error_y": {
             "color": "#2a3f5f"
            },
            "marker": {
             "line": {
              "color": "#E5ECF6",
              "width": 0.5
             },
             "pattern": {
              "fillmode": "overlay",
              "size": 10,
              "solidity": 0.2
             }
            },
            "type": "bar"
           }
          ],
          "barpolar": [
           {
            "marker": {
             "line": {
              "color": "#E5ECF6",
              "width": 0.5
             },
             "pattern": {
              "fillmode": "overlay",
              "size": 10,
              "solidity": 0.2
             }
            },
            "type": "barpolar"
           }
          ],
          "carpet": [
           {
            "aaxis": {
             "endlinecolor": "#2a3f5f",
             "gridcolor": "white",
             "linecolor": "white",
             "minorgridcolor": "white",
             "startlinecolor": "#2a3f5f"
            },
            "baxis": {
             "endlinecolor": "#2a3f5f",
             "gridcolor": "white",
             "linecolor": "white",
             "minorgridcolor": "white",
             "startlinecolor": "#2a3f5f"
            },
            "type": "carpet"
           }
          ],
          "choropleth": [
           {
            "colorbar": {
             "outlinewidth": 0,
             "ticks": ""
            },
            "type": "choropleth"
           }
          ],
          "contour": [
           {
            "colorbar": {
             "outlinewidth": 0,
             "ticks": ""
            },
            "colorscale": [
             [
              0,
              "#0d0887"
             ],
             [
              0.1111111111111111,
              "#46039f"
             ],
             [
              0.2222222222222222,
              "#7201a8"
             ],
             [
              0.3333333333333333,
              "#9c179e"
             ],
             [
              0.4444444444444444,
              "#bd3786"
             ],
             [
              0.5555555555555556,
              "#d8576b"
             ],
             [
              0.6666666666666666,
              "#ed7953"
             ],
             [
              0.7777777777777778,
              "#fb9f3a"
             ],
             [
              0.8888888888888888,
              "#fdca26"
             ],
             [
              1,
              "#f0f921"
             ]
            ],
            "type": "contour"
           }
          ],
          "contourcarpet": [
           {
            "colorbar": {
             "outlinewidth": 0,
             "ticks": ""
            },
            "type": "contourcarpet"
           }
          ],
          "heatmap": [
           {
            "colorbar": {
             "outlinewidth": 0,
             "ticks": ""
            },
            "colorscale": [
             [
              0,
              "#0d0887"
             ],
             [
              0.1111111111111111,
              "#46039f"
             ],
             [
              0.2222222222222222,
              "#7201a8"
             ],
             [
              0.3333333333333333,
              "#9c179e"
             ],
             [
              0.4444444444444444,
              "#bd3786"
             ],
             [
              0.5555555555555556,
              "#d8576b"
             ],
             [
              0.6666666666666666,
              "#ed7953"
             ],
             [
              0.7777777777777778,
              "#fb9f3a"
             ],
             [
              0.8888888888888888,
              "#fdca26"
             ],
             [
              1,
              "#f0f921"
             ]
            ],
            "type": "heatmap"
           }
          ],
          "histogram": [
           {
            "marker": {
             "pattern": {
              "fillmode": "overlay",
              "size": 10,
              "solidity": 0.2
             }
            },
            "type": "histogram"
           }
          ],
          "histogram2d": [
           {
            "colorbar": {
             "outlinewidth": 0,
             "ticks": ""
            },
            "colorscale": [
             [
              0,
              "#0d0887"
             ],
             [
              0.1111111111111111,
              "#46039f"
             ],
             [
              0.2222222222222222,
              "#7201a8"
             ],
             [
              0.3333333333333333,
              "#9c179e"
             ],
             [
              0.4444444444444444,
              "#bd3786"
             ],
             [
              0.5555555555555556,
              "#d8576b"
             ],
             [
              0.6666666666666666,
              "#ed7953"
             ],
             [
              0.7777777777777778,
              "#fb9f3a"
             ],
             [
              0.8888888888888888,
              "#fdca26"
             ],
             [
              1,
              "#f0f921"
             ]
            ],
            "type": "histogram2d"
           }
          ],
          "histogram2dcontour": [
           {
            "colorbar": {
             "outlinewidth": 0,
             "ticks": ""
            },
            "colorscale": [
             [
              0,
              "#0d0887"
             ],
             [
              0.1111111111111111,
              "#46039f"
             ],
             [
              0.2222222222222222,
              "#7201a8"
             ],
             [
              0.3333333333333333,
              "#9c179e"
             ],
             [
              0.4444444444444444,
              "#bd3786"
             ],
             [
              0.5555555555555556,
              "#d8576b"
             ],
             [
              0.6666666666666666,
              "#ed7953"
             ],
             [
              0.7777777777777778,
              "#fb9f3a"
             ],
             [
              0.8888888888888888,
              "#fdca26"
             ],
             [
              1,
              "#f0f921"
             ]
            ],
            "type": "histogram2dcontour"
           }
          ],
          "mesh3d": [
           {
            "colorbar": {
             "outlinewidth": 0,
             "ticks": ""
            },
            "type": "mesh3d"
           }
          ],
          "parcoords": [
           {
            "line": {
             "colorbar": {
              "outlinewidth": 0,
              "ticks": ""
             }
            },
            "type": "parcoords"
           }
          ],
          "pie": [
           {
            "automargin": true,
            "type": "pie"
           }
          ],
          "scatter": [
           {
            "fillpattern": {
             "fillmode": "overlay",
             "size": 10,
             "solidity": 0.2
            },
            "type": "scatter"
           }
          ],
          "scatter3d": [
           {
            "line": {
             "colorbar": {
              "outlinewidth": 0,
              "ticks": ""
             }
            },
            "marker": {
             "colorbar": {
              "outlinewidth": 0,
              "ticks": ""
             }
            },
            "type": "scatter3d"
           }
          ],
          "scattercarpet": [
           {
            "marker": {
             "colorbar": {
              "outlinewidth": 0,
              "ticks": ""
             }
            },
            "type": "scattercarpet"
           }
          ],
          "scattergeo": [
           {
            "marker": {
             "colorbar": {
              "outlinewidth": 0,
              "ticks": ""
             }
            },
            "type": "scattergeo"
           }
          ],
          "scattergl": [
           {
            "marker": {
             "colorbar": {
              "outlinewidth": 0,
              "ticks": ""
             }
            },
            "type": "scattergl"
           }
          ],
          "scattermap": [
           {
            "marker": {
             "colorbar": {
              "outlinewidth": 0,
              "ticks": ""
             }
            },
            "type": "scattermap"
           }
          ],
          "scattermapbox": [
           {
            "marker": {
             "colorbar": {
              "outlinewidth": 0,
              "ticks": ""
             }
            },
            "type": "scattermapbox"
           }
          ],
          "scatterpolar": [
           {
            "marker": {
             "colorbar": {
              "outlinewidth": 0,
              "ticks": ""
             }
            },
            "type": "scatterpolar"
           }
          ],
          "scatterpolargl": [
           {
            "marker": {
             "colorbar": {
              "outlinewidth": 0,
              "ticks": ""
             }
            },
            "type": "scatterpolargl"
           }
          ],
          "scatterternary": [
           {
            "marker": {
             "colorbar": {
              "outlinewidth": 0,
              "ticks": ""
             }
            },
            "type": "scatterternary"
           }
          ],
          "surface": [
           {
            "colorbar": {
             "outlinewidth": 0,
             "ticks": ""
            },
            "colorscale": [
             [
              0,
              "#0d0887"
             ],
             [
              0.1111111111111111,
              "#46039f"
             ],
             [
              0.2222222222222222,
              "#7201a8"
             ],
             [
              0.3333333333333333,
              "#9c179e"
             ],
             [
              0.4444444444444444,
              "#bd3786"
             ],
             [
              0.5555555555555556,
              "#d8576b"
             ],
             [
              0.6666666666666666,
              "#ed7953"
             ],
             [
              0.7777777777777778,
              "#fb9f3a"
             ],
             [
              0.8888888888888888,
              "#fdca26"
             ],
             [
              1,
              "#f0f921"
             ]
            ],
            "type": "surface"
           }
          ],
          "table": [
           {
            "cells": {
             "fill": {
              "color": "#EBF0F8"
             },
             "line": {
              "color": "white"
             }
            },
            "header": {
             "fill": {
              "color": "#C8D4E3"
             },
             "line": {
              "color": "white"
             }
            },
            "type": "table"
           }
          ]
         },
         "layout": {
          "annotationdefaults": {
           "arrowcolor": "#2a3f5f",
           "arrowhead": 0,
           "arrowwidth": 1
          },
          "autotypenumbers": "strict",
          "coloraxis": {
           "colorbar": {
            "outlinewidth": 0,
            "ticks": ""
           }
          },
          "colorscale": {
           "diverging": [
            [
             0,
             "#8e0152"
            ],
            [
             0.1,
             "#c51b7d"
            ],
            [
             0.2,
             "#de77ae"
            ],
            [
             0.3,
             "#f1b6da"
            ],
            [
             0.4,
             "#fde0ef"
            ],
            [
             0.5,
             "#f7f7f7"
            ],
            [
             0.6,
             "#e6f5d0"
            ],
            [
             0.7,
             "#b8e186"
            ],
            [
             0.8,
             "#7fbc41"
            ],
            [
             0.9,
             "#4d9221"
            ],
            [
             1,
             "#276419"
            ]
           ],
           "sequential": [
            [
             0,
             "#0d0887"
            ],
            [
             0.1111111111111111,
             "#46039f"
            ],
            [
             0.2222222222222222,
             "#7201a8"
            ],
            [
             0.3333333333333333,
             "#9c179e"
            ],
            [
             0.4444444444444444,
             "#bd3786"
            ],
            [
             0.5555555555555556,
             "#d8576b"
            ],
            [
             0.6666666666666666,
             "#ed7953"
            ],
            [
             0.7777777777777778,
             "#fb9f3a"
            ],
            [
             0.8888888888888888,
             "#fdca26"
            ],
            [
             1,
             "#f0f921"
            ]
           ],
           "sequentialminus": [
            [
             0,
             "#0d0887"
            ],
            [
             0.1111111111111111,
             "#46039f"
            ],
            [
             0.2222222222222222,
             "#7201a8"
            ],
            [
             0.3333333333333333,
             "#9c179e"
            ],
            [
             0.4444444444444444,
             "#bd3786"
            ],
            [
             0.5555555555555556,
             "#d8576b"
            ],
            [
             0.6666666666666666,
             "#ed7953"
            ],
            [
             0.7777777777777778,
             "#fb9f3a"
            ],
            [
             0.8888888888888888,
             "#fdca26"
            ],
            [
             1,
             "#f0f921"
            ]
           ]
          },
          "colorway": [
           "#636efa",
           "#EF553B",
           "#00cc96",
           "#ab63fa",
           "#FFA15A",
           "#19d3f3",
           "#FF6692",
           "#B6E880",
           "#FF97FF",
           "#FECB52"
          ],
          "font": {
           "color": "#2a3f5f"
          },
          "geo": {
           "bgcolor": "white",
           "lakecolor": "white",
           "landcolor": "#E5ECF6",
           "showlakes": true,
           "showland": true,
           "subunitcolor": "white"
          },
          "hoverlabel": {
           "align": "left"
          },
          "hovermode": "closest",
          "mapbox": {
           "style": "light"
          },
          "paper_bgcolor": "white",
          "plot_bgcolor": "#E5ECF6",
          "polar": {
           "angularaxis": {
            "gridcolor": "white",
            "linecolor": "white",
            "ticks": ""
           },
           "bgcolor": "#E5ECF6",
           "radialaxis": {
            "gridcolor": "white",
            "linecolor": "white",
            "ticks": ""
           }
          },
          "scene": {
           "xaxis": {
            "backgroundcolor": "#E5ECF6",
            "gridcolor": "white",
            "gridwidth": 2,
            "linecolor": "white",
            "showbackground": true,
            "ticks": "",
            "zerolinecolor": "white"
           },
           "yaxis": {
            "backgroundcolor": "#E5ECF6",
            "gridcolor": "white",
            "gridwidth": 2,
            "linecolor": "white",
            "showbackground": true,
            "ticks": "",
            "zerolinecolor": "white"
           },
           "zaxis": {
            "backgroundcolor": "#E5ECF6",
            "gridcolor": "white",
            "gridwidth": 2,
            "linecolor": "white",
            "showbackground": true,
            "ticks": "",
            "zerolinecolor": "white"
           }
          },
          "shapedefaults": {
           "line": {
            "color": "#2a3f5f"
           }
          },
          "ternary": {
           "aaxis": {
            "gridcolor": "white",
            "linecolor": "white",
            "ticks": ""
           },
           "baxis": {
            "gridcolor": "white",
            "linecolor": "white",
            "ticks": ""
           },
           "bgcolor": "#E5ECF6",
           "caxis": {
            "gridcolor": "white",
            "linecolor": "white",
            "ticks": ""
           }
          },
          "title": {
           "x": 0.05
          },
          "xaxis": {
           "automargin": true,
           "gridcolor": "white",
           "linecolor": "white",
           "ticks": "",
           "title": {
            "standoff": 15
           },
           "zerolinecolor": "white",
           "zerolinewidth": 2
          },
          "yaxis": {
           "automargin": true,
           "gridcolor": "white",
           "linecolor": "white",
           "ticks": "",
           "title": {
            "standoff": 15
           },
           "zerolinecolor": "white",
           "zerolinewidth": 2
          }
         }
        },
        "xaxis": {
         "anchor": "y",
         "domain": [
          0,
          1
         ],
         "title": {
          "text": "date"
         }
        },
        "yaxis": {
         "anchor": "x",
         "domain": [
          0,
          1
         ],
         "title": {
          "text": "value"
         }
        }
       }
      }
     },
     "metadata": {},
     "output_type": "display_data"
    },
    {
     "data": {
      "application/vnd.plotly.v1+json": {
       "config": {
        "plotlyServerURL": "https://plot.ly"
       },
       "data": [
        {
         "customdata": [
          [
           "I:2280 P:110.0",
           "Ref Refl 01"
          ],
          [
           "I:2280 P:110.0",
           "Ref Refl 01"
          ],
          [
           "I:2280 P:110.0",
           "Ref Refl 01"
          ],
          [
           "I:2280 P:110.0",
           "Ref Refl 01"
          ],
          [
           "I:2280 P:110.0",
           "Ref Refl 01"
          ],
          [
           "I:2280 P:110.0",
           "Ref Refl 01"
          ],
          [
           "I:2280 P:110.0",
           "Ref Refl 01"
          ],
          [
           "I:2280 P:110.0",
           "Ref Refl 01"
          ],
          [
           "I:2280 P:110.0",
           "Ref Refl 01"
          ],
          [
           "I:2280 P:110.0",
           "Ref Refl 01"
          ],
          [
           "I:2280 P:110.0",
           "Ref Refl 01"
          ],
          [
           "I:2280 P:110.0",
           "Ref Refl 01"
          ],
          [
           "I:2280 P:110.0",
           "Ref Refl 01"
          ],
          [
           "I:2280 P:110.0",
           "Ref Refl 01"
          ],
          [
           "I:2280 P:110.0",
           "Ref Refl 01"
          ]
         ],
         "hovertemplate": "linac=2638<br>date=%{x}<br>value=%{y}<br>Part&item=%{customdata[0]}<br>category=%{customdata[1]}<extra></extra>",
         "legendgroup": "2638",
         "line": {
          "color": "#636efa",
          "dash": "solid"
         },
         "marker": {
          "symbol": "circle"
         },
         "mode": "lines+markers",
         "name": "2638",
         "orientation": "v",
         "showlegend": true,
         "type": "scatter",
         "x": [
          "2025-05-21",
          "2025-04-09",
          "2025-02-26",
          "2025-02-24",
          "2025-02-12",
          "2025-01-29",
          "2025-01-08",
          "2024-12-18",
          "2024-08-14",
          "2024-06-26",
          "2024-06-19",
          "2024-05-01",
          "2024-03-13",
          "2024-01-31",
          "2023-12-13"
         ],
         "xaxis": "x",
         "y": {
          "bdata": "bAFtAW0BbQFsAWwBbQFtAW0BbQFnAWYBZwFnAWcB",
          "dtype": "i2"
         },
         "yaxis": "y"
        },
        {
         "customdata": [
          [
           "I:2280 P:110.0",
           "Ref Refl 01"
          ],
          [
           "I:2280 P:110.0",
           "Ref Refl 01"
          ],
          [
           "I:2280 P:110.0",
           "Ref Refl 01"
          ],
          [
           "I:2280 P:110.0",
           "Ref Refl 01"
          ],
          [
           "I:2280 P:110.0",
           "Ref Refl 01"
          ],
          [
           "I:2280 P:110.0",
           "Ref Refl 01"
          ],
          [
           "I:2280 P:110.0",
           "Ref Refl 01"
          ],
          [
           "I:2280 P:110.0",
           "Ref Refl 01"
          ],
          [
           "I:2280 P:110.0",
           "Ref Refl 01"
          ],
          [
           "I:2280 P:110.0",
           "Ref Refl 01"
          ],
          [
           "I:2280 P:110.0",
           "Ref Refl 01"
          ],
          [
           "I:2280 P:110.0",
           "Ref Refl 01"
          ],
          [
           "I:2280 P:110.0",
           "Ref Refl 01"
          ],
          [
           "I:2280 P:110.0",
           "Ref Refl 01"
          ],
          [
           "I:2280 P:110.0",
           "Ref Refl 01"
          ],
          [
           "I:2280 P:110.0",
           "Ref Refl 01"
          ]
         ],
         "hovertemplate": "linac=2191<br>date=%{x}<br>value=%{y}<br>Part&item=%{customdata[0]}<br>category=%{customdata[1]}<extra></extra>",
         "legendgroup": "2191",
         "line": {
          "color": "#EF553B",
          "dash": "solid"
         },
         "marker": {
          "symbol": "circle"
         },
         "mode": "lines+markers",
         "name": "2191",
         "orientation": "v",
         "showlegend": true,
         "type": "scatter",
         "x": [
          "2025-04-23",
          "2025-03-12",
          "2025-02-12",
          "2025-01-08",
          "2024-11-26",
          "2024-11-06",
          "2024-09-25",
          "2024-09-11",
          "2024-07-24",
          "2024-07-03",
          "2024-06-19",
          "2024-05-01",
          "2024-03-20",
          "2024-02-07",
          "2023-12-27",
          "2023-12-13"
         ],
         "xaxis": "x",
         "y": {
          "bdata": "fQF9AX0BfQF9AX0BfAFzAXMBdgF2AXYBdgF3AXcBeAE=",
          "dtype": "i2"
         },
         "yaxis": "y"
        },
        {
         "customdata": [
          [
           "I:2280 P:110.0",
           "Ref Refl 01"
          ],
          [
           "I:2280 P:110.0",
           "Ref Refl 01"
          ],
          [
           "I:2280 P:110.0",
           "Ref Refl 01"
          ],
          [
           "I:2280 P:110.0",
           "Ref Refl 01"
          ],
          [
           "I:2280 P:110.0",
           "Ref Refl 01"
          ],
          [
           "I:2280 P:110.0",
           "Ref Refl 01"
          ],
          [
           "I:2280 P:110.0",
           "Ref Refl 01"
          ],
          [
           "I:2280 P:110.0",
           "Ref Refl 01"
          ],
          [
           "I:2280 P:110.0",
           "Ref Refl 01"
          ],
          [
           "I:2280 P:110.0",
           "Ref Refl 01"
          ],
          [
           "I:2280 P:110.0",
           "Ref Refl 01"
          ],
          [
           "I:2280 P:110.0",
           "Ref Refl 01"
          ],
          [
           "I:2280 P:110.0",
           "Ref Refl 01"
          ]
         ],
         "hovertemplate": "linac=2983<br>date=%{x}<br>value=%{y}<br>Part&item=%{customdata[0]}<br>category=%{customdata[1]}<extra></extra>",
         "legendgroup": "2983",
         "line": {
          "color": "#00cc96",
          "dash": "solid"
         },
         "marker": {
          "symbol": "circle"
         },
         "mode": "lines+markers",
         "name": "2983",
         "orientation": "v",
         "showlegend": true,
         "type": "scatter",
         "x": [
          "2025-02-19",
          "2025-01-15",
          "2024-11-27",
          "2024-10-09",
          "2024-09-25",
          "2024-09-11",
          "2024-07-24",
          "2024-06-12",
          "2024-06-05",
          "2024-04-24",
          "2024-03-13",
          "2024-03-06",
          "2024-02-21"
         ],
         "xaxis": "x",
         "y": {
          "bdata": "ZQFlAWUBYwFiAWABYgFhAWEBYwFiAWABYgE=",
          "dtype": "i2"
         },
         "yaxis": "y"
        },
        {
         "customdata": [
          [
           "I:2280 P:110.0",
           "Ref Refl 01"
          ],
          [
           "I:2280 P:110.0",
           "Ref Refl 01"
          ],
          [
           "I:2280 P:110.0",
           "Ref Refl 01"
          ],
          [
           "I:2280 P:110.0",
           "Ref Refl 01"
          ],
          [
           "I:2280 P:110.0",
           "Ref Refl 01"
          ],
          [
           "I:2280 P:110.0",
           "Ref Refl 01"
          ],
          [
           "I:2280 P:110.0",
           "Ref Refl 01"
          ],
          [
           "I:2280 P:110.0",
           "Ref Refl 01"
          ]
         ],
         "hovertemplate": "linac=2325<br>date=%{x}<br>value=%{y}<br>Part&item=%{customdata[0]}<br>category=%{customdata[1]}<extra></extra>",
         "legendgroup": "2325",
         "line": {
          "color": "#ab63fa",
          "dash": "solid"
         },
         "marker": {
          "symbol": "circle"
         },
         "mode": "lines+markers",
         "name": "2325",
         "orientation": "v",
         "showlegend": true,
         "type": "scatter",
         "x": [
          "2024-05-01",
          "2024-04-24",
          "2024-03-20",
          "2024-01-31",
          "2023-12-20",
          "2023-11-15",
          "2023-10-11",
          "2023-09-13"
         ],
         "xaxis": "x",
         "y": {
          "bdata": "XQFdAV4BXQFfAV0BXAFeAQ==",
          "dtype": "i2"
         },
         "yaxis": "y"
        }
       ],
       "layout": {
        "legend": {
         "title": {
          "text": "linac"
         },
         "tracegroupgap": 0
        },
        "margin": {
         "t": 60
        },
        "template": {
         "data": {
          "bar": [
           {
            "error_x": {
             "color": "#2a3f5f"
            },
            "error_y": {
             "color": "#2a3f5f"
            },
            "marker": {
             "line": {
              "color": "#E5ECF6",
              "width": 0.5
             },
             "pattern": {
              "fillmode": "overlay",
              "size": 10,
              "solidity": 0.2
             }
            },
            "type": "bar"
           }
          ],
          "barpolar": [
           {
            "marker": {
             "line": {
              "color": "#E5ECF6",
              "width": 0.5
             },
             "pattern": {
              "fillmode": "overlay",
              "size": 10,
              "solidity": 0.2
             }
            },
            "type": "barpolar"
           }
          ],
          "carpet": [
           {
            "aaxis": {
             "endlinecolor": "#2a3f5f",
             "gridcolor": "white",
             "linecolor": "white",
             "minorgridcolor": "white",
             "startlinecolor": "#2a3f5f"
            },
            "baxis": {
             "endlinecolor": "#2a3f5f",
             "gridcolor": "white",
             "linecolor": "white",
             "minorgridcolor": "white",
             "startlinecolor": "#2a3f5f"
            },
            "type": "carpet"
           }
          ],
          "choropleth": [
           {
            "colorbar": {
             "outlinewidth": 0,
             "ticks": ""
            },
            "type": "choropleth"
           }
          ],
          "contour": [
           {
            "colorbar": {
             "outlinewidth": 0,
             "ticks": ""
            },
            "colorscale": [
             [
              0,
              "#0d0887"
             ],
             [
              0.1111111111111111,
              "#46039f"
             ],
             [
              0.2222222222222222,
              "#7201a8"
             ],
             [
              0.3333333333333333,
              "#9c179e"
             ],
             [
              0.4444444444444444,
              "#bd3786"
             ],
             [
              0.5555555555555556,
              "#d8576b"
             ],
             [
              0.6666666666666666,
              "#ed7953"
             ],
             [
              0.7777777777777778,
              "#fb9f3a"
             ],
             [
              0.8888888888888888,
              "#fdca26"
             ],
             [
              1,
              "#f0f921"
             ]
            ],
            "type": "contour"
           }
          ],
          "contourcarpet": [
           {
            "colorbar": {
             "outlinewidth": 0,
             "ticks": ""
            },
            "type": "contourcarpet"
           }
          ],
          "heatmap": [
           {
            "colorbar": {
             "outlinewidth": 0,
             "ticks": ""
            },
            "colorscale": [
             [
              0,
              "#0d0887"
             ],
             [
              0.1111111111111111,
              "#46039f"
             ],
             [
              0.2222222222222222,
              "#7201a8"
             ],
             [
              0.3333333333333333,
              "#9c179e"
             ],
             [
              0.4444444444444444,
              "#bd3786"
             ],
             [
              0.5555555555555556,
              "#d8576b"
             ],
             [
              0.6666666666666666,
              "#ed7953"
             ],
             [
              0.7777777777777778,
              "#fb9f3a"
             ],
             [
              0.8888888888888888,
              "#fdca26"
             ],
             [
              1,
              "#f0f921"
             ]
            ],
            "type": "heatmap"
           }
          ],
          "histogram": [
           {
            "marker": {
             "pattern": {
              "fillmode": "overlay",
              "size": 10,
              "solidity": 0.2
             }
            },
            "type": "histogram"
           }
          ],
          "histogram2d": [
           {
            "colorbar": {
             "outlinewidth": 0,
             "ticks": ""
            },
            "colorscale": [
             [
              0,
              "#0d0887"
             ],
             [
              0.1111111111111111,
              "#46039f"
             ],
             [
              0.2222222222222222,
              "#7201a8"
             ],
             [
              0.3333333333333333,
              "#9c179e"
             ],
             [
              0.4444444444444444,
              "#bd3786"
             ],
             [
              0.5555555555555556,
              "#d8576b"
             ],
             [
              0.6666666666666666,
              "#ed7953"
             ],
             [
              0.7777777777777778,
              "#fb9f3a"
             ],
             [
              0.8888888888888888,
              "#fdca26"
             ],
             [
              1,
              "#f0f921"
             ]
            ],
            "type": "histogram2d"
           }
          ],
          "histogram2dcontour": [
           {
            "colorbar": {
             "outlinewidth": 0,
             "ticks": ""
            },
            "colorscale": [
             [
              0,
              "#0d0887"
             ],
             [
              0.1111111111111111,
              "#46039f"
             ],
             [
              0.2222222222222222,
              "#7201a8"
             ],
             [
              0.3333333333333333,
              "#9c179e"
             ],
             [
              0.4444444444444444,
              "#bd3786"
             ],
             [
              0.5555555555555556,
              "#d8576b"
             ],
             [
              0.6666666666666666,
              "#ed7953"
             ],
             [
              0.7777777777777778,
              "#fb9f3a"
             ],
             [
              0.8888888888888888,
              "#fdca26"
             ],
             [
              1,
              "#f0f921"
             ]
            ],
            "type": "histogram2dcontour"
           }
          ],
          "mesh3d": [
           {
            "colorbar": {
             "outlinewidth": 0,
             "ticks": ""
            },
            "type": "mesh3d"
           }
          ],
          "parcoords": [
           {
            "line": {
             "colorbar": {
              "outlinewidth": 0,
              "ticks": ""
             }
            },
            "type": "parcoords"
           }
          ],
          "pie": [
           {
            "automargin": true,
            "type": "pie"
           }
          ],
          "scatter": [
           {
            "fillpattern": {
             "fillmode": "overlay",
             "size": 10,
             "solidity": 0.2
            },
            "type": "scatter"
           }
          ],
          "scatter3d": [
           {
            "line": {
             "colorbar": {
              "outlinewidth": 0,
              "ticks": ""
             }
            },
            "marker": {
             "colorbar": {
              "outlinewidth": 0,
              "ticks": ""
             }
            },
            "type": "scatter3d"
           }
          ],
          "scattercarpet": [
           {
            "marker": {
             "colorbar": {
              "outlinewidth": 0,
              "ticks": ""
             }
            },
            "type": "scattercarpet"
           }
          ],
          "scattergeo": [
           {
            "marker": {
             "colorbar": {
              "outlinewidth": 0,
              "ticks": ""
             }
            },
            "type": "scattergeo"
           }
          ],
          "scattergl": [
           {
            "marker": {
             "colorbar": {
              "outlinewidth": 0,
              "ticks": ""
             }
            },
            "type": "scattergl"
           }
          ],
          "scattermap": [
           {
            "marker": {
             "colorbar": {
              "outlinewidth": 0,
              "ticks": ""
             }
            },
            "type": "scattermap"
           }
          ],
          "scattermapbox": [
           {
            "marker": {
             "colorbar": {
              "outlinewidth": 0,
              "ticks": ""
             }
            },
            "type": "scattermapbox"
           }
          ],
          "scatterpolar": [
           {
            "marker": {
             "colorbar": {
              "outlinewidth": 0,
              "ticks": ""
             }
            },
            "type": "scatterpolar"
           }
          ],
          "scatterpolargl": [
           {
            "marker": {
             "colorbar": {
              "outlinewidth": 0,
              "ticks": ""
             }
            },
            "type": "scatterpolargl"
           }
          ],
          "scatterternary": [
           {
            "marker": {
             "colorbar": {
              "outlinewidth": 0,
              "ticks": ""
             }
            },
            "type": "scatterternary"
           }
          ],
          "surface": [
           {
            "colorbar": {
             "outlinewidth": 0,
             "ticks": ""
            },
            "colorscale": [
             [
              0,
              "#0d0887"
             ],
             [
              0.1111111111111111,
              "#46039f"
             ],
             [
              0.2222222222222222,
              "#7201a8"
             ],
             [
              0.3333333333333333,
              "#9c179e"
             ],
             [
              0.4444444444444444,
              "#bd3786"
             ],
             [
              0.5555555555555556,
              "#d8576b"
             ],
             [
              0.6666666666666666,
              "#ed7953"
             ],
             [
              0.7777777777777778,
              "#fb9f3a"
             ],
             [
              0.8888888888888888,
              "#fdca26"
             ],
             [
              1,
              "#f0f921"
             ]
            ],
            "type": "surface"
           }
          ],
          "table": [
           {
            "cells": {
             "fill": {
              "color": "#EBF0F8"
             },
             "line": {
              "color": "white"
             }
            },
            "header": {
             "fill": {
              "color": "#C8D4E3"
             },
             "line": {
              "color": "white"
             }
            },
            "type": "table"
           }
          ]
         },
         "layout": {
          "annotationdefaults": {
           "arrowcolor": "#2a3f5f",
           "arrowhead": 0,
           "arrowwidth": 1
          },
          "autotypenumbers": "strict",
          "coloraxis": {
           "colorbar": {
            "outlinewidth": 0,
            "ticks": ""
           }
          },
          "colorscale": {
           "diverging": [
            [
             0,
             "#8e0152"
            ],
            [
             0.1,
             "#c51b7d"
            ],
            [
             0.2,
             "#de77ae"
            ],
            [
             0.3,
             "#f1b6da"
            ],
            [
             0.4,
             "#fde0ef"
            ],
            [
             0.5,
             "#f7f7f7"
            ],
            [
             0.6,
             "#e6f5d0"
            ],
            [
             0.7,
             "#b8e186"
            ],
            [
             0.8,
             "#7fbc41"
            ],
            [
             0.9,
             "#4d9221"
            ],
            [
             1,
             "#276419"
            ]
           ],
           "sequential": [
            [
             0,
             "#0d0887"
            ],
            [
             0.1111111111111111,
             "#46039f"
            ],
            [
             0.2222222222222222,
             "#7201a8"
            ],
            [
             0.3333333333333333,
             "#9c179e"
            ],
            [
             0.4444444444444444,
             "#bd3786"
            ],
            [
             0.5555555555555556,
             "#d8576b"
            ],
            [
             0.6666666666666666,
             "#ed7953"
            ],
            [
             0.7777777777777778,
             "#fb9f3a"
            ],
            [
             0.8888888888888888,
             "#fdca26"
            ],
            [
             1,
             "#f0f921"
            ]
           ],
           "sequentialminus": [
            [
             0,
             "#0d0887"
            ],
            [
             0.1111111111111111,
             "#46039f"
            ],
            [
             0.2222222222222222,
             "#7201a8"
            ],
            [
             0.3333333333333333,
             "#9c179e"
            ],
            [
             0.4444444444444444,
             "#bd3786"
            ],
            [
             0.5555555555555556,
             "#d8576b"
            ],
            [
             0.6666666666666666,
             "#ed7953"
            ],
            [
             0.7777777777777778,
             "#fb9f3a"
            ],
            [
             0.8888888888888888,
             "#fdca26"
            ],
            [
             1,
             "#f0f921"
            ]
           ]
          },
          "colorway": [
           "#636efa",
           "#EF553B",
           "#00cc96",
           "#ab63fa",
           "#FFA15A",
           "#19d3f3",
           "#FF6692",
           "#B6E880",
           "#FF97FF",
           "#FECB52"
          ],
          "font": {
           "color": "#2a3f5f"
          },
          "geo": {
           "bgcolor": "white",
           "lakecolor": "white",
           "landcolor": "#E5ECF6",
           "showlakes": true,
           "showland": true,
           "subunitcolor": "white"
          },
          "hoverlabel": {
           "align": "left"
          },
          "hovermode": "closest",
          "mapbox": {
           "style": "light"
          },
          "paper_bgcolor": "white",
          "plot_bgcolor": "#E5ECF6",
          "polar": {
           "angularaxis": {
            "gridcolor": "white",
            "linecolor": "white",
            "ticks": ""
           },
           "bgcolor": "#E5ECF6",
           "radialaxis": {
            "gridcolor": "white",
            "linecolor": "white",
            "ticks": ""
           }
          },
          "scene": {
           "xaxis": {
            "backgroundcolor": "#E5ECF6",
            "gridcolor": "white",
            "gridwidth": 2,
            "linecolor": "white",
            "showbackground": true,
            "ticks": "",
            "zerolinecolor": "white"
           },
           "yaxis": {
            "backgroundcolor": "#E5ECF6",
            "gridcolor": "white",
            "gridwidth": 2,
            "linecolor": "white",
            "showbackground": true,
            "ticks": "",
            "zerolinecolor": "white"
           },
           "zaxis": {
            "backgroundcolor": "#E5ECF6",
            "gridcolor": "white",
            "gridwidth": 2,
            "linecolor": "white",
            "showbackground": true,
            "ticks": "",
            "zerolinecolor": "white"
           }
          },
          "shapedefaults": {
           "line": {
            "color": "#2a3f5f"
           }
          },
          "ternary": {
           "aaxis": {
            "gridcolor": "white",
            "linecolor": "white",
            "ticks": ""
           },
           "baxis": {
            "gridcolor": "white",
            "linecolor": "white",
            "ticks": ""
           },
           "bgcolor": "#E5ECF6",
           "caxis": {
            "gridcolor": "white",
            "linecolor": "white",
            "ticks": ""
           }
          },
          "title": {
           "x": 0.05
          },
          "xaxis": {
           "automargin": true,
           "gridcolor": "white",
           "linecolor": "white",
           "ticks": "",
           "title": {
            "standoff": 15
           },
           "zerolinecolor": "white",
           "zerolinewidth": 2
          },
          "yaxis": {
           "automargin": true,
           "gridcolor": "white",
           "linecolor": "white",
           "ticks": "",
           "title": {
            "standoff": 15
           },
           "zerolinecolor": "white",
           "zerolinewidth": 2
          }
         }
        },
        "xaxis": {
         "anchor": "y",
         "domain": [
          0,
          1
         ],
         "title": {
          "text": "date"
         }
        },
        "yaxis": {
         "anchor": "x",
         "domain": [
          0,
          1
         ],
         "title": {
          "text": "value"
         }
        }
       }
      }
     },
     "metadata": {},
     "output_type": "display_data"
    }
   ],
   "source": [
    "for x in range(len(show.columns)):  \n",
    "    p_I = show.columns[x][:2]\n",
    "\n",
    "\n",
    "    fig = px.line(gen_cal[gen_cal[\"Part&item\"] == f\"I:{p_I[0]} P:{p_I[1]}\"], x=\"date\", y =\"value\", color=\"linac\", hover_data=[\"Part&item\", \"category\"],markers=True)\n",
    "    fig.show()"
   ]
  },
  {
   "cell_type": "markdown",
   "id": "65549429",
   "metadata": {},
   "source": [
    "# Optics_Dist_Y2_01_To_40\n",
    "398:\n",
    "399:\n",
    "400:\n",
    "401: Constant term in optics distortion polynomial."
   ]
  },
  {
   "cell_type": "code",
   "execution_count": 13,
   "id": "1ad9d790",
   "metadata": {},
   "outputs": [
    {
     "name": "stderr",
     "output_type": "stream",
     "text": [
      "C:\\Users\\Laris\\AppData\\Local\\Temp\\ipykernel_4464\\1325619946.py:2: SettingWithCopyWarning:\n",
      "\n",
      "\n",
      "A value is trying to be set on a copy of a slice from a DataFrame.\n",
      "Try using .loc[row_indexer,col_indexer] = value instead\n",
      "\n",
      "See the caveats in the documentation: https://pandas.pydata.org/pandas-docs/stable/user_guide/indexing.html#returning-a-view-versus-a-copy\n",
      "\n"
     ]
    },
    {
     "name": "stdout",
     "output_type": "stream",
     "text": [
      "2983\n",
      "2325\n",
      "2638\n",
      "2191\n"
     ]
    },
    {
     "data": {
      "text/html": [
       "<div>\n",
       "<style scoped>\n",
       "    .dataframe tbody tr th:only-of-type {\n",
       "        vertical-align: middle;\n",
       "    }\n",
       "\n",
       "    .dataframe tbody tr th {\n",
       "        vertical-align: top;\n",
       "    }\n",
       "\n",
       "    .dataframe thead tr th {\n",
       "        text-align: left;\n",
       "    }\n",
       "</style>\n",
       "<table border=\"1\" class=\"dataframe\">\n",
       "  <thead>\n",
       "    <tr>\n",
       "      <th>item</th>\n",
       "      <th colspan=\"4\" halign=\"left\">2380</th>\n",
       "    </tr>\n",
       "    <tr>\n",
       "      <th>part</th>\n",
       "      <th>398.0</th>\n",
       "      <th>399.0</th>\n",
       "      <th>400.0</th>\n",
       "      <th>401.0</th>\n",
       "    </tr>\n",
       "    <tr>\n",
       "      <th>category</th>\n",
       "      <th>Leaf Y2 1</th>\n",
       "      <th>Leaf Y2 1</th>\n",
       "      <th>Leaf Y2 1</th>\n",
       "      <th>Leaf Y2 1</th>\n",
       "    </tr>\n",
       "  </thead>\n",
       "  <tbody>\n",
       "    <tr>\n",
       "      <th>count</th>\n",
       "      <td>13.00</td>\n",
       "      <td>1.300000e+01</td>\n",
       "      <td>13.00</td>\n",
       "      <td>13.00</td>\n",
       "    </tr>\n",
       "    <tr>\n",
       "      <th>mean</th>\n",
       "      <td>8939095.00</td>\n",
       "      <td>-1.885018e+07</td>\n",
       "      <td>-2340527.62</td>\n",
       "      <td>32.00</td>\n",
       "    </tr>\n",
       "    <tr>\n",
       "      <th>std</th>\n",
       "      <td>726697.15</td>\n",
       "      <td>3.346114e+06</td>\n",
       "      <td>451490.36</td>\n",
       "      <td>13.22</td>\n",
       "    </tr>\n",
       "    <tr>\n",
       "      <th>min</th>\n",
       "      <td>8044889.00</td>\n",
       "      <td>-2.612176e+07</td>\n",
       "      <td>-2949480.00</td>\n",
       "      <td>7.00</td>\n",
       "    </tr>\n",
       "    <tr>\n",
       "      <th>25%</th>\n",
       "      <td>8348095.00</td>\n",
       "      <td>-2.052408e+07</td>\n",
       "      <td>-2739133.00</td>\n",
       "      <td>24.00</td>\n",
       "    </tr>\n",
       "    <tr>\n",
       "      <th>50%</th>\n",
       "      <td>8858500.00</td>\n",
       "      <td>-1.895208e+07</td>\n",
       "      <td>-2373371.00</td>\n",
       "      <td>34.00</td>\n",
       "    </tr>\n",
       "    <tr>\n",
       "      <th>75%</th>\n",
       "      <td>9364320.00</td>\n",
       "      <td>-1.820070e+07</td>\n",
       "      <td>-1991470.00</td>\n",
       "      <td>38.00</td>\n",
       "    </tr>\n",
       "    <tr>\n",
       "      <th>max</th>\n",
       "      <td>10507981.00</td>\n",
       "      <td>-1.232828e+07</td>\n",
       "      <td>-1695660.00</td>\n",
       "      <td>51.00</td>\n",
       "    </tr>\n",
       "    <tr>\n",
       "      <th>count</th>\n",
       "      <td>8.00</td>\n",
       "      <td>8.000000e+00</td>\n",
       "      <td>8.00</td>\n",
       "      <td>8.00</td>\n",
       "    </tr>\n",
       "    <tr>\n",
       "      <th>mean</th>\n",
       "      <td>-963323.00</td>\n",
       "      <td>6.762104e+07</td>\n",
       "      <td>-1995520.62</td>\n",
       "      <td>4.88</td>\n",
       "    </tr>\n",
       "    <tr>\n",
       "      <th>std</th>\n",
       "      <td>564046.00</td>\n",
       "      <td>3.290474e+06</td>\n",
       "      <td>459198.58</td>\n",
       "      <td>8.92</td>\n",
       "    </tr>\n",
       "    <tr>\n",
       "      <th>min</th>\n",
       "      <td>-2006749.00</td>\n",
       "      <td>6.328266e+07</td>\n",
       "      <td>-2729689.00</td>\n",
       "      <td>-7.00</td>\n",
       "    </tr>\n",
       "    <tr>\n",
       "      <th>25%</th>\n",
       "      <td>-1348369.50</td>\n",
       "      <td>6.525808e+07</td>\n",
       "      <td>-2297292.25</td>\n",
       "      <td>-1.50</td>\n",
       "    </tr>\n",
       "    <tr>\n",
       "      <th>50%</th>\n",
       "      <td>-768777.50</td>\n",
       "      <td>6.797062e+07</td>\n",
       "      <td>-1960505.50</td>\n",
       "      <td>5.00</td>\n",
       "    </tr>\n",
       "    <tr>\n",
       "      <th>75%</th>\n",
       "      <td>-541421.75</td>\n",
       "      <td>6.978898e+07</td>\n",
       "      <td>-1651342.25</td>\n",
       "      <td>11.50</td>\n",
       "    </tr>\n",
       "    <tr>\n",
       "      <th>max</th>\n",
       "      <td>-422729.00</td>\n",
       "      <td>7.198558e+07</td>\n",
       "      <td>-1454489.00</td>\n",
       "      <td>16.00</td>\n",
       "    </tr>\n",
       "    <tr>\n",
       "      <th>count</th>\n",
       "      <td>15.00</td>\n",
       "      <td>1.500000e+01</td>\n",
       "      <td>15.00</td>\n",
       "      <td>15.00</td>\n",
       "    </tr>\n",
       "    <tr>\n",
       "      <th>mean</th>\n",
       "      <td>2558585.33</td>\n",
       "      <td>3.280033e+07</td>\n",
       "      <td>-4056841.53</td>\n",
       "      <td>9.33</td>\n",
       "    </tr>\n",
       "    <tr>\n",
       "      <th>std</th>\n",
       "      <td>5622412.89</td>\n",
       "      <td>2.344389e+07</td>\n",
       "      <td>823352.33</td>\n",
       "      <td>13.54</td>\n",
       "    </tr>\n",
       "    <tr>\n",
       "      <th>min</th>\n",
       "      <td>-2099075.00</td>\n",
       "      <td>-1.237584e+06</td>\n",
       "      <td>-5799435.00</td>\n",
       "      <td>-10.00</td>\n",
       "    </tr>\n",
       "    <tr>\n",
       "      <th>25%</th>\n",
       "      <td>-1514308.50</td>\n",
       "      <td>3.573845e+06</td>\n",
       "      <td>-4504733.50</td>\n",
       "      <td>-2.00</td>\n",
       "    </tr>\n",
       "    <tr>\n",
       "      <th>50%</th>\n",
       "      <td>-1053699.00</td>\n",
       "      <td>4.604222e+07</td>\n",
       "      <td>-3887471.00</td>\n",
       "      <td>9.00</td>\n",
       "    </tr>\n",
       "    <tr>\n",
       "      <th>75%</th>\n",
       "      <td>9351805.50</td>\n",
       "      <td>4.947426e+07</td>\n",
       "      <td>-3634000.50</td>\n",
       "      <td>16.00</td>\n",
       "    </tr>\n",
       "    <tr>\n",
       "      <th>max</th>\n",
       "      <td>11395423.00</td>\n",
       "      <td>5.293555e+07</td>\n",
       "      <td>-2542449.00</td>\n",
       "      <td>32.00</td>\n",
       "    </tr>\n",
       "    <tr>\n",
       "      <th>count</th>\n",
       "      <td>16.00</td>\n",
       "      <td>1.600000e+01</td>\n",
       "      <td>16.00</td>\n",
       "      <td>16.00</td>\n",
       "    </tr>\n",
       "    <tr>\n",
       "      <th>mean</th>\n",
       "      <td>20624299.06</td>\n",
       "      <td>-9.619266e+07</td>\n",
       "      <td>-6607733.19</td>\n",
       "      <td>-44.50</td>\n",
       "    </tr>\n",
       "    <tr>\n",
       "      <th>std</th>\n",
       "      <td>9554116.08</td>\n",
       "      <td>6.498374e+07</td>\n",
       "      <td>2778918.16</td>\n",
       "      <td>44.46</td>\n",
       "    </tr>\n",
       "    <tr>\n",
       "      <th>min</th>\n",
       "      <td>9468558.00</td>\n",
       "      <td>-1.548632e+08</td>\n",
       "      <td>-10160360.00</td>\n",
       "      <td>-97.00</td>\n",
       "    </tr>\n",
       "    <tr>\n",
       "      <th>25%</th>\n",
       "      <td>10223749.00</td>\n",
       "      <td>-1.525614e+08</td>\n",
       "      <td>-9095001.25</td>\n",
       "      <td>-84.75</td>\n",
       "    </tr>\n",
       "    <tr>\n",
       "      <th>50%</th>\n",
       "      <td>27669518.50</td>\n",
       "      <td>-1.475644e+08</td>\n",
       "      <td>-7972816.00</td>\n",
       "      <td>-59.00</td>\n",
       "    </tr>\n",
       "    <tr>\n",
       "      <th>75%</th>\n",
       "      <td>28922695.00</td>\n",
       "      <td>-2.437975e+07</td>\n",
       "      <td>-3677925.00</td>\n",
       "      <td>0.50</td>\n",
       "    </tr>\n",
       "    <tr>\n",
       "      <th>max</th>\n",
       "      <td>29440849.00</td>\n",
       "      <td>-2.239880e+07</td>\n",
       "      <td>-3213109.00</td>\n",
       "      <td>15.00</td>\n",
       "    </tr>\n",
       "  </tbody>\n",
       "</table>\n",
       "</div>"
      ],
      "text/plain": [
       "item             2380                                     \n",
       "part            398.0         399.0        400.0     401.0\n",
       "category    Leaf Y2 1     Leaf Y2 1    Leaf Y2 1 Leaf Y2 1\n",
       "count           13.00  1.300000e+01        13.00     13.00\n",
       "mean       8939095.00 -1.885018e+07  -2340527.62     32.00\n",
       "std         726697.15  3.346114e+06    451490.36     13.22\n",
       "min        8044889.00 -2.612176e+07  -2949480.00      7.00\n",
       "25%        8348095.00 -2.052408e+07  -2739133.00     24.00\n",
       "50%        8858500.00 -1.895208e+07  -2373371.00     34.00\n",
       "75%        9364320.00 -1.820070e+07  -1991470.00     38.00\n",
       "max       10507981.00 -1.232828e+07  -1695660.00     51.00\n",
       "count            8.00  8.000000e+00         8.00      8.00\n",
       "mean       -963323.00  6.762104e+07  -1995520.62      4.88\n",
       "std         564046.00  3.290474e+06    459198.58      8.92\n",
       "min       -2006749.00  6.328266e+07  -2729689.00     -7.00\n",
       "25%       -1348369.50  6.525808e+07  -2297292.25     -1.50\n",
       "50%        -768777.50  6.797062e+07  -1960505.50      5.00\n",
       "75%        -541421.75  6.978898e+07  -1651342.25     11.50\n",
       "max        -422729.00  7.198558e+07  -1454489.00     16.00\n",
       "count           15.00  1.500000e+01        15.00     15.00\n",
       "mean       2558585.33  3.280033e+07  -4056841.53      9.33\n",
       "std        5622412.89  2.344389e+07    823352.33     13.54\n",
       "min       -2099075.00 -1.237584e+06  -5799435.00    -10.00\n",
       "25%       -1514308.50  3.573845e+06  -4504733.50     -2.00\n",
       "50%       -1053699.00  4.604222e+07  -3887471.00      9.00\n",
       "75%        9351805.50  4.947426e+07  -3634000.50     16.00\n",
       "max       11395423.00  5.293555e+07  -2542449.00     32.00\n",
       "count           16.00  1.600000e+01        16.00     16.00\n",
       "mean      20624299.06 -9.619266e+07  -6607733.19    -44.50\n",
       "std        9554116.08  6.498374e+07   2778918.16     44.46\n",
       "min        9468558.00 -1.548632e+08 -10160360.00    -97.00\n",
       "25%       10223749.00 -1.525614e+08  -9095001.25    -84.75\n",
       "50%       27669518.50 -1.475644e+08  -7972816.00    -59.00\n",
       "75%       28922695.00 -2.437975e+07  -3677925.00      0.50\n",
       "max       29440849.00 -2.239880e+07  -3213109.00     15.00"
      ]
     },
     "execution_count": 13,
     "metadata": {},
     "output_type": "execute_result"
    },
    {
     "data": {
      "image/png": "[encoded data removed]",
      "text/plain": [
       "<Figure size 2500x1300 with 4 Axes>"
      ]
     },
     "metadata": {},
     "output_type": "display_data"
    },
    {
     "data": {
      "image/png": "[encoded data removed]",
      "text/plain": [
       "<Figure size 2500x1300 with 4 Axes>"
      ]
     },
     "metadata": {},
     "output_type": "display_data"
    },
    {
     "data": {
      "image/png": "[encoded data removed]",
      "text/plain": [
       "<Figure size 2500x1300 with 4 Axes>"
      ]
     },
     "metadata": {},
     "output_type": "display_data"
    },
    {
     "data": {
      "image/png": "[encoded data removed]",
      "text/plain": [
       "<Figure size 2500x1300 with 4 Axes>"
      ]
     },
     "metadata": {},
     "output_type": "display_data"
    }
   ],
   "source": [
    "gen_cal = merged_df[merged_df[\"file_name\"] == \"Optics_Dist_Y2_01_To_40\"]\n",
    "gen_cal[\"Part&item\"] = \"I:\"+ gen_cal[\"item\"].astype(str) + \" P:\"+ gen_cal[\"part\"].astype(str)\n",
    "\n",
    "show, optics_y2 = determine_changes_analysis(gen_cal)\n",
    "\n",
    "show.round(2)"
   ]
  },
  {
   "cell_type": "code",
   "execution_count": 14,
   "id": "a099fe58",
   "metadata": {},
   "outputs": [
    {
     "data": {
      "application/vnd.plotly.v1+json": {
       "config": {
        "plotlyServerURL": "https://plot.ly"
       },
       "data": [
        {
         "customdata": [
          [
           "I:2380 P:398.0",
           "Leaf Y2 1"
          ],
          [
           "I:2380 P:398.0",
           "Leaf Y2 1"
          ],
          [
           "I:2380 P:398.0",
           "Leaf Y2 1"
          ],
          [
           "I:2380 P:398.0",
           "Leaf Y2 1"
          ],
          [
           "I:2380 P:398.0",
           "Leaf Y2 1"
          ],
          [
           "I:2380 P:398.0",
           "Leaf Y2 1"
          ],
          [
           "I:2380 P:398.0",
           "Leaf Y2 1"
          ],
          [
           "I:2380 P:398.0",
           "Leaf Y2 1"
          ],
          [
           "I:2380 P:398.0",
           "Leaf Y2 1"
          ],
          [
           "I:2380 P:398.0",
           "Leaf Y2 1"
          ],
          [
           "I:2380 P:398.0",
           "Leaf Y2 1"
          ],
          [
           "I:2380 P:398.0",
           "Leaf Y2 1"
          ],
          [
           "I:2380 P:398.0",
           "Leaf Y2 1"
          ],
          [
           "I:2380 P:398.0",
           "Leaf Y2 1"
          ],
          [
           "I:2380 P:398.0",
           "Leaf Y2 1"
          ]
         ],
         "hovertemplate": "linac=2638<br>date=%{x}<br>value=%{y}<br>Part&item=%{customdata[0]}<br>category=%{customdata[1]}<extra></extra>",
         "legendgroup": "2638",
         "line": {
          "color": "#636efa",
          "dash": "solid"
         },
         "marker": {
          "symbol": "circle"
         },
         "mode": "lines+markers",
         "name": "2638",
         "orientation": "v",
         "showlegend": true,
         "type": "scatter",
         "x": [
          "2025-05-21",
          "2025-04-09",
          "2025-02-26",
          "2025-02-24",
          "2025-02-12",
          "2025-01-29",
          "2025-01-08",
          "2024-12-18",
          "2024-08-14",
          "2024-06-26",
          "2024-06-19",
          "2024-05-01",
          "2024-03-13",
          "2024-01-31",
          "2023-12-13"
         ],
         "xaxis": "x",
         "y": {
          "bdata": "/evv/wet+//sPeD/wc4EADCc6/9V4+f/ffjf/3C/7P8i5un/E13n/+YunABf4a0AhAegANo0lwAhMIYA",
          "dtype": "i4"
         },
         "yaxis": "y"
        },
        {
         "customdata": [
          [
           "I:2380 P:398.0",
           "Leaf Y2 1"
          ],
          [
           "I:2380 P:398.0",
           "Leaf Y2 1"
          ],
          [
           "I:2380 P:398.0",
           "Leaf Y2 1"
          ],
          [
           "I:2380 P:398.0",
           "Leaf Y2 1"
          ],
          [
           "I:2380 P:398.0",
           "Leaf Y2 1"
          ],
          [
           "I:2380 P:398.0",
           "Leaf Y2 1"
          ],
          [
           "I:2380 P:398.0",
           "Leaf Y2 1"
          ],
          [
           "I:2380 P:398.0",
           "Leaf Y2 1"
          ],
          [
           "I:2380 P:398.0",
           "Leaf Y2 1"
          ],
          [
           "I:2380 P:398.0",
           "Leaf Y2 1"
          ],
          [
           "I:2380 P:398.0",
           "Leaf Y2 1"
          ],
          [
           "I:2380 P:398.0",
           "Leaf Y2 1"
          ],
          [
           "I:2380 P:398.0",
           "Leaf Y2 1"
          ],
          [
           "I:2380 P:398.0",
           "Leaf Y2 1"
          ],
          [
           "I:2380 P:398.0",
           "Leaf Y2 1"
          ],
          [
           "I:2380 P:398.0",
           "Leaf Y2 1"
          ]
         ],
         "hovertemplate": "linac=2191<br>date=%{x}<br>value=%{y}<br>Part&item=%{customdata[0]}<br>category=%{customdata[1]}<extra></extra>",
         "legendgroup": "2191",
         "line": {
          "color": "#EF553B",
          "dash": "solid"
         },
         "marker": {
          "symbol": "circle"
         },
         "mode": "lines+markers",
         "name": "2191",
         "orientation": "v",
         "showlegend": true,
         "type": "scatter",
         "x": [
          "2025-04-23",
          "2025-03-12",
          "2025-02-12",
          "2025-01-08",
          "2024-11-26",
          "2024-11-06",
          "2024-09-25",
          "2024-09-11",
          "2024-07-24",
          "2024-07-03",
          "2024-06-19",
          "2024-05-01",
          "2024-03-20",
          "2024-02-07",
          "2023-12-27",
          "2023-12-13"
         ],
         "xaxis": "x",
         "y": {
          "bdata": "P7icAFfZmQCf2qMA5F2VAI56kAANZ6sAiW2RACwBwAF6478BUTvBAfkzpgHWlrcBovuzARojuAHO47wBJDSmAQ==",
          "dtype": "i4"
         },
         "yaxis": "y"
        },
        {
         "customdata": [
          [
           "I:2380 P:398.0",
           "Leaf Y2 1"
          ],
          [
           "I:2380 P:398.0",
           "Leaf Y2 1"
          ],
          [
           "I:2380 P:398.0",
           "Leaf Y2 1"
          ],
          [
           "I:2380 P:398.0",
           "Leaf Y2 1"
          ],
          [
           "I:2380 P:398.0",
           "Leaf Y2 1"
          ],
          [
           "I:2380 P:398.0",
           "Leaf Y2 1"
          ],
          [
           "I:2380 P:398.0",
           "Leaf Y2 1"
          ],
          [
           "I:2380 P:398.0",
           "Leaf Y2 1"
          ],
          [
           "I:2380 P:398.0",
           "Leaf Y2 1"
          ],
          [
           "I:2380 P:398.0",
           "Leaf Y2 1"
          ],
          [
           "I:2380 P:398.0",
           "Leaf Y2 1"
          ],
          [
           "I:2380 P:398.0",
           "Leaf Y2 1"
          ],
          [
           "I:2380 P:398.0",
           "Leaf Y2 1"
          ]
         ],
         "hovertemplate": "linac=2983<br>date=%{x}<br>value=%{y}<br>Part&item=%{customdata[0]}<br>category=%{customdata[1]}<extra></extra>",
         "legendgroup": "2983",
         "line": {
          "color": "#00cc96",
          "dash": "solid"
         },
         "marker": {
          "symbol": "circle"
         },
         "mode": "lines+markers",
         "name": "2983",
         "orientation": "v",
         "showlegend": true,
         "type": "scatter",
         "x": [
          "2025-02-19",
          "2025-01-15",
          "2024-11-27",
          "2024-10-09",
          "2024-09-25",
          "2024-09-11",
          "2024-07-24",
          "2024-06-12",
          "2024-06-05",
          "2024-04-24",
          "2024-03-13",
          "2024-03-06",
          "2024-02-21"
         ],
         "xaxis": "x",
         "y": {
          "bdata": "WcF6AIRQkADDvIQA9IB9AL9hfwDZ+owAkW2JAN3hfQDNVqAARrN/AGDjjgDaHZYAhCuHAA==",
          "dtype": "i4"
         },
         "yaxis": "y"
        },
        {
         "customdata": [
          [
           "I:2380 P:398.0",
           "Leaf Y2 1"
          ],
          [
           "I:2380 P:398.0",
           "Leaf Y2 1"
          ],
          [
           "I:2380 P:398.0",
           "Leaf Y2 1"
          ],
          [
           "I:2380 P:398.0",
           "Leaf Y2 1"
          ],
          [
           "I:2380 P:398.0",
           "Leaf Y2 1"
          ],
          [
           "I:2380 P:398.0",
           "Leaf Y2 1"
          ],
          [
           "I:2380 P:398.0",
           "Leaf Y2 1"
          ],
          [
           "I:2380 P:398.0",
           "Leaf Y2 1"
          ]
         ],
         "hovertemplate": "linac=2325<br>date=%{x}<br>value=%{y}<br>Part&item=%{customdata[0]}<br>category=%{customdata[1]}<extra></extra>",
         "legendgroup": "2325",
         "line": {
          "color": "#ab63fa",
          "dash": "solid"
         },
         "marker": {
          "symbol": "circle"
         },
         "mode": "lines+markers",
         "name": "2325",
         "orientation": "v",
         "showlegend": true,
         "type": "scatter",
         "x": [
          "2024-05-01",
          "2024-04-24",
          "2024-03-20",
          "2024-01-31",
          "2023-12-20",
          "2023-11-15",
          "2023-10-11",
          "2023-09-13"
         ],
         "xaxis": "x",
         "y": {
          "bdata": "L17r/2G2+P88TvH/+Gn3/7E79/+3jPn/2XHr/yNh4f8=",
          "dtype": "i4"
         },
         "yaxis": "y"
        }
       ],
       "layout": {
        "legend": {
         "title": {
          "text": "linac"
         },
         "tracegroupgap": 0
        },
        "margin": {
         "t": 60
        },
        "template": {
         "data": {
          "bar": [
           {
            "error_x": {
             "color": "#2a3f5f"
            },
            "error_y": {
             "color": "#2a3f5f"
            },
            "marker": {
             "line": {
              "color": "#E5ECF6",
              "width": 0.5
             },
             "pattern": {
              "fillmode": "overlay",
              "size": 10,
              "solidity": 0.2
             }
            },
            "type": "bar"
           }
          ],
          "barpolar": [
           {
            "marker": {
             "line": {
              "color": "#E5ECF6",
              "width": 0.5
             },
             "pattern": {
              "fillmode": "overlay",
              "size": 10,
              "solidity": 0.2
             }
            },
            "type": "barpolar"
           }
          ],
          "carpet": [
           {
            "aaxis": {
             "endlinecolor": "#2a3f5f",
             "gridcolor": "white",
             "linecolor": "white",
             "minorgridcolor": "white",
             "startlinecolor": "#2a3f5f"
            },
            "baxis": {
             "endlinecolor": "#2a3f5f",
             "gridcolor": "white",
             "linecolor": "white",
             "minorgridcolor": "white",
             "startlinecolor": "#2a3f5f"
            },
            "type": "carpet"
           }
          ],
          "choropleth": [
           {
            "colorbar": {
             "outlinewidth": 0,
             "ticks": ""
            },
            "type": "choropleth"
           }
          ],
          "contour": [
           {
            "colorbar": {
             "outlinewidth": 0,
             "ticks": ""
            },
            "colorscale": [
             [
              0,
              "#0d0887"
             ],
             [
              0.1111111111111111,
              "#46039f"
             ],
             [
              0.2222222222222222,
              "#7201a8"
             ],
             [
              0.3333333333333333,
              "#9c179e"
             ],
             [
              0.4444444444444444,
              "#bd3786"
             ],
             [
              0.5555555555555556,
              "#d8576b"
             ],
             [
              0.6666666666666666,
              "#ed7953"
             ],
             [
              0.7777777777777778,
              "#fb9f3a"
             ],
             [
              0.8888888888888888,
              "#fdca26"
             ],
             [
              1,
              "#f0f921"
             ]
            ],
            "type": "contour"
           }
          ],
          "contourcarpet": [
           {
            "colorbar": {
             "outlinewidth": 0,
             "ticks": ""
            },
            "type": "contourcarpet"
           }
          ],
          "heatmap": [
           {
            "colorbar": {
             "outlinewidth": 0,
             "ticks": ""
            },
            "colorscale": [
             [
              0,
              "#0d0887"
             ],
             [
              0.1111111111111111,
              "#46039f"
             ],
             [
              0.2222222222222222,
              "#7201a8"
             ],
             [
              0.3333333333333333,
              "#9c179e"
             ],
             [
              0.4444444444444444,
              "#bd3786"
             ],
             [
              0.5555555555555556,
              "#d8576b"
             ],
             [
              0.6666666666666666,
              "#ed7953"
             ],
             [
              0.7777777777777778,
              "#fb9f3a"
             ],
             [
              0.8888888888888888,
              "#fdca26"
             ],
             [
              1,
              "#f0f921"
             ]
            ],
            "type": "heatmap"
           }
          ],
          "histogram": [
           {
            "marker": {
             "pattern": {
              "fillmode": "overlay",
              "size": 10,
              "solidity": 0.2
             }
            },
            "type": "histogram"
           }
          ],
          "histogram2d": [
           {
            "colorbar": {
             "outlinewidth": 0,
             "ticks": ""
            },
            "colorscale": [
             [
              0,
              "#0d0887"
             ],
             [
              0.1111111111111111,
              "#46039f"
             ],
             [
              0.2222222222222222,
              "#7201a8"
             ],
             [
              0.3333333333333333,
              "#9c179e"
             ],
             [
              0.4444444444444444,
              "#bd3786"
             ],
             [
              0.5555555555555556,
              "#d8576b"
             ],
             [
              0.6666666666666666,
              "#ed7953"
             ],
             [
              0.7777777777777778,
              "#fb9f3a"
             ],
             [
              0.8888888888888888,
              "#fdca26"
             ],
             [
              1,
              "#f0f921"
             ]
            ],
            "type": "histogram2d"
           }
          ],
          "histogram2dcontour": [
           {
            "colorbar": {
             "outlinewidth": 0,
             "ticks": ""
            },
            "colorscale": [
             [
              0,
              "#0d0887"
             ],
             [
              0.1111111111111111,
              "#46039f"
             ],
             [
              0.2222222222222222,
              "#7201a8"
             ],
             [
              0.3333333333333333,
              "#9c179e"
             ],
             [
              0.4444444444444444,
              "#bd3786"
             ],
             [
              0.5555555555555556,
              "#d8576b"
             ],
             [
              0.6666666666666666,
              "#ed7953"
             ],
             [
              0.7777777777777778,
              "#fb9f3a"
             ],
             [
              0.8888888888888888,
              "#fdca26"
             ],
             [
              1,
              "#f0f921"
             ]
            ],
            "type": "histogram2dcontour"
           }
          ],
          "mesh3d": [
           {
            "colorbar": {
             "outlinewidth": 0,
             "ticks": ""
            },
            "type": "mesh3d"
           }
          ],
          "parcoords": [
           {
            "line": {
             "colorbar": {
              "outlinewidth": 0,
              "ticks": ""
             }
            },
            "type": "parcoords"
           }
          ],
          "pie": [
           {
            "automargin": true,
            "type": "pie"
           }
          ],
          "scatter": [
           {
            "fillpattern": {
             "fillmode": "overlay",
             "size": 10,
             "solidity": 0.2
            },
            "type": "scatter"
           }
          ],
          "scatter3d": [
           {
            "line": {
             "colorbar": {
              "outlinewidth": 0,
              "ticks": ""
             }
            },
            "marker": {
             "colorbar": {
              "outlinewidth": 0,
              "ticks": ""
             }
            },
            "type": "scatter3d"
           }
          ],
          "scattercarpet": [
           {
            "marker": {
             "colorbar": {
              "outlinewidth": 0,
              "ticks": ""
             }
            },
            "type": "scattercarpet"
           }
          ],
          "scattergeo": [
           {
            "marker": {
             "colorbar": {
              "outlinewidth": 0,
              "ticks": ""
             }
            },
            "type": "scattergeo"
           }
          ],
          "scattergl": [
           {
            "marker": {
             "colorbar": {
              "outlinewidth": 0,
              "ticks": ""
             }
            },
            "type": "scattergl"
           }
          ],
          "scattermap": [
           {
            "marker": {
             "colorbar": {
              "outlinewidth": 0,
              "ticks": ""
             }
            },
            "type": "scattermap"
           }
          ],
          "scattermapbox": [
           {
            "marker": {
             "colorbar": {
              "outlinewidth": 0,
              "ticks": ""
             }
            },
            "type": "scattermapbox"
           }
          ],
          "scatterpolar": [
           {
            "marker": {
             "colorbar": {
              "outlinewidth": 0,
              "ticks": ""
             }
            },
            "type": "scatterpolar"
           }
          ],
          "scatterpolargl": [
           {
            "marker": {
             "colorbar": {
              "outlinewidth": 0,
              "ticks": ""
             }
            },
            "type": "scatterpolargl"
           }
          ],
          "scatterternary": [
           {
            "marker": {
             "colorbar": {
              "outlinewidth": 0,
              "ticks": ""
             }
            },
            "type": "scatterternary"
           }
          ],
          "surface": [
           {
            "colorbar": {
             "outlinewidth": 0,
             "ticks": ""
            },
            "colorscale": [
             [
              0,
              "#0d0887"
             ],
             [
              0.1111111111111111,
              "#46039f"
             ],
             [
              0.2222222222222222,
              "#7201a8"
             ],
             [
              0.3333333333333333,
              "#9c179e"
             ],
             [
              0.4444444444444444,
              "#bd3786"
             ],
             [
              0.5555555555555556,
              "#d8576b"
             ],
             [
              0.6666666666666666,
              "#ed7953"
             ],
             [
              0.7777777777777778,
              "#fb9f3a"
             ],
             [
              0.8888888888888888,
              "#fdca26"
             ],
             [
              1,
              "#f0f921"
             ]
            ],
            "type": "surface"
           }
          ],
          "table": [
           {
            "cells": {
             "fill": {
              "color": "#EBF0F8"
             },
             "line": {
              "color": "white"
             }
            },
            "header": {
             "fill": {
              "color": "#C8D4E3"
             },
             "line": {
              "color": "white"
             }
            },
            "type": "table"
           }
          ]
         },
         "layout": {
          "annotationdefaults": {
           "arrowcolor": "#2a3f5f",
           "arrowhead": 0,
           "arrowwidth": 1
          },
          "autotypenumbers": "strict",
          "coloraxis": {
           "colorbar": {
            "outlinewidth": 0,
            "ticks": ""
           }
          },
          "colorscale": {
           "diverging": [
            [
             0,
             "#8e0152"
            ],
            [
             0.1,
             "#c51b7d"
            ],
            [
             0.2,
             "#de77ae"
            ],
            [
             0.3,
             "#f1b6da"
            ],
            [
             0.4,
             "#fde0ef"
            ],
            [
             0.5,
             "#f7f7f7"
            ],
            [
             0.6,
             "#e6f5d0"
            ],
            [
             0.7,
             "#b8e186"
            ],
            [
             0.8,
             "#7fbc41"
            ],
            [
             0.9,
             "#4d9221"
            ],
            [
             1,
             "#276419"
            ]
           ],
           "sequential": [
            [
             0,
             "#0d0887"
            ],
            [
             0.1111111111111111,
             "#46039f"
            ],
            [
             0.2222222222222222,
             "#7201a8"
            ],
            [
             0.3333333333333333,
             "#9c179e"
            ],
            [
             0.4444444444444444,
             "#bd3786"
            ],
            [
             0.5555555555555556,
             "#d8576b"
            ],
            [
             0.6666666666666666,
             "#ed7953"
            ],
            [
             0.7777777777777778,
             "#fb9f3a"
            ],
            [
             0.8888888888888888,
             "#fdca26"
            ],
            [
             1,
             "#f0f921"
            ]
           ],
           "sequentialminus": [
            [
             0,
             "#0d0887"
            ],
            [
             0.1111111111111111,
             "#46039f"
            ],
            [
             0.2222222222222222,
             "#7201a8"
            ],
            [
             0.3333333333333333,
             "#9c179e"
            ],
            [
             0.4444444444444444,
             "#bd3786"
            ],
            [
             0.5555555555555556,
             "#d8576b"
            ],
            [
             0.6666666666666666,
             "#ed7953"
            ],
            [
             0.7777777777777778,
             "#fb9f3a"
            ],
            [
             0.8888888888888888,
             "#fdca26"
            ],
            [
             1,
             "#f0f921"
            ]
           ]
          },
          "colorway": [
           "#636efa",
           "#EF553B",
           "#00cc96",
           "#ab63fa",
           "#FFA15A",
           "#19d3f3",
           "#FF6692",
           "#B6E880",
           "#FF97FF",
           "#FECB52"
          ],
          "font": {
           "color": "#2a3f5f"
          },
          "geo": {
           "bgcolor": "white",
           "lakecolor": "white",
           "landcolor": "#E5ECF6",
           "showlakes": true,
           "showland": true,
           "subunitcolor": "white"
          },
          "hoverlabel": {
           "align": "left"
          },
          "hovermode": "closest",
          "mapbox": {
           "style": "light"
          },
          "paper_bgcolor": "white",
          "plot_bgcolor": "#E5ECF6",
          "polar": {
           "angularaxis": {
            "gridcolor": "white",
            "linecolor": "white",
            "ticks": ""
           },
           "bgcolor": "#E5ECF6",
           "radialaxis": {
            "gridcolor": "white",
            "linecolor": "white",
            "ticks": ""
           }
          },
          "scene": {
           "xaxis": {
            "backgroundcolor": "#E5ECF6",
            "gridcolor": "white",
            "gridwidth": 2,
            "linecolor": "white",
            "showbackground": true,
            "ticks": "",
            "zerolinecolor": "white"
           },
           "yaxis": {
            "backgroundcolor": "#E5ECF6",
            "gridcolor": "white",
            "gridwidth": 2,
            "linecolor": "white",
            "showbackground": true,
            "ticks": "",
            "zerolinecolor": "white"
           },
           "zaxis": {
            "backgroundcolor": "#E5ECF6",
            "gridcolor": "white",
            "gridwidth": 2,
            "linecolor": "white",
            "showbackground": true,
            "ticks": "",
            "zerolinecolor": "white"
           }
          },
          "shapedefaults": {
           "line": {
            "color": "#2a3f5f"
           }
          },
          "ternary": {
           "aaxis": {
            "gridcolor": "white",
            "linecolor": "white",
            "ticks": ""
           },
           "baxis": {
            "gridcolor": "white",
            "linecolor": "white",
            "ticks": ""
           },
           "bgcolor": "#E5ECF6",
           "caxis": {
            "gridcolor": "white",
            "linecolor": "white",
            "ticks": ""
           }
          },
          "title": {
           "x": 0.05
          },
          "xaxis": {
           "automargin": true,
           "gridcolor": "white",
           "linecolor": "white",
           "ticks": "",
           "title": {
            "standoff": 15
           },
           "zerolinecolor": "white",
           "zerolinewidth": 2
          },
          "yaxis": {
           "automargin": true,
           "gridcolor": "white",
           "linecolor": "white",
           "ticks": "",
           "title": {
            "standoff": 15
           },
           "zerolinecolor": "white",
           "zerolinewidth": 2
          }
         }
        },
        "xaxis": {
         "anchor": "y",
         "domain": [
          0,
          1
         ],
         "title": {
          "text": "date"
         }
        },
        "yaxis": {
         "anchor": "x",
         "domain": [
          0,
          1
         ],
         "title": {
          "text": "value"
         }
        }
       }
      }
     },
     "metadata": {},
     "output_type": "display_data"
    },
    {
     "data": {
      "application/vnd.plotly.v1+json": {
       "config": {
        "plotlyServerURL": "https://plot.ly"
       },
       "data": [
        {
         "customdata": [
          [
           "I:2380 P:399.0",
           "Leaf Y2 1"
          ],
          [
           "I:2380 P:399.0",
           "Leaf Y2 1"
          ],
          [
           "I:2380 P:399.0",
           "Leaf Y2 1"
          ],
          [
           "I:2380 P:399.0",
           "Leaf Y2 1"
          ],
          [
           "I:2380 P:399.0",
           "Leaf Y2 1"
          ],
          [
           "I:2380 P:399.0",
           "Leaf Y2 1"
          ],
          [
           "I:2380 P:399.0",
           "Leaf Y2 1"
          ],
          [
           "I:2380 P:399.0",
           "Leaf Y2 1"
          ],
          [
           "I:2380 P:399.0",
           "Leaf Y2 1"
          ],
          [
           "I:2380 P:399.0",
           "Leaf Y2 1"
          ],
          [
           "I:2380 P:399.0",
           "Leaf Y2 1"
          ],
          [
           "I:2380 P:399.0",
           "Leaf Y2 1"
          ],
          [
           "I:2380 P:399.0",
           "Leaf Y2 1"
          ],
          [
           "I:2380 P:399.0",
           "Leaf Y2 1"
          ],
          [
           "I:2380 P:399.0",
           "Leaf Y2 1"
          ]
         ],
         "hovertemplate": "linac=2638<br>date=%{x}<br>value=%{y}<br>Part&item=%{customdata[0]}<br>category=%{customdata[1]}<extra></extra>",
         "legendgroup": "2638",
         "line": {
          "color": "#636efa",
          "dash": "solid"
         },
         "marker": {
          "symbol": "circle"
         },
         "mode": "lines+markers",
         "name": "2638",
         "orientation": "v",
         "showlegend": true,
         "type": "scatter",
         "x": [
          "2025-05-21",
          "2025-04-09",
          "2025-02-26",
          "2025-02-24",
          "2025-02-12",
          "2025-01-29",
          "2025-01-08",
          "2024-12-18",
          "2024-08-14",
          "2024-06-26",
          "2024-06-19",
          "2024-05-01",
          "2024-03-13",
          "2024-01-31",
          "2023-12-13"
         ],
         "xaxis": "x",
         "y": {
          "bdata": "thjkAls9qALj2xsDvsWoAkG63gLgSfoCe7snA2eMvgLFi+sCmpkMAyJvPQCBqvP/JyT9/7Ad7f+IoS8A",
          "dtype": "i4"
         },
         "yaxis": "y"
        },
        {
         "customdata": [
          [
           "I:2380 P:399.0",
           "Leaf Y2 1"
          ],
          [
           "I:2380 P:399.0",
           "Leaf Y2 1"
          ],
          [
           "I:2380 P:399.0",
           "Leaf Y2 1"
          ],
          [
           "I:2380 P:399.0",
           "Leaf Y2 1"
          ],
          [
           "I:2380 P:399.0",
           "Leaf Y2 1"
          ],
          [
           "I:2380 P:399.0",
           "Leaf Y2 1"
          ],
          [
           "I:2380 P:399.0",
           "Leaf Y2 1"
          ],
          [
           "I:2380 P:399.0",
           "Leaf Y2 1"
          ],
          [
           "I:2380 P:399.0",
           "Leaf Y2 1"
          ],
          [
           "I:2380 P:399.0",
           "Leaf Y2 1"
          ],
          [
           "I:2380 P:399.0",
           "Leaf Y2 1"
          ],
          [
           "I:2380 P:399.0",
           "Leaf Y2 1"
          ],
          [
           "I:2380 P:399.0",
           "Leaf Y2 1"
          ],
          [
           "I:2380 P:399.0",
           "Leaf Y2 1"
          ],
          [
           "I:2380 P:399.0",
           "Leaf Y2 1"
          ],
          [
           "I:2380 P:399.0",
           "Leaf Y2 1"
          ]
         ],
         "hovertemplate": "linac=2191<br>date=%{x}<br>value=%{y}<br>Part&item=%{customdata[0]}<br>category=%{customdata[1]}<extra></extra>",
         "legendgroup": "2191",
         "line": {
          "color": "#EF553B",
          "dash": "solid"
         },
         "marker": {
          "symbol": "circle"
         },
         "mode": "lines+markers",
         "name": "2191",
         "orientation": "v",
         "showlegend": true,
         "type": "scatter",
         "x": [
          "2025-04-23",
          "2025-03-12",
          "2025-02-12",
          "2025-01-08",
          "2024-11-26",
          "2024-11-06",
          "2024-09-25",
          "2024-09-11",
          "2024-07-24",
          "2024-07-03",
          "2024-06-19",
          "2024-05-01",
          "2024-03-20",
          "2024-02-07",
          "2023-12-27",
          "2023-12-13"
         ],
         "xaxis": "x",
         "y": {
          "bdata": "gdaN/svWnv7uwmv+XvKT/rA4qv4GlTn+SGGL/geC3/YD8d/2xJHR9ji2WvfZ+g331cny9grR6vbG+cT2lZoL9w==",
          "dtype": "i4"
         },
         "yaxis": "y"
        },
        {
         "customdata": [
          [
           "I:2380 P:399.0",
           "Leaf Y2 1"
          ],
          [
           "I:2380 P:399.0",
           "Leaf Y2 1"
          ],
          [
           "I:2380 P:399.0",
           "Leaf Y2 1"
          ],
          [
           "I:2380 P:399.0",
           "Leaf Y2 1"
          ],
          [
           "I:2380 P:399.0",
           "Leaf Y2 1"
          ],
          [
           "I:2380 P:399.0",
           "Leaf Y2 1"
          ],
          [
           "I:2380 P:399.0",
           "Leaf Y2 1"
          ],
          [
           "I:2380 P:399.0",
           "Leaf Y2 1"
          ],
          [
           "I:2380 P:399.0",
           "Leaf Y2 1"
          ],
          [
           "I:2380 P:399.0",
           "Leaf Y2 1"
          ],
          [
           "I:2380 P:399.0",
           "Leaf Y2 1"
          ],
          [
           "I:2380 P:399.0",
           "Leaf Y2 1"
          ],
          [
           "I:2380 P:399.0",
           "Leaf Y2 1"
          ]
         ],
         "hovertemplate": "linac=2983<br>date=%{x}<br>value=%{y}<br>Part&item=%{customdata[0]}<br>category=%{customdata[1]}<extra></extra>",
         "legendgroup": "2983",
         "line": {
          "color": "#00cc96",
          "dash": "solid"
         },
         "marker": {
          "symbol": "circle"
         },
         "mode": "lines+markers",
         "name": "2983",
         "orientation": "v",
         "showlegend": true,
         "type": "scatter",
         "x": [
          "2025-02-19",
          "2025-01-15",
          "2024-11-27",
          "2024-10-09",
          "2024-09-25",
          "2024-09-11",
          "2024-07-24",
          "2024-06-12",
          "2024-06-05",
          "2024-04-24",
          "2024-03-13",
          "2024-03-06",
          "2024-02-21"
         ],
         "xaxis": "x",
         "y": {
          "bdata": "o+JD/23Q3v6jrM/+GP33/maZ4v7P08b+WPDE/vYs6P7gaXH+GfEq/zL03f5sTr/+gkfq/g==",
          "dtype": "i4"
         },
         "yaxis": "y"
        },
        {
         "customdata": [
          [
           "I:2380 P:399.0",
           "Leaf Y2 1"
          ],
          [
           "I:2380 P:399.0",
           "Leaf Y2 1"
          ],
          [
           "I:2380 P:399.0",
           "Leaf Y2 1"
          ],
          [
           "I:2380 P:399.0",
           "Leaf Y2 1"
          ],
          [
           "I:2380 P:399.0",
           "Leaf Y2 1"
          ],
          [
           "I:2380 P:399.0",
           "Leaf Y2 1"
          ],
          [
           "I:2380 P:399.0",
           "Leaf Y2 1"
          ],
          [
           "I:2380 P:399.0",
           "Leaf Y2 1"
          ]
         ],
         "hovertemplate": "linac=2325<br>date=%{x}<br>value=%{y}<br>Part&item=%{customdata[0]}<br>category=%{customdata[1]}<extra></extra>",
         "legendgroup": "2325",
         "line": {
          "color": "#ab63fa",
          "dash": "solid"
         },
         "marker": {
          "symbol": "circle"
         },
         "mode": "lines+markers",
         "name": "2325",
         "orientation": "v",
         "showlegend": true,
         "type": "scatter",
         "x": [
          "2024-05-01",
          "2024-04-24",
          "2024-03-20",
          "2024-01-31",
          "2023-12-20",
          "2023-11-15",
          "2023-10-11",
          "2023-09-13"
         ],
         "xaxis": "x",
         "y": {
          "bdata": "PDciBFXb/QMicRwEJf/sAwQMyAPmncUDKe88BLFpSgQ=",
          "dtype": "i4"
         },
         "yaxis": "y"
        }
       ],
       "layout": {
        "legend": {
         "title": {
          "text": "linac"
         },
         "tracegroupgap": 0
        },
        "margin": {
         "t": 60
        },
        "template": {
         "data": {
          "bar": [
           {
            "error_x": {
             "color": "#2a3f5f"
            },
            "error_y": {
             "color": "#2a3f5f"
            },
            "marker": {
             "line": {
              "color": "#E5ECF6",
              "width": 0.5
             },
             "pattern": {
              "fillmode": "overlay",
              "size": 10,
              "solidity": 0.2
             }
            },
            "type": "bar"
           }
          ],
          "barpolar": [
           {
            "marker": {
             "line": {
              "color": "#E5ECF6",
              "width": 0.5
             },
             "pattern": {
              "fillmode": "overlay",
              "size": 10,
              "solidity": 0.2
             }
            },
            "type": "barpolar"
           }
          ],
          "carpet": [
           {
            "aaxis": {
             "endlinecolor": "#2a3f5f",
             "gridcolor": "white",
             "linecolor": "white",
             "minorgridcolor": "white",
             "startlinecolor": "#2a3f5f"
            },
            "baxis": {
             "endlinecolor": "#2a3f5f",
             "gridcolor": "white",
             "linecolor": "white",
             "minorgridcolor": "white",
             "startlinecolor": "#2a3f5f"
            },
            "type": "carpet"
           }
          ],
          "choropleth": [
           {
            "colorbar": {
             "outlinewidth": 0,
             "ticks": ""
            },
            "type": "choropleth"
           }
          ],
          "contour": [
           {
            "colorbar": {
             "outlinewidth": 0,
             "ticks": ""
            },
            "colorscale": [
             [
              0,
              "#0d0887"
             ],
             [
              0.1111111111111111,
              "#46039f"
             ],
             [
              0.2222222222222222,
              "#7201a8"
             ],
             [
              0.3333333333333333,
              "#9c179e"
             ],
             [
              0.4444444444444444,
              "#bd3786"
             ],
             [
              0.5555555555555556,
              "#d8576b"
             ],
             [
              0.6666666666666666,
              "#ed7953"
             ],
             [
              0.7777777777777778,
              "#fb9f3a"
             ],
             [
              0.8888888888888888,
              "#fdca26"
             ],
             [
              1,
              "#f0f921"
             ]
            ],
            "type": "contour"
           }
          ],
          "contourcarpet": [
           {
            "colorbar": {
             "outlinewidth": 0,
             "ticks": ""
            },
            "type": "contourcarpet"
           }
          ],
          "heatmap": [
           {
            "colorbar": {
             "outlinewidth": 0,
             "ticks": ""
            },
            "colorscale": [
             [
              0,
              "#0d0887"
             ],
             [
              0.1111111111111111,
              "#46039f"
             ],
             [
              0.2222222222222222,
              "#7201a8"
             ],
             [
              0.3333333333333333,
              "#9c179e"
             ],
             [
              0.4444444444444444,
              "#bd3786"
             ],
             [
              0.5555555555555556,
              "#d8576b"
             ],
             [
              0.6666666666666666,
              "#ed7953"
             ],
             [
              0.7777777777777778,
              "#fb9f3a"
             ],
             [
              0.8888888888888888,
              "#fdca26"
             ],
             [
              1,
              "#f0f921"
             ]
            ],
            "type": "heatmap"
           }
          ],
          "histogram": [
           {
            "marker": {
             "pattern": {
              "fillmode": "overlay",
              "size": 10,
              "solidity": 0.2
             }
            },
            "type": "histogram"
           }
          ],
          "histogram2d": [
           {
            "colorbar": {
             "outlinewidth": 0,
             "ticks": ""
            },
            "colorscale": [
             [
              0,
              "#0d0887"
             ],
             [
              0.1111111111111111,
              "#46039f"
             ],
             [
              0.2222222222222222,
              "#7201a8"
             ],
             [
              0.3333333333333333,
              "#9c179e"
             ],
             [
              0.4444444444444444,
              "#bd3786"
             ],
             [
              0.5555555555555556,
              "#d8576b"
             ],
             [
              0.6666666666666666,
              "#ed7953"
             ],
             [
              0.7777777777777778,
              "#fb9f3a"
             ],
             [
              0.8888888888888888,
              "#fdca26"
             ],
             [
              1,
              "#f0f921"
             ]
            ],
            "type": "histogram2d"
           }
          ],
          "histogram2dcontour": [
           {
            "colorbar": {
             "outlinewidth": 0,
             "ticks": ""
            },
            "colorscale": [
             [
              0,
              "#0d0887"
             ],
             [
              0.1111111111111111,
              "#46039f"
             ],
             [
              0.2222222222222222,
              "#7201a8"
             ],
             [
              0.3333333333333333,
              "#9c179e"
             ],
             [
              0.4444444444444444,
              "#bd3786"
             ],
             [
              0.5555555555555556,
              "#d8576b"
             ],
             [
              0.6666666666666666,
              "#ed7953"
             ],
             [
              0.7777777777777778,
              "#fb9f3a"
             ],
             [
              0.8888888888888888,
              "#fdca26"
             ],
             [
              1,
              "#f0f921"
             ]
            ],
            "type": "histogram2dcontour"
           }
          ],
          "mesh3d": [
           {
            "colorbar": {
             "outlinewidth": 0,
             "ticks": ""
            },
            "type": "mesh3d"
           }
          ],
          "parcoords": [
           {
            "line": {
             "colorbar": {
              "outlinewidth": 0,
              "ticks": ""
             }
            },
            "type": "parcoords"
           }
          ],
          "pie": [
           {
            "automargin": true,
            "type": "pie"
           }
          ],
          "scatter": [
           {
            "fillpattern": {
             "fillmode": "overlay",
             "size": 10,
             "solidity": 0.2
            },
            "type": "scatter"
           }
          ],
          "scatter3d": [
           {
            "line": {
             "colorbar": {
              "outlinewidth": 0,
              "ticks": ""
             }
            },
            "marker": {
             "colorbar": {
              "outlinewidth": 0,
              "ticks": ""
             }
            },
            "type": "scatter3d"
           }
          ],
          "scattercarpet": [
           {
            "marker": {
             "colorbar": {
              "outlinewidth": 0,
              "ticks": ""
             }
            },
            "type": "scattercarpet"
           }
          ],
          "scattergeo": [
           {
            "marker": {
             "colorbar": {
              "outlinewidth": 0,
              "ticks": ""
             }
            },
            "type": "scattergeo"
           }
          ],
          "scattergl": [
           {
            "marker": {
             "colorbar": {
              "outlinewidth": 0,
              "ticks": ""
             }
            },
            "type": "scattergl"
           }
          ],
          "scattermap": [
           {
            "marker": {
             "colorbar": {
              "outlinewidth": 0,
              "ticks": ""
             }
            },
            "type": "scattermap"
           }
          ],
          "scattermapbox": [
           {
            "marker": {
             "colorbar": {
              "outlinewidth": 0,
              "ticks": ""
             }
            },
            "type": "scattermapbox"
           }
          ],
          "scatterpolar": [
           {
            "marker": {
             "colorbar": {
              "outlinewidth": 0,
              "ticks": ""
             }
            },
            "type": "scatterpolar"
           }
          ],
          "scatterpolargl": [
           {
            "marker": {
             "colorbar": {
              "outlinewidth": 0,
              "ticks": ""
             }
            },
            "type": "scatterpolargl"
           }
          ],
          "scatterternary": [
           {
            "marker": {
             "colorbar": {
              "outlinewidth": 0,
              "ticks": ""
             }
            },
            "type": "scatterternary"
           }
          ],
          "surface": [
           {
            "colorbar": {
             "outlinewidth": 0,
             "ticks": ""
            },
            "colorscale": [
             [
              0,
              "#0d0887"
             ],
             [
              0.1111111111111111,
              "#46039f"
             ],
             [
              0.2222222222222222,
              "#7201a8"
             ],
             [
              0.3333333333333333,
              "#9c179e"
             ],
             [
              0.4444444444444444,
              "#bd3786"
             ],
             [
              0.5555555555555556,
              "#d8576b"
             ],
             [
              0.6666666666666666,
              "#ed7953"
             ],
             [
              0.7777777777777778,
              "#fb9f3a"
             ],
             [
              0.8888888888888888,
              "#fdca26"
             ],
             [
              1,
              "#f0f921"
             ]
            ],
            "type": "surface"
           }
          ],
          "table": [
           {
            "cells": {
             "fill": {
              "color": "#EBF0F8"
             },
             "line": {
              "color": "white"
             }
            },
            "header": {
             "fill": {
              "color": "#C8D4E3"
             },
             "line": {
              "color": "white"
             }
            },
            "type": "table"
           }
          ]
         },
         "layout": {
          "annotationdefaults": {
           "arrowcolor": "#2a3f5f",
           "arrowhead": 0,
           "arrowwidth": 1
          },
          "autotypenumbers": "strict",
          "coloraxis": {
           "colorbar": {
            "outlinewidth": 0,
            "ticks": ""
           }
          },
          "colorscale": {
           "diverging": [
            [
             0,
             "#8e0152"
            ],
            [
             0.1,
             "#c51b7d"
            ],
            [
             0.2,
             "#de77ae"
            ],
            [
             0.3,
             "#f1b6da"
            ],
            [
             0.4,
             "#fde0ef"
            ],
            [
             0.5,
             "#f7f7f7"
            ],
            [
             0.6,
             "#e6f5d0"
            ],
            [
             0.7,
             "#b8e186"
            ],
            [
             0.8,
             "#7fbc41"
            ],
            [
             0.9,
             "#4d9221"
            ],
            [
             1,
             "#276419"
            ]
           ],
           "sequential": [
            [
             0,
             "#0d0887"
            ],
            [
             0.1111111111111111,
             "#46039f"
            ],
            [
             0.2222222222222222,
             "#7201a8"
            ],
            [
             0.3333333333333333,
             "#9c179e"
            ],
            [
             0.4444444444444444,
             "#bd3786"
            ],
            [
             0.5555555555555556,
             "#d8576b"
            ],
            [
             0.6666666666666666,
             "#ed7953"
            ],
            [
             0.7777777777777778,
             "#fb9f3a"
            ],
            [
             0.8888888888888888,
             "#fdca26"
            ],
            [
             1,
             "#f0f921"
            ]
           ],
           "sequentialminus": [
            [
             0,
             "#0d0887"
            ],
            [
             0.1111111111111111,
             "#46039f"
            ],
            [
             0.2222222222222222,
             "#7201a8"
            ],
            [
             0.3333333333333333,
             "#9c179e"
            ],
            [
             0.4444444444444444,
             "#bd3786"
            ],
            [
             0.5555555555555556,
             "#d8576b"
            ],
            [
             0.6666666666666666,
             "#ed7953"
            ],
            [
             0.7777777777777778,
             "#fb9f3a"
            ],
            [
             0.8888888888888888,
             "#fdca26"
            ],
            [
             1,
             "#f0f921"
            ]
           ]
          },
          "colorway": [
           "#636efa",
           "#EF553B",
           "#00cc96",
           "#ab63fa",
           "#FFA15A",
           "#19d3f3",
           "#FF6692",
           "#B6E880",
           "#FF97FF",
           "#FECB52"
          ],
          "font": {
           "color": "#2a3f5f"
          },
          "geo": {
           "bgcolor": "white",
           "lakecolor": "white",
           "landcolor": "#E5ECF6",
           "showlakes": true,
           "showland": true,
           "subunitcolor": "white"
          },
          "hoverlabel": {
           "align": "left"
          },
          "hovermode": "closest",
          "mapbox": {
           "style": "light"
          },
          "paper_bgcolor": "white",
          "plot_bgcolor": "#E5ECF6",
          "polar": {
           "angularaxis": {
            "gridcolor": "white",
            "linecolor": "white",
            "ticks": ""
           },
           "bgcolor": "#E5ECF6",
           "radialaxis": {
            "gridcolor": "white",
            "linecolor": "white",
            "ticks": ""
           }
          },
          "scene": {
           "xaxis": {
            "backgroundcolor": "#E5ECF6",
            "gridcolor": "white",
            "gridwidth": 2,
            "linecolor": "white",
            "showbackground": true,
            "ticks": "",
            "zerolinecolor": "white"
           },
           "yaxis": {
            "backgroundcolor": "#E5ECF6",
            "gridcolor": "white",
            "gridwidth": 2,
            "linecolor": "white",
            "showbackground": true,
            "ticks": "",
            "zerolinecolor": "white"
           },
           "zaxis": {
            "backgroundcolor": "#E5ECF6",
            "gridcolor": "white",
            "gridwidth": 2,
            "linecolor": "white",
            "showbackground": true,
            "ticks": "",
            "zerolinecolor": "white"
           }
          },
          "shapedefaults": {
           "line": {
            "color": "#2a3f5f"
           }
          },
          "ternary": {
           "aaxis": {
            "gridcolor": "white",
            "linecolor": "white",
            "ticks": ""
           },
           "baxis": {
            "gridcolor": "white",
            "linecolor": "white",
            "ticks": ""
           },
           "bgcolor": "#E5ECF6",
           "caxis": {
            "gridcolor": "white",
            "linecolor": "white",
            "ticks": ""
           }
          },
          "title": {
           "x": 0.05
          },
          "xaxis": {
           "automargin": true,
           "gridcolor": "white",
           "linecolor": "white",
           "ticks": "",
           "title": {
            "standoff": 15
           },
           "zerolinecolor": "white",
           "zerolinewidth": 2
          },
          "yaxis": {
           "automargin": true,
           "gridcolor": "white",
           "linecolor": "white",
           "ticks": "",
           "title": {
            "standoff": 15
           },
           "zerolinecolor": "white",
           "zerolinewidth": 2
          }
         }
        },
        "xaxis": {
         "anchor": "y",
         "domain": [
          0,
          1
         ],
         "title": {
          "text": "date"
         }
        },
        "yaxis": {
         "anchor": "x",
         "domain": [
          0,
          1
         ],
         "title": {
          "text": "value"
         }
        }
       }
      }
     },
     "metadata": {},
     "output_type": "display_data"
    },
    {
     "data": {
      "application/vnd.plotly.v1+json": {
       "config": {
        "plotlyServerURL": "https://plot.ly"
       },
       "data": [
        {
         "customdata": [
          [
           "I:2380 P:400.0",
           "Leaf Y2 1"
          ],
          [
           "I:2380 P:400.0",
           "Leaf Y2 1"
          ],
          [
           "I:2380 P:400.0",
           "Leaf Y2 1"
          ],
          [
           "I:2380 P:400.0",
           "Leaf Y2 1"
          ],
          [
           "I:2380 P:400.0",
           "Leaf Y2 1"
          ],
          [
           "I:2380 P:400.0",
           "Leaf Y2 1"
          ],
          [
           "I:2380 P:400.0",
           "Leaf Y2 1"
          ],
          [
           "I:2380 P:400.0",
           "Leaf Y2 1"
          ],
          [
           "I:2380 P:400.0",
           "Leaf Y2 1"
          ],
          [
           "I:2380 P:400.0",
           "Leaf Y2 1"
          ],
          [
           "I:2380 P:400.0",
           "Leaf Y2 1"
          ],
          [
           "I:2380 P:400.0",
           "Leaf Y2 1"
          ],
          [
           "I:2380 P:400.0",
           "Leaf Y2 1"
          ],
          [
           "I:2380 P:400.0",
           "Leaf Y2 1"
          ],
          [
           "I:2380 P:400.0",
           "Leaf Y2 1"
          ]
         ],
         "hovertemplate": "linac=2638<br>date=%{x}<br>value=%{y}<br>Part&item=%{customdata[0]}<br>category=%{customdata[1]}<extra></extra>",
         "legendgroup": "2638",
         "line": {
          "color": "#636efa",
          "dash": "solid"
         },
         "marker": {
          "symbol": "circle"
         },
         "mode": "lines+markers",
         "name": "2638",
         "orientation": "v",
         "showlegend": true,
         "type": "scatter",
         "x": [
          "2025-05-21",
          "2025-04-09",
          "2025-02-26",
          "2025-02-24",
          "2025-02-12",
          "2025-01-29",
          "2025-01-08",
          "2024-12-18",
          "2024-08-14",
          "2024-06-26",
          "2024-06-19",
          "2024-05-01",
          "2024-03-13",
          "2024-01-31",
          "2023-12-13"
         ],
         "xaxis": "x",
         "y": {
          "bdata": "bEPF/xjvxv/pz87/my68/5IBzP+RrsT/cufC/wJcwv+PNNn/DiTI/1H1yP/1gaf/prKu/x93t/8qWLr/",
          "dtype": "i4"
         },
         "yaxis": "y"
        },
        {
         "customdata": [
          [
           "I:2380 P:400.0",
           "Leaf Y2 1"
          ],
          [
           "I:2380 P:400.0",
           "Leaf Y2 1"
          ],
          [
           "I:2380 P:400.0",
           "Leaf Y2 1"
          ],
          [
           "I:2380 P:400.0",
           "Leaf Y2 1"
          ],
          [
           "I:2380 P:400.0",
           "Leaf Y2 1"
          ],
          [
           "I:2380 P:400.0",
           "Leaf Y2 1"
          ],
          [
           "I:2380 P:400.0",
           "Leaf Y2 1"
          ],
          [
           "I:2380 P:400.0",
           "Leaf Y2 1"
          ],
          [
           "I:2380 P:400.0",
           "Leaf Y2 1"
          ],
          [
           "I:2380 P:400.0",
           "Leaf Y2 1"
          ],
          [
           "I:2380 P:400.0",
           "Leaf Y2 1"
          ],
          [
           "I:2380 P:400.0",
           "Leaf Y2 1"
          ],
          [
           "I:2380 P:400.0",
           "Leaf Y2 1"
          ],
          [
           "I:2380 P:400.0",
           "Leaf Y2 1"
          ],
          [
           "I:2380 P:400.0",
           "Leaf Y2 1"
          ],
          [
           "I:2380 P:400.0",
           "Leaf Y2 1"
          ]
         ],
         "hovertemplate": "linac=2191<br>date=%{x}<br>value=%{y}<br>Part&item=%{customdata[0]}<br>category=%{customdata[1]}<extra></extra>",
         "legendgroup": "2191",
         "line": {
          "color": "#EF553B",
          "dash": "solid"
         },
         "marker": {
          "symbol": "circle"
         },
         "mode": "lines+markers",
         "name": "2191",
         "orientation": "v",
         "showlegend": true,
         "type": "scatter",
         "x": [
          "2025-04-23",
          "2025-03-12",
          "2025-02-12",
          "2025-01-08",
          "2024-11-26",
          "2024-11-06",
          "2024-09-25",
          "2024-09-11",
          "2024-07-24",
          "2024-07-03",
          "2024-06-19",
          "2024-05-01",
          "2024-03-20",
          "2024-02-07",
          "2023-12-27",
          "2023-12-13"
         ],
         "xaxis": "x",
         "y": {
          "bdata": "hCfN/8/3zv/oC7r/Y0rH/0Olyf/L+M7/idTF/xj3ZP9SHW//QJ9x/zLUiv/acHX/kBx///dee/8NkHT/LtyB/w==",
          "dtype": "i4"
         },
         "yaxis": "y"
        },
        {
         "customdata": [
          [
           "I:2380 P:400.0",
           "Leaf Y2 1"
          ],
          [
           "I:2380 P:400.0",
           "Leaf Y2 1"
          ],
          [
           "I:2380 P:400.0",
           "Leaf Y2 1"
          ],
          [
           "I:2380 P:400.0",
           "Leaf Y2 1"
          ],
          [
           "I:2380 P:400.0",
           "Leaf Y2 1"
          ],
          [
           "I:2380 P:400.0",
           "Leaf Y2 1"
          ],
          [
           "I:2380 P:400.0",
           "Leaf Y2 1"
          ],
          [
           "I:2380 P:400.0",
           "Leaf Y2 1"
          ],
          [
           "I:2380 P:400.0",
           "Leaf Y2 1"
          ],
          [
           "I:2380 P:400.0",
           "Leaf Y2 1"
          ],
          [
           "I:2380 P:400.0",
           "Leaf Y2 1"
          ],
          [
           "I:2380 P:400.0",
           "Leaf Y2 1"
          ],
          [
           "I:2380 P:400.0",
           "Leaf Y2 1"
          ]
         ],
         "hovertemplate": "linac=2983<br>date=%{x}<br>value=%{y}<br>Part&item=%{customdata[0]}<br>category=%{customdata[1]}<extra></extra>",
         "legendgroup": "2983",
         "line": {
          "color": "#00cc96",
          "dash": "solid"
         },
         "marker": {
          "symbol": "circle"
         },
         "mode": "lines+markers",
         "name": "2983",
         "orientation": "v",
         "showlegend": true,
         "type": "scatter",
         "x": [
          "2025-02-19",
          "2025-01-15",
          "2024-11-27",
          "2024-10-09",
          "2024-09-25",
          "2024-09-11",
          "2024-07-24",
          "2024-06-12",
          "2024-06-05",
          "2024-04-24",
          "2024-03-13",
          "2024-03-06",
          "2024-02-21"
         ],
         "xaxis": "x",
         "y": {
          "bdata": "nFPY/7II1v/Jitr/mP7S/x4G3/8Fydv/zxDc/1Qg5v9DNNb/Msnl/0mx5f+Qh9P/0pzh/w==",
          "dtype": "i4"
         },
         "yaxis": "y"
        },
        {
         "customdata": [
          [
           "I:2380 P:400.0",
           "Leaf Y2 1"
          ],
          [
           "I:2380 P:400.0",
           "Leaf Y2 1"
          ],
          [
           "I:2380 P:400.0",
           "Leaf Y2 1"
          ],
          [
           "I:2380 P:400.0",
           "Leaf Y2 1"
          ],
          [
           "I:2380 P:400.0",
           "Leaf Y2 1"
          ],
          [
           "I:2380 P:400.0",
           "Leaf Y2 1"
          ],
          [
           "I:2380 P:400.0",
           "Leaf Y2 1"
          ],
          [
           "I:2380 P:400.0",
           "Leaf Y2 1"
          ]
         ],
         "hovertemplate": "linac=2325<br>date=%{x}<br>value=%{y}<br>Part&item=%{customdata[0]}<br>category=%{customdata[1]}<extra></extra>",
         "legendgroup": "2325",
         "line": {
          "color": "#ab63fa",
          "dash": "solid"
         },
         "marker": {
          "symbol": "circle"
         },
         "mode": "lines+markers",
         "name": "2325",
         "orientation": "v",
         "showlegend": true,
         "type": "scatter",
         "x": [
          "2024-05-01",
          "2024-04-24",
          "2024-03-20",
          "2024-01-31",
          "2023-12-20",
          "2023-11-15",
          "2023-10-11",
          "2023-09-13"
         ],
         "xaxis": "x",
         "y": {
          "bdata": "16zf/7Z+5P/Eh93/gzHb/xft5f8nWdb/Z87p/4Ju6f8=",
          "dtype": "i4"
         },
         "yaxis": "y"
        }
       ],
       "layout": {
        "legend": {
         "title": {
          "text": "linac"
         },
         "tracegroupgap": 0
        },
        "margin": {
         "t": 60
        },
        "template": {
         "data": {
          "bar": [
           {
            "error_x": {
             "color": "#2a3f5f"
            },
            "error_y": {
             "color": "#2a3f5f"
            },
            "marker": {
             "line": {
              "color": "#E5ECF6",
              "width": 0.5
             },
             "pattern": {
              "fillmode": "overlay",
              "size": 10,
              "solidity": 0.2
             }
            },
            "type": "bar"
           }
          ],
          "barpolar": [
           {
            "marker": {
             "line": {
              "color": "#E5ECF6",
              "width": 0.5
             },
             "pattern": {
              "fillmode": "overlay",
              "size": 10,
              "solidity": 0.2
             }
            },
            "type": "barpolar"
           }
          ],
          "carpet": [
           {
            "aaxis": {
             "endlinecolor": "#2a3f5f",
             "gridcolor": "white",
             "linecolor": "white",
             "minorgridcolor": "white",
             "startlinecolor": "#2a3f5f"
            },
            "baxis": {
             "endlinecolor": "#2a3f5f",
             "gridcolor": "white",
             "linecolor": "white",
             "minorgridcolor": "white",
             "startlinecolor": "#2a3f5f"
            },
            "type": "carpet"
           }
          ],
          "choropleth": [
           {
            "colorbar": {
             "outlinewidth": 0,
             "ticks": ""
            },
            "type": "choropleth"
           }
          ],
          "contour": [
           {
            "colorbar": {
             "outlinewidth": 0,
             "ticks": ""
            },
            "colorscale": [
             [
              0,
              "#0d0887"
             ],
             [
              0.1111111111111111,
              "#46039f"
             ],
             [
              0.2222222222222222,
              "#7201a8"
             ],
             [
              0.3333333333333333,
              "#9c179e"
             ],
             [
              0.4444444444444444,
              "#bd3786"
             ],
             [
              0.5555555555555556,
              "#d8576b"
             ],
             [
              0.6666666666666666,
              "#ed7953"
             ],
             [
              0.7777777777777778,
              "#fb9f3a"
             ],
             [
              0.8888888888888888,
              "#fdca26"
             ],
             [
              1,
              "#f0f921"
             ]
            ],
            "type": "contour"
           }
          ],
          "contourcarpet": [
           {
            "colorbar": {
             "outlinewidth": 0,
             "ticks": ""
            },
            "type": "contourcarpet"
           }
          ],
          "heatmap": [
           {
            "colorbar": {
             "outlinewidth": 0,
             "ticks": ""
            },
            "colorscale": [
             [
              0,
              "#0d0887"
             ],
             [
              0.1111111111111111,
              "#46039f"
             ],
             [
              0.2222222222222222,
              "#7201a8"
             ],
             [
              0.3333333333333333,
              "#9c179e"
             ],
             [
              0.4444444444444444,
              "#bd3786"
             ],
             [
              0.5555555555555556,
              "#d8576b"
             ],
             [
              0.6666666666666666,
              "#ed7953"
             ],
             [
              0.7777777777777778,
              "#fb9f3a"
             ],
             [
              0.8888888888888888,
              "#fdca26"
             ],
             [
              1,
              "#f0f921"
             ]
            ],
            "type": "heatmap"
           }
          ],
          "histogram": [
           {
            "marker": {
             "pattern": {
              "fillmode": "overlay",
              "size": 10,
              "solidity": 0.2
             }
            },
            "type": "histogram"
           }
          ],
          "histogram2d": [
           {
            "colorbar": {
             "outlinewidth": 0,
             "ticks": ""
            },
            "colorscale": [
             [
              0,
              "#0d0887"
             ],
             [
              0.1111111111111111,
              "#46039f"
             ],
             [
              0.2222222222222222,
              "#7201a8"
             ],
             [
              0.3333333333333333,
              "#9c179e"
             ],
             [
              0.4444444444444444,
              "#bd3786"
             ],
             [
              0.5555555555555556,
              "#d8576b"
             ],
             [
              0.6666666666666666,
              "#ed7953"
             ],
             [
              0.7777777777777778,
              "#fb9f3a"
             ],
             [
              0.8888888888888888,
              "#fdca26"
             ],
             [
              1,
              "#f0f921"
             ]
            ],
            "type": "histogram2d"
           }
          ],
          "histogram2dcontour": [
           {
            "colorbar": {
             "outlinewidth": 0,
             "ticks": ""
            },
            "colorscale": [
             [
              0,
              "#0d0887"
             ],
             [
              0.1111111111111111,
              "#46039f"
             ],
             [
              0.2222222222222222,
              "#7201a8"
             ],
             [
              0.3333333333333333,
              "#9c179e"
             ],
             [
              0.4444444444444444,
              "#bd3786"
             ],
             [
              0.5555555555555556,
              "#d8576b"
             ],
             [
              0.6666666666666666,
              "#ed7953"
             ],
             [
              0.7777777777777778,
              "#fb9f3a"
             ],
             [
              0.8888888888888888,
              "#fdca26"
             ],
             [
              1,
              "#f0f921"
             ]
            ],
            "type": "histogram2dcontour"
           }
          ],
          "mesh3d": [
           {
            "colorbar": {
             "outlinewidth": 0,
             "ticks": ""
            },
            "type": "mesh3d"
           }
          ],
          "parcoords": [
           {
            "line": {
             "colorbar": {
              "outlinewidth": 0,
              "ticks": ""
             }
            },
            "type": "parcoords"
           }
          ],
          "pie": [
           {
            "automargin": true,
            "type": "pie"
           }
          ],
          "scatter": [
           {
            "fillpattern": {
             "fillmode": "overlay",
             "size": 10,
             "solidity": 0.2
            },
            "type": "scatter"
           }
          ],
          "scatter3d": [
           {
            "line": {
             "colorbar": {
              "outlinewidth": 0,
              "ticks": ""
             }
            },
            "marker": {
             "colorbar": {
              "outlinewidth": 0,
              "ticks": ""
             }
            },
            "type": "scatter3d"
           }
          ],
          "scattercarpet": [
           {
            "marker": {
             "colorbar": {
              "outlinewidth": 0,
              "ticks": ""
             }
            },
            "type": "scattercarpet"
           }
          ],
          "scattergeo": [
           {
            "marker": {
             "colorbar": {
              "outlinewidth": 0,
              "ticks": ""
             }
            },
            "type": "scattergeo"
           }
          ],
          "scattergl": [
           {
            "marker": {
             "colorbar": {
              "outlinewidth": 0,
              "ticks": ""
             }
            },
            "type": "scattergl"
           }
          ],
          "scattermap": [
           {
            "marker": {
             "colorbar": {
              "outlinewidth": 0,
              "ticks": ""
             }
            },
            "type": "scattermap"
           }
          ],
          "scattermapbox": [
           {
            "marker": {
             "colorbar": {
              "outlinewidth": 0,
              "ticks": ""
             }
            },
            "type": "scattermapbox"
           }
          ],
          "scatterpolar": [
           {
            "marker": {
             "colorbar": {
              "outlinewidth": 0,
              "ticks": ""
             }
            },
            "type": "scatterpolar"
           }
          ],
          "scatterpolargl": [
           {
            "marker": {
             "colorbar": {
              "outlinewidth": 0,
              "ticks": ""
             }
            },
            "type": "scatterpolargl"
           }
          ],
          "scatterternary": [
           {
            "marker": {
             "colorbar": {
              "outlinewidth": 0,
              "ticks": ""
             }
            },
            "type": "scatterternary"
           }
          ],
          "surface": [
           {
            "colorbar": {
             "outlinewidth": 0,
             "ticks": ""
            },
            "colorscale": [
             [
              0,
              "#0d0887"
             ],
             [
              0.1111111111111111,
              "#46039f"
             ],
             [
              0.2222222222222222,
              "#7201a8"
             ],
             [
              0.3333333333333333,
              "#9c179e"
             ],
             [
              0.4444444444444444,
              "#bd3786"
             ],
             [
              0.5555555555555556,
              "#d8576b"
             ],
             [
              0.6666666666666666,
              "#ed7953"
             ],
             [
              0.7777777777777778,
              "#fb9f3a"
             ],
             [
              0.8888888888888888,
              "#fdca26"
             ],
             [
              1,
              "#f0f921"
             ]
            ],
            "type": "surface"
           }
          ],
          "table": [
           {
            "cells": {
             "fill": {
              "color": "#EBF0F8"
             },
             "line": {
              "color": "white"
             }
            },
            "header": {
             "fill": {
              "color": "#C8D4E3"
             },
             "line": {
              "color": "white"
             }
            },
            "type": "table"
           }
          ]
         },
         "layout": {
          "annotationdefaults": {
           "arrowcolor": "#2a3f5f",
           "arrowhead": 0,
           "arrowwidth": 1
          },
          "autotypenumbers": "strict",
          "coloraxis": {
           "colorbar": {
            "outlinewidth": 0,
            "ticks": ""
           }
          },
          "colorscale": {
           "diverging": [
            [
             0,
             "#8e0152"
            ],
            [
             0.1,
             "#c51b7d"
            ],
            [
             0.2,
             "#de77ae"
            ],
            [
             0.3,
             "#f1b6da"
            ],
            [
             0.4,
             "#fde0ef"
            ],
            [
             0.5,
             "#f7f7f7"
            ],
            [
             0.6,
             "#e6f5d0"
            ],
            [
             0.7,
             "#b8e186"
            ],
            [
             0.8,
             "#7fbc41"
            ],
            [
             0.9,
             "#4d9221"
            ],
            [
             1,
             "#276419"
            ]
           ],
           "sequential": [
            [
             0,
             "#0d0887"
            ],
            [
             0.1111111111111111,
             "#46039f"
            ],
            [
             0.2222222222222222,
             "#7201a8"
            ],
            [
             0.3333333333333333,
             "#9c179e"
            ],
            [
             0.4444444444444444,
             "#bd3786"
            ],
            [
             0.5555555555555556,
             "#d8576b"
            ],
            [
             0.6666666666666666,
             "#ed7953"
            ],
            [
             0.7777777777777778,
             "#fb9f3a"
            ],
            [
             0.8888888888888888,
             "#fdca26"
            ],
            [
             1,
             "#f0f921"
            ]
           ],
           "sequentialminus": [
            [
             0,
             "#0d0887"
            ],
            [
             0.1111111111111111,
             "#46039f"
            ],
            [
             0.2222222222222222,
             "#7201a8"
            ],
            [
             0.3333333333333333,
             "#9c179e"
            ],
            [
             0.4444444444444444,
             "#bd3786"
            ],
            [
             0.5555555555555556,
             "#d8576b"
            ],
            [
             0.6666666666666666,
             "#ed7953"
            ],
            [
             0.7777777777777778,
             "#fb9f3a"
            ],
            [
             0.8888888888888888,
             "#fdca26"
            ],
            [
             1,
             "#f0f921"
            ]
           ]
          },
          "colorway": [
           "#636efa",
           "#EF553B",
           "#00cc96",
           "#ab63fa",
           "#FFA15A",
           "#19d3f3",
           "#FF6692",
           "#B6E880",
           "#FF97FF",
           "#FECB52"
          ],
          "font": {
           "color": "#2a3f5f"
          },
          "geo": {
           "bgcolor": "white",
           "lakecolor": "white",
           "landcolor": "#E5ECF6",
           "showlakes": true,
           "showland": true,
           "subunitcolor": "white"
          },
          "hoverlabel": {
           "align": "left"
          },
          "hovermode": "closest",
          "mapbox": {
           "style": "light"
          },
          "paper_bgcolor": "white",
          "plot_bgcolor": "#E5ECF6",
          "polar": {
           "angularaxis": {
            "gridcolor": "white",
            "linecolor": "white",
            "ticks": ""
           },
           "bgcolor": "#E5ECF6",
           "radialaxis": {
            "gridcolor": "white",
            "linecolor": "white",
            "ticks": ""
           }
          },
          "scene": {
           "xaxis": {
            "backgroundcolor": "#E5ECF6",
            "gridcolor": "white",
            "gridwidth": 2,
            "linecolor": "white",
            "showbackground": true,
            "ticks": "",
            "zerolinecolor": "white"
           },
           "yaxis": {
            "backgroundcolor": "#E5ECF6",
            "gridcolor": "white",
            "gridwidth": 2,
            "linecolor": "white",
            "showbackground": true,
            "ticks": "",
            "zerolinecolor": "white"
           },
           "zaxis": {
            "backgroundcolor": "#E5ECF6",
            "gridcolor": "white",
            "gridwidth": 2,
            "linecolor": "white",
            "showbackground": true,
            "ticks": "",
            "zerolinecolor": "white"
           }
          },
          "shapedefaults": {
           "line": {
            "color": "#2a3f5f"
           }
          },
          "ternary": {
           "aaxis": {
            "gridcolor": "white",
            "linecolor": "white",
            "ticks": ""
           },
           "baxis": {
            "gridcolor": "white",
            "linecolor": "white",
            "ticks": ""
           },
           "bgcolor": "#E5ECF6",
           "caxis": {
            "gridcolor": "white",
            "linecolor": "white",
            "ticks": ""
           }
          },
          "title": {
           "x": 0.05
          },
          "xaxis": {
           "automargin": true,
           "gridcolor": "white",
           "linecolor": "white",
           "ticks": "",
           "title": {
            "standoff": 15
           },
           "zerolinecolor": "white",
           "zerolinewidth": 2
          },
          "yaxis": {
           "automargin": true,
           "gridcolor": "white",
           "linecolor": "white",
           "ticks": "",
           "title": {
            "standoff": 15
           },
           "zerolinecolor": "white",
           "zerolinewidth": 2
          }
         }
        },
        "xaxis": {
         "anchor": "y",
         "domain": [
          0,
          1
         ],
         "title": {
          "text": "date"
         }
        },
        "yaxis": {
         "anchor": "x",
         "domain": [
          0,
          1
         ],
         "title": {
          "text": "value"
         }
        }
       }
      }
     },
     "metadata": {},
     "output_type": "display_data"
    },
    {
     "data": {
      "application/vnd.plotly.v1+json": {
       "config": {
        "plotlyServerURL": "https://plot.ly"
       },
       "data": [
        {
         "customdata": [
          [
           "I:2380 P:401.0",
           "Leaf Y2 1"
          ],
          [
           "I:2380 P:401.0",
           "Leaf Y2 1"
          ],
          [
           "I:2380 P:401.0",
           "Leaf Y2 1"
          ],
          [
           "I:2380 P:401.0",
           "Leaf Y2 1"
          ],
          [
           "I:2380 P:401.0",
           "Leaf Y2 1"
          ],
          [
           "I:2380 P:401.0",
           "Leaf Y2 1"
          ],
          [
           "I:2380 P:401.0",
           "Leaf Y2 1"
          ],
          [
           "I:2380 P:401.0",
           "Leaf Y2 1"
          ],
          [
           "I:2380 P:401.0",
           "Leaf Y2 1"
          ],
          [
           "I:2380 P:401.0",
           "Leaf Y2 1"
          ],
          [
           "I:2380 P:401.0",
           "Leaf Y2 1"
          ],
          [
           "I:2380 P:401.0",
           "Leaf Y2 1"
          ],
          [
           "I:2380 P:401.0",
           "Leaf Y2 1"
          ],
          [
           "I:2380 P:401.0",
           "Leaf Y2 1"
          ],
          [
           "I:2380 P:401.0",
           "Leaf Y2 1"
          ]
         ],
         "hovertemplate": "linac=2638<br>date=%{x}<br>value=%{y}<br>Part&item=%{customdata[0]}<br>category=%{customdata[1]}<extra></extra>",
         "legendgroup": "2638",
         "line": {
          "color": "#636efa",
          "dash": "solid"
         },
         "marker": {
          "symbol": "circle"
         },
         "mode": "lines+markers",
         "name": "2638",
         "orientation": "v",
         "showlegend": true,
         "type": "scatter",
         "x": [
          "2025-05-21",
          "2025-04-09",
          "2025-02-26",
          "2025-02-24",
          "2025-02-12",
          "2025-01-29",
          "2025-01-08",
          "2024-12-18",
          "2024-08-14",
          "2024-06-26",
          "2024-06-19",
          "2024-05-01",
          "2024-03-13",
          "2024-01-31",
          "2023-12-13"
         ],
         "xaxis": "x",
         "y": {
          "bdata": "CQcdEQ/5Dx0JIPv7BPYB",
          "dtype": "i1"
         },
         "yaxis": "y"
        },
        {
         "customdata": [
          [
           "I:2380 P:401.0",
           "Leaf Y2 1"
          ],
          [
           "I:2380 P:401.0",
           "Leaf Y2 1"
          ],
          [
           "I:2380 P:401.0",
           "Leaf Y2 1"
          ],
          [
           "I:2380 P:401.0",
           "Leaf Y2 1"
          ],
          [
           "I:2380 P:401.0",
           "Leaf Y2 1"
          ],
          [
           "I:2380 P:401.0",
           "Leaf Y2 1"
          ],
          [
           "I:2380 P:401.0",
           "Leaf Y2 1"
          ],
          [
           "I:2380 P:401.0",
           "Leaf Y2 1"
          ],
          [
           "I:2380 P:401.0",
           "Leaf Y2 1"
          ],
          [
           "I:2380 P:401.0",
           "Leaf Y2 1"
          ],
          [
           "I:2380 P:401.0",
           "Leaf Y2 1"
          ],
          [
           "I:2380 P:401.0",
           "Leaf Y2 1"
          ],
          [
           "I:2380 P:401.0",
           "Leaf Y2 1"
          ],
          [
           "I:2380 P:401.0",
           "Leaf Y2 1"
          ],
          [
           "I:2380 P:401.0",
           "Leaf Y2 1"
          ],
          [
           "I:2380 P:401.0",
           "Leaf Y2 1"
          ]
         ],
         "hovertemplate": "linac=2191<br>date=%{x}<br>value=%{y}<br>Part&item=%{customdata[0]}<br>category=%{customdata[1]}<extra></extra>",
         "legendgroup": "2191",
         "line": {
          "color": "#EF553B",
          "dash": "solid"
         },
         "marker": {
          "symbol": "circle"
         },
         "mode": "lines+markers",
         "name": "2191",
         "orientation": "v",
         "showlegend": true,
         "type": "scatter",
         "x": [
          "2025-04-23",
          "2025-03-12",
          "2025-02-12",
          "2025-01-08",
          "2024-11-26",
          "2024-11-06",
          "2024-09-25",
          "2024-09-11",
          "2024-07-24",
          "2024-07-03",
          "2024-06-19",
          "2024-05-01",
          "2024-03-20",
          "2024-02-07",
          "2023-12-27",
          "2023-12-13"
         ],
         "xaxis": "x",
         "y": {
          "bdata": "CAT9Ag/3ALS8pq2izrSfoQ==",
          "dtype": "i1"
         },
         "yaxis": "y"
        },
        {
         "customdata": [
          [
           "I:2380 P:401.0",
           "Leaf Y2 1"
          ],
          [
           "I:2380 P:401.0",
           "Leaf Y2 1"
          ],
          [
           "I:2380 P:401.0",
           "Leaf Y2 1"
          ],
          [
           "I:2380 P:401.0",
           "Leaf Y2 1"
          ],
          [
           "I:2380 P:401.0",
           "Leaf Y2 1"
          ],
          [
           "I:2380 P:401.0",
           "Leaf Y2 1"
          ],
          [
           "I:2380 P:401.0",
           "Leaf Y2 1"
          ],
          [
           "I:2380 P:401.0",
           "Leaf Y2 1"
          ],
          [
           "I:2380 P:401.0",
           "Leaf Y2 1"
          ],
          [
           "I:2380 P:401.0",
           "Leaf Y2 1"
          ],
          [
           "I:2380 P:401.0",
           "Leaf Y2 1"
          ],
          [
           "I:2380 P:401.0",
           "Leaf Y2 1"
          ],
          [
           "I:2380 P:401.0",
           "Leaf Y2 1"
          ]
         ],
         "hovertemplate": "linac=2983<br>date=%{x}<br>value=%{y}<br>Part&item=%{customdata[0]}<br>category=%{customdata[1]}<extra></extra>",
         "legendgroup": "2983",
         "line": {
          "color": "#00cc96",
          "dash": "solid"
         },
         "marker": {
          "symbol": "circle"
         },
         "mode": "lines+markers",
         "name": "2983",
         "orientation": "v",
         "showlegend": true,
         "type": "scatter",
         "x": [
          "2025-02-19",
          "2025-01-15",
          "2024-11-27",
          "2024-10-09",
          "2024-09-25",
          "2024-09-11",
          "2024-07-24",
          "2024-06-12",
          "2024-06-05",
          "2024-04-24",
          "2024-03-13",
          "2024-03-06",
          "2024-02-21"
         ],
         "xaxis": "x",
         "y": {
          "bdata": "GAckJSYwMRszDxsiFw==",
          "dtype": "i1"
         },
         "yaxis": "y"
        },
        {
         "customdata": [
          [
           "I:2380 P:401.0",
           "Leaf Y2 1"
          ],
          [
           "I:2380 P:401.0",
           "Leaf Y2 1"
          ],
          [
           "I:2380 P:401.0",
           "Leaf Y2 1"
          ],
          [
           "I:2380 P:401.0",
           "Leaf Y2 1"
          ],
          [
           "I:2380 P:401.0",
           "Leaf Y2 1"
          ],
          [
           "I:2380 P:401.0",
           "Leaf Y2 1"
          ],
          [
           "I:2380 P:401.0",
           "Leaf Y2 1"
          ],
          [
           "I:2380 P:401.0",
           "Leaf Y2 1"
          ]
         ],
         "hovertemplate": "linac=2325<br>date=%{x}<br>value=%{y}<br>Part&item=%{customdata[0]}<br>category=%{customdata[1]}<extra></extra>",
         "legendgroup": "2325",
         "line": {
          "color": "#ab63fa",
          "dash": "solid"
         },
         "marker": {
          "symbol": "circle"
         },
         "mode": "lines+markers",
         "name": "2325",
         "orientation": "v",
         "showlegend": true,
         "type": "scatter",
         "x": [
          "2024-05-01",
          "2024-04-24",
          "2024-03-20",
          "2024-01-31",
          "2023-12-20",
          "2023-11-15",
          "2023-10-11",
          "2023-09-13"
         ],
         "xaxis": "x",
         "y": {
          "bdata": "EAAQBfr5BQo=",
          "dtype": "i1"
         },
         "yaxis": "y"
        }
       ],
       "layout": {
        "legend": {
         "title": {
          "text": "linac"
         },
         "tracegroupgap": 0
        },
        "margin": {
         "t": 60
        },
        "template": {
         "data": {
          "bar": [
           {
            "error_x": {
             "color": "#2a3f5f"
            },
            "error_y": {
             "color": "#2a3f5f"
            },
            "marker": {
             "line": {
              "color": "#E5ECF6",
              "width": 0.5
             },
             "pattern": {
              "fillmode": "overlay",
              "size": 10,
              "solidity": 0.2
             }
            },
            "type": "bar"
           }
          ],
          "barpolar": [
           {
            "marker": {
             "line": {
              "color": "#E5ECF6",
              "width": 0.5
             },
             "pattern": {
              "fillmode": "overlay",
              "size": 10,
              "solidity": 0.2
             }
            },
            "type": "barpolar"
           }
          ],
          "carpet": [
           {
            "aaxis": {
             "endlinecolor": "#2a3f5f",
             "gridcolor": "white",
             "linecolor": "white",
             "minorgridcolor": "white",
             "startlinecolor": "#2a3f5f"
            },
            "baxis": {
             "endlinecolor": "#2a3f5f",
             "gridcolor": "white",
             "linecolor": "white",
             "minorgridcolor": "white",
             "startlinecolor": "#2a3f5f"
            },
            "type": "carpet"
           }
          ],
          "choropleth": [
           {
            "colorbar": {
             "outlinewidth": 0,
             "ticks": ""
            },
            "type": "choropleth"
           }
          ],
          "contour": [
           {
            "colorbar": {
             "outlinewidth": 0,
             "ticks": ""
            },
            "colorscale": [
             [
              0,
              "#0d0887"
             ],
             [
              0.1111111111111111,
              "#46039f"
             ],
             [
              0.2222222222222222,
              "#7201a8"
             ],
             [
              0.3333333333333333,
              "#9c179e"
             ],
             [
              0.4444444444444444,
              "#bd3786"
             ],
             [
              0.5555555555555556,
              "#d8576b"
             ],
             [
              0.6666666666666666,
              "#ed7953"
             ],
             [
              0.7777777777777778,
              "#fb9f3a"
             ],
             [
              0.8888888888888888,
              "#fdca26"
             ],
             [
              1,
              "#f0f921"
             ]
            ],
            "type": "contour"
           }
          ],
          "contourcarpet": [
           {
            "colorbar": {
             "outlinewidth": 0,
             "ticks": ""
            },
            "type": "contourcarpet"
           }
          ],
          "heatmap": [
           {
            "colorbar": {
             "outlinewidth": 0,
             "ticks": ""
            },
            "colorscale": [
             [
              0,
              "#0d0887"
             ],
             [
              0.1111111111111111,
              "#46039f"
             ],
             [
              0.2222222222222222,
              "#7201a8"
             ],
             [
              0.3333333333333333,
              "#9c179e"
             ],
             [
              0.4444444444444444,
              "#bd3786"
             ],
             [
              0.5555555555555556,
              "#d8576b"
             ],
             [
              0.6666666666666666,
              "#ed7953"
             ],
             [
              0.7777777777777778,
              "#fb9f3a"
             ],
             [
              0.8888888888888888,
              "#fdca26"
             ],
             [
              1,
              "#f0f921"
             ]
            ],
            "type": "heatmap"
           }
          ],
          "histogram": [
           {
            "marker": {
             "pattern": {
              "fillmode": "overlay",
              "size": 10,
              "solidity": 0.2
             }
            },
            "type": "histogram"
           }
          ],
          "histogram2d": [
           {
            "colorbar": {
             "outlinewidth": 0,
             "ticks": ""
            },
            "colorscale": [
             [
              0,
              "#0d0887"
             ],
             [
              0.1111111111111111,
              "#46039f"
             ],
             [
              0.2222222222222222,
              "#7201a8"
             ],
             [
              0.3333333333333333,
              "#9c179e"
             ],
             [
              0.4444444444444444,
              "#bd3786"
             ],
             [
              0.5555555555555556,
              "#d8576b"
             ],
             [
              0.6666666666666666,
              "#ed7953"
             ],
             [
              0.7777777777777778,
              "#fb9f3a"
             ],
             [
              0.8888888888888888,
              "#fdca26"
             ],
             [
              1,
              "#f0f921"
             ]
            ],
            "type": "histogram2d"
           }
          ],
          "histogram2dcontour": [
           {
            "colorbar": {
             "outlinewidth": 0,
             "ticks": ""
            },
            "colorscale": [
             [
              0,
              "#0d0887"
             ],
             [
              0.1111111111111111,
              "#46039f"
             ],
             [
              0.2222222222222222,
              "#7201a8"
             ],
             [
              0.3333333333333333,
              "#9c179e"
             ],
             [
              0.4444444444444444,
              "#bd3786"
             ],
             [
              0.5555555555555556,
              "#d8576b"
             ],
             [
              0.6666666666666666,
              "#ed7953"
             ],
             [
              0.7777777777777778,
              "#fb9f3a"
             ],
             [
              0.8888888888888888,
              "#fdca26"
             ],
             [
              1,
              "#f0f921"
             ]
            ],
            "type": "histogram2dcontour"
           }
          ],
          "mesh3d": [
           {
            "colorbar": {
             "outlinewidth": 0,
             "ticks": ""
            },
            "type": "mesh3d"
           }
          ],
          "parcoords": [
           {
            "line": {
             "colorbar": {
              "outlinewidth": 0,
              "ticks": ""
             }
            },
            "type": "parcoords"
           }
          ],
          "pie": [
           {
            "automargin": true,
            "type": "pie"
           }
          ],
          "scatter": [
           {
            "fillpattern": {
             "fillmode": "overlay",
             "size": 10,
             "solidity": 0.2
            },
            "type": "scatter"
           }
          ],
          "scatter3d": [
           {
            "line": {
             "colorbar": {
              "outlinewidth": 0,
              "ticks": ""
             }
            },
            "marker": {
             "colorbar": {
              "outlinewidth": 0,
              "ticks": ""
             }
            },
            "type": "scatter3d"
           }
          ],
          "scattercarpet": [
           {
            "marker": {
             "colorbar": {
              "outlinewidth": 0,
              "ticks": ""
             }
            },
            "type": "scattercarpet"
           }
          ],
          "scattergeo": [
           {
            "marker": {
             "colorbar": {
              "outlinewidth": 0,
              "ticks": ""
             }
            },
            "type": "scattergeo"
           }
          ],
          "scattergl": [
           {
            "marker": {
             "colorbar": {
              "outlinewidth": 0,
              "ticks": ""
             }
            },
            "type": "scattergl"
           }
          ],
          "scattermap": [
           {
            "marker": {
             "colorbar": {
              "outlinewidth": 0,
              "ticks": ""
             }
            },
            "type": "scattermap"
           }
          ],
          "scattermapbox": [
           {
            "marker": {
             "colorbar": {
              "outlinewidth": 0,
              "ticks": ""
             }
            },
            "type": "scattermapbox"
           }
          ],
          "scatterpolar": [
           {
            "marker": {
             "colorbar": {
              "outlinewidth": 0,
              "ticks": ""
             }
            },
            "type": "scatterpolar"
           }
          ],
          "scatterpolargl": [
           {
            "marker": {
             "colorbar": {
              "outlinewidth": 0,
              "ticks": ""
             }
            },
            "type": "scatterpolargl"
           }
          ],
          "scatterternary": [
           {
            "marker": {
             "colorbar": {
              "outlinewidth": 0,
              "ticks": ""
             }
            },
            "type": "scatterternary"
           }
          ],
          "surface": [
           {
            "colorbar": {
             "outlinewidth": 0,
             "ticks": ""
            },
            "colorscale": [
             [
              0,
              "#0d0887"
             ],
             [
              0.1111111111111111,
              "#46039f"
             ],
             [
              0.2222222222222222,
              "#7201a8"
             ],
             [
              0.3333333333333333,
              "#9c179e"
             ],
             [
              0.4444444444444444,
              "#bd3786"
             ],
             [
              0.5555555555555556,
              "#d8576b"
             ],
             [
              0.6666666666666666,
              "#ed7953"
             ],
             [
              0.7777777777777778,
              "#fb9f3a"
             ],
             [
              0.8888888888888888,
              "#fdca26"
             ],
             [
              1,
              "#f0f921"
             ]
            ],
            "type": "surface"
           }
          ],
          "table": [
           {
            "cells": {
             "fill": {
              "color": "#EBF0F8"
             },
             "line": {
              "color": "white"
             }
            },
            "header": {
             "fill": {
              "color": "#C8D4E3"
             },
             "line": {
              "color": "white"
             }
            },
            "type": "table"
           }
          ]
         },
         "layout": {
          "annotationdefaults": {
           "arrowcolor": "#2a3f5f",
           "arrowhead": 0,
           "arrowwidth": 1
          },
          "autotypenumbers": "strict",
          "coloraxis": {
           "colorbar": {
            "outlinewidth": 0,
            "ticks": ""
           }
          },
          "colorscale": {
           "diverging": [
            [
             0,
             "#8e0152"
            ],
            [
             0.1,
             "#c51b7d"
            ],
            [
             0.2,
             "#de77ae"
            ],
            [
             0.3,
             "#f1b6da"
            ],
            [
             0.4,
             "#fde0ef"
            ],
            [
             0.5,
             "#f7f7f7"
            ],
            [
             0.6,
             "#e6f5d0"
            ],
            [
             0.7,
             "#b8e186"
            ],
            [
             0.8,
             "#7fbc41"
            ],
            [
             0.9,
             "#4d9221"
            ],
            [
             1,
             "#276419"
            ]
           ],
           "sequential": [
            [
             0,
             "#0d0887"
            ],
            [
             0.1111111111111111,
             "#46039f"
            ],
            [
             0.2222222222222222,
             "#7201a8"
            ],
            [
             0.3333333333333333,
             "#9c179e"
            ],
            [
             0.4444444444444444,
             "#bd3786"
            ],
            [
             0.5555555555555556,
             "#d8576b"
            ],
            [
             0.6666666666666666,
             "#ed7953"
            ],
            [
             0.7777777777777778,
             "#fb9f3a"
            ],
            [
             0.8888888888888888,
             "#fdca26"
            ],
            [
             1,
             "#f0f921"
            ]
           ],
           "sequentialminus": [
            [
             0,
             "#0d0887"
            ],
            [
             0.1111111111111111,
             "#46039f"
            ],
            [
             0.2222222222222222,
             "#7201a8"
            ],
            [
             0.3333333333333333,
             "#9c179e"
            ],
            [
             0.4444444444444444,
             "#bd3786"
            ],
            [
             0.5555555555555556,
             "#d8576b"
            ],
            [
             0.6666666666666666,
             "#ed7953"
            ],
            [
             0.7777777777777778,
             "#fb9f3a"
            ],
            [
             0.8888888888888888,
             "#fdca26"
            ],
            [
             1,
             "#f0f921"
            ]
           ]
          },
          "colorway": [
           "#636efa",
           "#EF553B",
           "#00cc96",
           "#ab63fa",
           "#FFA15A",
           "#19d3f3",
           "#FF6692",
           "#B6E880",
           "#FF97FF",
           "#FECB52"
          ],
          "font": {
           "color": "#2a3f5f"
          },
          "geo": {
           "bgcolor": "white",
           "lakecolor": "white",
           "landcolor": "#E5ECF6",
           "showlakes": true,
           "showland": true,
           "subunitcolor": "white"
          },
          "hoverlabel": {
           "align": "left"
          },
          "hovermode": "closest",
          "mapbox": {
           "style": "light"
          },
          "paper_bgcolor": "white",
          "plot_bgcolor": "#E5ECF6",
          "polar": {
           "angularaxis": {
            "gridcolor": "white",
            "linecolor": "white",
            "ticks": ""
           },
           "bgcolor": "#E5ECF6",
           "radialaxis": {
            "gridcolor": "white",
            "linecolor": "white",
            "ticks": ""
           }
          },
          "scene": {
           "xaxis": {
            "backgroundcolor": "#E5ECF6",
            "gridcolor": "white",
            "gridwidth": 2,
            "linecolor": "white",
            "showbackground": true,
            "ticks": "",
            "zerolinecolor": "white"
           },
           "yaxis": {
            "backgroundcolor": "#E5ECF6",
            "gridcolor": "white",
            "gridwidth": 2,
            "linecolor": "white",
            "showbackground": true,
            "ticks": "",
            "zerolinecolor": "white"
           },
           "zaxis": {
            "backgroundcolor": "#E5ECF6",
            "gridcolor": "white",
            "gridwidth": 2,
            "linecolor": "white",
            "showbackground": true,
            "ticks": "",
            "zerolinecolor": "white"
           }
          },
          "shapedefaults": {
           "line": {
            "color": "#2a3f5f"
           }
          },
          "ternary": {
           "aaxis": {
            "gridcolor": "white",
            "linecolor": "white",
            "ticks": ""
           },
           "baxis": {
            "gridcolor": "white",
            "linecolor": "white",
            "ticks": ""
           },
           "bgcolor": "#E5ECF6",
           "caxis": {
            "gridcolor": "white",
            "linecolor": "white",
            "ticks": ""
           }
          },
          "title": {
           "x": 0.05
          },
          "xaxis": {
           "automargin": true,
           "gridcolor": "white",
           "linecolor": "white",
           "ticks": "",
           "title": {
            "standoff": 15
           },
           "zerolinecolor": "white",
           "zerolinewidth": 2
          },
          "yaxis": {
           "automargin": true,
           "gridcolor": "white",
           "linecolor": "white",
           "ticks": "",
           "title": {
            "standoff": 15
           },
           "zerolinecolor": "white",
           "zerolinewidth": 2
          }
         }
        },
        "xaxis": {
         "anchor": "y",
         "domain": [
          0,
          1
         ],
         "title": {
          "text": "date"
         }
        },
        "yaxis": {
         "anchor": "x",
         "domain": [
          0,
          1
         ],
         "title": {
          "text": "value"
         }
        }
       }
      }
     },
     "metadata": {},
     "output_type": "display_data"
    }
   ],
   "source": [
    "for x in range(len(show.columns)):  \n",
    "    p_I = show.columns[x][:2]\n",
    "\n",
    "\n",
    "    fig = px.line(optics_y2[optics_y2[\"Part&item\"] == f\"I:{p_I[0]} P:{p_I[1]}\"], x=\"date\", y =\"value\", color=\"linac\", hover_data=[\"Part&item\", \"category\"],markers=True)\n",
    "    fig.show()"
   ]
  },
  {
   "cell_type": "markdown",
   "id": "2ae8dcc4",
   "metadata": {},
   "source": [
    "# Optics_Dist_Y1_01_To_40\n",
    "398:\n",
    "399:\n",
    "400:\n",
    "401: Constant term in optics distortion polynomial."
   ]
  },
  {
   "cell_type": "code",
   "execution_count": 15,
   "id": "20e84f6b",
   "metadata": {},
   "outputs": [
    {
     "name": "stderr",
     "output_type": "stream",
     "text": [
      "C:\\Users\\Laris\\AppData\\Local\\Temp\\ipykernel_4464\\971680525.py:2: SettingWithCopyWarning:\n",
      "\n",
      "\n",
      "A value is trying to be set on a copy of a slice from a DataFrame.\n",
      "Try using .loc[row_indexer,col_indexer] = value instead\n",
      "\n",
      "See the caveats in the documentation: https://pandas.pydata.org/pandas-docs/stable/user_guide/indexing.html#returning-a-view-versus-a-copy\n",
      "\n"
     ]
    },
    {
     "name": "stdout",
     "output_type": "stream",
     "text": [
      "2983\n",
      "2325\n",
      "2638\n",
      "2191\n"
     ]
    },
    {
     "data": {
      "text/html": [
       "<div>\n",
       "<style scoped>\n",
       "    .dataframe tbody tr th:only-of-type {\n",
       "        vertical-align: middle;\n",
       "    }\n",
       "\n",
       "    .dataframe tbody tr th {\n",
       "        vertical-align: top;\n",
       "    }\n",
       "\n",
       "    .dataframe thead tr th {\n",
       "        text-align: left;\n",
       "    }\n",
       "</style>\n",
       "<table border=\"1\" class=\"dataframe\">\n",
       "  <thead>\n",
       "    <tr>\n",
       "      <th>item</th>\n",
       "      <th colspan=\"4\" halign=\"left\">2460</th>\n",
       "    </tr>\n",
       "    <tr>\n",
       "      <th>part</th>\n",
       "      <th>398.0</th>\n",
       "      <th>399.0</th>\n",
       "      <th>400.0</th>\n",
       "      <th>401.0</th>\n",
       "    </tr>\n",
       "    <tr>\n",
       "      <th>category</th>\n",
       "      <th>Leaf Y1 1</th>\n",
       "      <th>Leaf Y1 1</th>\n",
       "      <th>Leaf Y1 1</th>\n",
       "      <th>Leaf Y1 1</th>\n",
       "    </tr>\n",
       "  </thead>\n",
       "  <tbody>\n",
       "    <tr>\n",
       "      <th>count</th>\n",
       "      <td>13.00</td>\n",
       "      <td>1.300000e+01</td>\n",
       "      <td>13.00</td>\n",
       "      <td>13.00</td>\n",
       "    </tr>\n",
       "    <tr>\n",
       "      <th>mean</th>\n",
       "      <td>14847346.62</td>\n",
       "      <td>7.831760e+06</td>\n",
       "      <td>-5263480.54</td>\n",
       "      <td>-0.62</td>\n",
       "    </tr>\n",
       "    <tr>\n",
       "      <th>std</th>\n",
       "      <td>970073.46</td>\n",
       "      <td>4.084125e+06</td>\n",
       "      <td>492127.86</td>\n",
       "      <td>12.22</td>\n",
       "    </tr>\n",
       "    <tr>\n",
       "      <th>min</th>\n",
       "      <td>13675710.00</td>\n",
       "      <td>-6.854610e+05</td>\n",
       "      <td>-6221409.00</td>\n",
       "      <td>-28.00</td>\n",
       "    </tr>\n",
       "    <tr>\n",
       "      <th>25%</th>\n",
       "      <td>14093302.00</td>\n",
       "      <td>7.490589e+06</td>\n",
       "      <td>-5577271.00</td>\n",
       "      <td>-6.00</td>\n",
       "    </tr>\n",
       "    <tr>\n",
       "      <th>50%</th>\n",
       "      <td>14704115.00</td>\n",
       "      <td>9.391373e+06</td>\n",
       "      <td>-5150066.00</td>\n",
       "      <td>0.00</td>\n",
       "    </tr>\n",
       "    <tr>\n",
       "      <th>75%</th>\n",
       "      <td>15400779.00</td>\n",
       "      <td>1.023522e+07</td>\n",
       "      <td>-4943174.00</td>\n",
       "      <td>6.00</td>\n",
       "    </tr>\n",
       "    <tr>\n",
       "      <th>max</th>\n",
       "      <td>16937895.00</td>\n",
       "      <td>1.215651e+07</td>\n",
       "      <td>-4451079.00</td>\n",
       "      <td>18.00</td>\n",
       "    </tr>\n",
       "    <tr>\n",
       "      <th>count</th>\n",
       "      <td>8.00</td>\n",
       "      <td>8.000000e+00</td>\n",
       "      <td>8.00</td>\n",
       "      <td>8.00</td>\n",
       "    </tr>\n",
       "    <tr>\n",
       "      <th>mean</th>\n",
       "      <td>21545379.38</td>\n",
       "      <td>-5.786262e+07</td>\n",
       "      <td>-4201295.25</td>\n",
       "      <td>9.00</td>\n",
       "    </tr>\n",
       "    <tr>\n",
       "      <th>std</th>\n",
       "      <td>957862.36</td>\n",
       "      <td>3.333259e+06</td>\n",
       "      <td>388946.68</td>\n",
       "      <td>11.69</td>\n",
       "    </tr>\n",
       "    <tr>\n",
       "      <th>min</th>\n",
       "      <td>20400669.00</td>\n",
       "      <td>-6.297874e+07</td>\n",
       "      <td>-5030590.00</td>\n",
       "      <td>-9.00</td>\n",
       "    </tr>\n",
       "    <tr>\n",
       "      <th>25%</th>\n",
       "      <td>20731262.75</td>\n",
       "      <td>-5.980568e+07</td>\n",
       "      <td>-4258364.00</td>\n",
       "      <td>4.75</td>\n",
       "    </tr>\n",
       "    <tr>\n",
       "      <th>50%</th>\n",
       "      <td>21423944.00</td>\n",
       "      <td>-5.832472e+07</td>\n",
       "      <td>-4139339.00</td>\n",
       "      <td>8.50</td>\n",
       "    </tr>\n",
       "    <tr>\n",
       "      <th>75%</th>\n",
       "      <td>22272509.75</td>\n",
       "      <td>-5.493124e+07</td>\n",
       "      <td>-3995829.75</td>\n",
       "      <td>12.75</td>\n",
       "    </tr>\n",
       "    <tr>\n",
       "      <th>max</th>\n",
       "      <td>22809410.00</td>\n",
       "      <td>-5.322692e+07</td>\n",
       "      <td>-3810145.00</td>\n",
       "      <td>28.00</td>\n",
       "    </tr>\n",
       "    <tr>\n",
       "      <th>count</th>\n",
       "      <td>15.00</td>\n",
       "      <td>1.500000e+01</td>\n",
       "      <td>15.00</td>\n",
       "      <td>15.00</td>\n",
       "    </tr>\n",
       "    <tr>\n",
       "      <th>mean</th>\n",
       "      <td>15264856.00</td>\n",
       "      <td>-1.289850e+07</td>\n",
       "      <td>-5070551.67</td>\n",
       "      <td>-11.27</td>\n",
       "    </tr>\n",
       "    <tr>\n",
       "      <th>std</th>\n",
       "      <td>2554873.81</td>\n",
       "      <td>2.020436e+07</td>\n",
       "      <td>586427.98</td>\n",
       "      <td>32.81</td>\n",
       "    </tr>\n",
       "    <tr>\n",
       "      <th>min</th>\n",
       "      <td>11116044.00</td>\n",
       "      <td>-3.115997e+07</td>\n",
       "      <td>-5852518.00</td>\n",
       "      <td>-60.00</td>\n",
       "    </tr>\n",
       "    <tr>\n",
       "      <th>25%</th>\n",
       "      <td>12386782.00</td>\n",
       "      <td>-2.761251e+07</td>\n",
       "      <td>-5495250.50</td>\n",
       "      <td>-36.00</td>\n",
       "    </tr>\n",
       "    <tr>\n",
       "      <th>50%</th>\n",
       "      <td>16056144.00</td>\n",
       "      <td>-2.300813e+07</td>\n",
       "      <td>-5117402.00</td>\n",
       "      <td>-21.00</td>\n",
       "    </tr>\n",
       "    <tr>\n",
       "      <th>75%</th>\n",
       "      <td>17540116.00</td>\n",
       "      <td>1.160870e+07</td>\n",
       "      <td>-4990500.00</td>\n",
       "      <td>15.50</td>\n",
       "    </tr>\n",
       "    <tr>\n",
       "      <th>max</th>\n",
       "      <td>17944622.00</td>\n",
       "      <td>1.861301e+07</td>\n",
       "      <td>-3756652.00</td>\n",
       "      <td>47.00</td>\n",
       "    </tr>\n",
       "    <tr>\n",
       "      <th>count</th>\n",
       "      <td>16.00</td>\n",
       "      <td>1.600000e+01</td>\n",
       "      <td>16.00</td>\n",
       "      <td>16.00</td>\n",
       "    </tr>\n",
       "    <tr>\n",
       "      <th>mean</th>\n",
       "      <td>8920153.62</td>\n",
       "      <td>9.250414e+07</td>\n",
       "      <td>-2850843.62</td>\n",
       "      <td>48.56</td>\n",
       "    </tr>\n",
       "    <tr>\n",
       "      <th>std</th>\n",
       "      <td>1878474.46</td>\n",
       "      <td>6.807541e+07</td>\n",
       "      <td>1363522.98</td>\n",
       "      <td>44.61</td>\n",
       "    </tr>\n",
       "    <tr>\n",
       "      <th>min</th>\n",
       "      <td>5418024.00</td>\n",
       "      <td>1.343479e+07</td>\n",
       "      <td>-5103913.00</td>\n",
       "      <td>-16.00</td>\n",
       "    </tr>\n",
       "    <tr>\n",
       "      <th>25%</th>\n",
       "      <td>7359096.25</td>\n",
       "      <td>1.838962e+07</td>\n",
       "      <td>-3702799.00</td>\n",
       "      <td>1.75</td>\n",
       "    </tr>\n",
       "    <tr>\n",
       "      <th>50%</th>\n",
       "      <td>9666769.50</td>\n",
       "      <td>1.462076e+08</td>\n",
       "      <td>-3176074.50</td>\n",
       "      <td>67.00</td>\n",
       "    </tr>\n",
       "    <tr>\n",
       "      <th>75%</th>\n",
       "      <td>10220634.75</td>\n",
       "      <td>1.511165e+08</td>\n",
       "      <td>-1567011.25</td>\n",
       "      <td>85.25</td>\n",
       "    </tr>\n",
       "    <tr>\n",
       "      <th>max</th>\n",
       "      <td>11079572.00</td>\n",
       "      <td>1.532825e+08</td>\n",
       "      <td>-998786.00</td>\n",
       "      <td>105.00</td>\n",
       "    </tr>\n",
       "  </tbody>\n",
       "</table>\n",
       "</div>"
      ],
      "text/plain": [
       "item             2460                                    \n",
       "part            398.0         399.0       400.0     401.0\n",
       "category    Leaf Y1 1     Leaf Y1 1   Leaf Y1 1 Leaf Y1 1\n",
       "count           13.00  1.300000e+01       13.00     13.00\n",
       "mean      14847346.62  7.831760e+06 -5263480.54     -0.62\n",
       "std         970073.46  4.084125e+06   492127.86     12.22\n",
       "min       13675710.00 -6.854610e+05 -6221409.00    -28.00\n",
       "25%       14093302.00  7.490589e+06 -5577271.00     -6.00\n",
       "50%       14704115.00  9.391373e+06 -5150066.00      0.00\n",
       "75%       15400779.00  1.023522e+07 -4943174.00      6.00\n",
       "max       16937895.00  1.215651e+07 -4451079.00     18.00\n",
       "count            8.00  8.000000e+00        8.00      8.00\n",
       "mean      21545379.38 -5.786262e+07 -4201295.25      9.00\n",
       "std         957862.36  3.333259e+06   388946.68     11.69\n",
       "min       20400669.00 -6.297874e+07 -5030590.00     -9.00\n",
       "25%       20731262.75 -5.980568e+07 -4258364.00      4.75\n",
       "50%       21423944.00 -5.832472e+07 -4139339.00      8.50\n",
       "75%       22272509.75 -5.493124e+07 -3995829.75     12.75\n",
       "max       22809410.00 -5.322692e+07 -3810145.00     28.00\n",
       "count           15.00  1.500000e+01       15.00     15.00\n",
       "mean      15264856.00 -1.289850e+07 -5070551.67    -11.27\n",
       "std        2554873.81  2.020436e+07   586427.98     32.81\n",
       "min       11116044.00 -3.115997e+07 -5852518.00    -60.00\n",
       "25%       12386782.00 -2.761251e+07 -5495250.50    -36.00\n",
       "50%       16056144.00 -2.300813e+07 -5117402.00    -21.00\n",
       "75%       17540116.00  1.160870e+07 -4990500.00     15.50\n",
       "max       17944622.00  1.861301e+07 -3756652.00     47.00\n",
       "count           16.00  1.600000e+01       16.00     16.00\n",
       "mean       8920153.62  9.250414e+07 -2850843.62     48.56\n",
       "std        1878474.46  6.807541e+07  1363522.98     44.61\n",
       "min        5418024.00  1.343479e+07 -5103913.00    -16.00\n",
       "25%        7359096.25  1.838962e+07 -3702799.00      1.75\n",
       "50%        9666769.50  1.462076e+08 -3176074.50     67.00\n",
       "75%       10220634.75  1.511165e+08 -1567011.25     85.25\n",
       "max       11079572.00  1.532825e+08  -998786.00    105.00"
      ]
     },
     "execution_count": 15,
     "metadata": {},
     "output_type": "execute_result"
    },
    {
     "data": {
      "image/png": "[encoded data removed]",
      "text/plain": [
       "<Figure size 2500x1300 with 4 Axes>"
      ]
     },
     "metadata": {},
     "output_type": "display_data"
    },
    {
     "data": {
      "image/png": "[encoded data removed]",
      "text/plain": [
       "<Figure size 2500x1300 with 4 Axes>"
      ]
     },
     "metadata": {},
     "output_type": "display_data"
    },
    {
     "data": {
      "image/png": "[encoded data removed]",
      "text/plain": [
       "<Figure size 2500x1300 with 4 Axes>"
      ]
     },
     "metadata": {},
     "output_type": "display_data"
    },
    {
     "data": {
      "image/png": "[encoded data removed]",
      "text/plain": [
       "<Figure size 2500x1300 with 4 Axes>"
      ]
     },
     "metadata": {},
     "output_type": "display_data"
    }
   ],
   "source": [
    "gen_cal = merged_df[merged_df[\"file_name\"] == \"Optics_Dist_Y1_01_To_40\"]\n",
    "gen_cal[\"Part&item\"] = \"I:\"+ gen_cal[\"item\"].astype(str) + \" P:\"+ gen_cal[\"part\"].astype(str)\n",
    "\n",
    "show, optics_y1 = determine_changes_analysis(gen_cal)\n",
    "\n",
    "show.round(2)"
   ]
  },
  {
   "cell_type": "code",
   "execution_count": 16,
   "id": "ccc02e72",
   "metadata": {},
   "outputs": [
    {
     "data": {
      "application/vnd.plotly.v1+json": {
       "config": {
        "plotlyServerURL": "https://plot.ly"
       },
       "data": [
        {
         "customdata": [
          [
           "I:2460 P:398.0",
           "Leaf Y1 1"
          ],
          [
           "I:2460 P:398.0",
           "Leaf Y1 1"
          ],
          [
           "I:2460 P:398.0",
           "Leaf Y1 1"
          ],
          [
           "I:2460 P:398.0",
           "Leaf Y1 1"
          ],
          [
           "I:2460 P:398.0",
           "Leaf Y1 1"
          ],
          [
           "I:2460 P:398.0",
           "Leaf Y1 1"
          ],
          [
           "I:2460 P:398.0",
           "Leaf Y1 1"
          ],
          [
           "I:2460 P:398.0",
           "Leaf Y1 1"
          ],
          [
           "I:2460 P:398.0",
           "Leaf Y1 1"
          ],
          [
           "I:2460 P:398.0",
           "Leaf Y1 1"
          ],
          [
           "I:2460 P:398.0",
           "Leaf Y1 1"
          ],
          [
           "I:2460 P:398.0",
           "Leaf Y1 1"
          ],
          [
           "I:2460 P:398.0",
           "Leaf Y1 1"
          ],
          [
           "I:2460 P:398.0",
           "Leaf Y1 1"
          ],
          [
           "I:2460 P:398.0",
           "Leaf Y1 1"
          ]
         ],
         "hovertemplate": "linac=2638<br>date=%{x}<br>value=%{y}<br>Part&item=%{customdata[0]}<br>category=%{customdata[1]}<extra></extra>",
         "legendgroup": "2638",
         "line": {
          "color": "#636efa",
          "dash": "solid"
         },
         "marker": {
          "symbol": "circle"
         },
         "mode": "lines+markers",
         "name": "2638",
         "orientation": "v",
         "showlegend": true,
         "type": "scatter",
         "x": [
          "2025-05-21",
          "2025-04-09",
          "2025-02-26",
          "2025-02-24",
          "2025-02-12",
          "2025-01-29",
          "2025-01-08",
          "2024-12-18",
          "2024-08-14",
          "2024-06-26",
          "2024-06-19",
          "2024-05-01",
          "2024-03-13",
          "2024-01-31",
          "2023-12-13"
         ],
         "xaxis": "x",
         "y": {
          "bdata": "Mzr5APoHCwEu0BEBLkAMAWoyEAHgtfAAUP/0AMGU9ABaDQ8Bau37AFlMugCl1LUAE5m0AAyeqQBjt78A",
          "dtype": "i4"
         },
         "yaxis": "y"
        },
        {
         "customdata": [
          [
           "I:2460 P:398.0",
           "Leaf Y1 1"
          ],
          [
           "I:2460 P:398.0",
           "Leaf Y1 1"
          ],
          [
           "I:2460 P:398.0",
           "Leaf Y1 1"
          ],
          [
           "I:2460 P:398.0",
           "Leaf Y1 1"
          ],
          [
           "I:2460 P:398.0",
           "Leaf Y1 1"
          ],
          [
           "I:2460 P:398.0",
           "Leaf Y1 1"
          ],
          [
           "I:2460 P:398.0",
           "Leaf Y1 1"
          ],
          [
           "I:2460 P:398.0",
           "Leaf Y1 1"
          ],
          [
           "I:2460 P:398.0",
           "Leaf Y1 1"
          ],
          [
           "I:2460 P:398.0",
           "Leaf Y1 1"
          ],
          [
           "I:2460 P:398.0",
           "Leaf Y1 1"
          ],
          [
           "I:2460 P:398.0",
           "Leaf Y1 1"
          ],
          [
           "I:2460 P:398.0",
           "Leaf Y1 1"
          ],
          [
           "I:2460 P:398.0",
           "Leaf Y1 1"
          ],
          [
           "I:2460 P:398.0",
           "Leaf Y1 1"
          ],
          [
           "I:2460 P:398.0",
           "Leaf Y1 1"
          ]
         ],
         "hovertemplate": "linac=2191<br>date=%{x}<br>value=%{y}<br>Part&item=%{customdata[0]}<br>category=%{customdata[1]}<extra></extra>",
         "legendgroup": "2191",
         "line": {
          "color": "#EF553B",
          "dash": "solid"
         },
         "marker": {
          "symbol": "circle"
         },
         "mode": "lines+markers",
         "name": "2191",
         "orientation": "v",
         "showlegend": true,
         "type": "scatter",
         "x": [
          "2025-04-23",
          "2025-03-12",
          "2025-02-12",
          "2025-01-08",
          "2024-11-26",
          "2024-11-06",
          "2024-09-25",
          "2024-09-11",
          "2024-07-24",
          "2024-07-03",
          "2024-06-19",
          "2024-05-01",
          "2024-03-20",
          "2024-02-07",
          "2023-12-27",
          "2023-12-13"
         ],
         "xaxis": "x",
         "y": {
          "bdata": "n7mmACvwoQBV0aUAtOSWAF58mQCUD6kAwPWZAO8ckAC8TogA3ISZAHBOcQBEYmEAqkB+AJE+bQB3F10AKKxSAA==",
          "dtype": "i4"
         },
         "yaxis": "y"
        },
        {
         "customdata": [
          [
           "I:2460 P:398.0",
           "Leaf Y1 1"
          ],
          [
           "I:2460 P:398.0",
           "Leaf Y1 1"
          ],
          [
           "I:2460 P:398.0",
           "Leaf Y1 1"
          ],
          [
           "I:2460 P:398.0",
           "Leaf Y1 1"
          ],
          [
           "I:2460 P:398.0",
           "Leaf Y1 1"
          ],
          [
           "I:2460 P:398.0",
           "Leaf Y1 1"
          ],
          [
           "I:2460 P:398.0",
           "Leaf Y1 1"
          ],
          [
           "I:2460 P:398.0",
           "Leaf Y1 1"
          ],
          [
           "I:2460 P:398.0",
           "Leaf Y1 1"
          ],
          [
           "I:2460 P:398.0",
           "Leaf Y1 1"
          ],
          [
           "I:2460 P:398.0",
           "Leaf Y1 1"
          ],
          [
           "I:2460 P:398.0",
           "Leaf Y1 1"
          ],
          [
           "I:2460 P:398.0",
           "Leaf Y1 1"
          ]
         ],
         "hovertemplate": "linac=2983<br>date=%{x}<br>value=%{y}<br>Part&item=%{customdata[0]}<br>category=%{customdata[1]}<extra></extra>",
         "legendgroup": "2983",
         "line": {
          "color": "#00cc96",
          "dash": "solid"
         },
         "marker": {
          "symbol": "circle"
         },
         "mode": "lines+markers",
         "name": "2983",
         "orientation": "v",
         "showlegend": true,
         "type": "scatter",
         "x": [
          "2025-02-19",
          "2025-01-15",
          "2024-11-27",
          "2024-10-09",
          "2024-09-25",
          "2024-09-11",
          "2024-07-24",
          "2024-06-12",
          "2024-06-05",
          "2024-04-24",
          "2024-03-13",
          "2024-03-06",
          "2024-02-21"
         ],
         "xaxis": "x",
         "y": {
          "bdata": "9TX2AKdzAgHymuUA9gvXAEv/6gBYBNIAvqzQAAWD3QDzXeAABzDSACnR7AD9k94AyLfiAA==",
          "dtype": "i4"
         },
         "yaxis": "y"
        },
        {
         "customdata": [
          [
           "I:2460 P:398.0",
           "Leaf Y1 1"
          ],
          [
           "I:2460 P:398.0",
           "Leaf Y1 1"
          ],
          [
           "I:2460 P:398.0",
           "Leaf Y1 1"
          ],
          [
           "I:2460 P:398.0",
           "Leaf Y1 1"
          ],
          [
           "I:2460 P:398.0",
           "Leaf Y1 1"
          ],
          [
           "I:2460 P:398.0",
           "Leaf Y1 1"
          ],
          [
           "I:2460 P:398.0",
           "Leaf Y1 1"
          ],
          [
           "I:2460 P:398.0",
           "Leaf Y1 1"
          ]
         ],
         "hovertemplate": "linac=2325<br>date=%{x}<br>value=%{y}<br>Part&item=%{customdata[0]}<br>category=%{customdata[1]}<extra></extra>",
         "legendgroup": "2325",
         "line": {
          "color": "#ab63fa",
          "dash": "solid"
         },
         "marker": {
          "symbol": "circle"
         },
         "mode": "lines+markers",
         "name": "2325",
         "orientation": "v",
         "showlegend": true,
         "type": "scatter",
         "x": [
          "2024-05-01",
          "2024-04-24",
          "2024-03-20",
          "2024-01-31",
          "2023-12-20",
          "2023-11-15",
          "2023-10-11",
          "2023-09-13"
         ],
         "xaxis": "x",
         "y": {
          "bdata": "HUo3AUvETAE/ZlsBipg7AUUKQQF7lDwB6FVRAUILXAE=",
          "dtype": "i4"
         },
         "yaxis": "y"
        }
       ],
       "layout": {
        "legend": {
         "title": {
          "text": "linac"
         },
         "tracegroupgap": 0
        },
        "margin": {
         "t": 60
        },
        "template": {
         "data": {
          "bar": [
           {
            "error_x": {
             "color": "#2a3f5f"
            },
            "error_y": {
             "color": "#2a3f5f"
            },
            "marker": {
             "line": {
              "color": "#E5ECF6",
              "width": 0.5
             },
             "pattern": {
              "fillmode": "overlay",
              "size": 10,
              "solidity": 0.2
             }
            },
            "type": "bar"
           }
          ],
          "barpolar": [
           {
            "marker": {
             "line": {
              "color": "#E5ECF6",
              "width": 0.5
             },
             "pattern": {
              "fillmode": "overlay",
              "size": 10,
              "solidity": 0.2
             }
            },
            "type": "barpolar"
           }
          ],
          "carpet": [
           {
            "aaxis": {
             "endlinecolor": "#2a3f5f",
             "gridcolor": "white",
             "linecolor": "white",
             "minorgridcolor": "white",
             "startlinecolor": "#2a3f5f"
            },
            "baxis": {
             "endlinecolor": "#2a3f5f",
             "gridcolor": "white",
             "linecolor": "white",
             "minorgridcolor": "white",
             "startlinecolor": "#2a3f5f"
            },
            "type": "carpet"
           }
          ],
          "choropleth": [
           {
            "colorbar": {
             "outlinewidth": 0,
             "ticks": ""
            },
            "type": "choropleth"
           }
          ],
          "contour": [
           {
            "colorbar": {
             "outlinewidth": 0,
             "ticks": ""
            },
            "colorscale": [
             [
              0,
              "#0d0887"
             ],
             [
              0.1111111111111111,
              "#46039f"
             ],
             [
              0.2222222222222222,
              "#7201a8"
             ],
             [
              0.3333333333333333,
              "#9c179e"
             ],
             [
              0.4444444444444444,
              "#bd3786"
             ],
             [
              0.5555555555555556,
              "#d8576b"
             ],
             [
              0.6666666666666666,
              "#ed7953"
             ],
             [
              0.7777777777777778,
              "#fb9f3a"
             ],
             [
              0.8888888888888888,
              "#fdca26"
             ],
             [
              1,
              "#f0f921"
             ]
            ],
            "type": "contour"
           }
          ],
          "contourcarpet": [
           {
            "colorbar": {
             "outlinewidth": 0,
             "ticks": ""
            },
            "type": "contourcarpet"
           }
          ],
          "heatmap": [
           {
            "colorbar": {
             "outlinewidth": 0,
             "ticks": ""
            },
            "colorscale": [
             [
              0,
              "#0d0887"
             ],
             [
              0.1111111111111111,
              "#46039f"
             ],
             [
              0.2222222222222222,
              "#7201a8"
             ],
             [
              0.3333333333333333,
              "#9c179e"
             ],
             [
              0.4444444444444444,
              "#bd3786"
             ],
             [
              0.5555555555555556,
              "#d8576b"
             ],
             [
              0.6666666666666666,
              "#ed7953"
             ],
             [
              0.7777777777777778,
              "#fb9f3a"
             ],
             [
              0.8888888888888888,
              "#fdca26"
             ],
             [
              1,
              "#f0f921"
             ]
            ],
            "type": "heatmap"
           }
          ],
          "histogram": [
           {
            "marker": {
             "pattern": {
              "fillmode": "overlay",
              "size": 10,
              "solidity": 0.2
             }
            },
            "type": "histogram"
           }
          ],
          "histogram2d": [
           {
            "colorbar": {
             "outlinewidth": 0,
             "ticks": ""
            },
            "colorscale": [
             [
              0,
              "#0d0887"
             ],
             [
              0.1111111111111111,
              "#46039f"
             ],
             [
              0.2222222222222222,
              "#7201a8"
             ],
             [
              0.3333333333333333,
              "#9c179e"
             ],
             [
              0.4444444444444444,
              "#bd3786"
             ],
             [
              0.5555555555555556,
              "#d8576b"
             ],
             [
              0.6666666666666666,
              "#ed7953"
             ],
             [
              0.7777777777777778,
              "#fb9f3a"
             ],
             [
              0.8888888888888888,
              "#fdca26"
             ],
             [
              1,
              "#f0f921"
             ]
            ],
            "type": "histogram2d"
           }
          ],
          "histogram2dcontour": [
           {
            "colorbar": {
             "outlinewidth": 0,
             "ticks": ""
            },
            "colorscale": [
             [
              0,
              "#0d0887"
             ],
             [
              0.1111111111111111,
              "#46039f"
             ],
             [
              0.2222222222222222,
              "#7201a8"
             ],
             [
              0.3333333333333333,
              "#9c179e"
             ],
             [
              0.4444444444444444,
              "#bd3786"
             ],
             [
              0.5555555555555556,
              "#d8576b"
             ],
             [
              0.6666666666666666,
              "#ed7953"
             ],
             [
              0.7777777777777778,
              "#fb9f3a"
             ],
             [
              0.8888888888888888,
              "#fdca26"
             ],
             [
              1,
              "#f0f921"
             ]
            ],
            "type": "histogram2dcontour"
           }
          ],
          "mesh3d": [
           {
            "colorbar": {
             "outlinewidth": 0,
             "ticks": ""
            },
            "type": "mesh3d"
           }
          ],
          "parcoords": [
           {
            "line": {
             "colorbar": {
              "outlinewidth": 0,
              "ticks": ""
             }
            },
            "type": "parcoords"
           }
          ],
          "pie": [
           {
            "automargin": true,
            "type": "pie"
           }
          ],
          "scatter": [
           {
            "fillpattern": {
             "fillmode": "overlay",
             "size": 10,
             "solidity": 0.2
            },
            "type": "scatter"
           }
          ],
          "scatter3d": [
           {
            "line": {
             "colorbar": {
              "outlinewidth": 0,
              "ticks": ""
             }
            },
            "marker": {
             "colorbar": {
              "outlinewidth": 0,
              "ticks": ""
             }
            },
            "type": "scatter3d"
           }
          ],
          "scattercarpet": [
           {
            "marker": {
             "colorbar": {
              "outlinewidth": 0,
              "ticks": ""
             }
            },
            "type": "scattercarpet"
           }
          ],
          "scattergeo": [
           {
            "marker": {
             "colorbar": {
              "outlinewidth": 0,
              "ticks": ""
             }
            },
            "type": "scattergeo"
           }
          ],
          "scattergl": [
           {
            "marker": {
             "colorbar": {
              "outlinewidth": 0,
              "ticks": ""
             }
            },
            "type": "scattergl"
           }
          ],
          "scattermap": [
           {
            "marker": {
             "colorbar": {
              "outlinewidth": 0,
              "ticks": ""
             }
            },
            "type": "scattermap"
           }
          ],
          "scattermapbox": [
           {
            "marker": {
             "colorbar": {
              "outlinewidth": 0,
              "ticks": ""
             }
            },
            "type": "scattermapbox"
           }
          ],
          "scatterpolar": [
           {
            "marker": {
             "colorbar": {
              "outlinewidth": 0,
              "ticks": ""
             }
            },
            "type": "scatterpolar"
           }
          ],
          "scatterpolargl": [
           {
            "marker": {
             "colorbar": {
              "outlinewidth": 0,
              "ticks": ""
             }
            },
            "type": "scatterpolargl"
           }
          ],
          "scatterternary": [
           {
            "marker": {
             "colorbar": {
              "outlinewidth": 0,
              "ticks": ""
             }
            },
            "type": "scatterternary"
           }
          ],
          "surface": [
           {
            "colorbar": {
             "outlinewidth": 0,
             "ticks": ""
            },
            "colorscale": [
             [
              0,
              "#0d0887"
             ],
             [
              0.1111111111111111,
              "#46039f"
             ],
             [
              0.2222222222222222,
              "#7201a8"
             ],
             [
              0.3333333333333333,
              "#9c179e"
             ],
             [
              0.4444444444444444,
              "#bd3786"
             ],
             [
              0.5555555555555556,
              "#d8576b"
             ],
             [
              0.6666666666666666,
              "#ed7953"
             ],
             [
              0.7777777777777778,
              "#fb9f3a"
             ],
             [
              0.8888888888888888,
              "#fdca26"
             ],
             [
              1,
              "#f0f921"
             ]
            ],
            "type": "surface"
           }
          ],
          "table": [
           {
            "cells": {
             "fill": {
              "color": "#EBF0F8"
             },
             "line": {
              "color": "white"
             }
            },
            "header": {
             "fill": {
              "color": "#C8D4E3"
             },
             "line": {
              "color": "white"
             }
            },
            "type": "table"
           }
          ]
         },
         "layout": {
          "annotationdefaults": {
           "arrowcolor": "#2a3f5f",
           "arrowhead": 0,
           "arrowwidth": 1
          },
          "autotypenumbers": "strict",
          "coloraxis": {
           "colorbar": {
            "outlinewidth": 0,
            "ticks": ""
           }
          },
          "colorscale": {
           "diverging": [
            [
             0,
             "#8e0152"
            ],
            [
             0.1,
             "#c51b7d"
            ],
            [
             0.2,
             "#de77ae"
            ],
            [
             0.3,
             "#f1b6da"
            ],
            [
             0.4,
             "#fde0ef"
            ],
            [
             0.5,
             "#f7f7f7"
            ],
            [
             0.6,
             "#e6f5d0"
            ],
            [
             0.7,
             "#b8e186"
            ],
            [
             0.8,
             "#7fbc41"
            ],
            [
             0.9,
             "#4d9221"
            ],
            [
             1,
             "#276419"
            ]
           ],
           "sequential": [
            [
             0,
             "#0d0887"
            ],
            [
             0.1111111111111111,
             "#46039f"
            ],
            [
             0.2222222222222222,
             "#7201a8"
            ],
            [
             0.3333333333333333,
             "#9c179e"
            ],
            [
             0.4444444444444444,
             "#bd3786"
            ],
            [
             0.5555555555555556,
             "#d8576b"
            ],
            [
             0.6666666666666666,
             "#ed7953"
            ],
            [
             0.7777777777777778,
             "#fb9f3a"
            ],
            [
             0.8888888888888888,
             "#fdca26"
            ],
            [
             1,
             "#f0f921"
            ]
           ],
           "sequentialminus": [
            [
             0,
             "#0d0887"
            ],
            [
             0.1111111111111111,
             "#46039f"
            ],
            [
             0.2222222222222222,
             "#7201a8"
            ],
            [
             0.3333333333333333,
             "#9c179e"
            ],
            [
             0.4444444444444444,
             "#bd3786"
            ],
            [
             0.5555555555555556,
             "#d8576b"
            ],
            [
             0.6666666666666666,
             "#ed7953"
            ],
            [
             0.7777777777777778,
             "#fb9f3a"
            ],
            [
             0.8888888888888888,
             "#fdca26"
            ],
            [
             1,
             "#f0f921"
            ]
           ]
          },
          "colorway": [
           "#636efa",
           "#EF553B",
           "#00cc96",
           "#ab63fa",
           "#FFA15A",
           "#19d3f3",
           "#FF6692",
           "#B6E880",
           "#FF97FF",
           "#FECB52"
          ],
          "font": {
           "color": "#2a3f5f"
          },
          "geo": {
           "bgcolor": "white",
           "lakecolor": "white",
           "landcolor": "#E5ECF6",
           "showlakes": true,
           "showland": true,
           "subunitcolor": "white"
          },
          "hoverlabel": {
           "align": "left"
          },
          "hovermode": "closest",
          "mapbox": {
           "style": "light"
          },
          "paper_bgcolor": "white",
          "plot_bgcolor": "#E5ECF6",
          "polar": {
           "angularaxis": {
            "gridcolor": "white",
            "linecolor": "white",
            "ticks": ""
           },
           "bgcolor": "#E5ECF6",
           "radialaxis": {
            "gridcolor": "white",
            "linecolor": "white",
            "ticks": ""
           }
          },
          "scene": {
           "xaxis": {
            "backgroundcolor": "#E5ECF6",
            "gridcolor": "white",
            "gridwidth": 2,
            "linecolor": "white",
            "showbackground": true,
            "ticks": "",
            "zerolinecolor": "white"
           },
           "yaxis": {
            "backgroundcolor": "#E5ECF6",
            "gridcolor": "white",
            "gridwidth": 2,
            "linecolor": "white",
            "showbackground": true,
            "ticks": "",
            "zerolinecolor": "white"
           },
           "zaxis": {
            "backgroundcolor": "#E5ECF6",
            "gridcolor": "white",
            "gridwidth": 2,
            "linecolor": "white",
            "showbackground": true,
            "ticks": "",
            "zerolinecolor": "white"
           }
          },
          "shapedefaults": {
           "line": {
            "color": "#2a3f5f"
           }
          },
          "ternary": {
           "aaxis": {
            "gridcolor": "white",
            "linecolor": "white",
            "ticks": ""
           },
           "baxis": {
            "gridcolor": "white",
            "linecolor": "white",
            "ticks": ""
           },
           "bgcolor": "#E5ECF6",
           "caxis": {
            "gridcolor": "white",
            "linecolor": "white",
            "ticks": ""
           }
          },
          "title": {
           "x": 0.05
          },
          "xaxis": {
           "automargin": true,
           "gridcolor": "white",
           "linecolor": "white",
           "ticks": "",
           "title": {
            "standoff": 15
           },
           "zerolinecolor": "white",
           "zerolinewidth": 2
          },
          "yaxis": {
           "automargin": true,
           "gridcolor": "white",
           "linecolor": "white",
           "ticks": "",
           "title": {
            "standoff": 15
           },
           "zerolinecolor": "white",
           "zerolinewidth": 2
          }
         }
        },
        "xaxis": {
         "anchor": "y",
         "domain": [
          0,
          1
         ],
         "title": {
          "text": "date"
         }
        },
        "yaxis": {
         "anchor": "x",
         "domain": [
          0,
          1
         ],
         "title": {
          "text": "value"
         }
        }
       }
      }
     },
     "metadata": {},
     "output_type": "display_data"
    },
    {
     "data": {
      "application/vnd.plotly.v1+json": {
       "config": {
        "plotlyServerURL": "https://plot.ly"
       },
       "data": [
        {
         "customdata": [
          [
           "I:2460 P:399.0",
           "Leaf Y1 1"
          ],
          [
           "I:2460 P:399.0",
           "Leaf Y1 1"
          ],
          [
           "I:2460 P:399.0",
           "Leaf Y1 1"
          ],
          [
           "I:2460 P:399.0",
           "Leaf Y1 1"
          ],
          [
           "I:2460 P:399.0",
           "Leaf Y1 1"
          ],
          [
           "I:2460 P:399.0",
           "Leaf Y1 1"
          ],
          [
           "I:2460 P:399.0",
           "Leaf Y1 1"
          ],
          [
           "I:2460 P:399.0",
           "Leaf Y1 1"
          ],
          [
           "I:2460 P:399.0",
           "Leaf Y1 1"
          ],
          [
           "I:2460 P:399.0",
           "Leaf Y1 1"
          ],
          [
           "I:2460 P:399.0",
           "Leaf Y1 1"
          ],
          [
           "I:2460 P:399.0",
           "Leaf Y1 1"
          ],
          [
           "I:2460 P:399.0",
           "Leaf Y1 1"
          ],
          [
           "I:2460 P:399.0",
           "Leaf Y1 1"
          ],
          [
           "I:2460 P:399.0",
           "Leaf Y1 1"
          ]
         ],
         "hovertemplate": "linac=2638<br>date=%{x}<br>value=%{y}<br>Part&item=%{customdata[0]}<br>category=%{customdata[1]}<extra></extra>",
         "legendgroup": "2638",
         "line": {
          "color": "#636efa",
          "dash": "solid"
         },
         "marker": {
          "symbol": "circle"
         },
         "mode": "lines+markers",
         "name": "2638",
         "orientation": "v",
         "showlegend": true,
         "type": "scatter",
         "x": [
          "2025-05-21",
          "2025-04-09",
          "2025-02-26",
          "2025-02-24",
          "2025-02-12",
          "2025-01-29",
          "2025-01-08",
          "2024-12-18",
          "2024-08-14",
          "2024-06-26",
          "2024-06-19",
          "2024-05-01",
          "2024-03-13",
          "2024-01-31",
          "2023-12-13"
         ],
         "xaxis": "x",
         "y": {
          "bdata": "TC9w/qkXbv5O4jP+lj1H/luJJP4gTb7+Gsqp/oHsoP5bBzn+nx5y/h31/ABlbcoALAfEABYDHAHQPZ4A",
          "dtype": "i4"
         },
         "yaxis": "y"
        },
        {
         "customdata": [
          [
           "I:2460 P:399.0",
           "Leaf Y1 1"
          ],
          [
           "I:2460 P:399.0",
           "Leaf Y1 1"
          ],
          [
           "I:2460 P:399.0",
           "Leaf Y1 1"
          ],
          [
           "I:2460 P:399.0",
           "Leaf Y1 1"
          ],
          [
           "I:2460 P:399.0",
           "Leaf Y1 1"
          ],
          [
           "I:2460 P:399.0",
           "Leaf Y1 1"
          ],
          [
           "I:2460 P:399.0",
           "Leaf Y1 1"
          ],
          [
           "I:2460 P:399.0",
           "Leaf Y1 1"
          ],
          [
           "I:2460 P:399.0",
           "Leaf Y1 1"
          ],
          [
           "I:2460 P:399.0",
           "Leaf Y1 1"
          ],
          [
           "I:2460 P:399.0",
           "Leaf Y1 1"
          ],
          [
           "I:2460 P:399.0",
           "Leaf Y1 1"
          ],
          [
           "I:2460 P:399.0",
           "Leaf Y1 1"
          ],
          [
           "I:2460 P:399.0",
           "Leaf Y1 1"
          ],
          [
           "I:2460 P:399.0",
           "Leaf Y1 1"
          ],
          [
           "I:2460 P:399.0",
           "Leaf Y1 1"
          ]
         ],
         "hovertemplate": "linac=2191<br>date=%{x}<br>value=%{y}<br>Part&item=%{customdata[0]}<br>category=%{customdata[1]}<extra></extra>",
         "legendgroup": "2191",
         "line": {
          "color": "#EF553B",
          "dash": "solid"
         },
         "marker": {
          "symbol": "circle"
         },
         "mode": "lines+markers",
         "name": "2191",
         "orientation": "v",
         "showlegend": true,
         "type": "scatter",
         "x": [
          "2025-04-23",
          "2025-03-12",
          "2025-02-12",
          "2025-01-08",
          "2024-11-26",
          "2024-11-06",
          "2024-09-25",
          "2024-09-11",
          "2024-07-24",
          "2024-07-03",
          "2024-06-19",
          "2024-05-01",
          "2024-03-20",
          "2024-02-07",
          "2023-12-27",
          "2023-12-13"
         ],
         "xaxis": "x",
         "y": {
          "bdata": "GQ0QAYqTEgHA/f8Abds9AbycGgGk/8wApGonAcL2Hgnd5yIJxbL6CHUl8QgqiRYJN/b6CFPXkQgqD9wISGcbCQ==",
          "dtype": "i4"
         },
         "yaxis": "y"
        },
        {
         "customdata": [
          [
           "I:2460 P:399.0",
           "Leaf Y1 1"
          ],
          [
           "I:2460 P:399.0",
           "Leaf Y1 1"
          ],
          [
           "I:2460 P:399.0",
           "Leaf Y1 1"
          ],
          [
           "I:2460 P:399.0",
           "Leaf Y1 1"
          ],
          [
           "I:2460 P:399.0",
           "Leaf Y1 1"
          ],
          [
           "I:2460 P:399.0",
           "Leaf Y1 1"
          ],
          [
           "I:2460 P:399.0",
           "Leaf Y1 1"
          ],
          [
           "I:2460 P:399.0",
           "Leaf Y1 1"
          ],
          [
           "I:2460 P:399.0",
           "Leaf Y1 1"
          ],
          [
           "I:2460 P:399.0",
           "Leaf Y1 1"
          ],
          [
           "I:2460 P:399.0",
           "Leaf Y1 1"
          ],
          [
           "I:2460 P:399.0",
           "Leaf Y1 1"
          ],
          [
           "I:2460 P:399.0",
           "Leaf Y1 1"
          ]
         ],
         "hovertemplate": "linac=2983<br>date=%{x}<br>value=%{y}<br>Part&item=%{customdata[0]}<br>category=%{customdata[1]}<extra></extra>",
         "legendgroup": "2983",
         "line": {
          "color": "#00cc96",
          "dash": "solid"
         },
         "marker": {
          "symbol": "circle"
         },
         "mode": "lines+markers",
         "name": "2983",
         "orientation": "v",
         "showlegend": true,
         "type": "scatter",
         "x": [
          "2025-02-19",
          "2025-01-15",
          "2024-11-27",
          "2024-10-09",
          "2024-09-25",
          "2024-09-11",
          "2024-07-24",
          "2024-06-12",
          "2024-06-05",
          "2024-04-24",
          "2024-03-13",
          "2024-03-06",
          "2024-02-21"
         ],
         "xaxis": "x",
         "y": {
          "bdata": "u2pAAGuK9f8NTY8AX365AMzACwAFcrEAdHeZAB1McgBC5rEAUi2cABbpdAA9NpQAsKByAA==",
          "dtype": "i4"
         },
         "yaxis": "y"
        },
        {
         "customdata": [
          [
           "I:2460 P:399.0",
           "Leaf Y1 1"
          ],
          [
           "I:2460 P:399.0",
           "Leaf Y1 1"
          ],
          [
           "I:2460 P:399.0",
           "Leaf Y1 1"
          ],
          [
           "I:2460 P:399.0",
           "Leaf Y1 1"
          ],
          [
           "I:2460 P:399.0",
           "Leaf Y1 1"
          ],
          [
           "I:2460 P:399.0",
           "Leaf Y1 1"
          ],
          [
           "I:2460 P:399.0",
           "Leaf Y1 1"
          ],
          [
           "I:2460 P:399.0",
           "Leaf Y1 1"
          ]
         ],
         "hovertemplate": "linac=2325<br>date=%{x}<br>value=%{y}<br>Part&item=%{customdata[0]}<br>category=%{customdata[1]}<extra></extra>",
         "legendgroup": "2325",
         "line": {
          "color": "#ab63fa",
          "dash": "solid"
         },
         "marker": {
          "symbol": "circle"
         },
         "mode": "lines+markers",
         "name": "2325",
         "orientation": "v",
         "showlegend": true,
         "type": "scatter",
         "x": [
          "2024-05-01",
          "2024-04-24",
          "2024-03-20",
          "2024-01-31",
          "2023-12-20",
          "2023-11-15",
          "2023-10-11",
          "2023-09-13"
         ],
         "xaxis": "x",
         "y": {
          "bdata": "WtLT/J0ZdPx8c2H8gLW6/DTTkvyahLn88D55/FEFP/w=",
          "dtype": "i4"
         },
         "yaxis": "y"
        }
       ],
       "layout": {
        "legend": {
         "title": {
          "text": "linac"
         },
         "tracegroupgap": 0
        },
        "margin": {
         "t": 60
        },
        "template": {
         "data": {
          "bar": [
           {
            "error_x": {
             "color": "#2a3f5f"
            },
            "error_y": {
             "color": "#2a3f5f"
            },
            "marker": {
             "line": {
              "color": "#E5ECF6",
              "width": 0.5
             },
             "pattern": {
              "fillmode": "overlay",
              "size": 10,
              "solidity": 0.2
             }
            },
            "type": "bar"
           }
          ],
          "barpolar": [
           {
            "marker": {
             "line": {
              "color": "#E5ECF6",
              "width": 0.5
             },
             "pattern": {
              "fillmode": "overlay",
              "size": 10,
              "solidity": 0.2
             }
            },
            "type": "barpolar"
           }
          ],
          "carpet": [
           {
            "aaxis": {
             "endlinecolor": "#2a3f5f",
             "gridcolor": "white",
             "linecolor": "white",
             "minorgridcolor": "white",
             "startlinecolor": "#2a3f5f"
            },
            "baxis": {
             "endlinecolor": "#2a3f5f",
             "gridcolor": "white",
             "linecolor": "white",
             "minorgridcolor": "white",
             "startlinecolor": "#2a3f5f"
            },
            "type": "carpet"
           }
          ],
          "choropleth": [
           {
            "colorbar": {
             "outlinewidth": 0,
             "ticks": ""
            },
            "type": "choropleth"
           }
          ],
          "contour": [
           {
            "colorbar": {
             "outlinewidth": 0,
             "ticks": ""
            },
            "colorscale": [
             [
              0,
              "#0d0887"
             ],
             [
              0.1111111111111111,
              "#46039f"
             ],
             [
              0.2222222222222222,
              "#7201a8"
             ],
             [
              0.3333333333333333,
              "#9c179e"
             ],
             [
              0.4444444444444444,
              "#bd3786"
             ],
             [
              0.5555555555555556,
              "#d8576b"
             ],
             [
              0.6666666666666666,
              "#ed7953"
             ],
             [
              0.7777777777777778,
              "#fb9f3a"
             ],
             [
              0.8888888888888888,
              "#fdca26"
             ],
             [
              1,
              "#f0f921"
             ]
            ],
            "type": "contour"
           }
          ],
          "contourcarpet": [
           {
            "colorbar": {
             "outlinewidth": 0,
             "ticks": ""
            },
            "type": "contourcarpet"
           }
          ],
          "heatmap": [
           {
            "colorbar": {
             "outlinewidth": 0,
             "ticks": ""
            },
            "colorscale": [
             [
              0,
              "#0d0887"
             ],
             [
              0.1111111111111111,
              "#46039f"
             ],
             [
              0.2222222222222222,
              "#7201a8"
             ],
             [
              0.3333333333333333,
              "#9c179e"
             ],
             [
              0.4444444444444444,
              "#bd3786"
             ],
             [
              0.5555555555555556,
              "#d8576b"
             ],
             [
              0.6666666666666666,
              "#ed7953"
             ],
             [
              0.7777777777777778,
              "#fb9f3a"
             ],
             [
              0.8888888888888888,
              "#fdca26"
             ],
             [
              1,
              "#f0f921"
             ]
            ],
            "type": "heatmap"
           }
          ],
          "histogram": [
           {
            "marker": {
             "pattern": {
              "fillmode": "overlay",
              "size": 10,
              "solidity": 0.2
             }
            },
            "type": "histogram"
           }
          ],
          "histogram2d": [
           {
            "colorbar": {
             "outlinewidth": 0,
             "ticks": ""
            },
            "colorscale": [
             [
              0,
              "#0d0887"
             ],
             [
              0.1111111111111111,
              "#46039f"
             ],
             [
              0.2222222222222222,
              "#7201a8"
             ],
             [
              0.3333333333333333,
              "#9c179e"
             ],
             [
              0.4444444444444444,
              "#bd3786"
             ],
             [
              0.5555555555555556,
              "#d8576b"
             ],
             [
              0.6666666666666666,
              "#ed7953"
             ],
             [
              0.7777777777777778,
              "#fb9f3a"
             ],
             [
              0.8888888888888888,
              "#fdca26"
             ],
             [
              1,
              "#f0f921"
             ]
            ],
            "type": "histogram2d"
           }
          ],
          "histogram2dcontour": [
           {
            "colorbar": {
             "outlinewidth": 0,
             "ticks": ""
            },
            "colorscale": [
             [
              0,
              "#0d0887"
             ],
             [
              0.1111111111111111,
              "#46039f"
             ],
             [
              0.2222222222222222,
              "#7201a8"
             ],
             [
              0.3333333333333333,
              "#9c179e"
             ],
             [
              0.4444444444444444,
              "#bd3786"
             ],
             [
              0.5555555555555556,
              "#d8576b"
             ],
             [
              0.6666666666666666,
              "#ed7953"
             ],
             [
              0.7777777777777778,
              "#fb9f3a"
             ],
             [
              0.8888888888888888,
              "#fdca26"
             ],
             [
              1,
              "#f0f921"
             ]
            ],
            "type": "histogram2dcontour"
           }
          ],
          "mesh3d": [
           {
            "colorbar": {
             "outlinewidth": 0,
             "ticks": ""
            },
            "type": "mesh3d"
           }
          ],
          "parcoords": [
           {
            "line": {
             "colorbar": {
              "outlinewidth": 0,
              "ticks": ""
             }
            },
            "type": "parcoords"
           }
          ],
          "pie": [
           {
            "automargin": true,
            "type": "pie"
           }
          ],
          "scatter": [
           {
            "fillpattern": {
             "fillmode": "overlay",
             "size": 10,
             "solidity": 0.2
            },
            "type": "scatter"
           }
          ],
          "scatter3d": [
           {
            "line": {
             "colorbar": {
              "outlinewidth": 0,
              "ticks": ""
             }
            },
            "marker": {
             "colorbar": {
              "outlinewidth": 0,
              "ticks": ""
             }
            },
            "type": "scatter3d"
           }
          ],
          "scattercarpet": [
           {
            "marker": {
             "colorbar": {
              "outlinewidth": 0,
              "ticks": ""
             }
            },
            "type": "scattercarpet"
           }
          ],
          "scattergeo": [
           {
            "marker": {
             "colorbar": {
              "outlinewidth": 0,
              "ticks": ""
             }
            },
            "type": "scattergeo"
           }
          ],
          "scattergl": [
           {
            "marker": {
             "colorbar": {
              "outlinewidth": 0,
              "ticks": ""
             }
            },
            "type": "scattergl"
           }
          ],
          "scattermap": [
           {
            "marker": {
             "colorbar": {
              "outlinewidth": 0,
              "ticks": ""
             }
            },
            "type": "scattermap"
           }
          ],
          "scattermapbox": [
           {
            "marker": {
             "colorbar": {
              "outlinewidth": 0,
              "ticks": ""
             }
            },
            "type": "scattermapbox"
           }
          ],
          "scatterpolar": [
           {
            "marker": {
             "colorbar": {
              "outlinewidth": 0,
              "ticks": ""
             }
            },
            "type": "scatterpolar"
           }
          ],
          "scatterpolargl": [
           {
            "marker": {
             "colorbar": {
              "outlinewidth": 0,
              "ticks": ""
             }
            },
            "type": "scatterpolargl"
           }
          ],
          "scatterternary": [
           {
            "marker": {
             "colorbar": {
              "outlinewidth": 0,
              "ticks": ""
             }
            },
            "type": "scatterternary"
           }
          ],
          "surface": [
           {
            "colorbar": {
             "outlinewidth": 0,
             "ticks": ""
            },
            "colorscale": [
             [
              0,
              "#0d0887"
             ],
             [
              0.1111111111111111,
              "#46039f"
             ],
             [
              0.2222222222222222,
              "#7201a8"
             ],
             [
              0.3333333333333333,
              "#9c179e"
             ],
             [
              0.4444444444444444,
              "#bd3786"
             ],
             [
              0.5555555555555556,
              "#d8576b"
             ],
             [
              0.6666666666666666,
              "#ed7953"
             ],
             [
              0.7777777777777778,
              "#fb9f3a"
             ],
             [
              0.8888888888888888,
              "#fdca26"
             ],
             [
              1,
              "#f0f921"
             ]
            ],
            "type": "surface"
           }
          ],
          "table": [
           {
            "cells": {
             "fill": {
              "color": "#EBF0F8"
             },
             "line": {
              "color": "white"
             }
            },
            "header": {
             "fill": {
              "color": "#C8D4E3"
             },
             "line": {
              "color": "white"
             }
            },
            "type": "table"
           }
          ]
         },
         "layout": {
          "annotationdefaults": {
           "arrowcolor": "#2a3f5f",
           "arrowhead": 0,
           "arrowwidth": 1
          },
          "autotypenumbers": "strict",
          "coloraxis": {
           "colorbar": {
            "outlinewidth": 0,
            "ticks": ""
           }
          },
          "colorscale": {
           "diverging": [
            [
             0,
             "#8e0152"
            ],
            [
             0.1,
             "#c51b7d"
            ],
            [
             0.2,
             "#de77ae"
            ],
            [
             0.3,
             "#f1b6da"
            ],
            [
             0.4,
             "#fde0ef"
            ],
            [
             0.5,
             "#f7f7f7"
            ],
            [
             0.6,
             "#e6f5d0"
            ],
            [
             0.7,
             "#b8e186"
            ],
            [
             0.8,
             "#7fbc41"
            ],
            [
             0.9,
             "#4d9221"
            ],
            [
             1,
             "#276419"
            ]
           ],
           "sequential": [
            [
             0,
             "#0d0887"
            ],
            [
             0.1111111111111111,
             "#46039f"
            ],
            [
             0.2222222222222222,
             "#7201a8"
            ],
            [
             0.3333333333333333,
             "#9c179e"
            ],
            [
             0.4444444444444444,
             "#bd3786"
            ],
            [
             0.5555555555555556,
             "#d8576b"
            ],
            [
             0.6666666666666666,
             "#ed7953"
            ],
            [
             0.7777777777777778,
             "#fb9f3a"
            ],
            [
             0.8888888888888888,
             "#fdca26"
            ],
            [
             1,
             "#f0f921"
            ]
           ],
           "sequentialminus": [
            [
             0,
             "#0d0887"
            ],
            [
             0.1111111111111111,
             "#46039f"
            ],
            [
             0.2222222222222222,
             "#7201a8"
            ],
            [
             0.3333333333333333,
             "#9c179e"
            ],
            [
             0.4444444444444444,
             "#bd3786"
            ],
            [
             0.5555555555555556,
             "#d8576b"
            ],
            [
             0.6666666666666666,
             "#ed7953"
            ],
            [
             0.7777777777777778,
             "#fb9f3a"
            ],
            [
             0.8888888888888888,
             "#fdca26"
            ],
            [
             1,
             "#f0f921"
            ]
           ]
          },
          "colorway": [
           "#636efa",
           "#EF553B",
           "#00cc96",
           "#ab63fa",
           "#FFA15A",
           "#19d3f3",
           "#FF6692",
           "#B6E880",
           "#FF97FF",
           "#FECB52"
          ],
          "font": {
           "color": "#2a3f5f"
          },
          "geo": {
           "bgcolor": "white",
           "lakecolor": "white",
           "landcolor": "#E5ECF6",
           "showlakes": true,
           "showland": true,
           "subunitcolor": "white"
          },
          "hoverlabel": {
           "align": "left"
          },
          "hovermode": "closest",
          "mapbox": {
           "style": "light"
          },
          "paper_bgcolor": "white",
          "plot_bgcolor": "#E5ECF6",
          "polar": {
           "angularaxis": {
            "gridcolor": "white",
            "linecolor": "white",
            "ticks": ""
           },
           "bgcolor": "#E5ECF6",
           "radialaxis": {
            "gridcolor": "white",
            "linecolor": "white",
            "ticks": ""
           }
          },
          "scene": {
           "xaxis": {
            "backgroundcolor": "#E5ECF6",
            "gridcolor": "white",
            "gridwidth": 2,
            "linecolor": "white",
            "showbackground": true,
            "ticks": "",
            "zerolinecolor": "white"
           },
           "yaxis": {
            "backgroundcolor": "#E5ECF6",
            "gridcolor": "white",
            "gridwidth": 2,
            "linecolor": "white",
            "showbackground": true,
            "ticks": "",
            "zerolinecolor": "white"
           },
           "zaxis": {
            "backgroundcolor": "#E5ECF6",
            "gridcolor": "white",
            "gridwidth": 2,
            "linecolor": "white",
            "showbackground": true,
            "ticks": "",
            "zerolinecolor": "white"
           }
          },
          "shapedefaults": {
           "line": {
            "color": "#2a3f5f"
           }
          },
          "ternary": {
           "aaxis": {
            "gridcolor": "white",
            "linecolor": "white",
            "ticks": ""
           },
           "baxis": {
            "gridcolor": "white",
            "linecolor": "white",
            "ticks": ""
           },
           "bgcolor": "#E5ECF6",
           "caxis": {
            "gridcolor": "white",
            "linecolor": "white",
            "ticks": ""
           }
          },
          "title": {
           "x": 0.05
          },
          "xaxis": {
           "automargin": true,
           "gridcolor": "white",
           "linecolor": "white",
           "ticks": "",
           "title": {
            "standoff": 15
           },
           "zerolinecolor": "white",
           "zerolinewidth": 2
          },
          "yaxis": {
           "automargin": true,
           "gridcolor": "white",
           "linecolor": "white",
           "ticks": "",
           "title": {
            "standoff": 15
           },
           "zerolinecolor": "white",
           "zerolinewidth": 2
          }
         }
        },
        "xaxis": {
         "anchor": "y",
         "domain": [
          0,
          1
         ],
         "title": {
          "text": "date"
         }
        },
        "yaxis": {
         "anchor": "x",
         "domain": [
          0,
          1
         ],
         "title": {
          "text": "value"
         }
        }
       }
      }
     },
     "metadata": {},
     "output_type": "display_data"
    },
    {
     "data": {
      "application/vnd.plotly.v1+json": {
       "config": {
        "plotlyServerURL": "https://plot.ly"
       },
       "data": [
        {
         "customdata": [
          [
           "I:2460 P:400.0",
           "Leaf Y1 1"
          ],
          [
           "I:2460 P:400.0",
           "Leaf Y1 1"
          ],
          [
           "I:2460 P:400.0",
           "Leaf Y1 1"
          ],
          [
           "I:2460 P:400.0",
           "Leaf Y1 1"
          ],
          [
           "I:2460 P:400.0",
           "Leaf Y1 1"
          ],
          [
           "I:2460 P:400.0",
           "Leaf Y1 1"
          ],
          [
           "I:2460 P:400.0",
           "Leaf Y1 1"
          ],
          [
           "I:2460 P:400.0",
           "Leaf Y1 1"
          ],
          [
           "I:2460 P:400.0",
           "Leaf Y1 1"
          ],
          [
           "I:2460 P:400.0",
           "Leaf Y1 1"
          ],
          [
           "I:2460 P:400.0",
           "Leaf Y1 1"
          ],
          [
           "I:2460 P:400.0",
           "Leaf Y1 1"
          ],
          [
           "I:2460 P:400.0",
           "Leaf Y1 1"
          ],
          [
           "I:2460 P:400.0",
           "Leaf Y1 1"
          ],
          [
           "I:2460 P:400.0",
           "Leaf Y1 1"
          ]
         ],
         "hovertemplate": "linac=2638<br>date=%{x}<br>value=%{y}<br>Part&item=%{customdata[0]}<br>category=%{customdata[1]}<extra></extra>",
         "legendgroup": "2638",
         "line": {
          "color": "#636efa",
          "dash": "solid"
         },
         "marker": {
          "symbol": "circle"
         },
         "mode": "lines+markers",
         "name": "2638",
         "orientation": "v",
         "showlegend": true,
         "type": "scatter",
         "x": [
          "2025-05-21",
          "2025-04-09",
          "2025-02-26",
          "2025-02-24",
          "2025-02-12",
          "2025-01-29",
          "2025-01-08",
          "2024-12-18",
          "2024-08-14",
          "2024-06-26",
          "2024-06-19",
          "2024-05-01",
          "2024-03-13",
          "2024-01-31",
          "2023-12-13"
         ],
         "xaxis": "x",
         "y": {
          "bdata": "OK6z/385rv/7pKn/mrKm//gfq/9jLK3/ePiq/7kzs/9ZK73/cRux/5Stxv+ABbT/FY+y/2xGwf8m6rH/",
          "dtype": "i4"
         },
         "yaxis": "y"
        },
        {
         "customdata": [
          [
           "I:2460 P:400.0",
           "Leaf Y1 1"
          ],
          [
           "I:2460 P:400.0",
           "Leaf Y1 1"
          ],
          [
           "I:2460 P:400.0",
           "Leaf Y1 1"
          ],
          [
           "I:2460 P:400.0",
           "Leaf Y1 1"
          ],
          [
           "I:2460 P:400.0",
           "Leaf Y1 1"
          ],
          [
           "I:2460 P:400.0",
           "Leaf Y1 1"
          ],
          [
           "I:2460 P:400.0",
           "Leaf Y1 1"
          ],
          [
           "I:2460 P:400.0",
           "Leaf Y1 1"
          ],
          [
           "I:2460 P:400.0",
           "Leaf Y1 1"
          ],
          [
           "I:2460 P:400.0",
           "Leaf Y1 1"
          ],
          [
           "I:2460 P:400.0",
           "Leaf Y1 1"
          ],
          [
           "I:2460 P:400.0",
           "Leaf Y1 1"
          ],
          [
           "I:2460 P:400.0",
           "Leaf Y1 1"
          ],
          [
           "I:2460 P:400.0",
           "Leaf Y1 1"
          ],
          [
           "I:2460 P:400.0",
           "Leaf Y1 1"
          ],
          [
           "I:2460 P:400.0",
           "Leaf Y1 1"
          ]
         ],
         "hovertemplate": "linac=2191<br>date=%{x}<br>value=%{y}<br>Part&item=%{customdata[0]}<br>category=%{customdata[1]}<extra></extra>",
         "legendgroup": "2191",
         "line": {
          "color": "#EF553B",
          "dash": "solid"
         },
         "marker": {
          "symbol": "circle"
         },
         "mode": "lines+markers",
         "name": "2191",
         "orientation": "v",
         "showlegend": true,
         "type": "scatter",
         "x": [
          "2025-04-23",
          "2025-03-12",
          "2025-02-12",
          "2025-01-08",
          "2024-11-26",
          "2024-11-06",
          "2024-09-25",
          "2024-09-11",
          "2024-07-24",
          "2024-07-03",
          "2024-06-19",
          "2024-05-01",
          "2024-03-20",
          "2024-02-07",
          "2023-12-27",
          "2023-12-13"
         ],
         "xaxis": "x",
         "y": {
          "bdata": "fwzn/6a78P/ubdz/1Dzo/zUK6P9+wvD/5cjq/9cesv83VL3/LQ+3/yU8z//q7Mr/GAfF/+RSyP+7Gcr/xtbP/w==",
          "dtype": "i4"
         },
         "yaxis": "y"
        },
        {
         "customdata": [
          [
           "I:2460 P:400.0",
           "Leaf Y1 1"
          ],
          [
           "I:2460 P:400.0",
           "Leaf Y1 1"
          ],
          [
           "I:2460 P:400.0",
           "Leaf Y1 1"
          ],
          [
           "I:2460 P:400.0",
           "Leaf Y1 1"
          ],
          [
           "I:2460 P:400.0",
           "Leaf Y1 1"
          ],
          [
           "I:2460 P:400.0",
           "Leaf Y1 1"
          ],
          [
           "I:2460 P:400.0",
           "Leaf Y1 1"
          ],
          [
           "I:2460 P:400.0",
           "Leaf Y1 1"
          ],
          [
           "I:2460 P:400.0",
           "Leaf Y1 1"
          ],
          [
           "I:2460 P:400.0",
           "Leaf Y1 1"
          ],
          [
           "I:2460 P:400.0",
           "Leaf Y1 1"
          ],
          [
           "I:2460 P:400.0",
           "Leaf Y1 1"
          ],
          [
           "I:2460 P:400.0",
           "Leaf Y1 1"
          ]
         ],
         "hovertemplate": "linac=2983<br>date=%{x}<br>value=%{y}<br>Part&item=%{customdata[0]}<br>category=%{customdata[1]}<extra></extra>",
         "legendgroup": "2983",
         "line": {
          "color": "#00cc96",
          "dash": "solid"
         },
         "marker": {
          "symbol": "circle"
         },
         "mode": "lines+markers",
         "name": "2983",
         "orientation": "v",
         "showlegend": true,
         "type": "scatter",
         "x": [
          "2025-02-19",
          "2025-01-15",
          "2024-11-27",
          "2024-10-09",
          "2024-09-25",
          "2024-09-11",
          "2024-07-24",
          "2024-06-12",
          "2024-06-05",
          "2024-04-24",
          "2024-03-13",
          "2024-03-06",
          "2024-02-21"
         ],
         "xaxis": "x",
         "y": {
          "bdata": "PFSo/wp0qP/J5ar/nxGh/xWQrv8J0rj//Cyy/zs5tv+wmbH/+RS8/7qStP/ttav/jmqx/w==",
          "dtype": "i4"
         },
         "yaxis": "y"
        },
        {
         "customdata": [
          [
           "I:2460 P:400.0",
           "Leaf Y1 1"
          ],
          [
           "I:2460 P:400.0",
           "Leaf Y1 1"
          ],
          [
           "I:2460 P:400.0",
           "Leaf Y1 1"
          ],
          [
           "I:2460 P:400.0",
           "Leaf Y1 1"
          ],
          [
           "I:2460 P:400.0",
           "Leaf Y1 1"
          ],
          [
           "I:2460 P:400.0",
           "Leaf Y1 1"
          ],
          [
           "I:2460 P:400.0",
           "Leaf Y1 1"
          ],
          [
           "I:2460 P:400.0",
           "Leaf Y1 1"
          ]
         ],
         "hovertemplate": "linac=2325<br>date=%{x}<br>value=%{y}<br>Part&item=%{customdata[0]}<br>category=%{customdata[1]}<extra></extra>",
         "legendgroup": "2325",
         "line": {
          "color": "#ab63fa",
          "dash": "solid"
         },
         "marker": {
          "symbol": "circle"
         },
         "mode": "lines+markers",
         "name": "2325",
         "orientation": "v",
         "showlegend": true,
         "type": "scatter",
         "x": [
          "2024-05-01",
          "2024-04-24",
          "2024-03-20",
          "2024-01-31",
          "2023-12-20",
          "2023-11-15",
          "2023-10-11",
          "2023-09-13"
         ],
         "xaxis": "x",
         "y": {
          "bdata": "b3zA//swwf9CPbP/qiLC/yu1xf8Rvrz/n9zF/1XIv/8=",
          "dtype": "i4"
         },
         "yaxis": "y"
        }
       ],
       "layout": {
        "legend": {
         "title": {
          "text": "linac"
         },
         "tracegroupgap": 0
        },
        "margin": {
         "t": 60
        },
        "template": {
         "data": {
          "bar": [
           {
            "error_x": {
             "color": "#2a3f5f"
            },
            "error_y": {
             "color": "#2a3f5f"
            },
            "marker": {
             "line": {
              "color": "#E5ECF6",
              "width": 0.5
             },
             "pattern": {
              "fillmode": "overlay",
              "size": 10,
              "solidity": 0.2
             }
            },
            "type": "bar"
           }
          ],
          "barpolar": [
           {
            "marker": {
             "line": {
              "color": "#E5ECF6",
              "width": 0.5
             },
             "pattern": {
              "fillmode": "overlay",
              "size": 10,
              "solidity": 0.2
             }
            },
            "type": "barpolar"
           }
          ],
          "carpet": [
           {
            "aaxis": {
             "endlinecolor": "#2a3f5f",
             "gridcolor": "white",
             "linecolor": "white",
             "minorgridcolor": "white",
             "startlinecolor": "#2a3f5f"
            },
            "baxis": {
             "endlinecolor": "#2a3f5f",
             "gridcolor": "white",
             "linecolor": "white",
             "minorgridcolor": "white",
             "startlinecolor": "#2a3f5f"
            },
            "type": "carpet"
           }
          ],
          "choropleth": [
           {
            "colorbar": {
             "outlinewidth": 0,
             "ticks": ""
            },
            "type": "choropleth"
           }
          ],
          "contour": [
           {
            "colorbar": {
             "outlinewidth": 0,
             "ticks": ""
            },
            "colorscale": [
             [
              0,
              "#0d0887"
             ],
             [
              0.1111111111111111,
              "#46039f"
             ],
             [
              0.2222222222222222,
              "#7201a8"
             ],
             [
              0.3333333333333333,
              "#9c179e"
             ],
             [
              0.4444444444444444,
              "#bd3786"
             ],
             [
              0.5555555555555556,
              "#d8576b"
             ],
             [
              0.6666666666666666,
              "#ed7953"
             ],
             [
              0.7777777777777778,
              "#fb9f3a"
             ],
             [
              0.8888888888888888,
              "#fdca26"
             ],
             [
              1,
              "#f0f921"
             ]
            ],
            "type": "contour"
           }
          ],
          "contourcarpet": [
           {
            "colorbar": {
             "outlinewidth": 0,
             "ticks": ""
            },
            "type": "contourcarpet"
           }
          ],
          "heatmap": [
           {
            "colorbar": {
             "outlinewidth": 0,
             "ticks": ""
            },
            "colorscale": [
             [
              0,
              "#0d0887"
             ],
             [
              0.1111111111111111,
              "#46039f"
             ],
             [
              0.2222222222222222,
              "#7201a8"
             ],
             [
              0.3333333333333333,
              "#9c179e"
             ],
             [
              0.4444444444444444,
              "#bd3786"
             ],
             [
              0.5555555555555556,
              "#d8576b"
             ],
             [
              0.6666666666666666,
              "#ed7953"
             ],
             [
              0.7777777777777778,
              "#fb9f3a"
             ],
             [
              0.8888888888888888,
              "#fdca26"
             ],
             [
              1,
              "#f0f921"
             ]
            ],
            "type": "heatmap"
           }
          ],
          "histogram": [
           {
            "marker": {
             "pattern": {
              "fillmode": "overlay",
              "size": 10,
              "solidity": 0.2
             }
            },
            "type": "histogram"
           }
          ],
          "histogram2d": [
           {
            "colorbar": {
             "outlinewidth": 0,
             "ticks": ""
            },
            "colorscale": [
             [
              0,
              "#0d0887"
             ],
             [
              0.1111111111111111,
              "#46039f"
             ],
             [
              0.2222222222222222,
              "#7201a8"
             ],
             [
              0.3333333333333333,
              "#9c179e"
             ],
             [
              0.4444444444444444,
              "#bd3786"
             ],
             [
              0.5555555555555556,
              "#d8576b"
             ],
             [
              0.6666666666666666,
              "#ed7953"
             ],
             [
              0.7777777777777778,
              "#fb9f3a"
             ],
             [
              0.8888888888888888,
              "#fdca26"
             ],
             [
              1,
              "#f0f921"
             ]
            ],
            "type": "histogram2d"
           }
          ],
          "histogram2dcontour": [
           {
            "colorbar": {
             "outlinewidth": 0,
             "ticks": ""
            },
            "colorscale": [
             [
              0,
              "#0d0887"
             ],
             [
              0.1111111111111111,
              "#46039f"
             ],
             [
              0.2222222222222222,
              "#7201a8"
             ],
             [
              0.3333333333333333,
              "#9c179e"
             ],
             [
              0.4444444444444444,
              "#bd3786"
             ],
             [
              0.5555555555555556,
              "#d8576b"
             ],
             [
              0.6666666666666666,
              "#ed7953"
             ],
             [
              0.7777777777777778,
              "#fb9f3a"
             ],
             [
              0.8888888888888888,
              "#fdca26"
             ],
             [
              1,
              "#f0f921"
             ]
            ],
            "type": "histogram2dcontour"
           }
          ],
          "mesh3d": [
           {
            "colorbar": {
             "outlinewidth": 0,
             "ticks": ""
            },
            "type": "mesh3d"
           }
          ],
          "parcoords": [
           {
            "line": {
             "colorbar": {
              "outlinewidth": 0,
              "ticks": ""
             }
            },
            "type": "parcoords"
           }
          ],
          "pie": [
           {
            "automargin": true,
            "type": "pie"
           }
          ],
          "scatter": [
           {
            "fillpattern": {
             "fillmode": "overlay",
             "size": 10,
             "solidity": 0.2
            },
            "type": "scatter"
           }
          ],
          "scatter3d": [
           {
            "line": {
             "colorbar": {
              "outlinewidth": 0,
              "ticks": ""
             }
            },
            "marker": {
             "colorbar": {
              "outlinewidth": 0,
              "ticks": ""
             }
            },
            "type": "scatter3d"
           }
          ],
          "scattercarpet": [
           {
            "marker": {
             "colorbar": {
              "outlinewidth": 0,
              "ticks": ""
             }
            },
            "type": "scattercarpet"
           }
          ],
          "scattergeo": [
           {
            "marker": {
             "colorbar": {
              "outlinewidth": 0,
              "ticks": ""
             }
            },
            "type": "scattergeo"
           }
          ],
          "scattergl": [
           {
            "marker": {
             "colorbar": {
              "outlinewidth": 0,
              "ticks": ""
             }
            },
            "type": "scattergl"
           }
          ],
          "scattermap": [
           {
            "marker": {
             "colorbar": {
              "outlinewidth": 0,
              "ticks": ""
             }
            },
            "type": "scattermap"
           }
          ],
          "scattermapbox": [
           {
            "marker": {
             "colorbar": {
              "outlinewidth": 0,
              "ticks": ""
             }
            },
            "type": "scattermapbox"
           }
          ],
          "scatterpolar": [
           {
            "marker": {
             "colorbar": {
              "outlinewidth": 0,
              "ticks": ""
             }
            },
            "type": "scatterpolar"
           }
          ],
          "scatterpolargl": [
           {
            "marker": {
             "colorbar": {
              "outlinewidth": 0,
              "ticks": ""
             }
            },
            "type": "scatterpolargl"
           }
          ],
          "scatterternary": [
           {
            "marker": {
             "colorbar": {
              "outlinewidth": 0,
              "ticks": ""
             }
            },
            "type": "scatterternary"
           }
          ],
          "surface": [
           {
            "colorbar": {
             "outlinewidth": 0,
             "ticks": ""
            },
            "colorscale": [
             [
              0,
              "#0d0887"
             ],
             [
              0.1111111111111111,
              "#46039f"
             ],
             [
              0.2222222222222222,
              "#7201a8"
             ],
             [
              0.3333333333333333,
              "#9c179e"
             ],
             [
              0.4444444444444444,
              "#bd3786"
             ],
             [
              0.5555555555555556,
              "#d8576b"
             ],
             [
              0.6666666666666666,
              "#ed7953"
             ],
             [
              0.7777777777777778,
              "#fb9f3a"
             ],
             [
              0.8888888888888888,
              "#fdca26"
             ],
             [
              1,
              "#f0f921"
             ]
            ],
            "type": "surface"
           }
          ],
          "table": [
           {
            "cells": {
             "fill": {
              "color": "#EBF0F8"
             },
             "line": {
              "color": "white"
             }
            },
            "header": {
             "fill": {
              "color": "#C8D4E3"
             },
             "line": {
              "color": "white"
             }
            },
            "type": "table"
           }
          ]
         },
         "layout": {
          "annotationdefaults": {
           "arrowcolor": "#2a3f5f",
           "arrowhead": 0,
           "arrowwidth": 1
          },
          "autotypenumbers": "strict",
          "coloraxis": {
           "colorbar": {
            "outlinewidth": 0,
            "ticks": ""
           }
          },
          "colorscale": {
           "diverging": [
            [
             0,
             "#8e0152"
            ],
            [
             0.1,
             "#c51b7d"
            ],
            [
             0.2,
             "#de77ae"
            ],
            [
             0.3,
             "#f1b6da"
            ],
            [
             0.4,
             "#fde0ef"
            ],
            [
             0.5,
             "#f7f7f7"
            ],
            [
             0.6,
             "#e6f5d0"
            ],
            [
             0.7,
             "#b8e186"
            ],
            [
             0.8,
             "#7fbc41"
            ],
            [
             0.9,
             "#4d9221"
            ],
            [
             1,
             "#276419"
            ]
           ],
           "sequential": [
            [
             0,
             "#0d0887"
            ],
            [
             0.1111111111111111,
             "#46039f"
            ],
            [
             0.2222222222222222,
             "#7201a8"
            ],
            [
             0.3333333333333333,
             "#9c179e"
            ],
            [
             0.4444444444444444,
             "#bd3786"
            ],
            [
             0.5555555555555556,
             "#d8576b"
            ],
            [
             0.6666666666666666,
             "#ed7953"
            ],
            [
             0.7777777777777778,
             "#fb9f3a"
            ],
            [
             0.8888888888888888,
             "#fdca26"
            ],
            [
             1,
             "#f0f921"
            ]
           ],
           "sequentialminus": [
            [
             0,
             "#0d0887"
            ],
            [
             0.1111111111111111,
             "#46039f"
            ],
            [
             0.2222222222222222,
             "#7201a8"
            ],
            [
             0.3333333333333333,
             "#9c179e"
            ],
            [
             0.4444444444444444,
             "#bd3786"
            ],
            [
             0.5555555555555556,
             "#d8576b"
            ],
            [
             0.6666666666666666,
             "#ed7953"
            ],
            [
             0.7777777777777778,
             "#fb9f3a"
            ],
            [
             0.8888888888888888,
             "#fdca26"
            ],
            [
             1,
             "#f0f921"
            ]
           ]
          },
          "colorway": [
           "#636efa",
           "#EF553B",
           "#00cc96",
           "#ab63fa",
           "#FFA15A",
           "#19d3f3",
           "#FF6692",
           "#B6E880",
           "#FF97FF",
           "#FECB52"
          ],
          "font": {
           "color": "#2a3f5f"
          },
          "geo": {
           "bgcolor": "white",
           "lakecolor": "white",
           "landcolor": "#E5ECF6",
           "showlakes": true,
           "showland": true,
           "subunitcolor": "white"
          },
          "hoverlabel": {
           "align": "left"
          },
          "hovermode": "closest",
          "mapbox": {
           "style": "light"
          },
          "paper_bgcolor": "white",
          "plot_bgcolor": "#E5ECF6",
          "polar": {
           "angularaxis": {
            "gridcolor": "white",
            "linecolor": "white",
            "ticks": ""
           },
           "bgcolor": "#E5ECF6",
           "radialaxis": {
            "gridcolor": "white",
            "linecolor": "white",
            "ticks": ""
           }
          },
          "scene": {
           "xaxis": {
            "backgroundcolor": "#E5ECF6",
            "gridcolor": "white",
            "gridwidth": 2,
            "linecolor": "white",
            "showbackground": true,
            "ticks": "",
            "zerolinecolor": "white"
           },
           "yaxis": {
            "backgroundcolor": "#E5ECF6",
            "gridcolor": "white",
            "gridwidth": 2,
            "linecolor": "white",
            "showbackground": true,
            "ticks": "",
            "zerolinecolor": "white"
           },
           "zaxis": {
            "backgroundcolor": "#E5ECF6",
            "gridcolor": "white",
            "gridwidth": 2,
            "linecolor": "white",
            "showbackground": true,
            "ticks": "",
            "zerolinecolor": "white"
           }
          },
          "shapedefaults": {
           "line": {
            "color": "#2a3f5f"
           }
          },
          "ternary": {
           "aaxis": {
            "gridcolor": "white",
            "linecolor": "white",
            "ticks": ""
           },
           "baxis": {
            "gridcolor": "white",
            "linecolor": "white",
            "ticks": ""
           },
           "bgcolor": "#E5ECF6",
           "caxis": {
            "gridcolor": "white",
            "linecolor": "white",
            "ticks": ""
           }
          },
          "title": {
           "x": 0.05
          },
          "xaxis": {
           "automargin": true,
           "gridcolor": "white",
           "linecolor": "white",
           "ticks": "",
           "title": {
            "standoff": 15
           },
           "zerolinecolor": "white",
           "zerolinewidth": 2
          },
          "yaxis": {
           "automargin": true,
           "gridcolor": "white",
           "linecolor": "white",
           "ticks": "",
           "title": {
            "standoff": 15
           },
           "zerolinecolor": "white",
           "zerolinewidth": 2
          }
         }
        },
        "xaxis": {
         "anchor": "y",
         "domain": [
          0,
          1
         ],
         "title": {
          "text": "date"
         }
        },
        "yaxis": {
         "anchor": "x",
         "domain": [
          0,
          1
         ],
         "title": {
          "text": "value"
         }
        }
       }
      }
     },
     "metadata": {},
     "output_type": "display_data"
    },
    {
     "data": {
      "application/vnd.plotly.v1+json": {
       "config": {
        "plotlyServerURL": "https://plot.ly"
       },
       "data": [
        {
         "customdata": [
          [
           "I:2460 P:401.0",
           "Leaf Y1 1"
          ],
          [
           "I:2460 P:401.0",
           "Leaf Y1 1"
          ],
          [
           "I:2460 P:401.0",
           "Leaf Y1 1"
          ],
          [
           "I:2460 P:401.0",
           "Leaf Y1 1"
          ],
          [
           "I:2460 P:401.0",
           "Leaf Y1 1"
          ],
          [
           "I:2460 P:401.0",
           "Leaf Y1 1"
          ],
          [
           "I:2460 P:401.0",
           "Leaf Y1 1"
          ],
          [
           "I:2460 P:401.0",
           "Leaf Y1 1"
          ],
          [
           "I:2460 P:401.0",
           "Leaf Y1 1"
          ],
          [
           "I:2460 P:401.0",
           "Leaf Y1 1"
          ],
          [
           "I:2460 P:401.0",
           "Leaf Y1 1"
          ],
          [
           "I:2460 P:401.0",
           "Leaf Y1 1"
          ],
          [
           "I:2460 P:401.0",
           "Leaf Y1 1"
          ],
          [
           "I:2460 P:401.0",
           "Leaf Y1 1"
          ],
          [
           "I:2460 P:401.0",
           "Leaf Y1 1"
          ]
         ],
         "hovertemplate": "linac=2638<br>date=%{x}<br>value=%{y}<br>Part&item=%{customdata[0]}<br>category=%{customdata[1]}<extra></extra>",
         "legendgroup": "2638",
         "line": {
          "color": "#636efa",
          "dash": "solid"
         },
         "marker": {
          "symbol": "circle"
         },
         "mode": "lines+markers",
         "name": "2638",
         "orientation": "v",
         "showlegend": true,
         "type": "scatter",
         "x": [
          "2025-05-21",
          "2025-04-09",
          "2025-02-26",
          "2025-02-24",
          "2025-02-12",
          "2025-01-29",
          "2025-01-08",
          "2024-12-18",
          "2024-08-14",
          "2024-06-26",
          "2024-06-19",
          "2024-05-01",
          "2024-03-13",
          "2024-01-31",
          "2023-12-13"
         ],
         "xaxis": "x",
         "y": {
          "bdata": "2NXgxNT96+ft6CoWEi8N",
          "dtype": "i1"
         },
         "yaxis": "y"
        },
        {
         "customdata": [
          [
           "I:2460 P:401.0",
           "Leaf Y1 1"
          ],
          [
           "I:2460 P:401.0",
           "Leaf Y1 1"
          ],
          [
           "I:2460 P:401.0",
           "Leaf Y1 1"
          ],
          [
           "I:2460 P:401.0",
           "Leaf Y1 1"
          ],
          [
           "I:2460 P:401.0",
           "Leaf Y1 1"
          ],
          [
           "I:2460 P:401.0",
           "Leaf Y1 1"
          ],
          [
           "I:2460 P:401.0",
           "Leaf Y1 1"
          ],
          [
           "I:2460 P:401.0",
           "Leaf Y1 1"
          ],
          [
           "I:2460 P:401.0",
           "Leaf Y1 1"
          ],
          [
           "I:2460 P:401.0",
           "Leaf Y1 1"
          ],
          [
           "I:2460 P:401.0",
           "Leaf Y1 1"
          ],
          [
           "I:2460 P:401.0",
           "Leaf Y1 1"
          ],
          [
           "I:2460 P:401.0",
           "Leaf Y1 1"
          ],
          [
           "I:2460 P:401.0",
           "Leaf Y1 1"
          ],
          [
           "I:2460 P:401.0",
           "Leaf Y1 1"
          ],
          [
           "I:2460 P:401.0",
           "Leaf Y1 1"
          ]
         ],
         "hovertemplate": "linac=2191<br>date=%{x}<br>value=%{y}<br>Part&item=%{customdata[0]}<br>category=%{customdata[1]}<extra></extra>",
         "legendgroup": "2191",
         "line": {
          "color": "#EF553B",
          "dash": "solid"
         },
         "marker": {
          "symbol": "circle"
         },
         "mode": "lines+markers",
         "name": "2191",
         "orientation": "v",
         "showlegend": true,
         "type": "scatter",
         "x": [
          "2025-04-23",
          "2025-03-12",
          "2025-02-12",
          "2025-01-08",
          "2024-11-26",
          "2024-11-06",
          "2024-09-25",
          "2024-09-11",
          "2024-07-24",
          "2024-07-03",
          "2024-06-19",
          "2024-05-01",
          "2024-03-20",
          "2024-02-07",
          "2023-12-27",
          "2023-12-13"
         ],
         "xaxis": "x",
         "y": {
          "bdata": "AvAADvgBEVZGYUBRYmlRVQ==",
          "dtype": "i1"
         },
         "yaxis": "y"
        },
        {
         "customdata": [
          [
           "I:2460 P:401.0",
           "Leaf Y1 1"
          ],
          [
           "I:2460 P:401.0",
           "Leaf Y1 1"
          ],
          [
           "I:2460 P:401.0",
           "Leaf Y1 1"
          ],
          [
           "I:2460 P:401.0",
           "Leaf Y1 1"
          ],
          [
           "I:2460 P:401.0",
           "Leaf Y1 1"
          ],
          [
           "I:2460 P:401.0",
           "Leaf Y1 1"
          ],
          [
           "I:2460 P:401.0",
           "Leaf Y1 1"
          ],
          [
           "I:2460 P:401.0",
           "Leaf Y1 1"
          ],
          [
           "I:2460 P:401.0",
           "Leaf Y1 1"
          ],
          [
           "I:2460 P:401.0",
           "Leaf Y1 1"
          ],
          [
           "I:2460 P:401.0",
           "Leaf Y1 1"
          ],
          [
           "I:2460 P:401.0",
           "Leaf Y1 1"
          ],
          [
           "I:2460 P:401.0",
           "Leaf Y1 1"
          ]
         ],
         "hovertemplate": "linac=2983<br>date=%{x}<br>value=%{y}<br>Part&item=%{customdata[0]}<br>category=%{customdata[1]}<extra></extra>",
         "legendgroup": "2983",
         "line": {
          "color": "#00cc96",
          "dash": "solid"
         },
         "marker": {
          "symbol": "circle"
         },
         "mode": "lines+markers",
         "name": "2983",
         "orientation": "v",
         "showlegend": true,
         "type": "scatter",
         "x": [
          "2025-02-19",
          "2025-01-15",
          "2024-11-27",
          "2024-10-09",
          "2024-09-25",
          "2024-09-11",
          "2024-07-24",
          "2024-06-12",
          "2024-06-05",
          "2024-04-24",
          "2024-03-13",
          "2024-03-06",
          "2024-02-21"
         ],
         "xaxis": "x",
         "y": {
          "bdata": "EQb6+gABCQHkEvj0AA==",
          "dtype": "i1"
         },
         "yaxis": "y"
        },
        {
         "customdata": [
          [
           "I:2460 P:401.0",
           "Leaf Y1 1"
          ],
          [
           "I:2460 P:401.0",
           "Leaf Y1 1"
          ],
          [
           "I:2460 P:401.0",
           "Leaf Y1 1"
          ],
          [
           "I:2460 P:401.0",
           "Leaf Y1 1"
          ],
          [
           "I:2460 P:401.0",
           "Leaf Y1 1"
          ],
          [
           "I:2460 P:401.0",
           "Leaf Y1 1"
          ],
          [
           "I:2460 P:401.0",
           "Leaf Y1 1"
          ],
          [
           "I:2460 P:401.0",
           "Leaf Y1 1"
          ]
         ],
         "hovertemplate": "linac=2325<br>date=%{x}<br>value=%{y}<br>Part&item=%{customdata[0]}<br>category=%{customdata[1]}<extra></extra>",
         "legendgroup": "2325",
         "line": {
          "color": "#ab63fa",
          "dash": "solid"
         },
         "marker": {
          "symbol": "circle"
         },
         "mode": "lines+markers",
         "name": "2325",
         "orientation": "v",
         "showlegend": true,
         "type": "scatter",
         "x": [
          "2024-05-01",
          "2024-04-24",
          "2024-03-20",
          "2024-01-31",
          "2023-12-20",
          "2023-11-15",
          "2023-10-11",
          "2023-09-13"
         ],
         "xaxis": "x",
         "y": {
          "bdata": "CfcICv4VBxw=",
          "dtype": "i1"
         },
         "yaxis": "y"
        }
       ],
       "layout": {
        "legend": {
         "title": {
          "text": "linac"
         },
         "tracegroupgap": 0
        },
        "margin": {
         "t": 60
        },
        "template": {
         "data": {
          "bar": [
           {
            "error_x": {
             "color": "#2a3f5f"
            },
            "error_y": {
             "color": "#2a3f5f"
            },
            "marker": {
             "line": {
              "color": "#E5ECF6",
              "width": 0.5
             },
             "pattern": {
              "fillmode": "overlay",
              "size": 10,
              "solidity": 0.2
             }
            },
            "type": "bar"
           }
          ],
          "barpolar": [
           {
            "marker": {
             "line": {
              "color": "#E5ECF6",
              "width": 0.5
             },
             "pattern": {
              "fillmode": "overlay",
              "size": 10,
              "solidity": 0.2
             }
            },
            "type": "barpolar"
           }
          ],
          "carpet": [
           {
            "aaxis": {
             "endlinecolor": "#2a3f5f",
             "gridcolor": "white",
             "linecolor": "white",
             "minorgridcolor": "white",
             "startlinecolor": "#2a3f5f"
            },
            "baxis": {
             "endlinecolor": "#2a3f5f",
             "gridcolor": "white",
             "linecolor": "white",
             "minorgridcolor": "white",
             "startlinecolor": "#2a3f5f"
            },
            "type": "carpet"
           }
          ],
          "choropleth": [
           {
            "colorbar": {
             "outlinewidth": 0,
             "ticks": ""
            },
            "type": "choropleth"
           }
          ],
          "contour": [
           {
            "colorbar": {
             "outlinewidth": 0,
             "ticks": ""
            },
            "colorscale": [
             [
              0,
              "#0d0887"
             ],
             [
              0.1111111111111111,
              "#46039f"
             ],
             [
              0.2222222222222222,
              "#7201a8"
             ],
             [
              0.3333333333333333,
              "#9c179e"
             ],
             [
              0.4444444444444444,
              "#bd3786"
             ],
             [
              0.5555555555555556,
              "#d8576b"
             ],
             [
              0.6666666666666666,
              "#ed7953"
             ],
             [
              0.7777777777777778,
              "#fb9f3a"
             ],
             [
              0.8888888888888888,
              "#fdca26"
             ],
             [
              1,
              "#f0f921"
             ]
            ],
            "type": "contour"
           }
          ],
          "contourcarpet": [
           {
            "colorbar": {
             "outlinewidth": 0,
             "ticks": ""
            },
            "type": "contourcarpet"
           }
          ],
          "heatmap": [
           {
            "colorbar": {
             "outlinewidth": 0,
             "ticks": ""
            },
            "colorscale": [
             [
              0,
              "#0d0887"
             ],
             [
              0.1111111111111111,
              "#46039f"
             ],
             [
              0.2222222222222222,
              "#7201a8"
             ],
             [
              0.3333333333333333,
              "#9c179e"
             ],
             [
              0.4444444444444444,
              "#bd3786"
             ],
             [
              0.5555555555555556,
              "#d8576b"
             ],
             [
              0.6666666666666666,
              "#ed7953"
             ],
             [
              0.7777777777777778,
              "#fb9f3a"
             ],
             [
              0.8888888888888888,
              "#fdca26"
             ],
             [
              1,
              "#f0f921"
             ]
            ],
            "type": "heatmap"
           }
          ],
          "histogram": [
           {
            "marker": {
             "pattern": {
              "fillmode": "overlay",
              "size": 10,
              "solidity": 0.2
             }
            },
            "type": "histogram"
           }
          ],
          "histogram2d": [
           {
            "colorbar": {
             "outlinewidth": 0,
             "ticks": ""
            },
            "colorscale": [
             [
              0,
              "#0d0887"
             ],
             [
              0.1111111111111111,
              "#46039f"
             ],
             [
              0.2222222222222222,
              "#7201a8"
             ],
             [
              0.3333333333333333,
              "#9c179e"
             ],
             [
              0.4444444444444444,
              "#bd3786"
             ],
             [
              0.5555555555555556,
              "#d8576b"
             ],
             [
              0.6666666666666666,
              "#ed7953"
             ],
             [
              0.7777777777777778,
              "#fb9f3a"
             ],
             [
              0.8888888888888888,
              "#fdca26"
             ],
             [
              1,
              "#f0f921"
             ]
            ],
            "type": "histogram2d"
           }
          ],
          "histogram2dcontour": [
           {
            "colorbar": {
             "outlinewidth": 0,
             "ticks": ""
            },
            "colorscale": [
             [
              0,
              "#0d0887"
             ],
             [
              0.1111111111111111,
              "#46039f"
             ],
             [
              0.2222222222222222,
              "#7201a8"
             ],
             [
              0.3333333333333333,
              "#9c179e"
             ],
             [
              0.4444444444444444,
              "#bd3786"
             ],
             [
              0.5555555555555556,
              "#d8576b"
             ],
             [
              0.6666666666666666,
              "#ed7953"
             ],
             [
              0.7777777777777778,
              "#fb9f3a"
             ],
             [
              0.8888888888888888,
              "#fdca26"
             ],
             [
              1,
              "#f0f921"
             ]
            ],
            "type": "histogram2dcontour"
           }
          ],
          "mesh3d": [
           {
            "colorbar": {
             "outlinewidth": 0,
             "ticks": ""
            },
            "type": "mesh3d"
           }
          ],
          "parcoords": [
           {
            "line": {
             "colorbar": {
              "outlinewidth": 0,
              "ticks": ""
             }
            },
            "type": "parcoords"
           }
          ],
          "pie": [
           {
            "automargin": true,
            "type": "pie"
           }
          ],
          "scatter": [
           {
            "fillpattern": {
             "fillmode": "overlay",
             "size": 10,
             "solidity": 0.2
            },
            "type": "scatter"
           }
          ],
          "scatter3d": [
           {
            "line": {
             "colorbar": {
              "outlinewidth": 0,
              "ticks": ""
             }
            },
            "marker": {
             "colorbar": {
              "outlinewidth": 0,
              "ticks": ""
             }
            },
            "type": "scatter3d"
           }
          ],
          "scattercarpet": [
           {
            "marker": {
             "colorbar": {
              "outlinewidth": 0,
              "ticks": ""
             }
            },
            "type": "scattercarpet"
           }
          ],
          "scattergeo": [
           {
            "marker": {
             "colorbar": {
              "outlinewidth": 0,
              "ticks": ""
             }
            },
            "type": "scattergeo"
           }
          ],
          "scattergl": [
           {
            "marker": {
             "colorbar": {
              "outlinewidth": 0,
              "ticks": ""
             }
            },
            "type": "scattergl"
           }
          ],
          "scattermap": [
           {
            "marker": {
             "colorbar": {
              "outlinewidth": 0,
              "ticks": ""
             }
            },
            "type": "scattermap"
           }
          ],
          "scattermapbox": [
           {
            "marker": {
             "colorbar": {
              "outlinewidth": 0,
              "ticks": ""
             }
            },
            "type": "scattermapbox"
           }
          ],
          "scatterpolar": [
           {
            "marker": {
             "colorbar": {
              "outlinewidth": 0,
              "ticks": ""
             }
            },
            "type": "scatterpolar"
           }
          ],
          "scatterpolargl": [
           {
            "marker": {
             "colorbar": {
              "outlinewidth": 0,
              "ticks": ""
             }
            },
            "type": "scatterpolargl"
           }
          ],
          "scatterternary": [
           {
            "marker": {
             "colorbar": {
              "outlinewidth": 0,
              "ticks": ""
             }
            },
            "type": "scatterternary"
           }
          ],
          "surface": [
           {
            "colorbar": {
             "outlinewidth": 0,
             "ticks": ""
            },
            "colorscale": [
             [
              0,
              "#0d0887"
             ],
             [
              0.1111111111111111,
              "#46039f"
             ],
             [
              0.2222222222222222,
              "#7201a8"
             ],
             [
              0.3333333333333333,
              "#9c179e"
             ],
             [
              0.4444444444444444,
              "#bd3786"
             ],
             [
              0.5555555555555556,
              "#d8576b"
             ],
             [
              0.6666666666666666,
              "#ed7953"
             ],
             [
              0.7777777777777778,
              "#fb9f3a"
             ],
             [
              0.8888888888888888,
              "#fdca26"
             ],
             [
              1,
              "#f0f921"
             ]
            ],
            "type": "surface"
           }
          ],
          "table": [
           {
            "cells": {
             "fill": {
              "color": "#EBF0F8"
             },
             "line": {
              "color": "white"
             }
            },
            "header": {
             "fill": {
              "color": "#C8D4E3"
             },
             "line": {
              "color": "white"
             }
            },
            "type": "table"
           }
          ]
         },
         "layout": {
          "annotationdefaults": {
           "arrowcolor": "#2a3f5f",
           "arrowhead": 0,
           "arrowwidth": 1
          },
          "autotypenumbers": "strict",
          "coloraxis": {
           "colorbar": {
            "outlinewidth": 0,
            "ticks": ""
           }
          },
          "colorscale": {
           "diverging": [
            [
             0,
             "#8e0152"
            ],
            [
             0.1,
             "#c51b7d"
            ],
            [
             0.2,
             "#de77ae"
            ],
            [
             0.3,
             "#f1b6da"
            ],
            [
             0.4,
             "#fde0ef"
            ],
            [
             0.5,
             "#f7f7f7"
            ],
            [
             0.6,
             "#e6f5d0"
            ],
            [
             0.7,
             "#b8e186"
            ],
            [
             0.8,
             "#7fbc41"
            ],
            [
             0.9,
             "#4d9221"
            ],
            [
             1,
             "#276419"
            ]
           ],
           "sequential": [
            [
             0,
             "#0d0887"
            ],
            [
             0.1111111111111111,
             "#46039f"
            ],
            [
             0.2222222222222222,
             "#7201a8"
            ],
            [
             0.3333333333333333,
             "#9c179e"
            ],
            [
             0.4444444444444444,
             "#bd3786"
            ],
            [
             0.5555555555555556,
             "#d8576b"
            ],
            [
             0.6666666666666666,
             "#ed7953"
            ],
            [
             0.7777777777777778,
             "#fb9f3a"
            ],
            [
             0.8888888888888888,
             "#fdca26"
            ],
            [
             1,
             "#f0f921"
            ]
           ],
           "sequentialminus": [
            [
             0,
             "#0d0887"
            ],
            [
             0.1111111111111111,
             "#46039f"
            ],
            [
             0.2222222222222222,
             "#7201a8"
            ],
            [
             0.3333333333333333,
             "#9c179e"
            ],
            [
             0.4444444444444444,
             "#bd3786"
            ],
            [
             0.5555555555555556,
             "#d8576b"
            ],
            [
             0.6666666666666666,
             "#ed7953"
            ],
            [
             0.7777777777777778,
             "#fb9f3a"
            ],
            [
             0.8888888888888888,
             "#fdca26"
            ],
            [
             1,
             "#f0f921"
            ]
           ]
          },
          "colorway": [
           "#636efa",
           "#EF553B",
           "#00cc96",
           "#ab63fa",
           "#FFA15A",
           "#19d3f3",
           "#FF6692",
           "#B6E880",
           "#FF97FF",
           "#FECB52"
          ],
          "font": {
           "color": "#2a3f5f"
          },
          "geo": {
           "bgcolor": "white",
           "lakecolor": "white",
           "landcolor": "#E5ECF6",
           "showlakes": true,
           "showland": true,
           "subunitcolor": "white"
          },
          "hoverlabel": {
           "align": "left"
          },
          "hovermode": "closest",
          "mapbox": {
           "style": "light"
          },
          "paper_bgcolor": "white",
          "plot_bgcolor": "#E5ECF6",
          "polar": {
           "angularaxis": {
            "gridcolor": "white",
            "linecolor": "white",
            "ticks": ""
           },
           "bgcolor": "#E5ECF6",
           "radialaxis": {
            "gridcolor": "white",
            "linecolor": "white",
            "ticks": ""
           }
          },
          "scene": {
           "xaxis": {
            "backgroundcolor": "#E5ECF6",
            "gridcolor": "white",
            "gridwidth": 2,
            "linecolor": "white",
            "showbackground": true,
            "ticks": "",
            "zerolinecolor": "white"
           },
           "yaxis": {
            "backgroundcolor": "#E5ECF6",
            "gridcolor": "white",
            "gridwidth": 2,
            "linecolor": "white",
            "showbackground": true,
            "ticks": "",
            "zerolinecolor": "white"
           },
           "zaxis": {
            "backgroundcolor": "#E5ECF6",
            "gridcolor": "white",
            "gridwidth": 2,
            "linecolor": "white",
            "showbackground": true,
            "ticks": "",
            "zerolinecolor": "white"
           }
          },
          "shapedefaults": {
           "line": {
            "color": "#2a3f5f"
           }
          },
          "ternary": {
           "aaxis": {
            "gridcolor": "white",
            "linecolor": "white",
            "ticks": ""
           },
           "baxis": {
            "gridcolor": "white",
            "linecolor": "white",
            "ticks": ""
           },
           "bgcolor": "#E5ECF6",
           "caxis": {
            "gridcolor": "white",
            "linecolor": "white",
            "ticks": ""
           }
          },
          "title": {
           "x": 0.05
          },
          "xaxis": {
           "automargin": true,
           "gridcolor": "white",
           "linecolor": "white",
           "ticks": "",
           "title": {
            "standoff": 15
           },
           "zerolinecolor": "white",
           "zerolinewidth": 2
          },
          "yaxis": {
           "automargin": true,
           "gridcolor": "white",
           "linecolor": "white",
           "ticks": "",
           "title": {
            "standoff": 15
           },
           "zerolinecolor": "white",
           "zerolinewidth": 2
          }
         }
        },
        "xaxis": {
         "anchor": "y",
         "domain": [
          0,
          1
         ],
         "title": {
          "text": "date"
         }
        },
        "yaxis": {
         "anchor": "x",
         "domain": [
          0,
          1
         ],
         "title": {
          "text": "value"
         }
        }
       }
      }
     },
     "metadata": {},
     "output_type": "display_data"
    }
   ],
   "source": [
    "for x in range(len(show.columns)):  \n",
    "    p_I = show.columns[x][:2]\n",
    "\n",
    "\n",
    "    fig = px.line(optics_y1[optics_y1[\"Part&item\"] == f\"I:{p_I[0]} P:{p_I[1]}\"], x=\"date\", y =\"value\", color=\"linac\", hover_data=[\"Part&item\", \"category\"],markers=True)\n",
    "    fig.show()"
   ]
  },
  {
   "cell_type": "code",
   "execution_count": null,
   "id": "dcda219c",
   "metadata": {},
   "outputs": [],
   "source": [
    "pivoted =  changes_df_total.pivot(index=[\"date\", \"linac\", \"file_name\"], columns=[\"item\", \"part\", \"Part&item\",], values=\"value\").reset_index()\n",
    "corrs = []\n",
    "fig, axes = plt.subplots(nrows=2, ncols=2, figsize=(18, 18))\n",
    "linacs = pivoted[\"linac\"].unique().tolist()\n",
    "for num in range(len(linacs)):\n",
    "    row, col = divmod(num, 2)\n",
    "    corr = pivoted[pivoted[\"linac\"] == linacs[num]].set_index([\"date\", \"linac\", \"file_name\"]).corr()\n",
    "    corrs.append(corr)\n",
    "    sns.heatmap(corr, cmap=\"jet\", vmin=0.0, vmax=1.0, ax=axes[row, col], yticklabels=False, xticklabels=False )\n",
    "    axes[row, col].set_title(f\"Linac: {linacs[num]}\")\n",
    "    axes[row, col].grid(True)\n",
    "\n",
    "plt.tight_layout()\n",
    "plt.show()\n"
   ]
  },
  {
   "cell_type": "code",
   "execution_count": null,
   "id": "aacfe0f6",
   "metadata": {},
   "outputs": [],
   "source": [
    "results = pd.DataFrame()\n",
    "linac = [2325, 2191, 2638, 2983]\n",
    "num = -1\n",
    "\n",
    "for df_corr in corrs:\n",
    "    num += 1\n",
    "    \n",
    "    # Flatten MultiIndex to full \"I:... P:...\" labels for both rows and columns\n",
    "    df_flat = df_corr.copy()\n",
    "    df_flat.columns = df_flat.columns.map(lambda x: f\"I:{x[0]} P:{x[1]}\")\n",
    "    df_flat.index = df_flat.index.map(lambda x: f\"I:{x[0]} P:{x[1]}\")\n",
    "\n",
    "    # Stack and filter correlations\n",
    "    df_result = (\n",
    "        df_flat.stack()\n",
    "        .reset_index()\n",
    "        .rename(columns={\"level_0\": \"row\", \"level_1\": \"col\", 0: \"correlation\"})\n",
    "        .query(\"correlation > 0.8 and correlation < 1\")\n",
    "    )\n",
    "\n",
    "    # Add linac and deduplicate symmetrical pairs\n",
    "    df_result[\"linac\"] = linac[num]\n",
    "    df_result[\"pair\"] = df_result.apply(\n",
    "        lambda x: tuple(sorted([x[\"row\"], x[\"col\"]])), axis=1\n",
    "    )\n",
    "    df_result = df_result.drop_duplicates(subset=\"pair\").drop(columns=\"pair\")\n",
    "\n",
    "    results = pd.concat([results, df_result], ignore_index=True)\n",
    "\n",
    "# Pivot to get correlation per linac for each unique pair\n",
    "results.pivot(index=[\"row\", \"col\"], values=\"correlation\", columns=\"linac\")"
   ]
  }
 ],
 "metadata": {
  "kernelspec": {
   "display_name": "stage",
   "language": "python",
   "name": "python3"
  },
  "language_info": {
   "codemirror_mode": {
    "name": "ipython",
    "version": 3
   },
   "file_extension": ".py",
   "mimetype": "text/x-python",
   "name": "python",
   "nbconvert_exporter": "python",
   "pygments_lexer": "ipython3",
   "version": "3.13.2"
  }
 },
 "nbformat": 4,
 "nbformat_minor": 5
}
