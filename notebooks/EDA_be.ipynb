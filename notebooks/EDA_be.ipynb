{
 "cells": [
  {
   "cell_type": "markdown",
   "metadata": {},
   "source": [
    "Dit is de EDA voor BE.... bestanden, be52.. bestanden.  \n",
    "Dit bevat verschillende instel waardes voor de linac bij een bepaalde energie. "
   ]
  },
  {
   "cell_type": "code",
   "execution_count": 1,
   "metadata": {},
   "outputs": [],
   "source": [
    "import pandas as pd\n",
    "import numpy as np\n",
    "import matplotlib.pyplot as plt\n",
    "import plotly.express as px\n",
    "import re\n",
    "import seaborn as sns\n",
    "\n"
   ]
  },
  {
   "cell_type": "markdown",
   "metadata": {},
   "source": [
    "### Overzicht van de data"
   ]
  },
  {
   "cell_type": "code",
   "execution_count": 2,
   "metadata": {},
   "outputs": [
    {
     "data": {
      "text/html": [
       "<div>\n",
       "<style scoped>\n",
       "    .dataframe tbody tr th:only-of-type {\n",
       "        vertical-align: middle;\n",
       "    }\n",
       "\n",
       "    .dataframe tbody tr th {\n",
       "        vertical-align: top;\n",
       "    }\n",
       "\n",
       "    .dataframe thead th {\n",
       "        text-align: right;\n",
       "    }\n",
       "</style>\n",
       "<table border=\"1\" class=\"dataframe\">\n",
       "  <thead>\n",
       "    <tr style=\"text-align: right;\">\n",
       "      <th></th>\n",
       "      <th>date</th>\n",
       "      <th>linac</th>\n",
       "      <th>file_name</th>\n",
       "      <th>item</th>\n",
       "      <th>part</th>\n",
       "      <th>value</th>\n",
       "    </tr>\n",
       "  </thead>\n",
       "  <tbody>\n",
       "    <tr>\n",
       "      <th>0</th>\n",
       "      <td>2023-09-13</td>\n",
       "      <td>2325</td>\n",
       "      <td>Be5201</td>\n",
       "      <td>1</td>\n",
       "      <td>4</td>\n",
       "      <td>5201</td>\n",
       "    </tr>\n",
       "    <tr>\n",
       "      <th>1</th>\n",
       "      <td>2023-10-04</td>\n",
       "      <td>2325</td>\n",
       "      <td>Be5201</td>\n",
       "      <td>1</td>\n",
       "      <td>4</td>\n",
       "      <td>5201</td>\n",
       "    </tr>\n",
       "    <tr>\n",
       "      <th>2</th>\n",
       "      <td>2023-10-11</td>\n",
       "      <td>2325</td>\n",
       "      <td>Be5201</td>\n",
       "      <td>1</td>\n",
       "      <td>4</td>\n",
       "      <td>5201</td>\n",
       "    </tr>\n",
       "    <tr>\n",
       "      <th>3</th>\n",
       "      <td>2023-10-18</td>\n",
       "      <td>2325</td>\n",
       "      <td>Be5201</td>\n",
       "      <td>1</td>\n",
       "      <td>4</td>\n",
       "      <td>5201</td>\n",
       "    </tr>\n",
       "    <tr>\n",
       "      <th>4</th>\n",
       "      <td>2023-10-25</td>\n",
       "      <td>2325</td>\n",
       "      <td>Be5201</td>\n",
       "      <td>1</td>\n",
       "      <td>4</td>\n",
       "      <td>5201</td>\n",
       "    </tr>\n",
       "  </tbody>\n",
       "</table>\n",
       "</div>"
      ],
      "text/plain": [
       "         date  linac file_name  item  part  value\n",
       "0  2023-09-13   2325    Be5201     1     4   5201\n",
       "1  2023-10-04   2325    Be5201     1     4   5201\n",
       "2  2023-10-11   2325    Be5201     1     4   5201\n",
       "3  2023-10-18   2325    Be5201     1     4   5201\n",
       "4  2023-10-25   2325    Be5201     1     4   5201"
      ]
     },
     "execution_count": 2,
     "metadata": {},
     "output_type": "execute_result"
    }
   ],
   "source": [
    "df_db = pd.read_csv(\"data/cal_changed.csv\", header = None, names=[\"date\", \"linac\", \"file_name\", \"item\", 'part', \"value\"], )\n",
    "names_files = list(set(df_db[\"file_name\"]))\n",
    "df_db.head()"
   ]
  },
  {
   "cell_type": "code",
   "execution_count": 3,
   "metadata": {},
   "outputs": [
    {
     "data": {
      "text/plain": [
       "(205746, 6)"
      ]
     },
     "execution_count": 3,
     "metadata": {},
     "output_type": "execute_result"
    }
   ],
   "source": [
    "df_db.shape"
   ]
  },
  {
   "cell_type": "markdown",
   "metadata": {},
   "source": [
    "Deze data bevat de datum van uploaden, nummer van het linac toestel, het bestandsnaam waar de data vandaan komt, item nummer, part nummer en value.  \n",
    "\n",
    "Het item nummer en part nummer zijn aan elkaar gebonden, en vormen samen een bepaalde instelling op dat apparaat met een bepaalde waarde: value.  \n",
    "\n",
    "Dit is een deel van de database van maar 1 linac, maar dit bevat al een aardige grootte aan bestanden.  \n"
   ]
  },
  {
   "cell_type": "markdown",
   "metadata": {},
   "source": [
    "De bestandsnamen zijn optedelen in 3 categorieën:  \n",
    "\n",
    "{'Be52', 'Be55', 'Be63'}\n",
    "\n",
    "{'Mlc_Iso_Centre',  \n",
    " 'Mlc_Leaf_Sensor_Dir',  \n",
    " 'Mlc_Leaf_Sensor_Gain',  \n",
    " 'Mlc_Leaf_Sensor_Off',  \n",
    " 'Mlc_Leaf_Sensor_Orig',  \n",
    " 'Mlc_Minr_Off',  \n",
    " 'Mlc_Sensor_Gains',  \n",
    " 'Mlc_cal_data',  \n",
    " 'Mlc_gain_adj',  \n",
    " 'Mlc_leaf_travel',  \n",
    " 'Mlc_refl_width'}\n",
    "  \n",
    " {'Optics_Dist_Y1_01_To_40',  \n",
    " 'Optics_Dist_Y1_41_To_80',  \n",
    " 'Optics_Dist_Y2_01_To_40',  \n",
    " 'Optics_Dist_Y2_41_To_80',  \n",
    " 'Optics_Gen_Cal_Data',  \n",
    " 'Optics_LP_X_01_To_20',  \n",
    " 'Optics_LP_X_21_To_40',  \n",
    " 'Optics_LP_X_41_To_60',  \n",
    " 'Optics_LP_X_61_To_80',  \n",
    " 'Optics_LP_Y_01_To_20',  \n",
    " 'Optics_LP_Y_21_To_40',  \n",
    " 'Optics_LP_Y_41_To_60',  \n",
    " 'Optics_LP_Y_61_To_80'}\n",
    "\n",
    "#### Inzoomen in de data  \n",
    "\n",
    "Er gaat een focus naar de Be.... bestanden\n"
   ]
  },
  {
   "cell_type": "code",
   "execution_count": 4,
   "metadata": {},
   "outputs": [
    {
     "data": {
      "text/plain": [
       "['Be5212',\n",
       " 'Be5211',\n",
       " 'Be5208',\n",
       " 'Be5216',\n",
       " 'Be5206',\n",
       " 'Be5218',\n",
       " 'Be5201',\n",
       " 'Be5204',\n",
       " 'Be5219',\n",
       " 'Be5214',\n",
       " 'Be5213',\n",
       " 'Be5202',\n",
       " 'Be5205',\n",
       " 'Be5209',\n",
       " 'Be5217',\n",
       " 'Be5215',\n",
       " 'Be5207']"
      ]
     },
     "execution_count": 4,
     "metadata": {},
     "output_type": "execute_result"
    }
   ],
   "source": [
    "be52 = [name for name in names_files if \"Be52\" in name]\n",
    "be52"
   ]
  },
  {
   "cell_type": "markdown",
   "metadata": {},
   "source": [
    "Hieruit wordt eerst gekeken naar het eerst soort bestande van deze Be.... bestanden."
   ]
  },
  {
   "cell_type": "code",
   "execution_count": 5,
   "metadata": {},
   "outputs": [
    {
     "data": {
      "text/html": [
       "<div>\n",
       "<style scoped>\n",
       "    .dataframe tbody tr th:only-of-type {\n",
       "        vertical-align: middle;\n",
       "    }\n",
       "\n",
       "    .dataframe tbody tr th {\n",
       "        vertical-align: top;\n",
       "    }\n",
       "\n",
       "    .dataframe thead th {\n",
       "        text-align: right;\n",
       "    }\n",
       "</style>\n",
       "<table border=\"1\" class=\"dataframe\">\n",
       "  <thead>\n",
       "    <tr style=\"text-align: right;\">\n",
       "      <th></th>\n",
       "      <th>Index</th>\n",
       "      <th>date</th>\n",
       "      <th>linac</th>\n",
       "      <th>file_name</th>\n",
       "      <th>item</th>\n",
       "      <th>part</th>\n",
       "      <th>value</th>\n",
       "    </tr>\n",
       "  </thead>\n",
       "  <tbody>\n",
       "    <tr>\n",
       "      <th>0</th>\n",
       "      <td>0</td>\n",
       "      <td>2023-09-13</td>\n",
       "      <td>2325</td>\n",
       "      <td>Be5201</td>\n",
       "      <td>1</td>\n",
       "      <td>4</td>\n",
       "      <td>5201</td>\n",
       "    </tr>\n",
       "    <tr>\n",
       "      <th>1</th>\n",
       "      <td>1</td>\n",
       "      <td>2023-10-04</td>\n",
       "      <td>2325</td>\n",
       "      <td>Be5201</td>\n",
       "      <td>1</td>\n",
       "      <td>4</td>\n",
       "      <td>5201</td>\n",
       "    </tr>\n",
       "    <tr>\n",
       "      <th>2</th>\n",
       "      <td>2</td>\n",
       "      <td>2023-10-11</td>\n",
       "      <td>2325</td>\n",
       "      <td>Be5201</td>\n",
       "      <td>1</td>\n",
       "      <td>4</td>\n",
       "      <td>5201</td>\n",
       "    </tr>\n",
       "    <tr>\n",
       "      <th>3</th>\n",
       "      <td>3</td>\n",
       "      <td>2023-10-18</td>\n",
       "      <td>2325</td>\n",
       "      <td>Be5201</td>\n",
       "      <td>1</td>\n",
       "      <td>4</td>\n",
       "      <td>5201</td>\n",
       "    </tr>\n",
       "    <tr>\n",
       "      <th>4</th>\n",
       "      <td>4</td>\n",
       "      <td>2023-10-25</td>\n",
       "      <td>2325</td>\n",
       "      <td>Be5201</td>\n",
       "      <td>1</td>\n",
       "      <td>4</td>\n",
       "      <td>5201</td>\n",
       "    </tr>\n",
       "    <tr>\n",
       "      <th>...</th>\n",
       "      <td>...</td>\n",
       "      <td>...</td>\n",
       "      <td>...</td>\n",
       "      <td>...</td>\n",
       "      <td>...</td>\n",
       "      <td>...</td>\n",
       "      <td>...</td>\n",
       "    </tr>\n",
       "    <tr>\n",
       "      <th>5350</th>\n",
       "      <td>5350</td>\n",
       "      <td>2024-02-07</td>\n",
       "      <td>2325</td>\n",
       "      <td>Be5201</td>\n",
       "      <td>1194</td>\n",
       "      <td>128</td>\n",
       "      <td>0</td>\n",
       "    </tr>\n",
       "    <tr>\n",
       "      <th>5351</th>\n",
       "      <td>5351</td>\n",
       "      <td>2024-02-14</td>\n",
       "      <td>2325</td>\n",
       "      <td>Be5201</td>\n",
       "      <td>1194</td>\n",
       "      <td>128</td>\n",
       "      <td>0</td>\n",
       "    </tr>\n",
       "    <tr>\n",
       "      <th>5352</th>\n",
       "      <td>5352</td>\n",
       "      <td>2024-02-28</td>\n",
       "      <td>2325</td>\n",
       "      <td>Be5201</td>\n",
       "      <td>1194</td>\n",
       "      <td>128</td>\n",
       "      <td>0</td>\n",
       "    </tr>\n",
       "    <tr>\n",
       "      <th>5353</th>\n",
       "      <td>5353</td>\n",
       "      <td>2024-04-24</td>\n",
       "      <td>2325</td>\n",
       "      <td>Be5201</td>\n",
       "      <td>1194</td>\n",
       "      <td>128</td>\n",
       "      <td>0</td>\n",
       "    </tr>\n",
       "    <tr>\n",
       "      <th>5354</th>\n",
       "      <td>5354</td>\n",
       "      <td>2024-05-15</td>\n",
       "      <td>2325</td>\n",
       "      <td>Be5201</td>\n",
       "      <td>1194</td>\n",
       "      <td>128</td>\n",
       "      <td>0</td>\n",
       "    </tr>\n",
       "  </tbody>\n",
       "</table>\n",
       "<p>5355 rows × 7 columns</p>\n",
       "</div>"
      ],
      "text/plain": [
       "      Index        date  linac file_name  item  part  value\n",
       "0         0  2023-09-13   2325    Be5201     1     4   5201\n",
       "1         1  2023-10-04   2325    Be5201     1     4   5201\n",
       "2         2  2023-10-11   2325    Be5201     1     4   5201\n",
       "3         3  2023-10-18   2325    Be5201     1     4   5201\n",
       "4         4  2023-10-25   2325    Be5201     1     4   5201\n",
       "...     ...         ...    ...       ...   ...   ...    ...\n",
       "5350   5350  2024-02-07   2325    Be5201  1194   128      0\n",
       "5351   5351  2024-02-14   2325    Be5201  1194   128      0\n",
       "5352   5352  2024-02-28   2325    Be5201  1194   128      0\n",
       "5353   5353  2024-04-24   2325    Be5201  1194   128      0\n",
       "5354   5354  2024-05-15   2325    Be5201  1194   128      0\n",
       "\n",
       "[5355 rows x 7 columns]"
      ]
     },
     "execution_count": 5,
     "metadata": {},
     "output_type": "execute_result"
    }
   ],
   "source": [
    "be5201 = [row for row in df_db.itertuples() if row.file_name == \"Be5201\"]\n",
    "be5201 = pd.DataFrame(be5201)\n",
    "be5201"
   ]
  },
  {
   "cell_type": "markdown",
   "metadata": {},
   "source": [
    "1 bestand bestaat uit: item, part en value waardes. Deze zijn meerendeels vertaald naar woorden. \n",
    "\n",
    "linac_items, linac_parts en itemValue_df zijn verbonden met de BE.... bestanden.\n",
    "\n",
    "agility_parts en mlc_parts zijn verbonden met de andere bestanden."
   ]
  },
  {
   "cell_type": "code",
   "execution_count": 6,
   "metadata": {},
   "outputs": [],
   "source": [
    "# loading of the translate tables\n",
    "linac_items = pd.read_csv(\"data/translate_tbl.csv\")\n",
    "linac_items[\"Item name\"] =  linac_items[\"Item name\"].str.extract(r'i(\\d+)').astype(\"float\")\n",
    "itemValue_df = pd.read_csv(\"../translate_tbl_item.csv\", header = None)\n",
    "linac_parts = pd.read_csv(\"../Itemparts.csv\")\n",
    "agility_parts = pd.read_csv(\"../agility_parts.csv\")\n",
    "mlc_parts = pd.read_csv(\"../MLC.csv\")\n",
    "\n",
    "# editing the loaded table because it contains 28 smaller tables\n",
    "table_indices = itemValue_df[itemValue_df[1].str.contains('Table', na=False)].index.tolist()\n",
    "table_indices.append(len(itemValue_df))\n",
    "itemValue_dfs = [\n",
    "    itemValue_df.iloc[table_indices[i] + 1:table_indices[i + 1]]\n",
    "    for i in range(len(table_indices) - 1)\n",
    "]\n",
    "\n",
    "for index in range(len(itemValue_dfs)):\n",
    "    df = itemValue_dfs[index].dropna(subset=[0])\n",
    "    df = df.rename(columns=df.iloc[0]).drop(df.index[0]).reset_index(drop=True)\n",
    "    itemValue_dfs[index] = df\n",
    "\n",
    "\n",
    "# filling in the gaps in the agility_parts and mlc_parts\n",
    "def fillinthestrips(df):\n",
    "    new_rows = []\n",
    "\n",
    "    for _, row in df.iterrows():\n",
    "        if \"See Item\" in str(row['Description']):\n",
    "            # Extract the referenced item number\n",
    "            ref_item = int(row['Description'].split(\"Item \")[1].split(\" \")[0])\n",
    "            # Get all parts of the referenced item\n",
    "            ref_parts = df[df['Item'] == ref_item].copy()\n",
    "            # Update item number and collect rows\n",
    "            ref_parts['Item'] = row['Item']\n",
    "            new_rows.extend(ref_parts.to_dict('records'))\n",
    "        else:\n",
    "            new_rows.append(row.to_dict())\n",
    "\n",
    "    # Create the new DataFrame\n",
    "    return pd.DataFrame(new_rows).reset_index(drop=True)\n",
    "    \n",
    "mlc_parts = fillinthestrips(mlc_parts)\n",
    "agility_parts = fillinthestrips(agility_parts)\n",
    "\n",
    "# combining the 2 tables\n",
    "unique_df = pd.concat([mlc_parts, agility_parts]).drop_duplicates(\n",
    "    subset=['Item', 'Part'], \n",
    "    keep='first'\n",
    ").reset_index(drop=True)\n",
    "\n",
    "unique_df[\"Part\"] = unique_df[\"Part\"].astype(int)\n",
    "\n",
    "part_value_tr = {1: 2, 2 :7, 3: 8,4 : 9, 5 : 32, 6 : 39, 7 : 40, 8 : 41, 9 : 42, 10 : 182, 11 : 199, \n",
    "                 12 : 200, 13 : 201, 14 : 202, 15 : 203, 16 : 245, 17 : 268, 18 : 318, 19 : 319, \n",
    "                 20 : 382, 21 : 383, 22 : 408, 23 : 409, 24 : 410, 25 : 416, 26 : 418, 27 : 433,\n",
    "                 28 : 494, 29 : 553, 30 : 685, 31 : 686, 32 : 650}"
   ]
  },
  {
   "cell_type": "markdown",
   "metadata": {},
   "source": [
    "De vertaal tabbelen zijn nu compleet en kunnen worden gebruikt."
   ]
  },
  {
   "cell_type": "code",
   "execution_count": 7,
   "metadata": {},
   "outputs": [],
   "source": [
    "description = {}\n",
    "\n",
    "for row in be5201.itertuples():\n",
    "    item = linac_items[linac_items[\"Item name\"] == row.item]\n",
    "    part = linac_parts[linac_parts[\"Part No.\"] == row.part]\n",
    "    if not item.empty and not part.empty:\n",
    "        description[str(item.iloc[0,2])] = f\"item: {row.item}, part: {row.part}, {str(part.iloc[0,2])}\""
   ]
  },
  {
   "cell_type": "markdown",
   "metadata": {},
   "source": [
    "Kijken naar de values van Be5201 bestanden over de tijd. Hoeveel aanpassing zijn er aanwezig geweest per item & part combinatie."
   ]
  },
  {
   "cell_type": "code",
   "execution_count": 8,
   "metadata": {},
   "outputs": [],
   "source": [
    "\n",
    "# part en items, alle values verzamelen van de verschillende data\n",
    "\n",
    "scattering = {}\n",
    "dates = list(set(be5201[\"date\"]))\n",
    "for row in be5201[be5201[\"date\"] == dates[0]][[\"item\", \"part\"]].itertuples():\n",
    "    if row.item != 1194:\n",
    "        allvalues = [row_part.value for row_part in be5201.itertuples() if [row.item, row.part] == [row_part.item, row_part.part]]\n",
    "        scattering[row] = allvalues\n"
   ]
  },
  {
   "cell_type": "code",
   "execution_count": 9,
   "metadata": {},
   "outputs": [],
   "source": [
    "# verschil berekenen van alle verschillende data\n",
    "\n",
    "for item in scattering:\n",
    "    allvalues = scattering[item]\n",
    "    newvalues = [allvalues[index] - allvalues[index + 1] for index in range(len(allvalues)-1)]\n",
    "    scattering[item] = newvalues"
   ]
  },
  {
   "cell_type": "code",
   "execution_count": 10,
   "metadata": {},
   "outputs": [],
   "source": [
    "# hoeveelheid veranderingen\n",
    "changes = {}\n",
    "for item in scattering:\n",
    "    allvalues = scattering[item]\n",
    "    amount = [1 for value in allvalues if value != 0]\n",
    "    if sum(amount) != 0:\n",
    "        changes[item] = sum(amount)"
   ]
  },
  {
   "cell_type": "code",
   "execution_count": 11,
   "metadata": {},
   "outputs": [
    {
     "data": {
      "image/png": "[encoded data removed]",
      "text/plain": [
       "<Figure size 1000x500 with 1 Axes>"
      ]
     },
     "metadata": {},
     "output_type": "display_data"
    }
   ],
   "source": [
    "labels = [str(list(item)[1:]) for item in changes.keys()]\n",
    "plt.figure(figsize=(10, 5))\n",
    "plt.scatter(y = changes.values(), x = labels)\n",
    "plt.xticks(rotation=90)\n",
    "plt.title(f\"Amount of changes from {min(dates)} - {max(dates)}\")\n",
    "plt.grid()\n",
    "plt.show()\n"
   ]
  },
  {
   "cell_type": "markdown",
   "metadata": {},
   "source": [
    "Kijkende naar alle be52 bestanden"
   ]
  },
  {
   "cell_type": "code",
   "execution_count": 12,
   "metadata": {},
   "outputs": [],
   "source": [
    "df_be52 = [row for row in df_db.itertuples() if row.file_name in be52]\n",
    "df_be52 = pd.DataFrame(df_be52)"
   ]
  },
  {
   "cell_type": "code",
   "execution_count": 13,
   "metadata": {},
   "outputs": [],
   "source": [
    "# change df\n",
    "df_pivot = df_be52.pivot(index=[\"linac\", \"file_name\", \"item\", \"part\"], columns=\"date\", values=\"value\")\n",
    "df_pivot.reset_index(inplace=True)\n",
    "\n",
    "# the dates all the different file types been uploaded\n",
    "file_dates = {name : sorted(list(set(df_be52[df_be52[\"file_name\"] == name][\"date\"]))) for name in set(df_be52[\"file_name\"])}"
   ]
  },
  {
   "cell_type": "code",
   "execution_count": 18,
   "metadata": {},
   "outputs": [],
   "source": [
    "#how much every part&item changed\n",
    "changes_per_file = {}\n",
    "\n",
    "for file_name, file_date in file_dates.items():\n",
    "    # grab the dates that this file has been uploaded\n",
    "    df_change = df_pivot[df_pivot[\"file_name\"] == file_name].loc[:,file_date]\n",
    "    # Calculate how much difference there is between old and new\n",
    "    df_changes =  df_change.iloc[:,1:].values - df_change.iloc[:,:-1].values\n",
    "   \n",
    "    # make a df from the changes and the information of linac, item en part\n",
    "    df_changed = pd.concat([df_pivot[df_pivot[\"file_name\"] == file_name].loc[:,[\"linac\", \"item\", \"part\"]].reset_index(), \n",
    "               pd.DataFrame(df_changes, columns=df_change.columns[1:])], axis=1)\n",
    "    df_changed[f\"first_entry: {file_date[0]}\"] = df_pivot.loc[:,file_date[0]]\n",
    "    changes_per_file[file_name] = df_changed\n",
    "\n"
   ]
  },
  {
   "cell_type": "code",
   "execution_count": 19,
   "metadata": {},
   "outputs": [],
   "source": [
    "#get the sum of the amount of changes\n",
    "\n",
    "plotting_per_file = pd.DataFrame()\n",
    "for file_name, df_changes in changes_per_file.items():\n",
    "    for linac in set(df_changes[\"linac\"]):\n",
    "        # get how many times there was a diffence between col\n",
    "        date_columns = df_changes.columns.difference(['date', 'linac', 'file_name', 'item', 'part', df_changes.columns[-1]])\n",
    "        plotting = list((df_changes[date_columns] != 0).sum()[:-1]) \n",
    "        first_date = re.findall(r\"\\d{4}-\\d{2}-\\d{2}\", df_changes.columns[-1])[0]\n",
    "        # # set it in the dict\n",
    "        data = {\n",
    "            \"Amount\": plotting,\n",
    "            \"Date\": list(date_columns[:-1]),\n",
    "            \"Linac\": [linac] * len(plotting),\n",
    "            \"File name\": [file_name] * len(plotting),\n",
    "            \"First entry\": [first_date] * len(plotting)\n",
    "        }\n",
    "        plotting_per = pd.DataFrame(data) \n",
    "        plotting_per_file = pd.concat([plotting_per_file, plotting_per])\n"
   ]
  },
  {
   "cell_type": "code",
   "execution_count": 20,
   "metadata": {},
   "outputs": [
    {
     "data": {
      "application/vnd.plotly.v1+json": {
       "config": {
        "plotlyServerURL": "https://plot.ly"
       },
       "data": [
        {
         "customdata": [
          [
           "2023-09-13"
          ],
          [
           "2023-09-13"
          ],
          [
           "2023-09-13"
          ],
          [
           "2023-09-13"
          ],
          [
           "2023-09-13"
          ],
          [
           "2023-09-13"
          ],
          [
           "2023-09-13"
          ],
          [
           "2023-09-13"
          ],
          [
           "2023-09-13"
          ],
          [
           "2023-09-13"
          ],
          [
           "2023-09-13"
          ],
          [
           "2023-09-13"
          ],
          [
           "2023-09-13"
          ],
          [
           "2023-09-13"
          ]
         ],
         "hovertemplate": "File name=Be5201<br>Linac=2325.0<br>Date=%{x}<br>Amount=%{y}<br>First entry=%{customdata[0]}<extra></extra>",
         "legendgroup": "Be5201, 2325.0",
         "line": {
          "color": "#636efa",
          "dash": "solid"
         },
         "marker": {
          "symbol": "circle"
         },
         "mode": "lines+markers",
         "name": "Be5201, 2325.0",
         "orientation": "v",
         "showlegend": true,
         "type": "scatter",
         "x": [
          "2023-10-04",
          "2023-10-11",
          "2023-10-18",
          "2023-10-25",
          "2023-11-08",
          "2023-11-15",
          "2023-12-06",
          "2023-12-13",
          "2024-01-03",
          "2024-02-07",
          "2024-02-14",
          "2024-02-28",
          "2024-04-24",
          "2024-05-15"
         ],
         "xaxis": "x",
         "y": {
          "bdata": "AAAAAAAASUAAAAAAAABDQAAAAAAAAEJAAAAAAACAQkAAAAAAAIBAQAAAAAAAgERAAAAAAAAARUAAAAAAAABCQAAAAAAAAEFAAAAAAAAAQUAAAAAAAAAxQAAAAAAAgEVAAAAAAAAAO0AAAAAAAABGQA==",
          "dtype": "f8"
         },
         "yaxis": "y"
        },
        {
         "customdata": [
          [
           "2023-09-13"
          ],
          [
           "2023-09-13"
          ],
          [
           "2023-09-13"
          ],
          [
           "2023-09-13"
          ],
          [
           "2023-09-13"
          ],
          [
           "2023-09-13"
          ],
          [
           "2023-09-13"
          ],
          [
           "2023-09-13"
          ],
          [
           "2023-09-13"
          ]
         ],
         "hovertemplate": "File name=Be5202<br>Linac=2325.0<br>Date=%{x}<br>Amount=%{y}<br>First entry=%{customdata[0]}<extra></extra>",
         "legendgroup": "Be5202, 2325.0",
         "line": {
          "color": "#EF553B",
          "dash": "solid"
         },
         "marker": {
          "symbol": "circle"
         },
         "mode": "lines+markers",
         "name": "Be5202, 2325.0",
         "orientation": "v",
         "showlegend": true,
         "type": "scatter",
         "x": [
          "2023-10-04",
          "2023-11-15",
          "2023-12-06",
          "2023-12-13",
          "2024-01-03",
          "2024-02-07",
          "2024-02-14",
          "2024-02-28",
          "2024-05-15"
         ],
         "xaxis": "x",
         "y": {
          "bdata": "AAAAAAAAQEAAAAAAAABEQAAAAAAAgENAAAAAAACAREAAAAAAAABBQAAAAAAAAENAAAAAAACAQUAAAAAAAIBCQAAAAAAAAEFA",
          "dtype": "f8"
         },
         "yaxis": "y"
        },
        {
         "customdata": [
          [
           "2023-09-13"
          ],
          [
           "2023-09-13"
          ],
          [
           "2023-09-13"
          ],
          [
           "2023-09-13"
          ],
          [
           "2023-09-13"
          ],
          [
           "2023-09-13"
          ],
          [
           "2023-09-13"
          ],
          [
           "2023-09-13"
          ],
          [
           "2023-09-13"
          ],
          [
           "2023-09-13"
          ],
          [
           "2023-09-13"
          ]
         ],
         "hovertemplate": "File name=Be5205<br>Linac=2325.0<br>Date=%{x}<br>Amount=%{y}<br>First entry=%{customdata[0]}<extra></extra>",
         "legendgroup": "Be5205, 2325.0",
         "line": {
          "color": "#00cc96",
          "dash": "solid"
         },
         "marker": {
          "symbol": "circle"
         },
         "mode": "lines+markers",
         "name": "Be5205, 2325.0",
         "orientation": "v",
         "showlegend": true,
         "type": "scatter",
         "x": [
          "2023-10-04",
          "2023-11-15",
          "2023-12-06",
          "2023-12-13",
          "2024-01-03",
          "2024-02-07",
          "2024-02-14",
          "2024-02-28",
          "2024-03-20",
          "2024-05-15",
          "2024-05-22"
         ],
         "xaxis": "x",
         "y": {
          "bdata": "AAAAAACAR0AAAAAAAIBCQAAAAAAAgEFAAAAAAAAAPkAAAAAAAABBQAAAAAAAAEFAAAAAAACAQUAAAAAAAAA2QAAAAAAAADtAAAAAAAAAQkAAAAAAAIBAQA==",
          "dtype": "f8"
         },
         "yaxis": "y"
        }
       ],
       "layout": {
        "legend": {
         "title": {
          "text": "File name, Linac"
         },
         "tracegroupgap": 0
        },
        "margin": {
         "t": 60
        },
        "template": {
         "data": {
          "bar": [
           {
            "error_x": {
             "color": "#2a3f5f"
            },
            "error_y": {
             "color": "#2a3f5f"
            },
            "marker": {
             "line": {
              "color": "#E5ECF6",
              "width": 0.5
             },
             "pattern": {
              "fillmode": "overlay",
              "size": 10,
              "solidity": 0.2
             }
            },
            "type": "bar"
           }
          ],
          "barpolar": [
           {
            "marker": {
             "line": {
              "color": "#E5ECF6",
              "width": 0.5
             },
             "pattern": {
              "fillmode": "overlay",
              "size": 10,
              "solidity": 0.2
             }
            },
            "type": "barpolar"
           }
          ],
          "carpet": [
           {
            "aaxis": {
             "endlinecolor": "#2a3f5f",
             "gridcolor": "white",
             "linecolor": "white",
             "minorgridcolor": "white",
             "startlinecolor": "#2a3f5f"
            },
            "baxis": {
             "endlinecolor": "#2a3f5f",
             "gridcolor": "white",
             "linecolor": "white",
             "minorgridcolor": "white",
             "startlinecolor": "#2a3f5f"
            },
            "type": "carpet"
           }
          ],
          "choropleth": [
           {
            "colorbar": {
             "outlinewidth": 0,
             "ticks": ""
            },
            "type": "choropleth"
           }
          ],
          "contour": [
           {
            "colorbar": {
             "outlinewidth": 0,
             "ticks": ""
            },
            "colorscale": [
             [
              0,
              "#0d0887"
             ],
             [
              0.1111111111111111,
              "#46039f"
             ],
             [
              0.2222222222222222,
              "#7201a8"
             ],
             [
              0.3333333333333333,
              "#9c179e"
             ],
             [
              0.4444444444444444,
              "#bd3786"
             ],
             [
              0.5555555555555556,
              "#d8576b"
             ],
             [
              0.6666666666666666,
              "#ed7953"
             ],
             [
              0.7777777777777778,
              "#fb9f3a"
             ],
             [
              0.8888888888888888,
              "#fdca26"
             ],
             [
              1,
              "#f0f921"
             ]
            ],
            "type": "contour"
           }
          ],
          "contourcarpet": [
           {
            "colorbar": {
             "outlinewidth": 0,
             "ticks": ""
            },
            "type": "contourcarpet"
           }
          ],
          "heatmap": [
           {
            "colorbar": {
             "outlinewidth": 0,
             "ticks": ""
            },
            "colorscale": [
             [
              0,
              "#0d0887"
             ],
             [
              0.1111111111111111,
              "#46039f"
             ],
             [
              0.2222222222222222,
              "#7201a8"
             ],
             [
              0.3333333333333333,
              "#9c179e"
             ],
             [
              0.4444444444444444,
              "#bd3786"
             ],
             [
              0.5555555555555556,
              "#d8576b"
             ],
             [
              0.6666666666666666,
              "#ed7953"
             ],
             [
              0.7777777777777778,
              "#fb9f3a"
             ],
             [
              0.8888888888888888,
              "#fdca26"
             ],
             [
              1,
              "#f0f921"
             ]
            ],
            "type": "heatmap"
           }
          ],
          "histogram": [
           {
            "marker": {
             "pattern": {
              "fillmode": "overlay",
              "size": 10,
              "solidity": 0.2
             }
            },
            "type": "histogram"
           }
          ],
          "histogram2d": [
           {
            "colorbar": {
             "outlinewidth": 0,
             "ticks": ""
            },
            "colorscale": [
             [
              0,
              "#0d0887"
             ],
             [
              0.1111111111111111,
              "#46039f"
             ],
             [
              0.2222222222222222,
              "#7201a8"
             ],
             [
              0.3333333333333333,
              "#9c179e"
             ],
             [
              0.4444444444444444,
              "#bd3786"
             ],
             [
              0.5555555555555556,
              "#d8576b"
             ],
             [
              0.6666666666666666,
              "#ed7953"
             ],
             [
              0.7777777777777778,
              "#fb9f3a"
             ],
             [
              0.8888888888888888,
              "#fdca26"
             ],
             [
              1,
              "#f0f921"
             ]
            ],
            "type": "histogram2d"
           }
          ],
          "histogram2dcontour": [
           {
            "colorbar": {
             "outlinewidth": 0,
             "ticks": ""
            },
            "colorscale": [
             [
              0,
              "#0d0887"
             ],
             [
              0.1111111111111111,
              "#46039f"
             ],
             [
              0.2222222222222222,
              "#7201a8"
             ],
             [
              0.3333333333333333,
              "#9c179e"
             ],
             [
              0.4444444444444444,
              "#bd3786"
             ],
             [
              0.5555555555555556,
              "#d8576b"
             ],
             [
              0.6666666666666666,
              "#ed7953"
             ],
             [
              0.7777777777777778,
              "#fb9f3a"
             ],
             [
              0.8888888888888888,
              "#fdca26"
             ],
             [
              1,
              "#f0f921"
             ]
            ],
            "type": "histogram2dcontour"
           }
          ],
          "mesh3d": [
           {
            "colorbar": {
             "outlinewidth": 0,
             "ticks": ""
            },
            "type": "mesh3d"
           }
          ],
          "parcoords": [
           {
            "line": {
             "colorbar": {
              "outlinewidth": 0,
              "ticks": ""
             }
            },
            "type": "parcoords"
           }
          ],
          "pie": [
           {
            "automargin": true,
            "type": "pie"
           }
          ],
          "scatter": [
           {
            "fillpattern": {
             "fillmode": "overlay",
             "size": 10,
             "solidity": 0.2
            },
            "type": "scatter"
           }
          ],
          "scatter3d": [
           {
            "line": {
             "colorbar": {
              "outlinewidth": 0,
              "ticks": ""
             }
            },
            "marker": {
             "colorbar": {
              "outlinewidth": 0,
              "ticks": ""
             }
            },
            "type": "scatter3d"
           }
          ],
          "scattercarpet": [
           {
            "marker": {
             "colorbar": {
              "outlinewidth": 0,
              "ticks": ""
             }
            },
            "type": "scattercarpet"
           }
          ],
          "scattergeo": [
           {
            "marker": {
             "colorbar": {
              "outlinewidth": 0,
              "ticks": ""
             }
            },
            "type": "scattergeo"
           }
          ],
          "scattergl": [
           {
            "marker": {
             "colorbar": {
              "outlinewidth": 0,
              "ticks": ""
             }
            },
            "type": "scattergl"
           }
          ],
          "scattermap": [
           {
            "marker": {
             "colorbar": {
              "outlinewidth": 0,
              "ticks": ""
             }
            },
            "type": "scattermap"
           }
          ],
          "scattermapbox": [
           {
            "marker": {
             "colorbar": {
              "outlinewidth": 0,
              "ticks": ""
             }
            },
            "type": "scattermapbox"
           }
          ],
          "scatterpolar": [
           {
            "marker": {
             "colorbar": {
              "outlinewidth": 0,
              "ticks": ""
             }
            },
            "type": "scatterpolar"
           }
          ],
          "scatterpolargl": [
           {
            "marker": {
             "colorbar": {
              "outlinewidth": 0,
              "ticks": ""
             }
            },
            "type": "scatterpolargl"
           }
          ],
          "scatterternary": [
           {
            "marker": {
             "colorbar": {
              "outlinewidth": 0,
              "ticks": ""
             }
            },
            "type": "scatterternary"
           }
          ],
          "surface": [
           {
            "colorbar": {
             "outlinewidth": 0,
             "ticks": ""
            },
            "colorscale": [
             [
              0,
              "#0d0887"
             ],
             [
              0.1111111111111111,
              "#46039f"
             ],
             [
              0.2222222222222222,
              "#7201a8"
             ],
             [
              0.3333333333333333,
              "#9c179e"
             ],
             [
              0.4444444444444444,
              "#bd3786"
             ],
             [
              0.5555555555555556,
              "#d8576b"
             ],
             [
              0.6666666666666666,
              "#ed7953"
             ],
             [
              0.7777777777777778,
              "#fb9f3a"
             ],
             [
              0.8888888888888888,
              "#fdca26"
             ],
             [
              1,
              "#f0f921"
             ]
            ],
            "type": "surface"
           }
          ],
          "table": [
           {
            "cells": {
             "fill": {
              "color": "#EBF0F8"
             },
             "line": {
              "color": "white"
             }
            },
            "header": {
             "fill": {
              "color": "#C8D4E3"
             },
             "line": {
              "color": "white"
             }
            },
            "type": "table"
           }
          ]
         },
         "layout": {
          "annotationdefaults": {
           "arrowcolor": "#2a3f5f",
           "arrowhead": 0,
           "arrowwidth": 1
          },
          "autotypenumbers": "strict",
          "coloraxis": {
           "colorbar": {
            "outlinewidth": 0,
            "ticks": ""
           }
          },
          "colorscale": {
           "diverging": [
            [
             0,
             "#8e0152"
            ],
            [
             0.1,
             "#c51b7d"
            ],
            [
             0.2,
             "#de77ae"
            ],
            [
             0.3,
             "#f1b6da"
            ],
            [
             0.4,
             "#fde0ef"
            ],
            [
             0.5,
             "#f7f7f7"
            ],
            [
             0.6,
             "#e6f5d0"
            ],
            [
             0.7,
             "#b8e186"
            ],
            [
             0.8,
             "#7fbc41"
            ],
            [
             0.9,
             "#4d9221"
            ],
            [
             1,
             "#276419"
            ]
           ],
           "sequential": [
            [
             0,
             "#0d0887"
            ],
            [
             0.1111111111111111,
             "#46039f"
            ],
            [
             0.2222222222222222,
             "#7201a8"
            ],
            [
             0.3333333333333333,
             "#9c179e"
            ],
            [
             0.4444444444444444,
             "#bd3786"
            ],
            [
             0.5555555555555556,
             "#d8576b"
            ],
            [
             0.6666666666666666,
             "#ed7953"
            ],
            [
             0.7777777777777778,
             "#fb9f3a"
            ],
            [
             0.8888888888888888,
             "#fdca26"
            ],
            [
             1,
             "#f0f921"
            ]
           ],
           "sequentialminus": [
            [
             0,
             "#0d0887"
            ],
            [
             0.1111111111111111,
             "#46039f"
            ],
            [
             0.2222222222222222,
             "#7201a8"
            ],
            [
             0.3333333333333333,
             "#9c179e"
            ],
            [
             0.4444444444444444,
             "#bd3786"
            ],
            [
             0.5555555555555556,
             "#d8576b"
            ],
            [
             0.6666666666666666,
             "#ed7953"
            ],
            [
             0.7777777777777778,
             "#fb9f3a"
            ],
            [
             0.8888888888888888,
             "#fdca26"
            ],
            [
             1,
             "#f0f921"
            ]
           ]
          },
          "colorway": [
           "#636efa",
           "#EF553B",
           "#00cc96",
           "#ab63fa",
           "#FFA15A",
           "#19d3f3",
           "#FF6692",
           "#B6E880",
           "#FF97FF",
           "#FECB52"
          ],
          "font": {
           "color": "#2a3f5f"
          },
          "geo": {
           "bgcolor": "white",
           "lakecolor": "white",
           "landcolor": "#E5ECF6",
           "showlakes": true,
           "showland": true,
           "subunitcolor": "white"
          },
          "hoverlabel": {
           "align": "left"
          },
          "hovermode": "closest",
          "mapbox": {
           "style": "light"
          },
          "paper_bgcolor": "white",
          "plot_bgcolor": "#E5ECF6",
          "polar": {
           "angularaxis": {
            "gridcolor": "white",
            "linecolor": "white",
            "ticks": ""
           },
           "bgcolor": "#E5ECF6",
           "radialaxis": {
            "gridcolor": "white",
            "linecolor": "white",
            "ticks": ""
           }
          },
          "scene": {
           "xaxis": {
            "backgroundcolor": "#E5ECF6",
            "gridcolor": "white",
            "gridwidth": 2,
            "linecolor": "white",
            "showbackground": true,
            "ticks": "",
            "zerolinecolor": "white"
           },
           "yaxis": {
            "backgroundcolor": "#E5ECF6",
            "gridcolor": "white",
            "gridwidth": 2,
            "linecolor": "white",
            "showbackground": true,
            "ticks": "",
            "zerolinecolor": "white"
           },
           "zaxis": {
            "backgroundcolor": "#E5ECF6",
            "gridcolor": "white",
            "gridwidth": 2,
            "linecolor": "white",
            "showbackground": true,
            "ticks": "",
            "zerolinecolor": "white"
           }
          },
          "shapedefaults": {
           "line": {
            "color": "#2a3f5f"
           }
          },
          "ternary": {
           "aaxis": {
            "gridcolor": "white",
            "linecolor": "white",
            "ticks": ""
           },
           "baxis": {
            "gridcolor": "white",
            "linecolor": "white",
            "ticks": ""
           },
           "bgcolor": "#E5ECF6",
           "caxis": {
            "gridcolor": "white",
            "linecolor": "white",
            "ticks": ""
           }
          },
          "title": {
           "x": 0.05
          },
          "xaxis": {
           "automargin": true,
           "gridcolor": "white",
           "linecolor": "white",
           "ticks": "",
           "title": {
            "standoff": 15
           },
           "zerolinecolor": "white",
           "zerolinewidth": 2
          },
          "yaxis": {
           "automargin": true,
           "gridcolor": "white",
           "linecolor": "white",
           "ticks": "",
           "title": {
            "standoff": 15
           },
           "zerolinecolor": "white",
           "zerolinewidth": 2
          }
         }
        },
        "xaxis": {
         "anchor": "y",
         "domain": [
          0,
          1
         ],
         "title": {
          "text": "Date"
         }
        },
        "yaxis": {
         "anchor": "x",
         "domain": [
          0,
          1
         ],
         "title": {
          "text": "Amount"
         }
        }
       }
      }
     },
     "metadata": {},
     "output_type": "display_data"
    }
   ],
   "source": [
    "px.line(plotting_per_file, x='Date', y='Amount', color='File name', markers=True, symbol='Linac', hover_data=\"First entry\")\n"
   ]
  },
  {
   "cell_type": "code",
   "execution_count": 21,
   "metadata": {},
   "outputs": [],
   "source": [
    "total_df = pd.DataFrame()\n",
    "for filename, df_changes in changes_per_file.items():\n",
    "    if df_changes.columns[-2] != \"part\":\n",
    "\n",
    "        old_data = df_changes[df_changes.columns[-1]]\n",
    "        dif = df_changes[df_changes.columns[-2]]\n",
    "\n",
    "        data = {\n",
    "                \"File name\": [file_name] * len(df_changes),\n",
    "                \"Item & part\": \"I:\"+ df_changes[\"item\"].astype(str) + \" P:\"+ df_changes[\"part\"].astype(str),\n",
    "                \"Difference\": list(dif),\n",
    "                \"Old data\": list(old_data),\n",
    "                \"New data\": list(old_data - dif)\n",
    "            }\n",
    "        temp_df = pd.DataFrame(data) \n",
    "        total_df = pd.concat([total_df, temp_df])\n"
   ]
  },
  {
   "cell_type": "code",
   "execution_count": 22,
   "metadata": {},
   "outputs": [],
   "source": [
    "total_df = pd.DataFrame()\n",
    "ip = \"I:1 P:4\"\n",
    "for filename, df_changes in changes_per_file.items():\n",
    "    if df_changes.columns[-2] != \"part\":\n",
    "        df_changes[\"Item & part\"] = \"I:\"+ df_changes[\"item\"].astype(str) + \" P:\"+ df_changes[\"part\"].astype(str)\n",
    "        dates = list(df_changes.columns)[4:-2]\n",
    "        data = {\n",
    "                \"Linac\": [df_changes[\"linac\"][1]] * len(dates),\n",
    "                \"Item & part\": [ip] * len(dates),\n",
    "                \"date\": dates,\n",
    "                \"Difference\": df_changes[df_changes[\"Item & part\"] == ip][dates].values[0],\n",
    "                \"First entry\": df_changes[df_changes[\"Item & part\"] == ip].iloc[:,-2].values[0]\n",
    "            }\n",
    "        \n",
    "        temp_df = pd.DataFrame(data) \n",
    "        total_df = pd.concat([total_df, temp_df])"
   ]
  },
  {
   "cell_type": "markdown",
   "metadata": {},
   "source": [
    "De Be.... bestanden Item & parts bevat  \n",
    "    gun current"
   ]
  },
  {
   "cell_type": "code",
   "execution_count": 23,
   "metadata": {},
   "outputs": [
    {
     "name": "stdout",
     "output_type": "stream",
     "text": [
      "item: 123, part: 133, Parameter 3 function : This item shows the servo error from the slits gun control system. The item is not used in digital accelerators fitted with a slitless flight tube and hardware gun servo.\n",
      "item: 186, part: 1, Setting value : This item controls the loop gain of the hardware system. It is configured for the hardware gun servo option only.\n",
      "item: 187, part: 1, Setting value : This item controls an analog reference voltage used by the hardware gun servo option.\n",
      "item: 216, part: 45, Confirmed value : The value of this item is the monitored voltage of the electron gun.\n",
      "item: 235, part: 45, Confirmed value : This item is not used when the digital accelerator is fitted with a slitless flight tube and hardware gun servo.\n",
      "item: 327, part: 200, Process_Param_24_Part  : The servo control item for the electron gun filament current.\n",
      "item: 369, part: 1, Setting value : This item controls the gun aim level for servo operation. The item is not used when the digital accelerator is fitted with a slitless flight tube and a hardware gun servo.\n",
      "item: 380, part: 1, Setting value : This item controls the electron gun standby current level.\n",
      "item: 381, part: 1, Setting value : This item controls the electron gun aim current level for servo operation.\n"
     ]
    }
   ],
   "source": [
    "for key, value in description.items():\n",
    "    if \"gun\" in key:\n",
    "        print(f\"{value} : {key}\")"
   ]
  },
  {
   "cell_type": "markdown",
   "metadata": {},
   "source": [
    "Item 381 is de belangrijkste van het stel, het geeft de setting value van de gun aim current level voor dat energie niveau."
   ]
  },
  {
   "cell_type": "code",
   "execution_count": 24,
   "metadata": {},
   "outputs": [
    {
     "data": {
      "application/vnd.plotly.v1+json": {
       "config": {
        "plotlyServerURL": "https://plot.ly"
       },
       "data": [
        {
         "hovertemplate": "date=%{x}<br>value=%{y}<extra></extra>",
         "legendgroup": "",
         "line": {
          "color": "#636efa",
          "dash": "solid"
         },
         "marker": {
          "symbol": "circle"
         },
         "mode": "lines",
         "name": "",
         "orientation": "v",
         "showlegend": false,
         "type": "scatter",
         "x": [
          "2023-09-13",
          "2023-10-04",
          "2023-10-11",
          "2023-10-18",
          "2023-10-25",
          "2023-11-08",
          "2023-11-15",
          "2023-12-06",
          "2023-12-13",
          "2024-01-03",
          "2024-02-07",
          "2024-02-14",
          "2024-02-28",
          "2024-04-24",
          "2024-05-15"
         ],
         "xaxis": "x",
         "y": {
          "bdata": "HwMYAx0DGwMaAxgDHAMPAw8DDwMKAwoDBgMGAwUD",
          "dtype": "i2"
         },
         "yaxis": "y"
        }
       ],
       "layout": {
        "legend": {
         "tracegroupgap": 0
        },
        "margin": {
         "t": 60
        },
        "template": {
         "data": {
          "bar": [
           {
            "error_x": {
             "color": "#2a3f5f"
            },
            "error_y": {
             "color": "#2a3f5f"
            },
            "marker": {
             "line": {
              "color": "#E5ECF6",
              "width": 0.5
             },
             "pattern": {
              "fillmode": "overlay",
              "size": 10,
              "solidity": 0.2
             }
            },
            "type": "bar"
           }
          ],
          "barpolar": [
           {
            "marker": {
             "line": {
              "color": "#E5ECF6",
              "width": 0.5
             },
             "pattern": {
              "fillmode": "overlay",
              "size": 10,
              "solidity": 0.2
             }
            },
            "type": "barpolar"
           }
          ],
          "carpet": [
           {
            "aaxis": {
             "endlinecolor": "#2a3f5f",
             "gridcolor": "white",
             "linecolor": "white",
             "minorgridcolor": "white",
             "startlinecolor": "#2a3f5f"
            },
            "baxis": {
             "endlinecolor": "#2a3f5f",
             "gridcolor": "white",
             "linecolor": "white",
             "minorgridcolor": "white",
             "startlinecolor": "#2a3f5f"
            },
            "type": "carpet"
           }
          ],
          "choropleth": [
           {
            "colorbar": {
             "outlinewidth": 0,
             "ticks": ""
            },
            "type": "choropleth"
           }
          ],
          "contour": [
           {
            "colorbar": {
             "outlinewidth": 0,
             "ticks": ""
            },
            "colorscale": [
             [
              0,
              "#0d0887"
             ],
             [
              0.1111111111111111,
              "#46039f"
             ],
             [
              0.2222222222222222,
              "#7201a8"
             ],
             [
              0.3333333333333333,
              "#9c179e"
             ],
             [
              0.4444444444444444,
              "#bd3786"
             ],
             [
              0.5555555555555556,
              "#d8576b"
             ],
             [
              0.6666666666666666,
              "#ed7953"
             ],
             [
              0.7777777777777778,
              "#fb9f3a"
             ],
             [
              0.8888888888888888,
              "#fdca26"
             ],
             [
              1,
              "#f0f921"
             ]
            ],
            "type": "contour"
           }
          ],
          "contourcarpet": [
           {
            "colorbar": {
             "outlinewidth": 0,
             "ticks": ""
            },
            "type": "contourcarpet"
           }
          ],
          "heatmap": [
           {
            "colorbar": {
             "outlinewidth": 0,
             "ticks": ""
            },
            "colorscale": [
             [
              0,
              "#0d0887"
             ],
             [
              0.1111111111111111,
              "#46039f"
             ],
             [
              0.2222222222222222,
              "#7201a8"
             ],
             [
              0.3333333333333333,
              "#9c179e"
             ],
             [
              0.4444444444444444,
              "#bd3786"
             ],
             [
              0.5555555555555556,
              "#d8576b"
             ],
             [
              0.6666666666666666,
              "#ed7953"
             ],
             [
              0.7777777777777778,
              "#fb9f3a"
             ],
             [
              0.8888888888888888,
              "#fdca26"
             ],
             [
              1,
              "#f0f921"
             ]
            ],
            "type": "heatmap"
           }
          ],
          "histogram": [
           {
            "marker": {
             "pattern": {
              "fillmode": "overlay",
              "size": 10,
              "solidity": 0.2
             }
            },
            "type": "histogram"
           }
          ],
          "histogram2d": [
           {
            "colorbar": {
             "outlinewidth": 0,
             "ticks": ""
            },
            "colorscale": [
             [
              0,
              "#0d0887"
             ],
             [
              0.1111111111111111,
              "#46039f"
             ],
             [
              0.2222222222222222,
              "#7201a8"
             ],
             [
              0.3333333333333333,
              "#9c179e"
             ],
             [
              0.4444444444444444,
              "#bd3786"
             ],
             [
              0.5555555555555556,
              "#d8576b"
             ],
             [
              0.6666666666666666,
              "#ed7953"
             ],
             [
              0.7777777777777778,
              "#fb9f3a"
             ],
             [
              0.8888888888888888,
              "#fdca26"
             ],
             [
              1,
              "#f0f921"
             ]
            ],
            "type": "histogram2d"
           }
          ],
          "histogram2dcontour": [
           {
            "colorbar": {
             "outlinewidth": 0,
             "ticks": ""
            },
            "colorscale": [
             [
              0,
              "#0d0887"
             ],
             [
              0.1111111111111111,
              "#46039f"
             ],
             [
              0.2222222222222222,
              "#7201a8"
             ],
             [
              0.3333333333333333,
              "#9c179e"
             ],
             [
              0.4444444444444444,
              "#bd3786"
             ],
             [
              0.5555555555555556,
              "#d8576b"
             ],
             [
              0.6666666666666666,
              "#ed7953"
             ],
             [
              0.7777777777777778,
              "#fb9f3a"
             ],
             [
              0.8888888888888888,
              "#fdca26"
             ],
             [
              1,
              "#f0f921"
             ]
            ],
            "type": "histogram2dcontour"
           }
          ],
          "mesh3d": [
           {
            "colorbar": {
             "outlinewidth": 0,
             "ticks": ""
            },
            "type": "mesh3d"
           }
          ],
          "parcoords": [
           {
            "line": {
             "colorbar": {
              "outlinewidth": 0,
              "ticks": ""
             }
            },
            "type": "parcoords"
           }
          ],
          "pie": [
           {
            "automargin": true,
            "type": "pie"
           }
          ],
          "scatter": [
           {
            "fillpattern": {
             "fillmode": "overlay",
             "size": 10,
             "solidity": 0.2
            },
            "type": "scatter"
           }
          ],
          "scatter3d": [
           {
            "line": {
             "colorbar": {
              "outlinewidth": 0,
              "ticks": ""
             }
            },
            "marker": {
             "colorbar": {
              "outlinewidth": 0,
              "ticks": ""
             }
            },
            "type": "scatter3d"
           }
          ],
          "scattercarpet": [
           {
            "marker": {
             "colorbar": {
              "outlinewidth": 0,
              "ticks": ""
             }
            },
            "type": "scattercarpet"
           }
          ],
          "scattergeo": [
           {
            "marker": {
             "colorbar": {
              "outlinewidth": 0,
              "ticks": ""
             }
            },
            "type": "scattergeo"
           }
          ],
          "scattergl": [
           {
            "marker": {
             "colorbar": {
              "outlinewidth": 0,
              "ticks": ""
             }
            },
            "type": "scattergl"
           }
          ],
          "scattermap": [
           {
            "marker": {
             "colorbar": {
              "outlinewidth": 0,
              "ticks": ""
             }
            },
            "type": "scattermap"
           }
          ],
          "scattermapbox": [
           {
            "marker": {
             "colorbar": {
              "outlinewidth": 0,
              "ticks": ""
             }
            },
            "type": "scattermapbox"
           }
          ],
          "scatterpolar": [
           {
            "marker": {
             "colorbar": {
              "outlinewidth": 0,
              "ticks": ""
             }
            },
            "type": "scatterpolar"
           }
          ],
          "scatterpolargl": [
           {
            "marker": {
             "colorbar": {
              "outlinewidth": 0,
              "ticks": ""
             }
            },
            "type": "scatterpolargl"
           }
          ],
          "scatterternary": [
           {
            "marker": {
             "colorbar": {
              "outlinewidth": 0,
              "ticks": ""
             }
            },
            "type": "scatterternary"
           }
          ],
          "surface": [
           {
            "colorbar": {
             "outlinewidth": 0,
             "ticks": ""
            },
            "colorscale": [
             [
              0,
              "#0d0887"
             ],
             [
              0.1111111111111111,
              "#46039f"
             ],
             [
              0.2222222222222222,
              "#7201a8"
             ],
             [
              0.3333333333333333,
              "#9c179e"
             ],
             [
              0.4444444444444444,
              "#bd3786"
             ],
             [
              0.5555555555555556,
              "#d8576b"
             ],
             [
              0.6666666666666666,
              "#ed7953"
             ],
             [
              0.7777777777777778,
              "#fb9f3a"
             ],
             [
              0.8888888888888888,
              "#fdca26"
             ],
             [
              1,
              "#f0f921"
             ]
            ],
            "type": "surface"
           }
          ],
          "table": [
           {
            "cells": {
             "fill": {
              "color": "#EBF0F8"
             },
             "line": {
              "color": "white"
             }
            },
            "header": {
             "fill": {
              "color": "#C8D4E3"
             },
             "line": {
              "color": "white"
             }
            },
            "type": "table"
           }
          ]
         },
         "layout": {
          "annotationdefaults": {
           "arrowcolor": "#2a3f5f",
           "arrowhead": 0,
           "arrowwidth": 1
          },
          "autotypenumbers": "strict",
          "coloraxis": {
           "colorbar": {
            "outlinewidth": 0,
            "ticks": ""
           }
          },
          "colorscale": {
           "diverging": [
            [
             0,
             "#8e0152"
            ],
            [
             0.1,
             "#c51b7d"
            ],
            [
             0.2,
             "#de77ae"
            ],
            [
             0.3,
             "#f1b6da"
            ],
            [
             0.4,
             "#fde0ef"
            ],
            [
             0.5,
             "#f7f7f7"
            ],
            [
             0.6,
             "#e6f5d0"
            ],
            [
             0.7,
             "#b8e186"
            ],
            [
             0.8,
             "#7fbc41"
            ],
            [
             0.9,
             "#4d9221"
            ],
            [
             1,
             "#276419"
            ]
           ],
           "sequential": [
            [
             0,
             "#0d0887"
            ],
            [
             0.1111111111111111,
             "#46039f"
            ],
            [
             0.2222222222222222,
             "#7201a8"
            ],
            [
             0.3333333333333333,
             "#9c179e"
            ],
            [
             0.4444444444444444,
             "#bd3786"
            ],
            [
             0.5555555555555556,
             "#d8576b"
            ],
            [
             0.6666666666666666,
             "#ed7953"
            ],
            [
             0.7777777777777778,
             "#fb9f3a"
            ],
            [
             0.8888888888888888,
             "#fdca26"
            ],
            [
             1,
             "#f0f921"
            ]
           ],
           "sequentialminus": [
            [
             0,
             "#0d0887"
            ],
            [
             0.1111111111111111,
             "#46039f"
            ],
            [
             0.2222222222222222,
             "#7201a8"
            ],
            [
             0.3333333333333333,
             "#9c179e"
            ],
            [
             0.4444444444444444,
             "#bd3786"
            ],
            [
             0.5555555555555556,
             "#d8576b"
            ],
            [
             0.6666666666666666,
             "#ed7953"
            ],
            [
             0.7777777777777778,
             "#fb9f3a"
            ],
            [
             0.8888888888888888,
             "#fdca26"
            ],
            [
             1,
             "#f0f921"
            ]
           ]
          },
          "colorway": [
           "#636efa",
           "#EF553B",
           "#00cc96",
           "#ab63fa",
           "#FFA15A",
           "#19d3f3",
           "#FF6692",
           "#B6E880",
           "#FF97FF",
           "#FECB52"
          ],
          "font": {
           "color": "#2a3f5f"
          },
          "geo": {
           "bgcolor": "white",
           "lakecolor": "white",
           "landcolor": "#E5ECF6",
           "showlakes": true,
           "showland": true,
           "subunitcolor": "white"
          },
          "hoverlabel": {
           "align": "left"
          },
          "hovermode": "closest",
          "mapbox": {
           "style": "light"
          },
          "paper_bgcolor": "white",
          "plot_bgcolor": "#E5ECF6",
          "polar": {
           "angularaxis": {
            "gridcolor": "white",
            "linecolor": "white",
            "ticks": ""
           },
           "bgcolor": "#E5ECF6",
           "radialaxis": {
            "gridcolor": "white",
            "linecolor": "white",
            "ticks": ""
           }
          },
          "scene": {
           "xaxis": {
            "backgroundcolor": "#E5ECF6",
            "gridcolor": "white",
            "gridwidth": 2,
            "linecolor": "white",
            "showbackground": true,
            "ticks": "",
            "zerolinecolor": "white"
           },
           "yaxis": {
            "backgroundcolor": "#E5ECF6",
            "gridcolor": "white",
            "gridwidth": 2,
            "linecolor": "white",
            "showbackground": true,
            "ticks": "",
            "zerolinecolor": "white"
           },
           "zaxis": {
            "backgroundcolor": "#E5ECF6",
            "gridcolor": "white",
            "gridwidth": 2,
            "linecolor": "white",
            "showbackground": true,
            "ticks": "",
            "zerolinecolor": "white"
           }
          },
          "shapedefaults": {
           "line": {
            "color": "#2a3f5f"
           }
          },
          "ternary": {
           "aaxis": {
            "gridcolor": "white",
            "linecolor": "white",
            "ticks": ""
           },
           "baxis": {
            "gridcolor": "white",
            "linecolor": "white",
            "ticks": ""
           },
           "bgcolor": "#E5ECF6",
           "caxis": {
            "gridcolor": "white",
            "linecolor": "white",
            "ticks": ""
           }
          },
          "title": {
           "x": 0.05
          },
          "xaxis": {
           "automargin": true,
           "gridcolor": "white",
           "linecolor": "white",
           "ticks": "",
           "title": {
            "standoff": 15
           },
           "zerolinecolor": "white",
           "zerolinewidth": 2
          },
          "yaxis": {
           "automargin": true,
           "gridcolor": "white",
           "linecolor": "white",
           "ticks": "",
           "title": {
            "standoff": 15
           },
           "zerolinecolor": "white",
           "zerolinewidth": 2
          }
         }
        },
        "xaxis": {
         "anchor": "y",
         "domain": [
          0,
          1
         ],
         "title": {
          "text": "date"
         }
        },
        "yaxis": {
         "anchor": "x",
         "domain": [
          0,
          1
         ],
         "title": {
          "text": "value"
         }
        }
       }
      }
     },
     "metadata": {},
     "output_type": "display_data"
    }
   ],
   "source": [
    "be5201[\"Part&item\"] = \"I:\"+ be5201[\"item\"].astype(str) + \" P:\"+ be5201[\"part\"].astype(str)\n",
    "be5201[be5201[\"Part&item\"] == \"I:381 P:1\"]\n",
    "\n",
    "px.line(be5201[be5201[\"Part&item\"] == \"I:381 P:1\"], x=\"date\", y =\"value\" )\n"
   ]
  },
  {
   "cell_type": "code",
   "execution_count": 25,
   "metadata": {},
   "outputs": [
    {
     "name": "stderr",
     "output_type": "stream",
     "text": [
      "C:\\Users\\Laris\\AppData\\Local\\Temp\\ipykernel_15548\\2290091072.py:3: SettingWithCopyWarning:\n",
      "\n",
      "\n",
      "A value is trying to be set on a copy of a slice from a DataFrame.\n",
      "Try using .loc[row_indexer,col_indexer] = value instead\n",
      "\n",
      "See the caveats in the documentation: https://pandas.pydata.org/pandas-docs/stable/user_guide/indexing.html#returning-a-view-versus-a-copy\n",
      "\n"
     ]
    }
   ],
   "source": [
    "\n",
    "col = be5201[be5201[\"date\"] == \"2024-05-15\"][\"value\"].values - be5201[be5201[\"date\"] == \"2023-09-13\"][\"value\"].values\n",
    "temp_df = be5201[be5201[\"date\"] == \"2024-05-15\"]\n",
    "temp_df[\"dif\"] = col\n",
    "\n",
    "pI = temp_df[temp_df[\"dif\"] != 0][\"Part&item\"]\n"
   ]
  },
  {
   "cell_type": "code",
   "execution_count": 26,
   "metadata": {},
   "outputs": [
    {
     "data": {
      "application/vnd.plotly.v1+json": {
       "config": {
        "plotlyServerURL": "https://plot.ly"
       },
       "data": [
        {
         "hovertemplate": "Part&item=I:44 P:45<br>date=%{x}<br>value=%{y}<extra></extra>",
         "legendgroup": "I:44 P:45",
         "line": {
          "color": "#636efa",
          "dash": "solid"
         },
         "marker": {
          "symbol": "circle"
         },
         "mode": "lines",
         "name": "I:44 P:45",
         "orientation": "v",
         "showlegend": true,
         "type": "scatter",
         "x": [
          "2023-09-13",
          "2023-10-04",
          "2023-10-11",
          "2023-10-18",
          "2023-10-25",
          "2023-11-08",
          "2023-11-15",
          "2023-12-06",
          "2023-12-13",
          "2024-01-03",
          "2024-02-07",
          "2024-02-14",
          "2024-02-28",
          "2024-04-24",
          "2024-05-15"
         ],
         "xaxis": "x",
         "y": {
          "bdata": "rgEAAJQBAACKAQAAhQGjAagBCgAAAAAArAGqAaIB",
          "dtype": "i2"
         },
         "yaxis": "y"
        },
        {
         "hovertemplate": "Part&item=I:44 P:134<br>date=%{x}<br>value=%{y}<extra></extra>",
         "legendgroup": "I:44 P:134",
         "line": {
          "color": "#EF553B",
          "dash": "solid"
         },
         "marker": {
          "symbol": "circle"
         },
         "mode": "lines",
         "name": "I:44 P:134",
         "orientation": "v",
         "showlegend": true,
         "type": "scatter",
         "x": [
          "2023-09-13",
          "2023-10-04",
          "2023-10-11",
          "2023-10-18",
          "2023-10-25",
          "2023-11-08",
          "2023-11-15",
          "2023-12-06",
          "2023-12-13",
          "2024-01-03",
          "2024-02-07",
          "2024-02-14",
          "2024-02-28",
          "2024-04-24",
          "2024-05-15"
         ],
         "xaxis": "x",
         "y": {
          "bdata": "sQGxAZMBkwGTAZMBkwGTAZMBkwGTAZMBqQGpAZ0B",
          "dtype": "i2"
         },
         "yaxis": "y"
        },
        {
         "hovertemplate": "Part&item=I:44 P:141<br>date=%{x}<br>value=%{y}<extra></extra>",
         "legendgroup": "I:44 P:141",
         "line": {
          "color": "#00cc96",
          "dash": "solid"
         },
         "marker": {
          "symbol": "circle"
         },
         "mode": "lines",
         "name": "I:44 P:141",
         "orientation": "v",
         "showlegend": true,
         "type": "scatter",
         "x": [
          "2023-09-13",
          "2023-10-04",
          "2023-10-11",
          "2023-10-18",
          "2023-10-25",
          "2023-11-08",
          "2023-11-15",
          "2023-12-06",
          "2023-12-13",
          "2024-01-03",
          "2024-02-07",
          "2024-02-14",
          "2024-02-28",
          "2024-04-24",
          "2024-05-15"
         ],
         "xaxis": "x",
         "y": {
          "bdata": "YgJiAl0CXQJdAl0CXQJdAl0CXQJdAl0CWwJbAlgC",
          "dtype": "i2"
         },
         "yaxis": "y"
        },
        {
         "hovertemplate": "Part&item=I:45 P:45<br>date=%{x}<br>value=%{y}<extra></extra>",
         "legendgroup": "I:45 P:45",
         "line": {
          "color": "#ab63fa",
          "dash": "solid"
         },
         "marker": {
          "symbol": "circle"
         },
         "mode": "lines",
         "name": "I:45 P:45",
         "orientation": "v",
         "showlegend": true,
         "type": "scatter",
         "x": [
          "2023-09-13",
          "2023-10-04",
          "2023-10-11",
          "2023-10-18",
          "2023-10-25",
          "2023-11-08",
          "2023-11-15",
          "2023-12-06",
          "2023-12-13",
          "2024-01-03",
          "2024-02-07",
          "2024-02-14",
          "2024-02-28",
          "2024-04-24",
          "2024-05-15"
         ],
         "xaxis": "x",
         "y": {
          "bdata": "rgEAAJQBAACHAQAAhAGjAakBCgAAAAAAqwGrAaEB",
          "dtype": "i2"
         },
         "yaxis": "y"
        },
        {
         "hovertemplate": "Part&item=I:70 P:45<br>date=%{x}<br>value=%{y}<extra></extra>",
         "legendgroup": "I:70 P:45",
         "line": {
          "color": "#FFA15A",
          "dash": "solid"
         },
         "marker": {
          "symbol": "circle"
         },
         "mode": "lines",
         "name": "I:70 P:45",
         "orientation": "v",
         "showlegend": true,
         "type": "scatter",
         "x": [
          "2023-09-13",
          "2023-10-04",
          "2023-10-11",
          "2023-10-18",
          "2023-10-25",
          "2023-11-08",
          "2023-11-15",
          "2023-12-06",
          "2023-12-13",
          "2024-01-03",
          "2024-02-07",
          "2024-02-14",
          "2024-02-28",
          "2024-04-24",
          "2024-05-15"
         ],
         "xaxis": "x",
         "y": {
          "bdata": "BgAAAPz/AAC3uQAACgAAAPr/AAD8/wAACgAAAAQAAAD8/wAABAAAAAgAAAAAAAAABAAAAAgAAAAIAAAA",
          "dtype": "i4"
         },
         "yaxis": "y"
        },
        {
         "hovertemplate": "Part&item=I:75 P:45<br>date=%{x}<br>value=%{y}<extra></extra>",
         "legendgroup": "I:75 P:45",
         "line": {
          "color": "#19d3f3",
          "dash": "solid"
         },
         "marker": {
          "symbol": "circle"
         },
         "mode": "lines",
         "name": "I:75 P:45",
         "orientation": "v",
         "showlegend": true,
         "type": "scatter",
         "x": [
          "2023-09-13",
          "2023-10-04",
          "2023-10-11",
          "2023-10-18",
          "2023-10-25",
          "2023-11-08",
          "2023-11-15",
          "2023-12-06",
          "2023-12-13",
          "2024-01-03",
          "2024-02-07",
          "2024-02-14",
          "2024-02-28",
          "2024-04-24",
          "2024-05-15"
         ],
         "xaxis": "x",
         "y": {
          "bdata": "QEYAAAAAAADc3AAA9P8AAAQAAAAAAAAABAAAAAAAAAAAAAAA/P8AAAAAAAD8/wAA/P8AAPz/AAAwIgAA",
          "dtype": "i4"
         },
         "yaxis": "y"
        },
        {
         "hovertemplate": "Part&item=I:80 P:45<br>date=%{x}<br>value=%{y}<extra></extra>",
         "legendgroup": "I:80 P:45",
         "line": {
          "color": "#FF6692",
          "dash": "solid"
         },
         "marker": {
          "symbol": "circle"
         },
         "mode": "lines",
         "name": "I:80 P:45",
         "orientation": "v",
         "showlegend": true,
         "type": "scatter",
         "x": [
          "2023-09-13",
          "2023-10-04",
          "2023-10-11",
          "2023-10-18",
          "2023-10-25",
          "2023-11-08",
          "2023-11-15",
          "2023-12-06",
          "2023-12-13",
          "2024-01-03",
          "2024-02-07",
          "2024-02-14",
          "2024-02-28",
          "2024-04-24",
          "2024-05-15"
         ],
         "xaxis": "x",
         "y": {
          "bdata": "zgf0AfEB9QH0AfQB0QfPB84H9AHQB/UBzwevBJcA",
          "dtype": "i2"
         },
         "yaxis": "y"
        },
        {
         "hovertemplate": "Part&item=I:85 P:45<br>date=%{x}<br>value=%{y}<extra></extra>",
         "legendgroup": "I:85 P:45",
         "line": {
          "color": "#B6E880",
          "dash": "solid"
         },
         "marker": {
          "symbol": "circle"
         },
         "mode": "lines",
         "name": "I:85 P:45",
         "orientation": "v",
         "showlegend": true,
         "type": "scatter",
         "x": [
          "2023-09-13",
          "2023-10-04",
          "2023-10-11",
          "2023-10-18",
          "2023-10-25",
          "2023-11-08",
          "2023-11-15",
          "2023-12-06",
          "2023-12-13",
          "2024-01-03",
          "2024-02-07",
          "2024-02-14",
          "2024-02-28",
          "2024-04-24",
          "2024-05-15"
         ],
         "xaxis": "x",
         "y": {
          "bdata": "zwf0AfUB9AH0AfQBzwfOB88H9QHQB/MBzgevBJcA",
          "dtype": "i2"
         },
         "yaxis": "y"
        },
        {
         "hovertemplate": "Part&item=I:97 P:1<br>date=%{x}<br>value=%{y}<extra></extra>",
         "legendgroup": "I:97 P:1",
         "line": {
          "color": "#FF97FF",
          "dash": "solid"
         },
         "marker": {
          "symbol": "circle"
         },
         "mode": "lines",
         "name": "I:97 P:1",
         "orientation": "v",
         "showlegend": true,
         "type": "scatter",
         "x": [
          "2023-09-13",
          "2023-10-04",
          "2023-10-11",
          "2023-10-18",
          "2023-10-25",
          "2023-11-08",
          "2023-11-15",
          "2023-12-06",
          "2023-12-13",
          "2024-01-03",
          "2024-02-07",
          "2024-02-14",
          "2024-02-28",
          "2024-04-24",
          "2024-05-15"
         ],
         "xaxis": "x",
         "y": {
          "bdata": "0QfRB9EH0QfRB9EH0QfRB9EHFggWCBYIFggWCBYI",
          "dtype": "i2"
         },
         "yaxis": "y"
        },
        {
         "hovertemplate": "Part&item=I:127 P:45<br>date=%{x}<br>value=%{y}<extra></extra>",
         "legendgroup": "I:127 P:45",
         "line": {
          "color": "#FECB52",
          "dash": "solid"
         },
         "marker": {
          "symbol": "circle"
         },
         "mode": "lines",
         "name": "I:127 P:45",
         "orientation": "v",
         "showlegend": true,
         "type": "scatter",
         "x": [
          "2023-09-13",
          "2023-10-04",
          "2023-10-11",
          "2023-10-18",
          "2023-10-25",
          "2023-11-08",
          "2023-11-15",
          "2023-12-06",
          "2023-12-13",
          "2024-01-03",
          "2024-02-07",
          "2024-02-14",
          "2024-02-28",
          "2024-04-24",
          "2024-05-15"
         ],
         "xaxis": "x",
         "y": {
          "bdata": "AAAAAACAAAACAAAAAIAAAPz/AAAAgAAAAAAAAAAAAAD//wAA7/8AAACAAAAAgAAAAQAAAAAAAAABAAAA",
          "dtype": "i4"
         },
         "yaxis": "y"
        },
        {
         "hovertemplate": "Part&item=I:128 P:45<br>date=%{x}<br>value=%{y}<extra></extra>",
         "legendgroup": "I:128 P:45",
         "line": {
          "color": "#636efa",
          "dash": "solid"
         },
         "marker": {
          "symbol": "circle"
         },
         "mode": "lines",
         "name": "I:128 P:45",
         "orientation": "v",
         "showlegend": true,
         "type": "scatter",
         "x": [
          "2023-09-13",
          "2023-10-04",
          "2023-10-11",
          "2023-10-18",
          "2023-10-25",
          "2023-11-08",
          "2023-11-15",
          "2023-12-06",
          "2023-12-13",
          "2024-01-03",
          "2024-02-07",
          "2024-02-14",
          "2024-02-28",
          "2024-04-24",
          "2024-05-15"
         ],
         "xaxis": "x",
         "y": {
          "bdata": "//8AAACAAADz/wAAAIAAAAIAAAAAgAAA/v8AAAIAAAD//wAA9P8AAACAAAAAgAAAAAAAAAEAAAAIAAAA",
          "dtype": "i4"
         },
         "yaxis": "y"
        },
        {
         "hovertemplate": "Part&item=I:129 P:45<br>date=%{x}<br>value=%{y}<extra></extra>",
         "legendgroup": "I:129 P:45",
         "line": {
          "color": "#EF553B",
          "dash": "solid"
         },
         "marker": {
          "symbol": "circle"
         },
         "mode": "lines",
         "name": "I:129 P:45",
         "orientation": "v",
         "showlegend": true,
         "type": "scatter",
         "x": [
          "2023-09-13",
          "2023-10-04",
          "2023-10-11",
          "2023-10-18",
          "2023-10-25",
          "2023-11-08",
          "2023-11-15",
          "2023-12-06",
          "2023-12-13",
          "2024-01-03",
          "2024-02-07",
          "2024-02-14",
          "2024-02-28",
          "2024-04-24",
          "2024-05-15"
         ],
         "xaxis": "x",
         "y": {
          "bdata": "4f8AAACAAADl/wAAAIAAAOH/AAAAgAAA4P8AAOP/AADs/wAA5/8AAACAAAAAgAAA5v8AAOT/AADX/wAA",
          "dtype": "i4"
         },
         "yaxis": "y"
        },
        {
         "hovertemplate": "Part&item=I:160 P:132<br>date=%{x}<br>value=%{y}<extra></extra>",
         "legendgroup": "I:160 P:132",
         "line": {
          "color": "#00cc96",
          "dash": "solid"
         },
         "marker": {
          "symbol": "circle"
         },
         "mode": "lines",
         "name": "I:160 P:132",
         "orientation": "v",
         "showlegend": true,
         "type": "scatter",
         "x": [
          "2023-09-13",
          "2023-10-04",
          "2023-10-11",
          "2023-10-18",
          "2023-10-25",
          "2023-11-08",
          "2023-11-15",
          "2023-12-06",
          "2023-12-13",
          "2024-01-03",
          "2024-02-07",
          "2024-02-14",
          "2024-02-28",
          "2024-04-24",
          "2024-05-15"
         ],
         "xaxis": "x",
         "y": {
          "bdata": "hAeJB4kHiQeJB4kHiQeJB4kHiQeJB4kHiQeJB4kH",
          "dtype": "i2"
         },
         "yaxis": "y"
        },
        {
         "hovertemplate": "Part&item=I:160 P:134<br>date=%{x}<br>value=%{y}<extra></extra>",
         "legendgroup": "I:160 P:134",
         "line": {
          "color": "#ab63fa",
          "dash": "solid"
         },
         "marker": {
          "symbol": "circle"
         },
         "mode": "lines",
         "name": "I:160 P:134",
         "orientation": "v",
         "showlegend": true,
         "type": "scatter",
         "x": [
          "2023-09-13",
          "2023-10-04",
          "2023-10-11",
          "2023-10-18",
          "2023-10-25",
          "2023-11-08",
          "2023-11-15",
          "2023-12-06",
          "2023-12-13",
          "2024-01-03",
          "2024-02-07",
          "2024-02-14",
          "2024-02-28",
          "2024-04-24",
          "2024-05-15"
         ],
         "xaxis": "x",
         "y": {
          "bdata": "gAd+B34Hfgd+B34Hfgd+B34Hfgd+B34Hfgd+B34H",
          "dtype": "i2"
         },
         "yaxis": "y"
        },
        {
         "hovertemplate": "Part&item=I:160 P:135<br>date=%{x}<br>value=%{y}<extra></extra>",
         "legendgroup": "I:160 P:135",
         "line": {
          "color": "#FFA15A",
          "dash": "solid"
         },
         "marker": {
          "symbol": "circle"
         },
         "mode": "lines",
         "name": "I:160 P:135",
         "orientation": "v",
         "showlegend": true,
         "type": "scatter",
         "x": [
          "2023-09-13",
          "2023-10-04",
          "2023-10-11",
          "2023-10-18",
          "2023-10-25",
          "2023-11-08",
          "2023-11-15",
          "2023-12-06",
          "2023-12-13",
          "2024-01-03",
          "2024-02-07",
          "2024-02-14",
          "2024-02-28",
          "2024-04-24",
          "2024-05-15"
         ],
         "xaxis": "x",
         "y": {
          "bdata": "hAeLB4sHiweLB4sHiweLB4sHiweLB4sHiweLB4sH",
          "dtype": "i2"
         },
         "yaxis": "y"
        },
        {
         "hovertemplate": "Part&item=I:160 P:136<br>date=%{x}<br>value=%{y}<extra></extra>",
         "legendgroup": "I:160 P:136",
         "line": {
          "color": "#19d3f3",
          "dash": "solid"
         },
         "marker": {
          "symbol": "circle"
         },
         "mode": "lines",
         "name": "I:160 P:136",
         "orientation": "v",
         "showlegend": true,
         "type": "scatter",
         "x": [
          "2023-09-13",
          "2023-10-04",
          "2023-10-11",
          "2023-10-18",
          "2023-10-25",
          "2023-11-08",
          "2023-11-15",
          "2023-12-06",
          "2023-12-13",
          "2024-01-03",
          "2024-02-07",
          "2024-02-14",
          "2024-02-28",
          "2024-04-24",
          "2024-05-15"
         ],
         "xaxis": "x",
         "y": {
          "bdata": "BQgJCAkICQgJCAkICQgJCAkICQgJCAkICQgJCAkI",
          "dtype": "i2"
         },
         "yaxis": "y"
        },
        {
         "hovertemplate": "Part&item=I:161 P:45<br>date=%{x}<br>value=%{y}<extra></extra>",
         "legendgroup": "I:161 P:45",
         "line": {
          "color": "#FF6692",
          "dash": "solid"
         },
         "marker": {
          "symbol": "circle"
         },
         "mode": "lines",
         "name": "I:161 P:45",
         "orientation": "v",
         "showlegend": true,
         "type": "scatter",
         "x": [
          "2023-09-13",
          "2023-10-04",
          "2023-10-11",
          "2023-10-18",
          "2023-10-25",
          "2023-11-08",
          "2023-11-15",
          "2023-12-06",
          "2023-12-13",
          "2024-01-03",
          "2024-02-07",
          "2024-02-14",
          "2024-02-28",
          "2024-04-24",
          "2024-05-15"
         ],
         "xaxis": "x",
         "y": {
          "bdata": "zQnRBwIK0wcJCtEH0QnnCcQJGggYCBYIAgodCi4K",
          "dtype": "i2"
         },
         "yaxis": "y"
        },
        {
         "hovertemplate": "Part&item=I:163 P:1<br>date=%{x}<br>value=%{y}<extra></extra>",
         "legendgroup": "I:163 P:1",
         "line": {
          "color": "#B6E880",
          "dash": "solid"
         },
         "marker": {
          "symbol": "circle"
         },
         "mode": "lines",
         "name": "I:163 P:1",
         "orientation": "v",
         "showlegend": true,
         "type": "scatter",
         "x": [
          "2023-09-13",
          "2023-10-04",
          "2023-10-11",
          "2023-10-18",
          "2023-10-25",
          "2023-11-08",
          "2023-11-15",
          "2023-12-06",
          "2023-12-13",
          "2024-01-03",
          "2024-02-07",
          "2024-02-14",
          "2024-02-28",
          "2024-04-24",
          "2024-05-15"
         ],
         "xaxis": "x",
         "y": {
          "bdata": "wgZeBl4GXgZeBl4GXgbqBuoG6gbqBuoG6gbqBuoG",
          "dtype": "i2"
         },
         "yaxis": "y"
        },
        {
         "hovertemplate": "Part&item=I:163 P:45<br>date=%{x}<br>value=%{y}<extra></extra>",
         "legendgroup": "I:163 P:45",
         "line": {
          "color": "#FF97FF",
          "dash": "solid"
         },
         "marker": {
          "symbol": "circle"
         },
         "mode": "lines",
         "name": "I:163 P:45",
         "orientation": "v",
         "showlegend": true,
         "type": "scatter",
         "x": [
          "2023-09-13",
          "2023-10-04",
          "2023-10-11",
          "2023-10-18",
          "2023-10-25",
          "2023-11-08",
          "2023-11-15",
          "2023-12-06",
          "2023-12-13",
          "2024-01-03",
          "2024-02-07",
          "2024-02-14",
          "2024-02-28",
          "2024-04-24",
          "2024-05-15"
         ],
         "xaxis": "x",
         "y": {
          "bdata": "wQZdBl0GXQZgBl0GXQbqBuoG6wbrBugG6gbqBuoG",
          "dtype": "i2"
         },
         "yaxis": "y"
        },
        {
         "hovertemplate": "Part&item=I:164 P:1<br>date=%{x}<br>value=%{y}<extra></extra>",
         "legendgroup": "I:164 P:1",
         "line": {
          "color": "#FECB52",
          "dash": "solid"
         },
         "marker": {
          "symbol": "circle"
         },
         "mode": "lines",
         "name": "I:164 P:1",
         "orientation": "v",
         "showlegend": true,
         "type": "scatter",
         "x": [
          "2023-09-13",
          "2023-10-04",
          "2023-10-11",
          "2023-10-18",
          "2023-10-25",
          "2023-11-08",
          "2023-11-15",
          "2023-12-06",
          "2023-12-13",
          "2024-01-03",
          "2024-02-07",
          "2024-02-14",
          "2024-02-28",
          "2024-04-24",
          "2024-05-15"
         ],
         "xaxis": "x",
         "y": {
          "bdata": "r/8AAKP/AACj/wAAo/8AAK7/AACu/wAAtv8AANT/AADR/wAA0f8AANH/AADR/wAA2P8AAMz/AADN/wAA",
          "dtype": "i4"
         },
         "yaxis": "y"
        },
        {
         "hovertemplate": "Part&item=I:164 P:45<br>date=%{x}<br>value=%{y}<extra></extra>",
         "legendgroup": "I:164 P:45",
         "line": {
          "color": "#636efa",
          "dash": "solid"
         },
         "marker": {
          "symbol": "circle"
         },
         "mode": "lines",
         "name": "I:164 P:45",
         "orientation": "v",
         "showlegend": true,
         "type": "scatter",
         "x": [
          "2023-09-13",
          "2023-10-04",
          "2023-10-11",
          "2023-10-18",
          "2023-10-25",
          "2023-11-08",
          "2023-11-15",
          "2023-12-06",
          "2023-12-13",
          "2024-01-03",
          "2024-02-07",
          "2024-02-14",
          "2024-02-28",
          "2024-04-24",
          "2024-05-15"
         ],
         "xaxis": "x",
         "y": {
          "bdata": "sP8AAKX/AACU/wAApf8AALL/AACw/wAAuP8AANf/AADV/wAA1f8AANT/AADU/wAA2P8AAM7/AADF/wAA",
          "dtype": "i4"
         },
         "yaxis": "y"
        },
        {
         "hovertemplate": "Part&item=I:165 P:1<br>date=%{x}<br>value=%{y}<extra></extra>",
         "legendgroup": "I:165 P:1",
         "line": {
          "color": "#EF553B",
          "dash": "solid"
         },
         "marker": {
          "symbol": "circle"
         },
         "mode": "lines",
         "name": "I:165 P:1",
         "orientation": "v",
         "showlegend": true,
         "type": "scatter",
         "x": [
          "2023-09-13",
          "2023-10-04",
          "2023-10-11",
          "2023-10-18",
          "2023-10-25",
          "2023-11-08",
          "2023-11-15",
          "2023-12-06",
          "2023-12-13",
          "2024-01-03",
          "2024-02-07",
          "2024-02-14",
          "2024-02-28",
          "2024-04-24",
          "2024-05-15"
         ],
         "xaxis": "x",
         "y": {
          "bdata": "HSAgIBgYHjw2NjY2PDwc",
          "dtype": "i1"
         },
         "yaxis": "y"
        },
        {
         "hovertemplate": "Part&item=I:165 P:45<br>date=%{x}<br>value=%{y}<extra></extra>",
         "legendgroup": "I:165 P:45",
         "line": {
          "color": "#00cc96",
          "dash": "solid"
         },
         "marker": {
          "symbol": "circle"
         },
         "mode": "lines",
         "name": "I:165 P:45",
         "orientation": "v",
         "showlegend": true,
         "type": "scatter",
         "x": [
          "2023-09-13",
          "2023-10-04",
          "2023-10-11",
          "2023-10-18",
          "2023-10-25",
          "2023-11-08",
          "2023-11-15",
          "2023-12-06",
          "2023-12-13",
          "2024-01-03",
          "2024-02-07",
          "2024-02-14",
          "2024-02-28",
          "2024-04-24",
          "2024-05-15"
         ],
         "xaxis": "x",
         "y": {
          "bdata": "ExZmFg4OFDIsLCwsMjIS",
          "dtype": "i1"
         },
         "yaxis": "y"
        },
        {
         "hovertemplate": "Part&item=I:187 P:1<br>date=%{x}<br>value=%{y}<extra></extra>",
         "legendgroup": "I:187 P:1",
         "line": {
          "color": "#ab63fa",
          "dash": "solid"
         },
         "marker": {
          "symbol": "circle"
         },
         "mode": "lines",
         "name": "I:187 P:1",
         "orientation": "v",
         "showlegend": true,
         "type": "scatter",
         "x": [
          "2023-09-13",
          "2023-10-04",
          "2023-10-11",
          "2023-10-18",
          "2023-10-25",
          "2023-11-08",
          "2023-11-15",
          "2023-12-06",
          "2023-12-13",
          "2024-01-03",
          "2024-02-07",
          "2024-02-14",
          "2024-02-28",
          "2024-04-24",
          "2024-05-15"
         ],
         "xaxis": "x",
         "y": {
          "bdata": "6wnhCeEJ4QnhCeEJ6QnnCeoJ6gnqCeoJ6gnqCecJ",
          "dtype": "i2"
         },
         "yaxis": "y"
        },
        {
         "hovertemplate": "Part&item=I:190 P:45<br>date=%{x}<br>value=%{y}<extra></extra>",
         "legendgroup": "I:190 P:45",
         "line": {
          "color": "#FFA15A",
          "dash": "solid"
         },
         "marker": {
          "symbol": "circle"
         },
         "mode": "lines",
         "name": "I:190 P:45",
         "orientation": "v",
         "showlegend": true,
         "type": "scatter",
         "x": [
          "2023-09-13",
          "2023-10-04",
          "2023-10-11",
          "2023-10-18",
          "2023-10-25",
          "2023-11-08",
          "2023-11-15",
          "2023-12-06",
          "2023-12-13",
          "2024-01-03",
          "2024-02-07",
          "2024-02-14",
          "2024-02-28",
          "2024-04-24",
          "2024-05-15"
         ],
         "xaxis": "x",
         "y": {
          "bdata": "hgMAAACAAABWAwAAAIAAADoDAAAAgAAALwMAAHYDAACGAwAADAMAAACAAAAAgAAAkAMAAJEDAABtAwAA",
          "dtype": "i4"
         },
         "yaxis": "y"
        },
        {
         "hovertemplate": "Part&item=I:191 P:45<br>date=%{x}<br>value=%{y}<extra></extra>",
         "legendgroup": "I:191 P:45",
         "line": {
          "color": "#19d3f3",
          "dash": "solid"
         },
         "marker": {
          "symbol": "circle"
         },
         "mode": "lines",
         "name": "I:191 P:45",
         "orientation": "v",
         "showlegend": true,
         "type": "scatter",
         "x": [
          "2023-09-13",
          "2023-10-04",
          "2023-10-11",
          "2023-10-18",
          "2023-10-25",
          "2023-11-08",
          "2023-11-15",
          "2023-12-06",
          "2023-12-13",
          "2024-01-03",
          "2024-02-07",
          "2024-02-14",
          "2024-02-28",
          "2024-04-24",
          "2024-05-15"
         ],
         "xaxis": "x",
         "y": {
          "bdata": "gAMAAACAAABYAwAAAIAAADcDAAAAgAAAKgMAAHEDAAB/AwAA8QIAAACAAAAAgAAAhwMAAIsDAABoAwAA",
          "dtype": "i4"
         },
         "yaxis": "y"
        },
        {
         "hovertemplate": "Part&item=I:192 P:45<br>date=%{x}<br>value=%{y}<extra></extra>",
         "legendgroup": "I:192 P:45",
         "line": {
          "color": "#FF6692",
          "dash": "solid"
         },
         "marker": {
          "symbol": "circle"
         },
         "mode": "lines",
         "name": "I:192 P:45",
         "orientation": "v",
         "showlegend": true,
         "type": "scatter",
         "x": [
          "2023-09-13",
          "2023-10-04",
          "2023-10-11",
          "2023-10-18",
          "2023-10-25",
          "2023-11-08",
          "2023-11-15",
          "2023-12-06",
          "2023-12-13",
          "2024-01-03",
          "2024-02-07",
          "2024-02-14",
          "2024-02-28",
          "2024-04-24",
          "2024-05-15"
         ],
         "xaxis": "x",
         "y": {
          "bdata": "wAMAAACAAACPAwAAAIAAAG0DAAAAgAAAXwMAAKoDAAC5AwAALQMAAACAAAAAgAAAwgMAAMYDAACjAwAA",
          "dtype": "i4"
         },
         "yaxis": "y"
        },
        {
         "hovertemplate": "Part&item=I:193 P:45<br>date=%{x}<br>value=%{y}<extra></extra>",
         "legendgroup": "I:193 P:45",
         "line": {
          "color": "#B6E880",
          "dash": "solid"
         },
         "marker": {
          "symbol": "circle"
         },
         "mode": "lines",
         "name": "I:193 P:45",
         "orientation": "v",
         "showlegend": true,
         "type": "scatter",
         "x": [
          "2023-09-13",
          "2023-10-04",
          "2023-10-11",
          "2023-10-18",
          "2023-10-25",
          "2023-11-08",
          "2023-11-15",
          "2023-12-06",
          "2023-12-13",
          "2024-01-03",
          "2024-02-07",
          "2024-02-14",
          "2024-02-28",
          "2024-04-24",
          "2024-05-15"
         ],
         "xaxis": "x",
         "y": {
          "bdata": "wQMAAACAAACZAwAAAIAAAHIDAAAAgAAAZwMAALADAAC/AwAANQMAAACAAAAAgAAAygMAAMwDAACkAwAA",
          "dtype": "i4"
         },
         "yaxis": "y"
        },
        {
         "hovertemplate": "Part&item=I:194 P:45<br>date=%{x}<br>value=%{y}<extra></extra>",
         "legendgroup": "I:194 P:45",
         "line": {
          "color": "#FF97FF",
          "dash": "solid"
         },
         "marker": {
          "symbol": "circle"
         },
         "mode": "lines",
         "name": "I:194 P:45",
         "orientation": "v",
         "showlegend": true,
         "type": "scatter",
         "x": [
          "2023-09-13",
          "2023-10-04",
          "2023-10-11",
          "2023-10-18",
          "2023-10-25",
          "2023-11-08",
          "2023-11-15",
          "2023-12-06",
          "2023-12-13",
          "2024-01-03",
          "2024-02-07",
          "2024-02-14",
          "2024-02-28",
          "2024-04-24",
          "2024-05-15"
         ],
         "xaxis": "x",
         "y": {
          "bdata": "vwMAAACAAACYAwAAAIAAAHEDAAAAgAAAYwMAAK8DAADAAwAAKwMAAACAAAAAgAAAyAMAAMwDAACqAwAA",
          "dtype": "i4"
         },
         "yaxis": "y"
        },
        {
         "hovertemplate": "Part&item=I:195 P:45<br>date=%{x}<br>value=%{y}<extra></extra>",
         "legendgroup": "I:195 P:45",
         "line": {
          "color": "#FECB52",
          "dash": "solid"
         },
         "marker": {
          "symbol": "circle"
         },
         "mode": "lines",
         "name": "I:195 P:45",
         "orientation": "v",
         "showlegend": true,
         "type": "scatter",
         "x": [
          "2023-09-13",
          "2023-10-04",
          "2023-10-11",
          "2023-10-18",
          "2023-10-25",
          "2023-11-08",
          "2023-11-15",
          "2023-12-06",
          "2023-12-13",
          "2024-01-03",
          "2024-02-07",
          "2024-02-14",
          "2024-02-28",
          "2024-04-24",
          "2024-05-15"
         ],
         "xaxis": "x",
         "y": {
          "bdata": "wgMAAACAAACPAwAAAIAAAG0DAAAAgAAAYgMAAK4DAAC6AwAALAMAAACAAAAAgAAAxQMAAMcDAACfAwAA",
          "dtype": "i4"
         },
         "yaxis": "y"
        },
        {
         "hovertemplate": "Part&item=I:212 P:45<br>date=%{x}<br>value=%{y}<extra></extra>",
         "legendgroup": "I:212 P:45",
         "line": {
          "color": "#636efa",
          "dash": "solid"
         },
         "marker": {
          "symbol": "circle"
         },
         "mode": "lines",
         "name": "I:212 P:45",
         "orientation": "v",
         "showlegend": true,
         "type": "scatter",
         "x": [
          "2023-09-13",
          "2023-10-04",
          "2023-10-11",
          "2023-10-18",
          "2023-10-25",
          "2023-11-08",
          "2023-11-15",
          "2023-12-06",
          "2023-12-13",
          "2024-01-03",
          "2024-02-07",
          "2024-02-14",
          "2024-02-28",
          "2024-04-24",
          "2024-05-15"
         ],
         "xaxis": "x",
         "y": {
          "bdata": "wgMcBdQDHAXSAxwFygPSA8wDHQUhBSAFvgPOA9YD",
          "dtype": "i2"
         },
         "yaxis": "y"
        },
        {
         "hovertemplate": "Part&item=I:216 P:45<br>date=%{x}<br>value=%{y}<extra></extra>",
         "legendgroup": "I:216 P:45",
         "line": {
          "color": "#EF553B",
          "dash": "solid"
         },
         "marker": {
          "symbol": "circle"
         },
         "mode": "lines",
         "name": "I:216 P:45",
         "orientation": "v",
         "showlegend": true,
         "type": "scatter",
         "x": [
          "2023-09-13",
          "2023-10-04",
          "2023-10-11",
          "2023-10-18",
          "2023-10-25",
          "2023-11-08",
          "2023-11-15",
          "2023-12-06",
          "2023-12-13",
          "2024-01-03",
          "2024-02-07",
          "2024-02-14",
          "2024-02-28",
          "2024-04-24",
          "2024-05-15"
         ],
         "xaxis": "x",
         "y": {
          "bdata": "VAfdA2kH1wNaB90DZQdWB1gHOgf1A/IDVQdPB1UH",
          "dtype": "i2"
         },
         "yaxis": "y"
        },
        {
         "hovertemplate": "Part&item=I:224 P:45<br>date=%{x}<br>value=%{y}<extra></extra>",
         "legendgroup": "I:224 P:45",
         "line": {
          "color": "#00cc96",
          "dash": "solid"
         },
         "marker": {
          "symbol": "circle"
         },
         "mode": "lines",
         "name": "I:224 P:45",
         "orientation": "v",
         "showlegend": true,
         "type": "scatter",
         "x": [
          "2023-09-13",
          "2023-10-04",
          "2023-10-11",
          "2023-10-18",
          "2023-10-25",
          "2023-11-08",
          "2023-11-15",
          "2023-12-06",
          "2023-12-13",
          "2024-01-03",
          "2024-02-07",
          "2024-02-14",
          "2024-02-28",
          "2024-04-24",
          "2024-05-15"
         ],
         "xaxis": "x",
         "y": {
          "bdata": "yAtmCiML8gq1C00KSAxdCz8MZgsdCz4LqQvyCmwK",
          "dtype": "i2"
         },
         "yaxis": "y"
        },
        {
         "hovertemplate": "Part&item=I:226 P:45<br>date=%{x}<br>value=%{y}<extra></extra>",
         "legendgroup": "I:226 P:45",
         "line": {
          "color": "#ab63fa",
          "dash": "solid"
         },
         "marker": {
          "symbol": "circle"
         },
         "mode": "lines",
         "name": "I:226 P:45",
         "orientation": "v",
         "showlegend": true,
         "type": "scatter",
         "x": [
          "2023-09-13",
          "2023-10-04",
          "2023-10-11",
          "2023-10-18",
          "2023-10-25",
          "2023-11-08",
          "2023-11-15",
          "2023-12-06",
          "2023-12-13",
          "2024-01-03",
          "2024-02-07",
          "2024-02-14",
          "2024-02-28",
          "2024-04-24",
          "2024-05-15"
         ],
         "xaxis": "x",
         "y": {
          "bdata": "ywtmCiAL7AqvC0oKQgxdCz8MZgsdCzsLpgvyCmwK",
          "dtype": "i2"
         },
         "yaxis": "y"
        },
        {
         "hovertemplate": "Part&item=I:230 P:1<br>date=%{x}<br>value=%{y}<extra></extra>",
         "legendgroup": "I:230 P:1",
         "line": {
          "color": "#FFA15A",
          "dash": "solid"
         },
         "marker": {
          "symbol": "circle"
         },
         "mode": "lines",
         "name": "I:230 P:1",
         "orientation": "v",
         "showlegend": true,
         "type": "scatter",
         "x": [
          "2023-09-13",
          "2023-10-04",
          "2023-10-11",
          "2023-10-18",
          "2023-10-25",
          "2023-11-08",
          "2023-11-15",
          "2023-12-06",
          "2023-12-13",
          "2024-01-03",
          "2024-02-07",
          "2024-02-14",
          "2024-02-28",
          "2024-04-24",
          "2024-05-15"
         ],
         "xaxis": "x",
         "y": {
          "bdata": "wgZeBl4GXgZeBl4GXgbqBuoG6gbqBuoG6gbqBuoG",
          "dtype": "i2"
         },
         "yaxis": "y"
        },
        {
         "hovertemplate": "Part&item=I:232 P:45<br>date=%{x}<br>value=%{y}<extra></extra>",
         "legendgroup": "I:232 P:45",
         "line": {
          "color": "#19d3f3",
          "dash": "solid"
         },
         "marker": {
          "symbol": "circle"
         },
         "mode": "lines",
         "name": "I:232 P:45",
         "orientation": "v",
         "showlegend": true,
         "type": "scatter",
         "x": [
          "2023-09-13",
          "2023-10-04",
          "2023-10-11",
          "2023-10-18",
          "2023-10-25",
          "2023-11-08",
          "2023-11-15",
          "2023-12-06",
          "2023-12-13",
          "2024-01-03",
          "2024-02-07",
          "2024-02-14",
          "2024-02-28",
          "2024-04-24",
          "2024-05-15"
         ],
         "xaxis": "x",
         "y": {
          "bdata": "HwYAAACAAAAhBgAAAIAAACkGAAAAgAAAJQYAAEgGAAA+BgAAXwYAAACAAAAAgAAAQwYAAFUGAABlBgAA",
          "dtype": "i4"
         },
         "yaxis": "y"
        },
        {
         "hovertemplate": "Part&item=I:233 P:45<br>date=%{x}<br>value=%{y}<extra></extra>",
         "legendgroup": "I:233 P:45",
         "line": {
          "color": "#FF6692",
          "dash": "solid"
         },
         "marker": {
          "symbol": "circle"
         },
         "mode": "lines",
         "name": "I:233 P:45",
         "orientation": "v",
         "showlegend": true,
         "type": "scatter",
         "x": [
          "2023-09-13",
          "2023-10-04",
          "2023-10-11",
          "2023-10-18",
          "2023-10-25",
          "2023-11-08",
          "2023-11-15",
          "2023-12-06",
          "2023-12-13",
          "2024-01-03",
          "2024-02-07",
          "2024-02-14",
          "2024-02-28",
          "2024-04-24",
          "2024-05-15"
         ],
         "xaxis": "x",
         "y": {
          "bdata": "uAUAAACAAADGBQAAAIAAAMIFAAAAgAAAuwUAAOgFAAD9BQAACgYAAACAAAAAgAAA6wUAAPgFAADbBQAA",
          "dtype": "i4"
         },
         "yaxis": "y"
        },
        {
         "hovertemplate": "Part&item=I:244 P:45<br>date=%{x}<br>value=%{y}<extra></extra>",
         "legendgroup": "I:244 P:45",
         "line": {
          "color": "#B6E880",
          "dash": "solid"
         },
         "marker": {
          "symbol": "circle"
         },
         "mode": "lines",
         "name": "I:244 P:45",
         "orientation": "v",
         "showlegend": true,
         "type": "scatter",
         "x": [
          "2023-09-13",
          "2023-10-04",
          "2023-10-11",
          "2023-10-18",
          "2023-10-25",
          "2023-11-08",
          "2023-11-15",
          "2023-12-06",
          "2023-12-13",
          "2024-01-03",
          "2024-02-07",
          "2024-02-14",
          "2024-02-28",
          "2024-04-24",
          "2024-05-15"
         ],
         "xaxis": "x",
         "y": {
          "bdata": "9gKMAPsCjAD+AowA/gL7AgQDngCMAIwA+wL7AgED",
          "dtype": "i2"
         },
         "yaxis": "y"
        },
        {
         "hovertemplate": "Part&item=I:304 P:1<br>date=%{x}<br>value=%{y}<extra></extra>",
         "legendgroup": "I:304 P:1",
         "line": {
          "color": "#FF97FF",
          "dash": "solid"
         },
         "marker": {
          "symbol": "circle"
         },
         "mode": "lines",
         "name": "I:304 P:1",
         "orientation": "v",
         "showlegend": true,
         "type": "scatter",
         "x": [
          "2023-09-13",
          "2023-10-04",
          "2023-10-11",
          "2023-10-18",
          "2023-10-25",
          "2023-11-08",
          "2023-11-15",
          "2023-12-06",
          "2023-12-13",
          "2024-01-03",
          "2024-02-07",
          "2024-02-14",
          "2024-02-28",
          "2024-04-24",
          "2024-05-15"
         ],
         "xaxis": "x",
         "y": {
          "bdata": "fwF/AX8BfwF/AX8BfwGTAZMBkwGTAZMBlAGUAYwB",
          "dtype": "i2"
         },
         "yaxis": "y"
        },
        {
         "hovertemplate": "Part&item=I:305 P:1<br>date=%{x}<br>value=%{y}<extra></extra>",
         "legendgroup": "I:305 P:1",
         "line": {
          "color": "#FECB52",
          "dash": "solid"
         },
         "marker": {
          "symbol": "circle"
         },
         "mode": "lines",
         "name": "I:305 P:1",
         "orientation": "v",
         "showlegend": true,
         "type": "scatter",
         "x": [
          "2023-09-13",
          "2023-10-04",
          "2023-10-11",
          "2023-10-18",
          "2023-10-25",
          "2023-11-08",
          "2023-11-15",
          "2023-12-06",
          "2023-12-13",
          "2024-01-03",
          "2024-02-07",
          "2024-02-14",
          "2024-02-28",
          "2024-04-24",
          "2024-05-15"
         ],
         "xaxis": "x",
         "y": {
          "bdata": "qQCpAKkAqQCpAKkAqQC0ALQAtAC0ALQAtAC0ALoA",
          "dtype": "i2"
         },
         "yaxis": "y"
        },
        {
         "hovertemplate": "Part&item=I:308 P:1<br>date=%{x}<br>value=%{y}<extra></extra>",
         "legendgroup": "I:308 P:1",
         "line": {
          "color": "#636efa",
          "dash": "solid"
         },
         "marker": {
          "symbol": "circle"
         },
         "mode": "lines",
         "name": "I:308 P:1",
         "orientation": "v",
         "showlegend": true,
         "type": "scatter",
         "x": [
          "2023-09-13",
          "2023-10-04",
          "2023-10-11",
          "2023-10-18",
          "2023-10-25",
          "2023-11-08",
          "2023-11-15",
          "2023-12-06",
          "2023-12-13",
          "2024-01-03",
          "2024-02-07",
          "2024-02-14",
          "2024-02-28",
          "2024-04-24",
          "2024-05-15"
         ],
         "xaxis": "x",
         "y": {
          "bdata": "/gfxB/EH8QfxB/EH/gf+B+0H7QftB+0H/wf4B+4H",
          "dtype": "i2"
         },
         "yaxis": "y"
        },
        {
         "hovertemplate": "Part&item=I:310 P:1<br>date=%{x}<br>value=%{y}<extra></extra>",
         "legendgroup": "I:310 P:1",
         "line": {
          "color": "#EF553B",
          "dash": "solid"
         },
         "marker": {
          "symbol": "circle"
         },
         "mode": "lines",
         "name": "I:310 P:1",
         "orientation": "v",
         "showlegend": true,
         "type": "scatter",
         "x": [
          "2023-09-13",
          "2023-10-04",
          "2023-10-11",
          "2023-10-18",
          "2023-10-25",
          "2023-11-08",
          "2023-11-15",
          "2023-12-06",
          "2023-12-13",
          "2024-01-03",
          "2024-02-07",
          "2024-02-14",
          "2024-02-28",
          "2024-04-24",
          "2024-05-15"
         ],
         "xaxis": "x",
         "y": {
          "bdata": "AggMCAwIDAgMCAwIEQgRCAsICwgLCAsIDwgPCAoI",
          "dtype": "i2"
         },
         "yaxis": "y"
        },
        {
         "hovertemplate": "Part&item=I:314 P:1<br>date=%{x}<br>value=%{y}<extra></extra>",
         "legendgroup": "I:314 P:1",
         "line": {
          "color": "#00cc96",
          "dash": "solid"
         },
         "marker": {
          "symbol": "circle"
         },
         "mode": "lines",
         "name": "I:314 P:1",
         "orientation": "v",
         "showlegend": true,
         "type": "scatter",
         "x": [
          "2023-09-13",
          "2023-10-04",
          "2023-10-11",
          "2023-10-18",
          "2023-10-25",
          "2023-11-08",
          "2023-11-15",
          "2023-12-06",
          "2023-12-13",
          "2024-01-03",
          "2024-02-07",
          "2024-02-14",
          "2024-02-28",
          "2024-04-24",
          "2024-05-15"
         ],
         "xaxis": "x",
         "y": {
          "bdata": "hwffB98H3wffB98H3wffB98H3wffB94H3gfeB94H",
          "dtype": "i2"
         },
         "yaxis": "y"
        },
        {
         "hovertemplate": "Part&item=I:314 P:45<br>date=%{x}<br>value=%{y}<extra></extra>",
         "legendgroup": "I:314 P:45",
         "line": {
          "color": "#ab63fa",
          "dash": "solid"
         },
         "marker": {
          "symbol": "circle"
         },
         "mode": "lines",
         "name": "I:314 P:45",
         "orientation": "v",
         "showlegend": true,
         "type": "scatter",
         "x": [
          "2023-09-13",
          "2023-10-04",
          "2023-10-11",
          "2023-10-18",
          "2023-10-25",
          "2023-11-08",
          "2023-11-15",
          "2023-12-06",
          "2023-12-13",
          "2024-01-03",
          "2024-02-07",
          "2024-02-14",
          "2024-02-28",
          "2024-04-24",
          "2024-05-15"
         ],
         "xaxis": "x",
         "y": {
          "bdata": "swfhB+sH3wf+B+4HFwgKCBcIJQjZB/AH6gfgB/AH",
          "dtype": "i2"
         },
         "yaxis": "y"
        },
        {
         "hovertemplate": "Part&item=I:315 P:1<br>date=%{x}<br>value=%{y}<extra></extra>",
         "legendgroup": "I:315 P:1",
         "line": {
          "color": "#FFA15A",
          "dash": "solid"
         },
         "marker": {
          "symbol": "circle"
         },
         "mode": "lines",
         "name": "I:315 P:1",
         "orientation": "v",
         "showlegend": true,
         "type": "scatter",
         "x": [
          "2023-09-13",
          "2023-10-04",
          "2023-10-11",
          "2023-10-18",
          "2023-10-25",
          "2023-11-08",
          "2023-11-15",
          "2023-12-06",
          "2023-12-13",
          "2024-01-03",
          "2024-02-07",
          "2024-02-14",
          "2024-02-28",
          "2024-04-24",
          "2024-05-15"
         ],
         "xaxis": "x",
         "y": {
          "bdata": "Ogf1BvUG9Qb1BvUG9Qb1BvUG9Qb1BvQG9Ab0BvQG",
          "dtype": "i2"
         },
         "yaxis": "y"
        },
        {
         "hovertemplate": "Part&item=I:315 P:45<br>date=%{x}<br>value=%{y}<extra></extra>",
         "legendgroup": "I:315 P:45",
         "line": {
          "color": "#19d3f3",
          "dash": "solid"
         },
         "marker": {
          "symbol": "circle"
         },
         "mode": "lines",
         "name": "I:315 P:45",
         "orientation": "v",
         "showlegend": true,
         "type": "scatter",
         "x": [
          "2023-09-13",
          "2023-10-04",
          "2023-10-11",
          "2023-10-18",
          "2023-10-25",
          "2023-11-08",
          "2023-11-15",
          "2023-12-06",
          "2023-12-13",
          "2024-01-03",
          "2024-02-07",
          "2024-02-14",
          "2024-02-28",
          "2024-04-24",
          "2024-05-15"
         ],
         "xaxis": "x",
         "y": {
          "bdata": "aAf3BgMH9QYYBwYHMwckBzMHQwfuBggHAgf2BggH",
          "dtype": "i2"
         },
         "yaxis": "y"
        },
        {
         "hovertemplate": "Part&item=I:327 P:1<br>date=%{x}<br>value=%{y}<extra></extra>",
         "legendgroup": "I:327 P:1",
         "line": {
          "color": "#FF6692",
          "dash": "solid"
         },
         "marker": {
          "symbol": "circle"
         },
         "mode": "lines",
         "name": "I:327 P:1",
         "orientation": "v",
         "showlegend": true,
         "type": "scatter",
         "x": [
          "2023-09-13",
          "2023-10-04",
          "2023-10-11",
          "2023-10-18",
          "2023-10-25",
          "2023-11-08",
          "2023-11-15",
          "2023-12-06",
          "2023-12-13",
          "2024-01-03",
          "2024-02-07",
          "2024-02-14",
          "2024-02-28",
          "2024-04-24",
          "2024-05-15"
         ],
         "xaxis": "x",
         "y": {
          "bdata": "GgMWAxgDFgMVAxMDEgMJAwkDCQMFAwUDAQMBAwAD",
          "dtype": "i2"
         },
         "yaxis": "y"
        },
        {
         "hovertemplate": "Part&item=I:327 P:45<br>date=%{x}<br>value=%{y}<extra></extra>",
         "legendgroup": "I:327 P:45",
         "line": {
          "color": "#B6E880",
          "dash": "solid"
         },
         "marker": {
          "symbol": "circle"
         },
         "mode": "lines",
         "name": "I:327 P:45",
         "orientation": "v",
         "showlegend": true,
         "type": "scatter",
         "x": [
          "2023-09-13",
          "2023-10-04",
          "2023-10-11",
          "2023-10-18",
          "2023-10-25",
          "2023-11-08",
          "2023-11-15",
          "2023-12-06",
          "2023-12-13",
          "2024-01-03",
          "2024-02-07",
          "2024-02-14",
          "2024-02-28",
          "2024-04-24",
          "2024-05-15"
         ],
         "xaxis": "x",
         "y": {
          "bdata": "FQMOAhgDDgITAw4CEAMIAwgDEwMOAg0CAAMAA/4C",
          "dtype": "i2"
         },
         "yaxis": "y"
        },
        {
         "hovertemplate": "Part&item=I:331 P:1<br>date=%{x}<br>value=%{y}<extra></extra>",
         "legendgroup": "I:331 P:1",
         "line": {
          "color": "#FF97FF",
          "dash": "solid"
         },
         "marker": {
          "symbol": "circle"
         },
         "mode": "lines",
         "name": "I:331 P:1",
         "orientation": "v",
         "showlegend": true,
         "type": "scatter",
         "x": [
          "2023-09-13",
          "2023-10-04",
          "2023-10-11",
          "2023-10-18",
          "2023-10-25",
          "2023-11-08",
          "2023-11-15",
          "2023-12-06",
          "2023-12-13",
          "2024-01-03",
          "2024-02-07",
          "2024-02-14",
          "2024-02-28",
          "2024-04-24",
          "2024-05-15"
         ],
         "xaxis": "x",
         "y": {
          "bdata": "pP8AAKT/AACk/wAApP8AAKT/AACk/wAApP8AAKT/AACk/wAApP8AAKT/AACk/wAApP8AAKT/AAC6/wAA",
          "dtype": "i4"
         },
         "yaxis": "y"
        },
        {
         "hovertemplate": "Part&item=I:332 P:1<br>date=%{x}<br>value=%{y}<extra></extra>",
         "legendgroup": "I:332 P:1",
         "line": {
          "color": "#FECB52",
          "dash": "solid"
         },
         "marker": {
          "symbol": "circle"
         },
         "mode": "lines",
         "name": "I:332 P:1",
         "orientation": "v",
         "showlegend": true,
         "type": "scatter",
         "x": [
          "2023-09-13",
          "2023-10-04",
          "2023-10-11",
          "2023-10-18",
          "2023-10-25",
          "2023-11-08",
          "2023-11-15",
          "2023-12-06",
          "2023-12-13",
          "2024-01-03",
          "2024-02-07",
          "2024-02-14",
          "2024-02-28",
          "2024-04-24",
          "2024-05-15"
         ],
         "xaxis": "x",
         "y": {
          "bdata": "ISEhISEhIUlJSUlJSUky",
          "dtype": "i1"
         },
         "yaxis": "y"
        },
        {
         "hovertemplate": "Part&item=I:381 P:1<br>date=%{x}<br>value=%{y}<extra></extra>",
         "legendgroup": "I:381 P:1",
         "line": {
          "color": "#636efa",
          "dash": "solid"
         },
         "marker": {
          "symbol": "circle"
         },
         "mode": "lines",
         "name": "I:381 P:1",
         "orientation": "v",
         "showlegend": true,
         "type": "scatter",
         "x": [
          "2023-09-13",
          "2023-10-04",
          "2023-10-11",
          "2023-10-18",
          "2023-10-25",
          "2023-11-08",
          "2023-11-15",
          "2023-12-06",
          "2023-12-13",
          "2024-01-03",
          "2024-02-07",
          "2024-02-14",
          "2024-02-28",
          "2024-04-24",
          "2024-05-15"
         ],
         "xaxis": "x",
         "y": {
          "bdata": "HwMYAx0DGwMaAxgDHAMPAw8DDwMKAwoDBgMGAwUD",
          "dtype": "i2"
         },
         "yaxis": "y"
        },
        {
         "hovertemplate": "Part&item=I:484 P:45<br>date=%{x}<br>value=%{y}<extra></extra>",
         "legendgroup": "I:484 P:45",
         "line": {
          "color": "#EF553B",
          "dash": "solid"
         },
         "marker": {
          "symbol": "circle"
         },
         "mode": "lines",
         "name": "I:484 P:45",
         "orientation": "v",
         "showlegend": true,
         "type": "scatter",
         "x": [
          "2023-09-13",
          "2023-10-04",
          "2023-10-11",
          "2023-10-18",
          "2023-10-25",
          "2023-11-08",
          "2023-11-15",
          "2023-12-06",
          "2023-12-13",
          "2024-01-03",
          "2024-02-07",
          "2024-02-14",
          "2024-02-28",
          "2024-04-24",
          "2024-05-15"
         ],
         "xaxis": "x",
         "y": {
          "bdata": "CBYAAAMVAAAuFAAA5BOeFfcVthIAAAAAMBZBFmUV",
          "dtype": "i2"
         },
         "yaxis": "y"
        },
        {
         "hovertemplate": "Part&item=I:558 P:45<br>date=%{x}<br>value=%{y}<extra></extra>",
         "legendgroup": "I:558 P:45",
         "line": {
          "color": "#00cc96",
          "dash": "solid"
         },
         "marker": {
          "symbol": "circle"
         },
         "mode": "lines",
         "name": "I:558 P:45",
         "orientation": "v",
         "showlegend": true,
         "type": "scatter",
         "x": [
          "2023-09-13",
          "2023-10-04",
          "2023-10-11",
          "2023-10-18",
          "2023-10-25",
          "2023-11-08",
          "2023-11-15",
          "2023-12-06",
          "2023-12-13",
          "2024-01-03",
          "2024-02-07",
          "2024-02-14",
          "2024-02-28",
          "2024-04-24",
          "2024-05-15"
         ],
         "xaxis": "x",
         "y": {
          "bdata": "7AP5A/oD/wP1A/ED6wPsA+kD3wMDBPgD/gP+A/ED",
          "dtype": "i2"
         },
         "yaxis": "y"
        },
        {
         "hovertemplate": "Part&item=I:559 P:45<br>date=%{x}<br>value=%{y}<extra></extra>",
         "legendgroup": "I:559 P:45",
         "line": {
          "color": "#ab63fa",
          "dash": "solid"
         },
         "marker": {
          "symbol": "circle"
         },
         "mode": "lines",
         "name": "I:559 P:45",
         "orientation": "v",
         "showlegend": true,
         "type": "scatter",
         "x": [
          "2023-09-13",
          "2023-10-04",
          "2023-10-11",
          "2023-10-18",
          "2023-10-25",
          "2023-11-08",
          "2023-11-15",
          "2023-12-06",
          "2023-12-13",
          "2024-01-03",
          "2024-02-07",
          "2024-02-14",
          "2024-02-28",
          "2024-04-24",
          "2024-05-15"
         ],
         "xaxis": "x",
         "y": {
          "bdata": "7gP8A/sDAAT2A/ED6wPtA+kD3wMEBPkD/wP+A/ID",
          "dtype": "i2"
         },
         "yaxis": "y"
        }
       ],
       "layout": {
        "legend": {
         "title": {
          "text": "Part&item"
         },
         "tracegroupgap": 0
        },
        "template": {
         "data": {
          "bar": [
           {
            "error_x": {
             "color": "#2a3f5f"
            },
            "error_y": {
             "color": "#2a3f5f"
            },
            "marker": {
             "line": {
              "color": "#E5ECF6",
              "width": 0.5
             },
             "pattern": {
              "fillmode": "overlay",
              "size": 10,
              "solidity": 0.2
             }
            },
            "type": "bar"
           }
          ],
          "barpolar": [
           {
            "marker": {
             "line": {
              "color": "#E5ECF6",
              "width": 0.5
             },
             "pattern": {
              "fillmode": "overlay",
              "size": 10,
              "solidity": 0.2
             }
            },
            "type": "barpolar"
           }
          ],
          "carpet": [
           {
            "aaxis": {
             "endlinecolor": "#2a3f5f",
             "gridcolor": "white",
             "linecolor": "white",
             "minorgridcolor": "white",
             "startlinecolor": "#2a3f5f"
            },
            "baxis": {
             "endlinecolor": "#2a3f5f",
             "gridcolor": "white",
             "linecolor": "white",
             "minorgridcolor": "white",
             "startlinecolor": "#2a3f5f"
            },
            "type": "carpet"
           }
          ],
          "choropleth": [
           {
            "colorbar": {
             "outlinewidth": 0,
             "ticks": ""
            },
            "type": "choropleth"
           }
          ],
          "contour": [
           {
            "colorbar": {
             "outlinewidth": 0,
             "ticks": ""
            },
            "colorscale": [
             [
              0,
              "#0d0887"
             ],
             [
              0.1111111111111111,
              "#46039f"
             ],
             [
              0.2222222222222222,
              "#7201a8"
             ],
             [
              0.3333333333333333,
              "#9c179e"
             ],
             [
              0.4444444444444444,
              "#bd3786"
             ],
             [
              0.5555555555555556,
              "#d8576b"
             ],
             [
              0.6666666666666666,
              "#ed7953"
             ],
             [
              0.7777777777777778,
              "#fb9f3a"
             ],
             [
              0.8888888888888888,
              "#fdca26"
             ],
             [
              1,
              "#f0f921"
             ]
            ],
            "type": "contour"
           }
          ],
          "contourcarpet": [
           {
            "colorbar": {
             "outlinewidth": 0,
             "ticks": ""
            },
            "type": "contourcarpet"
           }
          ],
          "heatmap": [
           {
            "colorbar": {
             "outlinewidth": 0,
             "ticks": ""
            },
            "colorscale": [
             [
              0,
              "#0d0887"
             ],
             [
              0.1111111111111111,
              "#46039f"
             ],
             [
              0.2222222222222222,
              "#7201a8"
             ],
             [
              0.3333333333333333,
              "#9c179e"
             ],
             [
              0.4444444444444444,
              "#bd3786"
             ],
             [
              0.5555555555555556,
              "#d8576b"
             ],
             [
              0.6666666666666666,
              "#ed7953"
             ],
             [
              0.7777777777777778,
              "#fb9f3a"
             ],
             [
              0.8888888888888888,
              "#fdca26"
             ],
             [
              1,
              "#f0f921"
             ]
            ],
            "type": "heatmap"
           }
          ],
          "histogram": [
           {
            "marker": {
             "pattern": {
              "fillmode": "overlay",
              "size": 10,
              "solidity": 0.2
             }
            },
            "type": "histogram"
           }
          ],
          "histogram2d": [
           {
            "colorbar": {
             "outlinewidth": 0,
             "ticks": ""
            },
            "colorscale": [
             [
              0,
              "#0d0887"
             ],
             [
              0.1111111111111111,
              "#46039f"
             ],
             [
              0.2222222222222222,
              "#7201a8"
             ],
             [
              0.3333333333333333,
              "#9c179e"
             ],
             [
              0.4444444444444444,
              "#bd3786"
             ],
             [
              0.5555555555555556,
              "#d8576b"
             ],
             [
              0.6666666666666666,
              "#ed7953"
             ],
             [
              0.7777777777777778,
              "#fb9f3a"
             ],
             [
              0.8888888888888888,
              "#fdca26"
             ],
             [
              1,
              "#f0f921"
             ]
            ],
            "type": "histogram2d"
           }
          ],
          "histogram2dcontour": [
           {
            "colorbar": {
             "outlinewidth": 0,
             "ticks": ""
            },
            "colorscale": [
             [
              0,
              "#0d0887"
             ],
             [
              0.1111111111111111,
              "#46039f"
             ],
             [
              0.2222222222222222,
              "#7201a8"
             ],
             [
              0.3333333333333333,
              "#9c179e"
             ],
             [
              0.4444444444444444,
              "#bd3786"
             ],
             [
              0.5555555555555556,
              "#d8576b"
             ],
             [
              0.6666666666666666,
              "#ed7953"
             ],
             [
              0.7777777777777778,
              "#fb9f3a"
             ],
             [
              0.8888888888888888,
              "#fdca26"
             ],
             [
              1,
              "#f0f921"
             ]
            ],
            "type": "histogram2dcontour"
           }
          ],
          "mesh3d": [
           {
            "colorbar": {
             "outlinewidth": 0,
             "ticks": ""
            },
            "type": "mesh3d"
           }
          ],
          "parcoords": [
           {
            "line": {
             "colorbar": {
              "outlinewidth": 0,
              "ticks": ""
             }
            },
            "type": "parcoords"
           }
          ],
          "pie": [
           {
            "automargin": true,
            "type": "pie"
           }
          ],
          "scatter": [
           {
            "fillpattern": {
             "fillmode": "overlay",
             "size": 10,
             "solidity": 0.2
            },
            "type": "scatter"
           }
          ],
          "scatter3d": [
           {
            "line": {
             "colorbar": {
              "outlinewidth": 0,
              "ticks": ""
             }
            },
            "marker": {
             "colorbar": {
              "outlinewidth": 0,
              "ticks": ""
             }
            },
            "type": "scatter3d"
           }
          ],
          "scattercarpet": [
           {
            "marker": {
             "colorbar": {
              "outlinewidth": 0,
              "ticks": ""
             }
            },
            "type": "scattercarpet"
           }
          ],
          "scattergeo": [
           {
            "marker": {
             "colorbar": {
              "outlinewidth": 0,
              "ticks": ""
             }
            },
            "type": "scattergeo"
           }
          ],
          "scattergl": [
           {
            "marker": {
             "colorbar": {
              "outlinewidth": 0,
              "ticks": ""
             }
            },
            "type": "scattergl"
           }
          ],
          "scattermap": [
           {
            "marker": {
             "colorbar": {
              "outlinewidth": 0,
              "ticks": ""
             }
            },
            "type": "scattermap"
           }
          ],
          "scattermapbox": [
           {
            "marker": {
             "colorbar": {
              "outlinewidth": 0,
              "ticks": ""
             }
            },
            "type": "scattermapbox"
           }
          ],
          "scatterpolar": [
           {
            "marker": {
             "colorbar": {
              "outlinewidth": 0,
              "ticks": ""
             }
            },
            "type": "scatterpolar"
           }
          ],
          "scatterpolargl": [
           {
            "marker": {
             "colorbar": {
              "outlinewidth": 0,
              "ticks": ""
             }
            },
            "type": "scatterpolargl"
           }
          ],
          "scatterternary": [
           {
            "marker": {
             "colorbar": {
              "outlinewidth": 0,
              "ticks": ""
             }
            },
            "type": "scatterternary"
           }
          ],
          "surface": [
           {
            "colorbar": {
             "outlinewidth": 0,
             "ticks": ""
            },
            "colorscale": [
             [
              0,
              "#0d0887"
             ],
             [
              0.1111111111111111,
              "#46039f"
             ],
             [
              0.2222222222222222,
              "#7201a8"
             ],
             [
              0.3333333333333333,
              "#9c179e"
             ],
             [
              0.4444444444444444,
              "#bd3786"
             ],
             [
              0.5555555555555556,
              "#d8576b"
             ],
             [
              0.6666666666666666,
              "#ed7953"
             ],
             [
              0.7777777777777778,
              "#fb9f3a"
             ],
             [
              0.8888888888888888,
              "#fdca26"
             ],
             [
              1,
              "#f0f921"
             ]
            ],
            "type": "surface"
           }
          ],
          "table": [
           {
            "cells": {
             "fill": {
              "color": "#EBF0F8"
             },
             "line": {
              "color": "white"
             }
            },
            "header": {
             "fill": {
              "color": "#C8D4E3"
             },
             "line": {
              "color": "white"
             }
            },
            "type": "table"
           }
          ]
         },
         "layout": {
          "annotationdefaults": {
           "arrowcolor": "#2a3f5f",
           "arrowhead": 0,
           "arrowwidth": 1
          },
          "autotypenumbers": "strict",
          "coloraxis": {
           "colorbar": {
            "outlinewidth": 0,
            "ticks": ""
           }
          },
          "colorscale": {
           "diverging": [
            [
             0,
             "#8e0152"
            ],
            [
             0.1,
             "#c51b7d"
            ],
            [
             0.2,
             "#de77ae"
            ],
            [
             0.3,
             "#f1b6da"
            ],
            [
             0.4,
             "#fde0ef"
            ],
            [
             0.5,
             "#f7f7f7"
            ],
            [
             0.6,
             "#e6f5d0"
            ],
            [
             0.7,
             "#b8e186"
            ],
            [
             0.8,
             "#7fbc41"
            ],
            [
             0.9,
             "#4d9221"
            ],
            [
             1,
             "#276419"
            ]
           ],
           "sequential": [
            [
             0,
             "#0d0887"
            ],
            [
             0.1111111111111111,
             "#46039f"
            ],
            [
             0.2222222222222222,
             "#7201a8"
            ],
            [
             0.3333333333333333,
             "#9c179e"
            ],
            [
             0.4444444444444444,
             "#bd3786"
            ],
            [
             0.5555555555555556,
             "#d8576b"
            ],
            [
             0.6666666666666666,
             "#ed7953"
            ],
            [
             0.7777777777777778,
             "#fb9f3a"
            ],
            [
             0.8888888888888888,
             "#fdca26"
            ],
            [
             1,
             "#f0f921"
            ]
           ],
           "sequentialminus": [
            [
             0,
             "#0d0887"
            ],
            [
             0.1111111111111111,
             "#46039f"
            ],
            [
             0.2222222222222222,
             "#7201a8"
            ],
            [
             0.3333333333333333,
             "#9c179e"
            ],
            [
             0.4444444444444444,
             "#bd3786"
            ],
            [
             0.5555555555555556,
             "#d8576b"
            ],
            [
             0.6666666666666666,
             "#ed7953"
            ],
            [
             0.7777777777777778,
             "#fb9f3a"
            ],
            [
             0.8888888888888888,
             "#fdca26"
            ],
            [
             1,
             "#f0f921"
            ]
           ]
          },
          "colorway": [
           "#636efa",
           "#EF553B",
           "#00cc96",
           "#ab63fa",
           "#FFA15A",
           "#19d3f3",
           "#FF6692",
           "#B6E880",
           "#FF97FF",
           "#FECB52"
          ],
          "font": {
           "color": "#2a3f5f"
          },
          "geo": {
           "bgcolor": "white",
           "lakecolor": "white",
           "landcolor": "#E5ECF6",
           "showlakes": true,
           "showland": true,
           "subunitcolor": "white"
          },
          "hoverlabel": {
           "align": "left"
          },
          "hovermode": "closest",
          "mapbox": {
           "style": "light"
          },
          "paper_bgcolor": "white",
          "plot_bgcolor": "#E5ECF6",
          "polar": {
           "angularaxis": {
            "gridcolor": "white",
            "linecolor": "white",
            "ticks": ""
           },
           "bgcolor": "#E5ECF6",
           "radialaxis": {
            "gridcolor": "white",
            "linecolor": "white",
            "ticks": ""
           }
          },
          "scene": {
           "xaxis": {
            "backgroundcolor": "#E5ECF6",
            "gridcolor": "white",
            "gridwidth": 2,
            "linecolor": "white",
            "showbackground": true,
            "ticks": "",
            "zerolinecolor": "white"
           },
           "yaxis": {
            "backgroundcolor": "#E5ECF6",
            "gridcolor": "white",
            "gridwidth": 2,
            "linecolor": "white",
            "showbackground": true,
            "ticks": "",
            "zerolinecolor": "white"
           },
           "zaxis": {
            "backgroundcolor": "#E5ECF6",
            "gridcolor": "white",
            "gridwidth": 2,
            "linecolor": "white",
            "showbackground": true,
            "ticks": "",
            "zerolinecolor": "white"
           }
          },
          "shapedefaults": {
           "line": {
            "color": "#2a3f5f"
           }
          },
          "ternary": {
           "aaxis": {
            "gridcolor": "white",
            "linecolor": "white",
            "ticks": ""
           },
           "baxis": {
            "gridcolor": "white",
            "linecolor": "white",
            "ticks": ""
           },
           "bgcolor": "#E5ECF6",
           "caxis": {
            "gridcolor": "white",
            "linecolor": "white",
            "ticks": ""
           }
          },
          "title": {
           "x": 0.05
          },
          "xaxis": {
           "automargin": true,
           "gridcolor": "white",
           "linecolor": "white",
           "ticks": "",
           "title": {
            "standoff": 15
           },
           "zerolinecolor": "white",
           "zerolinewidth": 2
          },
          "yaxis": {
           "automargin": true,
           "gridcolor": "white",
           "linecolor": "white",
           "ticks": "",
           "title": {
            "standoff": 15
           },
           "zerolinecolor": "white",
           "zerolinewidth": 2
          }
         }
        },
        "title": {
         "text": "Alle aangepaste items in 1 plot met de waarde van aanpassing"
        },
        "xaxis": {
         "anchor": "y",
         "domain": [
          0,
          1
         ],
         "title": {
          "text": "date"
         }
        },
        "yaxis": {
         "anchor": "x",
         "domain": [
          0,
          1
         ],
         "title": {
          "text": "value"
         }
        }
       }
      }
     },
     "metadata": {},
     "output_type": "display_data"
    }
   ],
   "source": [
    "plotting = be5201[be5201[\"Part&item\"].isin(pI)]\n",
    "\n",
    "fig = px.line(plotting, x=\"date\", y =\"value\" ,color=\"Part&item\", title = f\"Alle aangepaste items in 1 plot met de waarde van aanpassing\")\n",
    "fig.show()\n"
   ]
  },
  {
   "cell_type": "markdown",
   "metadata": {},
   "source": [
    "Een mogelijke verdeling van deze part en itmes is te doen op basis van de onderdelen in de tekeningen van de machine vanuit elekta."
   ]
  },
  {
   "cell_type": "code",
   "execution_count": 27,
   "metadata": {},
   "outputs": [
    {
     "data": {
      "application/vnd.plotly.v1+json": {
       "config": {
        "plotlyServerURL": "https://plot.ly"
       },
       "data": [
        {
         "customdata": [
          [
           "I:559 P:45"
          ],
          [
           "I:559 P:45"
          ],
          [
           "I:559 P:45"
          ],
          [
           "I:559 P:45"
          ],
          [
           "I:559 P:45"
          ],
          [
           "I:559 P:45"
          ],
          [
           "I:559 P:45"
          ],
          [
           "I:559 P:45"
          ],
          [
           "I:559 P:45"
          ],
          [
           "I:559 P:45"
          ],
          [
           "I:559 P:45"
          ],
          [
           "I:559 P:45"
          ],
          [
           "I:559 P:45"
          ],
          [
           "I:559 P:45"
          ],
          [
           "I:559 P:45"
          ]
         ],
         "hovertemplate": "groep=dosismetry system pressure/temp<br>Part&item=%{customdata[0]}<br>date=%{x}<br>value=%{y}<extra></extra>",
         "legendgroup": "dosismetry system pressure/temp",
         "line": {
          "color": "#636efa",
          "dash": "solid"
         },
         "marker": {
          "symbol": "circle"
         },
         "mode": "lines+markers",
         "name": "dosismetry system pressure/temp",
         "orientation": "v",
         "showlegend": true,
         "type": "scatter",
         "x": [
          "2023-09-13",
          "2023-10-04",
          "2023-10-11",
          "2023-10-18",
          "2023-10-25",
          "2023-11-08",
          "2023-11-15",
          "2023-12-06",
          "2023-12-13",
          "2024-01-03",
          "2024-02-07",
          "2024-02-14",
          "2024-02-28",
          "2024-04-24",
          "2024-05-15"
         ],
         "xaxis": "x",
         "y": {
          "bdata": "7gP8A/sDAAT2A/ED6wPtA+kD3wMEBPkD/wP+A/ID",
          "dtype": "i2"
         },
         "yaxis": "y"
        },
        {
         "customdata": [
          [
           "I:558 P:45"
          ],
          [
           "I:558 P:45"
          ],
          [
           "I:558 P:45"
          ],
          [
           "I:558 P:45"
          ],
          [
           "I:558 P:45"
          ],
          [
           "I:558 P:45"
          ],
          [
           "I:558 P:45"
          ],
          [
           "I:558 P:45"
          ],
          [
           "I:558 P:45"
          ],
          [
           "I:558 P:45"
          ],
          [
           "I:558 P:45"
          ],
          [
           "I:558 P:45"
          ],
          [
           "I:558 P:45"
          ],
          [
           "I:558 P:45"
          ],
          [
           "I:558 P:45"
          ]
         ],
         "hovertemplate": "groep=dosismetry system pressure/temp<br>Part&item=%{customdata[0]}<br>date=%{x}<br>value=%{y}<extra></extra>",
         "legendgroup": "dosismetry system pressure/temp",
         "line": {
          "color": "#636efa",
          "dash": "solid"
         },
         "marker": {
          "symbol": "circle"
         },
         "mode": "lines+markers",
         "name": "dosismetry system pressure/temp",
         "orientation": "v",
         "showlegend": false,
         "type": "scatter",
         "x": [
          "2023-09-13",
          "2023-10-04",
          "2023-10-11",
          "2023-10-18",
          "2023-10-25",
          "2023-11-08",
          "2023-11-15",
          "2023-12-06",
          "2023-12-13",
          "2024-01-03",
          "2024-02-07",
          "2024-02-14",
          "2024-02-28",
          "2024-04-24",
          "2024-05-15"
         ],
         "xaxis": "x",
         "y": {
          "bdata": "7AP5A/oD/wP1A/ED6wPsA+kD3wMDBPgD/gP+A/ED",
          "dtype": "i2"
         },
         "yaxis": "y"
        },
        {
         "customdata": [
          [
           "I:484 P:45"
          ],
          [
           "I:484 P:45"
          ],
          [
           "I:484 P:45"
          ],
          [
           "I:484 P:45"
          ],
          [
           "I:484 P:45"
          ],
          [
           "I:484 P:45"
          ],
          [
           "I:484 P:45"
          ],
          [
           "I:484 P:45"
          ],
          [
           "I:484 P:45"
          ],
          [
           "I:484 P:45"
          ],
          [
           "I:484 P:45"
          ],
          [
           "I:484 P:45"
          ],
          [
           "I:484 P:45"
          ],
          [
           "I:484 P:45"
          ],
          [
           "I:484 P:45"
          ]
         ],
         "hovertemplate": "groep=dosismetry channel1<br>Part&item=%{customdata[0]}<br>date=%{x}<br>value=%{y}<extra></extra>",
         "legendgroup": "dosismetry channel1",
         "line": {
          "color": "#EF553B",
          "dash": "solid"
         },
         "marker": {
          "symbol": "circle"
         },
         "mode": "lines+markers",
         "name": "dosismetry channel1",
         "orientation": "v",
         "showlegend": true,
         "type": "scatter",
         "x": [
          "2023-09-13",
          "2023-10-04",
          "2023-10-11",
          "2023-10-18",
          "2023-10-25",
          "2023-11-08",
          "2023-11-15",
          "2023-12-06",
          "2023-12-13",
          "2024-01-03",
          "2024-02-07",
          "2024-02-14",
          "2024-02-28",
          "2024-04-24",
          "2024-05-15"
         ],
         "xaxis": "x",
         "y": {
          "bdata": "CBYAAAMVAAAuFAAA5BOeFfcVthIAAAAAMBZBFmUV",
          "dtype": "i2"
         },
         "yaxis": "y"
        },
        {
         "customdata": [
          [
           "I:314 P:45"
          ],
          [
           "I:314 P:45"
          ],
          [
           "I:314 P:45"
          ],
          [
           "I:314 P:45"
          ],
          [
           "I:314 P:45"
          ],
          [
           "I:314 P:45"
          ],
          [
           "I:314 P:45"
          ],
          [
           "I:314 P:45"
          ],
          [
           "I:314 P:45"
          ],
          [
           "I:314 P:45"
          ],
          [
           "I:314 P:45"
          ],
          [
           "I:314 P:45"
          ],
          [
           "I:314 P:45"
          ],
          [
           "I:314 P:45"
          ],
          [
           "I:314 P:45"
          ]
         ],
         "hovertemplate": "groep=dosismetry channel1<br>Part&item=%{customdata[0]}<br>date=%{x}<br>value=%{y}<extra></extra>",
         "legendgroup": "dosismetry channel1",
         "line": {
          "color": "#EF553B",
          "dash": "solid"
         },
         "marker": {
          "symbol": "circle"
         },
         "mode": "lines+markers",
         "name": "dosismetry channel1",
         "orientation": "v",
         "showlegend": false,
         "type": "scatter",
         "x": [
          "2023-09-13",
          "2023-10-04",
          "2023-10-11",
          "2023-10-18",
          "2023-10-25",
          "2023-11-08",
          "2023-11-15",
          "2023-12-06",
          "2023-12-13",
          "2024-01-03",
          "2024-02-07",
          "2024-02-14",
          "2024-02-28",
          "2024-04-24",
          "2024-05-15"
         ],
         "xaxis": "x",
         "y": {
          "bdata": "swfhB+sH3wf+B+4HFwgKCBcIJQjZB/AH6gfgB/AH",
          "dtype": "i2"
         },
         "yaxis": "y"
        },
        {
         "customdata": [
          [
           "I:314 P:1"
          ],
          [
           "I:314 P:1"
          ],
          [
           "I:314 P:1"
          ],
          [
           "I:314 P:1"
          ],
          [
           "I:314 P:1"
          ],
          [
           "I:314 P:1"
          ],
          [
           "I:314 P:1"
          ],
          [
           "I:314 P:1"
          ],
          [
           "I:314 P:1"
          ],
          [
           "I:314 P:1"
          ],
          [
           "I:314 P:1"
          ],
          [
           "I:314 P:1"
          ],
          [
           "I:314 P:1"
          ],
          [
           "I:314 P:1"
          ],
          [
           "I:314 P:1"
          ]
         ],
         "hovertemplate": "groep=dosismetry channel1<br>Part&item=%{customdata[0]}<br>date=%{x}<br>value=%{y}<extra></extra>",
         "legendgroup": "dosismetry channel1",
         "line": {
          "color": "#EF553B",
          "dash": "solid"
         },
         "marker": {
          "symbol": "circle"
         },
         "mode": "lines+markers",
         "name": "dosismetry channel1",
         "orientation": "v",
         "showlegend": false,
         "type": "scatter",
         "x": [
          "2023-09-13",
          "2023-10-04",
          "2023-10-11",
          "2023-10-18",
          "2023-10-25",
          "2023-11-08",
          "2023-11-15",
          "2023-12-06",
          "2023-12-13",
          "2024-01-03",
          "2024-02-07",
          "2024-02-14",
          "2024-02-28",
          "2024-04-24",
          "2024-05-15"
         ],
         "xaxis": "x",
         "y": {
          "bdata": "hwffB98H3wffB98H3wffB98H3wffB94H3gfeB94H",
          "dtype": "i2"
         },
         "yaxis": "y"
        },
        {
         "customdata": [
          [
           "I:44 P:141"
          ],
          [
           "I:44 P:141"
          ],
          [
           "I:44 P:141"
          ],
          [
           "I:44 P:141"
          ],
          [
           "I:44 P:141"
          ],
          [
           "I:44 P:141"
          ],
          [
           "I:44 P:141"
          ],
          [
           "I:44 P:141"
          ],
          [
           "I:44 P:141"
          ],
          [
           "I:44 P:141"
          ],
          [
           "I:44 P:141"
          ],
          [
           "I:44 P:141"
          ],
          [
           "I:44 P:141"
          ],
          [
           "I:44 P:141"
          ],
          [
           "I:44 P:141"
          ]
         ],
         "hovertemplate": "groep=dosismetry channel1<br>Part&item=%{customdata[0]}<br>date=%{x}<br>value=%{y}<extra></extra>",
         "legendgroup": "dosismetry channel1",
         "line": {
          "color": "#EF553B",
          "dash": "solid"
         },
         "marker": {
          "symbol": "circle"
         },
         "mode": "lines+markers",
         "name": "dosismetry channel1",
         "orientation": "v",
         "showlegend": false,
         "type": "scatter",
         "x": [
          "2023-09-13",
          "2023-10-04",
          "2023-10-11",
          "2023-10-18",
          "2023-10-25",
          "2023-11-08",
          "2023-11-15",
          "2023-12-06",
          "2023-12-13",
          "2024-01-03",
          "2024-02-07",
          "2024-02-14",
          "2024-02-28",
          "2024-04-24",
          "2024-05-15"
         ],
         "xaxis": "x",
         "y": {
          "bdata": "YgJiAl0CXQJdAl0CXQJdAl0CXQJdAl0CWwJbAlgC",
          "dtype": "i2"
         },
         "yaxis": "y"
        },
        {
         "customdata": [
          [
           "I:315 P:45"
          ],
          [
           "I:315 P:45"
          ],
          [
           "I:315 P:45"
          ],
          [
           "I:315 P:45"
          ],
          [
           "I:315 P:45"
          ],
          [
           "I:315 P:45"
          ],
          [
           "I:315 P:45"
          ],
          [
           "I:315 P:45"
          ],
          [
           "I:315 P:45"
          ],
          [
           "I:315 P:45"
          ],
          [
           "I:315 P:45"
          ],
          [
           "I:315 P:45"
          ],
          [
           "I:315 P:45"
          ],
          [
           "I:315 P:45"
          ],
          [
           "I:315 P:45"
          ]
         ],
         "hovertemplate": "groep=dossismetry channel2<br>Part&item=%{customdata[0]}<br>date=%{x}<br>value=%{y}<extra></extra>",
         "legendgroup": "dossismetry channel2",
         "line": {
          "color": "#00cc96",
          "dash": "solid"
         },
         "marker": {
          "symbol": "circle"
         },
         "mode": "lines+markers",
         "name": "dossismetry channel2",
         "orientation": "v",
         "showlegend": true,
         "type": "scatter",
         "x": [
          "2023-09-13",
          "2023-10-04",
          "2023-10-11",
          "2023-10-18",
          "2023-10-25",
          "2023-11-08",
          "2023-11-15",
          "2023-12-06",
          "2023-12-13",
          "2024-01-03",
          "2024-02-07",
          "2024-02-14",
          "2024-02-28",
          "2024-04-24",
          "2024-05-15"
         ],
         "xaxis": "x",
         "y": {
          "bdata": "aAf3BgMH9QYYBwYHMwckBzMHQwfuBggHAgf2BggH",
          "dtype": "i2"
         },
         "yaxis": "y"
        },
        {
         "customdata": [
          [
           "I:315 P:1"
          ],
          [
           "I:315 P:1"
          ],
          [
           "I:315 P:1"
          ],
          [
           "I:315 P:1"
          ],
          [
           "I:315 P:1"
          ],
          [
           "I:315 P:1"
          ],
          [
           "I:315 P:1"
          ],
          [
           "I:315 P:1"
          ],
          [
           "I:315 P:1"
          ],
          [
           "I:315 P:1"
          ],
          [
           "I:315 P:1"
          ],
          [
           "I:315 P:1"
          ],
          [
           "I:315 P:1"
          ],
          [
           "I:315 P:1"
          ],
          [
           "I:315 P:1"
          ]
         ],
         "hovertemplate": "groep=dossismetry channel2<br>Part&item=%{customdata[0]}<br>date=%{x}<br>value=%{y}<extra></extra>",
         "legendgroup": "dossismetry channel2",
         "line": {
          "color": "#00cc96",
          "dash": "solid"
         },
         "marker": {
          "symbol": "circle"
         },
         "mode": "lines+markers",
         "name": "dossismetry channel2",
         "orientation": "v",
         "showlegend": false,
         "type": "scatter",
         "x": [
          "2023-09-13",
          "2023-10-04",
          "2023-10-11",
          "2023-10-18",
          "2023-10-25",
          "2023-11-08",
          "2023-11-15",
          "2023-12-06",
          "2023-12-13",
          "2024-01-03",
          "2024-02-07",
          "2024-02-14",
          "2024-02-28",
          "2024-04-24",
          "2024-05-15"
         ],
         "xaxis": "x",
         "y": {
          "bdata": "Ogf1BvUG9Qb1BvUG9Qb1BvUG9Qb1BvQG9Ab0BvQG",
          "dtype": "i2"
         },
         "yaxis": "y"
        },
        {
         "customdata": [
          [
           "I:45 P:45"
          ],
          [
           "I:45 P:45"
          ],
          [
           "I:45 P:45"
          ],
          [
           "I:45 P:45"
          ],
          [
           "I:45 P:45"
          ],
          [
           "I:45 P:45"
          ],
          [
           "I:45 P:45"
          ],
          [
           "I:45 P:45"
          ],
          [
           "I:45 P:45"
          ],
          [
           "I:45 P:45"
          ],
          [
           "I:45 P:45"
          ],
          [
           "I:45 P:45"
          ],
          [
           "I:45 P:45"
          ],
          [
           "I:45 P:45"
          ],
          [
           "I:45 P:45"
          ]
         ],
         "hovertemplate": "groep=dossismetry channel2<br>Part&item=%{customdata[0]}<br>date=%{x}<br>value=%{y}<extra></extra>",
         "legendgroup": "dossismetry channel2",
         "line": {
          "color": "#00cc96",
          "dash": "solid"
         },
         "marker": {
          "symbol": "circle"
         },
         "mode": "lines+markers",
         "name": "dossismetry channel2",
         "orientation": "v",
         "showlegend": false,
         "type": "scatter",
         "x": [
          "2023-09-13",
          "2023-10-04",
          "2023-10-11",
          "2023-10-18",
          "2023-10-25",
          "2023-11-08",
          "2023-11-15",
          "2023-12-06",
          "2023-12-13",
          "2024-01-03",
          "2024-02-07",
          "2024-02-14",
          "2024-02-28",
          "2024-04-24",
          "2024-05-15"
         ],
         "xaxis": "x",
         "y": {
          "bdata": "rgEAAJQBAACHAQAAhAGjAakBCgAAAAAAqwGrAaEB",
          "dtype": "i2"
         },
         "yaxis": "y"
        },
        {
         "customdata": [
          [
           "I:381 P:1"
          ],
          [
           "I:381 P:1"
          ],
          [
           "I:381 P:1"
          ],
          [
           "I:381 P:1"
          ],
          [
           "I:381 P:1"
          ],
          [
           "I:381 P:1"
          ],
          [
           "I:381 P:1"
          ],
          [
           "I:381 P:1"
          ],
          [
           "I:381 P:1"
          ],
          [
           "I:381 P:1"
          ],
          [
           "I:381 P:1"
          ],
          [
           "I:381 P:1"
          ],
          [
           "I:381 P:1"
          ],
          [
           "I:381 P:1"
          ],
          [
           "I:381 P:1"
          ]
         ],
         "hovertemplate": "groep=mag fill psu control system<br>Part&item=%{customdata[0]}<br>date=%{x}<br>value=%{y}<extra></extra>",
         "legendgroup": "mag fill psu control system",
         "line": {
          "color": "#ab63fa",
          "dash": "solid"
         },
         "marker": {
          "symbol": "circle"
         },
         "mode": "lines+markers",
         "name": "mag fill psu control system",
         "orientation": "v",
         "showlegend": true,
         "type": "scatter",
         "x": [
          "2023-09-13",
          "2023-10-04",
          "2023-10-11",
          "2023-10-18",
          "2023-10-25",
          "2023-11-08",
          "2023-11-15",
          "2023-12-06",
          "2023-12-13",
          "2024-01-03",
          "2024-02-07",
          "2024-02-14",
          "2024-02-28",
          "2024-04-24",
          "2024-05-15"
         ],
         "xaxis": "x",
         "y": {
          "bdata": "HwMYAx0DGwMaAxgDHAMPAw8DDwMKAwoDBgMGAwUD",
          "dtype": "i2"
         },
         "yaxis": "y"
        },
        {
         "customdata": [
          [
           "I:327 P:45"
          ],
          [
           "I:327 P:45"
          ],
          [
           "I:327 P:45"
          ],
          [
           "I:327 P:45"
          ],
          [
           "I:327 P:45"
          ],
          [
           "I:327 P:45"
          ],
          [
           "I:327 P:45"
          ],
          [
           "I:327 P:45"
          ],
          [
           "I:327 P:45"
          ],
          [
           "I:327 P:45"
          ],
          [
           "I:327 P:45"
          ],
          [
           "I:327 P:45"
          ],
          [
           "I:327 P:45"
          ],
          [
           "I:327 P:45"
          ],
          [
           "I:327 P:45"
          ]
         ],
         "hovertemplate": "groep=mag fill psu control system<br>Part&item=%{customdata[0]}<br>date=%{x}<br>value=%{y}<extra></extra>",
         "legendgroup": "mag fill psu control system",
         "line": {
          "color": "#ab63fa",
          "dash": "solid"
         },
         "marker": {
          "symbol": "circle"
         },
         "mode": "lines+markers",
         "name": "mag fill psu control system",
         "orientation": "v",
         "showlegend": false,
         "type": "scatter",
         "x": [
          "2023-09-13",
          "2023-10-04",
          "2023-10-11",
          "2023-10-18",
          "2023-10-25",
          "2023-11-08",
          "2023-11-15",
          "2023-12-06",
          "2023-12-13",
          "2024-01-03",
          "2024-02-07",
          "2024-02-14",
          "2024-02-28",
          "2024-04-24",
          "2024-05-15"
         ],
         "xaxis": "x",
         "y": {
          "bdata": "FQMOAhgDDgITAw4CEAMIAwgDEwMOAg0CAAMAA/4C",
          "dtype": "i2"
         },
         "yaxis": "y"
        },
        {
         "customdata": [
          [
           "I:244 P:45"
          ],
          [
           "I:244 P:45"
          ],
          [
           "I:244 P:45"
          ],
          [
           "I:244 P:45"
          ],
          [
           "I:244 P:45"
          ],
          [
           "I:244 P:45"
          ],
          [
           "I:244 P:45"
          ],
          [
           "I:244 P:45"
          ],
          [
           "I:244 P:45"
          ],
          [
           "I:244 P:45"
          ],
          [
           "I:244 P:45"
          ],
          [
           "I:244 P:45"
          ],
          [
           "I:244 P:45"
          ],
          [
           "I:244 P:45"
          ],
          [
           "I:244 P:45"
          ]
         ],
         "hovertemplate": "groep=mag fill psu control system<br>Part&item=%{customdata[0]}<br>date=%{x}<br>value=%{y}<extra></extra>",
         "legendgroup": "mag fill psu control system",
         "line": {
          "color": "#ab63fa",
          "dash": "solid"
         },
         "marker": {
          "symbol": "circle"
         },
         "mode": "lines+markers",
         "name": "mag fill psu control system",
         "orientation": "v",
         "showlegend": false,
         "type": "scatter",
         "x": [
          "2023-09-13",
          "2023-10-04",
          "2023-10-11",
          "2023-10-18",
          "2023-10-25",
          "2023-11-08",
          "2023-11-15",
          "2023-12-06",
          "2023-12-13",
          "2024-01-03",
          "2024-02-07",
          "2024-02-14",
          "2024-02-28",
          "2024-04-24",
          "2024-05-15"
         ],
         "xaxis": "x",
         "y": {
          "bdata": "9gKMAPsCjAD+AowA/gL7AgQDngCMAIwA+wL7AgED",
          "dtype": "i2"
         },
         "yaxis": "y"
        },
        {
         "customdata": [
          [
           "I:216 P:45"
          ],
          [
           "I:216 P:45"
          ],
          [
           "I:216 P:45"
          ],
          [
           "I:216 P:45"
          ],
          [
           "I:216 P:45"
          ],
          [
           "I:216 P:45"
          ],
          [
           "I:216 P:45"
          ],
          [
           "I:216 P:45"
          ],
          [
           "I:216 P:45"
          ],
          [
           "I:216 P:45"
          ],
          [
           "I:216 P:45"
          ],
          [
           "I:216 P:45"
          ],
          [
           "I:216 P:45"
          ],
          [
           "I:216 P:45"
          ],
          [
           "I:216 P:45"
          ]
         ],
         "hovertemplate": "groep=mag fill psu control system<br>Part&item=%{customdata[0]}<br>date=%{x}<br>value=%{y}<extra></extra>",
         "legendgroup": "mag fill psu control system",
         "line": {
          "color": "#ab63fa",
          "dash": "solid"
         },
         "marker": {
          "symbol": "circle"
         },
         "mode": "lines+markers",
         "name": "mag fill psu control system",
         "orientation": "v",
         "showlegend": false,
         "type": "scatter",
         "x": [
          "2023-09-13",
          "2023-10-04",
          "2023-10-11",
          "2023-10-18",
          "2023-10-25",
          "2023-11-08",
          "2023-11-15",
          "2023-12-06",
          "2023-12-13",
          "2024-01-03",
          "2024-02-07",
          "2024-02-14",
          "2024-02-28",
          "2024-04-24",
          "2024-05-15"
         ],
         "xaxis": "x",
         "y": {
          "bdata": "VAfdA2kH1wNaB90DZQdWB1gHOgf1A/IDVQdPB1UH",
          "dtype": "i2"
         },
         "yaxis": "y"
        },
        {
         "customdata": [
          [
           "I:212 P:45"
          ],
          [
           "I:212 P:45"
          ],
          [
           "I:212 P:45"
          ],
          [
           "I:212 P:45"
          ],
          [
           "I:212 P:45"
          ],
          [
           "I:212 P:45"
          ],
          [
           "I:212 P:45"
          ],
          [
           "I:212 P:45"
          ],
          [
           "I:212 P:45"
          ],
          [
           "I:212 P:45"
          ],
          [
           "I:212 P:45"
          ],
          [
           "I:212 P:45"
          ],
          [
           "I:212 P:45"
          ],
          [
           "I:212 P:45"
          ],
          [
           "I:212 P:45"
          ]
         ],
         "hovertemplate": "groep=mag fill psu control system<br>Part&item=%{customdata[0]}<br>date=%{x}<br>value=%{y}<extra></extra>",
         "legendgroup": "mag fill psu control system",
         "line": {
          "color": "#ab63fa",
          "dash": "solid"
         },
         "marker": {
          "symbol": "circle"
         },
         "mode": "lines+markers",
         "name": "mag fill psu control system",
         "orientation": "v",
         "showlegend": false,
         "type": "scatter",
         "x": [
          "2023-09-13",
          "2023-10-04",
          "2023-10-11",
          "2023-10-18",
          "2023-10-25",
          "2023-11-08",
          "2023-11-15",
          "2023-12-06",
          "2023-12-13",
          "2024-01-03",
          "2024-02-07",
          "2024-02-14",
          "2024-02-28",
          "2024-04-24",
          "2024-05-15"
         ],
         "xaxis": "x",
         "y": {
          "bdata": "wgMcBdQDHAXSAxwFygPSA8wDHQUhBSAFvgPOA9YD",
          "dtype": "i2"
         },
         "yaxis": "y"
        },
        {
         "customdata": [
          [
           "I:191 P:45"
          ],
          [
           "I:191 P:45"
          ],
          [
           "I:191 P:45"
          ],
          [
           "I:191 P:45"
          ],
          [
           "I:191 P:45"
          ],
          [
           "I:191 P:45"
          ],
          [
           "I:191 P:45"
          ],
          [
           "I:191 P:45"
          ],
          [
           "I:191 P:45"
          ],
          [
           "I:191 P:45"
          ],
          [
           "I:191 P:45"
          ],
          [
           "I:191 P:45"
          ],
          [
           "I:191 P:45"
          ],
          [
           "I:191 P:45"
          ],
          [
           "I:191 P:45"
          ]
         ],
         "hovertemplate": "groep=mag fill psu control system<br>Part&item=%{customdata[0]}<br>date=%{x}<br>value=%{y}<extra></extra>",
         "legendgroup": "mag fill psu control system",
         "line": {
          "color": "#ab63fa",
          "dash": "solid"
         },
         "marker": {
          "symbol": "circle"
         },
         "mode": "lines+markers",
         "name": "mag fill psu control system",
         "orientation": "v",
         "showlegend": false,
         "type": "scatter",
         "x": [
          "2023-09-13",
          "2023-10-04",
          "2023-10-11",
          "2023-10-18",
          "2023-10-25",
          "2023-11-08",
          "2023-11-15",
          "2023-12-06",
          "2023-12-13",
          "2024-01-03",
          "2024-02-07",
          "2024-02-14",
          "2024-02-28",
          "2024-04-24",
          "2024-05-15"
         ],
         "xaxis": "x",
         "y": {
          "bdata": "gAMAAACAAABYAwAAAIAAADcDAAAAgAAAKgMAAHEDAAB/AwAA8QIAAACAAAAAgAAAhwMAAIsDAABoAwAA",
          "dtype": "i4"
         },
         "yaxis": "y"
        },
        {
         "customdata": [
          [
           "I:190 P:45"
          ],
          [
           "I:190 P:45"
          ],
          [
           "I:190 P:45"
          ],
          [
           "I:190 P:45"
          ],
          [
           "I:190 P:45"
          ],
          [
           "I:190 P:45"
          ],
          [
           "I:190 P:45"
          ],
          [
           "I:190 P:45"
          ],
          [
           "I:190 P:45"
          ],
          [
           "I:190 P:45"
          ],
          [
           "I:190 P:45"
          ],
          [
           "I:190 P:45"
          ],
          [
           "I:190 P:45"
          ],
          [
           "I:190 P:45"
          ],
          [
           "I:190 P:45"
          ]
         ],
         "hovertemplate": "groep=mag fill psu control system<br>Part&item=%{customdata[0]}<br>date=%{x}<br>value=%{y}<extra></extra>",
         "legendgroup": "mag fill psu control system",
         "line": {
          "color": "#ab63fa",
          "dash": "solid"
         },
         "marker": {
          "symbol": "circle"
         },
         "mode": "lines+markers",
         "name": "mag fill psu control system",
         "orientation": "v",
         "showlegend": false,
         "type": "scatter",
         "x": [
          "2023-09-13",
          "2023-10-04",
          "2023-10-11",
          "2023-10-18",
          "2023-10-25",
          "2023-11-08",
          "2023-11-15",
          "2023-12-06",
          "2023-12-13",
          "2024-01-03",
          "2024-02-07",
          "2024-02-14",
          "2024-02-28",
          "2024-04-24",
          "2024-05-15"
         ],
         "xaxis": "x",
         "y": {
          "bdata": "hgMAAACAAABWAwAAAIAAADoDAAAAgAAALwMAAHYDAACGAwAADAMAAACAAAAAgAAAkAMAAJEDAABtAwAA",
          "dtype": "i4"
         },
         "yaxis": "y"
        },
        {
         "customdata": [
          [
           "I:187 P:1"
          ],
          [
           "I:187 P:1"
          ],
          [
           "I:187 P:1"
          ],
          [
           "I:187 P:1"
          ],
          [
           "I:187 P:1"
          ],
          [
           "I:187 P:1"
          ],
          [
           "I:187 P:1"
          ],
          [
           "I:187 P:1"
          ],
          [
           "I:187 P:1"
          ],
          [
           "I:187 P:1"
          ],
          [
           "I:187 P:1"
          ],
          [
           "I:187 P:1"
          ],
          [
           "I:187 P:1"
          ],
          [
           "I:187 P:1"
          ],
          [
           "I:187 P:1"
          ]
         ],
         "hovertemplate": "groep=mag fill psu control system<br>Part&item=%{customdata[0]}<br>date=%{x}<br>value=%{y}<extra></extra>",
         "legendgroup": "mag fill psu control system",
         "line": {
          "color": "#ab63fa",
          "dash": "solid"
         },
         "marker": {
          "symbol": "circle"
         },
         "mode": "lines+markers",
         "name": "mag fill psu control system",
         "orientation": "v",
         "showlegend": false,
         "type": "scatter",
         "x": [
          "2023-09-13",
          "2023-10-04",
          "2023-10-11",
          "2023-10-18",
          "2023-10-25",
          "2023-11-08",
          "2023-11-15",
          "2023-12-06",
          "2023-12-13",
          "2024-01-03",
          "2024-02-07",
          "2024-02-14",
          "2024-02-28",
          "2024-04-24",
          "2024-05-15"
         ],
         "xaxis": "x",
         "y": {
          "bdata": "6wnhCeEJ4QnhCeEJ6QnnCeoJ6gnqCeoJ6gnqCecJ",
          "dtype": "i2"
         },
         "yaxis": "y"
        },
        {
         "customdata": [
          [
           "I:233 P:45"
          ],
          [
           "I:233 P:45"
          ],
          [
           "I:233 P:45"
          ],
          [
           "I:233 P:45"
          ],
          [
           "I:233 P:45"
          ],
          [
           "I:233 P:45"
          ],
          [
           "I:233 P:45"
          ],
          [
           "I:233 P:45"
          ],
          [
           "I:233 P:45"
          ],
          [
           "I:233 P:45"
          ],
          [
           "I:233 P:45"
          ],
          [
           "I:233 P:45"
          ],
          [
           "I:233 P:45"
          ],
          [
           "I:233 P:45"
          ],
          [
           "I:233 P:45"
          ]
         ],
         "hovertemplate": "groep=magnetron tuning system<br>Part&item=%{customdata[0]}<br>date=%{x}<br>value=%{y}<extra></extra>",
         "legendgroup": "magnetron tuning system",
         "line": {
          "color": "#FFA15A",
          "dash": "solid"
         },
         "marker": {
          "symbol": "circle"
         },
         "mode": "lines+markers",
         "name": "magnetron tuning system",
         "orientation": "v",
         "showlegend": true,
         "type": "scatter",
         "x": [
          "2023-09-13",
          "2023-10-04",
          "2023-10-11",
          "2023-10-18",
          "2023-10-25",
          "2023-11-08",
          "2023-11-15",
          "2023-12-06",
          "2023-12-13",
          "2024-01-03",
          "2024-02-07",
          "2024-02-14",
          "2024-02-28",
          "2024-04-24",
          "2024-05-15"
         ],
         "xaxis": "x",
         "y": {
          "bdata": "uAUAAACAAADGBQAAAIAAAMIFAAAAgAAAuwUAAOgFAAD9BQAACgYAAACAAAAAgAAA6wUAAPgFAADbBQAA",
          "dtype": "i4"
         },
         "yaxis": "y"
        },
        {
         "customdata": [
          [
           "I:97 P:1"
          ],
          [
           "I:97 P:1"
          ],
          [
           "I:97 P:1"
          ],
          [
           "I:97 P:1"
          ],
          [
           "I:97 P:1"
          ],
          [
           "I:97 P:1"
          ],
          [
           "I:97 P:1"
          ],
          [
           "I:97 P:1"
          ],
          [
           "I:97 P:1"
          ],
          [
           "I:97 P:1"
          ],
          [
           "I:97 P:1"
          ],
          [
           "I:97 P:1"
          ],
          [
           "I:97 P:1"
          ],
          [
           "I:97 P:1"
          ],
          [
           "I:97 P:1"
          ]
         ],
         "hovertemplate": "groep=magnetron tuning system<br>Part&item=%{customdata[0]}<br>date=%{x}<br>value=%{y}<extra></extra>",
         "legendgroup": "magnetron tuning system",
         "line": {
          "color": "#FFA15A",
          "dash": "solid"
         },
         "marker": {
          "symbol": "circle"
         },
         "mode": "lines+markers",
         "name": "magnetron tuning system",
         "orientation": "v",
         "showlegend": false,
         "type": "scatter",
         "x": [
          "2023-09-13",
          "2023-10-04",
          "2023-10-11",
          "2023-10-18",
          "2023-10-25",
          "2023-11-08",
          "2023-11-15",
          "2023-12-06",
          "2023-12-13",
          "2024-01-03",
          "2024-02-07",
          "2024-02-14",
          "2024-02-28",
          "2024-04-24",
          "2024-05-15"
         ],
         "xaxis": "x",
         "y": {
          "bdata": "0QfRB9EH0QfRB9EH0QfRB9EHFggWCBYIFggWCBYI",
          "dtype": "i2"
         },
         "yaxis": "y"
        },
        {
         "customdata": [
          [
           "I:232 P:45"
          ],
          [
           "I:232 P:45"
          ],
          [
           "I:232 P:45"
          ],
          [
           "I:232 P:45"
          ],
          [
           "I:232 P:45"
          ],
          [
           "I:232 P:45"
          ],
          [
           "I:232 P:45"
          ],
          [
           "I:232 P:45"
          ],
          [
           "I:232 P:45"
          ],
          [
           "I:232 P:45"
          ],
          [
           "I:232 P:45"
          ],
          [
           "I:232 P:45"
          ],
          [
           "I:232 P:45"
          ],
          [
           "I:232 P:45"
          ],
          [
           "I:232 P:45"
          ]
         ],
         "hovertemplate": "groep=magnetron tuning system / phase error detector<br>Part&item=%{customdata[0]}<br>date=%{x}<br>value=%{y}<extra></extra>",
         "legendgroup": "magnetron tuning system / phase error detector",
         "line": {
          "color": "#19d3f3",
          "dash": "solid"
         },
         "marker": {
          "symbol": "circle"
         },
         "mode": "lines+markers",
         "name": "magnetron tuning system / phase error detector",
         "orientation": "v",
         "showlegend": true,
         "type": "scatter",
         "x": [
          "2023-09-13",
          "2023-10-04",
          "2023-10-11",
          "2023-10-18",
          "2023-10-25",
          "2023-11-08",
          "2023-11-15",
          "2023-12-06",
          "2023-12-13",
          "2024-01-03",
          "2024-02-07",
          "2024-02-14",
          "2024-02-28",
          "2024-04-24",
          "2024-05-15"
         ],
         "xaxis": "x",
         "y": {
          "bdata": "HwYAAACAAAAhBgAAAIAAACkGAAAAgAAAJQYAAEgGAAA+BgAAXwYAAACAAAAAgAAAQwYAAFUGAABlBgAA",
          "dtype": "i4"
         },
         "yaxis": "y"
        },
        {
         "customdata": [
          [
           "I:230 P:1"
          ],
          [
           "I:230 P:1"
          ],
          [
           "I:230 P:1"
          ],
          [
           "I:230 P:1"
          ],
          [
           "I:230 P:1"
          ],
          [
           "I:230 P:1"
          ],
          [
           "I:230 P:1"
          ],
          [
           "I:230 P:1"
          ],
          [
           "I:230 P:1"
          ],
          [
           "I:230 P:1"
          ],
          [
           "I:230 P:1"
          ],
          [
           "I:230 P:1"
          ],
          [
           "I:230 P:1"
          ],
          [
           "I:230 P:1"
          ],
          [
           "I:230 P:1"
          ]
         ],
         "hovertemplate": "groep=phase error detector<br>Part&item=%{customdata[0]}<br>date=%{x}<br>value=%{y}<extra></extra>",
         "legendgroup": "phase error detector",
         "line": {
          "color": "#FF6692",
          "dash": "solid"
         },
         "marker": {
          "symbol": "circle"
         },
         "mode": "lines+markers",
         "name": "phase error detector",
         "orientation": "v",
         "showlegend": true,
         "type": "scatter",
         "x": [
          "2023-09-13",
          "2023-10-04",
          "2023-10-11",
          "2023-10-18",
          "2023-10-25",
          "2023-11-08",
          "2023-11-15",
          "2023-12-06",
          "2023-12-13",
          "2024-01-03",
          "2024-02-07",
          "2024-02-14",
          "2024-02-28",
          "2024-04-24",
          "2024-05-15"
         ],
         "xaxis": "x",
         "y": {
          "bdata": "wgZeBl4GXgZeBl4GXgbqBuoG6gbqBuoG6gbqBuoG",
          "dtype": "i2"
         },
         "yaxis": "y"
        },
        {
         "customdata": [
          [
           "I:163 P:1"
          ],
          [
           "I:163 P:1"
          ],
          [
           "I:163 P:1"
          ],
          [
           "I:163 P:1"
          ],
          [
           "I:163 P:1"
          ],
          [
           "I:163 P:1"
          ],
          [
           "I:163 P:1"
          ],
          [
           "I:163 P:1"
          ],
          [
           "I:163 P:1"
          ],
          [
           "I:163 P:1"
          ],
          [
           "I:163 P:1"
          ],
          [
           "I:163 P:1"
          ],
          [
           "I:163 P:1"
          ],
          [
           "I:163 P:1"
          ],
          [
           "I:163 P:1"
          ]
         ],
         "hovertemplate": "groep=phase error detector<br>Part&item=%{customdata[0]}<br>date=%{x}<br>value=%{y}<extra></extra>",
         "legendgroup": "phase error detector",
         "line": {
          "color": "#FF6692",
          "dash": "solid"
         },
         "marker": {
          "symbol": "circle"
         },
         "mode": "lines+markers",
         "name": "phase error detector",
         "orientation": "v",
         "showlegend": false,
         "type": "scatter",
         "x": [
          "2023-09-13",
          "2023-10-04",
          "2023-10-11",
          "2023-10-18",
          "2023-10-25",
          "2023-11-08",
          "2023-11-15",
          "2023-12-06",
          "2023-12-13",
          "2024-01-03",
          "2024-02-07",
          "2024-02-14",
          "2024-02-28",
          "2024-04-24",
          "2024-05-15"
         ],
         "xaxis": "x",
         "y": {
          "bdata": "wgZeBl4GXgZeBl4GXgbqBuoG6gbqBuoG6gbqBuoG",
          "dtype": "i2"
         },
         "yaxis": "y"
        },
        {
         "customdata": [
          [
           "I:163 P:45"
          ],
          [
           "I:163 P:45"
          ],
          [
           "I:163 P:45"
          ],
          [
           "I:163 P:45"
          ],
          [
           "I:163 P:45"
          ],
          [
           "I:163 P:45"
          ],
          [
           "I:163 P:45"
          ],
          [
           "I:163 P:45"
          ],
          [
           "I:163 P:45"
          ],
          [
           "I:163 P:45"
          ],
          [
           "I:163 P:45"
          ],
          [
           "I:163 P:45"
          ],
          [
           "I:163 P:45"
          ],
          [
           "I:163 P:45"
          ],
          [
           "I:163 P:45"
          ]
         ],
         "hovertemplate": "groep=phase error detector<br>Part&item=%{customdata[0]}<br>date=%{x}<br>value=%{y}<extra></extra>",
         "legendgroup": "phase error detector",
         "line": {
          "color": "#FF6692",
          "dash": "solid"
         },
         "marker": {
          "symbol": "circle"
         },
         "mode": "lines+markers",
         "name": "phase error detector",
         "orientation": "v",
         "showlegend": false,
         "type": "scatter",
         "x": [
          "2023-09-13",
          "2023-10-04",
          "2023-10-11",
          "2023-10-18",
          "2023-10-25",
          "2023-11-08",
          "2023-11-15",
          "2023-12-06",
          "2023-12-13",
          "2024-01-03",
          "2024-02-07",
          "2024-02-14",
          "2024-02-28",
          "2024-04-24",
          "2024-05-15"
         ],
         "xaxis": "x",
         "y": {
          "bdata": "wQZdBl0GXQZgBl0GXQbqBuoG6wbrBugG6gbqBuoG",
          "dtype": "i2"
         },
         "yaxis": "y"
        },
        {
         "customdata": [
          [
           "I:161 P:45"
          ],
          [
           "I:161 P:45"
          ],
          [
           "I:161 P:45"
          ],
          [
           "I:161 P:45"
          ],
          [
           "I:161 P:45"
          ],
          [
           "I:161 P:45"
          ],
          [
           "I:161 P:45"
          ],
          [
           "I:161 P:45"
          ],
          [
           "I:161 P:45"
          ],
          [
           "I:161 P:45"
          ],
          [
           "I:161 P:45"
          ],
          [
           "I:161 P:45"
          ],
          [
           "I:161 P:45"
          ],
          [
           "I:161 P:45"
          ],
          [
           "I:161 P:45"
          ]
         ],
         "hovertemplate": "groep=phase error detector<br>Part&item=%{customdata[0]}<br>date=%{x}<br>value=%{y}<extra></extra>",
         "legendgroup": "phase error detector",
         "line": {
          "color": "#FF6692",
          "dash": "solid"
         },
         "marker": {
          "symbol": "circle"
         },
         "mode": "lines+markers",
         "name": "phase error detector",
         "orientation": "v",
         "showlegend": false,
         "type": "scatter",
         "x": [
          "2023-09-13",
          "2023-10-04",
          "2023-10-11",
          "2023-10-18",
          "2023-10-25",
          "2023-11-08",
          "2023-11-15",
          "2023-12-06",
          "2023-12-13",
          "2024-01-03",
          "2024-02-07",
          "2024-02-14",
          "2024-02-28",
          "2024-04-24",
          "2024-05-15"
         ],
         "xaxis": "x",
         "y": {
          "bdata": "zQnRBwIK0wcJCtEH0QnnCcQJGggYCBYIAgodCi4K",
          "dtype": "i2"
         },
         "yaxis": "y"
        },
        {
         "customdata": [
          [
           "I:129 P:45"
          ],
          [
           "I:129 P:45"
          ],
          [
           "I:129 P:45"
          ],
          [
           "I:129 P:45"
          ],
          [
           "I:129 P:45"
          ],
          [
           "I:129 P:45"
          ],
          [
           "I:129 P:45"
          ],
          [
           "I:129 P:45"
          ],
          [
           "I:129 P:45"
          ],
          [
           "I:129 P:45"
          ],
          [
           "I:129 P:45"
          ],
          [
           "I:129 P:45"
          ],
          [
           "I:129 P:45"
          ],
          [
           "I:129 P:45"
          ],
          [
           "I:129 P:45"
          ]
         ],
         "hovertemplate": "groep=phase error detector<br>Part&item=%{customdata[0]}<br>date=%{x}<br>value=%{y}<extra></extra>",
         "legendgroup": "phase error detector",
         "line": {
          "color": "#FF6692",
          "dash": "solid"
         },
         "marker": {
          "symbol": "circle"
         },
         "mode": "lines+markers",
         "name": "phase error detector",
         "orientation": "v",
         "showlegend": false,
         "type": "scatter",
         "x": [
          "2023-09-13",
          "2023-10-04",
          "2023-10-11",
          "2023-10-18",
          "2023-10-25",
          "2023-11-08",
          "2023-11-15",
          "2023-12-06",
          "2023-12-13",
          "2024-01-03",
          "2024-02-07",
          "2024-02-14",
          "2024-02-28",
          "2024-04-24",
          "2024-05-15"
         ],
         "xaxis": "x",
         "y": {
          "bdata": "4f8AAACAAADl/wAAAIAAAOH/AAAAgAAA4P8AAOP/AADs/wAA5/8AAACAAAAAgAAA5v8AAOT/AADX/wAA",
          "dtype": "i4"
         },
         "yaxis": "y"
        },
        {
         "customdata": [
          [
           "I:332 P:1"
          ],
          [
           "I:332 P:1"
          ],
          [
           "I:332 P:1"
          ],
          [
           "I:332 P:1"
          ],
          [
           "I:332 P:1"
          ],
          [
           "I:332 P:1"
          ],
          [
           "I:332 P:1"
          ],
          [
           "I:332 P:1"
          ],
          [
           "I:332 P:1"
          ],
          [
           "I:332 P:1"
          ],
          [
           "I:332 P:1"
          ],
          [
           "I:332 P:1"
          ],
          [
           "I:332 P:1"
          ],
          [
           "I:332 P:1"
          ],
          [
           "I:332 P:1"
          ]
         ],
         "hovertemplate": "groep=beam centering system<br>Part&item=%{customdata[0]}<br>date=%{x}<br>value=%{y}<extra></extra>",
         "legendgroup": "beam centering system",
         "line": {
          "color": "#B6E880",
          "dash": "solid"
         },
         "marker": {
          "symbol": "circle"
         },
         "mode": "lines+markers",
         "name": "beam centering system",
         "orientation": "v",
         "showlegend": true,
         "type": "scatter",
         "x": [
          "2023-09-13",
          "2023-10-04",
          "2023-10-11",
          "2023-10-18",
          "2023-10-25",
          "2023-11-08",
          "2023-11-15",
          "2023-12-06",
          "2023-12-13",
          "2024-01-03",
          "2024-02-07",
          "2024-02-14",
          "2024-02-28",
          "2024-04-24",
          "2024-05-15"
         ],
         "xaxis": "x",
         "y": {
          "bdata": "ISEhISEhIUlJSUlJSUky",
          "dtype": "i1"
         },
         "yaxis": "y"
        },
        {
         "customdata": [
          [
           "I:310 P:1"
          ],
          [
           "I:310 P:1"
          ],
          [
           "I:310 P:1"
          ],
          [
           "I:310 P:1"
          ],
          [
           "I:310 P:1"
          ],
          [
           "I:310 P:1"
          ],
          [
           "I:310 P:1"
          ],
          [
           "I:310 P:1"
          ],
          [
           "I:310 P:1"
          ],
          [
           "I:310 P:1"
          ],
          [
           "I:310 P:1"
          ],
          [
           "I:310 P:1"
          ],
          [
           "I:310 P:1"
          ],
          [
           "I:310 P:1"
          ],
          [
           "I:310 P:1"
          ]
         ],
         "hovertemplate": "groep=beam centering system<br>Part&item=%{customdata[0]}<br>date=%{x}<br>value=%{y}<extra></extra>",
         "legendgroup": "beam centering system",
         "line": {
          "color": "#B6E880",
          "dash": "solid"
         },
         "marker": {
          "symbol": "circle"
         },
         "mode": "lines+markers",
         "name": "beam centering system",
         "orientation": "v",
         "showlegend": false,
         "type": "scatter",
         "x": [
          "2023-09-13",
          "2023-10-04",
          "2023-10-11",
          "2023-10-18",
          "2023-10-25",
          "2023-11-08",
          "2023-11-15",
          "2023-12-06",
          "2023-12-13",
          "2024-01-03",
          "2024-02-07",
          "2024-02-14",
          "2024-02-28",
          "2024-04-24",
          "2024-05-15"
         ],
         "xaxis": "x",
         "y": {
          "bdata": "AggMCAwIDAgMCAwIEQgRCAsICwgLCAsIDwgPCAoI",
          "dtype": "i2"
         },
         "yaxis": "y"
        },
        {
         "customdata": [
          [
           "I:195 P:45"
          ],
          [
           "I:195 P:45"
          ],
          [
           "I:195 P:45"
          ],
          [
           "I:195 P:45"
          ],
          [
           "I:195 P:45"
          ],
          [
           "I:195 P:45"
          ],
          [
           "I:195 P:45"
          ],
          [
           "I:195 P:45"
          ],
          [
           "I:195 P:45"
          ],
          [
           "I:195 P:45"
          ],
          [
           "I:195 P:45"
          ],
          [
           "I:195 P:45"
          ],
          [
           "I:195 P:45"
          ],
          [
           "I:195 P:45"
          ],
          [
           "I:195 P:45"
          ]
         ],
         "hovertemplate": "groep=beam centering system<br>Part&item=%{customdata[0]}<br>date=%{x}<br>value=%{y}<extra></extra>",
         "legendgroup": "beam centering system",
         "line": {
          "color": "#B6E880",
          "dash": "solid"
         },
         "marker": {
          "symbol": "circle"
         },
         "mode": "lines+markers",
         "name": "beam centering system",
         "orientation": "v",
         "showlegend": false,
         "type": "scatter",
         "x": [
          "2023-09-13",
          "2023-10-04",
          "2023-10-11",
          "2023-10-18",
          "2023-10-25",
          "2023-11-08",
          "2023-11-15",
          "2023-12-06",
          "2023-12-13",
          "2024-01-03",
          "2024-02-07",
          "2024-02-14",
          "2024-02-28",
          "2024-04-24",
          "2024-05-15"
         ],
         "xaxis": "x",
         "y": {
          "bdata": "wgMAAACAAACPAwAAAIAAAG0DAAAAgAAAYgMAAK4DAAC6AwAALAMAAACAAAAAgAAAxQMAAMcDAACfAwAA",
          "dtype": "i4"
         },
         "yaxis": "y"
        },
        {
         "customdata": [
          [
           "I:194 P:45"
          ],
          [
           "I:194 P:45"
          ],
          [
           "I:194 P:45"
          ],
          [
           "I:194 P:45"
          ],
          [
           "I:194 P:45"
          ],
          [
           "I:194 P:45"
          ],
          [
           "I:194 P:45"
          ],
          [
           "I:194 P:45"
          ],
          [
           "I:194 P:45"
          ],
          [
           "I:194 P:45"
          ],
          [
           "I:194 P:45"
          ],
          [
           "I:194 P:45"
          ],
          [
           "I:194 P:45"
          ],
          [
           "I:194 P:45"
          ],
          [
           "I:194 P:45"
          ]
         ],
         "hovertemplate": "groep=beam centering system<br>Part&item=%{customdata[0]}<br>date=%{x}<br>value=%{y}<extra></extra>",
         "legendgroup": "beam centering system",
         "line": {
          "color": "#B6E880",
          "dash": "solid"
         },
         "marker": {
          "symbol": "circle"
         },
         "mode": "lines+markers",
         "name": "beam centering system",
         "orientation": "v",
         "showlegend": false,
         "type": "scatter",
         "x": [
          "2023-09-13",
          "2023-10-04",
          "2023-10-11",
          "2023-10-18",
          "2023-10-25",
          "2023-11-08",
          "2023-11-15",
          "2023-12-06",
          "2023-12-13",
          "2024-01-03",
          "2024-02-07",
          "2024-02-14",
          "2024-02-28",
          "2024-04-24",
          "2024-05-15"
         ],
         "xaxis": "x",
         "y": {
          "bdata": "vwMAAACAAACYAwAAAIAAAHEDAAAAgAAAYwMAAK8DAADAAwAAKwMAAACAAAAAgAAAyAMAAMwDAACqAwAA",
          "dtype": "i4"
         },
         "yaxis": "y"
        },
        {
         "customdata": [
          [
           "I:193 P:45"
          ],
          [
           "I:193 P:45"
          ],
          [
           "I:193 P:45"
          ],
          [
           "I:193 P:45"
          ],
          [
           "I:193 P:45"
          ],
          [
           "I:193 P:45"
          ],
          [
           "I:193 P:45"
          ],
          [
           "I:193 P:45"
          ],
          [
           "I:193 P:45"
          ],
          [
           "I:193 P:45"
          ],
          [
           "I:193 P:45"
          ],
          [
           "I:193 P:45"
          ],
          [
           "I:193 P:45"
          ],
          [
           "I:193 P:45"
          ],
          [
           "I:193 P:45"
          ]
         ],
         "hovertemplate": "groep=beam centering system<br>Part&item=%{customdata[0]}<br>date=%{x}<br>value=%{y}<extra></extra>",
         "legendgroup": "beam centering system",
         "line": {
          "color": "#B6E880",
          "dash": "solid"
         },
         "marker": {
          "symbol": "circle"
         },
         "mode": "lines+markers",
         "name": "beam centering system",
         "orientation": "v",
         "showlegend": false,
         "type": "scatter",
         "x": [
          "2023-09-13",
          "2023-10-04",
          "2023-10-11",
          "2023-10-18",
          "2023-10-25",
          "2023-11-08",
          "2023-11-15",
          "2023-12-06",
          "2023-12-13",
          "2024-01-03",
          "2024-02-07",
          "2024-02-14",
          "2024-02-28",
          "2024-04-24",
          "2024-05-15"
         ],
         "xaxis": "x",
         "y": {
          "bdata": "wQMAAACAAACZAwAAAIAAAHIDAAAAgAAAZwMAALADAAC/AwAANQMAAACAAAAAgAAAygMAAMwDAACkAwAA",
          "dtype": "i4"
         },
         "yaxis": "y"
        },
        {
         "customdata": [
          [
           "I:192 P:45"
          ],
          [
           "I:192 P:45"
          ],
          [
           "I:192 P:45"
          ],
          [
           "I:192 P:45"
          ],
          [
           "I:192 P:45"
          ],
          [
           "I:192 P:45"
          ],
          [
           "I:192 P:45"
          ],
          [
           "I:192 P:45"
          ],
          [
           "I:192 P:45"
          ],
          [
           "I:192 P:45"
          ],
          [
           "I:192 P:45"
          ],
          [
           "I:192 P:45"
          ],
          [
           "I:192 P:45"
          ],
          [
           "I:192 P:45"
          ],
          [
           "I:192 P:45"
          ]
         ],
         "hovertemplate": "groep=beam centering system<br>Part&item=%{customdata[0]}<br>date=%{x}<br>value=%{y}<extra></extra>",
         "legendgroup": "beam centering system",
         "line": {
          "color": "#B6E880",
          "dash": "solid"
         },
         "marker": {
          "symbol": "circle"
         },
         "mode": "lines+markers",
         "name": "beam centering system",
         "orientation": "v",
         "showlegend": false,
         "type": "scatter",
         "x": [
          "2023-09-13",
          "2023-10-04",
          "2023-10-11",
          "2023-10-18",
          "2023-10-25",
          "2023-11-08",
          "2023-11-15",
          "2023-12-06",
          "2023-12-13",
          "2024-01-03",
          "2024-02-07",
          "2024-02-14",
          "2024-02-28",
          "2024-04-24",
          "2024-05-15"
         ],
         "xaxis": "x",
         "y": {
          "bdata": "wAMAAACAAACPAwAAAIAAAG0DAAAAgAAAXwMAAKoDAAC5AwAALQMAAACAAAAAgAAAwgMAAMYDAACjAwAA",
          "dtype": "i4"
         },
         "yaxis": "y"
        },
        {
         "customdata": [
          [
           "I:165 P:45"
          ],
          [
           "I:165 P:45"
          ],
          [
           "I:165 P:45"
          ],
          [
           "I:165 P:45"
          ],
          [
           "I:165 P:45"
          ],
          [
           "I:165 P:45"
          ],
          [
           "I:165 P:45"
          ],
          [
           "I:165 P:45"
          ],
          [
           "I:165 P:45"
          ],
          [
           "I:165 P:45"
          ],
          [
           "I:165 P:45"
          ],
          [
           "I:165 P:45"
          ],
          [
           "I:165 P:45"
          ],
          [
           "I:165 P:45"
          ],
          [
           "I:165 P:45"
          ]
         ],
         "hovertemplate": "groep=beam centering system<br>Part&item=%{customdata[0]}<br>date=%{x}<br>value=%{y}<extra></extra>",
         "legendgroup": "beam centering system",
         "line": {
          "color": "#B6E880",
          "dash": "solid"
         },
         "marker": {
          "symbol": "circle"
         },
         "mode": "lines+markers",
         "name": "beam centering system",
         "orientation": "v",
         "showlegend": false,
         "type": "scatter",
         "x": [
          "2023-09-13",
          "2023-10-04",
          "2023-10-11",
          "2023-10-18",
          "2023-10-25",
          "2023-11-08",
          "2023-11-15",
          "2023-12-06",
          "2023-12-13",
          "2024-01-03",
          "2024-02-07",
          "2024-02-14",
          "2024-02-28",
          "2024-04-24",
          "2024-05-15"
         ],
         "xaxis": "x",
         "y": {
          "bdata": "ExZmFg4OFDIsLCwsMjIS",
          "dtype": "i1"
         },
         "yaxis": "y"
        },
        {
         "customdata": [
          [
           "I:165 P:1"
          ],
          [
           "I:165 P:1"
          ],
          [
           "I:165 P:1"
          ],
          [
           "I:165 P:1"
          ],
          [
           "I:165 P:1"
          ],
          [
           "I:165 P:1"
          ],
          [
           "I:165 P:1"
          ],
          [
           "I:165 P:1"
          ],
          [
           "I:165 P:1"
          ],
          [
           "I:165 P:1"
          ],
          [
           "I:165 P:1"
          ],
          [
           "I:165 P:1"
          ],
          [
           "I:165 P:1"
          ],
          [
           "I:165 P:1"
          ],
          [
           "I:165 P:1"
          ]
         ],
         "hovertemplate": "groep=beam centering system<br>Part&item=%{customdata[0]}<br>date=%{x}<br>value=%{y}<extra></extra>",
         "legendgroup": "beam centering system",
         "line": {
          "color": "#B6E880",
          "dash": "solid"
         },
         "marker": {
          "symbol": "circle"
         },
         "mode": "lines+markers",
         "name": "beam centering system",
         "orientation": "v",
         "showlegend": false,
         "type": "scatter",
         "x": [
          "2023-09-13",
          "2023-10-04",
          "2023-10-11",
          "2023-10-18",
          "2023-10-25",
          "2023-11-08",
          "2023-11-15",
          "2023-12-06",
          "2023-12-13",
          "2024-01-03",
          "2024-02-07",
          "2024-02-14",
          "2024-02-28",
          "2024-04-24",
          "2024-05-15"
         ],
         "xaxis": "x",
         "y": {
          "bdata": "HSAgIBgYHjw2NjY2PDwc",
          "dtype": "i1"
         },
         "yaxis": "y"
        },
        {
         "customdata": [
          [
           "I:164 P:45"
          ],
          [
           "I:164 P:45"
          ],
          [
           "I:164 P:45"
          ],
          [
           "I:164 P:45"
          ],
          [
           "I:164 P:45"
          ],
          [
           "I:164 P:45"
          ],
          [
           "I:164 P:45"
          ],
          [
           "I:164 P:45"
          ],
          [
           "I:164 P:45"
          ],
          [
           "I:164 P:45"
          ],
          [
           "I:164 P:45"
          ],
          [
           "I:164 P:45"
          ],
          [
           "I:164 P:45"
          ],
          [
           "I:164 P:45"
          ],
          [
           "I:164 P:45"
          ]
         ],
         "hovertemplate": "groep=beam centering system<br>Part&item=%{customdata[0]}<br>date=%{x}<br>value=%{y}<extra></extra>",
         "legendgroup": "beam centering system",
         "line": {
          "color": "#B6E880",
          "dash": "solid"
         },
         "marker": {
          "symbol": "circle"
         },
         "mode": "lines+markers",
         "name": "beam centering system",
         "orientation": "v",
         "showlegend": false,
         "type": "scatter",
         "x": [
          "2023-09-13",
          "2023-10-04",
          "2023-10-11",
          "2023-10-18",
          "2023-10-25",
          "2023-11-08",
          "2023-11-15",
          "2023-12-06",
          "2023-12-13",
          "2024-01-03",
          "2024-02-07",
          "2024-02-14",
          "2024-02-28",
          "2024-04-24",
          "2024-05-15"
         ],
         "xaxis": "x",
         "y": {
          "bdata": "sP8AAKX/AACU/wAApf8AALL/AACw/wAAuP8AANf/AADV/wAA1f8AANT/AADU/wAA2P8AAM7/AADF/wAA",
          "dtype": "i4"
         },
         "yaxis": "y"
        },
        {
         "customdata": [
          [
           "I:164 P:1"
          ],
          [
           "I:164 P:1"
          ],
          [
           "I:164 P:1"
          ],
          [
           "I:164 P:1"
          ],
          [
           "I:164 P:1"
          ],
          [
           "I:164 P:1"
          ],
          [
           "I:164 P:1"
          ],
          [
           "I:164 P:1"
          ],
          [
           "I:164 P:1"
          ],
          [
           "I:164 P:1"
          ],
          [
           "I:164 P:1"
          ],
          [
           "I:164 P:1"
          ],
          [
           "I:164 P:1"
          ],
          [
           "I:164 P:1"
          ],
          [
           "I:164 P:1"
          ]
         ],
         "hovertemplate": "groep=beam centering system<br>Part&item=%{customdata[0]}<br>date=%{x}<br>value=%{y}<extra></extra>",
         "legendgroup": "beam centering system",
         "line": {
          "color": "#B6E880",
          "dash": "solid"
         },
         "marker": {
          "symbol": "circle"
         },
         "mode": "lines+markers",
         "name": "beam centering system",
         "orientation": "v",
         "showlegend": false,
         "type": "scatter",
         "x": [
          "2023-09-13",
          "2023-10-04",
          "2023-10-11",
          "2023-10-18",
          "2023-10-25",
          "2023-11-08",
          "2023-11-15",
          "2023-12-06",
          "2023-12-13",
          "2024-01-03",
          "2024-02-07",
          "2024-02-14",
          "2024-02-28",
          "2024-04-24",
          "2024-05-15"
         ],
         "xaxis": "x",
         "y": {
          "bdata": "r/8AAKP/AACj/wAAo/8AAK7/AACu/wAAtv8AANT/AADR/wAA0f8AANH/AADR/wAA2P8AAMz/AADN/wAA",
          "dtype": "i4"
         },
         "yaxis": "y"
        },
        {
         "customdata": [
          [
           "I:128 P:45"
          ],
          [
           "I:128 P:45"
          ],
          [
           "I:128 P:45"
          ],
          [
           "I:128 P:45"
          ],
          [
           "I:128 P:45"
          ],
          [
           "I:128 P:45"
          ],
          [
           "I:128 P:45"
          ],
          [
           "I:128 P:45"
          ],
          [
           "I:128 P:45"
          ],
          [
           "I:128 P:45"
          ],
          [
           "I:128 P:45"
          ],
          [
           "I:128 P:45"
          ],
          [
           "I:128 P:45"
          ],
          [
           "I:128 P:45"
          ],
          [
           "I:128 P:45"
          ]
         ],
         "hovertemplate": "groep=beam centering system<br>Part&item=%{customdata[0]}<br>date=%{x}<br>value=%{y}<extra></extra>",
         "legendgroup": "beam centering system",
         "line": {
          "color": "#B6E880",
          "dash": "solid"
         },
         "marker": {
          "symbol": "circle"
         },
         "mode": "lines+markers",
         "name": "beam centering system",
         "orientation": "v",
         "showlegend": false,
         "type": "scatter",
         "x": [
          "2023-09-13",
          "2023-10-04",
          "2023-10-11",
          "2023-10-18",
          "2023-10-25",
          "2023-11-08",
          "2023-11-15",
          "2023-12-06",
          "2023-12-13",
          "2024-01-03",
          "2024-02-07",
          "2024-02-14",
          "2024-02-28",
          "2024-04-24",
          "2024-05-15"
         ],
         "xaxis": "x",
         "y": {
          "bdata": "//8AAACAAADz/wAAAIAAAAIAAAAAgAAA/v8AAAIAAAD//wAA9P8AAACAAAAAgAAAAAAAAAEAAAAIAAAA",
          "dtype": "i4"
         },
         "yaxis": "y"
        },
        {
         "customdata": [
          [
           "I:127 P:45"
          ],
          [
           "I:127 P:45"
          ],
          [
           "I:127 P:45"
          ],
          [
           "I:127 P:45"
          ],
          [
           "I:127 P:45"
          ],
          [
           "I:127 P:45"
          ],
          [
           "I:127 P:45"
          ],
          [
           "I:127 P:45"
          ],
          [
           "I:127 P:45"
          ],
          [
           "I:127 P:45"
          ],
          [
           "I:127 P:45"
          ],
          [
           "I:127 P:45"
          ],
          [
           "I:127 P:45"
          ],
          [
           "I:127 P:45"
          ],
          [
           "I:127 P:45"
          ]
         ],
         "hovertemplate": "groep=beam centering system<br>Part&item=%{customdata[0]}<br>date=%{x}<br>value=%{y}<extra></extra>",
         "legendgroup": "beam centering system",
         "line": {
          "color": "#B6E880",
          "dash": "solid"
         },
         "marker": {
          "symbol": "circle"
         },
         "mode": "lines+markers",
         "name": "beam centering system",
         "orientation": "v",
         "showlegend": false,
         "type": "scatter",
         "x": [
          "2023-09-13",
          "2023-10-04",
          "2023-10-11",
          "2023-10-18",
          "2023-10-25",
          "2023-11-08",
          "2023-11-15",
          "2023-12-06",
          "2023-12-13",
          "2024-01-03",
          "2024-02-07",
          "2024-02-14",
          "2024-02-28",
          "2024-04-24",
          "2024-05-15"
         ],
         "xaxis": "x",
         "y": {
          "bdata": "AAAAAACAAAACAAAAAIAAAPz/AAAAgAAAAAAAAAAAAAD//wAA7/8AAACAAAAAgAAAAQAAAAAAAAABAAAA",
          "dtype": "i4"
         },
         "yaxis": "y"
        },
        {
         "customdata": [
          [
           "I:308 P:1"
          ],
          [
           "I:308 P:1"
          ],
          [
           "I:308 P:1"
          ],
          [
           "I:308 P:1"
          ],
          [
           "I:308 P:1"
          ],
          [
           "I:308 P:1"
          ],
          [
           "I:308 P:1"
          ],
          [
           "I:308 P:1"
          ],
          [
           "I:308 P:1"
          ],
          [
           "I:308 P:1"
          ],
          [
           "I:308 P:1"
          ],
          [
           "I:308 P:1"
          ],
          [
           "I:308 P:1"
          ],
          [
           "I:308 P:1"
          ],
          [
           "I:308 P:1"
          ]
         ],
         "hovertemplate": "groep=beam focus system<br>Part&item=%{customdata[0]}<br>date=%{x}<br>value=%{y}<extra></extra>",
         "legendgroup": "beam focus system",
         "line": {
          "color": "#FF97FF",
          "dash": "solid"
         },
         "marker": {
          "symbol": "circle"
         },
         "mode": "lines+markers",
         "name": "beam focus system",
         "orientation": "v",
         "showlegend": true,
         "type": "scatter",
         "x": [
          "2023-09-13",
          "2023-10-04",
          "2023-10-11",
          "2023-10-18",
          "2023-10-25",
          "2023-11-08",
          "2023-11-15",
          "2023-12-06",
          "2023-12-13",
          "2024-01-03",
          "2024-02-07",
          "2024-02-14",
          "2024-02-28",
          "2024-04-24",
          "2024-05-15"
         ],
         "xaxis": "x",
         "y": {
          "bdata": "/gfxB/EH8QfxB/EH/gf+B+0H7QftB+0H/wf4B+4H",
          "dtype": "i2"
         },
         "yaxis": "y"
        },
        {
         "customdata": [
          [
           "I:305 P:1"
          ],
          [
           "I:305 P:1"
          ],
          [
           "I:305 P:1"
          ],
          [
           "I:305 P:1"
          ],
          [
           "I:305 P:1"
          ],
          [
           "I:305 P:1"
          ],
          [
           "I:305 P:1"
          ],
          [
           "I:305 P:1"
          ],
          [
           "I:305 P:1"
          ],
          [
           "I:305 P:1"
          ],
          [
           "I:305 P:1"
          ],
          [
           "I:305 P:1"
          ],
          [
           "I:305 P:1"
          ],
          [
           "I:305 P:1"
          ],
          [
           "I:305 P:1"
          ]
         ],
         "hovertemplate": "groep=beam bending system<br>Part&item=%{customdata[0]}<br>date=%{x}<br>value=%{y}<extra></extra>",
         "legendgroup": "beam bending system",
         "line": {
          "color": "#FECB52",
          "dash": "solid"
         },
         "marker": {
          "symbol": "circle"
         },
         "mode": "lines+markers",
         "name": "beam bending system",
         "orientation": "v",
         "showlegend": true,
         "type": "scatter",
         "x": [
          "2023-09-13",
          "2023-10-04",
          "2023-10-11",
          "2023-10-18",
          "2023-10-25",
          "2023-11-08",
          "2023-11-15",
          "2023-12-06",
          "2023-12-13",
          "2024-01-03",
          "2024-02-07",
          "2024-02-14",
          "2024-02-28",
          "2024-04-24",
          "2024-05-15"
         ],
         "xaxis": "x",
         "y": {
          "bdata": "qQCpAKkAqQCpAKkAqQC0ALQAtAC0ALQAtAC0ALoA",
          "dtype": "i2"
         },
         "yaxis": "y"
        },
        {
         "customdata": [
          [
           "I:304 P:1"
          ],
          [
           "I:304 P:1"
          ],
          [
           "I:304 P:1"
          ],
          [
           "I:304 P:1"
          ],
          [
           "I:304 P:1"
          ],
          [
           "I:304 P:1"
          ],
          [
           "I:304 P:1"
          ],
          [
           "I:304 P:1"
          ],
          [
           "I:304 P:1"
          ],
          [
           "I:304 P:1"
          ],
          [
           "I:304 P:1"
          ],
          [
           "I:304 P:1"
          ],
          [
           "I:304 P:1"
          ],
          [
           "I:304 P:1"
          ],
          [
           "I:304 P:1"
          ]
         ],
         "hovertemplate": "groep=beam bending system<br>Part&item=%{customdata[0]}<br>date=%{x}<br>value=%{y}<extra></extra>",
         "legendgroup": "beam bending system",
         "line": {
          "color": "#FECB52",
          "dash": "solid"
         },
         "marker": {
          "symbol": "circle"
         },
         "mode": "lines+markers",
         "name": "beam bending system",
         "orientation": "v",
         "showlegend": false,
         "type": "scatter",
         "x": [
          "2023-09-13",
          "2023-10-04",
          "2023-10-11",
          "2023-10-18",
          "2023-10-25",
          "2023-11-08",
          "2023-11-15",
          "2023-12-06",
          "2023-12-13",
          "2024-01-03",
          "2024-02-07",
          "2024-02-14",
          "2024-02-28",
          "2024-04-24",
          "2024-05-15"
         ],
         "xaxis": "x",
         "y": {
          "bdata": "fwF/AX8BfwF/AX8BfwGTAZMBkwGTAZMBlAGUAYwB",
          "dtype": "i2"
         },
         "yaxis": "y"
        },
        {
         "customdata": [
          [
           "I:226 P:45"
          ],
          [
           "I:226 P:45"
          ],
          [
           "I:226 P:45"
          ],
          [
           "I:226 P:45"
          ],
          [
           "I:226 P:45"
          ],
          [
           "I:226 P:45"
          ],
          [
           "I:226 P:45"
          ],
          [
           "I:226 P:45"
          ],
          [
           "I:226 P:45"
          ],
          [
           "I:226 P:45"
          ],
          [
           "I:226 P:45"
          ],
          [
           "I:226 P:45"
          ],
          [
           "I:226 P:45"
          ],
          [
           "I:226 P:45"
          ],
          [
           "I:226 P:45"
          ]
         ],
         "hovertemplate": "groep=temprature monitoring system<br>Part&item=%{customdata[0]}<br>date=%{x}<br>value=%{y}<extra></extra>",
         "legendgroup": "temprature monitoring system",
         "line": {
          "color": "#636efa",
          "dash": "solid"
         },
         "marker": {
          "symbol": "circle"
         },
         "mode": "lines+markers",
         "name": "temprature monitoring system",
         "orientation": "v",
         "showlegend": true,
         "type": "scatter",
         "x": [
          "2023-09-13",
          "2023-10-04",
          "2023-10-11",
          "2023-10-18",
          "2023-10-25",
          "2023-11-08",
          "2023-11-15",
          "2023-12-06",
          "2023-12-13",
          "2024-01-03",
          "2024-02-07",
          "2024-02-14",
          "2024-02-28",
          "2024-04-24",
          "2024-05-15"
         ],
         "xaxis": "x",
         "y": {
          "bdata": "ywtmCiAL7AqvC0oKQgxdCz8MZgsdCzsLpgvyCmwK",
          "dtype": "i2"
         },
         "yaxis": "y"
        },
        {
         "customdata": [
          [
           "I:224 P:45"
          ],
          [
           "I:224 P:45"
          ],
          [
           "I:224 P:45"
          ],
          [
           "I:224 P:45"
          ],
          [
           "I:224 P:45"
          ],
          [
           "I:224 P:45"
          ],
          [
           "I:224 P:45"
          ],
          [
           "I:224 P:45"
          ],
          [
           "I:224 P:45"
          ],
          [
           "I:224 P:45"
          ],
          [
           "I:224 P:45"
          ],
          [
           "I:224 P:45"
          ],
          [
           "I:224 P:45"
          ],
          [
           "I:224 P:45"
          ],
          [
           "I:224 P:45"
          ]
         ],
         "hovertemplate": "groep=temprature monitoring system<br>Part&item=%{customdata[0]}<br>date=%{x}<br>value=%{y}<extra></extra>",
         "legendgroup": "temprature monitoring system",
         "line": {
          "color": "#636efa",
          "dash": "solid"
         },
         "marker": {
          "symbol": "circle"
         },
         "mode": "lines+markers",
         "name": "temprature monitoring system",
         "orientation": "v",
         "showlegend": false,
         "type": "scatter",
         "x": [
          "2023-09-13",
          "2023-10-04",
          "2023-10-11",
          "2023-10-18",
          "2023-10-25",
          "2023-11-08",
          "2023-11-15",
          "2023-12-06",
          "2023-12-13",
          "2024-01-03",
          "2024-02-07",
          "2024-02-14",
          "2024-02-28",
          "2024-04-24",
          "2024-05-15"
         ],
         "xaxis": "x",
         "y": {
          "bdata": "yAtmCiML8gq1C00KSAxdCz8MZgsdCz4LqQvyCmwK",
          "dtype": "i2"
         },
         "yaxis": "y"
        },
        {
         "customdata": [
          [
           "I:85 P:45"
          ],
          [
           "I:85 P:45"
          ],
          [
           "I:85 P:45"
          ],
          [
           "I:85 P:45"
          ],
          [
           "I:85 P:45"
          ],
          [
           "I:85 P:45"
          ],
          [
           "I:85 P:45"
          ],
          [
           "I:85 P:45"
          ],
          [
           "I:85 P:45"
          ],
          [
           "I:85 P:45"
          ],
          [
           "I:85 P:45"
          ],
          [
           "I:85 P:45"
          ],
          [
           "I:85 P:45"
          ],
          [
           "I:85 P:45"
          ],
          [
           "I:85 P:45"
          ]
         ],
         "hovertemplate": "groep=radiation head<br>Part&item=%{customdata[0]}<br>date=%{x}<br>value=%{y}<extra></extra>",
         "legendgroup": "radiation head",
         "line": {
          "color": "#EF553B",
          "dash": "solid"
         },
         "marker": {
          "symbol": "circle"
         },
         "mode": "lines+markers",
         "name": "radiation head",
         "orientation": "v",
         "showlegend": true,
         "type": "scatter",
         "x": [
          "2023-09-13",
          "2023-10-04",
          "2023-10-11",
          "2023-10-18",
          "2023-10-25",
          "2023-11-08",
          "2023-11-15",
          "2023-12-06",
          "2023-12-13",
          "2024-01-03",
          "2024-02-07",
          "2024-02-14",
          "2024-02-28",
          "2024-04-24",
          "2024-05-15"
         ],
         "xaxis": "x",
         "y": {
          "bdata": "zwf0AfUB9AH0AfQBzwfOB88H9QHQB/MBzgevBJcA",
          "dtype": "i2"
         },
         "yaxis": "y"
        },
        {
         "customdata": [
          [
           "I:80 P:45"
          ],
          [
           "I:80 P:45"
          ],
          [
           "I:80 P:45"
          ],
          [
           "I:80 P:45"
          ],
          [
           "I:80 P:45"
          ],
          [
           "I:80 P:45"
          ],
          [
           "I:80 P:45"
          ],
          [
           "I:80 P:45"
          ],
          [
           "I:80 P:45"
          ],
          [
           "I:80 P:45"
          ],
          [
           "I:80 P:45"
          ],
          [
           "I:80 P:45"
          ],
          [
           "I:80 P:45"
          ],
          [
           "I:80 P:45"
          ],
          [
           "I:80 P:45"
          ]
         ],
         "hovertemplate": "groep=radiation head<br>Part&item=%{customdata[0]}<br>date=%{x}<br>value=%{y}<extra></extra>",
         "legendgroup": "radiation head",
         "line": {
          "color": "#EF553B",
          "dash": "solid"
         },
         "marker": {
          "symbol": "circle"
         },
         "mode": "lines+markers",
         "name": "radiation head",
         "orientation": "v",
         "showlegend": false,
         "type": "scatter",
         "x": [
          "2023-09-13",
          "2023-10-04",
          "2023-10-11",
          "2023-10-18",
          "2023-10-25",
          "2023-11-08",
          "2023-11-15",
          "2023-12-06",
          "2023-12-13",
          "2024-01-03",
          "2024-02-07",
          "2024-02-14",
          "2024-02-28",
          "2024-04-24",
          "2024-05-15"
         ],
         "xaxis": "x",
         "y": {
          "bdata": "zgf0AfEB9QH0AfQB0QfPB84H9AHQB/UBzwevBJcA",
          "dtype": "i2"
         },
         "yaxis": "y"
        },
        {
         "customdata": [
          [
           "I:75 P:45"
          ],
          [
           "I:75 P:45"
          ],
          [
           "I:75 P:45"
          ],
          [
           "I:75 P:45"
          ],
          [
           "I:75 P:45"
          ],
          [
           "I:75 P:45"
          ],
          [
           "I:75 P:45"
          ],
          [
           "I:75 P:45"
          ],
          [
           "I:75 P:45"
          ],
          [
           "I:75 P:45"
          ],
          [
           "I:75 P:45"
          ],
          [
           "I:75 P:45"
          ],
          [
           "I:75 P:45"
          ],
          [
           "I:75 P:45"
          ],
          [
           "I:75 P:45"
          ]
         ],
         "hovertemplate": "groep=radiation head<br>Part&item=%{customdata[0]}<br>date=%{x}<br>value=%{y}<extra></extra>",
         "legendgroup": "radiation head",
         "line": {
          "color": "#EF553B",
          "dash": "solid"
         },
         "marker": {
          "symbol": "circle"
         },
         "mode": "lines+markers",
         "name": "radiation head",
         "orientation": "v",
         "showlegend": false,
         "type": "scatter",
         "x": [
          "2023-09-13",
          "2023-10-04",
          "2023-10-11",
          "2023-10-18",
          "2023-10-25",
          "2023-11-08",
          "2023-11-15",
          "2023-12-06",
          "2023-12-13",
          "2024-01-03",
          "2024-02-07",
          "2024-02-14",
          "2024-02-28",
          "2024-04-24",
          "2024-05-15"
         ],
         "xaxis": "x",
         "y": {
          "bdata": "QEYAAAAAAADc3AAA9P8AAAQAAAAAAAAABAAAAAAAAAAAAAAA/P8AAAAAAAD8/wAA/P8AAPz/AAAwIgAA",
          "dtype": "i4"
         },
         "yaxis": "y"
        },
        {
         "customdata": [
          [
           "I:70 P:45"
          ],
          [
           "I:70 P:45"
          ],
          [
           "I:70 P:45"
          ],
          [
           "I:70 P:45"
          ],
          [
           "I:70 P:45"
          ],
          [
           "I:70 P:45"
          ],
          [
           "I:70 P:45"
          ],
          [
           "I:70 P:45"
          ],
          [
           "I:70 P:45"
          ],
          [
           "I:70 P:45"
          ],
          [
           "I:70 P:45"
          ],
          [
           "I:70 P:45"
          ],
          [
           "I:70 P:45"
          ],
          [
           "I:70 P:45"
          ],
          [
           "I:70 P:45"
          ]
         ],
         "hovertemplate": "groep=gantry rotation system<br>Part&item=%{customdata[0]}<br>date=%{x}<br>value=%{y}<extra></extra>",
         "legendgroup": "gantry rotation system",
         "line": {
          "color": "#00cc96",
          "dash": "solid"
         },
         "marker": {
          "symbol": "circle"
         },
         "mode": "lines+markers",
         "name": "gantry rotation system",
         "orientation": "v",
         "showlegend": true,
         "type": "scatter",
         "x": [
          "2023-09-13",
          "2023-10-04",
          "2023-10-11",
          "2023-10-18",
          "2023-10-25",
          "2023-11-08",
          "2023-11-15",
          "2023-12-06",
          "2023-12-13",
          "2024-01-03",
          "2024-02-07",
          "2024-02-14",
          "2024-02-28",
          "2024-04-24",
          "2024-05-15"
         ],
         "xaxis": "x",
         "y": {
          "bdata": "BgAAAPz/AAC3uQAACgAAAPr/AAD8/wAACgAAAAQAAAD8/wAABAAAAAgAAAAAAAAABAAAAAgAAAAIAAAA",
          "dtype": "i4"
         },
         "yaxis": "y"
        },
        {
         "customdata": [
          [
           "I:44 P:45"
          ],
          [
           "I:44 P:45"
          ],
          [
           "I:44 P:45"
          ],
          [
           "I:44 P:45"
          ],
          [
           "I:44 P:45"
          ],
          [
           "I:44 P:45"
          ],
          [
           "I:44 P:45"
          ],
          [
           "I:44 P:45"
          ],
          [
           "I:44 P:45"
          ],
          [
           "I:44 P:45"
          ],
          [
           "I:44 P:45"
          ],
          [
           "I:44 P:45"
          ],
          [
           "I:44 P:45"
          ],
          [
           "I:44 P:45"
          ],
          [
           "I:44 P:45"
          ]
         ],
         "hovertemplate": "groep=gantry rotation system<br>Part&item=%{customdata[0]}<br>date=%{x}<br>value=%{y}<extra></extra>",
         "legendgroup": "gantry rotation system",
         "line": {
          "color": "#00cc96",
          "dash": "solid"
         },
         "marker": {
          "symbol": "circle"
         },
         "mode": "lines+markers",
         "name": "gantry rotation system",
         "orientation": "v",
         "showlegend": false,
         "type": "scatter",
         "x": [
          "2023-09-13",
          "2023-10-04",
          "2023-10-11",
          "2023-10-18",
          "2023-10-25",
          "2023-11-08",
          "2023-11-15",
          "2023-12-06",
          "2023-12-13",
          "2024-01-03",
          "2024-02-07",
          "2024-02-14",
          "2024-02-28",
          "2024-04-24",
          "2024-05-15"
         ],
         "xaxis": "x",
         "y": {
          "bdata": "rgEAAJQBAACKAQAAhQGjAagBCgAAAAAArAGqAaIB",
          "dtype": "i2"
         },
         "yaxis": "y"
        },
        {
         "customdata": [
          [
           "I:44 P:134"
          ],
          [
           "I:44 P:134"
          ],
          [
           "I:44 P:134"
          ],
          [
           "I:44 P:134"
          ],
          [
           "I:44 P:134"
          ],
          [
           "I:44 P:134"
          ],
          [
           "I:44 P:134"
          ],
          [
           "I:44 P:134"
          ],
          [
           "I:44 P:134"
          ],
          [
           "I:44 P:134"
          ],
          [
           "I:44 P:134"
          ],
          [
           "I:44 P:134"
          ],
          [
           "I:44 P:134"
          ],
          [
           "I:44 P:134"
          ],
          [
           "I:44 P:134"
          ]
         ],
         "hovertemplate": "groep=gantry rotation system<br>Part&item=%{customdata[0]}<br>date=%{x}<br>value=%{y}<extra></extra>",
         "legendgroup": "gantry rotation system",
         "line": {
          "color": "#00cc96",
          "dash": "solid"
         },
         "marker": {
          "symbol": "circle"
         },
         "mode": "lines+markers",
         "name": "gantry rotation system",
         "orientation": "v",
         "showlegend": false,
         "type": "scatter",
         "x": [
          "2023-09-13",
          "2023-10-04",
          "2023-10-11",
          "2023-10-18",
          "2023-10-25",
          "2023-11-08",
          "2023-11-15",
          "2023-12-06",
          "2023-12-13",
          "2024-01-03",
          "2024-02-07",
          "2024-02-14",
          "2024-02-28",
          "2024-04-24",
          "2024-05-15"
         ],
         "xaxis": "x",
         "y": {
          "bdata": "sQGxAZMBkwGTAZMBkwGTAZMBkwGTAZMBqQGpAZ0B",
          "dtype": "i2"
         },
         "yaxis": "y"
        }
       ],
       "layout": {
        "legend": {
         "title": {
          "text": "groep"
         },
         "tracegroupgap": 0
        },
        "template": {
         "data": {
          "bar": [
           {
            "error_x": {
             "color": "#2a3f5f"
            },
            "error_y": {
             "color": "#2a3f5f"
            },
            "marker": {
             "line": {
              "color": "#E5ECF6",
              "width": 0.5
             },
             "pattern": {
              "fillmode": "overlay",
              "size": 10,
              "solidity": 0.2
             }
            },
            "type": "bar"
           }
          ],
          "barpolar": [
           {
            "marker": {
             "line": {
              "color": "#E5ECF6",
              "width": 0.5
             },
             "pattern": {
              "fillmode": "overlay",
              "size": 10,
              "solidity": 0.2
             }
            },
            "type": "barpolar"
           }
          ],
          "carpet": [
           {
            "aaxis": {
             "endlinecolor": "#2a3f5f",
             "gridcolor": "white",
             "linecolor": "white",
             "minorgridcolor": "white",
             "startlinecolor": "#2a3f5f"
            },
            "baxis": {
             "endlinecolor": "#2a3f5f",
             "gridcolor": "white",
             "linecolor": "white",
             "minorgridcolor": "white",
             "startlinecolor": "#2a3f5f"
            },
            "type": "carpet"
           }
          ],
          "choropleth": [
           {
            "colorbar": {
             "outlinewidth": 0,
             "ticks": ""
            },
            "type": "choropleth"
           }
          ],
          "contour": [
           {
            "colorbar": {
             "outlinewidth": 0,
             "ticks": ""
            },
            "colorscale": [
             [
              0,
              "#0d0887"
             ],
             [
              0.1111111111111111,
              "#46039f"
             ],
             [
              0.2222222222222222,
              "#7201a8"
             ],
             [
              0.3333333333333333,
              "#9c179e"
             ],
             [
              0.4444444444444444,
              "#bd3786"
             ],
             [
              0.5555555555555556,
              "#d8576b"
             ],
             [
              0.6666666666666666,
              "#ed7953"
             ],
             [
              0.7777777777777778,
              "#fb9f3a"
             ],
             [
              0.8888888888888888,
              "#fdca26"
             ],
             [
              1,
              "#f0f921"
             ]
            ],
            "type": "contour"
           }
          ],
          "contourcarpet": [
           {
            "colorbar": {
             "outlinewidth": 0,
             "ticks": ""
            },
            "type": "contourcarpet"
           }
          ],
          "heatmap": [
           {
            "colorbar": {
             "outlinewidth": 0,
             "ticks": ""
            },
            "colorscale": [
             [
              0,
              "#0d0887"
             ],
             [
              0.1111111111111111,
              "#46039f"
             ],
             [
              0.2222222222222222,
              "#7201a8"
             ],
             [
              0.3333333333333333,
              "#9c179e"
             ],
             [
              0.4444444444444444,
              "#bd3786"
             ],
             [
              0.5555555555555556,
              "#d8576b"
             ],
             [
              0.6666666666666666,
              "#ed7953"
             ],
             [
              0.7777777777777778,
              "#fb9f3a"
             ],
             [
              0.8888888888888888,
              "#fdca26"
             ],
             [
              1,
              "#f0f921"
             ]
            ],
            "type": "heatmap"
           }
          ],
          "histogram": [
           {
            "marker": {
             "pattern": {
              "fillmode": "overlay",
              "size": 10,
              "solidity": 0.2
             }
            },
            "type": "histogram"
           }
          ],
          "histogram2d": [
           {
            "colorbar": {
             "outlinewidth": 0,
             "ticks": ""
            },
            "colorscale": [
             [
              0,
              "#0d0887"
             ],
             [
              0.1111111111111111,
              "#46039f"
             ],
             [
              0.2222222222222222,
              "#7201a8"
             ],
             [
              0.3333333333333333,
              "#9c179e"
             ],
             [
              0.4444444444444444,
              "#bd3786"
             ],
             [
              0.5555555555555556,
              "#d8576b"
             ],
             [
              0.6666666666666666,
              "#ed7953"
             ],
             [
              0.7777777777777778,
              "#fb9f3a"
             ],
             [
              0.8888888888888888,
              "#fdca26"
             ],
             [
              1,
              "#f0f921"
             ]
            ],
            "type": "histogram2d"
           }
          ],
          "histogram2dcontour": [
           {
            "colorbar": {
             "outlinewidth": 0,
             "ticks": ""
            },
            "colorscale": [
             [
              0,
              "#0d0887"
             ],
             [
              0.1111111111111111,
              "#46039f"
             ],
             [
              0.2222222222222222,
              "#7201a8"
             ],
             [
              0.3333333333333333,
              "#9c179e"
             ],
             [
              0.4444444444444444,
              "#bd3786"
             ],
             [
              0.5555555555555556,
              "#d8576b"
             ],
             [
              0.6666666666666666,
              "#ed7953"
             ],
             [
              0.7777777777777778,
              "#fb9f3a"
             ],
             [
              0.8888888888888888,
              "#fdca26"
             ],
             [
              1,
              "#f0f921"
             ]
            ],
            "type": "histogram2dcontour"
           }
          ],
          "mesh3d": [
           {
            "colorbar": {
             "outlinewidth": 0,
             "ticks": ""
            },
            "type": "mesh3d"
           }
          ],
          "parcoords": [
           {
            "line": {
             "colorbar": {
              "outlinewidth": 0,
              "ticks": ""
             }
            },
            "type": "parcoords"
           }
          ],
          "pie": [
           {
            "automargin": true,
            "type": "pie"
           }
          ],
          "scatter": [
           {
            "fillpattern": {
             "fillmode": "overlay",
             "size": 10,
             "solidity": 0.2
            },
            "type": "scatter"
           }
          ],
          "scatter3d": [
           {
            "line": {
             "colorbar": {
              "outlinewidth": 0,
              "ticks": ""
             }
            },
            "marker": {
             "colorbar": {
              "outlinewidth": 0,
              "ticks": ""
             }
            },
            "type": "scatter3d"
           }
          ],
          "scattercarpet": [
           {
            "marker": {
             "colorbar": {
              "outlinewidth": 0,
              "ticks": ""
             }
            },
            "type": "scattercarpet"
           }
          ],
          "scattergeo": [
           {
            "marker": {
             "colorbar": {
              "outlinewidth": 0,
              "ticks": ""
             }
            },
            "type": "scattergeo"
           }
          ],
          "scattergl": [
           {
            "marker": {
             "colorbar": {
              "outlinewidth": 0,
              "ticks": ""
             }
            },
            "type": "scattergl"
           }
          ],
          "scattermap": [
           {
            "marker": {
             "colorbar": {
              "outlinewidth": 0,
              "ticks": ""
             }
            },
            "type": "scattermap"
           }
          ],
          "scattermapbox": [
           {
            "marker": {
             "colorbar": {
              "outlinewidth": 0,
              "ticks": ""
             }
            },
            "type": "scattermapbox"
           }
          ],
          "scatterpolar": [
           {
            "marker": {
             "colorbar": {
              "outlinewidth": 0,
              "ticks": ""
             }
            },
            "type": "scatterpolar"
           }
          ],
          "scatterpolargl": [
           {
            "marker": {
             "colorbar": {
              "outlinewidth": 0,
              "ticks": ""
             }
            },
            "type": "scatterpolargl"
           }
          ],
          "scatterternary": [
           {
            "marker": {
             "colorbar": {
              "outlinewidth": 0,
              "ticks": ""
             }
            },
            "type": "scatterternary"
           }
          ],
          "surface": [
           {
            "colorbar": {
             "outlinewidth": 0,
             "ticks": ""
            },
            "colorscale": [
             [
              0,
              "#0d0887"
             ],
             [
              0.1111111111111111,
              "#46039f"
             ],
             [
              0.2222222222222222,
              "#7201a8"
             ],
             [
              0.3333333333333333,
              "#9c179e"
             ],
             [
              0.4444444444444444,
              "#bd3786"
             ],
             [
              0.5555555555555556,
              "#d8576b"
             ],
             [
              0.6666666666666666,
              "#ed7953"
             ],
             [
              0.7777777777777778,
              "#fb9f3a"
             ],
             [
              0.8888888888888888,
              "#fdca26"
             ],
             [
              1,
              "#f0f921"
             ]
            ],
            "type": "surface"
           }
          ],
          "table": [
           {
            "cells": {
             "fill": {
              "color": "#EBF0F8"
             },
             "line": {
              "color": "white"
             }
            },
            "header": {
             "fill": {
              "color": "#C8D4E3"
             },
             "line": {
              "color": "white"
             }
            },
            "type": "table"
           }
          ]
         },
         "layout": {
          "annotationdefaults": {
           "arrowcolor": "#2a3f5f",
           "arrowhead": 0,
           "arrowwidth": 1
          },
          "autotypenumbers": "strict",
          "coloraxis": {
           "colorbar": {
            "outlinewidth": 0,
            "ticks": ""
           }
          },
          "colorscale": {
           "diverging": [
            [
             0,
             "#8e0152"
            ],
            [
             0.1,
             "#c51b7d"
            ],
            [
             0.2,
             "#de77ae"
            ],
            [
             0.3,
             "#f1b6da"
            ],
            [
             0.4,
             "#fde0ef"
            ],
            [
             0.5,
             "#f7f7f7"
            ],
            [
             0.6,
             "#e6f5d0"
            ],
            [
             0.7,
             "#b8e186"
            ],
            [
             0.8,
             "#7fbc41"
            ],
            [
             0.9,
             "#4d9221"
            ],
            [
             1,
             "#276419"
            ]
           ],
           "sequential": [
            [
             0,
             "#0d0887"
            ],
            [
             0.1111111111111111,
             "#46039f"
            ],
            [
             0.2222222222222222,
             "#7201a8"
            ],
            [
             0.3333333333333333,
             "#9c179e"
            ],
            [
             0.4444444444444444,
             "#bd3786"
            ],
            [
             0.5555555555555556,
             "#d8576b"
            ],
            [
             0.6666666666666666,
             "#ed7953"
            ],
            [
             0.7777777777777778,
             "#fb9f3a"
            ],
            [
             0.8888888888888888,
             "#fdca26"
            ],
            [
             1,
             "#f0f921"
            ]
           ],
           "sequentialminus": [
            [
             0,
             "#0d0887"
            ],
            [
             0.1111111111111111,
             "#46039f"
            ],
            [
             0.2222222222222222,
             "#7201a8"
            ],
            [
             0.3333333333333333,
             "#9c179e"
            ],
            [
             0.4444444444444444,
             "#bd3786"
            ],
            [
             0.5555555555555556,
             "#d8576b"
            ],
            [
             0.6666666666666666,
             "#ed7953"
            ],
            [
             0.7777777777777778,
             "#fb9f3a"
            ],
            [
             0.8888888888888888,
             "#fdca26"
            ],
            [
             1,
             "#f0f921"
            ]
           ]
          },
          "colorway": [
           "#636efa",
           "#EF553B",
           "#00cc96",
           "#ab63fa",
           "#FFA15A",
           "#19d3f3",
           "#FF6692",
           "#B6E880",
           "#FF97FF",
           "#FECB52"
          ],
          "font": {
           "color": "#2a3f5f"
          },
          "geo": {
           "bgcolor": "white",
           "lakecolor": "white",
           "landcolor": "#E5ECF6",
           "showlakes": true,
           "showland": true,
           "subunitcolor": "white"
          },
          "hoverlabel": {
           "align": "left"
          },
          "hovermode": "closest",
          "mapbox": {
           "style": "light"
          },
          "paper_bgcolor": "white",
          "plot_bgcolor": "#E5ECF6",
          "polar": {
           "angularaxis": {
            "gridcolor": "white",
            "linecolor": "white",
            "ticks": ""
           },
           "bgcolor": "#E5ECF6",
           "radialaxis": {
            "gridcolor": "white",
            "linecolor": "white",
            "ticks": ""
           }
          },
          "scene": {
           "xaxis": {
            "backgroundcolor": "#E5ECF6",
            "gridcolor": "white",
            "gridwidth": 2,
            "linecolor": "white",
            "showbackground": true,
            "ticks": "",
            "zerolinecolor": "white"
           },
           "yaxis": {
            "backgroundcolor": "#E5ECF6",
            "gridcolor": "white",
            "gridwidth": 2,
            "linecolor": "white",
            "showbackground": true,
            "ticks": "",
            "zerolinecolor": "white"
           },
           "zaxis": {
            "backgroundcolor": "#E5ECF6",
            "gridcolor": "white",
            "gridwidth": 2,
            "linecolor": "white",
            "showbackground": true,
            "ticks": "",
            "zerolinecolor": "white"
           }
          },
          "shapedefaults": {
           "line": {
            "color": "#2a3f5f"
           }
          },
          "ternary": {
           "aaxis": {
            "gridcolor": "white",
            "linecolor": "white",
            "ticks": ""
           },
           "baxis": {
            "gridcolor": "white",
            "linecolor": "white",
            "ticks": ""
           },
           "bgcolor": "#E5ECF6",
           "caxis": {
            "gridcolor": "white",
            "linecolor": "white",
            "ticks": ""
           }
          },
          "title": {
           "x": 0.05
          },
          "xaxis": {
           "automargin": true,
           "gridcolor": "white",
           "linecolor": "white",
           "ticks": "",
           "title": {
            "standoff": 15
           },
           "zerolinecolor": "white",
           "zerolinewidth": 2
          },
          "yaxis": {
           "automargin": true,
           "gridcolor": "white",
           "linecolor": "white",
           "ticks": "",
           "title": {
            "standoff": 15
           },
           "zerolinecolor": "white",
           "zerolinewidth": 2
          }
         }
        },
        "title": {
         "text": "Alle aangepaste items gegroepeerd in 1 plot met de waarde van aanpassing"
        },
        "xaxis": {
         "anchor": "y",
         "domain": [
          0,
          1
         ],
         "title": {
          "text": "date"
         }
        },
        "yaxis": {
         "anchor": "x",
         "domain": [
          0,
          1
         ],
         "title": {
          "text": "value"
         }
        }
       }
      }
     },
     "metadata": {},
     "output_type": "display_data"
    }
   ],
   "source": [
    "groups = pd.read_csv(\"data/groups_partly.tsv\", sep=\"\\t\")\n",
    "groups[\"Part&item\"] = \"I:\" + groups[\"item\"].astype(str) + \" P:\" + groups[\"part\"].astype(str)\n",
    "plotting = pd.merge(groups, be5201, on=\"Part&item\", how=\"inner\")\n",
    "fig = px.line(plotting, x=\"date\", y=\"value\", color=\"groep\", line_group=\"Part&item\", \n",
    "              title=\"Alle aangepaste items gegroepeerd in 1 plot met de waarde van aanpassing\", \n",
    "              hover_data=\"Part&item\", markers=True)\n",
    "\n",
    "\n",
    "fig.show()\n"
   ]
  },
  {
   "cell_type": "markdown",
   "metadata": {},
   "source": [
    "#### Correlatie tussen de items en parts"
   ]
  },
  {
   "cell_type": "code",
   "execution_count": 28,
   "metadata": {},
   "outputs": [],
   "source": [
    "\n",
    "# copy the data \n",
    "be5201_max_scaled = be5201[[\"value\", \"Part&item\", 'date']].pivot(index='date', columns='Part&item', values='value') \n",
    "\n",
    "# apply normalization techniques \n",
    "for column in be5201_max_scaled.columns: \n",
    "\tbe5201_max_scaled[column] = be5201_max_scaled[column] / be5201_max_scaled[column].abs().max() \n",
    "\t\n"
   ]
  },
  {
   "cell_type": "code",
   "execution_count": 29,
   "metadata": {},
   "outputs": [
    {
     "data": {
      "text/plain": [
       "<Axes: xlabel='Part&item', ylabel='Part&item'>"
      ]
     },
     "execution_count": 29,
     "metadata": {},
     "output_type": "execute_result"
    },
    {
     "data": {
      "image/png": "[encoded data removed]",
      "text/plain": [
       "<Figure size 640x480 with 2 Axes>"
      ]
     },
     "metadata": {},
     "output_type": "display_data"
    }
   ],
   "source": [
    "corr = be5201_max_scaled.corr()\n",
    "sns.heatmap(corr, cmap=\"jet\", vmin=0.0, vmax=1.0)"
   ]
  },
  {
   "cell_type": "markdown",
   "metadata": {},
   "source": [
    "###### gun filament"
   ]
  },
  {
   "cell_type": "code",
   "execution_count": 30,
   "metadata": {},
   "outputs": [],
   "source": [
    "\n",
    "high_corr_pairs = []\n",
    "\n",
    "# Loop door de correlatiematrix\n",
    "for col in corr.columns:\n",
    "    for row in corr.index:\n",
    "        if abs(corr.loc[row, col]) > 0.4 and row != col:\n",
    "            high_corr_pairs.append((row, col, corr.loc[row, col]))\n",
    "\n",
    "# Maak een DataFrame van de paren die we hebben gevonden\n",
    "high_corr_df = pd.DataFrame(high_corr_pairs, columns=['Item 1', 'Item 2', 'Correlation'])\n",
    "\n",
    "# Toon de paren en hun correlaties\n",
    "df_381 = high_corr_df[high_corr_df[\"Item 1\"] == \"I:381 P:1\"]\n",
    "\n",
    "new_plotting = be5201_max_scaled.reset_index().melt(id_vars=[\"date\"], var_name=\"Part&item\", value_name=\"value\")"
   ]
  },
  {
   "cell_type": "code",
   "execution_count": 31,
   "metadata": {},
   "outputs": [],
   "source": [
    "\n",
    "plotting = pd.merge(groups, new_plotting, on=\"Part&item\", how=\"inner\")\n",
    "fig = px.line(plotting, x=\"date\", y=\"value\", color=\"groep\", line_group=\"Part&item\", \n",
    "              title=\"Alle aangepaste items gegroepeerd in 1 plot met de waarde van aanpassing\", \n",
    "              hover_data=\"Part&item\", markers=True)\n",
    "\n"
   ]
  },
  {
   "cell_type": "code",
   "execution_count": 32,
   "metadata": {},
   "outputs": [
    {
     "data": {
      "application/vnd.plotly.v1+json": {
       "config": {
        "plotlyServerURL": "https://plot.ly"
       },
       "data": [
        {
         "customdata": [
          [
           "I:124 P:142"
          ],
          [
           "I:124 P:142"
          ],
          [
           "I:124 P:142"
          ],
          [
           "I:124 P:142"
          ],
          [
           "I:124 P:142"
          ],
          [
           "I:124 P:142"
          ],
          [
           "I:124 P:142"
          ],
          [
           "I:124 P:142"
          ],
          [
           "I:124 P:142"
          ],
          [
           "I:124 P:142"
          ],
          [
           "I:124 P:142"
          ],
          [
           "I:124 P:142"
          ],
          [
           "I:124 P:142"
          ],
          [
           "I:124 P:142"
          ],
          [
           "I:124 P:142"
          ]
         ],
         "hovertemplate": "Part&item=%{customdata[0]}<br>date=%{x}<br>value=%{y}<extra></extra>",
         "legendgroup": "I:124 P:142",
         "line": {
          "color": "#636efa",
          "dash": "solid"
         },
         "marker": {
          "symbol": "circle"
         },
         "mode": "lines+markers",
         "name": "I:124 P:142",
         "orientation": "v",
         "showlegend": true,
         "type": "scatter",
         "x": [
          "2023-09-13",
          "2023-10-04",
          "2023-10-11",
          "2023-10-18",
          "2023-10-25",
          "2023-11-08",
          "2023-11-15",
          "2023-12-06",
          "2023-12-13",
          "2024-01-03",
          "2024-02-07",
          "2024-02-14",
          "2024-02-28",
          "2024-04-24",
          "2024-05-15"
         ],
         "xaxis": "x",
         "y": {
          "bdata": "SXgdv9//7z8AAAAAAADwPwAAAAAAAPA/AAAAAAAA8D8AAAAAAADwPwAAAAAAAPA/SXgdv9//7z9JeB2/3//vP0l4Hb/f/+8/SXgdv9//7z9JeB2/3//vP0l4Hb/f/+8/SXgdv9//7z9JeB2/3//vP0l4Hb/f/+8/",
          "dtype": "f8"
         },
         "yaxis": "y"
        },
        {
         "customdata": [
          [
           "I:128 P:45"
          ],
          [
           "I:128 P:45"
          ],
          [
           "I:128 P:45"
          ],
          [
           "I:128 P:45"
          ],
          [
           "I:128 P:45"
          ],
          [
           "I:128 P:45"
          ],
          [
           "I:128 P:45"
          ],
          [
           "I:128 P:45"
          ],
          [
           "I:128 P:45"
          ],
          [
           "I:128 P:45"
          ],
          [
           "I:128 P:45"
          ],
          [
           "I:128 P:45"
          ],
          [
           "I:128 P:45"
          ],
          [
           "I:128 P:45"
          ],
          [
           "I:128 P:45"
          ]
         ],
         "hovertemplate": "Part&item=%{customdata[0]}<br>date=%{x}<br>value=%{y}<extra></extra>",
         "legendgroup": "I:128 P:45",
         "line": {
          "color": "#EF553B",
          "dash": "solid"
         },
         "marker": {
          "symbol": "circle"
         },
         "mode": "lines+markers",
         "name": "I:128 P:45",
         "orientation": "v",
         "showlegend": true,
         "type": "scatter",
         "x": [
          "2023-09-13",
          "2023-10-04",
          "2023-10-11",
          "2023-10-18",
          "2023-10-25",
          "2023-11-08",
          "2023-11-15",
          "2023-12-06",
          "2023-12-13",
          "2024-01-03",
          "2024-02-07",
          "2024-02-14",
          "2024-02-28",
          "2024-04-24",
          "2024-05-15"
         ],
         "xaxis": "x",
         "y": {
          "bdata": "AAAAAAAA8D8QABAAEADgP4D+f/5//u8/EAAQABAA4D8QABAAEAAAPxAAEAAQAOA/4P/f/9//7z8QABAAEAAAPwAAAAAAAPA/oP6f/p/+7z8QABAAEADgPxAAEAAQAOA/AAAAAAAAAAAQABAAEADwPhAAEAAQACA/",
          "dtype": "f8"
         },
         "yaxis": "y"
        },
        {
         "customdata": [
          [
           "I:163 P:1"
          ],
          [
           "I:163 P:1"
          ],
          [
           "I:163 P:1"
          ],
          [
           "I:163 P:1"
          ],
          [
           "I:163 P:1"
          ],
          [
           "I:163 P:1"
          ],
          [
           "I:163 P:1"
          ],
          [
           "I:163 P:1"
          ],
          [
           "I:163 P:1"
          ],
          [
           "I:163 P:1"
          ],
          [
           "I:163 P:1"
          ],
          [
           "I:163 P:1"
          ],
          [
           "I:163 P:1"
          ],
          [
           "I:163 P:1"
          ],
          [
           "I:163 P:1"
          ]
         ],
         "hovertemplate": "Part&item=%{customdata[0]}<br>date=%{x}<br>value=%{y}<extra></extra>",
         "legendgroup": "I:163 P:1",
         "line": {
          "color": "#00cc96",
          "dash": "solid"
         },
         "marker": {
          "symbol": "circle"
         },
         "mode": "lines+markers",
         "name": "I:163 P:1",
         "orientation": "v",
         "showlegend": true,
         "type": "scatter",
         "x": [
          "2023-09-13",
          "2023-10-04",
          "2023-10-11",
          "2023-10-18",
          "2023-10-25",
          "2023-11-08",
          "2023-11-15",
          "2023-12-06",
          "2023-12-13",
          "2024-01-03",
          "2024-02-07",
          "2024-02-14",
          "2024-02-28",
          "2024-04-24",
          "2024-05-15"
         ],
         "xaxis": "x",
         "y": {
          "bdata": "CskFvN5G7z+jPxSSC3jtP6M/FJILeO0/oz8Ukgt47T+jPxSSC3jtP6M/FJILeO0/oz8Ukgt47T8AAAAAAADwPwAAAAAAAPA/AAAAAAAA8D8AAAAAAADwPwAAAAAAAPA/AAAAAAAA8D8AAAAAAADwPwAAAAAAAPA/",
          "dtype": "f8"
         },
         "yaxis": "y"
        },
        {
         "customdata": [
          [
           "I:163 P:45"
          ],
          [
           "I:163 P:45"
          ],
          [
           "I:163 P:45"
          ],
          [
           "I:163 P:45"
          ],
          [
           "I:163 P:45"
          ],
          [
           "I:163 P:45"
          ],
          [
           "I:163 P:45"
          ],
          [
           "I:163 P:45"
          ],
          [
           "I:163 P:45"
          ],
          [
           "I:163 P:45"
          ],
          [
           "I:163 P:45"
          ],
          [
           "I:163 P:45"
          ],
          [
           "I:163 P:45"
          ],
          [
           "I:163 P:45"
          ],
          [
           "I:163 P:45"
          ]
         ],
         "hovertemplate": "Part&item=%{customdata[0]}<br>date=%{x}<br>value=%{y}<extra></extra>",
         "legendgroup": "I:163 P:45",
         "line": {
          "color": "#ab63fa",
          "dash": "solid"
         },
         "marker": {
          "symbol": "circle"
         },
         "mode": "lines+markers",
         "name": "I:163 P:45",
         "orientation": "v",
         "showlegend": true,
         "type": "scatter",
         "x": [
          "2023-09-13",
          "2023-10-04",
          "2023-10-11",
          "2023-10-18",
          "2023-10-25",
          "2023-11-08",
          "2023-11-15",
          "2023-12-06",
          "2023-12-13",
          "2024-01-03",
          "2024-02-07",
          "2024-02-14",
          "2024-02-28",
          "2024-04-24",
          "2024-05-15"
         ],
         "xaxis": "x",
         "y": {
          "bdata": "l4eCK7k97z/yK3DoKG/tP/IrcOgob+0/8itw6Chv7T/5j1RlCX3tP/IrcOgob+0/8itw6Chv7T9TiV7WX/vvP1OJXtZf++8/AAAAAAAA8D8AAAAAAADwP/ibG4Mf8u8/U4le1l/77z9TiV7WX/vvP1OJXtZf++8/",
          "dtype": "f8"
         },
         "yaxis": "y"
        },
        {
         "customdata": [
          [
           "I:164 P:1"
          ],
          [
           "I:164 P:1"
          ],
          [
           "I:164 P:1"
          ],
          [
           "I:164 P:1"
          ],
          [
           "I:164 P:1"
          ],
          [
           "I:164 P:1"
          ],
          [
           "I:164 P:1"
          ],
          [
           "I:164 P:1"
          ],
          [
           "I:164 P:1"
          ],
          [
           "I:164 P:1"
          ],
          [
           "I:164 P:1"
          ],
          [
           "I:164 P:1"
          ],
          [
           "I:164 P:1"
          ],
          [
           "I:164 P:1"
          ],
          [
           "I:164 P:1"
          ]
         ],
         "hovertemplate": "Part&item=%{customdata[0]}<br>date=%{x}<br>value=%{y}<extra></extra>",
         "legendgroup": "I:164 P:1",
         "line": {
          "color": "#FFA15A",
          "dash": "solid"
         },
         "marker": {
          "symbol": "circle"
         },
         "mode": "lines+markers",
         "name": "I:164 P:1",
         "orientation": "v",
         "showlegend": true,
         "type": "scatter",
         "x": [
          "2023-09-13",
          "2023-10-04",
          "2023-10-11",
          "2023-10-18",
          "2023-10-25",
          "2023-11-08",
          "2023-11-15",
          "2023-12-06",
          "2023-12-13",
          "2024-01-03",
          "2024-02-07",
          "2024-02-14",
          "2024-02-28",
          "2024-04-24",
          "2024-05-15"
         ],
         "xaxis": "x",
         "y": {
          "bdata": "/vLfMt/67z+Hkdb2XvnvP4eR1vZe+e8/h5HW9l757z/fKt8tv/rvP98q3y2/+u8/2WvlVb/77z+D3/zrf//vPyWH+twf/+8/JYf63B//7z8lh/rcH//vPyWH+twf/+8/AAAAAAAA8D+JnvbDf/7vP6hm98if/u8/",
          "dtype": "f8"
         },
         "yaxis": "y"
        },
        {
         "customdata": [
          [
           "I:164 P:45"
          ],
          [
           "I:164 P:45"
          ],
          [
           "I:164 P:45"
          ],
          [
           "I:164 P:45"
          ],
          [
           "I:164 P:45"
          ],
          [
           "I:164 P:45"
          ],
          [
           "I:164 P:45"
          ],
          [
           "I:164 P:45"
          ],
          [
           "I:164 P:45"
          ],
          [
           "I:164 P:45"
          ],
          [
           "I:164 P:45"
          ],
          [
           "I:164 P:45"
          ],
          [
           "I:164 P:45"
          ],
          [
           "I:164 P:45"
          ],
          [
           "I:164 P:45"
          ]
         ],
         "hovertemplate": "Part&item=%{customdata[0]}<br>date=%{x}<br>value=%{y}<extra></extra>",
         "legendgroup": "I:164 P:45",
         "line": {
          "color": "#19d3f3",
          "dash": "solid"
         },
         "marker": {
          "symbol": "circle"
         },
         "mode": "lines+markers",
         "name": "I:164 P:45",
         "orientation": "v",
         "showlegend": true,
         "type": "scatter",
         "x": [
          "2023-09-13",
          "2023-10-04",
          "2023-10-11",
          "2023-10-18",
          "2023-10-25",
          "2023-11-08",
          "2023-11-15",
          "2023-12-06",
          "2023-12-13",
          "2024-01-03",
          "2024-02-07",
          "2024-02-14",
          "2024-02-28",
          "2024-04-24",
          "2024-05-15"
         ],
         "xaxis": "x",
         "y": {
          "bdata": "HbvgN//67z/FIdgAn/nvP7LXyqt+9+8/xSHYAJ/57z9cS+JBP/vvPx274Df/+u8/F/zmX//77z/hN//63//vP6Kn/fCf/+8/oqf98J//7z+D3/zrf//vP4Pf/Ot//+8/AAAAAAAA8D/HLvjNv/7vP64l8aCf/e8/",
          "dtype": "f8"
         },
         "yaxis": "y"
        },
        {
         "customdata": [
          [
           "I:165 P:1"
          ],
          [
           "I:165 P:1"
          ],
          [
           "I:165 P:1"
          ],
          [
           "I:165 P:1"
          ],
          [
           "I:165 P:1"
          ],
          [
           "I:165 P:1"
          ],
          [
           "I:165 P:1"
          ],
          [
           "I:165 P:1"
          ],
          [
           "I:165 P:1"
          ],
          [
           "I:165 P:1"
          ],
          [
           "I:165 P:1"
          ],
          [
           "I:165 P:1"
          ],
          [
           "I:165 P:1"
          ],
          [
           "I:165 P:1"
          ],
          [
           "I:165 P:1"
          ]
         ],
         "hovertemplate": "Part&item=%{customdata[0]}<br>date=%{x}<br>value=%{y}<extra></extra>",
         "legendgroup": "I:165 P:1",
         "line": {
          "color": "#FF6692",
          "dash": "solid"
         },
         "marker": {
          "symbol": "circle"
         },
         "mode": "lines+markers",
         "name": "I:165 P:1",
         "orientation": "v",
         "showlegend": true,
         "type": "scatter",
         "x": [
          "2023-09-13",
          "2023-10-04",
          "2023-10-11",
          "2023-10-18",
          "2023-10-25",
          "2023-11-08",
          "2023-11-15",
          "2023-12-06",
          "2023-12-13",
          "2024-01-03",
          "2024-02-07",
          "2024-02-14",
          "2024-02-28",
          "2024-04-24",
          "2024-05-15"
         ],
         "xaxis": "x",
         "y": {
          "bdata": "7+7u7u7u3j8RERERERHhPxEREREREeE/ERERERER4T+amZmZmZnZP5qZmZmZmdk/AAAAAAAA4D8AAAAAAADwP83MzMzMzOw/zczMzMzM7D/NzMzMzMzsP83MzMzMzOw/AAAAAAAA8D8AAAAAAADwP97d3d3d3d0/",
          "dtype": "f8"
         },
         "yaxis": "y"
        },
        {
         "customdata": [
          [
           "I:187 P:1"
          ],
          [
           "I:187 P:1"
          ],
          [
           "I:187 P:1"
          ],
          [
           "I:187 P:1"
          ],
          [
           "I:187 P:1"
          ],
          [
           "I:187 P:1"
          ],
          [
           "I:187 P:1"
          ],
          [
           "I:187 P:1"
          ],
          [
           "I:187 P:1"
          ],
          [
           "I:187 P:1"
          ],
          [
           "I:187 P:1"
          ],
          [
           "I:187 P:1"
          ],
          [
           "I:187 P:1"
          ],
          [
           "I:187 P:1"
          ],
          [
           "I:187 P:1"
          ]
         ],
         "hovertemplate": "Part&item=%{customdata[0]}<br>date=%{x}<br>value=%{y}<extra></extra>",
         "legendgroup": "I:187 P:1",
         "line": {
          "color": "#B6E880",
          "dash": "solid"
         },
         "marker": {
          "symbol": "circle"
         },
         "mode": "lines+markers",
         "name": "I:187 P:1",
         "orientation": "v",
         "showlegend": true,
         "type": "scatter",
         "x": [
          "2023-09-13",
          "2023-10-04",
          "2023-10-11",
          "2023-10-18",
          "2023-10-25",
          "2023-11-08",
          "2023-11-15",
          "2023-12-06",
          "2023-12-13",
          "2024-01-03",
          "2024-02-07",
          "2024-02-14",
          "2024-02-28",
          "2024-04-24",
          "2024-05-15"
         ],
         "xaxis": "x",
         "y": {
          "bdata": "AAAAAAAA8D/iRoM+vN/vP+JGgz683+8/4kaDPrzf7z/iRoM+vN/vP+JGgz683+8/x6eADIz57z+NTwEZGPPvP+NTQAbG/O8/41NABsb87z/jU0AGxvzvP+NTQAbG/O8/41NABsb87z/jU0AGxvzvP41PARkY8+8/",
          "dtype": "f8"
         },
         "yaxis": "y"
        },
        {
         "customdata": [
          [
           "I:230 P:1"
          ],
          [
           "I:230 P:1"
          ],
          [
           "I:230 P:1"
          ],
          [
           "I:230 P:1"
          ],
          [
           "I:230 P:1"
          ],
          [
           "I:230 P:1"
          ],
          [
           "I:230 P:1"
          ],
          [
           "I:230 P:1"
          ],
          [
           "I:230 P:1"
          ],
          [
           "I:230 P:1"
          ],
          [
           "I:230 P:1"
          ],
          [
           "I:230 P:1"
          ],
          [
           "I:230 P:1"
          ],
          [
           "I:230 P:1"
          ],
          [
           "I:230 P:1"
          ]
         ],
         "hovertemplate": "Part&item=%{customdata[0]}<br>date=%{x}<br>value=%{y}<extra></extra>",
         "legendgroup": "I:230 P:1",
         "line": {
          "color": "#FF97FF",
          "dash": "solid"
         },
         "marker": {
          "symbol": "circle"
         },
         "mode": "lines+markers",
         "name": "I:230 P:1",
         "orientation": "v",
         "showlegend": true,
         "type": "scatter",
         "x": [
          "2023-09-13",
          "2023-10-04",
          "2023-10-11",
          "2023-10-18",
          "2023-10-25",
          "2023-11-08",
          "2023-11-15",
          "2023-12-06",
          "2023-12-13",
          "2024-01-03",
          "2024-02-07",
          "2024-02-14",
          "2024-02-28",
          "2024-04-24",
          "2024-05-15"
         ],
         "xaxis": "x",
         "y": {
          "bdata": "CskFvN5G7z+jPxSSC3jtP6M/FJILeO0/oz8Ukgt47T+jPxSSC3jtP6M/FJILeO0/oz8Ukgt47T8AAAAAAADwPwAAAAAAAPA/AAAAAAAA8D8AAAAAAADwPwAAAAAAAPA/AAAAAAAA8D8AAAAAAADwPwAAAAAAAPA/",
          "dtype": "f8"
         },
         "yaxis": "y"
        },
        {
         "customdata": [
          [
           "I:304 P:1"
          ],
          [
           "I:304 P:1"
          ],
          [
           "I:304 P:1"
          ],
          [
           "I:304 P:1"
          ],
          [
           "I:304 P:1"
          ],
          [
           "I:304 P:1"
          ],
          [
           "I:304 P:1"
          ],
          [
           "I:304 P:1"
          ],
          [
           "I:304 P:1"
          ],
          [
           "I:304 P:1"
          ],
          [
           "I:304 P:1"
          ],
          [
           "I:304 P:1"
          ],
          [
           "I:304 P:1"
          ],
          [
           "I:304 P:1"
          ],
          [
           "I:304 P:1"
          ]
         ],
         "hovertemplate": "Part&item=%{customdata[0]}<br>date=%{x}<br>value=%{y}<extra></extra>",
         "legendgroup": "I:304 P:1",
         "line": {
          "color": "#FECB52",
          "dash": "solid"
         },
         "marker": {
          "symbol": "circle"
         },
         "mode": "lines+markers",
         "name": "I:304 P:1",
         "orientation": "v",
         "showlegend": true,
         "type": "scatter",
         "x": [
          "2023-09-13",
          "2023-10-04",
          "2023-10-11",
          "2023-10-18",
          "2023-10-25",
          "2023-11-08",
          "2023-11-15",
          "2023-12-06",
          "2023-12-13",
          "2024-01-03",
          "2024-02-07",
          "2024-02-14",
          "2024-02-28",
          "2024-04-24",
          "2024-05-15"
         ],
         "xaxis": "x",
         "y": {
          "bdata": "HuSuny1W7j8e5K6fLVbuPx7krp8tVu4/HuSuny1W7j8e5K6fLVbuPx7krp8tVu4/HuSuny1W7j8mnZoHuevvPyadmge56+8/Jp2aB7nr7z8mnZoHuevvPyadmge56+8/AAAAAAAA8D8AAAAAAADwPzDp1DzIXe8/",
          "dtype": "f8"
         },
         "yaxis": "y"
        },
        {
         "customdata": [
          [
           "I:305 P:1"
          ],
          [
           "I:305 P:1"
          ],
          [
           "I:305 P:1"
          ],
          [
           "I:305 P:1"
          ],
          [
           "I:305 P:1"
          ],
          [
           "I:305 P:1"
          ],
          [
           "I:305 P:1"
          ],
          [
           "I:305 P:1"
          ],
          [
           "I:305 P:1"
          ],
          [
           "I:305 P:1"
          ],
          [
           "I:305 P:1"
          ],
          [
           "I:305 P:1"
          ],
          [
           "I:305 P:1"
          ],
          [
           "I:305 P:1"
          ],
          [
           "I:305 P:1"
          ]
         ],
         "hovertemplate": "Part&item=%{customdata[0]}<br>date=%{x}<br>value=%{y}<extra></extra>",
         "legendgroup": "I:305 P:1",
         "line": {
          "color": "#636efa",
          "dash": "solid"
         },
         "marker": {
          "symbol": "circle"
         },
         "mode": "lines+markers",
         "name": "I:305 P:1",
         "orientation": "v",
         "showlegend": true,
         "type": "scatter",
         "x": [
          "2023-09-13",
          "2023-10-04",
          "2023-10-11",
          "2023-10-18",
          "2023-10-25",
          "2023-11-08",
          "2023-11-15",
          "2023-12-06",
          "2023-12-13",
          "2024-01-03",
          "2024-02-07",
          "2024-02-14",
          "2024-02-28",
          "2024-04-24",
          "2024-05-15"
         ],
         "xaxis": "x",
         "y": {
          "bdata": "E0000UQT7T8TTTTRRBPtPxNNNNFEE+0/E0000UQT7T8TTTTRRBPtPxNNNNFEE+0/E0000UQT7T/43nvvvffuP/jee++99+4/+N5777337j/43nvvvffuP/jee++99+4/+N5777337j/43nvvvffuPwAAAAAAAPA/",
          "dtype": "f8"
         },
         "yaxis": "y"
        },
        {
         "customdata": [
          [
           "I:315 P:1"
          ],
          [
           "I:315 P:1"
          ],
          [
           "I:315 P:1"
          ],
          [
           "I:315 P:1"
          ],
          [
           "I:315 P:1"
          ],
          [
           "I:315 P:1"
          ],
          [
           "I:315 P:1"
          ],
          [
           "I:315 P:1"
          ],
          [
           "I:315 P:1"
          ],
          [
           "I:315 P:1"
          ],
          [
           "I:315 P:1"
          ],
          [
           "I:315 P:1"
          ],
          [
           "I:315 P:1"
          ],
          [
           "I:315 P:1"
          ],
          [
           "I:315 P:1"
          ]
         ],
         "hovertemplate": "Part&item=%{customdata[0]}<br>date=%{x}<br>value=%{y}<extra></extra>",
         "legendgroup": "I:315 P:1",
         "line": {
          "color": "#EF553B",
          "dash": "solid"
         },
         "marker": {
          "symbol": "circle"
         },
         "mode": "lines+markers",
         "name": "I:315 P:1",
         "orientation": "v",
         "showlegend": true,
         "type": "scatter",
         "x": [
          "2023-09-13",
          "2023-10-04",
          "2023-10-11",
          "2023-10-18",
          "2023-10-25",
          "2023-11-08",
          "2023-11-15",
          "2023-12-06",
          "2023-12-13",
          "2024-01-03",
          "2024-02-07",
          "2024-02-14",
          "2024-02-28",
          "2024-04-24",
          "2024-05-15"
         ],
         "xaxis": "x",
         "y": {
          "bdata": "AAAAAAAA8D8bIPzldc7uPxsg/OV1zu4/GyD85XXO7j8bIPzldc7uPxsg/OV1zu4/GyD85XXO7j8bIPzldc7uPxsg/OV1zu4/GyD85XXO7j8bIPzldc7uP6HsfU0Iyu4/oex9TQjK7j+h7H1NCMruP6HsfU0Iyu4/",
          "dtype": "f8"
         },
         "yaxis": "y"
        },
        {
         "customdata": [
          [
           "I:327 P:1"
          ],
          [
           "I:327 P:1"
          ],
          [
           "I:327 P:1"
          ],
          [
           "I:327 P:1"
          ],
          [
           "I:327 P:1"
          ],
          [
           "I:327 P:1"
          ],
          [
           "I:327 P:1"
          ],
          [
           "I:327 P:1"
          ],
          [
           "I:327 P:1"
          ],
          [
           "I:327 P:1"
          ],
          [
           "I:327 P:1"
          ],
          [
           "I:327 P:1"
          ],
          [
           "I:327 P:1"
          ],
          [
           "I:327 P:1"
          ],
          [
           "I:327 P:1"
          ]
         ],
         "hovertemplate": "Part&item=%{customdata[0]}<br>date=%{x}<br>value=%{y}<extra></extra>",
         "legendgroup": "I:327 P:1",
         "line": {
          "color": "#00cc96",
          "dash": "solid"
         },
         "marker": {
          "symbol": "circle"
         },
         "mode": "lines+markers",
         "name": "I:327 P:1",
         "orientation": "v",
         "showlegend": true,
         "type": "scatter",
         "x": [
          "2023-09-13",
          "2023-10-04",
          "2023-10-11",
          "2023-10-18",
          "2023-10-25",
          "2023-11-08",
          "2023-11-15",
          "2023-12-06",
          "2023-12-13",
          "2024-01-03",
          "2024-02-07",
          "2024-02-14",
          "2024-02-28",
          "2024-04-24",
          "2024-05-15"
         ],
         "xaxis": "x",
         "y": {
          "bdata": "AAAAAAAA8D/9E6UAu9bvP/+JUoBd6+8//ROlALvW7z/9WM7AaczvP/viIEHHt+8/+ydKAXat7z/1lL3CmlDvP/WUvcKaUO8/9ZS9wppQ7z/yqGLDVSfvP/KoYsNVJ+8/8LwHxBD+7j/wvAfEEP7uP+8BMYS/8+4/",
          "dtype": "f8"
         },
         "yaxis": "y"
        },
        {
         "customdata": [
          [
           "I:332 P:1"
          ],
          [
           "I:332 P:1"
          ],
          [
           "I:332 P:1"
          ],
          [
           "I:332 P:1"
          ],
          [
           "I:332 P:1"
          ],
          [
           "I:332 P:1"
          ],
          [
           "I:332 P:1"
          ],
          [
           "I:332 P:1"
          ],
          [
           "I:332 P:1"
          ],
          [
           "I:332 P:1"
          ],
          [
           "I:332 P:1"
          ],
          [
           "I:332 P:1"
          ],
          [
           "I:332 P:1"
          ],
          [
           "I:332 P:1"
          ],
          [
           "I:332 P:1"
          ]
         ],
         "hovertemplate": "Part&item=%{customdata[0]}<br>date=%{x}<br>value=%{y}<extra></extra>",
         "legendgroup": "I:332 P:1",
         "line": {
          "color": "#ab63fa",
          "dash": "solid"
         },
         "marker": {
          "symbol": "circle"
         },
         "mode": "lines+markers",
         "name": "I:332 P:1",
         "orientation": "v",
         "showlegend": true,
         "type": "scatter",
         "x": [
          "2023-09-13",
          "2023-10-04",
          "2023-10-11",
          "2023-10-18",
          "2023-10-25",
          "2023-11-08",
          "2023-11-15",
          "2023-12-06",
          "2023-12-13",
          "2024-01-03",
          "2024-02-07",
          "2024-02-14",
          "2024-02-28",
          "2024-04-24",
          "2024-05-15"
         ],
         "xaxis": "x",
         "y": {
          "bdata": "586dO3fu3D/nzp07d+7cP+fOnTt37tw/586dO3fu3D/nzp07d+7cP+fOnTt37tw/586dO3fu3D8AAAAAAADwPwAAAAAAAPA/AAAAAAAA8D8AAAAAAADwPwAAAAAAAPA/AAAAAAAA8D8AAAAAAADwP69evXr16uU/",
          "dtype": "f8"
         },
         "yaxis": "y"
        },
        {
         "customdata": [
          [
           "I:44 P:141"
          ],
          [
           "I:44 P:141"
          ],
          [
           "I:44 P:141"
          ],
          [
           "I:44 P:141"
          ],
          [
           "I:44 P:141"
          ],
          [
           "I:44 P:141"
          ],
          [
           "I:44 P:141"
          ],
          [
           "I:44 P:141"
          ],
          [
           "I:44 P:141"
          ],
          [
           "I:44 P:141"
          ],
          [
           "I:44 P:141"
          ],
          [
           "I:44 P:141"
          ],
          [
           "I:44 P:141"
          ],
          [
           "I:44 P:141"
          ],
          [
           "I:44 P:141"
          ]
         ],
         "hovertemplate": "Part&item=%{customdata[0]}<br>date=%{x}<br>value=%{y}<extra></extra>",
         "legendgroup": "I:44 P:141",
         "line": {
          "color": "#FFA15A",
          "dash": "solid"
         },
         "marker": {
          "symbol": "circle"
         },
         "mode": "lines+markers",
         "name": "I:44 P:141",
         "orientation": "v",
         "showlegend": true,
         "type": "scatter",
         "x": [
          "2023-09-13",
          "2023-10-04",
          "2023-10-11",
          "2023-10-18",
          "2023-10-25",
          "2023-11-08",
          "2023-11-15",
          "2023-12-06",
          "2023-12-13",
          "2024-01-03",
          "2024-02-07",
          "2024-02-14",
          "2024-02-28",
          "2024-04-24",
          "2024-05-15"
         ],
         "xaxis": "x",
         "y": {
          "bdata": "AAAAAAAA8D8AAAAAAADwP5cMwTravO8/lwzBOtq87z+XDME62rzvP5cMwTravO8/lwzBOtq87z+XDME62rzvP5cMwTravO8/lwzBOtq87z+XDME62rzvP5cMwTravO8/B3hBUv6h7z8HeEFS/qHvPy4ZgnW0ee8/",
          "dtype": "f8"
         },
         "yaxis": "y"
        },
        {
         "customdata": [
          [
           "I:70 P:45"
          ],
          [
           "I:70 P:45"
          ],
          [
           "I:70 P:45"
          ],
          [
           "I:70 P:45"
          ],
          [
           "I:70 P:45"
          ],
          [
           "I:70 P:45"
          ],
          [
           "I:70 P:45"
          ],
          [
           "I:70 P:45"
          ],
          [
           "I:70 P:45"
          ],
          [
           "I:70 P:45"
          ],
          [
           "I:70 P:45"
          ],
          [
           "I:70 P:45"
          ],
          [
           "I:70 P:45"
          ],
          [
           "I:70 P:45"
          ],
          [
           "I:70 P:45"
          ]
         ],
         "hovertemplate": "Part&item=%{customdata[0]}<br>date=%{x}<br>value=%{y}<extra></extra>",
         "legendgroup": "I:70 P:45",
         "line": {
          "color": "#19d3f3",
          "dash": "solid"
         },
         "marker": {
          "symbol": "circle"
         },
         "mode": "lines+markers",
         "name": "I:70 P:45",
         "orientation": "v",
         "showlegend": true,
         "type": "scatter",
         "x": [
          "2023-09-13",
          "2023-10-04",
          "2023-10-11",
          "2023-10-18",
          "2023-10-25",
          "2023-11-08",
          "2023-11-15",
          "2023-12-06",
          "2023-12-13",
          "2024-01-03",
          "2024-02-07",
          "2024-02-14",
          "2024-02-28",
          "2024-04-24",
          "2024-05-15"
         ],
         "xaxis": "x",
         "y": {
          "bdata": "AAaAAWAAGD8AAAAAAADwP85z89w8N+c/AAVAAVAAJD8A/P/+v//vPwAAAAAAAPA/AAVAAVAAJD8ABAABQAAQPwAAAAAAAPA/AAQAAUAAED8ABAABQAAgPwAAAAAAAAAAAAQAAUAAED8ABAABQAAgPwAEAAFAACA/",
          "dtype": "f8"
         },
         "yaxis": "y"
        },
        {
         "customdata": [
          [
           "I:97 P:1"
          ],
          [
           "I:97 P:1"
          ],
          [
           "I:97 P:1"
          ],
          [
           "I:97 P:1"
          ],
          [
           "I:97 P:1"
          ],
          [
           "I:97 P:1"
          ],
          [
           "I:97 P:1"
          ],
          [
           "I:97 P:1"
          ],
          [
           "I:97 P:1"
          ],
          [
           "I:97 P:1"
          ],
          [
           "I:97 P:1"
          ],
          [
           "I:97 P:1"
          ],
          [
           "I:97 P:1"
          ],
          [
           "I:97 P:1"
          ],
          [
           "I:97 P:1"
          ]
         ],
         "hovertemplate": "Part&item=%{customdata[0]}<br>date=%{x}<br>value=%{y}<extra></extra>",
         "legendgroup": "I:97 P:1",
         "line": {
          "color": "#FF6692",
          "dash": "solid"
         },
         "marker": {
          "symbol": "circle"
         },
         "mode": "lines+markers",
         "name": "I:97 P:1",
         "orientation": "v",
         "showlegend": true,
         "type": "scatter",
         "x": [
          "2023-09-13",
          "2023-10-04",
          "2023-10-11",
          "2023-10-18",
          "2023-10-25",
          "2023-11-08",
          "2023-11-15",
          "2023-12-06",
          "2023-12-13",
          "2024-01-03",
          "2024-02-07",
          "2024-02-14",
          "2024-02-28",
          "2024-04-24",
          "2024-05-15"
         ],
         "xaxis": "x",
         "y": {
          "bdata": "7+7u7u7u7j/v7u7u7u7uP+/u7u7u7u4/7+7u7u7u7j/v7u7u7u7uP+/u7u7u7u4/7+7u7u7u7j/v7u7u7u7uP+/u7u7u7u4/AAAAAAAA8D8AAAAAAADwPwAAAAAAAPA/AAAAAAAA8D8AAAAAAADwPwAAAAAAAPA/",
          "dtype": "f8"
         },
         "yaxis": "y"
        }
       ],
       "layout": {
        "legend": {
         "title": {
          "text": "Part&item"
         },
         "tracegroupgap": 0
        },
        "template": {
         "data": {
          "bar": [
           {
            "error_x": {
             "color": "#2a3f5f"
            },
            "error_y": {
             "color": "#2a3f5f"
            },
            "marker": {
             "line": {
              "color": "#E5ECF6",
              "width": 0.5
             },
             "pattern": {
              "fillmode": "overlay",
              "size": 10,
              "solidity": 0.2
             }
            },
            "type": "bar"
           }
          ],
          "barpolar": [
           {
            "marker": {
             "line": {
              "color": "#E5ECF6",
              "width": 0.5
             },
             "pattern": {
              "fillmode": "overlay",
              "size": 10,
              "solidity": 0.2
             }
            },
            "type": "barpolar"
           }
          ],
          "carpet": [
           {
            "aaxis": {
             "endlinecolor": "#2a3f5f",
             "gridcolor": "white",
             "linecolor": "white",
             "minorgridcolor": "white",
             "startlinecolor": "#2a3f5f"
            },
            "baxis": {
             "endlinecolor": "#2a3f5f",
             "gridcolor": "white",
             "linecolor": "white",
             "minorgridcolor": "white",
             "startlinecolor": "#2a3f5f"
            },
            "type": "carpet"
           }
          ],
          "choropleth": [
           {
            "colorbar": {
             "outlinewidth": 0,
             "ticks": ""
            },
            "type": "choropleth"
           }
          ],
          "contour": [
           {
            "colorbar": {
             "outlinewidth": 0,
             "ticks": ""
            },
            "colorscale": [
             [
              0,
              "#0d0887"
             ],
             [
              0.1111111111111111,
              "#46039f"
             ],
             [
              0.2222222222222222,
              "#7201a8"
             ],
             [
              0.3333333333333333,
              "#9c179e"
             ],
             [
              0.4444444444444444,
              "#bd3786"
             ],
             [
              0.5555555555555556,
              "#d8576b"
             ],
             [
              0.6666666666666666,
              "#ed7953"
             ],
             [
              0.7777777777777778,
              "#fb9f3a"
             ],
             [
              0.8888888888888888,
              "#fdca26"
             ],
             [
              1,
              "#f0f921"
             ]
            ],
            "type": "contour"
           }
          ],
          "contourcarpet": [
           {
            "colorbar": {
             "outlinewidth": 0,
             "ticks": ""
            },
            "type": "contourcarpet"
           }
          ],
          "heatmap": [
           {
            "colorbar": {
             "outlinewidth": 0,
             "ticks": ""
            },
            "colorscale": [
             [
              0,
              "#0d0887"
             ],
             [
              0.1111111111111111,
              "#46039f"
             ],
             [
              0.2222222222222222,
              "#7201a8"
             ],
             [
              0.3333333333333333,
              "#9c179e"
             ],
             [
              0.4444444444444444,
              "#bd3786"
             ],
             [
              0.5555555555555556,
              "#d8576b"
             ],
             [
              0.6666666666666666,
              "#ed7953"
             ],
             [
              0.7777777777777778,
              "#fb9f3a"
             ],
             [
              0.8888888888888888,
              "#fdca26"
             ],
             [
              1,
              "#f0f921"
             ]
            ],
            "type": "heatmap"
           }
          ],
          "histogram": [
           {
            "marker": {
             "pattern": {
              "fillmode": "overlay",
              "size": 10,
              "solidity": 0.2
             }
            },
            "type": "histogram"
           }
          ],
          "histogram2d": [
           {
            "colorbar": {
             "outlinewidth": 0,
             "ticks": ""
            },
            "colorscale": [
             [
              0,
              "#0d0887"
             ],
             [
              0.1111111111111111,
              "#46039f"
             ],
             [
              0.2222222222222222,
              "#7201a8"
             ],
             [
              0.3333333333333333,
              "#9c179e"
             ],
             [
              0.4444444444444444,
              "#bd3786"
             ],
             [
              0.5555555555555556,
              "#d8576b"
             ],
             [
              0.6666666666666666,
              "#ed7953"
             ],
             [
              0.7777777777777778,
              "#fb9f3a"
             ],
             [
              0.8888888888888888,
              "#fdca26"
             ],
             [
              1,
              "#f0f921"
             ]
            ],
            "type": "histogram2d"
           }
          ],
          "histogram2dcontour": [
           {
            "colorbar": {
             "outlinewidth": 0,
             "ticks": ""
            },
            "colorscale": [
             [
              0,
              "#0d0887"
             ],
             [
              0.1111111111111111,
              "#46039f"
             ],
             [
              0.2222222222222222,
              "#7201a8"
             ],
             [
              0.3333333333333333,
              "#9c179e"
             ],
             [
              0.4444444444444444,
              "#bd3786"
             ],
             [
              0.5555555555555556,
              "#d8576b"
             ],
             [
              0.6666666666666666,
              "#ed7953"
             ],
             [
              0.7777777777777778,
              "#fb9f3a"
             ],
             [
              0.8888888888888888,
              "#fdca26"
             ],
             [
              1,
              "#f0f921"
             ]
            ],
            "type": "histogram2dcontour"
           }
          ],
          "mesh3d": [
           {
            "colorbar": {
             "outlinewidth": 0,
             "ticks": ""
            },
            "type": "mesh3d"
           }
          ],
          "parcoords": [
           {
            "line": {
             "colorbar": {
              "outlinewidth": 0,
              "ticks": ""
             }
            },
            "type": "parcoords"
           }
          ],
          "pie": [
           {
            "automargin": true,
            "type": "pie"
           }
          ],
          "scatter": [
           {
            "fillpattern": {
             "fillmode": "overlay",
             "size": 10,
             "solidity": 0.2
            },
            "type": "scatter"
           }
          ],
          "scatter3d": [
           {
            "line": {
             "colorbar": {
              "outlinewidth": 0,
              "ticks": ""
             }
            },
            "marker": {
             "colorbar": {
              "outlinewidth": 0,
              "ticks": ""
             }
            },
            "type": "scatter3d"
           }
          ],
          "scattercarpet": [
           {
            "marker": {
             "colorbar": {
              "outlinewidth": 0,
              "ticks": ""
             }
            },
            "type": "scattercarpet"
           }
          ],
          "scattergeo": [
           {
            "marker": {
             "colorbar": {
              "outlinewidth": 0,
              "ticks": ""
             }
            },
            "type": "scattergeo"
           }
          ],
          "scattergl": [
           {
            "marker": {
             "colorbar": {
              "outlinewidth": 0,
              "ticks": ""
             }
            },
            "type": "scattergl"
           }
          ],
          "scattermap": [
           {
            "marker": {
             "colorbar": {
              "outlinewidth": 0,
              "ticks": ""
             }
            },
            "type": "scattermap"
           }
          ],
          "scattermapbox": [
           {
            "marker": {
             "colorbar": {
              "outlinewidth": 0,
              "ticks": ""
             }
            },
            "type": "scattermapbox"
           }
          ],
          "scatterpolar": [
           {
            "marker": {
             "colorbar": {
              "outlinewidth": 0,
              "ticks": ""
             }
            },
            "type": "scatterpolar"
           }
          ],
          "scatterpolargl": [
           {
            "marker": {
             "colorbar": {
              "outlinewidth": 0,
              "ticks": ""
             }
            },
            "type": "scatterpolargl"
           }
          ],
          "scatterternary": [
           {
            "marker": {
             "colorbar": {
              "outlinewidth": 0,
              "ticks": ""
             }
            },
            "type": "scatterternary"
           }
          ],
          "surface": [
           {
            "colorbar": {
             "outlinewidth": 0,
             "ticks": ""
            },
            "colorscale": [
             [
              0,
              "#0d0887"
             ],
             [
              0.1111111111111111,
              "#46039f"
             ],
             [
              0.2222222222222222,
              "#7201a8"
             ],
             [
              0.3333333333333333,
              "#9c179e"
             ],
             [
              0.4444444444444444,
              "#bd3786"
             ],
             [
              0.5555555555555556,
              "#d8576b"
             ],
             [
              0.6666666666666666,
              "#ed7953"
             ],
             [
              0.7777777777777778,
              "#fb9f3a"
             ],
             [
              0.8888888888888888,
              "#fdca26"
             ],
             [
              1,
              "#f0f921"
             ]
            ],
            "type": "surface"
           }
          ],
          "table": [
           {
            "cells": {
             "fill": {
              "color": "#EBF0F8"
             },
             "line": {
              "color": "white"
             }
            },
            "header": {
             "fill": {
              "color": "#C8D4E3"
             },
             "line": {
              "color": "white"
             }
            },
            "type": "table"
           }
          ]
         },
         "layout": {
          "annotationdefaults": {
           "arrowcolor": "#2a3f5f",
           "arrowhead": 0,
           "arrowwidth": 1
          },
          "autotypenumbers": "strict",
          "coloraxis": {
           "colorbar": {
            "outlinewidth": 0,
            "ticks": ""
           }
          },
          "colorscale": {
           "diverging": [
            [
             0,
             "#8e0152"
            ],
            [
             0.1,
             "#c51b7d"
            ],
            [
             0.2,
             "#de77ae"
            ],
            [
             0.3,
             "#f1b6da"
            ],
            [
             0.4,
             "#fde0ef"
            ],
            [
             0.5,
             "#f7f7f7"
            ],
            [
             0.6,
             "#e6f5d0"
            ],
            [
             0.7,
             "#b8e186"
            ],
            [
             0.8,
             "#7fbc41"
            ],
            [
             0.9,
             "#4d9221"
            ],
            [
             1,
             "#276419"
            ]
           ],
           "sequential": [
            [
             0,
             "#0d0887"
            ],
            [
             0.1111111111111111,
             "#46039f"
            ],
            [
             0.2222222222222222,
             "#7201a8"
            ],
            [
             0.3333333333333333,
             "#9c179e"
            ],
            [
             0.4444444444444444,
             "#bd3786"
            ],
            [
             0.5555555555555556,
             "#d8576b"
            ],
            [
             0.6666666666666666,
             "#ed7953"
            ],
            [
             0.7777777777777778,
             "#fb9f3a"
            ],
            [
             0.8888888888888888,
             "#fdca26"
            ],
            [
             1,
             "#f0f921"
            ]
           ],
           "sequentialminus": [
            [
             0,
             "#0d0887"
            ],
            [
             0.1111111111111111,
             "#46039f"
            ],
            [
             0.2222222222222222,
             "#7201a8"
            ],
            [
             0.3333333333333333,
             "#9c179e"
            ],
            [
             0.4444444444444444,
             "#bd3786"
            ],
            [
             0.5555555555555556,
             "#d8576b"
            ],
            [
             0.6666666666666666,
             "#ed7953"
            ],
            [
             0.7777777777777778,
             "#fb9f3a"
            ],
            [
             0.8888888888888888,
             "#fdca26"
            ],
            [
             1,
             "#f0f921"
            ]
           ]
          },
          "colorway": [
           "#636efa",
           "#EF553B",
           "#00cc96",
           "#ab63fa",
           "#FFA15A",
           "#19d3f3",
           "#FF6692",
           "#B6E880",
           "#FF97FF",
           "#FECB52"
          ],
          "font": {
           "color": "#2a3f5f"
          },
          "geo": {
           "bgcolor": "white",
           "lakecolor": "white",
           "landcolor": "#E5ECF6",
           "showlakes": true,
           "showland": true,
           "subunitcolor": "white"
          },
          "hoverlabel": {
           "align": "left"
          },
          "hovermode": "closest",
          "mapbox": {
           "style": "light"
          },
          "paper_bgcolor": "white",
          "plot_bgcolor": "#E5ECF6",
          "polar": {
           "angularaxis": {
            "gridcolor": "white",
            "linecolor": "white",
            "ticks": ""
           },
           "bgcolor": "#E5ECF6",
           "radialaxis": {
            "gridcolor": "white",
            "linecolor": "white",
            "ticks": ""
           }
          },
          "scene": {
           "xaxis": {
            "backgroundcolor": "#E5ECF6",
            "gridcolor": "white",
            "gridwidth": 2,
            "linecolor": "white",
            "showbackground": true,
            "ticks": "",
            "zerolinecolor": "white"
           },
           "yaxis": {
            "backgroundcolor": "#E5ECF6",
            "gridcolor": "white",
            "gridwidth": 2,
            "linecolor": "white",
            "showbackground": true,
            "ticks": "",
            "zerolinecolor": "white"
           },
           "zaxis": {
            "backgroundcolor": "#E5ECF6",
            "gridcolor": "white",
            "gridwidth": 2,
            "linecolor": "white",
            "showbackground": true,
            "ticks": "",
            "zerolinecolor": "white"
           }
          },
          "shapedefaults": {
           "line": {
            "color": "#2a3f5f"
           }
          },
          "ternary": {
           "aaxis": {
            "gridcolor": "white",
            "linecolor": "white",
            "ticks": ""
           },
           "baxis": {
            "gridcolor": "white",
            "linecolor": "white",
            "ticks": ""
           },
           "bgcolor": "#E5ECF6",
           "caxis": {
            "gridcolor": "white",
            "linecolor": "white",
            "ticks": ""
           }
          },
          "title": {
           "x": 0.05
          },
          "xaxis": {
           "automargin": true,
           "gridcolor": "white",
           "linecolor": "white",
           "ticks": "",
           "title": {
            "standoff": 15
           },
           "zerolinecolor": "white",
           "zerolinewidth": 2
          },
          "yaxis": {
           "automargin": true,
           "gridcolor": "white",
           "linecolor": "white",
           "ticks": "",
           "title": {
            "standoff": 15
           },
           "zerolinecolor": "white",
           "zerolinewidth": 2
          }
         }
        },
        "title": {
         "text": "I:381 P:1 correlation items en parts"
        },
        "xaxis": {
         "anchor": "y",
         "domain": [
          0,
          1
         ],
         "title": {
          "text": "date"
         }
        },
        "yaxis": {
         "anchor": "x",
         "domain": [
          0,
          1
         ],
         "title": {
          "text": "value"
         }
        }
       }
      }
     },
     "metadata": {},
     "output_type": "display_data"
    }
   ],
   "source": [
    "\n",
    "fig = px.line(new_plotting[new_plotting[\"Part&item\"].isin(df_381[\"Item 2\"])]\n",
    ", x=\"date\", y=\"value\" ,color=\"Part&item\",\n",
    "              title=\"I:381 P:1 correlation items en parts\", \n",
    "              hover_data=\"Part&item\", markers=True)\n",
    "\n",
    "\n",
    "fig.show()\n"
   ]
  },
  {
   "cell_type": "code",
   "execution_count": 33,
   "metadata": {},
   "outputs": [
    {
     "data": {
      "application/vnd.plotly.v1+json": {
       "config": {
        "plotlyServerURL": "https://plot.ly"
       },
       "data": [
        {
         "customdata": [
          [
           "I:44 P:141"
          ],
          [
           "I:44 P:141"
          ],
          [
           "I:44 P:141"
          ],
          [
           "I:44 P:141"
          ],
          [
           "I:44 P:141"
          ],
          [
           "I:44 P:141"
          ],
          [
           "I:44 P:141"
          ],
          [
           "I:44 P:141"
          ],
          [
           "I:44 P:141"
          ],
          [
           "I:44 P:141"
          ],
          [
           "I:44 P:141"
          ],
          [
           "I:44 P:141"
          ],
          [
           "I:44 P:141"
          ],
          [
           "I:44 P:141"
          ],
          [
           "I:44 P:141"
          ]
         ],
         "hovertemplate": "groep=dosismetry channel1<br>Part&item=%{customdata[0]}<br>date=%{x}<br>value=%{y}<extra></extra>",
         "legendgroup": "dosismetry channel1",
         "line": {
          "color": "#636efa",
          "dash": "solid"
         },
         "marker": {
          "symbol": "circle"
         },
         "mode": "lines+markers",
         "name": "dosismetry channel1",
         "orientation": "v",
         "showlegend": true,
         "type": "scatter",
         "x": [
          "2023-09-13",
          "2023-10-04",
          "2023-10-11",
          "2023-10-18",
          "2023-10-25",
          "2023-11-08",
          "2023-11-15",
          "2023-12-06",
          "2023-12-13",
          "2024-01-03",
          "2024-02-07",
          "2024-02-14",
          "2024-02-28",
          "2024-04-24",
          "2024-05-15"
         ],
         "xaxis": "x",
         "y": {
          "bdata": "AAAAAAAA8D8AAAAAAADwP5cMwTravO8/lwzBOtq87z+XDME62rzvP5cMwTravO8/lwzBOtq87z+XDME62rzvP5cMwTravO8/lwzBOtq87z+XDME62rzvP5cMwTravO8/B3hBUv6h7z8HeEFS/qHvPy4ZgnW0ee8/",
          "dtype": "f8"
         },
         "yaxis": "y"
        },
        {
         "customdata": [
          [
           "I:128 P:45"
          ],
          [
           "I:128 P:45"
          ],
          [
           "I:128 P:45"
          ],
          [
           "I:128 P:45"
          ],
          [
           "I:128 P:45"
          ],
          [
           "I:128 P:45"
          ],
          [
           "I:128 P:45"
          ],
          [
           "I:128 P:45"
          ],
          [
           "I:128 P:45"
          ],
          [
           "I:128 P:45"
          ],
          [
           "I:128 P:45"
          ],
          [
           "I:128 P:45"
          ],
          [
           "I:128 P:45"
          ],
          [
           "I:128 P:45"
          ],
          [
           "I:128 P:45"
          ]
         ],
         "hovertemplate": "groep=beam centering system<br>Part&item=%{customdata[0]}<br>date=%{x}<br>value=%{y}<extra></extra>",
         "legendgroup": "beam centering system",
         "line": {
          "color": "#EF553B",
          "dash": "solid"
         },
         "marker": {
          "symbol": "circle"
         },
         "mode": "lines+markers",
         "name": "beam centering system",
         "orientation": "v",
         "showlegend": true,
         "type": "scatter",
         "x": [
          "2023-09-13",
          "2023-10-04",
          "2023-10-11",
          "2023-10-18",
          "2023-10-25",
          "2023-11-08",
          "2023-11-15",
          "2023-12-06",
          "2023-12-13",
          "2024-01-03",
          "2024-02-07",
          "2024-02-14",
          "2024-02-28",
          "2024-04-24",
          "2024-05-15"
         ],
         "xaxis": "x",
         "y": {
          "bdata": "AAAAAAAA8D8QABAAEADgP4D+f/5//u8/EAAQABAA4D8QABAAEAAAPxAAEAAQAOA/4P/f/9//7z8QABAAEAAAPwAAAAAAAPA/oP6f/p/+7z8QABAAEADgPxAAEAAQAOA/AAAAAAAAAAAQABAAEADwPhAAEAAQACA/",
          "dtype": "f8"
         },
         "yaxis": "y"
        }
       ],
       "layout": {
        "legend": {
         "title": {
          "text": "groep"
         },
         "tracegroupgap": 0
        },
        "template": {
         "data": {
          "bar": [
           {
            "error_x": {
             "color": "#2a3f5f"
            },
            "error_y": {
             "color": "#2a3f5f"
            },
            "marker": {
             "line": {
              "color": "#E5ECF6",
              "width": 0.5
             },
             "pattern": {
              "fillmode": "overlay",
              "size": 10,
              "solidity": 0.2
             }
            },
            "type": "bar"
           }
          ],
          "barpolar": [
           {
            "marker": {
             "line": {
              "color": "#E5ECF6",
              "width": 0.5
             },
             "pattern": {
              "fillmode": "overlay",
              "size": 10,
              "solidity": 0.2
             }
            },
            "type": "barpolar"
           }
          ],
          "carpet": [
           {
            "aaxis": {
             "endlinecolor": "#2a3f5f",
             "gridcolor": "white",
             "linecolor": "white",
             "minorgridcolor": "white",
             "startlinecolor": "#2a3f5f"
            },
            "baxis": {
             "endlinecolor": "#2a3f5f",
             "gridcolor": "white",
             "linecolor": "white",
             "minorgridcolor": "white",
             "startlinecolor": "#2a3f5f"
            },
            "type": "carpet"
           }
          ],
          "choropleth": [
           {
            "colorbar": {
             "outlinewidth": 0,
             "ticks": ""
            },
            "type": "choropleth"
           }
          ],
          "contour": [
           {
            "colorbar": {
             "outlinewidth": 0,
             "ticks": ""
            },
            "colorscale": [
             [
              0,
              "#0d0887"
             ],
             [
              0.1111111111111111,
              "#46039f"
             ],
             [
              0.2222222222222222,
              "#7201a8"
             ],
             [
              0.3333333333333333,
              "#9c179e"
             ],
             [
              0.4444444444444444,
              "#bd3786"
             ],
             [
              0.5555555555555556,
              "#d8576b"
             ],
             [
              0.6666666666666666,
              "#ed7953"
             ],
             [
              0.7777777777777778,
              "#fb9f3a"
             ],
             [
              0.8888888888888888,
              "#fdca26"
             ],
             [
              1,
              "#f0f921"
             ]
            ],
            "type": "contour"
           }
          ],
          "contourcarpet": [
           {
            "colorbar": {
             "outlinewidth": 0,
             "ticks": ""
            },
            "type": "contourcarpet"
           }
          ],
          "heatmap": [
           {
            "colorbar": {
             "outlinewidth": 0,
             "ticks": ""
            },
            "colorscale": [
             [
              0,
              "#0d0887"
             ],
             [
              0.1111111111111111,
              "#46039f"
             ],
             [
              0.2222222222222222,
              "#7201a8"
             ],
             [
              0.3333333333333333,
              "#9c179e"
             ],
             [
              0.4444444444444444,
              "#bd3786"
             ],
             [
              0.5555555555555556,
              "#d8576b"
             ],
             [
              0.6666666666666666,
              "#ed7953"
             ],
             [
              0.7777777777777778,
              "#fb9f3a"
             ],
             [
              0.8888888888888888,
              "#fdca26"
             ],
             [
              1,
              "#f0f921"
             ]
            ],
            "type": "heatmap"
           }
          ],
          "histogram": [
           {
            "marker": {
             "pattern": {
              "fillmode": "overlay",
              "size": 10,
              "solidity": 0.2
             }
            },
            "type": "histogram"
           }
          ],
          "histogram2d": [
           {
            "colorbar": {
             "outlinewidth": 0,
             "ticks": ""
            },
            "colorscale": [
             [
              0,
              "#0d0887"
             ],
             [
              0.1111111111111111,
              "#46039f"
             ],
             [
              0.2222222222222222,
              "#7201a8"
             ],
             [
              0.3333333333333333,
              "#9c179e"
             ],
             [
              0.4444444444444444,
              "#bd3786"
             ],
             [
              0.5555555555555556,
              "#d8576b"
             ],
             [
              0.6666666666666666,
              "#ed7953"
             ],
             [
              0.7777777777777778,
              "#fb9f3a"
             ],
             [
              0.8888888888888888,
              "#fdca26"
             ],
             [
              1,
              "#f0f921"
             ]
            ],
            "type": "histogram2d"
           }
          ],
          "histogram2dcontour": [
           {
            "colorbar": {
             "outlinewidth": 0,
             "ticks": ""
            },
            "colorscale": [
             [
              0,
              "#0d0887"
             ],
             [
              0.1111111111111111,
              "#46039f"
             ],
             [
              0.2222222222222222,
              "#7201a8"
             ],
             [
              0.3333333333333333,
              "#9c179e"
             ],
             [
              0.4444444444444444,
              "#bd3786"
             ],
             [
              0.5555555555555556,
              "#d8576b"
             ],
             [
              0.6666666666666666,
              "#ed7953"
             ],
             [
              0.7777777777777778,
              "#fb9f3a"
             ],
             [
              0.8888888888888888,
              "#fdca26"
             ],
             [
              1,
              "#f0f921"
             ]
            ],
            "type": "histogram2dcontour"
           }
          ],
          "mesh3d": [
           {
            "colorbar": {
             "outlinewidth": 0,
             "ticks": ""
            },
            "type": "mesh3d"
           }
          ],
          "parcoords": [
           {
            "line": {
             "colorbar": {
              "outlinewidth": 0,
              "ticks": ""
             }
            },
            "type": "parcoords"
           }
          ],
          "pie": [
           {
            "automargin": true,
            "type": "pie"
           }
          ],
          "scatter": [
           {
            "fillpattern": {
             "fillmode": "overlay",
             "size": 10,
             "solidity": 0.2
            },
            "type": "scatter"
           }
          ],
          "scatter3d": [
           {
            "line": {
             "colorbar": {
              "outlinewidth": 0,
              "ticks": ""
             }
            },
            "marker": {
             "colorbar": {
              "outlinewidth": 0,
              "ticks": ""
             }
            },
            "type": "scatter3d"
           }
          ],
          "scattercarpet": [
           {
            "marker": {
             "colorbar": {
              "outlinewidth": 0,
              "ticks": ""
             }
            },
            "type": "scattercarpet"
           }
          ],
          "scattergeo": [
           {
            "marker": {
             "colorbar": {
              "outlinewidth": 0,
              "ticks": ""
             }
            },
            "type": "scattergeo"
           }
          ],
          "scattergl": [
           {
            "marker": {
             "colorbar": {
              "outlinewidth": 0,
              "ticks": ""
             }
            },
            "type": "scattergl"
           }
          ],
          "scattermap": [
           {
            "marker": {
             "colorbar": {
              "outlinewidth": 0,
              "ticks": ""
             }
            },
            "type": "scattermap"
           }
          ],
          "scattermapbox": [
           {
            "marker": {
             "colorbar": {
              "outlinewidth": 0,
              "ticks": ""
             }
            },
            "type": "scattermapbox"
           }
          ],
          "scatterpolar": [
           {
            "marker": {
             "colorbar": {
              "outlinewidth": 0,
              "ticks": ""
             }
            },
            "type": "scatterpolar"
           }
          ],
          "scatterpolargl": [
           {
            "marker": {
             "colorbar": {
              "outlinewidth": 0,
              "ticks": ""
             }
            },
            "type": "scatterpolargl"
           }
          ],
          "scatterternary": [
           {
            "marker": {
             "colorbar": {
              "outlinewidth": 0,
              "ticks": ""
             }
            },
            "type": "scatterternary"
           }
          ],
          "surface": [
           {
            "colorbar": {
             "outlinewidth": 0,
             "ticks": ""
            },
            "colorscale": [
             [
              0,
              "#0d0887"
             ],
             [
              0.1111111111111111,
              "#46039f"
             ],
             [
              0.2222222222222222,
              "#7201a8"
             ],
             [
              0.3333333333333333,
              "#9c179e"
             ],
             [
              0.4444444444444444,
              "#bd3786"
             ],
             [
              0.5555555555555556,
              "#d8576b"
             ],
             [
              0.6666666666666666,
              "#ed7953"
             ],
             [
              0.7777777777777778,
              "#fb9f3a"
             ],
             [
              0.8888888888888888,
              "#fdca26"
             ],
             [
              1,
              "#f0f921"
             ]
            ],
            "type": "surface"
           }
          ],
          "table": [
           {
            "cells": {
             "fill": {
              "color": "#EBF0F8"
             },
             "line": {
              "color": "white"
             }
            },
            "header": {
             "fill": {
              "color": "#C8D4E3"
             },
             "line": {
              "color": "white"
             }
            },
            "type": "table"
           }
          ]
         },
         "layout": {
          "annotationdefaults": {
           "arrowcolor": "#2a3f5f",
           "arrowhead": 0,
           "arrowwidth": 1
          },
          "autotypenumbers": "strict",
          "coloraxis": {
           "colorbar": {
            "outlinewidth": 0,
            "ticks": ""
           }
          },
          "colorscale": {
           "diverging": [
            [
             0,
             "#8e0152"
            ],
            [
             0.1,
             "#c51b7d"
            ],
            [
             0.2,
             "#de77ae"
            ],
            [
             0.3,
             "#f1b6da"
            ],
            [
             0.4,
             "#fde0ef"
            ],
            [
             0.5,
             "#f7f7f7"
            ],
            [
             0.6,
             "#e6f5d0"
            ],
            [
             0.7,
             "#b8e186"
            ],
            [
             0.8,
             "#7fbc41"
            ],
            [
             0.9,
             "#4d9221"
            ],
            [
             1,
             "#276419"
            ]
           ],
           "sequential": [
            [
             0,
             "#0d0887"
            ],
            [
             0.1111111111111111,
             "#46039f"
            ],
            [
             0.2222222222222222,
             "#7201a8"
            ],
            [
             0.3333333333333333,
             "#9c179e"
            ],
            [
             0.4444444444444444,
             "#bd3786"
            ],
            [
             0.5555555555555556,
             "#d8576b"
            ],
            [
             0.6666666666666666,
             "#ed7953"
            ],
            [
             0.7777777777777778,
             "#fb9f3a"
            ],
            [
             0.8888888888888888,
             "#fdca26"
            ],
            [
             1,
             "#f0f921"
            ]
           ],
           "sequentialminus": [
            [
             0,
             "#0d0887"
            ],
            [
             0.1111111111111111,
             "#46039f"
            ],
            [
             0.2222222222222222,
             "#7201a8"
            ],
            [
             0.3333333333333333,
             "#9c179e"
            ],
            [
             0.4444444444444444,
             "#bd3786"
            ],
            [
             0.5555555555555556,
             "#d8576b"
            ],
            [
             0.6666666666666666,
             "#ed7953"
            ],
            [
             0.7777777777777778,
             "#fb9f3a"
            ],
            [
             0.8888888888888888,
             "#fdca26"
            ],
            [
             1,
             "#f0f921"
            ]
           ]
          },
          "colorway": [
           "#636efa",
           "#EF553B",
           "#00cc96",
           "#ab63fa",
           "#FFA15A",
           "#19d3f3",
           "#FF6692",
           "#B6E880",
           "#FF97FF",
           "#FECB52"
          ],
          "font": {
           "color": "#2a3f5f"
          },
          "geo": {
           "bgcolor": "white",
           "lakecolor": "white",
           "landcolor": "#E5ECF6",
           "showlakes": true,
           "showland": true,
           "subunitcolor": "white"
          },
          "hoverlabel": {
           "align": "left"
          },
          "hovermode": "closest",
          "mapbox": {
           "style": "light"
          },
          "paper_bgcolor": "white",
          "plot_bgcolor": "#E5ECF6",
          "polar": {
           "angularaxis": {
            "gridcolor": "white",
            "linecolor": "white",
            "ticks": ""
           },
           "bgcolor": "#E5ECF6",
           "radialaxis": {
            "gridcolor": "white",
            "linecolor": "white",
            "ticks": ""
           }
          },
          "scene": {
           "xaxis": {
            "backgroundcolor": "#E5ECF6",
            "gridcolor": "white",
            "gridwidth": 2,
            "linecolor": "white",
            "showbackground": true,
            "ticks": "",
            "zerolinecolor": "white"
           },
           "yaxis": {
            "backgroundcolor": "#E5ECF6",
            "gridcolor": "white",
            "gridwidth": 2,
            "linecolor": "white",
            "showbackground": true,
            "ticks": "",
            "zerolinecolor": "white"
           },
           "zaxis": {
            "backgroundcolor": "#E5ECF6",
            "gridcolor": "white",
            "gridwidth": 2,
            "linecolor": "white",
            "showbackground": true,
            "ticks": "",
            "zerolinecolor": "white"
           }
          },
          "shapedefaults": {
           "line": {
            "color": "#2a3f5f"
           }
          },
          "ternary": {
           "aaxis": {
            "gridcolor": "white",
            "linecolor": "white",
            "ticks": ""
           },
           "baxis": {
            "gridcolor": "white",
            "linecolor": "white",
            "ticks": ""
           },
           "bgcolor": "#E5ECF6",
           "caxis": {
            "gridcolor": "white",
            "linecolor": "white",
            "ticks": ""
           }
          },
          "title": {
           "x": 0.05
          },
          "xaxis": {
           "automargin": true,
           "gridcolor": "white",
           "linecolor": "white",
           "ticks": "",
           "title": {
            "standoff": 15
           },
           "zerolinecolor": "white",
           "zerolinewidth": 2
          },
          "yaxis": {
           "automargin": true,
           "gridcolor": "white",
           "linecolor": "white",
           "ticks": "",
           "title": {
            "standoff": 15
           },
           "zerolinecolor": "white",
           "zerolinewidth": 2
          }
         }
        },
        "title": {
         "text": "I:381 P:1 correlation items en parts grouped"
        },
        "xaxis": {
         "anchor": "y",
         "domain": [
          0,
          1
         ],
         "title": {
          "text": "date"
         }
        },
        "yaxis": {
         "anchor": "x",
         "domain": [
          0,
          1
         ],
         "title": {
          "text": "value"
         }
        }
       }
      }
     },
     "metadata": {},
     "output_type": "display_data"
    }
   ],
   "source": [
    "\n",
    "new = df_381[df_381[\"Correlation\"] > 0.5]\n",
    "fig = px.line(plotting[plotting[\"Part&item\"].isin(new[\"Item 2\"])]\n",
    ", x=\"date\", y=\"value\" ,color=\"groep\", line_group=\"Part&item\",\n",
    "              title=\"I:381 P:1 correlation items en parts grouped\", \n",
    "              hover_data=\"Part&item\", markers=True)\n",
    "\n",
    "\n",
    "fig.show()\n"
   ]
  },
  {
   "cell_type": "code",
   "execution_count": 34,
   "metadata": {},
   "outputs": [
    {
     "data": {
      "text/plain": [
       "<seaborn.axisgrid.PairGrid at 0x218075fd6a0>"
      ]
     },
     "execution_count": 34,
     "metadata": {},
     "output_type": "execute_result"
    },
    {
     "data": {
      "image/png": "[encoded data removed]",
      "text/plain": [
       "<Figure size 750x750 with 12 Axes>"
      ]
     },
     "metadata": {},
     "output_type": "display_data"
    }
   ],
   "source": [
    "check = new[\"Item 2\"].tolist()\n",
    "check.append(\"I:381 P:1\")\n",
    "df_ml = plotting[plotting[\"Part&item\"].isin(check)]\n",
    "df_ml = df_ml[[\"value\", \"Part&item\", 'date']].pivot(index='date', columns='Part&item', values='value') \n",
    "\n",
    "sns.pairplot(df_ml, plot_kws={'alpha': 0.1})"
   ]
  },
  {
   "cell_type": "code",
   "execution_count": 35,
   "metadata": {},
   "outputs": [],
   "source": [
    "from sklearn.model_selection import train_test_split\n",
    "from sklearn.linear_model import LinearRegression\n",
    "from sklearn.ensemble import RandomForestRegressor\n",
    "from sklearn.svm import SVR\n",
    "from sklearn.gaussian_process import GaussianProcessRegressor\n",
    "from sklearn.gaussian_process.kernels import RBF, ConstantKernel\n",
    "from sklearn.linear_model import BayesianRidge\n",
    "from sklearn.ensemble import VotingRegressor\n",
    "from sklearn.model_selection import cross_validate"
   ]
  },
  {
   "cell_type": "code",
   "execution_count": 36,
   "metadata": {},
   "outputs": [],
   "source": [
    "# #apply normalization techniques \n",
    "# for column in df_ml.columns: \n",
    "# \tdf_ml[column] = df_ml[column] / df_ml[column].abs().max() \n",
    "\n",
    "plotting = be5201[be5201[\"Part&item\"].isin(pI)]\n",
    "\n",
    "df_ml = plotting[[\"value\", \"Part&item\", 'date']].pivot(index='date', columns='Part&item', values='value') \n",
    "\n",
    "y = df_ml[\"I:381 P:1\"]\n",
    "X = df_ml.drop(\"I:381 P:1\", axis=1)\n",
    "\n",
    "X_train, X_test, y_train, y_test = train_test_split(\n",
    "    X, y, test_size=0.33, random_state=42)\n",
    "\t"
   ]
  },
  {
   "cell_type": "code",
   "execution_count": 37,
   "metadata": {},
   "outputs": [
    {
     "data": {
      "text/html": [
       "<div>\n",
       "<style scoped>\n",
       "    .dataframe tbody tr th:only-of-type {\n",
       "        vertical-align: middle;\n",
       "    }\n",
       "\n",
       "    .dataframe tbody tr th {\n",
       "        vertical-align: top;\n",
       "    }\n",
       "\n",
       "    .dataframe thead th {\n",
       "        text-align: right;\n",
       "    }\n",
       "</style>\n",
       "<table border=\"1\" class=\"dataframe\">\n",
       "  <thead>\n",
       "    <tr style=\"text-align: right;\">\n",
       "      <th></th>\n",
       "      <th>fit_time</th>\n",
       "      <th>score_time</th>\n",
       "      <th>test_score</th>\n",
       "      <th>train_score</th>\n",
       "    </tr>\n",
       "  </thead>\n",
       "  <tbody>\n",
       "    <tr>\n",
       "      <th>LinearRegression</th>\n",
       "      <td>0.006824</td>\n",
       "      <td>0.003300</td>\n",
       "      <td>-369.845504</td>\n",
       "      <td>1.000000</td>\n",
       "    </tr>\n",
       "    <tr>\n",
       "      <th>RandomForestRegressor</th>\n",
       "      <td>0.212280</td>\n",
       "      <td>0.018733</td>\n",
       "      <td>-92.594590</td>\n",
       "      <td>0.970665</td>\n",
       "    </tr>\n",
       "    <tr>\n",
       "      <th>SVR</th>\n",
       "      <td>0.003570</td>\n",
       "      <td>0.002869</td>\n",
       "      <td>-345.550140</td>\n",
       "      <td>-0.005057</td>\n",
       "    </tr>\n",
       "    <tr>\n",
       "      <th>GaussianProcessRegressor</th>\n",
       "      <td>0.005889</td>\n",
       "      <td>0.003497</td>\n",
       "      <td>-659498.915445</td>\n",
       "      <td>1.000000</td>\n",
       "    </tr>\n",
       "    <tr>\n",
       "      <th>BayesianRidge</th>\n",
       "      <td>0.004628</td>\n",
       "      <td>0.002615</td>\n",
       "      <td>-369.845608</td>\n",
       "      <td>1.000000</td>\n",
       "    </tr>\n",
       "  </tbody>\n",
       "</table>\n",
       "</div>"
      ],
      "text/plain": [
       "                          fit_time  score_time     test_score  train_score\n",
       "LinearRegression          0.006824    0.003300    -369.845504     1.000000\n",
       "RandomForestRegressor     0.212280    0.018733     -92.594590     0.970665\n",
       "SVR                       0.003570    0.002869    -345.550140    -0.005057\n",
       "GaussianProcessRegressor  0.005889    0.003497 -659498.915445     1.000000\n",
       "BayesianRidge             0.004628    0.002615    -369.845608     1.000000"
      ]
     },
     "execution_count": 37,
     "metadata": {},
     "output_type": "execute_result"
    }
   ],
   "source": [
    "models= [\n",
    "    LinearRegression,\n",
    "    RandomForestRegressor,\n",
    "    SVR,\n",
    "    GaussianProcessRegressor,\n",
    "    BayesianRidge\n",
    "]\n",
    "\n",
    "metric_scores = {}\n",
    "for model in models:\n",
    "    scores = cross_validate(model(), X, y, return_train_score=True)\n",
    "    for key, val in scores.items():\n",
    "        scores[key] = val.mean()\n",
    "    metric_scores[f\"{model.__name__}\"] = scores\n",
    "    \n",
    "pd.DataFrame(metric_scores).T"
   ]
  }
 ],
 "metadata": {
  "kernelspec": {
   "display_name": "stage",
   "language": "python",
   "name": "python3"
  },
  "language_info": {
   "codemirror_mode": {
    "name": "ipython",
    "version": 3
   },
   "file_extension": ".py",
   "mimetype": "text/x-python",
   "name": "python",
   "nbconvert_exporter": "python",
   "pygments_lexer": "ipython3",
   "version": "3.13.2"
  }
 },
 "nbformat": 4,
 "nbformat_minor": 2
}
