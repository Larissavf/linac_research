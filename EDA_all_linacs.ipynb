{
 "cells": [
  {
   "cell_type": "code",
   "execution_count": 38,
   "id": "8ba272ac",
   "metadata": {},
   "outputs": [],
   "source": [
    "import pandas as pd\n",
    "import numpy as np\n",
    "import matplotlib.pyplot as plt\n",
    "import plotly.express as px\n",
    "import re\n",
    "import seaborn as sns\n",
    "\n"
   ]
  },
  {
   "cell_type": "markdown",
   "id": "92352fc7",
   "metadata": {},
   "source": [
    "## alle parts en items over de gehele tijd en alle linacs"
   ]
  },
  {
   "cell_type": "code",
   "execution_count": 39,
   "id": "04567acb",
   "metadata": {},
   "outputs": [],
   "source": [
    "linac2_headers = pd.read_csv(\"data/calblocks_update_table_cal_headers.csv\", names=[\"date\", \"file_name\", \"empty\", \"thiing\", \"thing\"])\n",
    "linac2_items = pd.read_csv(\"data/calblocks_update_table_cal_items.csv\",  names=[\"item\", \"category\", \"thing\", \"thiing\"])\n",
    "linac2_values = pd.read_csv(\"data/calblocks_update_table_cal_values.csv\", names=[\"id\", \"calheaders_id\", \"item\", \"part\", \"value\"])\n",
    "\n",
    "linac2_headers.reset_index(inplace=True)\n",
    "linac2_headers.set_index(\"level_0\", inplace=True)\n",
    "linac2_headers['datum'] = linac2_headers['date'].str.replace('/', '-', regex=False)\n",
    "\n",
    "linac2_headers['date'] = pd.to_datetime(linac2_headers['date'], format='%d/%m/%Y')\n",
    "linac2_headers[\"date\"] = linac2_headers[\"date\"].astype(\"str\")\n",
    "\n",
    "linac2_headers.columns = [\"linac\",\"date\", \"file_name\", \"empty\", \"thiing\", \"thing\", \"datum\"]"
   ]
  },
  {
   "cell_type": "markdown",
   "id": "3132d3aa",
   "metadata": {},
   "source": [
    "## Item 381, gun aim current"
   ]
  },
  {
   "cell_type": "code",
   "execution_count": 40,
   "id": "06c4a19c",
   "metadata": {},
   "outputs": [
    {
     "data": {
      "application/vnd.plotly.v1+json": {
       "config": {
        "plotlyServerURL": "https://plot.ly"
       },
       "data": [
        {
         "hovertemplate": "linac=2325<br>date=%{x}<br>value=%{y}<extra></extra>",
         "legendgroup": "2325",
         "line": {
          "color": "#636efa",
          "dash": "solid"
         },
         "marker": {
          "symbol": "circle"
         },
         "mode": "lines+markers",
         "name": "2325",
         "orientation": "v",
         "showlegend": true,
         "type": "scatter",
         "x": [
          "2023-09-13",
          "2023-10-04",
          "2023-10-11",
          "2023-10-18",
          "2023-10-25",
          "2023-11-08",
          "2023-11-15",
          "2023-12-06",
          "2023-12-13",
          "2024-01-03",
          "2024-02-07",
          "2024-02-14",
          "2024-02-28",
          "2024-04-24",
          "2024-05-15"
         ],
         "xaxis": "x",
         "y": {
          "bdata": "HwMYAx0DGwMaAxgDHAMPAw8DDwMKAwoDBgMGAwUD",
          "dtype": "i2"
         },
         "yaxis": "y"
        },
        {
         "hovertemplate": "linac=2191<br>date=%{x}<br>value=%{y}<extra></extra>",
         "legendgroup": "2191",
         "line": {
          "color": "#EF553B",
          "dash": "solid"
         },
         "marker": {
          "symbol": "circle"
         },
         "mode": "lines+markers",
         "name": "2191",
         "orientation": "v",
         "showlegend": true,
         "type": "scatter",
         "x": [
          "2023-12-13",
          "2023-12-20",
          "2024-01-03",
          "2024-01-17",
          "2024-01-31",
          "2024-03-20",
          "2024-04-03",
          "2024-04-17",
          "2024-05-29",
          "2024-07-10",
          "2024-09-11",
          "2024-10-23",
          "2024-11-06",
          "2024-11-27",
          "2024-12-18",
          "2024-12-27",
          "2025-01-29",
          "2025-02-12",
          "2025-03-05",
          "2025-03-12"
         ],
         "xaxis": "x",
         "y": {
          "bdata": "/QL9Av0C+AL4AvYC9ALyAvEC7ALsAuwC6ALoAt8C3wLdAt0C2ALYAg==",
          "dtype": "i2"
         },
         "yaxis": "y"
        },
        {
         "hovertemplate": "linac=2638<br>date=%{x}<br>value=%{y}<extra></extra>",
         "legendgroup": "2638",
         "line": {
          "color": "#00cc96",
          "dash": "solid"
         },
         "marker": {
          "symbol": "circle"
         },
         "mode": "lines+markers",
         "name": "2638",
         "orientation": "v",
         "showlegend": true,
         "type": "scatter",
         "x": [
          "2023-12-13",
          "2024-01-10",
          "2024-01-24",
          "2024-02-14",
          "2024-03-13",
          "2024-07-03"
         ],
         "xaxis": "x",
         "y": {
          "bdata": "GAMYAxgDFAMSAwgD",
          "dtype": "i2"
         },
         "yaxis": "y"
        },
        {
         "hovertemplate": "linac=2983<br>date=%{x}<br>value=%{y}<extra></extra>",
         "legendgroup": "2983",
         "line": {
          "color": "#ab63fa",
          "dash": "solid"
         },
         "marker": {
          "symbol": "circle"
         },
         "mode": "lines+markers",
         "name": "2983",
         "orientation": "v",
         "showlegend": true,
         "type": "scatter",
         "x": [
          "2024-02-21",
          "2024-03-06",
          "2024-04-24",
          "2024-05-01",
          "2024-05-08",
          "2024-11-20",
          "2024-12-04",
          "2024-12-18",
          "2025-02-05",
          "2025-03-05"
         ],
         "xaxis": "x",
         "y": {
          "bdata": "FgMWAwsDCgMKA/kC+QL1AvIC7wI=",
          "dtype": "i2"
         },
         "yaxis": "y"
        },
        {
         "hovertemplate": "linac=7460<br>date=%{x}<br>value=%{y}<extra></extra>",
         "legendgroup": "7460",
         "line": {
          "color": "#FFA15A",
          "dash": "solid"
         },
         "marker": {
          "symbol": "circle"
         },
         "mode": "lines+markers",
         "name": "7460",
         "orientation": "v",
         "showlegend": true,
         "type": "scatter",
         "x": [
          "2024-11-14"
         ],
         "xaxis": "x",
         "y": {
          "bdata": "JwM=",
          "dtype": "i2"
         },
         "yaxis": "y"
        }
       ],
       "layout": {
        "legend": {
         "title": {
          "text": "linac"
         },
         "tracegroupgap": 0
        },
        "margin": {
         "t": 60
        },
        "template": {
         "data": {
          "bar": [
           {
            "error_x": {
             "color": "#2a3f5f"
            },
            "error_y": {
             "color": "#2a3f5f"
            },
            "marker": {
             "line": {
              "color": "#E5ECF6",
              "width": 0.5
             },
             "pattern": {
              "fillmode": "overlay",
              "size": 10,
              "solidity": 0.2
             }
            },
            "type": "bar"
           }
          ],
          "barpolar": [
           {
            "marker": {
             "line": {
              "color": "#E5ECF6",
              "width": 0.5
             },
             "pattern": {
              "fillmode": "overlay",
              "size": 10,
              "solidity": 0.2
             }
            },
            "type": "barpolar"
           }
          ],
          "carpet": [
           {
            "aaxis": {
             "endlinecolor": "#2a3f5f",
             "gridcolor": "white",
             "linecolor": "white",
             "minorgridcolor": "white",
             "startlinecolor": "#2a3f5f"
            },
            "baxis": {
             "endlinecolor": "#2a3f5f",
             "gridcolor": "white",
             "linecolor": "white",
             "minorgridcolor": "white",
             "startlinecolor": "#2a3f5f"
            },
            "type": "carpet"
           }
          ],
          "choropleth": [
           {
            "colorbar": {
             "outlinewidth": 0,
             "ticks": ""
            },
            "type": "choropleth"
           }
          ],
          "contour": [
           {
            "colorbar": {
             "outlinewidth": 0,
             "ticks": ""
            },
            "colorscale": [
             [
              0,
              "#0d0887"
             ],
             [
              0.1111111111111111,
              "#46039f"
             ],
             [
              0.2222222222222222,
              "#7201a8"
             ],
             [
              0.3333333333333333,
              "#9c179e"
             ],
             [
              0.4444444444444444,
              "#bd3786"
             ],
             [
              0.5555555555555556,
              "#d8576b"
             ],
             [
              0.6666666666666666,
              "#ed7953"
             ],
             [
              0.7777777777777778,
              "#fb9f3a"
             ],
             [
              0.8888888888888888,
              "#fdca26"
             ],
             [
              1,
              "#f0f921"
             ]
            ],
            "type": "contour"
           }
          ],
          "contourcarpet": [
           {
            "colorbar": {
             "outlinewidth": 0,
             "ticks": ""
            },
            "type": "contourcarpet"
           }
          ],
          "heatmap": [
           {
            "colorbar": {
             "outlinewidth": 0,
             "ticks": ""
            },
            "colorscale": [
             [
              0,
              "#0d0887"
             ],
             [
              0.1111111111111111,
              "#46039f"
             ],
             [
              0.2222222222222222,
              "#7201a8"
             ],
             [
              0.3333333333333333,
              "#9c179e"
             ],
             [
              0.4444444444444444,
              "#bd3786"
             ],
             [
              0.5555555555555556,
              "#d8576b"
             ],
             [
              0.6666666666666666,
              "#ed7953"
             ],
             [
              0.7777777777777778,
              "#fb9f3a"
             ],
             [
              0.8888888888888888,
              "#fdca26"
             ],
             [
              1,
              "#f0f921"
             ]
            ],
            "type": "heatmap"
           }
          ],
          "histogram": [
           {
            "marker": {
             "pattern": {
              "fillmode": "overlay",
              "size": 10,
              "solidity": 0.2
             }
            },
            "type": "histogram"
           }
          ],
          "histogram2d": [
           {
            "colorbar": {
             "outlinewidth": 0,
             "ticks": ""
            },
            "colorscale": [
             [
              0,
              "#0d0887"
             ],
             [
              0.1111111111111111,
              "#46039f"
             ],
             [
              0.2222222222222222,
              "#7201a8"
             ],
             [
              0.3333333333333333,
              "#9c179e"
             ],
             [
              0.4444444444444444,
              "#bd3786"
             ],
             [
              0.5555555555555556,
              "#d8576b"
             ],
             [
              0.6666666666666666,
              "#ed7953"
             ],
             [
              0.7777777777777778,
              "#fb9f3a"
             ],
             [
              0.8888888888888888,
              "#fdca26"
             ],
             [
              1,
              "#f0f921"
             ]
            ],
            "type": "histogram2d"
           }
          ],
          "histogram2dcontour": [
           {
            "colorbar": {
             "outlinewidth": 0,
             "ticks": ""
            },
            "colorscale": [
             [
              0,
              "#0d0887"
             ],
             [
              0.1111111111111111,
              "#46039f"
             ],
             [
              0.2222222222222222,
              "#7201a8"
             ],
             [
              0.3333333333333333,
              "#9c179e"
             ],
             [
              0.4444444444444444,
              "#bd3786"
             ],
             [
              0.5555555555555556,
              "#d8576b"
             ],
             [
              0.6666666666666666,
              "#ed7953"
             ],
             [
              0.7777777777777778,
              "#fb9f3a"
             ],
             [
              0.8888888888888888,
              "#fdca26"
             ],
             [
              1,
              "#f0f921"
             ]
            ],
            "type": "histogram2dcontour"
           }
          ],
          "mesh3d": [
           {
            "colorbar": {
             "outlinewidth": 0,
             "ticks": ""
            },
            "type": "mesh3d"
           }
          ],
          "parcoords": [
           {
            "line": {
             "colorbar": {
              "outlinewidth": 0,
              "ticks": ""
             }
            },
            "type": "parcoords"
           }
          ],
          "pie": [
           {
            "automargin": true,
            "type": "pie"
           }
          ],
          "scatter": [
           {
            "fillpattern": {
             "fillmode": "overlay",
             "size": 10,
             "solidity": 0.2
            },
            "type": "scatter"
           }
          ],
          "scatter3d": [
           {
            "line": {
             "colorbar": {
              "outlinewidth": 0,
              "ticks": ""
             }
            },
            "marker": {
             "colorbar": {
              "outlinewidth": 0,
              "ticks": ""
             }
            },
            "type": "scatter3d"
           }
          ],
          "scattercarpet": [
           {
            "marker": {
             "colorbar": {
              "outlinewidth": 0,
              "ticks": ""
             }
            },
            "type": "scattercarpet"
           }
          ],
          "scattergeo": [
           {
            "marker": {
             "colorbar": {
              "outlinewidth": 0,
              "ticks": ""
             }
            },
            "type": "scattergeo"
           }
          ],
          "scattergl": [
           {
            "marker": {
             "colorbar": {
              "outlinewidth": 0,
              "ticks": ""
             }
            },
            "type": "scattergl"
           }
          ],
          "scattermap": [
           {
            "marker": {
             "colorbar": {
              "outlinewidth": 0,
              "ticks": ""
             }
            },
            "type": "scattermap"
           }
          ],
          "scattermapbox": [
           {
            "marker": {
             "colorbar": {
              "outlinewidth": 0,
              "ticks": ""
             }
            },
            "type": "scattermapbox"
           }
          ],
          "scatterpolar": [
           {
            "marker": {
             "colorbar": {
              "outlinewidth": 0,
              "ticks": ""
             }
            },
            "type": "scatterpolar"
           }
          ],
          "scatterpolargl": [
           {
            "marker": {
             "colorbar": {
              "outlinewidth": 0,
              "ticks": ""
             }
            },
            "type": "scatterpolargl"
           }
          ],
          "scatterternary": [
           {
            "marker": {
             "colorbar": {
              "outlinewidth": 0,
              "ticks": ""
             }
            },
            "type": "scatterternary"
           }
          ],
          "surface": [
           {
            "colorbar": {
             "outlinewidth": 0,
             "ticks": ""
            },
            "colorscale": [
             [
              0,
              "#0d0887"
             ],
             [
              0.1111111111111111,
              "#46039f"
             ],
             [
              0.2222222222222222,
              "#7201a8"
             ],
             [
              0.3333333333333333,
              "#9c179e"
             ],
             [
              0.4444444444444444,
              "#bd3786"
             ],
             [
              0.5555555555555556,
              "#d8576b"
             ],
             [
              0.6666666666666666,
              "#ed7953"
             ],
             [
              0.7777777777777778,
              "#fb9f3a"
             ],
             [
              0.8888888888888888,
              "#fdca26"
             ],
             [
              1,
              "#f0f921"
             ]
            ],
            "type": "surface"
           }
          ],
          "table": [
           {
            "cells": {
             "fill": {
              "color": "#EBF0F8"
             },
             "line": {
              "color": "white"
             }
            },
            "header": {
             "fill": {
              "color": "#C8D4E3"
             },
             "line": {
              "color": "white"
             }
            },
            "type": "table"
           }
          ]
         },
         "layout": {
          "annotationdefaults": {
           "arrowcolor": "#2a3f5f",
           "arrowhead": 0,
           "arrowwidth": 1
          },
          "autotypenumbers": "strict",
          "coloraxis": {
           "colorbar": {
            "outlinewidth": 0,
            "ticks": ""
           }
          },
          "colorscale": {
           "diverging": [
            [
             0,
             "#8e0152"
            ],
            [
             0.1,
             "#c51b7d"
            ],
            [
             0.2,
             "#de77ae"
            ],
            [
             0.3,
             "#f1b6da"
            ],
            [
             0.4,
             "#fde0ef"
            ],
            [
             0.5,
             "#f7f7f7"
            ],
            [
             0.6,
             "#e6f5d0"
            ],
            [
             0.7,
             "#b8e186"
            ],
            [
             0.8,
             "#7fbc41"
            ],
            [
             0.9,
             "#4d9221"
            ],
            [
             1,
             "#276419"
            ]
           ],
           "sequential": [
            [
             0,
             "#0d0887"
            ],
            [
             0.1111111111111111,
             "#46039f"
            ],
            [
             0.2222222222222222,
             "#7201a8"
            ],
            [
             0.3333333333333333,
             "#9c179e"
            ],
            [
             0.4444444444444444,
             "#bd3786"
            ],
            [
             0.5555555555555556,
             "#d8576b"
            ],
            [
             0.6666666666666666,
             "#ed7953"
            ],
            [
             0.7777777777777778,
             "#fb9f3a"
            ],
            [
             0.8888888888888888,
             "#fdca26"
            ],
            [
             1,
             "#f0f921"
            ]
           ],
           "sequentialminus": [
            [
             0,
             "#0d0887"
            ],
            [
             0.1111111111111111,
             "#46039f"
            ],
            [
             0.2222222222222222,
             "#7201a8"
            ],
            [
             0.3333333333333333,
             "#9c179e"
            ],
            [
             0.4444444444444444,
             "#bd3786"
            ],
            [
             0.5555555555555556,
             "#d8576b"
            ],
            [
             0.6666666666666666,
             "#ed7953"
            ],
            [
             0.7777777777777778,
             "#fb9f3a"
            ],
            [
             0.8888888888888888,
             "#fdca26"
            ],
            [
             1,
             "#f0f921"
            ]
           ]
          },
          "colorway": [
           "#636efa",
           "#EF553B",
           "#00cc96",
           "#ab63fa",
           "#FFA15A",
           "#19d3f3",
           "#FF6692",
           "#B6E880",
           "#FF97FF",
           "#FECB52"
          ],
          "font": {
           "color": "#2a3f5f"
          },
          "geo": {
           "bgcolor": "white",
           "lakecolor": "white",
           "landcolor": "#E5ECF6",
           "showlakes": true,
           "showland": true,
           "subunitcolor": "white"
          },
          "hoverlabel": {
           "align": "left"
          },
          "hovermode": "closest",
          "mapbox": {
           "style": "light"
          },
          "paper_bgcolor": "white",
          "plot_bgcolor": "#E5ECF6",
          "polar": {
           "angularaxis": {
            "gridcolor": "white",
            "linecolor": "white",
            "ticks": ""
           },
           "bgcolor": "#E5ECF6",
           "radialaxis": {
            "gridcolor": "white",
            "linecolor": "white",
            "ticks": ""
           }
          },
          "scene": {
           "xaxis": {
            "backgroundcolor": "#E5ECF6",
            "gridcolor": "white",
            "gridwidth": 2,
            "linecolor": "white",
            "showbackground": true,
            "ticks": "",
            "zerolinecolor": "white"
           },
           "yaxis": {
            "backgroundcolor": "#E5ECF6",
            "gridcolor": "white",
            "gridwidth": 2,
            "linecolor": "white",
            "showbackground": true,
            "ticks": "",
            "zerolinecolor": "white"
           },
           "zaxis": {
            "backgroundcolor": "#E5ECF6",
            "gridcolor": "white",
            "gridwidth": 2,
            "linecolor": "white",
            "showbackground": true,
            "ticks": "",
            "zerolinecolor": "white"
           }
          },
          "shapedefaults": {
           "line": {
            "color": "#2a3f5f"
           }
          },
          "ternary": {
           "aaxis": {
            "gridcolor": "white",
            "linecolor": "white",
            "ticks": ""
           },
           "baxis": {
            "gridcolor": "white",
            "linecolor": "white",
            "ticks": ""
           },
           "bgcolor": "#E5ECF6",
           "caxis": {
            "gridcolor": "white",
            "linecolor": "white",
            "ticks": ""
           }
          },
          "title": {
           "x": 0.05
          },
          "xaxis": {
           "automargin": true,
           "gridcolor": "white",
           "linecolor": "white",
           "ticks": "",
           "title": {
            "standoff": 15
           },
           "zerolinecolor": "white",
           "zerolinewidth": 2
          },
          "yaxis": {
           "automargin": true,
           "gridcolor": "white",
           "linecolor": "white",
           "ticks": "",
           "title": {
            "standoff": 15
           },
           "zerolinecolor": "white",
           "zerolinewidth": 2
          }
         }
        },
        "xaxis": {
         "anchor": "y",
         "domain": [
          0,
          1
         ],
         "title": {
          "text": "date"
         }
        },
        "yaxis": {
         "anchor": "x",
         "domain": [
          0,
          1
         ],
         "title": {
          "text": "value"
         }
        }
       }
      }
     },
     "metadata": {},
     "output_type": "display_data"
    }
   ],
   "source": [
    "tempdf = linac2_headers[[\"linac\", \"date\", \"file_name\"]].merge(linac2_values[[\"calheaders_id\", \"item\", \"part\", \"value\"]] ,left_on=\"level_0\", right_on=\"calheaders_id\", how=\"inner\").drop(columns=\"calheaders_id\")\n",
    "merged_df = tempdf.merge(linac2_items[[\"item\", \"category\"]], on = \"item\", how=\"inner\")\n",
    "\n",
    "\n",
    "be5201 = merged_df[merged_df[\"file_name\"] == \"Be5201\"]\n",
    "\n",
    "be5201 = be5201.sort_values(by=['date', 'linac'])\n",
    "be5201[\"Part&item\"] = \"I:\"+ be5201[\"item\"].astype(str) + \" P:\"+ be5201[\"part\"].astype(str)\n",
    "\n",
    "px.line(be5201[be5201[\"item\"] == 381], x=\"date\", y =\"value\", color=\"linac\", hover_data=\"date\", markers=True)"
   ]
  },
  {
   "cell_type": "code",
   "execution_count": 42,
   "id": "ecb02ed5",
   "metadata": {},
   "outputs": [
    {
     "name": "stderr",
     "output_type": "stream",
     "text": [
      "C:\\Users\\Laris\\AppData\\Local\\Temp\\ipykernel_17976\\1741293812.py:2: SettingWithCopyWarning:\n",
      "\n",
      "\n",
      "A value is trying to be set on a copy of a slice from a DataFrame.\n",
      "Try using .loc[row_indexer,col_indexer] = value instead\n",
      "\n",
      "See the caveats in the documentation: https://pandas.pydata.org/pandas-docs/stable/user_guide/indexing.html#returning-a-view-versus-a-copy\n",
      "\n"
     ]
    },
    {
     "data": {
      "application/vnd.plotly.v1+json": {
       "config": {
        "plotlyServerURL": "https://plot.ly"
       },
       "data": [
        {
         "hovertemplate": "category=Calibration block identification<br>date=%{x}<br>value=%{y}<extra></extra>",
         "legendgroup": "Calibration block identification",
         "line": {
          "color": "#636efa",
          "dash": "solid"
         },
         "marker": {
          "symbol": "circle"
         },
         "mode": "lines+markers",
         "name": "Calibration block identification",
         "showlegend": true,
         "type": "scattergl",
         "x": [
          "2023-12-13",
          "2023-12-20",
          "2024-01-03",
          "2024-01-17",
          "2024-01-31",
          "2024-03-20",
          "2024-04-03",
          "2024-04-17",
          "2024-05-29",
          "2024-07-10",
          "2024-09-11",
          "2024-10-23",
          "2024-11-06",
          "2024-11-27",
          "2024-12-18",
          "2024-12-27",
          "2025-01-29",
          "2025-02-12",
          "2025-03-05",
          "2025-03-12"
         ],
         "xaxis": "x",
         "y": {
          "bdata": "URRRFFEUURRRFFEUURRRFFEUURRRFFEUURRRFFEUURRRFFEUURRRFA==",
          "dtype": "i2"
         },
         "yaxis": "y"
        },
        {
         "hovertemplate": "category=Radiation type<br>date=%{x}<br>value=%{y}<extra></extra>",
         "legendgroup": "Radiation type",
         "line": {
          "color": "#EF553B",
          "dash": "solid"
         },
         "marker": {
          "symbol": "circle"
         },
         "mode": "lines+markers",
         "name": "Radiation type",
         "showlegend": true,
         "type": "scattergl",
         "x": [
          "2023-12-13",
          "2023-12-20",
          "2024-01-03",
          "2024-01-17",
          "2024-01-31",
          "2024-03-20",
          "2024-04-03",
          "2024-04-17",
          "2024-05-29",
          "2024-07-10",
          "2024-09-11",
          "2024-10-23",
          "2024-11-06",
          "2024-11-27",
          "2024-12-18",
          "2024-12-27",
          "2025-01-29",
          "2025-02-12",
          "2025-03-05",
          "2025-03-12"
         ],
         "xaxis": "x",
         "y": {
          "bdata": "AQEBAQEBAQEBAQEBAQEBAQEBAQE=",
          "dtype": "i1"
         },
         "yaxis": "y"
        },
        {
         "hovertemplate": "category=Energy code<br>date=%{x}<br>value=%{y}<extra></extra>",
         "legendgroup": "Energy code",
         "line": {
          "color": "#00cc96",
          "dash": "solid"
         },
         "marker": {
          "symbol": "circle"
         },
         "mode": "lines+markers",
         "name": "Energy code",
         "showlegend": true,
         "type": "scattergl",
         "x": [
          "2023-12-13",
          "2023-12-20",
          "2024-01-03",
          "2024-01-17",
          "2024-01-31",
          "2024-03-20",
          "2024-04-03",
          "2024-04-17",
          "2024-05-29",
          "2024-07-10",
          "2024-09-11",
          "2024-10-23",
          "2024-11-06",
          "2024-11-27",
          "2024-12-18",
          "2024-12-27",
          "2025-01-29",
          "2025-02-12",
          "2025-03-05",
          "2025-03-12"
         ],
         "xaxis": "x",
         "y": {
          "bdata": "AQEBAQEBAQEBAQEBAQEBAQEBAQE=",
          "dtype": "i1"
         },
         "yaxis": "y"
        },
        {
         "hovertemplate": "category=Default nominal dose rate<br>date=%{x}<br>value=%{y}<extra></extra>",
         "legendgroup": "Default nominal dose rate",
         "line": {
          "color": "#ab63fa",
          "dash": "solid"
         },
         "marker": {
          "symbol": "circle"
         },
         "mode": "lines+markers",
         "name": "Default nominal dose rate",
         "showlegend": true,
         "type": "scattergl",
         "x": [
          "2023-12-13",
          "2023-12-20",
          "2024-01-03",
          "2024-01-17",
          "2024-01-31",
          "2024-03-20",
          "2024-04-03",
          "2024-04-17",
          "2024-05-29",
          "2024-07-10",
          "2024-09-11",
          "2024-10-23",
          "2024-11-06",
          "2024-11-27",
          "2024-12-18",
          "2024-12-27",
          "2025-01-29",
          "2025-02-12",
          "2025-03-05",
          "2025-03-12"
         ],
         "xaxis": "x",
         "y": {
          "bdata": "sASwBLAEsASwBLAEsASwBLAEsASwBLAEsASwBLAEsASwBLAEsASwBA==",
          "dtype": "i2"
         },
         "yaxis": "y"
        },
        {
         "hovertemplate": "category=Monitored dose rate channel 1<br>date=%{x}<br>value=%{y}<extra></extra>",
         "legendgroup": "Monitored dose rate channel 1",
         "line": {
          "color": "#FFA15A",
          "dash": "solid"
         },
         "marker": {
          "symbol": "circle"
         },
         "mode": "lines+markers",
         "name": "Monitored dose rate channel 1",
         "showlegend": true,
         "type": "scattergl",
         "x": [
          "2023-12-13",
          "2023-12-13",
          "2023-12-13",
          "2023-12-20",
          "2023-12-20",
          "2023-12-20",
          "2024-01-03",
          "2024-01-03",
          "2024-01-03",
          "2024-01-17",
          "2024-01-17",
          "2024-01-17",
          "2024-01-31",
          "2024-01-31",
          "2024-01-31",
          "2024-03-20",
          "2024-03-20",
          "2024-03-20",
          "2024-04-03",
          "2024-04-03",
          "2024-04-03",
          "2024-04-17",
          "2024-04-17",
          "2024-04-17",
          "2024-05-29",
          "2024-05-29",
          "2024-05-29",
          "2024-07-10",
          "2024-07-10",
          "2024-07-10",
          "2024-09-11",
          "2024-09-11",
          "2024-09-11",
          "2024-10-23",
          "2024-10-23",
          "2024-10-23",
          "2024-11-06",
          "2024-11-06",
          "2024-11-06",
          "2024-11-27",
          "2024-11-27",
          "2024-11-27",
          "2024-12-18",
          "2024-12-18",
          "2024-12-18",
          "2024-12-27",
          "2024-12-27",
          "2024-12-27",
          "2025-01-29",
          "2025-01-29",
          "2025-01-29",
          "2025-02-12",
          "2025-02-12",
          "2025-02-12",
          "2025-03-05",
          "2025-03-05",
          "2025-03-05",
          "2025-03-12",
          "2025-03-12",
          "2025-03-12"
         ],
         "xaxis": "x",
         "y": {
          "bdata": "kALpAfABkALpAQAAkALpAeQBkALpAesBkALpAQAAkALpAeYBkALpAekBkALpAfEBkALpAQAAdALoAegBdALoAeMBdALoAQAAdALoAeABdALoAQAAdALoAQAAdALoAQAAdALoAeQBdALoAQAAdALoAQAAdALoAQAA",
          "dtype": "i2"
         },
         "yaxis": "y"
        },
        {
         "hovertemplate": "category=Monitored dose rate channel 2<br>date=%{x}<br>value=%{y}<extra></extra>",
         "legendgroup": "Monitored dose rate channel 2",
         "line": {
          "color": "#19d3f3",
          "dash": "solid"
         },
         "marker": {
          "symbol": "circle"
         },
         "mode": "lines+markers",
         "name": "Monitored dose rate channel 2",
         "showlegend": true,
         "type": "scattergl",
         "x": [
          "2023-12-13",
          "2023-12-13",
          "2023-12-20",
          "2023-12-20",
          "2024-01-03",
          "2024-01-03",
          "2024-01-17",
          "2024-01-17",
          "2024-01-31",
          "2024-01-31",
          "2024-03-20",
          "2024-03-20",
          "2024-04-03",
          "2024-04-03",
          "2024-04-17",
          "2024-04-17",
          "2024-05-29",
          "2024-05-29",
          "2024-07-10",
          "2024-07-10",
          "2024-09-11",
          "2024-09-11",
          "2024-10-23",
          "2024-10-23",
          "2024-11-06",
          "2024-11-06",
          "2024-11-27",
          "2024-11-27",
          "2024-12-18",
          "2024-12-18",
          "2024-12-27",
          "2024-12-27",
          "2025-01-29",
          "2025-01-29",
          "2025-02-12",
          "2025-02-12",
          "2025-03-05",
          "2025-03-05",
          "2025-03-12",
          "2025-03-12"
         ],
         "xaxis": "x",
         "y": {
          "bdata": "6APqAegDAADoA+UB6APqAegDAADoA+IB6APnAegD7wHoAwAA6APqAegD4gHoAwAA6APiAegDAADoAwAA6AMAAOgD4gHoAwAA6AMAAOgDAAA=",
          "dtype": "i2"
         },
         "yaxis": "y"
        },
        {
         "hovertemplate": "category=Set dosimetry channel 1 reference<br>date=%{x}<br>value=%{y}<extra></extra>",
         "legendgroup": "Set dosimetry channel 1 reference",
         "line": {
          "color": "#FF6692",
          "dash": "solid"
         },
         "marker": {
          "symbol": "circle"
         },
         "mode": "lines+markers",
         "name": "Set dosimetry channel 1 reference",
         "showlegend": true,
         "type": "scattergl",
         "x": [
          "2023-12-13",
          "2023-12-13",
          "2023-12-20",
          "2023-12-20",
          "2024-01-03",
          "2024-01-03",
          "2024-01-17",
          "2024-01-17",
          "2024-01-31",
          "2024-01-31",
          "2024-03-20",
          "2024-03-20",
          "2024-04-03",
          "2024-04-03",
          "2024-04-17",
          "2024-04-17",
          "2024-05-29",
          "2024-05-29",
          "2024-07-10",
          "2024-07-10",
          "2024-09-11",
          "2024-09-11",
          "2024-10-23",
          "2024-10-23",
          "2024-11-06",
          "2024-11-06",
          "2024-11-27",
          "2024-11-27",
          "2024-12-18",
          "2024-12-18",
          "2024-12-27",
          "2024-12-27",
          "2025-01-29",
          "2025-01-29",
          "2025-02-12",
          "2025-02-12",
          "2025-03-05",
          "2025-03-05",
          "2025-03-12",
          "2025-03-12"
         ],
         "xaxis": "x",
         "y": {
          "bdata": "DwgtCAgIDggICE4ICAggCAEIEQgBCCAIAQg4CAEIJgj2BxEI9gcUCPYH+AfvB/gH7wfxB+gH7AfoB+oHAAg0CAAIMgj3BwEI9wf8B94H/Qc=",
          "dtype": "i2"
         },
         "yaxis": "y"
        },
        {
         "hovertemplate": "category=Set dosimetry channel 2 reference<br>date=%{x}<br>value=%{y}<extra></extra>",
         "legendgroup": "Set dosimetry channel 2 reference",
         "line": {
          "color": "#B6E880",
          "dash": "solid"
         },
         "marker": {
          "symbol": "circle"
         },
         "mode": "lines+markers",
         "name": "Set dosimetry channel 2 reference",
         "showlegend": true,
         "type": "scattergl",
         "x": [
          "2023-12-13",
          "2023-12-13",
          "2023-12-20",
          "2023-12-20",
          "2024-01-03",
          "2024-01-03",
          "2024-01-17",
          "2024-01-17",
          "2024-01-31",
          "2024-01-31",
          "2024-03-20",
          "2024-03-20",
          "2024-04-03",
          "2024-04-03",
          "2024-04-17",
          "2024-04-17",
          "2024-05-29",
          "2024-05-29",
          "2024-07-10",
          "2024-07-10",
          "2024-09-11",
          "2024-09-11",
          "2024-10-23",
          "2024-10-23",
          "2024-11-06",
          "2024-11-06",
          "2024-11-27",
          "2024-11-27",
          "2024-12-18",
          "2024-12-18",
          "2024-12-27",
          "2024-12-27",
          "2025-01-29",
          "2025-01-29",
          "2025-02-12",
          "2025-02-12",
          "2025-03-05",
          "2025-03-05",
          "2025-03-12",
          "2025-03-12"
         ],
         "xaxis": "x",
         "y": {
          "bdata": "GAc5BxEHGAcRB18HEQcsBwoHHAcKBy0HCgdIBwoHMwf+BhwH/gYgB/4GAAf3BgEH9wb5BvAG9QbwBvIGCwdFBwsHQwcBBwwHAQcHB+UGCAc=",
          "dtype": "i2"
         },
         "yaxis": "y"
        },
        {
         "hovertemplate": "category=Bending current set coarse<br>date=%{x}<br>value=%{y}<extra></extra>",
         "legendgroup": "Bending current set coarse",
         "line": {
          "color": "#FF97FF",
          "dash": "solid"
         },
         "marker": {
          "symbol": "circle"
         },
         "mode": "lines+markers",
         "name": "Bending current set coarse",
         "showlegend": true,
         "type": "scattergl",
         "x": [
          "2023-12-13",
          "2023-12-20",
          "2024-01-03",
          "2024-01-17",
          "2024-01-31",
          "2024-03-20",
          "2024-04-03",
          "2024-04-17",
          "2024-05-29",
          "2024-07-10",
          "2024-09-11",
          "2024-10-23",
          "2024-11-06",
          "2024-11-27",
          "2024-12-18",
          "2024-12-27",
          "2025-01-29",
          "2025-02-12",
          "2025-03-05",
          "2025-03-12"
         ],
         "xaxis": "x",
         "y": {
          "bdata": "jgGOAY4BjgGOAY4BjgGOAYkBiQGJAYkBiQGJAYkBiQGJAYkBiQGJAQ==",
          "dtype": "i2"
         },
         "yaxis": "y"
        },
        {
         "hovertemplate": "category=Bending current set fine<br>date=%{x}<br>value=%{y}<extra></extra>",
         "legendgroup": "Bending current set fine",
         "line": {
          "color": "#FECB52",
          "dash": "solid"
         },
         "marker": {
          "symbol": "circle"
         },
         "mode": "lines+markers",
         "name": "Bending current set fine",
         "showlegend": true,
         "type": "scattergl",
         "x": [
          "2023-12-13",
          "2023-12-20",
          "2024-01-03",
          "2024-01-17",
          "2024-01-31",
          "2024-03-20",
          "2024-04-03",
          "2024-04-17",
          "2024-05-29",
          "2024-07-10",
          "2024-09-11",
          "2024-10-23",
          "2024-11-06",
          "2024-11-27",
          "2024-12-18",
          "2024-12-27",
          "2025-01-29",
          "2025-02-12",
          "2025-03-05",
          "2025-03-12"
         ],
         "xaxis": "x",
         "y": {
          "bdata": "sgCyALIAsgCyALIAsgCyALAAsACwALAAsACwALAAsACwALAAsACwAA==",
          "dtype": "i2"
         },
         "yaxis": "y"
        },
        {
         "hovertemplate": "category=Focus current set 1<br>date=%{x}<br>value=%{y}<extra></extra>",
         "legendgroup": "Focus current set 1",
         "line": {
          "color": "#636efa",
          "dash": "solid"
         },
         "marker": {
          "symbol": "circle"
         },
         "mode": "lines+markers",
         "name": "Focus current set 1",
         "showlegend": true,
         "type": "scattergl",
         "x": [
          "2023-12-13",
          "2023-12-20",
          "2024-01-03",
          "2024-01-17",
          "2024-01-31",
          "2024-03-20",
          "2024-04-03",
          "2024-04-17",
          "2024-05-29",
          "2024-07-10",
          "2024-09-11",
          "2024-10-23",
          "2024-11-06",
          "2024-11-27",
          "2024-12-18",
          "2024-12-27",
          "2025-01-29",
          "2025-02-12",
          "2025-03-05",
          "2025-03-12"
         ],
         "xaxis": "x",
         "y": {
          "bdata": "iQOJA4kDiQOJA4kDiQOJA4kDiQOJA4kDiQOJA4kDiQOJA4kDiQOJAw==",
          "dtype": "i2"
         },
         "yaxis": "y"
        },
        {
         "hovertemplate": "category=Focus current set 2<br>date=%{x}<br>value=%{y}<extra></extra>",
         "legendgroup": "Focus current set 2",
         "line": {
          "color": "#EF553B",
          "dash": "solid"
         },
         "marker": {
          "symbol": "circle"
         },
         "mode": "lines+markers",
         "name": "Focus current set 2",
         "showlegend": true,
         "type": "scattergl",
         "x": [
          "2023-12-13",
          "2023-12-20",
          "2024-01-03",
          "2024-01-17",
          "2024-01-31",
          "2024-03-20",
          "2024-04-03",
          "2024-04-17",
          "2024-05-29",
          "2024-07-10",
          "2024-09-11",
          "2024-10-23",
          "2024-11-06",
          "2024-11-27",
          "2024-12-18",
          "2024-12-27",
          "2025-01-29",
          "2025-02-12",
          "2025-03-05",
          "2025-03-12"
         ],
         "xaxis": "x",
         "y": {
          "bdata": "YARgBGAEYARgBGAEYARgBGAEYARgBGAEYARgBGAEYARgBGAEYARgBA==",
          "dtype": "i2"
         },
         "yaxis": "y"
        },
        {
         "hovertemplate": "category=Magnetron magnet voltage monitor<br>date=%{x}<br>value=%{y}<extra></extra>",
         "legendgroup": "Magnetron magnet voltage monitor",
         "line": {
          "color": "#00cc96",
          "dash": "solid"
         },
         "marker": {
          "symbol": "circle"
         },
         "mode": "lines+markers",
         "name": "Magnetron magnet voltage monitor",
         "showlegend": true,
         "type": "scattergl",
         "x": [
          "2023-12-13",
          "2023-12-20",
          "2024-01-03",
          "2024-01-17",
          "2024-01-31",
          "2024-03-20",
          "2024-04-03",
          "2024-04-17",
          "2024-05-29",
          "2024-07-10",
          "2024-09-11",
          "2024-10-23",
          "2024-11-06",
          "2024-11-27",
          "2024-12-18",
          "2024-12-27",
          "2025-01-29",
          "2025-02-12",
          "2025-03-05",
          "2025-03-12"
         ],
         "xaxis": "x",
         "y": {
          "bdata": "uAu4C7gLuAu4C7gLuAu4C7gLuAu4C7gLuAu4C7gLuAu4C7gLuAu4Cw==",
          "dtype": "i2"
         },
         "yaxis": "y"
        },
        {
         "hovertemplate": "category=Bending magnet voltage<br>date=%{x}<br>value=%{y}<extra></extra>",
         "legendgroup": "Bending magnet voltage",
         "line": {
          "color": "#ab63fa",
          "dash": "solid"
         },
         "marker": {
          "symbol": "circle"
         },
         "mode": "lines+markers",
         "name": "Bending magnet voltage",
         "showlegend": true,
         "type": "scattergl",
         "x": [
          "2023-12-13",
          "2023-12-20",
          "2024-01-03",
          "2024-01-17",
          "2024-01-31",
          "2024-03-20",
          "2024-04-03",
          "2024-04-17",
          "2024-05-29",
          "2024-07-10",
          "2024-09-11",
          "2024-10-23",
          "2024-11-06",
          "2024-11-27",
          "2024-12-18",
          "2024-12-27",
          "2025-01-29",
          "2025-02-12",
          "2025-03-05",
          "2025-03-12"
         ],
         "xaxis": "x",
         "y": {
          "bdata": "ogGiAaIBogGiAaIBogGiAaIBogGiAaIBogGiAaIBogGiAaIBogGiAQ==",
          "dtype": "i2"
         },
         "yaxis": "y"
        },
        {
         "hovertemplate": "category=Focus 1 voltage<br>date=%{x}<br>value=%{y}<extra></extra>",
         "legendgroup": "Focus 1 voltage",
         "line": {
          "color": "#FFA15A",
          "dash": "solid"
         },
         "marker": {
          "symbol": "circle"
         },
         "mode": "lines+markers",
         "name": "Focus 1 voltage",
         "showlegend": true,
         "type": "scattergl",
         "x": [
          "2023-12-13",
          "2023-12-20",
          "2024-01-03",
          "2024-01-17",
          "2024-01-31",
          "2024-03-20",
          "2024-04-03",
          "2024-04-17",
          "2024-05-29",
          "2024-07-10",
          "2024-09-11",
          "2024-10-23",
          "2024-11-06",
          "2024-11-27",
          "2024-12-18",
          "2024-12-27",
          "2025-01-29",
          "2025-02-12",
          "2025-03-05",
          "2025-03-12"
         ],
         "xaxis": "x",
         "y": {
          "bdata": "8ArwCvAK8ArwCvAK8ArwCvAK8ArwCvAK8ArwCvAK8ArwCvAK8ArwCg==",
          "dtype": "i2"
         },
         "yaxis": "y"
        },
        {
         "hovertemplate": "category=Focus 2 voltage<br>date=%{x}<br>value=%{y}<extra></extra>",
         "legendgroup": "Focus 2 voltage",
         "line": {
          "color": "#19d3f3",
          "dash": "solid"
         },
         "marker": {
          "symbol": "circle"
         },
         "mode": "lines+markers",
         "name": "Focus 2 voltage",
         "showlegend": true,
         "type": "scattergl",
         "x": [
          "2023-12-13",
          "2023-12-20",
          "2024-01-03",
          "2024-01-17",
          "2024-01-31",
          "2024-03-20",
          "2024-04-03",
          "2024-04-17",
          "2024-05-29",
          "2024-07-10",
          "2024-09-11",
          "2024-10-23",
          "2024-11-06",
          "2024-11-27",
          "2024-12-18",
          "2024-12-27",
          "2025-01-29",
          "2025-02-12",
          "2025-03-05",
          "2025-03-12"
         ],
         "xaxis": "x",
         "y": {
          "bdata": "+BH4EfgR+BH4EfgR+BH4EfgR+BH4EfgR+BH4EfgR+BH4EfgR+BH4EQ==",
          "dtype": "i2"
         },
         "yaxis": "y"
        },
        {
         "hovertemplate": "category=Set magnetron magnet current<br>date=%{x}<br>value=%{y}<extra></extra>",
         "legendgroup": "Set magnetron magnet current",
         "line": {
          "color": "#FF6692",
          "dash": "solid"
         },
         "marker": {
          "symbol": "circle"
         },
         "mode": "lines+markers",
         "name": "Set magnetron magnet current",
         "showlegend": true,
         "type": "scattergl",
         "x": [
          "2023-12-13",
          "2023-12-20",
          "2024-01-03",
          "2024-01-17",
          "2024-01-31",
          "2024-03-20",
          "2024-04-03",
          "2024-04-17",
          "2024-05-29",
          "2024-07-10",
          "2024-09-11",
          "2024-10-23",
          "2024-11-06",
          "2024-11-27",
          "2024-12-18",
          "2024-12-27",
          "2025-01-29",
          "2025-02-12",
          "2025-03-05",
          "2025-03-12"
         ],
         "xaxis": "x",
         "y": {
          "bdata": "kgmSCZIJkgmSCZIJkgmSCZIJkgmSCZIJkgmSCZIJkgmSCZIJkgmSCQ==",
          "dtype": "i2"
         },
         "yaxis": "y"
        },
        {
         "hovertemplate": "category=Set magnetron filament voltage<br>date=%{x}<br>value=%{y}<extra></extra>",
         "legendgroup": "Set magnetron filament voltage",
         "line": {
          "color": "#B6E880",
          "dash": "solid"
         },
         "marker": {
          "symbol": "circle"
         },
         "mode": "lines+markers",
         "name": "Set magnetron filament voltage",
         "showlegend": true,
         "type": "scattergl",
         "x": [
          "2023-12-13",
          "2023-12-20",
          "2024-01-03",
          "2024-01-17",
          "2024-01-31",
          "2024-03-20",
          "2024-04-03",
          "2024-04-17",
          "2024-05-29",
          "2024-07-10",
          "2024-09-11",
          "2024-10-23",
          "2024-11-06",
          "2024-11-27",
          "2024-12-18",
          "2024-12-27",
          "2025-01-29",
          "2025-02-12",
          "2025-03-05",
          "2025-03-12"
         ],
         "xaxis": "x",
         "y": {
          "bdata": "5f8AAOX/AADl/wAA5f8AAOX/AADl/wAA5f8AAOX/AADl/wAA5f8AAOX////l////5f///+X////l////5f///+X////l////5f///+X///8=",
          "dtype": "i4"
         },
         "yaxis": "y"
        },
        {
         "hovertemplate": "category=Charge rate<br>date=%{x}<br>value=%{y}<extra></extra>",
         "legendgroup": "Charge rate",
         "line": {
          "color": "#FF97FF",
          "dash": "solid"
         },
         "marker": {
          "symbol": "circle"
         },
         "mode": "lines+markers",
         "name": "Charge rate",
         "showlegend": true,
         "type": "scattergl",
         "x": [
          "2023-12-13",
          "2023-12-20",
          "2024-01-03",
          "2024-01-17",
          "2024-01-31",
          "2024-03-20",
          "2024-04-03",
          "2024-04-17",
          "2024-05-29",
          "2024-07-10",
          "2024-09-11",
          "2024-10-23",
          "2024-11-06",
          "2024-11-27",
          "2024-12-18",
          "2024-12-27",
          "2025-01-29",
          "2025-02-12",
          "2025-03-05",
          "2025-03-12"
         ],
         "xaxis": "x",
         "y": {
          "bdata": "WgpaCloKWgpaCloKWgpaCloKWgpaCloKWgpaCloKWgpaCloKWgpaCg==",
          "dtype": "i2"
         },
         "yaxis": "y"
        },
        {
         "hovertemplate": "category=Set centring 1T<br>date=%{x}<br>value=%{y}<extra></extra>",
         "legendgroup": "Set centring 1T",
         "line": {
          "color": "#FECB52",
          "dash": "solid"
         },
         "marker": {
          "symbol": "circle"
         },
         "mode": "lines+markers",
         "name": "Set centring 1T",
         "showlegend": true,
         "type": "scattergl",
         "x": [
          "2023-12-13",
          "2023-12-20",
          "2024-01-03",
          "2024-01-17",
          "2024-01-31",
          "2024-03-20",
          "2024-04-03",
          "2024-04-17",
          "2024-05-29",
          "2024-07-10",
          "2024-09-11",
          "2024-10-23",
          "2024-11-06",
          "2024-11-27",
          "2024-12-18",
          "2024-12-27",
          "2025-01-29",
          "2025-02-12",
          "2025-03-05",
          "2025-03-12"
         ],
         "xaxis": "x",
         "y": {
          "bdata": "xP8AAMT/AADE/wAAxP8AAMT/AADE/wAAxP8AAMT/AADE/wAAxP8AAMT////E////xP///8T////E////xP///8T////E////xP///8T///8=",
          "dtype": "i4"
         },
         "yaxis": "y"
        },
        {
         "hovertemplate": "category=Set centring 1R<br>date=%{x}<br>value=%{y}<extra></extra>",
         "legendgroup": "Set centring 1R",
         "line": {
          "color": "#636efa",
          "dash": "solid"
         },
         "marker": {
          "symbol": "circle"
         },
         "mode": "lines+markers",
         "name": "Set centring 1R",
         "showlegend": true,
         "type": "scattergl",
         "x": [
          "2023-12-13",
          "2023-12-20",
          "2024-01-03",
          "2024-01-17",
          "2024-01-31",
          "2024-03-20",
          "2024-04-03",
          "2024-04-17",
          "2024-05-29",
          "2024-07-10",
          "2024-09-11",
          "2024-10-23",
          "2024-11-06",
          "2024-11-27",
          "2024-12-18",
          "2024-12-27",
          "2025-01-29",
          "2025-02-12",
          "2025-03-05",
          "2025-03-12"
         ],
         "xaxis": "x",
         "y": {
          "bdata": "yv8AAMr/AADK/wAAyv8AAMr/AADK/wAAyv8AAMr/AADK/wAAyv8AAMr////K////yv///8r////K////yv///8r////K////yv///8r///8=",
          "dtype": "i4"
         },
         "yaxis": "y"
        },
        {
         "hovertemplate": "category=Flatness 2R servo block<br>date=%{x}<br>value=%{y}<extra></extra>",
         "legendgroup": "Flatness 2R servo block",
         "line": {
          "color": "#EF553B",
          "dash": "solid"
         },
         "marker": {
          "symbol": "circle"
         },
         "mode": "lines+markers",
         "name": "Flatness 2R servo block",
         "showlegend": true,
         "type": "scattergl",
         "x": [
          "2023-12-13",
          "2023-12-13",
          "2023-12-13",
          "2023-12-13",
          "2023-12-13",
          "2023-12-13",
          "2023-12-13",
          "2023-12-13",
          "2023-12-13",
          "2023-12-13",
          "2023-12-13",
          "2023-12-13",
          "2023-12-13",
          "2023-12-13",
          "2023-12-13",
          "2023-12-13",
          "2023-12-13",
          "2023-12-20",
          "2023-12-20",
          "2023-12-20",
          "2023-12-20",
          "2023-12-20",
          "2023-12-20",
          "2023-12-20",
          "2023-12-20",
          "2023-12-20",
          "2023-12-20",
          "2023-12-20",
          "2023-12-20",
          "2023-12-20",
          "2023-12-20",
          "2023-12-20",
          "2023-12-20",
          "2023-12-20",
          "2024-01-03",
          "2024-01-03",
          "2024-01-03",
          "2024-01-03",
          "2024-01-03",
          "2024-01-03",
          "2024-01-03",
          "2024-01-03",
          "2024-01-03",
          "2024-01-03",
          "2024-01-03",
          "2024-01-03",
          "2024-01-03",
          "2024-01-03",
          "2024-01-03",
          "2024-01-03",
          "2024-01-03",
          "2024-01-17",
          "2024-01-17",
          "2024-01-17",
          "2024-01-17",
          "2024-01-17",
          "2024-01-17",
          "2024-01-17",
          "2024-01-17",
          "2024-01-17",
          "2024-01-17",
          "2024-01-17",
          "2024-01-17",
          "2024-01-17",
          "2024-01-17",
          "2024-01-17",
          "2024-01-17",
          "2024-01-17",
          "2024-01-31",
          "2024-01-31",
          "2024-01-31",
          "2024-01-31",
          "2024-01-31",
          "2024-01-31",
          "2024-01-31",
          "2024-01-31",
          "2024-01-31",
          "2024-01-31",
          "2024-01-31",
          "2024-01-31",
          "2024-01-31",
          "2024-01-31",
          "2024-01-31",
          "2024-01-31",
          "2024-01-31",
          "2024-03-20",
          "2024-03-20",
          "2024-03-20",
          "2024-03-20",
          "2024-03-20",
          "2024-03-20",
          "2024-03-20",
          "2024-03-20",
          "2024-03-20",
          "2024-03-20",
          "2024-03-20",
          "2024-03-20",
          "2024-03-20",
          "2024-03-20",
          "2024-03-20",
          "2024-03-20",
          "2024-03-20",
          "2024-04-03",
          "2024-04-03",
          "2024-04-03",
          "2024-04-03",
          "2024-04-03",
          "2024-04-03",
          "2024-04-03",
          "2024-04-03",
          "2024-04-03",
          "2024-04-03",
          "2024-04-03",
          "2024-04-03",
          "2024-04-03",
          "2024-04-03",
          "2024-04-03",
          "2024-04-03",
          "2024-04-03",
          "2024-04-17",
          "2024-04-17",
          "2024-04-17",
          "2024-04-17",
          "2024-04-17",
          "2024-04-17",
          "2024-04-17",
          "2024-04-17",
          "2024-04-17",
          "2024-04-17",
          "2024-04-17",
          "2024-04-17",
          "2024-04-17",
          "2024-04-17",
          "2024-04-17",
          "2024-04-17",
          "2024-04-17",
          "2024-05-29",
          "2024-05-29",
          "2024-05-29",
          "2024-05-29",
          "2024-05-29",
          "2024-05-29",
          "2024-05-29",
          "2024-05-29",
          "2024-05-29",
          "2024-05-29",
          "2024-05-29",
          "2024-05-29",
          "2024-05-29",
          "2024-05-29",
          "2024-05-29",
          "2024-05-29",
          "2024-05-29",
          "2024-07-10",
          "2024-07-10",
          "2024-07-10",
          "2024-07-10",
          "2024-07-10",
          "2024-07-10",
          "2024-07-10",
          "2024-07-10",
          "2024-07-10",
          "2024-07-10",
          "2024-07-10",
          "2024-07-10",
          "2024-07-10",
          "2024-07-10",
          "2024-07-10",
          "2024-07-10",
          "2024-07-10",
          "2024-09-11",
          "2024-09-11",
          "2024-09-11",
          "2024-09-11",
          "2024-09-11",
          "2024-09-11",
          "2024-09-11",
          "2024-09-11",
          "2024-09-11",
          "2024-09-11",
          "2024-09-11",
          "2024-09-11",
          "2024-09-11",
          "2024-09-11",
          "2024-09-11",
          "2024-09-11",
          "2024-09-11",
          "2024-10-23",
          "2024-10-23",
          "2024-10-23",
          "2024-10-23",
          "2024-10-23",
          "2024-10-23",
          "2024-10-23",
          "2024-10-23",
          "2024-10-23",
          "2024-10-23",
          "2024-10-23",
          "2024-10-23",
          "2024-10-23",
          "2024-10-23",
          "2024-10-23",
          "2024-10-23",
          "2024-10-23",
          "2024-11-06",
          "2024-11-06",
          "2024-11-06",
          "2024-11-06",
          "2024-11-06",
          "2024-11-06",
          "2024-11-06",
          "2024-11-06",
          "2024-11-06",
          "2024-11-06",
          "2024-11-06",
          "2024-11-06",
          "2024-11-06",
          "2024-11-06",
          "2024-11-06",
          "2024-11-06",
          "2024-11-06",
          "2024-11-27",
          "2024-11-27",
          "2024-11-27",
          "2024-11-27",
          "2024-11-27",
          "2024-11-27",
          "2024-11-27",
          "2024-11-27",
          "2024-11-27",
          "2024-11-27",
          "2024-11-27",
          "2024-11-27",
          "2024-11-27",
          "2024-11-27",
          "2024-11-27",
          "2024-11-27",
          "2024-11-27",
          "2024-12-18",
          "2024-12-18",
          "2024-12-18",
          "2024-12-18",
          "2024-12-18",
          "2024-12-18",
          "2024-12-18",
          "2024-12-18",
          "2024-12-18",
          "2024-12-18",
          "2024-12-18",
          "2024-12-18",
          "2024-12-18",
          "2024-12-18",
          "2024-12-18",
          "2024-12-18",
          "2024-12-18",
          "2024-12-27",
          "2024-12-27",
          "2024-12-27",
          "2024-12-27",
          "2024-12-27",
          "2024-12-27",
          "2024-12-27",
          "2024-12-27",
          "2024-12-27",
          "2024-12-27",
          "2024-12-27",
          "2024-12-27",
          "2024-12-27",
          "2024-12-27",
          "2024-12-27",
          "2024-12-27",
          "2024-12-27",
          "2025-01-29",
          "2025-01-29",
          "2025-01-29",
          "2025-01-29",
          "2025-01-29",
          "2025-01-29",
          "2025-01-29",
          "2025-01-29",
          "2025-01-29",
          "2025-01-29",
          "2025-01-29",
          "2025-01-29",
          "2025-01-29",
          "2025-01-29",
          "2025-01-29",
          "2025-01-29",
          "2025-01-29",
          "2025-02-12",
          "2025-02-12",
          "2025-02-12",
          "2025-02-12",
          "2025-02-12",
          "2025-02-12",
          "2025-02-12",
          "2025-02-12",
          "2025-02-12",
          "2025-02-12",
          "2025-02-12",
          "2025-02-12",
          "2025-02-12",
          "2025-02-12",
          "2025-02-12",
          "2025-02-12",
          "2025-02-12",
          "2025-03-05",
          "2025-03-05",
          "2025-03-05",
          "2025-03-05",
          "2025-03-05",
          "2025-03-05",
          "2025-03-05",
          "2025-03-05",
          "2025-03-05",
          "2025-03-05",
          "2025-03-05",
          "2025-03-05",
          "2025-03-05",
          "2025-03-05",
          "2025-03-05",
          "2025-03-05",
          "2025-03-05",
          "2025-03-12",
          "2025-03-12",
          "2025-03-12",
          "2025-03-12",
          "2025-03-12",
          "2025-03-12",
          "2025-03-12",
          "2025-03-12",
          "2025-03-12",
          "2025-03-12",
          "2025-03-12",
          "2025-03-12",
          "2025-03-12",
          "2025-03-12",
          "2025-03-12",
          "2025-03-12",
          "2025-03-12"
         ],
         "xaxis": "x",
         "y": {
          "bdata": "sP8AAAAAAAAACAAAeAAAAKAAAABg/wAA0/8AAAAAAAAAAAAAAAAAAAAAAAAAAAAAAAAAAAAAAAAAAAAAAAAAAAAAAACw/wAAAAAAAAAIAAB4AAAAoAAAAGD/AADP/wAAAAAAAAAAAAAAAAAAAAAAAAAAAAAAAAAAAAAAAAAAAAAAAAAAAAAAALD/AAAAAAAAAAgAAHgAAACgAAAAYP8AAHX/AAAAAAAAAAAAAAAAAAAAAAAAAAAAAAAAAAAAAAAAAAAAAAAAAAAAAAAAsP8AAAAAAAAACAAAeAAAAKAAAABg/wAAzP8AAAAAAAAAAAAAAAAAAAAAAAAAAAAAAAAAAAAAAAAAAAAAAAAAAAAAAACw/wAAAAAAAAAIAAB4AAAAoAAAAGD/AADP/wAAAAAAAAAAAAAAAAAAAAAAAAAAAAAAAAAAAAAAAAAAAAAAAAAAAAAAALD/AAAAAAAAAAgAAHgAAACgAAAAYP8AAMr/AAAAAAAAAAAAAAAAAAAAAAAAAAAAAAAAAAAAAAAAAAAAAAAAAAAAAAAAsP8AAAAAAAAACAAAeAAAAKAAAABg/wAAwv8AAAAAAAAAAAAAAAAAAAAAAAAAAAAAAAAAAAAAAAAAAAAAAAAAAAAAAAC6/wAAAAAAAAAIAAB4AAAAoAAAAGD/AADY/wAAAAAAAAAAAAAAAAAAAAAAAAAAAAAAAAAAAAAAAAAAAAAAAAAAAAAAALr/AAAAAAAAAAgAAHgAAACgAAAAYP8AANn/AAAAAAAAAAAAAAAAAAAAAAAAAAAAAAAAAAAAAAAAAAAAAAAAAAAAAAAAtf8AAAAAAAAACAAAeAAAAKAAAABg/wAA1v8AAAAAAAAAAAAAAAAAAAAAAAAAAAAAAAAAAAAAAAAAAAAAAAAAAAAAAAC1////AAAAAAAIAAB4AAAAoAAAAGD////T////AAAAAAAAAAAAAAAAAAAAAAAAAAAAAAAAAAAAAAAAAAAAAAAAAAAAALX///8AAAAAAAgAAHgAAACgAAAAYP///9n///8AAAAAAAAAAAAAAAAAAAAAAAAAAAAAAAAAAAAAAAAAAAAAAAAAAAAAtf///wAAAAAACAAAeAAAAKAAAABg////2////wAAAAAAAAAAAAAAAAAAAAAAAAAAAAAAAAAAAAAAAAAAAAAAAAAAAAC1////AAAAAAAIAAB4AAAAoAAAAGD////U////AAAAAAAAAAAAAAAAAAAAAAAAAAAAAAAAAAAAAAAAAAAAAAAAAAAAALX///8AAAAAAAgAAHgAAACgAAAAYP///9T///8AAAAAAAAAAAAAAAAAAAAAAAAAAAAAAAAAAAAAAAAAAAAAAAAAAAAAtf///wAAAAAACAAAeAAAAKAAAABg////1P///wAAAAAAAAAAAAAAAAAAAAAAAAAAAAAAAAAAAAAAAAAAAAAAAAAAAAC1////AAAAAAAIAAB4AAAAoAAAAGD////T////AAAAAAAAAAAAAAAAAAAAAAAAAAAAAAAAAAAAAAAAAAAAAAAAAAAAALX///8AAAAAAAgAAHgAAACgAAAAYP///9T///8AAAAAAAAAAAAAAAAAAAAAAAAAAAAAAAAAAAAAAAAAAAAAAAAAAAAAtf///wAAAAAACAAAeAAAAKAAAABg////1P///wAAAAAAAAAAAAAAAAAAAAAAAAAAAAAAAAAAAAAAAAAAAAAAAAAAAAC1////AAAAAAAIAAB4AAAAoAAAAGD////U////AAAAAAAAAAAAAAAAAAAAAAAAAAAAAAAAAAAAAAAAAAAAAAAAAAAAAA==",
          "dtype": "i4"
         },
         "yaxis": "y"
        },
        {
         "hovertemplate": "category=Flatness 2T servo block<br>date=%{x}<br>value=%{y}<extra></extra>",
         "legendgroup": "Flatness 2T servo block",
         "line": {
          "color": "#00cc96",
          "dash": "solid"
         },
         "marker": {
          "symbol": "circle"
         },
         "mode": "lines+markers",
         "name": "Flatness 2T servo block",
         "showlegend": true,
         "type": "scattergl",
         "x": [
          "2023-12-13",
          "2023-12-13",
          "2023-12-13",
          "2023-12-13",
          "2023-12-13",
          "2023-12-13",
          "2023-12-13",
          "2023-12-13",
          "2023-12-13",
          "2023-12-13",
          "2023-12-13",
          "2023-12-13",
          "2023-12-13",
          "2023-12-13",
          "2023-12-13",
          "2023-12-13",
          "2023-12-13",
          "2023-12-20",
          "2023-12-20",
          "2023-12-20",
          "2023-12-20",
          "2023-12-20",
          "2023-12-20",
          "2023-12-20",
          "2023-12-20",
          "2023-12-20",
          "2023-12-20",
          "2023-12-20",
          "2023-12-20",
          "2023-12-20",
          "2023-12-20",
          "2023-12-20",
          "2023-12-20",
          "2023-12-20",
          "2024-01-03",
          "2024-01-03",
          "2024-01-03",
          "2024-01-03",
          "2024-01-03",
          "2024-01-03",
          "2024-01-03",
          "2024-01-03",
          "2024-01-03",
          "2024-01-03",
          "2024-01-03",
          "2024-01-03",
          "2024-01-03",
          "2024-01-03",
          "2024-01-03",
          "2024-01-03",
          "2024-01-03",
          "2024-01-17",
          "2024-01-17",
          "2024-01-17",
          "2024-01-17",
          "2024-01-17",
          "2024-01-17",
          "2024-01-17",
          "2024-01-17",
          "2024-01-17",
          "2024-01-17",
          "2024-01-17",
          "2024-01-17",
          "2024-01-17",
          "2024-01-17",
          "2024-01-17",
          "2024-01-17",
          "2024-01-17",
          "2024-01-31",
          "2024-01-31",
          "2024-01-31",
          "2024-01-31",
          "2024-01-31",
          "2024-01-31",
          "2024-01-31",
          "2024-01-31",
          "2024-01-31",
          "2024-01-31",
          "2024-01-31",
          "2024-01-31",
          "2024-01-31",
          "2024-01-31",
          "2024-01-31",
          "2024-01-31",
          "2024-01-31",
          "2024-03-20",
          "2024-03-20",
          "2024-03-20",
          "2024-03-20",
          "2024-03-20",
          "2024-03-20",
          "2024-03-20",
          "2024-03-20",
          "2024-03-20",
          "2024-03-20",
          "2024-03-20",
          "2024-03-20",
          "2024-03-20",
          "2024-03-20",
          "2024-03-20",
          "2024-03-20",
          "2024-03-20",
          "2024-04-03",
          "2024-04-03",
          "2024-04-03",
          "2024-04-03",
          "2024-04-03",
          "2024-04-03",
          "2024-04-03",
          "2024-04-03",
          "2024-04-03",
          "2024-04-03",
          "2024-04-03",
          "2024-04-03",
          "2024-04-03",
          "2024-04-03",
          "2024-04-03",
          "2024-04-03",
          "2024-04-03",
          "2024-04-17",
          "2024-04-17",
          "2024-04-17",
          "2024-04-17",
          "2024-04-17",
          "2024-04-17",
          "2024-04-17",
          "2024-04-17",
          "2024-04-17",
          "2024-04-17",
          "2024-04-17",
          "2024-04-17",
          "2024-04-17",
          "2024-04-17",
          "2024-04-17",
          "2024-04-17",
          "2024-04-17",
          "2024-05-29",
          "2024-05-29",
          "2024-05-29",
          "2024-05-29",
          "2024-05-29",
          "2024-05-29",
          "2024-05-29",
          "2024-05-29",
          "2024-05-29",
          "2024-05-29",
          "2024-05-29",
          "2024-05-29",
          "2024-05-29",
          "2024-05-29",
          "2024-05-29",
          "2024-05-29",
          "2024-05-29",
          "2024-07-10",
          "2024-07-10",
          "2024-07-10",
          "2024-07-10",
          "2024-07-10",
          "2024-07-10",
          "2024-07-10",
          "2024-07-10",
          "2024-07-10",
          "2024-07-10",
          "2024-07-10",
          "2024-07-10",
          "2024-07-10",
          "2024-07-10",
          "2024-07-10",
          "2024-07-10",
          "2024-07-10",
          "2024-09-11",
          "2024-09-11",
          "2024-09-11",
          "2024-09-11",
          "2024-09-11",
          "2024-09-11",
          "2024-09-11",
          "2024-09-11",
          "2024-09-11",
          "2024-09-11",
          "2024-09-11",
          "2024-09-11",
          "2024-09-11",
          "2024-09-11",
          "2024-09-11",
          "2024-09-11",
          "2024-09-11",
          "2024-10-23",
          "2024-10-23",
          "2024-10-23",
          "2024-10-23",
          "2024-10-23",
          "2024-10-23",
          "2024-10-23",
          "2024-10-23",
          "2024-10-23",
          "2024-10-23",
          "2024-10-23",
          "2024-10-23",
          "2024-10-23",
          "2024-10-23",
          "2024-10-23",
          "2024-10-23",
          "2024-10-23",
          "2024-11-06",
          "2024-11-06",
          "2024-11-06",
          "2024-11-06",
          "2024-11-06",
          "2024-11-06",
          "2024-11-06",
          "2024-11-06",
          "2024-11-06",
          "2024-11-06",
          "2024-11-06",
          "2024-11-06",
          "2024-11-06",
          "2024-11-06",
          "2024-11-06",
          "2024-11-06",
          "2024-11-06",
          "2024-11-27",
          "2024-11-27",
          "2024-11-27",
          "2024-11-27",
          "2024-11-27",
          "2024-11-27",
          "2024-11-27",
          "2024-11-27",
          "2024-11-27",
          "2024-11-27",
          "2024-11-27",
          "2024-11-27",
          "2024-11-27",
          "2024-11-27",
          "2024-11-27",
          "2024-11-27",
          "2024-11-27",
          "2024-12-18",
          "2024-12-18",
          "2024-12-18",
          "2024-12-18",
          "2024-12-18",
          "2024-12-18",
          "2024-12-18",
          "2024-12-18",
          "2024-12-18",
          "2024-12-18",
          "2024-12-18",
          "2024-12-18",
          "2024-12-18",
          "2024-12-18",
          "2024-12-18",
          "2024-12-18",
          "2024-12-18",
          "2024-12-27",
          "2024-12-27",
          "2024-12-27",
          "2024-12-27",
          "2024-12-27",
          "2024-12-27",
          "2024-12-27",
          "2024-12-27",
          "2024-12-27",
          "2024-12-27",
          "2024-12-27",
          "2024-12-27",
          "2024-12-27",
          "2024-12-27",
          "2024-12-27",
          "2024-12-27",
          "2024-12-27",
          "2025-01-29",
          "2025-01-29",
          "2025-01-29",
          "2025-01-29",
          "2025-01-29",
          "2025-01-29",
          "2025-01-29",
          "2025-01-29",
          "2025-01-29",
          "2025-01-29",
          "2025-01-29",
          "2025-01-29",
          "2025-01-29",
          "2025-01-29",
          "2025-01-29",
          "2025-01-29",
          "2025-01-29",
          "2025-02-12",
          "2025-02-12",
          "2025-02-12",
          "2025-02-12",
          "2025-02-12",
          "2025-02-12",
          "2025-02-12",
          "2025-02-12",
          "2025-02-12",
          "2025-02-12",
          "2025-02-12",
          "2025-02-12",
          "2025-02-12",
          "2025-02-12",
          "2025-02-12",
          "2025-02-12",
          "2025-02-12",
          "2025-03-05",
          "2025-03-05",
          "2025-03-05",
          "2025-03-05",
          "2025-03-05",
          "2025-03-05",
          "2025-03-05",
          "2025-03-05",
          "2025-03-05",
          "2025-03-05",
          "2025-03-05",
          "2025-03-05",
          "2025-03-05",
          "2025-03-05",
          "2025-03-05",
          "2025-03-05",
          "2025-03-05",
          "2025-03-12",
          "2025-03-12",
          "2025-03-12",
          "2025-03-12",
          "2025-03-12",
          "2025-03-12",
          "2025-03-12",
          "2025-03-12",
          "2025-03-12",
          "2025-03-12",
          "2025-03-12",
          "2025-03-12",
          "2025-03-12",
          "2025-03-12",
          "2025-03-12",
          "2025-03-12",
          "2025-03-12"
         ],
         "xaxis": "x",
         "y": {
          "bdata": "AAAAAAEAAAAACAAAAAAAADIAAADO/wAA7v8AAAAAAAAAAAAAAAAAAAAAAAAAAAAAAAAAAAAAAAAAAAAAAAAAAAAAAAAAAAAAAQAAAAAIAAAAAAAAMgAAAM7/AADu/wAAAAAAAAAAAAAAAAAAAAAAAAAAAAAAAAAAAAAAAAAAAAAAAAAAAAAAAPT/AAABAAAAAAgAAAAAAAAyAAAAzv8AABoAAAAAAAAAAAAAAAAAAAAAAAAAAAAAAAAAAAAAAAAAAAAAAAAAAAAAAAAA/v8AAAEAAAAACAAAAAAAADIAAADO/wAA7P8AAAAAAAAAAAAAAAAAAAAAAAAAAAAAAAAAAAAAAAAAAAAAAAAAAAAAAAD+/wAAAQAAAAAIAAAAAAAAMgAAAM7/AADs/wAAAAAAAAAAAAAAAAAAAAAAAAAAAAAAAAAAAAAAAAAAAAAAAAAAAAAAAPX/AAABAAAAAAgAAAAAAAAyAAAAzv8AAOP/AAAAAAAAAAAAAAAAAAAAAAAAAAAAAAAAAAAAAAAAAAAAAAAAAAAAAAAA9f8AAAEAAAAACAAAAAAAADIAAADO/wAA4/8AAAAAAAAAAAAAAAAAAAAAAAAAAAAAAAAAAAAAAAAAAAAAAAAAAAAAAAD6/wAAAQAAAAAIAAAAAAAAMgAAAM7/AADo/wAAAAAAAAAAAAAAAAAAAAAAAAAAAAAAAAAAAAAAAAAAAAAAAAAAAAAAAPr/AAABAAAAAAgAAAAAAAAyAAAAzv8AAOj/AAAAAAAAAAAAAAAAAAAAAAAAAAAAAAAAAAAAAAAAAAAAAAAAAAAAAAAA9v8AAAEAAAAACAAAAAAAADIAAADO/wAA5P8AAAAAAAAAAAAAAAAAAAAAAAAAAAAAAAAAAAAAAAAAAAAAAAAAAAAAAADu////AQAAAAAIAAAAAAAAMgAAAM7////c////AAAAAAAAAAAAAAAAAAAAAAAAAAAAAAAAAAAAAAAAAAAAAAAAAAAAAO7///8BAAAAAAgAAAAAAAAyAAAAzv///93///8AAAAAAAAAAAAAAAAAAAAAAAAAAAAAAAAAAAAAAAAAAAAAAAAAAAAA7v///wEAAAAACAAAAAAAADIAAADO////3P///wAAAAAAAAAAAAAAAAAAAAAAAAAAAAAAAAAAAAAAAAAAAAAAAAAAAADu////AQAAAAAIAAAAAAAAMgAAAM7////c////AAAAAAAAAAAAAAAAAAAAAAAAAAAAAAAAAAAAAAAAAAAAAAAAAAAAAO7///8BAAAAAAgAAAAAAAAyAAAAzv///9z///8AAAAAAAAAAAAAAAAAAAAAAAAAAAAAAAAAAAAAAAAAAAAAAAAAAAAA7v///wEAAAAACAAAAAAAADIAAADO////3P///wAAAAAAAAAAAAAAAAAAAAAAAAAAAAAAAAAAAAAAAAAAAAAAAAAAAAD4////AQAAAAAIAAAAAAAAMgAAAM7////m////AAAAAAAAAAAAAAAAAAAAAAAAAAAAAAAAAAAAAAAAAAAAAAAAAAAAAPj///8BAAAAAAgAAAAAAAAyAAAAzv///+b///8AAAAAAAAAAAAAAAAAAAAAAAAAAAAAAAAAAAAAAAAAAAAAAAAAAAAA+P///wEAAAAACAAAAAAAADIAAADO////5v///wAAAAAAAAAAAAAAAAAAAAAAAAAAAAAAAAAAAAAAAAAAAAAAAAAAAAD4////AQAAAAAIAAAAAAAAMgAAAM7////m////AAAAAAAAAAAAAAAAAAAAAAAAAAAAAAAAAAAAAAAAAAAAAAAAAAAAAA==",
          "dtype": "i4"
         },
         "yaxis": "y"
        },
        {
         "hovertemplate": "category=Set gain 2R balance<br>date=%{x}<br>value=%{y}<extra></extra>",
         "legendgroup": "Set gain 2R balance",
         "line": {
          "color": "#ab63fa",
          "dash": "solid"
         },
         "marker": {
          "symbol": "circle"
         },
         "mode": "lines+markers",
         "name": "Set gain 2R balance",
         "showlegend": true,
         "type": "scattergl",
         "x": [
          "2023-12-13",
          "2023-12-20",
          "2024-01-03",
          "2024-01-17",
          "2024-01-31",
          "2024-03-20",
          "2024-04-03",
          "2024-04-17",
          "2024-05-29",
          "2024-07-10",
          "2024-09-11",
          "2024-10-23",
          "2024-11-06",
          "2024-11-27",
          "2024-12-18",
          "2024-12-27",
          "2025-01-29",
          "2025-02-12",
          "2025-03-05",
          "2025-03-12"
         ],
         "xaxis": "x",
         "y": {
          "bdata": "9Qf1B/UH9Qf1B/UH9Qf4B/gH7gfuB+4H7gfuB+4H7gfuB+4H7gfuBw==",
          "dtype": "i2"
         },
         "yaxis": "y"
        },
        {
         "hovertemplate": "category=Set gain 2R loop<br>date=%{x}<br>value=%{y}<extra></extra>",
         "legendgroup": "Set gain 2R loop",
         "line": {
          "color": "#FFA15A",
          "dash": "solid"
         },
         "marker": {
          "symbol": "circle"
         },
         "mode": "lines+markers",
         "name": "Set gain 2R loop",
         "showlegend": true,
         "type": "scattergl",
         "x": [
          "2023-12-13",
          "2023-12-20",
          "2024-01-03",
          "2024-01-17",
          "2024-01-31",
          "2024-03-20",
          "2024-04-03",
          "2024-04-17",
          "2024-05-29",
          "2024-07-10",
          "2024-09-11",
          "2024-10-23",
          "2024-11-06",
          "2024-11-27",
          "2024-12-18",
          "2024-12-27",
          "2025-01-29",
          "2025-02-12",
          "2025-03-05",
          "2025-03-12"
         ],
         "xaxis": "x",
         "y": {
          "bdata": "5ALkAuQC5ALkAuQC5ALkAuQC5ALkAuQC5ALkAuQC5ALkAuQC5ALkAg==",
          "dtype": "i2"
         },
         "yaxis": "y"
        },
        {
         "hovertemplate": "category=Set gain 2T balance<br>date=%{x}<br>value=%{y}<extra></extra>",
         "legendgroup": "Set gain 2T balance",
         "line": {
          "color": "#19d3f3",
          "dash": "solid"
         },
         "marker": {
          "symbol": "circle"
         },
         "mode": "lines+markers",
         "name": "Set gain 2T balance",
         "showlegend": true,
         "type": "scattergl",
         "x": [
          "2023-12-13",
          "2023-12-20",
          "2024-01-03",
          "2024-01-17",
          "2024-01-31",
          "2024-03-20",
          "2024-04-03",
          "2024-04-17",
          "2024-05-29",
          "2024-07-10",
          "2024-09-11",
          "2024-10-23",
          "2024-11-06",
          "2024-11-27",
          "2024-12-18",
          "2024-12-27",
          "2025-01-29",
          "2025-02-12",
          "2025-03-05",
          "2025-03-12"
         ],
         "xaxis": "x",
         "y": {
          "bdata": "FwgXCBcIFwgXCBcIFwgXCBcIDAgMCAwIDAgMCAwIDAgMCAwIDAgMCA==",
          "dtype": "i2"
         },
         "yaxis": "y"
        },
        {
         "hovertemplate": "category=Set gain 2T loop<br>date=%{x}<br>value=%{y}<extra></extra>",
         "legendgroup": "Set gain 2T loop",
         "line": {
          "color": "#FF6692",
          "dash": "solid"
         },
         "marker": {
          "symbol": "circle"
         },
         "mode": "lines+markers",
         "name": "Set gain 2T loop",
         "showlegend": true,
         "type": "scattergl",
         "x": [
          "2023-12-13",
          "2023-12-20",
          "2024-01-03",
          "2024-01-17",
          "2024-01-31",
          "2024-03-20",
          "2024-04-03",
          "2024-04-17",
          "2024-05-29",
          "2024-07-10",
          "2024-09-11",
          "2024-10-23",
          "2024-11-06",
          "2024-11-27",
          "2024-12-18",
          "2024-12-27",
          "2025-01-29",
          "2025-02-12",
          "2025-03-05",
          "2025-03-12"
         ],
         "xaxis": "x",
         "y": {
          "bdata": "yAXIBcgFyAXIBcgFyAXIBcgFyAXIBcgFyAXIBcgFyAXIBcgFyAXIBQ==",
          "dtype": "i2"
         },
         "yaxis": "y"
        },
        {
         "hovertemplate": "category=2R plates ratio<br>date=%{x}<br>value=%{y}<extra></extra>",
         "legendgroup": "2R plates ratio",
         "line": {
          "color": "#B6E880",
          "dash": "solid"
         },
         "marker": {
          "symbol": "circle"
         },
         "mode": "lines+markers",
         "name": "2R plates ratio",
         "showlegend": true,
         "type": "scattergl",
         "x": [
          "2023-12-13",
          "2023-12-13",
          "2023-12-13",
          "2023-12-13",
          "2023-12-13",
          "2023-12-13",
          "2023-12-13",
          "2023-12-13",
          "2023-12-13",
          "2023-12-13",
          "2023-12-13",
          "2023-12-13",
          "2023-12-13",
          "2023-12-13",
          "2023-12-20",
          "2023-12-20",
          "2023-12-20",
          "2023-12-20",
          "2023-12-20",
          "2023-12-20",
          "2023-12-20",
          "2023-12-20",
          "2023-12-20",
          "2023-12-20",
          "2023-12-20",
          "2023-12-20",
          "2023-12-20",
          "2023-12-20",
          "2024-01-03",
          "2024-01-03",
          "2024-01-03",
          "2024-01-03",
          "2024-01-03",
          "2024-01-03",
          "2024-01-03",
          "2024-01-03",
          "2024-01-03",
          "2024-01-03",
          "2024-01-03",
          "2024-01-03",
          "2024-01-03",
          "2024-01-03",
          "2024-01-17",
          "2024-01-17",
          "2024-01-17",
          "2024-01-17",
          "2024-01-17",
          "2024-01-17",
          "2024-01-17",
          "2024-01-17",
          "2024-01-17",
          "2024-01-17",
          "2024-01-17",
          "2024-01-17",
          "2024-01-17",
          "2024-01-17",
          "2024-01-31",
          "2024-01-31",
          "2024-01-31",
          "2024-01-31",
          "2024-01-31",
          "2024-01-31",
          "2024-01-31",
          "2024-01-31",
          "2024-01-31",
          "2024-01-31",
          "2024-01-31",
          "2024-01-31",
          "2024-01-31",
          "2024-01-31",
          "2024-03-20",
          "2024-03-20",
          "2024-03-20",
          "2024-03-20",
          "2024-03-20",
          "2024-03-20",
          "2024-03-20",
          "2024-03-20",
          "2024-03-20",
          "2024-03-20",
          "2024-03-20",
          "2024-03-20",
          "2024-03-20",
          "2024-03-20",
          "2024-04-03",
          "2024-04-03",
          "2024-04-03",
          "2024-04-03",
          "2024-04-03",
          "2024-04-03",
          "2024-04-03",
          "2024-04-03",
          "2024-04-03",
          "2024-04-03",
          "2024-04-03",
          "2024-04-03",
          "2024-04-03",
          "2024-04-03",
          "2024-04-17",
          "2024-04-17",
          "2024-04-17",
          "2024-04-17",
          "2024-04-17",
          "2024-04-17",
          "2024-04-17",
          "2024-04-17",
          "2024-04-17",
          "2024-04-17",
          "2024-04-17",
          "2024-04-17",
          "2024-04-17",
          "2024-04-17",
          "2024-05-29",
          "2024-05-29",
          "2024-05-29",
          "2024-05-29",
          "2024-05-29",
          "2024-05-29",
          "2024-05-29",
          "2024-05-29",
          "2024-05-29",
          "2024-05-29",
          "2024-05-29",
          "2024-05-29",
          "2024-05-29",
          "2024-05-29",
          "2024-07-10",
          "2024-07-10",
          "2024-07-10",
          "2024-07-10",
          "2024-07-10",
          "2024-07-10",
          "2024-07-10",
          "2024-07-10",
          "2024-07-10",
          "2024-07-10",
          "2024-07-10",
          "2024-07-10",
          "2024-07-10",
          "2024-07-10",
          "2024-09-11",
          "2024-09-11",
          "2024-09-11",
          "2024-09-11",
          "2024-09-11",
          "2024-09-11",
          "2024-09-11",
          "2024-09-11",
          "2024-09-11",
          "2024-09-11",
          "2024-09-11",
          "2024-09-11",
          "2024-09-11",
          "2024-09-11",
          "2024-10-23",
          "2024-10-23",
          "2024-10-23",
          "2024-10-23",
          "2024-10-23",
          "2024-10-23",
          "2024-10-23",
          "2024-10-23",
          "2024-10-23",
          "2024-10-23",
          "2024-10-23",
          "2024-10-23",
          "2024-10-23",
          "2024-10-23",
          "2024-11-06",
          "2024-11-06",
          "2024-11-06",
          "2024-11-06",
          "2024-11-06",
          "2024-11-06",
          "2024-11-06",
          "2024-11-06",
          "2024-11-06",
          "2024-11-06",
          "2024-11-06",
          "2024-11-06",
          "2024-11-06",
          "2024-11-06",
          "2024-11-27",
          "2024-11-27",
          "2024-11-27",
          "2024-11-27",
          "2024-11-27",
          "2024-11-27",
          "2024-11-27",
          "2024-11-27",
          "2024-11-27",
          "2024-11-27",
          "2024-11-27",
          "2024-11-27",
          "2024-11-27",
          "2024-11-27",
          "2024-12-18",
          "2024-12-18",
          "2024-12-18",
          "2024-12-18",
          "2024-12-18",
          "2024-12-18",
          "2024-12-18",
          "2024-12-18",
          "2024-12-18",
          "2024-12-18",
          "2024-12-18",
          "2024-12-18",
          "2024-12-18",
          "2024-12-18",
          "2024-12-27",
          "2024-12-27",
          "2024-12-27",
          "2024-12-27",
          "2024-12-27",
          "2024-12-27",
          "2024-12-27",
          "2024-12-27",
          "2024-12-27",
          "2024-12-27",
          "2024-12-27",
          "2024-12-27",
          "2024-12-27",
          "2024-12-27",
          "2025-01-29",
          "2025-01-29",
          "2025-01-29",
          "2025-01-29",
          "2025-01-29",
          "2025-01-29",
          "2025-01-29",
          "2025-01-29",
          "2025-01-29",
          "2025-01-29",
          "2025-01-29",
          "2025-01-29",
          "2025-01-29",
          "2025-01-29",
          "2025-02-12",
          "2025-02-12",
          "2025-02-12",
          "2025-02-12",
          "2025-02-12",
          "2025-02-12",
          "2025-02-12",
          "2025-02-12",
          "2025-02-12",
          "2025-02-12",
          "2025-02-12",
          "2025-02-12",
          "2025-02-12",
          "2025-02-12",
          "2025-03-05",
          "2025-03-05",
          "2025-03-05",
          "2025-03-05",
          "2025-03-05",
          "2025-03-05",
          "2025-03-05",
          "2025-03-05",
          "2025-03-05",
          "2025-03-05",
          "2025-03-05",
          "2025-03-05",
          "2025-03-05",
          "2025-03-05",
          "2025-03-12",
          "2025-03-12",
          "2025-03-12",
          "2025-03-12",
          "2025-03-12",
          "2025-03-12",
          "2025-03-12",
          "2025-03-12",
          "2025-03-12",
          "2025-03-12",
          "2025-03-12",
          "2025-03-12",
          "2025-03-12",
          "2025-03-12"
         ],
         "xaxis": "x",
         "y": {
          "bdata": "BgAAAAcAAACR+wAAAAAAAAAAAAAAAAAAAAAAAAAAAAAAAAAAAAAAAAAAAAAAAAAAAAAAAAAAAAAGAAAABwAAAJH7AAAAgAAAAAAAAAAAAAAAAAAAAAAAAAAAAAAAAAAAAAAAAAAAAAAAAAAAAAAAAAYAAAAHAAAAkfsAAAAAAAAAAAAAAAAAAAAAAAAAAAAAAAAAAAAAAAAAAAAAAAAAAAAAAAAAAAAABgAAAAcAAACR+wAAAQAAAAAAAAAAAAAAAAAAAAAAAAAAAAAAAAAAAAAAAAAAAAAAAAAAAAAAAAAGAAAABwAAAJH7AAAAgAAAAAAAAAAAAAAAAAAAAAAAAAAAAAAAAAAAAAAAAAAAAAAAAAAAAAAAAAYAAAAHAAAAkfsAAP//AAAAAAAAAAAAAAAAAAAAAAAAAAAAAAAAAAAAAAAAAAAAAAAAAAAAAAAABgAAAAcAAACR+wAAAAAAAAAAAAAAAAAAAAAAAAAAAAAAAAAAAAAAAAAAAAAAAAAAAAAAAAAAAAAGAAAABwAAAJH7AAAAAAAAAAAAAAAAAAAAAAAAAAAAAAAAAAAAAAAAAAAAAAAAAAAAAAAAAAAAAAYAAAAHAAAAkfsAAACAAAAAAAAAAAAAAAAAAAAAAAAAAAAAAAAAAAAAAAAAAAAAAAAAAAAAAAAABgAAAAcAAACR+wAA/v8AAAAAAAAAAAAAAAAAAAAAAAAAAAAAAAAAAAAAAAAAAAAAAAAAAAAAAAAGAAAABwAAAJH7////////AAAAAAAAAAAAAAAAAAAAAAAAAAAAAAAAAAAAAAAAAAAAAAAAAAAAAAYAAAAHAAAAkfv//wCA//8AAAAAAAAAAAAAAAAAAAAAAAAAAAAAAAAAAAAAAAAAAAAAAAAAAAAABgAAAAcAAACR+////////wAAAAAAAAAAAAAAAAAAAAAAAAAAAAAAAAAAAAAAAAAAAAAAAAAAAAAGAAAABwAAAJH7//8AgP//AAAAAAAAAAAAAAAAAAAAAAAAAAAAAAAAAAAAAAAAAAAAAAAAAAAAAAYAAAAHAAAAkfv//wCA//8AAAAAAAAAAAAAAAAAAAAAAAAAAAAAAAAAAAAAAAAAAAAAAAAAAAAABgAAAAcAAACR+///AID//wAAAAAAAAAAAAAAAAAAAAAAAAAAAAAAAAAAAAAAAAAAAAAAAAAAAAAGAAAABwAAAJH7//8AAAAAAAAAAAAAAAAAAAAAAAAAAAAAAAAAAAAAAAAAAAAAAAAAAAAAAAAAAAYAAAAHAAAAkfv//wCA//8AAAAAAAAAAAAAAAAAAAAAAAAAAAAAAAAAAAAAAAAAAAAAAAAAAAAABgAAAAcAAACR+///AID//wAAAAAAAAAAAAAAAAAAAAAAAAAAAAAAAAAAAAAAAAAAAAAAAAAAAAAGAAAABwAAAJH7//8AgP//AAAAAAAAAAAAAAAAAAAAAAAAAAAAAAAAAAAAAAAAAAAAAAAAAAAAAA==",
          "dtype": "i4"
         },
         "yaxis": "y"
        },
        {
         "hovertemplate": "category=2T plates ratio<br>date=%{x}<br>value=%{y}<extra></extra>",
         "legendgroup": "2T plates ratio",
         "line": {
          "color": "#FF97FF",
          "dash": "solid"
         },
         "marker": {
          "symbol": "circle"
         },
         "mode": "lines+markers",
         "name": "2T plates ratio",
         "showlegend": true,
         "type": "scattergl",
         "x": [
          "2023-12-13",
          "2023-12-13",
          "2023-12-13",
          "2023-12-13",
          "2023-12-13",
          "2023-12-13",
          "2023-12-13",
          "2023-12-13",
          "2023-12-13",
          "2023-12-13",
          "2023-12-13",
          "2023-12-13",
          "2023-12-13",
          "2023-12-13",
          "2023-12-20",
          "2023-12-20",
          "2023-12-20",
          "2023-12-20",
          "2023-12-20",
          "2023-12-20",
          "2023-12-20",
          "2023-12-20",
          "2023-12-20",
          "2023-12-20",
          "2023-12-20",
          "2023-12-20",
          "2023-12-20",
          "2023-12-20",
          "2024-01-03",
          "2024-01-03",
          "2024-01-03",
          "2024-01-03",
          "2024-01-03",
          "2024-01-03",
          "2024-01-03",
          "2024-01-03",
          "2024-01-03",
          "2024-01-03",
          "2024-01-03",
          "2024-01-03",
          "2024-01-03",
          "2024-01-03",
          "2024-01-17",
          "2024-01-17",
          "2024-01-17",
          "2024-01-17",
          "2024-01-17",
          "2024-01-17",
          "2024-01-17",
          "2024-01-17",
          "2024-01-17",
          "2024-01-17",
          "2024-01-17",
          "2024-01-17",
          "2024-01-17",
          "2024-01-17",
          "2024-01-31",
          "2024-01-31",
          "2024-01-31",
          "2024-01-31",
          "2024-01-31",
          "2024-01-31",
          "2024-01-31",
          "2024-01-31",
          "2024-01-31",
          "2024-01-31",
          "2024-01-31",
          "2024-01-31",
          "2024-01-31",
          "2024-01-31",
          "2024-03-20",
          "2024-03-20",
          "2024-03-20",
          "2024-03-20",
          "2024-03-20",
          "2024-03-20",
          "2024-03-20",
          "2024-03-20",
          "2024-03-20",
          "2024-03-20",
          "2024-03-20",
          "2024-03-20",
          "2024-03-20",
          "2024-03-20",
          "2024-04-03",
          "2024-04-03",
          "2024-04-03",
          "2024-04-03",
          "2024-04-03",
          "2024-04-03",
          "2024-04-03",
          "2024-04-03",
          "2024-04-03",
          "2024-04-03",
          "2024-04-03",
          "2024-04-03",
          "2024-04-03",
          "2024-04-03",
          "2024-04-17",
          "2024-04-17",
          "2024-04-17",
          "2024-04-17",
          "2024-04-17",
          "2024-04-17",
          "2024-04-17",
          "2024-04-17",
          "2024-04-17",
          "2024-04-17",
          "2024-04-17",
          "2024-04-17",
          "2024-04-17",
          "2024-04-17",
          "2024-05-29",
          "2024-05-29",
          "2024-05-29",
          "2024-05-29",
          "2024-05-29",
          "2024-05-29",
          "2024-05-29",
          "2024-05-29",
          "2024-05-29",
          "2024-05-29",
          "2024-05-29",
          "2024-05-29",
          "2024-05-29",
          "2024-05-29",
          "2024-07-10",
          "2024-07-10",
          "2024-07-10",
          "2024-07-10",
          "2024-07-10",
          "2024-07-10",
          "2024-07-10",
          "2024-07-10",
          "2024-07-10",
          "2024-07-10",
          "2024-07-10",
          "2024-07-10",
          "2024-07-10",
          "2024-07-10",
          "2024-09-11",
          "2024-09-11",
          "2024-09-11",
          "2024-09-11",
          "2024-09-11",
          "2024-09-11",
          "2024-09-11",
          "2024-09-11",
          "2024-09-11",
          "2024-09-11",
          "2024-09-11",
          "2024-09-11",
          "2024-09-11",
          "2024-09-11",
          "2024-10-23",
          "2024-10-23",
          "2024-10-23",
          "2024-10-23",
          "2024-10-23",
          "2024-10-23",
          "2024-10-23",
          "2024-10-23",
          "2024-10-23",
          "2024-10-23",
          "2024-10-23",
          "2024-10-23",
          "2024-10-23",
          "2024-10-23",
          "2024-11-06",
          "2024-11-06",
          "2024-11-06",
          "2024-11-06",
          "2024-11-06",
          "2024-11-06",
          "2024-11-06",
          "2024-11-06",
          "2024-11-06",
          "2024-11-06",
          "2024-11-06",
          "2024-11-06",
          "2024-11-06",
          "2024-11-06",
          "2024-11-27",
          "2024-11-27",
          "2024-11-27",
          "2024-11-27",
          "2024-11-27",
          "2024-11-27",
          "2024-11-27",
          "2024-11-27",
          "2024-11-27",
          "2024-11-27",
          "2024-11-27",
          "2024-11-27",
          "2024-11-27",
          "2024-11-27",
          "2024-12-18",
          "2024-12-18",
          "2024-12-18",
          "2024-12-18",
          "2024-12-18",
          "2024-12-18",
          "2024-12-18",
          "2024-12-18",
          "2024-12-18",
          "2024-12-18",
          "2024-12-18",
          "2024-12-18",
          "2024-12-18",
          "2024-12-18",
          "2024-12-27",
          "2024-12-27",
          "2024-12-27",
          "2024-12-27",
          "2024-12-27",
          "2024-12-27",
          "2024-12-27",
          "2024-12-27",
          "2024-12-27",
          "2024-12-27",
          "2024-12-27",
          "2024-12-27",
          "2024-12-27",
          "2024-12-27",
          "2025-01-29",
          "2025-01-29",
          "2025-01-29",
          "2025-01-29",
          "2025-01-29",
          "2025-01-29",
          "2025-01-29",
          "2025-01-29",
          "2025-01-29",
          "2025-01-29",
          "2025-01-29",
          "2025-01-29",
          "2025-01-29",
          "2025-01-29",
          "2025-02-12",
          "2025-02-12",
          "2025-02-12",
          "2025-02-12",
          "2025-02-12",
          "2025-02-12",
          "2025-02-12",
          "2025-02-12",
          "2025-02-12",
          "2025-02-12",
          "2025-02-12",
          "2025-02-12",
          "2025-02-12",
          "2025-02-12",
          "2025-03-05",
          "2025-03-05",
          "2025-03-05",
          "2025-03-05",
          "2025-03-05",
          "2025-03-05",
          "2025-03-05",
          "2025-03-05",
          "2025-03-05",
          "2025-03-05",
          "2025-03-05",
          "2025-03-05",
          "2025-03-05",
          "2025-03-05",
          "2025-03-12",
          "2025-03-12",
          "2025-03-12",
          "2025-03-12",
          "2025-03-12",
          "2025-03-12",
          "2025-03-12",
          "2025-03-12",
          "2025-03-12",
          "2025-03-12",
          "2025-03-12",
          "2025-03-12",
          "2025-03-12",
          "2025-03-12"
         ],
         "xaxis": "x",
         "y": {
          "bdata": "BgAAAPn/AADU/gAA//8AAAAAAAAAAAAAAAAAAAAAAAAAAAAAAAAAAAAAAAAAAAAAAAAAAAAAAAAGAAAA+f8AANT+AAAAgAAAAAAAAAAAAAAAAAAAAAAAAAAAAAAAAAAAAAAAAAAAAAAAAAAAAAAAAAYAAAD5/wAA1P4AAAAAAAAAAAAAAAAAAAAAAAAAAAAAAAAAAAAAAAAAAAAAAAAAAAAAAAAAAAAABgAAAPn/AADU/gAAAQAAAAAAAAAAAAAAAAAAAAAAAAAAAAAAAAAAAAAAAAAAAAAAAAAAAAAAAAAGAAAA+f8AANT+AAAAgAAAAAAAAAAAAAAAAAAAAAAAAAAAAAAAAAAAAAAAAAAAAAAAAAAAAAAAAAYAAAD5/wAA1P4AAAUAAAAAAAAAAAAAAAAAAAAAAAAAAAAAAAAAAAAAAAAAAAAAAAAAAAAAAAAABgAAAPn/AADU/gAABgAAAAAAAAAAAAAAAAAAAAAAAAAAAAAAAAAAAAAAAAAAAAAAAAAAAAAAAAAGAAAA+f8AANT+AAD9/wAAAAAAAAAAAAAAAAAAAAAAAAAAAAAAAAAAAAAAAAAAAAAAAAAAAAAAAAYAAAD5/wAA1P4AAACAAAAAAAAAAAAAAAAAAAAAAAAAAAAAAAAAAAAAAAAAAAAAAAAAAAAAAAAABgAAAPn/AADU/gAAAAAAAAAAAAAAAAAAAAAAAAAAAAAAAAAAAAAAAAAAAAAAAAAAAAAAAAAAAAAGAAAA+f///9T+//8AAAAAAAAAAAAAAAAAAAAAAAAAAAAAAAAAAAAAAAAAAAAAAAAAAAAAAAAAAAYAAAD5////1P7//wCA//8AAAAAAAAAAAAAAAAAAAAAAAAAAAAAAAAAAAAAAAAAAAAAAAAAAAAABgAAAPn////U/v//BQAAAAAAAAAAAAAAAAAAAAAAAAAAAAAAAAAAAAAAAAAAAAAAAAAAAAAAAAAGAAAA+f///9T+//8AgP//AAAAAAAAAAAAAAAAAAAAAAAAAAAAAAAAAAAAAAAAAAAAAAAAAAAAAAYAAAD5////1P7//wCA//8AAAAAAAAAAAAAAAAAAAAAAAAAAAAAAAAAAAAAAAAAAAAAAAAAAAAABgAAAPn////U/v//AID//wAAAAAAAAAAAAAAAAAAAAAAAAAAAAAAAAAAAAAAAAAAAAAAAAAAAAAGAAAA+f///9T+///9////AAAAAAAAAAAAAAAAAAAAAAAAAAAAAAAAAAAAAAAAAAAAAAAAAAAAAAYAAAD5////1P7//wCA//8AAAAAAAAAAAAAAAAAAAAAAAAAAAAAAAAAAAAAAAAAAAAAAAAAAAAABgAAAPn////U/v//AID//wAAAAAAAAAAAAAAAAAAAAAAAAAAAAAAAAAAAAAAAAAAAAAAAAAAAAAGAAAA+f///9T+//8AgP//AAAAAAAAAAAAAAAAAAAAAAAAAAAAAAAAAAAAAAAAAAAAAAAAAAAAAA==",
          "dtype": "i4"
         },
         "yaxis": "y"
        },
        {
         "hovertemplate": "category=Hump error monitor<br>date=%{x}<br>value=%{y}<extra></extra>",
         "legendgroup": "Hump error monitor",
         "line": {
          "color": "#FECB52",
          "dash": "solid"
         },
         "marker": {
          "symbol": "circle"
         },
         "mode": "lines+markers",
         "name": "Hump error monitor",
         "showlegend": true,
         "type": "scattergl",
         "x": [
          "2023-12-13",
          "2023-12-13",
          "2023-12-13",
          "2023-12-13",
          "2023-12-13",
          "2023-12-13",
          "2023-12-13",
          "2023-12-13",
          "2023-12-13",
          "2023-12-13",
          "2023-12-13",
          "2023-12-13",
          "2023-12-13",
          "2023-12-20",
          "2023-12-20",
          "2023-12-20",
          "2023-12-20",
          "2023-12-20",
          "2023-12-20",
          "2023-12-20",
          "2023-12-20",
          "2023-12-20",
          "2023-12-20",
          "2023-12-20",
          "2023-12-20",
          "2023-12-20",
          "2024-01-03",
          "2024-01-03",
          "2024-01-03",
          "2024-01-03",
          "2024-01-03",
          "2024-01-03",
          "2024-01-03",
          "2024-01-03",
          "2024-01-03",
          "2024-01-03",
          "2024-01-03",
          "2024-01-03",
          "2024-01-03",
          "2024-01-17",
          "2024-01-17",
          "2024-01-17",
          "2024-01-17",
          "2024-01-17",
          "2024-01-17",
          "2024-01-17",
          "2024-01-17",
          "2024-01-17",
          "2024-01-17",
          "2024-01-17",
          "2024-01-17",
          "2024-01-17",
          "2024-01-31",
          "2024-01-31",
          "2024-01-31",
          "2024-01-31",
          "2024-01-31",
          "2024-01-31",
          "2024-01-31",
          "2024-01-31",
          "2024-01-31",
          "2024-01-31",
          "2024-01-31",
          "2024-01-31",
          "2024-01-31",
          "2024-03-20",
          "2024-03-20",
          "2024-03-20",
          "2024-03-20",
          "2024-03-20",
          "2024-03-20",
          "2024-03-20",
          "2024-03-20",
          "2024-03-20",
          "2024-03-20",
          "2024-03-20",
          "2024-03-20",
          "2024-03-20",
          "2024-04-03",
          "2024-04-03",
          "2024-04-03",
          "2024-04-03",
          "2024-04-03",
          "2024-04-03",
          "2024-04-03",
          "2024-04-03",
          "2024-04-03",
          "2024-04-03",
          "2024-04-03",
          "2024-04-03",
          "2024-04-03",
          "2024-04-17",
          "2024-04-17",
          "2024-04-17",
          "2024-04-17",
          "2024-04-17",
          "2024-04-17",
          "2024-04-17",
          "2024-04-17",
          "2024-04-17",
          "2024-04-17",
          "2024-04-17",
          "2024-04-17",
          "2024-04-17",
          "2024-05-29",
          "2024-05-29",
          "2024-05-29",
          "2024-05-29",
          "2024-05-29",
          "2024-05-29",
          "2024-05-29",
          "2024-05-29",
          "2024-05-29",
          "2024-05-29",
          "2024-05-29",
          "2024-05-29",
          "2024-05-29",
          "2024-07-10",
          "2024-07-10",
          "2024-07-10",
          "2024-07-10",
          "2024-07-10",
          "2024-07-10",
          "2024-07-10",
          "2024-07-10",
          "2024-07-10",
          "2024-07-10",
          "2024-07-10",
          "2024-07-10",
          "2024-07-10",
          "2024-09-11",
          "2024-09-11",
          "2024-09-11",
          "2024-09-11",
          "2024-09-11",
          "2024-09-11",
          "2024-09-11",
          "2024-09-11",
          "2024-09-11",
          "2024-09-11",
          "2024-09-11",
          "2024-09-11",
          "2024-09-11",
          "2024-10-23",
          "2024-10-23",
          "2024-10-23",
          "2024-10-23",
          "2024-10-23",
          "2024-10-23",
          "2024-10-23",
          "2024-10-23",
          "2024-10-23",
          "2024-10-23",
          "2024-10-23",
          "2024-10-23",
          "2024-10-23",
          "2024-11-06",
          "2024-11-06",
          "2024-11-06",
          "2024-11-06",
          "2024-11-06",
          "2024-11-06",
          "2024-11-06",
          "2024-11-06",
          "2024-11-06",
          "2024-11-06",
          "2024-11-06",
          "2024-11-06",
          "2024-11-06",
          "2024-11-27",
          "2024-11-27",
          "2024-11-27",
          "2024-11-27",
          "2024-11-27",
          "2024-11-27",
          "2024-11-27",
          "2024-11-27",
          "2024-11-27",
          "2024-11-27",
          "2024-11-27",
          "2024-11-27",
          "2024-11-27",
          "2024-12-18",
          "2024-12-18",
          "2024-12-18",
          "2024-12-18",
          "2024-12-18",
          "2024-12-18",
          "2024-12-18",
          "2024-12-18",
          "2024-12-18",
          "2024-12-18",
          "2024-12-18",
          "2024-12-18",
          "2024-12-18",
          "2024-12-27",
          "2024-12-27",
          "2024-12-27",
          "2024-12-27",
          "2024-12-27",
          "2024-12-27",
          "2024-12-27",
          "2024-12-27",
          "2024-12-27",
          "2024-12-27",
          "2024-12-27",
          "2024-12-27",
          "2024-12-27",
          "2025-01-29",
          "2025-01-29",
          "2025-01-29",
          "2025-01-29",
          "2025-01-29",
          "2025-01-29",
          "2025-01-29",
          "2025-01-29",
          "2025-01-29",
          "2025-01-29",
          "2025-01-29",
          "2025-01-29",
          "2025-01-29",
          "2025-02-12",
          "2025-02-12",
          "2025-02-12",
          "2025-02-12",
          "2025-02-12",
          "2025-02-12",
          "2025-02-12",
          "2025-02-12",
          "2025-02-12",
          "2025-02-12",
          "2025-02-12",
          "2025-02-12",
          "2025-02-12",
          "2025-03-05",
          "2025-03-05",
          "2025-03-05",
          "2025-03-05",
          "2025-03-05",
          "2025-03-05",
          "2025-03-05",
          "2025-03-05",
          "2025-03-05",
          "2025-03-05",
          "2025-03-05",
          "2025-03-05",
          "2025-03-05",
          "2025-03-12",
          "2025-03-12",
          "2025-03-12",
          "2025-03-12",
          "2025-03-12",
          "2025-03-12",
          "2025-03-12",
          "2025-03-12",
          "2025-03-12",
          "2025-03-12",
          "2025-03-12",
          "2025-03-12",
          "2025-03-12"
         ],
         "xaxis": "x",
         "y": {
          "bdata": "BgAAADIFAAD8/wAAAAAAAAAAAAAAAAAAAAAAAAAAAAAAAAAAAAAAAAAAAAAAAAAAAAAAAAYAAAAyBQAAAIAAAAAAAAAAAAAAAAAAAAAAAAAAAAAAAAAAAAAAAAAAAAAAAAAAAAAAAAAGAAAAMgUAAPj/AAAAAAAAAAAAAAAAAAAAAAAAAAAAAAAAAAAAAAAAAAAAAAAAAAAAAAAABgAAADIFAAD8/wAAAAAAAAAAAAAAAAAAAAAAAAAAAAAAAAAAAAAAAAAAAAAAAAAAAAAAAAYAAAAyBQAAAIAAAAAAAAAAAAAAAAAAAAAAAAAAAAAAAAAAAAAAAAAAAAAAAAAAAAAAAAAGAAAAMgUAAPr/AAAAAAAAAAAAAAAAAAAAAAAAAAAAAAAAAAAAAAAAAAAAAAAAAAAAAAAABgAAADIFAAD8/wAAAAAAAAAAAAAAAAAAAAAAAAAAAAAAAAAAAAAAAAAAAAAAAAAAAAAAAAYAAAAyBQAA+f8AAAAAAAAAAAAAAAAAAAAAAAAAAAAAAAAAAAAAAAAAAAAAAAAAAAAAAAAGAAAAMgUAAACAAAAAAAAAAAAAAAAAAAAAAAAAAAAAAAAAAAAAAAAAAAAAAAAAAAAAAAAABgAAADIFAAAAAAAAAAAAAAAAAAAAAAAAAAAAAAAAAAAAAAAAAAAAAAAAAAAAAAAAAAAAAAYAAAAyBQAAAQAAAAAAAAAAAAAAAAAAAAAAAAAAAAAAAAAAAAAAAAAAAAAAAAAAAAAAAAAGAAAAMgUAAACA//8AAAAAAAAAAAAAAAAAAAAAAAAAAAAAAAAAAAAAAAAAAAAAAAAAAAAABgAAADIFAAD/////AAAAAAAAAAAAAAAAAAAAAAAAAAAAAAAAAAAAAAAAAAAAAAAAAAAAAAYAAAAyBQAAAID//wAAAAAAAAAAAAAAAAAAAAAAAAAAAAAAAAAAAAAAAAAAAAAAAAAAAAAGAAAAMgUAAACA//8AAAAAAAAAAAAAAAAAAAAAAAAAAAAAAAAAAAAAAAAAAAAAAAAAAAAABgAAADIFAAAAgP//AAAAAAAAAAAAAAAAAAAAAAAAAAAAAAAAAAAAAAAAAAAAAAAAAAAAAAYAAAAyBQAAAQAAAAAAAAAAAAAAAAAAAAAAAAAAAAAAAAAAAAAAAAAAAAAAAAAAAAAAAAAGAAAAMgUAAACA//8AAAAAAAAAAAAAAAAAAAAAAAAAAAAAAAAAAAAAAAAAAAAAAAAAAAAABgAAADIFAAAAgP//AAAAAAAAAAAAAAAAAAAAAAAAAAAAAAAAAAAAAAAAAAAAAAAAAAAAAAYAAAAyBQAAAID//wAAAAAAAAAAAAAAAAAAAAAAAAAAAAAAAAAAAAAAAAAAAAAAAAAAAAA=",
          "dtype": "i4"
         },
         "yaxis": "y"
        },
        {
         "hovertemplate": "category=Hump balance input item<br>date=%{x}<br>value=%{y}<extra></extra>",
         "legendgroup": "Hump balance input item",
         "line": {
          "color": "#636efa",
          "dash": "solid"
         },
         "marker": {
          "symbol": "circle"
         },
         "mode": "lines+markers",
         "name": "Hump balance input item",
         "showlegend": true,
         "type": "scattergl",
         "x": [
          "2023-12-13",
          "2023-12-20",
          "2024-01-03",
          "2024-01-17",
          "2024-01-31",
          "2024-03-20",
          "2024-04-03",
          "2024-04-17",
          "2024-05-29",
          "2024-07-10",
          "2024-09-11",
          "2024-10-23",
          "2024-11-06",
          "2024-11-27",
          "2024-12-18",
          "2024-12-27",
          "2025-01-29",
          "2025-02-12",
          "2025-03-05",
          "2025-03-12"
         ],
         "xaxis": "x",
         "y": {
          "bdata": "/f0AAP39AAD9/QAA/f0AAP39AAD9/QAA/f0AAP39AAAA/gAAAf4AAAH+//8B/v//Af7//wH+//8B/v//Af7//wH+//8B/v//Af7//wH+//8=",
          "dtype": "i4"
         },
         "yaxis": "y"
        },
        {
         "hovertemplate": "category=HP phase shifter control item<br>date=%{x}<br>value=%{y}<extra></extra>",
         "legendgroup": "HP phase shifter control item",
         "line": {
          "color": "#EF553B",
          "dash": "solid"
         },
         "marker": {
          "symbol": "circle"
         },
         "mode": "lines+markers",
         "name": "HP phase shifter control item",
         "showlegend": true,
         "type": "scattergl",
         "x": [
          "2023-12-13",
          "2023-12-13",
          "2023-12-20",
          "2023-12-20",
          "2024-01-03",
          "2024-01-03",
          "2024-01-17",
          "2024-01-17",
          "2024-01-31",
          "2024-01-31",
          "2024-03-20",
          "2024-03-20",
          "2024-04-03",
          "2024-04-03",
          "2024-04-17",
          "2024-04-17",
          "2024-05-29",
          "2024-05-29",
          "2024-07-10",
          "2024-07-10",
          "2024-09-11",
          "2024-09-11",
          "2024-10-23",
          "2024-10-23",
          "2024-11-06",
          "2024-11-06",
          "2024-11-27",
          "2024-11-27",
          "2024-12-18",
          "2024-12-18",
          "2024-12-27",
          "2024-12-27",
          "2025-01-29",
          "2025-01-29",
          "2025-02-12",
          "2025-02-12",
          "2025-03-05",
          "2025-03-05",
          "2025-03-12",
          "2025-03-12"
         ],
         "xaxis": "x",
         "y": {
          "bdata": "AYAAAN4HAAABgAAA3gcAAAGAAADeBwAAAYAAAN4HAAABgAAA3gcAAAGAAADeBwAAAYAAAN4HAAABgAAA3gcAAAGAAADeBwAAAYAAAN4HAAABgP//3gcAAAGA///eBwAAAYD//94HAAABgP//3gcAAAGA///eBwAAAYD//94HAAABgP//3gcAAAGA///eBwAAAYD//94HAAABgP//3gcAAA==",
          "dtype": "i4"
         },
         "yaxis": "y"
        },
        {
         "hovertemplate": "category=Monitor HP phase shift position<br>date=%{x}<br>value=%{y}<extra></extra>",
         "legendgroup": "Monitor HP phase shift position",
         "line": {
          "color": "#00cc96",
          "dash": "solid"
         },
         "marker": {
          "symbol": "circle"
         },
         "mode": "lines+markers",
         "name": "Monitor HP phase shift position",
         "showlegend": true,
         "type": "scattergl",
         "x": [
          "2023-12-13",
          "2023-12-20",
          "2024-01-03",
          "2024-01-17",
          "2024-01-31",
          "2024-03-20",
          "2024-04-03",
          "2024-04-17",
          "2024-05-29",
          "2024-07-10",
          "2024-09-11",
          "2024-10-23",
          "2024-11-06",
          "2024-11-27",
          "2024-12-18",
          "2024-12-27",
          "2025-01-29",
          "2025-02-12",
          "2025-03-05",
          "2025-03-12"
         ],
         "xaxis": "x",
         "y": {
          "bdata": "AYAAAAGAAAABgAAAAYAAAAGAAAABgAAAAYAAAAGAAAABgAAAAYAAAAGA//8BgP//AYD//wGA//8BgP//AYD//wGA//8BgP//AYD//wGA//8=",
          "dtype": "i4"
         },
         "yaxis": "y"
        },
        {
         "hovertemplate": "category=Phase sample<br>date=%{x}<br>value=%{y}<extra></extra>",
         "legendgroup": "Phase sample",
         "line": {
          "color": "#ab63fa",
          "dash": "solid"
         },
         "marker": {
          "symbol": "circle"
         },
         "mode": "lines+markers",
         "name": "Phase sample",
         "showlegend": true,
         "type": "scattergl",
         "x": [
          "2023-12-13",
          "2023-12-20",
          "2024-01-03",
          "2024-01-17",
          "2024-01-31",
          "2024-03-20",
          "2024-04-03",
          "2024-04-17",
          "2024-05-29",
          "2024-07-10",
          "2024-09-11",
          "2024-10-23",
          "2024-11-06",
          "2024-11-27",
          "2024-12-18",
          "2024-12-27",
          "2025-01-29",
          "2025-02-12",
          "2025-03-05",
          "2025-03-12"
         ],
         "xaxis": "x",
         "y": {
          "bdata": "HBwcHBwcHBwcHBwcHBwcHBwcHBw=",
          "dtype": "i1"
         },
         "yaxis": "y"
        },
        {
         "hovertemplate": "category=LP phase shifter control item<br>date=%{x}<br>value=%{y}<extra></extra>",
         "legendgroup": "LP phase shifter control item",
         "line": {
          "color": "#FFA15A",
          "dash": "solid"
         },
         "marker": {
          "symbol": "circle"
         },
         "mode": "lines+markers",
         "name": "LP phase shifter control item",
         "showlegend": true,
         "type": "scattergl",
         "x": [
          "2023-12-13",
          "2023-12-13",
          "2023-12-20",
          "2023-12-20",
          "2024-01-03",
          "2024-01-03",
          "2024-01-17",
          "2024-01-17",
          "2024-01-31",
          "2024-01-31",
          "2024-03-20",
          "2024-03-20",
          "2024-04-03",
          "2024-04-03",
          "2024-04-17",
          "2024-04-17",
          "2024-05-29",
          "2024-05-29",
          "2024-07-10",
          "2024-07-10",
          "2024-09-11",
          "2024-09-11",
          "2024-10-23",
          "2024-10-23",
          "2024-11-06",
          "2024-11-06",
          "2024-11-27",
          "2024-11-27",
          "2024-12-18",
          "2024-12-18",
          "2024-12-27",
          "2024-12-27",
          "2025-01-29",
          "2025-01-29",
          "2025-02-12",
          "2025-02-12",
          "2025-03-05",
          "2025-03-05",
          "2025-03-12",
          "2025-03-12"
         ],
         "xaxis": "x",
         "y": {
          "bdata": "yAXIBcgFyAXIBckFyAXHBcgFyAXIBcgFyAXJBcgFyAXIBckFyAXJBcgFyAXIBckFyAXKBcgFyQXIBckFyAXIBcgFyQXIBcgFyAXJBcgFyQU=",
          "dtype": "i2"
         },
         "yaxis": "y"
        },
        {
         "hovertemplate": "category=Monitor LP phase shift position<br>date=%{x}<br>value=%{y}<extra></extra>",
         "legendgroup": "Monitor LP phase shift position",
         "line": {
          "color": "#19d3f3",
          "dash": "solid"
         },
         "marker": {
          "symbol": "circle"
         },
         "mode": "lines+markers",
         "name": "Monitor LP phase shift position",
         "showlegend": true,
         "type": "scattergl",
         "x": [
          "2023-12-13",
          "2023-12-20",
          "2024-01-03",
          "2024-01-17",
          "2024-01-31",
          "2024-03-20",
          "2024-04-03",
          "2024-04-17",
          "2024-05-29",
          "2024-07-10",
          "2024-09-11",
          "2024-10-23",
          "2024-11-06",
          "2024-11-27",
          "2024-12-18",
          "2024-12-27",
          "2025-01-29",
          "2025-02-12",
          "2025-03-05",
          "2025-03-12"
         ],
         "xaxis": "x",
         "y": {
          "bdata": "yAXIBcgFyAXIBcgFyAXIBcgFyAXIBcgFyAXIBcgFyAXIBcgFyAXIBQ==",
          "dtype": "i2"
         },
         "yaxis": "y"
        },
        {
         "hovertemplate": "category=Set tuner rest position<br>date=%{x}<br>value=%{y}<extra></extra>",
         "legendgroup": "Set tuner rest position",
         "line": {
          "color": "#FF6692",
          "dash": "solid"
         },
         "marker": {
          "symbol": "circle"
         },
         "mode": "lines+markers",
         "name": "Set tuner rest position",
         "showlegend": true,
         "type": "scattergl",
         "x": [
          "2023-12-13",
          "2023-12-20",
          "2024-01-03",
          "2024-01-17",
          "2024-01-31",
          "2024-03-20",
          "2024-04-03",
          "2024-04-17",
          "2024-05-29",
          "2024-07-10",
          "2024-09-11",
          "2024-10-23",
          "2024-11-06",
          "2024-11-27",
          "2024-12-18",
          "2024-12-27",
          "2025-01-29",
          "2025-02-12",
          "2025-03-05",
          "2025-03-12"
         ],
         "xaxis": "x",
         "y": {
          "bdata": "hQiFCIUIhQiFCIUIhQiFCIUIhQiFCIUIhQiFCIUIhQiFCIUIhQiFCA==",
          "dtype": "i2"
         },
         "yaxis": "y"
        },
        {
         "hovertemplate": "category=Magnetron tuner control item<br>date=%{x}<br>value=%{y}<extra></extra>",
         "legendgroup": "Magnetron tuner control item",
         "line": {
          "color": "#B6E880",
          "dash": "solid"
         },
         "marker": {
          "symbol": "circle"
         },
         "mode": "lines+markers",
         "name": "Magnetron tuner control item",
         "showlegend": true,
         "type": "scattergl",
         "x": [
          "2023-12-13",
          "2023-12-13",
          "2023-12-13",
          "2023-12-13",
          "2023-12-13",
          "2023-12-13",
          "2023-12-13",
          "2023-12-13",
          "2023-12-13",
          "2023-12-13",
          "2023-12-13",
          "2023-12-13",
          "2023-12-13",
          "2023-12-20",
          "2023-12-20",
          "2023-12-20",
          "2023-12-20",
          "2023-12-20",
          "2023-12-20",
          "2023-12-20",
          "2023-12-20",
          "2023-12-20",
          "2023-12-20",
          "2023-12-20",
          "2023-12-20",
          "2023-12-20",
          "2024-01-03",
          "2024-01-03",
          "2024-01-03",
          "2024-01-03",
          "2024-01-03",
          "2024-01-03",
          "2024-01-03",
          "2024-01-03",
          "2024-01-03",
          "2024-01-03",
          "2024-01-03",
          "2024-01-03",
          "2024-01-03",
          "2024-01-17",
          "2024-01-17",
          "2024-01-17",
          "2024-01-17",
          "2024-01-17",
          "2024-01-17",
          "2024-01-17",
          "2024-01-17",
          "2024-01-17",
          "2024-01-17",
          "2024-01-17",
          "2024-01-17",
          "2024-01-17",
          "2024-01-31",
          "2024-01-31",
          "2024-01-31",
          "2024-01-31",
          "2024-01-31",
          "2024-01-31",
          "2024-01-31",
          "2024-01-31",
          "2024-01-31",
          "2024-01-31",
          "2024-01-31",
          "2024-01-31",
          "2024-01-31",
          "2024-03-20",
          "2024-03-20",
          "2024-03-20",
          "2024-03-20",
          "2024-03-20",
          "2024-03-20",
          "2024-03-20",
          "2024-03-20",
          "2024-03-20",
          "2024-03-20",
          "2024-03-20",
          "2024-03-20",
          "2024-03-20",
          "2024-04-03",
          "2024-04-03",
          "2024-04-03",
          "2024-04-03",
          "2024-04-03",
          "2024-04-03",
          "2024-04-03",
          "2024-04-03",
          "2024-04-03",
          "2024-04-03",
          "2024-04-03",
          "2024-04-03",
          "2024-04-03",
          "2024-04-17",
          "2024-04-17",
          "2024-04-17",
          "2024-04-17",
          "2024-04-17",
          "2024-04-17",
          "2024-04-17",
          "2024-04-17",
          "2024-04-17",
          "2024-04-17",
          "2024-04-17",
          "2024-04-17",
          "2024-04-17",
          "2024-05-29",
          "2024-05-29",
          "2024-05-29",
          "2024-05-29",
          "2024-05-29",
          "2024-05-29",
          "2024-05-29",
          "2024-05-29",
          "2024-05-29",
          "2024-05-29",
          "2024-05-29",
          "2024-05-29",
          "2024-05-29",
          "2024-07-10",
          "2024-07-10",
          "2024-07-10",
          "2024-07-10",
          "2024-07-10",
          "2024-07-10",
          "2024-07-10",
          "2024-07-10",
          "2024-07-10",
          "2024-07-10",
          "2024-07-10",
          "2024-07-10",
          "2024-07-10",
          "2024-09-11",
          "2024-09-11",
          "2024-09-11",
          "2024-09-11",
          "2024-09-11",
          "2024-09-11",
          "2024-09-11",
          "2024-09-11",
          "2024-09-11",
          "2024-09-11",
          "2024-09-11",
          "2024-09-11",
          "2024-09-11",
          "2024-10-23",
          "2024-10-23",
          "2024-10-23",
          "2024-10-23",
          "2024-10-23",
          "2024-10-23",
          "2024-10-23",
          "2024-10-23",
          "2024-10-23",
          "2024-10-23",
          "2024-10-23",
          "2024-10-23",
          "2024-10-23",
          "2024-11-06",
          "2024-11-06",
          "2024-11-06",
          "2024-11-06",
          "2024-11-06",
          "2024-11-06",
          "2024-11-06",
          "2024-11-06",
          "2024-11-06",
          "2024-11-06",
          "2024-11-06",
          "2024-11-06",
          "2024-11-06",
          "2024-11-27",
          "2024-11-27",
          "2024-11-27",
          "2024-11-27",
          "2024-11-27",
          "2024-11-27",
          "2024-11-27",
          "2024-11-27",
          "2024-11-27",
          "2024-11-27",
          "2024-11-27",
          "2024-11-27",
          "2024-11-27",
          "2024-12-18",
          "2024-12-18",
          "2024-12-18",
          "2024-12-18",
          "2024-12-18",
          "2024-12-18",
          "2024-12-18",
          "2024-12-18",
          "2024-12-18",
          "2024-12-18",
          "2024-12-18",
          "2024-12-18",
          "2024-12-18",
          "2024-12-27",
          "2024-12-27",
          "2024-12-27",
          "2024-12-27",
          "2024-12-27",
          "2024-12-27",
          "2024-12-27",
          "2024-12-27",
          "2024-12-27",
          "2024-12-27",
          "2024-12-27",
          "2024-12-27",
          "2024-12-27",
          "2025-01-29",
          "2025-01-29",
          "2025-01-29",
          "2025-01-29",
          "2025-01-29",
          "2025-01-29",
          "2025-01-29",
          "2025-01-29",
          "2025-01-29",
          "2025-01-29",
          "2025-01-29",
          "2025-01-29",
          "2025-01-29",
          "2025-02-12",
          "2025-02-12",
          "2025-02-12",
          "2025-02-12",
          "2025-02-12",
          "2025-02-12",
          "2025-02-12",
          "2025-02-12",
          "2025-02-12",
          "2025-02-12",
          "2025-02-12",
          "2025-02-12",
          "2025-02-12",
          "2025-03-05",
          "2025-03-05",
          "2025-03-05",
          "2025-03-05",
          "2025-03-05",
          "2025-03-05",
          "2025-03-05",
          "2025-03-05",
          "2025-03-05",
          "2025-03-05",
          "2025-03-05",
          "2025-03-05",
          "2025-03-05",
          "2025-03-12",
          "2025-03-12",
          "2025-03-12",
          "2025-03-12",
          "2025-03-12",
          "2025-03-12",
          "2025-03-12",
          "2025-03-12",
          "2025-03-12",
          "2025-03-12",
          "2025-03-12",
          "2025-03-12",
          "2025-03-12"
         ],
         "xaxis": "x",
         "y": {
          "bdata": "AAD0AWEKAAAAAAAAAAAAAAAAAAAAAAAAAAAAAPQBjggAAAAAAAAAAAAAAAAAAAAAAAAAAAAA9AFaCgAAAAAAAAAAAAAAAAAAAAAAAAAAAAD0AUUKAAAAAAAAAAAAAAAAAAAAAAAAAAAAAPQBkAgAAAAAAAAAAAAAAAAAAAAAAAAAAAAA9AFWCgAAAAAAAAAAAAAAAAAAAAAAAAAAAAD0AXAKAAAAAAAAAAAAAAAAAAAAAAAAAAAAAPQBjAoAAAAAAAAAAAAAAAAAAAAAAAAAAAAA9AGQCAAAAAAAAAAAAAAAAAAAAAAAAAAAAAD0AWMKAAAAAAAAAAAAAAAAAAAAAAAAAAAAAPQBmgoAAAAAAAAAAAAAAAAAAAAAAAAAAAAA9AGQCAAAAAAAAAAAAAAAAAAAAAAAAAAAAAD0AWcKAAAAAAAAAAAAAAAAAAAAAAAAAAAAAPQBjggAAAAAAAAAAAAAAAAAAAAAAAAAAAAA9AGQCAAAAAAAAAAAAAAAAAAAAAAAAAAAAAD0AZAIAAAAAAAAAAAAAAAAAAAAAAAAAAAAAPQBmAoAAAAAAAAAAAAAAAAAAAAAAAAAAAAA9AGOCAAAAAAAAAAAAAAAAAAAAAAAAAAAAAD0AdEIAAAAAAAAAAAAAAAAAAAAAAAAAAAAAPQBjggAAAAAAAAAAAAAAAAAAAAAAAAAAA==",
          "dtype": "i2"
         },
         "yaxis": "y"
        },
        {
         "hovertemplate": "category=Monitor slits leg 1<br>date=%{x}<br>value=%{y}<extra></extra>",
         "legendgroup": "Monitor slits leg 1",
         "line": {
          "color": "#FF97FF",
          "dash": "solid"
         },
         "marker": {
          "symbol": "circle"
         },
         "mode": "lines+markers",
         "name": "Monitor slits leg 1",
         "showlegend": true,
         "type": "scattergl",
         "x": [
          "2023-12-13",
          "2023-12-13",
          "2023-12-20",
          "2023-12-20",
          "2024-01-03",
          "2024-01-03",
          "2024-01-17",
          "2024-01-17",
          "2024-01-31",
          "2024-01-31",
          "2024-03-20",
          "2024-03-20",
          "2024-04-03",
          "2024-04-03",
          "2024-04-17",
          "2024-04-17",
          "2024-05-29",
          "2024-05-29",
          "2024-07-10",
          "2024-07-10",
          "2024-09-11",
          "2024-09-11",
          "2024-10-23",
          "2024-10-23",
          "2024-11-06",
          "2024-11-06",
          "2024-11-27",
          "2024-11-27",
          "2024-12-18",
          "2024-12-18",
          "2024-12-27",
          "2024-12-27",
          "2025-01-29",
          "2025-01-29",
          "2025-02-12",
          "2025-02-12",
          "2025-03-05",
          "2025-03-05",
          "2025-03-12",
          "2025-03-12"
         ],
         "xaxis": "x",
         "y": {
          "bdata": "AYAAAAGAAAABgAAAAYAAAAGAAAABgAAAAYAAAAGAAAABgAAAAYAAAAGAAAABgAAAAYAAAAGAAAABgAAAAYAAAAGAAAABgAAAAYAAAAGAAAABgP//AYD//wGA//8BgP//AYD//wGA//8BgP//AYD//wGA//8BgP//AYD//wGA//8BgP//AYD//wGA//8BgP//AYD//wGA//8BgP//AYD//w==",
          "dtype": "i4"
         },
         "yaxis": "y"
        },
        {
         "hovertemplate": "category=Monitor slits leg 2<br>date=%{x}<br>value=%{y}<extra></extra>",
         "legendgroup": "Monitor slits leg 2",
         "line": {
          "color": "#FECB52",
          "dash": "solid"
         },
         "marker": {
          "symbol": "circle"
         },
         "mode": "lines+markers",
         "name": "Monitor slits leg 2",
         "showlegend": true,
         "type": "scattergl",
         "x": [
          "2023-12-13",
          "2023-12-13",
          "2023-12-20",
          "2023-12-20",
          "2024-01-03",
          "2024-01-03",
          "2024-01-17",
          "2024-01-17",
          "2024-01-31",
          "2024-01-31",
          "2024-03-20",
          "2024-03-20",
          "2024-04-03",
          "2024-04-03",
          "2024-04-17",
          "2024-04-17",
          "2024-05-29",
          "2024-05-29",
          "2024-07-10",
          "2024-07-10",
          "2024-09-11",
          "2024-09-11",
          "2024-10-23",
          "2024-10-23",
          "2024-11-06",
          "2024-11-06",
          "2024-11-27",
          "2024-11-27",
          "2024-12-18",
          "2024-12-18",
          "2024-12-27",
          "2024-12-27",
          "2025-01-29",
          "2025-01-29",
          "2025-02-12",
          "2025-02-12",
          "2025-03-05",
          "2025-03-05",
          "2025-03-12",
          "2025-03-12"
         ],
         "xaxis": "x",
         "y": {
          "bdata": "AYAAAAGAAAABgAAAAYAAAAGAAAABgAAAAYAAAAGAAAABgAAAAYAAAAGAAAABgAAAAYAAAAGAAAABgAAAAYAAAAGAAAABgAAAAYAAAAGAAAABgP//AYD//wGA//8BgP//AYD//wGA//8BgP//AYD//wGA//8BgP//AYD//wGA//8BgP//AYD//wGA//8BgP//AYD//wGA//8BgP//AYD//w==",
          "dtype": "i4"
         },
         "yaxis": "y"
        },
        {
         "hovertemplate": "category=Set gain slits balance<br>date=%{x}<br>value=%{y}<extra></extra>",
         "legendgroup": "Set gain slits balance",
         "line": {
          "color": "#636efa",
          "dash": "solid"
         },
         "marker": {
          "symbol": "circle"
         },
         "mode": "lines+markers",
         "name": "Set gain slits balance",
         "showlegend": true,
         "type": "scattergl",
         "x": [
          "2023-12-13",
          "2023-12-20",
          "2024-01-03",
          "2024-01-17",
          "2024-01-31",
          "2024-03-20",
          "2024-04-03",
          "2024-04-17",
          "2024-05-29",
          "2024-07-10",
          "2024-09-11",
          "2024-10-23",
          "2024-11-06",
          "2024-11-27",
          "2024-12-18",
          "2024-12-27",
          "2025-01-29",
          "2025-02-12",
          "2025-03-05",
          "2025-03-12"
         ],
         "xaxis": "x",
         "y": {
          "bdata": "AYAAAAGAAAABgAAAAYAAAAGAAAABgAAAAYAAAAGAAAABgAAAAYAAAAGA//8BgP//AYD//wGA//8BgP//AYD//wGA//8BgP//AYD//wGA//8=",
          "dtype": "i4"
         },
         "yaxis": "y"
        },
        {
         "hovertemplate": "category=Set gain slits loop<br>date=%{x}<br>value=%{y}<extra></extra>",
         "legendgroup": "Set gain slits loop",
         "line": {
          "color": "#EF553B",
          "dash": "solid"
         },
         "marker": {
          "symbol": "circle"
         },
         "mode": "lines+markers",
         "name": "Set gain slits loop",
         "showlegend": true,
         "type": "scattergl",
         "x": [
          "2023-12-13",
          "2023-12-20",
          "2024-01-03",
          "2024-01-17",
          "2024-01-31",
          "2024-03-20",
          "2024-04-03",
          "2024-04-17",
          "2024-05-29",
          "2024-07-10",
          "2024-09-11",
          "2024-10-23",
          "2024-11-06",
          "2024-11-27",
          "2024-12-18",
          "2024-12-27",
          "2025-01-29",
          "2025-02-12",
          "2025-03-05",
          "2025-03-12"
         ],
         "xaxis": "x",
         "y": {
          "bdata": "AYAAAAGAAAABgAAAAYAAAAGAAAABgAAAAYAAAAGAAAABgAAAAYAAAAGA//8BgP//AYD//wGA//8BgP//AYD//wGA//8BgP//AYD//wGA//8=",
          "dtype": "i4"
         },
         "yaxis": "y"
        },
        {
         "hovertemplate": "category=Calibration Block Base Frequency<br>date=%{x}<br>value=%{y}<extra></extra>",
         "legendgroup": "Calibration Block Base Frequency",
         "line": {
          "color": "#00cc96",
          "dash": "solid"
         },
         "marker": {
          "symbol": "circle"
         },
         "mode": "lines+markers",
         "name": "Calibration Block Base Frequency",
         "showlegend": true,
         "type": "scattergl",
         "x": [
          "2023-12-13",
          "2023-12-20",
          "2024-01-03",
          "2024-01-17",
          "2024-01-31",
          "2024-03-20",
          "2024-04-03",
          "2024-04-17",
          "2024-05-29",
          "2024-07-10",
          "2024-09-11",
          "2024-10-23",
          "2024-11-06",
          "2024-11-27",
          "2024-12-18",
          "2024-12-27",
          "2025-01-29",
          "2025-02-12",
          "2025-03-05",
          "2025-03-12"
         ],
         "xaxis": "x",
         "y": {
          "bdata": "AAAAAAAAAAAAAAAAAAAAAAAAAAA=",
          "dtype": "i1"
         },
         "yaxis": "y"
        },
        {
         "hovertemplate": "category=Slit sample width<br>date=%{x}<br>value=%{y}<extra></extra>",
         "legendgroup": "Slit sample width",
         "line": {
          "color": "#ab63fa",
          "dash": "solid"
         },
         "marker": {
          "symbol": "circle"
         },
         "mode": "lines+markers",
         "name": "Slit sample width",
         "showlegend": true,
         "type": "scattergl",
         "x": [
          "2023-12-13",
          "2023-12-20",
          "2024-01-03",
          "2024-01-17",
          "2024-01-31",
          "2024-03-20",
          "2024-04-03",
          "2024-04-17",
          "2024-05-29",
          "2024-07-10",
          "2024-09-11",
          "2024-10-23",
          "2024-11-06",
          "2024-11-27",
          "2024-12-18",
          "2024-12-27",
          "2025-01-29",
          "2025-02-12",
          "2025-03-05",
          "2025-03-12"
         ],
         "xaxis": "x",
         "y": {
          "bdata": "AYAAAAGAAAABgAAAAYAAAAGAAAABgAAAAYAAAAGAAAABgAAAAYAAAAGA//8BgP//AYD//wGA//8BgP//AYD//wGA//8BgP//AYD//wGA//8=",
          "dtype": "i4"
         },
         "yaxis": "y"
        },
        {
         "hovertemplate": "category=Slits difference<br>date=%{x}<br>value=%{y}<extra></extra>",
         "legendgroup": "Slits difference",
         "line": {
          "color": "#FFA15A",
          "dash": "solid"
         },
         "marker": {
          "symbol": "circle"
         },
         "mode": "lines+markers",
         "name": "Slits difference",
         "showlegend": true,
         "type": "scattergl",
         "x": [
          "2023-12-13",
          "2023-12-13",
          "2023-12-20",
          "2023-12-20",
          "2024-01-03",
          "2024-01-03",
          "2024-01-17",
          "2024-01-17",
          "2024-01-31",
          "2024-01-31",
          "2024-03-20",
          "2024-03-20",
          "2024-04-03",
          "2024-04-03",
          "2024-04-17",
          "2024-04-17",
          "2024-05-29",
          "2024-05-29",
          "2024-07-10",
          "2024-07-10",
          "2024-09-11",
          "2024-09-11",
          "2024-10-23",
          "2024-10-23",
          "2024-11-06",
          "2024-11-06",
          "2024-11-27",
          "2024-11-27",
          "2024-12-18",
          "2024-12-18",
          "2024-12-27",
          "2024-12-27",
          "2025-01-29",
          "2025-01-29",
          "2025-02-12",
          "2025-02-12",
          "2025-03-05",
          "2025-03-05",
          "2025-03-12",
          "2025-03-12"
         ],
         "xaxis": "x",
         "y": {
          "bdata": "AYAAAAGAAAABgAAAAYAAAAGAAAABgAAAAYAAAAGAAAABgAAAAYAAAAGAAAABgAAAAYAAAAGAAAABgAAAAYAAAAGAAAABgAAAAYAAAAGAAAABgP//AYD//wGA//8BgP//AYD//wGA//8BgP//AYD//wGA//8BgP//AYD//wGA//8BgP//AYD//wGA//8BgP//AYD//wGA//8BgP//AYD//w==",
          "dtype": "i4"
         },
         "yaxis": "y"
        },
        {
         "hovertemplate": "category=Hump gain<br>date=%{x}<br>value=%{y}<extra></extra>",
         "legendgroup": "Hump gain",
         "line": {
          "color": "#19d3f3",
          "dash": "solid"
         },
         "marker": {
          "symbol": "circle"
         },
         "mode": "lines+markers",
         "name": "Hump gain",
         "showlegend": true,
         "type": "scattergl",
         "x": [
          "2023-12-13",
          "2023-12-20",
          "2024-01-03",
          "2024-01-17",
          "2024-01-31",
          "2024-03-20",
          "2024-04-03",
          "2024-04-17",
          "2024-05-29",
          "2024-07-10",
          "2024-09-11",
          "2024-10-23",
          "2024-11-06",
          "2024-11-27",
          "2024-12-18",
          "2024-12-27",
          "2025-01-29",
          "2025-02-12",
          "2025-03-05",
          "2025-03-12"
         ],
         "xaxis": "x",
         "y": {
          "bdata": "3AXcBdwF3AXcBdwF3AXcBdwF3AXcBdwF3AXcBdwF3AXcBdwF3AXcBQ==",
          "dtype": "i2"
         },
         "yaxis": "y"
        },
        {
         "hovertemplate": "category=Dose level<br>date=%{x}<br>value=%{y}<extra></extra>",
         "legendgroup": "Dose level",
         "line": {
          "color": "#FF6692",
          "dash": "solid"
         },
         "marker": {
          "symbol": "circle"
         },
         "mode": "lines+markers",
         "name": "Dose level",
         "showlegend": true,
         "type": "scattergl",
         "x": [
          "2023-12-13",
          "2023-12-20",
          "2024-01-03",
          "2024-01-17",
          "2024-01-31",
          "2024-03-20",
          "2024-04-03",
          "2024-04-17",
          "2024-05-29",
          "2024-07-10",
          "2024-09-11",
          "2024-10-23",
          "2024-11-06",
          "2024-11-27",
          "2024-12-18",
          "2024-12-27",
          "2025-01-29",
          "2025-02-12",
          "2025-03-05",
          "2025-03-12"
         ],
         "xaxis": "x",
         "y": {
          "bdata": "6wXrBesF6wXrBesF6wXrBeYF4wXjBeMF4wXjBegF6AXkBeQF5AXkBQ==",
          "dtype": "i2"
         },
         "yaxis": "y"
        },
        {
         "hovertemplate": "category=Not used<br>date=%{x}<br>value=%{y}<extra></extra>",
         "legendgroup": "Not used",
         "line": {
          "color": "#B6E880",
          "dash": "solid"
         },
         "marker": {
          "symbol": "circle"
         },
         "mode": "lines+markers",
         "name": "Not used",
         "showlegend": true,
         "type": "scattergl",
         "x": [
          "2023-12-13",
          "2023-12-20",
          "2024-01-03",
          "2024-01-17",
          "2024-01-31",
          "2024-03-20",
          "2024-04-03",
          "2024-04-17",
          "2024-05-29",
          "2024-07-10",
          "2024-09-11",
          "2024-10-23",
          "2024-11-06",
          "2024-11-27",
          "2024-12-18",
          "2024-12-27",
          "2025-01-29",
          "2025-02-12",
          "2025-03-05",
          "2025-03-12"
         ],
         "xaxis": "x",
         "y": {
          "bdata": "AAAAAAAAAAAAAAAAAAAAAAAAAAA=",
          "dtype": "i1"
         },
         "yaxis": "y"
        },
        {
         "hovertemplate": "category=Set gun filament current<br>date=%{x}<br>value=%{y}<extra></extra>",
         "legendgroup": "Set gun filament current",
         "line": {
          "color": "#FF97FF",
          "dash": "solid"
         },
         "marker": {
          "symbol": "circle"
         },
         "mode": "lines+markers",
         "name": "Set gun filament current",
         "showlegend": true,
         "type": "scattergl",
         "x": [
          "2023-12-13",
          "2023-12-13",
          "2023-12-13",
          "2023-12-13",
          "2023-12-13",
          "2023-12-13",
          "2023-12-13",
          "2023-12-13",
          "2023-12-13",
          "2023-12-13",
          "2023-12-13",
          "2023-12-13",
          "2023-12-13",
          "2023-12-13",
          "2023-12-13",
          "2023-12-13",
          "2023-12-13",
          "2023-12-13",
          "2023-12-13",
          "2023-12-13",
          "2023-12-13",
          "2023-12-13",
          "2023-12-13",
          "2023-12-13",
          "2023-12-13",
          "2023-12-13",
          "2023-12-13",
          "2023-12-20",
          "2023-12-20",
          "2023-12-20",
          "2023-12-20",
          "2023-12-20",
          "2023-12-20",
          "2023-12-20",
          "2023-12-20",
          "2023-12-20",
          "2023-12-20",
          "2023-12-20",
          "2023-12-20",
          "2023-12-20",
          "2023-12-20",
          "2023-12-20",
          "2023-12-20",
          "2023-12-20",
          "2023-12-20",
          "2023-12-20",
          "2023-12-20",
          "2023-12-20",
          "2023-12-20",
          "2023-12-20",
          "2023-12-20",
          "2023-12-20",
          "2023-12-20",
          "2023-12-20",
          "2024-01-03",
          "2024-01-03",
          "2024-01-03",
          "2024-01-03",
          "2024-01-03",
          "2024-01-03",
          "2024-01-03",
          "2024-01-03",
          "2024-01-03",
          "2024-01-03",
          "2024-01-03",
          "2024-01-03",
          "2024-01-03",
          "2024-01-03",
          "2024-01-03",
          "2024-01-03",
          "2024-01-03",
          "2024-01-03",
          "2024-01-03",
          "2024-01-03",
          "2024-01-03",
          "2024-01-03",
          "2024-01-03",
          "2024-01-03",
          "2024-01-03",
          "2024-01-03",
          "2024-01-03",
          "2024-01-17",
          "2024-01-17",
          "2024-01-17",
          "2024-01-17",
          "2024-01-17",
          "2024-01-17",
          "2024-01-17",
          "2024-01-17",
          "2024-01-17",
          "2024-01-17",
          "2024-01-17",
          "2024-01-17",
          "2024-01-17",
          "2024-01-17",
          "2024-01-17",
          "2024-01-17",
          "2024-01-17",
          "2024-01-17",
          "2024-01-17",
          "2024-01-17",
          "2024-01-17",
          "2024-01-17",
          "2024-01-17",
          "2024-01-17",
          "2024-01-17",
          "2024-01-17",
          "2024-01-17",
          "2024-01-31",
          "2024-01-31",
          "2024-01-31",
          "2024-01-31",
          "2024-01-31",
          "2024-01-31",
          "2024-01-31",
          "2024-01-31",
          "2024-01-31",
          "2024-01-31",
          "2024-01-31",
          "2024-01-31",
          "2024-01-31",
          "2024-01-31",
          "2024-01-31",
          "2024-01-31",
          "2024-01-31",
          "2024-01-31",
          "2024-01-31",
          "2024-01-31",
          "2024-01-31",
          "2024-01-31",
          "2024-01-31",
          "2024-01-31",
          "2024-01-31",
          "2024-01-31",
          "2024-01-31",
          "2024-03-20",
          "2024-03-20",
          "2024-03-20",
          "2024-03-20",
          "2024-03-20",
          "2024-03-20",
          "2024-03-20",
          "2024-03-20",
          "2024-03-20",
          "2024-03-20",
          "2024-03-20",
          "2024-03-20",
          "2024-03-20",
          "2024-03-20",
          "2024-03-20",
          "2024-03-20",
          "2024-03-20",
          "2024-03-20",
          "2024-03-20",
          "2024-03-20",
          "2024-03-20",
          "2024-03-20",
          "2024-03-20",
          "2024-03-20",
          "2024-03-20",
          "2024-03-20",
          "2024-03-20",
          "2024-04-03",
          "2024-04-03",
          "2024-04-03",
          "2024-04-03",
          "2024-04-03",
          "2024-04-03",
          "2024-04-03",
          "2024-04-03",
          "2024-04-03",
          "2024-04-03",
          "2024-04-03",
          "2024-04-03",
          "2024-04-03",
          "2024-04-03",
          "2024-04-03",
          "2024-04-03",
          "2024-04-03",
          "2024-04-03",
          "2024-04-03",
          "2024-04-03",
          "2024-04-03",
          "2024-04-03",
          "2024-04-03",
          "2024-04-03",
          "2024-04-03",
          "2024-04-03",
          "2024-04-03",
          "2024-04-17",
          "2024-04-17",
          "2024-04-17",
          "2024-04-17",
          "2024-04-17",
          "2024-04-17",
          "2024-04-17",
          "2024-04-17",
          "2024-04-17",
          "2024-04-17",
          "2024-04-17",
          "2024-04-17",
          "2024-04-17",
          "2024-04-17",
          "2024-04-17",
          "2024-04-17",
          "2024-04-17",
          "2024-04-17",
          "2024-04-17",
          "2024-04-17",
          "2024-04-17",
          "2024-04-17",
          "2024-04-17",
          "2024-04-17",
          "2024-04-17",
          "2024-04-17",
          "2024-04-17",
          "2024-05-29",
          "2024-05-29",
          "2024-05-29",
          "2024-05-29",
          "2024-05-29",
          "2024-05-29",
          "2024-05-29",
          "2024-05-29",
          "2024-05-29",
          "2024-05-29",
          "2024-05-29",
          "2024-05-29",
          "2024-05-29",
          "2024-05-29",
          "2024-05-29",
          "2024-05-29",
          "2024-05-29",
          "2024-05-29",
          "2024-05-29",
          "2024-05-29",
          "2024-05-29",
          "2024-05-29",
          "2024-05-29",
          "2024-05-29",
          "2024-05-29",
          "2024-05-29",
          "2024-05-29",
          "2024-07-10",
          "2024-07-10",
          "2024-07-10",
          "2024-07-10",
          "2024-07-10",
          "2024-07-10",
          "2024-07-10",
          "2024-07-10",
          "2024-07-10",
          "2024-07-10",
          "2024-07-10",
          "2024-07-10",
          "2024-07-10",
          "2024-07-10",
          "2024-07-10",
          "2024-07-10",
          "2024-07-10",
          "2024-07-10",
          "2024-07-10",
          "2024-07-10",
          "2024-07-10",
          "2024-07-10",
          "2024-07-10",
          "2024-07-10",
          "2024-07-10",
          "2024-07-10",
          "2024-07-10",
          "2024-09-11",
          "2024-09-11",
          "2024-09-11",
          "2024-09-11",
          "2024-09-11",
          "2024-09-11",
          "2024-09-11",
          "2024-09-11",
          "2024-09-11",
          "2024-09-11",
          "2024-09-11",
          "2024-09-11",
          "2024-09-11",
          "2024-09-11",
          "2024-09-11",
          "2024-09-11",
          "2024-09-11",
          "2024-09-11",
          "2024-09-11",
          "2024-09-11",
          "2024-09-11",
          "2024-09-11",
          "2024-09-11",
          "2024-09-11",
          "2024-09-11",
          "2024-09-11",
          "2024-09-11",
          "2024-10-23",
          "2024-10-23",
          "2024-10-23",
          "2024-10-23",
          "2024-10-23",
          "2024-10-23",
          "2024-10-23",
          "2024-10-23",
          "2024-10-23",
          "2024-10-23",
          "2024-10-23",
          "2024-10-23",
          "2024-10-23",
          "2024-10-23",
          "2024-10-23",
          "2024-10-23",
          "2024-10-23",
          "2024-10-23",
          "2024-10-23",
          "2024-10-23",
          "2024-10-23",
          "2024-10-23",
          "2024-10-23",
          "2024-10-23",
          "2024-10-23",
          "2024-10-23",
          "2024-10-23",
          "2024-11-06",
          "2024-11-06",
          "2024-11-06",
          "2024-11-06",
          "2024-11-06",
          "2024-11-06",
          "2024-11-06",
          "2024-11-06",
          "2024-11-06",
          "2024-11-06",
          "2024-11-06",
          "2024-11-06",
          "2024-11-06",
          "2024-11-06",
          "2024-11-06",
          "2024-11-06",
          "2024-11-06",
          "2024-11-06",
          "2024-11-06",
          "2024-11-06",
          "2024-11-06",
          "2024-11-06",
          "2024-11-06",
          "2024-11-06",
          "2024-11-06",
          "2024-11-06",
          "2024-11-06",
          "2024-11-27",
          "2024-11-27",
          "2024-11-27",
          "2024-11-27",
          "2024-11-27",
          "2024-11-27",
          "2024-11-27",
          "2024-11-27",
          "2024-11-27",
          "2024-11-27",
          "2024-11-27",
          "2024-11-27",
          "2024-11-27",
          "2024-11-27",
          "2024-11-27",
          "2024-11-27",
          "2024-11-27",
          "2024-11-27",
          "2024-11-27",
          "2024-11-27",
          "2024-11-27",
          "2024-11-27",
          "2024-11-27",
          "2024-11-27",
          "2024-11-27",
          "2024-11-27",
          "2024-11-27",
          "2024-12-18",
          "2024-12-18",
          "2024-12-18",
          "2024-12-18",
          "2024-12-18",
          "2024-12-18",
          "2024-12-18",
          "2024-12-18",
          "2024-12-18",
          "2024-12-18",
          "2024-12-18",
          "2024-12-18",
          "2024-12-18",
          "2024-12-18",
          "2024-12-18",
          "2024-12-18",
          "2024-12-18",
          "2024-12-18",
          "2024-12-18",
          "2024-12-18",
          "2024-12-18",
          "2024-12-18",
          "2024-12-18",
          "2024-12-18",
          "2024-12-18",
          "2024-12-18",
          "2024-12-18",
          "2024-12-27",
          "2024-12-27",
          "2024-12-27",
          "2024-12-27",
          "2024-12-27",
          "2024-12-27",
          "2024-12-27",
          "2024-12-27",
          "2024-12-27",
          "2024-12-27",
          "2024-12-27",
          "2024-12-27",
          "2024-12-27",
          "2024-12-27",
          "2024-12-27",
          "2024-12-27",
          "2024-12-27",
          "2024-12-27",
          "2024-12-27",
          "2024-12-27",
          "2024-12-27",
          "2024-12-27",
          "2024-12-27",
          "2024-12-27",
          "2024-12-27",
          "2024-12-27",
          "2024-12-27",
          "2025-01-29",
          "2025-01-29",
          "2025-01-29",
          "2025-01-29",
          "2025-01-29",
          "2025-01-29",
          "2025-01-29",
          "2025-01-29",
          "2025-01-29",
          "2025-01-29",
          "2025-01-29",
          "2025-01-29",
          "2025-01-29",
          "2025-01-29",
          "2025-01-29",
          "2025-01-29",
          "2025-01-29",
          "2025-01-29",
          "2025-01-29",
          "2025-01-29",
          "2025-01-29",
          "2025-01-29",
          "2025-01-29",
          "2025-01-29",
          "2025-01-29",
          "2025-01-29",
          "2025-01-29",
          "2025-02-12",
          "2025-02-12",
          "2025-02-12",
          "2025-02-12",
          "2025-02-12",
          "2025-02-12",
          "2025-02-12",
          "2025-02-12",
          "2025-02-12",
          "2025-02-12",
          "2025-02-12",
          "2025-02-12",
          "2025-02-12",
          "2025-02-12",
          "2025-02-12",
          "2025-02-12",
          "2025-02-12",
          "2025-02-12",
          "2025-02-12",
          "2025-02-12",
          "2025-02-12",
          "2025-02-12",
          "2025-02-12",
          "2025-02-12",
          "2025-02-12",
          "2025-02-12",
          "2025-02-12",
          "2025-03-05",
          "2025-03-05",
          "2025-03-05",
          "2025-03-05",
          "2025-03-05",
          "2025-03-05",
          "2025-03-05",
          "2025-03-05",
          "2025-03-05",
          "2025-03-05",
          "2025-03-05",
          "2025-03-05",
          "2025-03-05",
          "2025-03-05",
          "2025-03-05",
          "2025-03-05",
          "2025-03-05",
          "2025-03-05",
          "2025-03-05",
          "2025-03-05",
          "2025-03-05",
          "2025-03-05",
          "2025-03-05",
          "2025-03-05",
          "2025-03-05",
          "2025-03-05",
          "2025-03-05",
          "2025-03-12",
          "2025-03-12",
          "2025-03-12",
          "2025-03-12",
          "2025-03-12",
          "2025-03-12",
          "2025-03-12",
          "2025-03-12",
          "2025-03-12",
          "2025-03-12",
          "2025-03-12",
          "2025-03-12",
          "2025-03-12",
          "2025-03-12",
          "2025-03-12",
          "2025-03-12",
          "2025-03-12",
          "2025-03-12",
          "2025-03-12",
          "2025-03-12",
          "2025-03-12",
          "2025-03-12",
          "2025-03-12",
          "2025-03-12",
          "2025-03-12",
          "2025-03-12",
          "2025-03-12"
         ],
         "xaxis": "x",
         "y": {
          "bdata": "MgBKAEoAAQAMAMgAMgDoA/kCAAAAAPgCAAAAAAAAAAAAAAAAAAAAAAAAAAAAAAAAAAAAAAAAMgBKAEoAAQAMAMgAMgDoA/kCAAAAAAsCAAAAAAAAAAAAAAAAAAAAAAAAAAAAAAAAAAAAAAAAMgBKAEoAAQAMAMgAMgDoA/kCAAAAAPMCAAAAAAAAAAAAAAAAAAAAAAAAAAAAAAAAAAAAAAAAMgBKAEoAAQAMAMgAMgDoA/MCAAAAAPICAAAAAAAAAAAAAAAAAAAAAAAAAAAAAAAAAAAAAAAAMgBKAEoAAQAMAMgAMgDoA/MCAAAAAAwCAAAAAAAAAAAAAAAAAAAAAAAAAAAAAAAAAAAAAAAAMgBKAEoAAQAMAMgAMgDoA/ECAAAAAPECAAAAAAAAAAAAAAAAAAAAAAAAAAAAAAAAAAAAAAAAMgBKAEoAAQAMAMgAMgDoA+8CAAAAAO8CAAAAAAAAAAAAAAAAAAAAAAAAAAAAAAAAAAAAAAAAMgBKAEoAAQAMAMgAMgDoA+0CAAAAAO0CAAAAAAAAAAAAAAAAAAAAAAAAAAAAAAAAAAAAAAAAMgBKAEoAAQAMAMgAMgDoA+wCAAAAAAsCAAAAAAAAAAAAAAAAAAAAAAAAAAAAAAAAAAAAAAAAMgBKAEoAAQAMAMgAMgDoA+cCAAAAAOYCAAAAAAAAAAAAAAAAAAAAAAAAAAAAAAAAAAAAAAAAMgBKAEoAAQAMAMgAMgDoA+cCAAAAAOgCAAAAAAAAAAAAAAAAAAAAAAAAAAAAAAAAAAAAAAAAMgBKAEoAAQAMAMgAMgDoA+cCAAAAAAsCAAAAAAAAAAAAAAAAAAAAAAAAAAAAAAAAAAAAAAAAMgBKAEoAAQAMAMgAMgDoA+MCAAAAAOMCAAAAAAAAAAAAAAAAAAAAAAAAAAAAAAAAAAAAAAAAMgBKAEoAAQAMAMgAMgDoA+MCAAAAAAsCAAAAAAAAAAAAAAAAAAAAAAAAAAAAAAAAAAAAAAAAMgBKAEoAAQAMAMgAMgDoA9oCAAAAAAoCAAAAAAAAAAAAAAAAAAAAAAAAAAAAAAAAAAAAAAAAMgBKAEoAAQAMAMgAMgDoA9oCAAAAAAsCAAAAAAAAAAAAAAAAAAAAAAAAAAAAAAAAAAAAAAAAMgBKAEoAAQAMAMgAMgDoA9gCAAAAANcCAAAAAAAAAAAAAAAAAAAAAAAAAAAAAAAAAAAAAAAAMgBKAEoAAQAMAMgAMgDoA9gCAAAAAAsCAAAAAAAAAAAAAAAAAAAAAAAAAAAAAAAAAAAAAAAAMgBKAEoAAQAMAMgAMgDoA9MCAAAAAAsCAAAAAAAAAAAAAAAAAAAAAAAAAAAAAAAAAAAAAAAAMgBKAEoAAQAMAMgAMgDoA9MCAAAAAAsCAAAAAAAAAAAAAAAAAAAAAAAAAAAAAAAAAAAAAAAA",
          "dtype": "i2"
         },
         "yaxis": "y"
        },
        {
         "hovertemplate": "category=Gun standby current<br>date=%{x}<br>value=%{y}<extra></extra>",
         "legendgroup": "Gun standby current",
         "line": {
          "color": "#FECB52",
          "dash": "solid"
         },
         "marker": {
          "symbol": "circle"
         },
         "mode": "lines+markers",
         "name": "Gun standby current",
         "showlegend": true,
         "type": "scattergl",
         "x": [
          "2023-12-13",
          "2023-12-20",
          "2024-01-03",
          "2024-01-17",
          "2024-01-31",
          "2024-03-20",
          "2024-04-03",
          "2024-04-17",
          "2024-05-29",
          "2024-07-10",
          "2024-09-11",
          "2024-10-23",
          "2024-11-06",
          "2024-11-27",
          "2024-12-18",
          "2024-12-27",
          "2025-01-29",
          "2025-02-12",
          "2025-03-05",
          "2025-03-12"
         ],
         "xaxis": "x",
         "y": {
          "bdata": "DQINAg0CDQINAg0CDQINAg0CDQINAg0CDQINAg0CDQINAg0CDQINAg==",
          "dtype": "i2"
         },
         "yaxis": "y"
        },
        {
         "hovertemplate": "category=Gun aim current<br>date=%{x}<br>value=%{y}<extra></extra>",
         "legendgroup": "Gun aim current",
         "line": {
          "color": "#636efa",
          "dash": "solid"
         },
         "marker": {
          "symbol": "circle"
         },
         "mode": "lines+markers",
         "name": "Gun aim current",
         "showlegend": true,
         "type": "scattergl",
         "x": [
          "2023-12-13",
          "2023-12-20",
          "2024-01-03",
          "2024-01-17",
          "2024-01-31",
          "2024-03-20",
          "2024-04-03",
          "2024-04-17",
          "2024-05-29",
          "2024-07-10",
          "2024-09-11",
          "2024-10-23",
          "2024-11-06",
          "2024-11-27",
          "2024-12-18",
          "2024-12-27",
          "2025-01-29",
          "2025-02-12",
          "2025-03-05",
          "2025-03-12"
         ],
         "xaxis": "x",
         "y": {
          "bdata": "/QL9Av0C+AL4AvYC9ALyAvEC7ALsAuwC6ALoAt8C3wLdAt0C2ALYAg==",
          "dtype": "i2"
         },
         "yaxis": "y"
        },
        {
         "hovertemplate": "category=Uniformity<br>date=%{x}<br>value=%{y}<extra></extra>",
         "legendgroup": "Uniformity",
         "line": {
          "color": "#EF553B",
          "dash": "solid"
         },
         "marker": {
          "symbol": "circle"
         },
         "mode": "lines+markers",
         "name": "Uniformity",
         "showlegend": true,
         "type": "scattergl",
         "x": [
          "2023-12-13",
          "2023-12-13",
          "2023-12-13",
          "2023-12-13",
          "2023-12-13",
          "2023-12-13",
          "2023-12-13",
          "2023-12-13",
          "2023-12-20",
          "2023-12-20",
          "2023-12-20",
          "2023-12-20",
          "2023-12-20",
          "2023-12-20",
          "2023-12-20",
          "2023-12-20",
          "2024-01-03",
          "2024-01-03",
          "2024-01-03",
          "2024-01-03",
          "2024-01-03",
          "2024-01-03",
          "2024-01-03",
          "2024-01-03",
          "2024-01-17",
          "2024-01-17",
          "2024-01-17",
          "2024-01-17",
          "2024-01-17",
          "2024-01-17",
          "2024-01-17",
          "2024-01-17",
          "2024-01-31",
          "2024-01-31",
          "2024-01-31",
          "2024-01-31",
          "2024-01-31",
          "2024-01-31",
          "2024-01-31",
          "2024-01-31",
          "2024-03-20",
          "2024-03-20",
          "2024-03-20",
          "2024-03-20",
          "2024-03-20",
          "2024-03-20",
          "2024-03-20",
          "2024-03-20",
          "2024-04-03",
          "2024-04-03",
          "2024-04-03",
          "2024-04-03",
          "2024-04-03",
          "2024-04-03",
          "2024-04-03",
          "2024-04-03",
          "2024-04-17",
          "2024-04-17",
          "2024-04-17",
          "2024-04-17",
          "2024-04-17",
          "2024-04-17",
          "2024-04-17",
          "2024-04-17",
          "2024-05-29",
          "2024-05-29",
          "2024-05-29",
          "2024-05-29",
          "2024-05-29",
          "2024-05-29",
          "2024-05-29",
          "2024-05-29",
          "2024-07-10",
          "2024-07-10",
          "2024-07-10",
          "2024-07-10",
          "2024-07-10",
          "2024-07-10",
          "2024-07-10",
          "2024-07-10",
          "2024-09-11",
          "2024-09-11",
          "2024-09-11",
          "2024-09-11",
          "2024-09-11",
          "2024-09-11",
          "2024-09-11",
          "2024-09-11",
          "2024-10-23",
          "2024-10-23",
          "2024-10-23",
          "2024-10-23",
          "2024-10-23",
          "2024-10-23",
          "2024-10-23",
          "2024-10-23",
          "2024-11-06",
          "2024-11-06",
          "2024-11-06",
          "2024-11-06",
          "2024-11-06",
          "2024-11-06",
          "2024-11-06",
          "2024-11-06",
          "2024-11-27",
          "2024-11-27",
          "2024-11-27",
          "2024-11-27",
          "2024-11-27",
          "2024-11-27",
          "2024-11-27",
          "2024-11-27",
          "2024-12-18",
          "2024-12-18",
          "2024-12-18",
          "2024-12-18",
          "2024-12-18",
          "2024-12-18",
          "2024-12-18",
          "2024-12-18",
          "2024-12-27",
          "2024-12-27",
          "2024-12-27",
          "2024-12-27",
          "2024-12-27",
          "2024-12-27",
          "2024-12-27",
          "2024-12-27",
          "2025-01-29",
          "2025-01-29",
          "2025-01-29",
          "2025-01-29",
          "2025-01-29",
          "2025-01-29",
          "2025-01-29",
          "2025-01-29",
          "2025-02-12",
          "2025-02-12",
          "2025-02-12",
          "2025-02-12",
          "2025-02-12",
          "2025-02-12",
          "2025-02-12",
          "2025-02-12",
          "2025-03-05",
          "2025-03-05",
          "2025-03-05",
          "2025-03-05",
          "2025-03-05",
          "2025-03-05",
          "2025-03-05",
          "2025-03-05",
          "2025-03-12",
          "2025-03-12",
          "2025-03-12",
          "2025-03-12",
          "2025-03-12",
          "2025-03-12",
          "2025-03-12",
          "2025-03-12"
         ],
         "xaxis": "x",
         "y": {
          "bdata": "MgCSB3wHfgeHBwwICAAACDIAkgd8B34HhwcMCAgAAAgyAJIHfAd+B4cHDAgIAAAIMgCSB3wHfgeHBwwICAAACDIAkgd8B34HhwcMCAgAAAgyAJIHfAd+B4cHDAgIAAAIMgCSB3wHfgeHBwwICAAACDIAkgd8B34HhwcMCAgAAAgyAJIHfAd+B4cHDAgIAAAIMgCFB3oHdAeFB/wHCAAACDIAhQd6B3QHhQf8BwgAAAgyAIUHegd0B4UH/AcIAAAIMgCFB3oHdAeFB/wHCAAACDIAhQd6B3QHhQf8BwgAAAgyAIUHegd0B4UH/AcIAAAIMgCFB3oHdAeFB/wHCAAACDIAhQd6B3QHhQf8BwgAAAgyAIUHegd0B4UH/AcIAAAIMgCFB3oHdAeFB/wHCAAACDIAhQd6B3QHhQf8BwgAAAg=",
          "dtype": "i2"
         },
         "yaxis": "y"
        },
        {
         "hovertemplate": "category=Target control<br>date=%{x}<br>value=%{y}<extra></extra>",
         "legendgroup": "Target control",
         "line": {
          "color": "#00cc96",
          "dash": "solid"
         },
         "marker": {
          "symbol": "circle"
         },
         "mode": "lines+markers",
         "name": "Target control",
         "showlegend": true,
         "type": "scattergl",
         "x": [
          "2023-12-13",
          "2023-12-20",
          "2024-01-03",
          "2024-01-17",
          "2024-01-31",
          "2024-03-20",
          "2024-04-03",
          "2024-04-17",
          "2024-05-29",
          "2024-07-10",
          "2024-09-11",
          "2024-10-23",
          "2024-11-06",
          "2024-11-27",
          "2024-12-18",
          "2024-12-27",
          "2025-01-29",
          "2025-02-12",
          "2025-03-05",
          "2025-03-12"
         ],
         "xaxis": "x",
         "y": {
          "bdata": "AwMDAwMDAwMDAwMDAwMDAwMDAwM=",
          "dtype": "i1"
         },
         "yaxis": "y"
        },
        {
         "hovertemplate": "category=Set primary collimator<br>date=%{x}<br>value=%{y}<extra></extra>",
         "legendgroup": "Set primary collimator",
         "line": {
          "color": "#ab63fa",
          "dash": "solid"
         },
         "marker": {
          "symbol": "circle"
         },
         "mode": "lines+markers",
         "name": "Set primary collimator",
         "showlegend": true,
         "type": "scattergl",
         "x": [
          "2023-12-13",
          "2023-12-20",
          "2024-01-03",
          "2024-01-17",
          "2024-01-31",
          "2024-03-20",
          "2024-04-03",
          "2024-04-17",
          "2024-05-29",
          "2024-07-10",
          "2024-09-11",
          "2024-10-23",
          "2024-11-06",
          "2024-11-27",
          "2024-12-18",
          "2024-12-27",
          "2025-01-29",
          "2025-02-12",
          "2025-03-05",
          "2025-03-12"
         ],
         "xaxis": "x",
         "y": {
          "bdata": "AgICAgICAgICAgICAgICAgICAgI=",
          "dtype": "i1"
         },
         "yaxis": "y"
        },
        {
         "hovertemplate": "category=Set primary scatter<br>date=%{x}<br>value=%{y}<extra></extra>",
         "legendgroup": "Set primary scatter",
         "line": {
          "color": "#FFA15A",
          "dash": "solid"
         },
         "marker": {
          "symbol": "circle"
         },
         "mode": "lines+markers",
         "name": "Set primary scatter",
         "showlegend": true,
         "type": "scattergl",
         "x": [
          "2023-12-13",
          "2023-12-20",
          "2024-01-03",
          "2024-01-17",
          "2024-01-31",
          "2024-03-20",
          "2024-04-03",
          "2024-04-17",
          "2024-05-29",
          "2024-07-10",
          "2024-09-11",
          "2024-10-23",
          "2024-11-06",
          "2024-11-27",
          "2024-12-18",
          "2024-12-27",
          "2025-01-29",
          "2025-02-12",
          "2025-03-05",
          "2025-03-12"
         ],
         "xaxis": "x",
         "y": {
          "bdata": "YQJhAmECYQJhAmECYQJhAmECYQJhAmECYQJhAmECYQJhAmECYQJhAg==",
          "dtype": "i2"
         },
         "yaxis": "y"
        },
        {
         "hovertemplate": "category=Set secondary filter<br>date=%{x}<br>value=%{y}<extra></extra>",
         "legendgroup": "Set secondary filter",
         "line": {
          "color": "#19d3f3",
          "dash": "solid"
         },
         "marker": {
          "symbol": "circle"
         },
         "mode": "lines+markers",
         "name": "Set secondary filter",
         "showlegend": true,
         "type": "scattergl",
         "x": [
          "2023-12-13",
          "2023-12-20",
          "2024-01-03",
          "2024-01-17",
          "2024-01-31",
          "2024-03-20",
          "2024-04-03",
          "2024-04-17",
          "2024-05-29",
          "2024-07-10",
          "2024-09-11",
          "2024-10-23",
          "2024-11-06",
          "2024-11-27",
          "2024-12-18",
          "2024-12-27",
          "2025-01-29",
          "2025-02-12",
          "2025-03-05",
          "2025-03-12"
         ],
         "xaxis": "x",
         "y": {
          "bdata": "AgICAgICAgICAgICAgICAgICAgI=",
          "dtype": "i1"
         },
         "yaxis": "y"
        },
        {
         "hovertemplate": "category=Wedge monitor<br>date=%{x}<br>value=%{y}<extra></extra>",
         "legendgroup": "Wedge monitor",
         "line": {
          "color": "#FF6692",
          "dash": "solid"
         },
         "marker": {
          "symbol": "circle"
         },
         "mode": "lines+markers",
         "name": "Wedge monitor",
         "showlegend": true,
         "type": "scattergl",
         "x": [
          "2023-12-13",
          "2023-12-20",
          "2024-01-03",
          "2024-01-17",
          "2024-01-31",
          "2024-03-20",
          "2024-04-03",
          "2024-04-17",
          "2024-05-29",
          "2024-07-10",
          "2024-09-11",
          "2024-10-23",
          "2024-11-06",
          "2024-11-27",
          "2024-12-18",
          "2024-12-27",
          "2025-01-29",
          "2025-02-12",
          "2025-03-05",
          "2025-03-12"
         ],
         "xaxis": "x",
         "y": {
          "bdata": "AgICAgICAgICAgICAgICAgICAgI=",
          "dtype": "i1"
         },
         "yaxis": "y"
        },
        {
         "hovertemplate": "category=Target type monitor<br>date=%{x}<br>value=%{y}<extra></extra>",
         "legendgroup": "Target type monitor",
         "line": {
          "color": "#B6E880",
          "dash": "solid"
         },
         "marker": {
          "symbol": "circle"
         },
         "mode": "lines+markers",
         "name": "Target type monitor",
         "showlegend": true,
         "type": "scattergl",
         "x": [
          "2023-12-13",
          "2023-12-20",
          "2024-01-03",
          "2024-01-17",
          "2024-01-31",
          "2024-03-20",
          "2024-04-03",
          "2024-04-17",
          "2024-05-29",
          "2024-07-10",
          "2024-09-11",
          "2024-10-23",
          "2024-11-06",
          "2024-11-27",
          "2024-12-18",
          "2024-12-27",
          "2025-01-29",
          "2025-02-12",
          "2025-03-05",
          "2025-03-12"
         ],
         "xaxis": "x",
         "y": {
          "bdata": "AwMDAwMDAwMDAwMDAwMDAwMDAwM=",
          "dtype": "i1"
         },
         "yaxis": "y"
        },
        {
         "hovertemplate": "category=X-ray primary collimator monitor<br>date=%{x}<br>value=%{y}<extra></extra>",
         "legendgroup": "X-ray primary collimator monitor",
         "line": {
          "color": "#FF97FF",
          "dash": "solid"
         },
         "marker": {
          "symbol": "circle"
         },
         "mode": "lines+markers",
         "name": "X-ray primary collimator monitor",
         "showlegend": true,
         "type": "scattergl",
         "x": [
          "2023-12-13",
          "2023-12-20",
          "2024-01-03",
          "2024-01-17",
          "2024-01-31",
          "2024-03-20",
          "2024-04-03",
          "2024-04-17",
          "2024-05-29",
          "2024-07-10",
          "2024-09-11",
          "2024-10-23",
          "2024-11-06",
          "2024-11-27",
          "2024-12-18",
          "2024-12-27",
          "2025-01-29",
          "2025-02-12",
          "2025-03-05",
          "2025-03-12"
         ],
         "xaxis": "x",
         "y": {
          "bdata": "AgICAgICAgICAgICAgICAgICAgI=",
          "dtype": "i1"
         },
         "yaxis": "y"
        },
        {
         "hovertemplate": "category=Secondary collimator monitor<br>date=%{x}<br>value=%{y}<extra></extra>",
         "legendgroup": "Secondary collimator monitor",
         "line": {
          "color": "#FECB52",
          "dash": "solid"
         },
         "marker": {
          "symbol": "circle"
         },
         "mode": "lines+markers",
         "name": "Secondary collimator monitor",
         "showlegend": true,
         "type": "scattergl",
         "x": [
          "2023-12-13",
          "2023-12-20",
          "2024-01-03",
          "2024-01-17",
          "2024-01-31",
          "2024-03-20",
          "2024-04-03",
          "2024-04-17",
          "2024-05-29",
          "2024-07-10",
          "2024-09-11",
          "2024-10-23",
          "2024-11-06",
          "2024-11-27",
          "2024-12-18",
          "2024-12-27",
          "2025-01-29",
          "2025-02-12",
          "2025-03-05",
          "2025-03-12"
         ],
         "xaxis": "x",
         "y": {
          "bdata": "BQUFBQUFBQUFBQUFBQUFBQUFBQU=",
          "dtype": "i1"
         },
         "yaxis": "y"
        },
        {
         "hovertemplate": "category=Target check<br>date=%{x}<br>value=%{y}<extra></extra>",
         "legendgroup": "Target check",
         "line": {
          "color": "#636efa",
          "dash": "solid"
         },
         "marker": {
          "symbol": "circle"
         },
         "mode": "lines+markers",
         "name": "Target check",
         "showlegend": true,
         "type": "scattergl",
         "x": [
          "2023-12-13",
          "2023-12-20",
          "2024-01-03",
          "2024-01-17",
          "2024-01-31",
          "2024-03-20",
          "2024-04-03",
          "2024-04-17",
          "2024-05-29",
          "2024-07-10",
          "2024-09-11",
          "2024-10-23",
          "2024-11-06",
          "2024-11-27",
          "2024-12-18",
          "2024-12-27",
          "2025-01-29",
          "2025-02-12",
          "2025-03-05",
          "2025-03-12"
         ],
         "xaxis": "x",
         "y": {
          "bdata": "UApQClAKUApQClAKUApQClAKUApQClAKUApQClAKUApQClAKUApQCg==",
          "dtype": "i2"
         },
         "yaxis": "y"
        },
        {
         "hovertemplate": "category=Applicator present<br>date=%{x}<br>value=%{y}<extra></extra>",
         "legendgroup": "Applicator present",
         "line": {
          "color": "#EF553B",
          "dash": "solid"
         },
         "marker": {
          "symbol": "circle"
         },
         "mode": "lines+markers",
         "name": "Applicator present",
         "showlegend": true,
         "type": "scattergl",
         "x": [
          "2023-12-13",
          "2023-12-20",
          "2024-01-03",
          "2024-01-17",
          "2024-01-31",
          "2024-03-20",
          "2024-04-03",
          "2024-04-17",
          "2024-05-29",
          "2024-07-10",
          "2024-09-11",
          "2024-10-23",
          "2024-11-06",
          "2024-11-27",
          "2024-12-18",
          "2024-12-27",
          "2025-01-29",
          "2025-02-12",
          "2025-03-05",
          "2025-03-12"
         ],
         "xaxis": "x",
         "y": {
          "bdata": "AAAAAAAAAAAAAAAAAAAAAAAAAAA=",
          "dtype": "i1"
         },
         "yaxis": "y"
        },
        {
         "hovertemplate": "category=Primary scatter foil position<br>date=%{x}<br>value=%{y}<extra></extra>",
         "legendgroup": "Primary scatter foil position",
         "line": {
          "color": "#00cc96",
          "dash": "solid"
         },
         "marker": {
          "symbol": "circle"
         },
         "mode": "lines+markers",
         "name": "Primary scatter foil position",
         "showlegend": true,
         "type": "scattergl",
         "x": [
          "2023-12-13",
          "2023-12-20",
          "2024-01-03",
          "2024-01-17",
          "2024-01-31",
          "2024-03-20",
          "2024-04-03",
          "2024-04-17",
          "2024-05-29",
          "2024-07-10",
          "2024-09-11",
          "2024-10-23",
          "2024-11-06",
          "2024-11-27",
          "2024-12-18",
          "2024-12-27",
          "2025-01-29",
          "2025-02-12",
          "2025-03-05",
          "2025-03-12"
         ],
         "xaxis": "x",
         "y": {
          "bdata": "bgJuAm4CbgJuAm4CbgJuAm4CbgJuAm4CbgJuAm4CbgJuAm4CbgJuAg==",
          "dtype": "i2"
         },
         "yaxis": "y"
        },
        {
         "hovertemplate": "category=Primary scatter foil check<br>date=%{x}<br>value=%{y}<extra></extra>",
         "legendgroup": "Primary scatter foil check",
         "line": {
          "color": "#ab63fa",
          "dash": "solid"
         },
         "marker": {
          "symbol": "circle"
         },
         "mode": "lines+markers",
         "name": "Primary scatter foil check",
         "showlegend": true,
         "type": "scattergl",
         "x": [
          "2023-12-13",
          "2023-12-20",
          "2024-01-03",
          "2024-01-17",
          "2024-01-31",
          "2024-03-20",
          "2024-04-03",
          "2024-04-17",
          "2024-05-29",
          "2024-07-10",
          "2024-09-11",
          "2024-10-23",
          "2024-11-06",
          "2024-11-27",
          "2024-12-18",
          "2024-12-27",
          "2025-01-29",
          "2025-02-12",
          "2025-03-05",
          "2025-03-12"
         ],
         "xaxis": "x",
         "y": {
          "bdata": "nAKcApwCnAKcApwCnAKcApwCnAKcApwCnAKcApwCnAKcApwCnAKcAg==",
          "dtype": "i2"
         },
         "yaxis": "y"
        },
        {
         "hovertemplate": "category=Shutter set<br>date=%{x}<br>value=%{y}<extra></extra>",
         "legendgroup": "Shutter set",
         "line": {
          "color": "#FFA15A",
          "dash": "solid"
         },
         "marker": {
          "symbol": "circle"
         },
         "mode": "lines+markers",
         "name": "Shutter set",
         "showlegend": true,
         "type": "scattergl",
         "x": [
          "2023-12-13",
          "2023-12-20",
          "2024-01-03",
          "2024-01-17",
          "2024-01-31",
          "2024-03-20",
          "2024-04-03",
          "2024-04-17",
          "2024-05-29",
          "2024-07-10",
          "2024-09-11",
          "2024-10-23",
          "2024-11-06",
          "2024-11-27",
          "2024-12-18",
          "2024-12-27",
          "2025-01-29",
          "2025-02-12",
          "2025-03-05",
          "2025-03-12"
         ],
         "xaxis": "x",
         "y": {
          "bdata": "AQEBAQEBAQEBAQEBAQEBAQEBAQE=",
          "dtype": "i1"
         },
         "yaxis": "y"
        },
        {
         "hovertemplate": "category=Shutter monitor<br>date=%{x}<br>value=%{y}<extra></extra>",
         "legendgroup": "Shutter monitor",
         "line": {
          "color": "#19d3f3",
          "dash": "solid"
         },
         "marker": {
          "symbol": "circle"
         },
         "mode": "lines+markers",
         "name": "Shutter monitor",
         "showlegend": true,
         "type": "scattergl",
         "x": [
          "2023-12-13",
          "2023-12-20",
          "2024-01-03",
          "2024-01-17",
          "2024-01-31",
          "2024-03-20",
          "2024-04-03",
          "2024-04-17",
          "2024-05-29",
          "2024-07-10",
          "2024-09-11",
          "2024-10-23",
          "2024-11-06",
          "2024-11-27",
          "2024-12-18",
          "2024-12-27",
          "2025-01-29",
          "2025-02-12",
          "2025-03-05",
          "2025-03-12"
         ],
         "xaxis": "x",
         "y": {
          "bdata": "AQEBAQEBAQEBAQEBAQEBAQEBAQE=",
          "dtype": "i1"
         },
         "yaxis": "y"
        },
        {
         "hovertemplate": "category=Neutron door override<br>date=%{x}<br>value=%{y}<extra></extra>",
         "legendgroup": "Neutron door override",
         "line": {
          "color": "#FF6692",
          "dash": "solid"
         },
         "marker": {
          "symbol": "circle"
         },
         "mode": "lines+markers",
         "name": "Neutron door override",
         "showlegend": true,
         "type": "scattergl",
         "x": [
          "2023-12-13",
          "2023-12-20",
          "2024-01-03",
          "2024-01-17",
          "2024-01-31",
          "2024-03-20",
          "2024-04-03",
          "2024-04-17",
          "2024-05-29",
          "2024-07-10",
          "2024-09-11",
          "2024-10-23",
          "2024-11-06",
          "2024-11-27",
          "2024-12-18",
          "2024-12-27",
          "2025-01-29",
          "2025-02-12",
          "2025-03-05",
          "2025-03-12"
         ],
         "xaxis": "x",
         "y": {
          "bdata": "AQEBAQEBAQEBAQEBAQEBAQEBAQE=",
          "dtype": "i1"
         },
         "yaxis": "y"
        },
        {
         "hovertemplate": "category=High power<br>date=%{x}<br>value=%{y}<extra></extra>",
         "legendgroup": "High power",
         "line": {
          "color": "#B6E880",
          "dash": "solid"
         },
         "marker": {
          "symbol": "circle"
         },
         "mode": "lines+markers",
         "name": "High power",
         "showlegend": true,
         "type": "scattergl",
         "x": [
          "2023-12-13",
          "2023-12-20",
          "2024-01-03",
          "2024-01-17",
          "2024-01-31",
          "2024-03-20",
          "2024-04-03",
          "2024-04-17",
          "2024-05-29",
          "2024-07-10",
          "2024-09-11",
          "2024-10-23",
          "2024-11-06",
          "2024-11-27",
          "2024-12-18",
          "2024-12-27",
          "2025-01-29",
          "2025-02-12",
          "2025-03-05",
          "2025-03-12"
         ],
         "xaxis": "x",
         "y": {
          "bdata": "AAAAAAAAAAAAAAAAAAAAAAAAAAA=",
          "dtype": "i1"
         },
         "yaxis": "y"
        },
        {
         "hovertemplate": "category=PRF high power<br>date=%{x}<br>value=%{y}<extra></extra>",
         "legendgroup": "PRF high power",
         "line": {
          "color": "#FF97FF",
          "dash": "solid"
         },
         "marker": {
          "symbol": "circle"
         },
         "mode": "lines+markers",
         "name": "PRF high power",
         "showlegend": true,
         "type": "scattergl",
         "x": [
          "2023-12-13",
          "2023-12-20",
          "2024-01-03",
          "2024-01-17",
          "2024-01-31",
          "2024-03-20",
          "2024-04-03",
          "2024-04-17",
          "2024-05-29",
          "2024-07-10",
          "2024-09-11",
          "2024-10-23",
          "2024-11-06",
          "2024-11-27",
          "2024-12-18",
          "2024-12-27",
          "2025-01-29",
          "2025-02-12",
          "2025-03-05",
          "2025-03-12"
         ],
         "xaxis": "x",
         "y": {
          "bdata": "AAAAAAAAAAAAAAAAAAAAAAAAAAA=",
          "dtype": "i1"
         },
         "yaxis": "y"
        },
        {
         "hovertemplate": "category=High power OK<br>date=%{x}<br>value=%{y}<extra></extra>",
         "legendgroup": "High power OK",
         "line": {
          "color": "#FECB52",
          "dash": "solid"
         },
         "marker": {
          "symbol": "circle"
         },
         "mode": "lines+markers",
         "name": "High power OK",
         "showlegend": true,
         "type": "scattergl",
         "x": [
          "2023-12-13",
          "2023-12-20",
          "2024-01-03",
          "2024-01-17",
          "2024-01-31",
          "2024-03-20",
          "2024-04-03",
          "2024-04-17",
          "2024-05-29",
          "2024-07-10",
          "2024-09-11",
          "2024-10-23",
          "2024-11-06",
          "2024-11-27",
          "2024-12-18",
          "2024-12-27",
          "2025-01-29",
          "2025-02-12",
          "2025-03-05",
          "2025-03-12"
         ],
         "xaxis": "x",
         "y": {
          "bdata": "AAAAAAAAAAAAAAAAAAAAAAAAAAA=",
          "dtype": "i1"
         },
         "yaxis": "y"
        },
        {
         "hovertemplate": "category=Low power OK<br>date=%{x}<br>value=%{y}<extra></extra>",
         "legendgroup": "Low power OK",
         "line": {
          "color": "#636efa",
          "dash": "solid"
         },
         "marker": {
          "symbol": "circle"
         },
         "mode": "lines+markers",
         "name": "Low power OK",
         "showlegend": true,
         "type": "scattergl",
         "x": [
          "2023-12-13",
          "2023-12-20",
          "2024-01-03",
          "2024-01-17",
          "2024-01-31",
          "2024-03-20",
          "2024-04-03",
          "2024-04-17",
          "2024-05-29",
          "2024-07-10",
          "2024-09-11",
          "2024-10-23",
          "2024-11-06",
          "2024-11-27",
          "2024-12-18",
          "2024-12-27",
          "2025-01-29",
          "2025-02-12",
          "2025-03-05",
          "2025-03-12"
         ],
         "xaxis": "x",
         "y": {
          "bdata": "AQEBAQEBAQEBAQEBAQEBAQEBAQE=",
          "dtype": "i1"
         },
         "yaxis": "y"
        },
        {
         "hovertemplate": "category=Plates sum<br>date=%{x}<br>value=%{y}<extra></extra>",
         "legendgroup": "Plates sum",
         "line": {
          "color": "#EF553B",
          "dash": "solid"
         },
         "marker": {
          "symbol": "circle"
         },
         "mode": "lines+markers",
         "name": "Plates sum",
         "showlegend": true,
         "type": "scattergl",
         "x": [
          "2023-12-13",
          "2023-12-20",
          "2024-01-03",
          "2024-01-17",
          "2024-01-31",
          "2024-03-20",
          "2024-04-03",
          "2024-04-17",
          "2024-05-29",
          "2024-07-10",
          "2024-09-11",
          "2024-10-23",
          "2024-11-06",
          "2024-11-27",
          "2024-12-18",
          "2024-12-27",
          "2025-01-29",
          "2025-02-12",
          "2025-03-05",
          "2025-03-12"
         ],
         "xaxis": "x",
         "y": {
          "bdata": "nxgAAHUXcBgAADcYDRjIGAAAXhijGAAAdRgAAAAAAAABGAAAAAAAAA==",
          "dtype": "i2"
         },
         "yaxis": "y"
        },
        {
         "hovertemplate": "category=PRF set<br>date=%{x}<br>value=%{y}<extra></extra>",
         "legendgroup": "PRF set",
         "line": {
          "color": "#00cc96",
          "dash": "solid"
         },
         "marker": {
          "symbol": "circle"
         },
         "mode": "lines+markers",
         "name": "PRF set",
         "showlegend": true,
         "type": "scattergl",
         "x": [
          "2023-12-13",
          "2023-12-20",
          "2024-01-03",
          "2024-01-17",
          "2024-01-31",
          "2024-03-20",
          "2024-04-03",
          "2024-04-17",
          "2024-05-29",
          "2024-07-10",
          "2024-09-11",
          "2024-10-23",
          "2024-11-06",
          "2024-11-27",
          "2024-12-18",
          "2024-12-27",
          "2025-01-29",
          "2025-02-12",
          "2025-03-05",
          "2025-03-12"
         ],
         "xaxis": "x",
         "y": {
          "bdata": "BwMHBwMHBwcDBwcDBwMDAwcDAwM=",
          "dtype": "i1"
         },
         "yaxis": "y"
        },
        {
         "hovertemplate": "category=HT current monitor<br>date=%{x}<br>value=%{y}<extra></extra>",
         "legendgroup": "HT current monitor",
         "line": {
          "color": "#ab63fa",
          "dash": "solid"
         },
         "marker": {
          "symbol": "circle"
         },
         "mode": "lines+markers",
         "name": "HT current monitor",
         "showlegend": true,
         "type": "scattergl",
         "x": [
          "2023-12-13",
          "2023-12-20",
          "2024-01-03",
          "2024-01-17",
          "2024-01-31",
          "2024-03-20",
          "2024-04-03",
          "2024-04-17",
          "2024-05-29",
          "2024-07-10",
          "2024-09-11",
          "2024-10-23",
          "2024-11-06",
          "2024-11-27",
          "2024-12-18",
          "2024-12-27",
          "2025-01-29",
          "2025-02-12",
          "2025-03-05",
          "2025-03-12"
         ],
         "xaxis": "x",
         "y": {
          "bdata": "AQOEAAEDAQOHAAQD/gL7AoQAEAMNA5UAEAOYAJgAlQAQA5UAmACYAA==",
          "dtype": "i2"
         },
         "yaxis": "y"
        },
        {
         "hovertemplate": "category=Magnetron filament voltage monitor<br>date=%{x}<br>value=%{y}<extra></extra>",
         "legendgroup": "Magnetron filament voltage monitor",
         "line": {
          "color": "#FFA15A",
          "dash": "solid"
         },
         "marker": {
          "symbol": "circle"
         },
         "mode": "lines+markers",
         "name": "Magnetron filament voltage monitor",
         "showlegend": true,
         "type": "scattergl",
         "x": [
          "2023-12-13",
          "2023-12-20",
          "2024-01-03",
          "2024-01-17",
          "2024-01-31",
          "2024-03-20",
          "2024-04-03",
          "2024-04-17",
          "2024-05-29",
          "2024-07-10",
          "2024-09-11",
          "2024-10-23",
          "2024-11-06",
          "2024-11-27",
          "2024-12-18",
          "2024-12-27",
          "2025-01-29",
          "2025-02-12",
          "2025-03-05",
          "2025-03-12"
         ],
         "xaxis": "x",
         "y": {
          "bdata": "JgPjBDIDRgPfBGIDagN9A/QE3ALvAvcEHAP3BPYE9wTdAvUE9wT4BA==",
          "dtype": "i2"
         },
         "yaxis": "y"
        },
        {
         "hovertemplate": "category=Monitor gun volts<br>date=%{x}<br>value=%{y}<extra></extra>",
         "legendgroup": "Monitor gun volts",
         "line": {
          "color": "#19d3f3",
          "dash": "solid"
         },
         "marker": {
          "symbol": "circle"
         },
         "mode": "lines+markers",
         "name": "Monitor gun volts",
         "showlegend": true,
         "type": "scattergl",
         "x": [
          "2023-12-13",
          "2023-12-20",
          "2024-01-03",
          "2024-01-17",
          "2024-01-31",
          "2024-03-20",
          "2024-04-03",
          "2024-04-17",
          "2024-05-29",
          "2024-07-10",
          "2024-09-11",
          "2024-10-23",
          "2024-11-06",
          "2024-11-27",
          "2024-12-18",
          "2024-12-27",
          "2025-01-29",
          "2025-02-12",
          "2025-03-05",
          "2025-03-12"
         ],
         "xaxis": "x",
         "y": {
          "bdata": "kQcrBIkHiAc0BI4HjwePBz0EmAejB2EEqgduBHsEcgSlB3sEiASIBA==",
          "dtype": "i2"
         },
         "yaxis": "y"
        },
        {
         "hovertemplate": "category=Gantry correlated position<br>date=%{x}<br>value=%{y}<extra></extra>",
         "legendgroup": "Gantry correlated position",
         "line": {
          "color": "#FF6692",
          "dash": "solid"
         },
         "marker": {
          "symbol": "circle"
         },
         "mode": "lines+markers",
         "name": "Gantry correlated position",
         "showlegend": true,
         "type": "scattergl",
         "x": [
          "2023-12-13",
          "2023-12-20",
          "2024-01-03",
          "2024-01-17",
          "2024-01-31",
          "2024-03-20",
          "2024-04-03",
          "2024-04-17",
          "2024-05-29",
          "2024-07-10",
          "2024-09-11",
          "2024-10-23",
          "2024-11-06",
          "2024-11-27",
          "2024-12-18",
          "2024-12-27",
          "2025-01-29",
          "2025-02-12",
          "2025-03-05",
          "2025-03-12"
         ],
         "xaxis": "x",
         "y": {
          "bdata": "9P8AAPT/AABERgAACAAAAPr/AAD+/wAAAAAAAAIAAAD8/wAAAAAAAP7///89////AAAAAAAAAAACAAAAAgAAAAYAAAACAAAAAgAAAAIAAAA=",
          "dtype": "i4"
         },
         "yaxis": "y"
        },
        {
         "hovertemplate": "category=Diaphragm rotation start<br>date=%{x}<br>value=%{y}<extra></extra>",
         "legendgroup": "Diaphragm rotation start",
         "line": {
          "color": "#B6E880",
          "dash": "solid"
         },
         "marker": {
          "symbol": "circle"
         },
         "mode": "lines+markers",
         "name": "Diaphragm rotation start",
         "showlegend": true,
         "type": "scattergl",
         "x": [
          "2023-12-13",
          "2023-12-20",
          "2024-01-03",
          "2024-01-17",
          "2024-01-31",
          "2024-03-20",
          "2024-04-03",
          "2024-04-17",
          "2024-05-29",
          "2024-07-10",
          "2024-09-11",
          "2024-10-23",
          "2024-11-06",
          "2024-11-27",
          "2024-12-18",
          "2024-12-27",
          "2025-01-29",
          "2025-02-12",
          "2025-03-05",
          "2025-03-12"
         ],
         "xaxis": "x",
         "y": {
          "bdata": "+P8AAOf/AAAAAAAAAAAAAAwAAAAAAAAAAAAAAPT/AAAAAAAAAAAAAAAAAAARAQAAAAAAAAAAAAD8/////P////z////8/////P///wAAAAA=",
          "dtype": "i4"
         },
         "yaxis": "y"
        },
        {
         "hovertemplate": "category=Diaphragm X1 start position<br>date=%{x}<br>value=%{y}<extra></extra>",
         "legendgroup": "Diaphragm X1 start position",
         "line": {
          "color": "#FF97FF",
          "dash": "solid"
         },
         "marker": {
          "symbol": "circle"
         },
         "mode": "lines+markers",
         "name": "Diaphragm X1 start position",
         "showlegend": true,
         "type": "scattergl",
         "x": [
          "2023-12-13",
          "2023-12-20",
          "2024-01-03",
          "2024-01-17",
          "2024-01-31",
          "2024-03-20",
          "2024-04-03",
          "2024-04-17",
          "2024-05-29",
          "2024-07-10",
          "2024-09-11",
          "2024-10-23",
          "2024-11-06",
          "2024-11-27",
          "2024-12-18",
          "2024-12-27",
          "2025-01-29",
          "2025-02-12",
          "2025-03-05",
          "2025-03-12"
         ],
         "xaxis": "x",
         "y": {
          "bdata": "0Af0AbAE0Af0Ac8H9AGxBPQB0gfQB/QB9QH0AdIH9AHPB/UB9QH0AQ==",
          "dtype": "i2"
         },
         "yaxis": "y"
        },
        {
         "hovertemplate": "category=Diaphragm X2 start position<br>date=%{x}<br>value=%{y}<extra></extra>",
         "legendgroup": "Diaphragm X2 start position",
         "line": {
          "color": "#FECB52",
          "dash": "solid"
         },
         "marker": {
          "symbol": "circle"
         },
         "mode": "lines+markers",
         "name": "Diaphragm X2 start position",
         "showlegend": true,
         "type": "scattergl",
         "x": [
          "2023-12-13",
          "2023-12-20",
          "2024-01-03",
          "2024-01-17",
          "2024-01-31",
          "2024-03-20",
          "2024-04-03",
          "2024-04-17",
          "2024-05-29",
          "2024-07-10",
          "2024-09-11",
          "2024-10-23",
          "2024-11-06",
          "2024-11-27",
          "2024-12-18",
          "2024-12-27",
          "2025-01-29",
          "2025-02-12",
          "2025-03-05",
          "2025-03-12"
         ],
         "xaxis": "x",
         "y": {
          "bdata": "0Qf1AbEE0Qf1AdIH9AGyBPMB0QfSB/MB8wH1AdEH8wHSB/UB8wH2AQ==",
          "dtype": "i2"
         },
         "yaxis": "y"
        },
        {
         "hovertemplate": "category=Diaphragm Y1 position start<br>date=%{x}<br>value=%{y}<extra></extra>",
         "legendgroup": "Diaphragm Y1 position start",
         "line": {
          "color": "#636efa",
          "dash": "solid"
         },
         "marker": {
          "symbol": "circle"
         },
         "mode": "lines+markers",
         "name": "Diaphragm Y1 position start",
         "showlegend": true,
         "type": "scattergl",
         "x": [
          "2023-12-13",
          "2023-12-20",
          "2024-01-03",
          "2024-01-17",
          "2024-01-31",
          "2024-03-20",
          "2024-04-03",
          "2024-04-17",
          "2024-05-29",
          "2024-07-10",
          "2024-09-11",
          "2024-10-23",
          "2024-11-06",
          "2024-11-27",
          "2024-12-18",
          "2024-12-27",
          "2025-01-29",
          "2025-02-12",
          "2025-03-05",
          "2025-03-12"
         ],
         "xaxis": "x",
         "y": {
          "bdata": "0AfQB9AH0AfQB9AH0AfQB9AH0AfQB9AH0AfQB9AH0AfQB9AH0AfQBw==",
          "dtype": "i2"
         },
         "yaxis": "y"
        },
        {
         "hovertemplate": "category=Diaphragm Y2 position start<br>date=%{x}<br>value=%{y}<extra></extra>",
         "legendgroup": "Diaphragm Y2 position start",
         "line": {
          "color": "#EF553B",
          "dash": "solid"
         },
         "marker": {
          "symbol": "circle"
         },
         "mode": "lines+markers",
         "name": "Diaphragm Y2 position start",
         "showlegend": true,
         "type": "scattergl",
         "x": [
          "2023-12-13",
          "2023-12-20",
          "2024-01-03",
          "2024-01-17",
          "2024-01-31",
          "2024-03-20",
          "2024-04-03",
          "2024-04-17",
          "2024-05-29",
          "2024-07-10",
          "2024-09-11",
          "2024-10-23",
          "2024-11-06",
          "2024-11-27",
          "2024-12-18",
          "2024-12-27",
          "2025-01-29",
          "2025-02-12",
          "2025-03-05",
          "2025-03-12"
         ],
         "xaxis": "x",
         "y": {
          "bdata": "0AfQB9AH0AfQB9AH0AfQB9AH0AfQB9AH0AfQB9AH0AfQB9AH0AfQBw==",
          "dtype": "i2"
         },
         "yaxis": "y"
        },
        {
         "hovertemplate": "category=Gantry rotation check monitor<br>date=%{x}<br>value=%{y}<extra></extra>",
         "legendgroup": "Gantry rotation check monitor",
         "line": {
          "color": "#00cc96",
          "dash": "solid"
         },
         "marker": {
          "symbol": "circle"
         },
         "mode": "lines+markers",
         "name": "Gantry rotation check monitor",
         "showlegend": true,
         "type": "scattergl",
         "x": [
          "2023-12-13",
          "2023-12-20",
          "2024-01-03",
          "2024-01-17",
          "2024-01-31",
          "2024-03-20",
          "2024-04-03",
          "2024-04-17",
          "2024-05-29",
          "2024-07-10",
          "2024-09-11",
          "2024-10-23",
          "2024-11-06",
          "2024-11-27",
          "2024-12-18",
          "2024-12-27",
          "2025-01-29",
          "2025-02-12",
          "2025-03-05",
          "2025-03-12"
         ],
         "xaxis": "x",
         "y": {
          "bdata": "8gHyAWMD8wHyAfIB8gHzAfMB8wHyAe8B8gHzAfMB8wHzAfMB8wHyAQ==",
          "dtype": "i2"
         },
         "yaxis": "y"
        },
        {
         "hovertemplate": "category=Inner hump plate monitor<br>date=%{x}<br>value=%{y}<extra></extra>",
         "legendgroup": "Inner hump plate monitor",
         "line": {
          "color": "#ab63fa",
          "dash": "solid"
         },
         "marker": {
          "symbol": "circle"
         },
         "mode": "lines+markers",
         "name": "Inner hump plate monitor",
         "showlegend": true,
         "type": "scattergl",
         "x": [
          "2023-12-13",
          "2023-12-20",
          "2024-01-03",
          "2024-01-17",
          "2024-01-31",
          "2024-03-20",
          "2024-04-03",
          "2024-04-17",
          "2024-05-29",
          "2024-07-10",
          "2024-09-11",
          "2024-10-23",
          "2024-11-06",
          "2024-11-27",
          "2024-12-18",
          "2024-12-27",
          "2025-01-29",
          "2025-02-12",
          "2025-03-05",
          "2025-03-12"
         ],
         "xaxis": "x",
         "y": {
          "bdata": "7wMAAACAAAC+AwAA5wMAAACAAADdAwAA1wMAAPQDAAAAgAAA4gMAAO4DAAAAgP//5AMAAACA//8AgP//AID//84DAAAAgP//AID//wCA//8=",
          "dtype": "i4"
         },
         "yaxis": "y"
        },
        {
         "hovertemplate": "category=Outer hump plate monitor<br>date=%{x}<br>value=%{y}<extra></extra>",
         "legendgroup": "Outer hump plate monitor",
         "line": {
          "color": "#FFA15A",
          "dash": "solid"
         },
         "marker": {
          "symbol": "circle"
         },
         "mode": "lines+markers",
         "name": "Outer hump plate monitor",
         "showlegend": true,
         "type": "scattergl",
         "x": [
          "2023-12-13",
          "2023-12-20",
          "2024-01-03",
          "2024-01-17",
          "2024-01-31",
          "2024-03-20",
          "2024-04-03",
          "2024-04-17",
          "2024-05-29",
          "2024-07-10",
          "2024-09-11",
          "2024-10-23",
          "2024-11-06",
          "2024-11-27",
          "2024-12-18",
          "2024-12-27",
          "2025-01-29",
          "2025-02-12",
          "2025-03-05",
          "2025-03-12"
         ],
         "xaxis": "x",
         "y": {
          "bdata": "6wMAAACAAAC+AwAA5QMAAACAAADcAwAA1QMAAPMDAAAAgAAA5QMAAO4DAAAAgP//6QMAAACA//8AgP//AID//9IDAAAAgP//AID//wCA//8=",
          "dtype": "i4"
         },
         "yaxis": "y"
        },
        {
         "hovertemplate": "category=Monitor 2TB plate<br>date=%{x}<br>value=%{y}<extra></extra>",
         "legendgroup": "Monitor 2TB plate",
         "line": {
          "color": "#19d3f3",
          "dash": "solid"
         },
         "marker": {
          "symbol": "circle"
         },
         "mode": "lines+markers",
         "name": "Monitor 2TB plate",
         "showlegend": true,
         "type": "scattergl",
         "x": [
          "2023-12-13",
          "2023-12-20",
          "2024-01-03",
          "2024-01-17",
          "2024-01-31",
          "2024-03-20",
          "2024-04-03",
          "2024-04-17",
          "2024-05-29",
          "2024-07-10",
          "2024-09-11",
          "2024-10-23",
          "2024-11-06",
          "2024-11-27",
          "2024-12-18",
          "2024-12-27",
          "2025-01-29",
          "2025-02-12",
          "2025-03-05",
          "2025-03-12"
         ],
         "xaxis": "x",
         "y": {
          "bdata": "KgQAAACAAAD4AwAAIgQAAACAAAAaBAAAEwQAADEEAAAAgAAAIgQAAC8EAAAAgP//KAQAAACA//8AgP//AID//w4EAAAAgP//AID//wCA//8=",
          "dtype": "i4"
         },
         "yaxis": "y"
        },
        {
         "hovertemplate": "category=Monitor 2TA plate<br>date=%{x}<br>value=%{y}<extra></extra>",
         "legendgroup": "Monitor 2TA plate",
         "line": {
          "color": "#FF6692",
          "dash": "solid"
         },
         "marker": {
          "symbol": "circle"
         },
         "mode": "lines+markers",
         "name": "Monitor 2TA plate",
         "showlegend": true,
         "type": "scattergl",
         "x": [
          "2023-12-13",
          "2023-12-20",
          "2024-01-03",
          "2024-01-17",
          "2024-01-31",
          "2024-03-20",
          "2024-04-03",
          "2024-04-17",
          "2024-05-29",
          "2024-07-10",
          "2024-09-11",
          "2024-10-23",
          "2024-11-06",
          "2024-11-27",
          "2024-12-18",
          "2024-12-27",
          "2025-01-29",
          "2025-02-12",
          "2025-03-05",
          "2025-03-12"
         ],
         "xaxis": "x",
         "y": {
          "bdata": "NwQAAACAAAADBAAALgQAAACAAAAkBAAAHAQAAD4EAAAAgAAAKAQAADQEAAAAgP//KwQAAACA//8AgP//AID//xQEAAAAgP//AID//wCA//8=",
          "dtype": "i4"
         },
         "yaxis": "y"
        },
        {
         "hovertemplate": "category=Monitor 2RG plate<br>date=%{x}<br>value=%{y}<extra></extra>",
         "legendgroup": "Monitor 2RG plate",
         "line": {
          "color": "#B6E880",
          "dash": "solid"
         },
         "marker": {
          "symbol": "circle"
         },
         "mode": "lines+markers",
         "name": "Monitor 2RG plate",
         "showlegend": true,
         "type": "scattergl",
         "x": [
          "2023-12-13",
          "2023-12-20",
          "2024-01-03",
          "2024-01-17",
          "2024-01-31",
          "2024-03-20",
          "2024-04-03",
          "2024-04-17",
          "2024-05-29",
          "2024-07-10",
          "2024-09-11",
          "2024-10-23",
          "2024-11-06",
          "2024-11-27",
          "2024-12-18",
          "2024-12-27",
          "2025-01-29",
          "2025-02-12",
          "2025-03-05",
          "2025-03-12"
         ],
         "xaxis": "x",
         "y": {
          "bdata": "NQQAAACAAAADBAAAKwQAAACAAAAiBAAAHgQAADsEAAAAgAAAKgQAADgEAAAAgP//LwQAAACA//8AgP//AID//xgEAAAAgP//AID//wCA//8=",
          "dtype": "i4"
         },
         "yaxis": "y"
        },
        {
         "hovertemplate": "category=Monitor 2RT plate<br>date=%{x}<br>value=%{y}<extra></extra>",
         "legendgroup": "Monitor 2RT plate",
         "line": {
          "color": "#FF97FF",
          "dash": "solid"
         },
         "marker": {
          "symbol": "circle"
         },
         "mode": "lines+markers",
         "name": "Monitor 2RT plate",
         "showlegend": true,
         "type": "scattergl",
         "x": [
          "2023-12-13",
          "2023-12-20",
          "2024-01-03",
          "2024-01-17",
          "2024-01-31",
          "2024-03-20",
          "2024-04-03",
          "2024-04-17",
          "2024-05-29",
          "2024-07-10",
          "2024-09-11",
          "2024-10-23",
          "2024-11-06",
          "2024-11-27",
          "2024-12-18",
          "2024-12-27",
          "2025-01-29",
          "2025-02-12",
          "2025-03-05",
          "2025-03-12"
         ],
         "xaxis": "x",
         "y": {
          "bdata": "LwQAAACAAAD7AwAAKQQAAACAAAAeBAAAFAQAADcEAAAAgAAAIwQAACwEAAAAgP//JgQAAACA//8AgP//AID//w8EAAAAgP//AID//wCA//8=",
          "dtype": "i4"
         },
         "yaxis": "y"
        },
        {
         "hovertemplate": "category=Ion chamber temperature probe 1<br>date=%{x}<br>value=%{y}<extra></extra>",
         "legendgroup": "Ion chamber temperature probe 1",
         "line": {
          "color": "#FECB52",
          "dash": "solid"
         },
         "marker": {
          "symbol": "circle"
         },
         "mode": "lines+markers",
         "name": "Ion chamber temperature probe 1",
         "showlegend": true,
         "type": "scattergl",
         "x": [
          "2023-12-13",
          "2023-12-20",
          "2024-01-03",
          "2024-01-17",
          "2024-01-31",
          "2024-03-20",
          "2024-04-03",
          "2024-04-17",
          "2024-05-29",
          "2024-07-10",
          "2024-09-11",
          "2024-10-23",
          "2024-11-06",
          "2024-11-27",
          "2024-12-18",
          "2024-12-27",
          "2025-01-29",
          "2025-02-12",
          "2025-03-05",
          "2025-03-12"
         ],
         "xaxis": "x",
         "y": {
          "bdata": "7AodDMILEAuXDOAKtQs5DBoMPwyECukKAgzaCvIL1wvKCoELPwxaDA==",
          "dtype": "i2"
         },
         "yaxis": "y"
        },
        {
         "hovertemplate": "category=Ion chamber temperature probe 2<br>date=%{x}<br>value=%{y}<extra></extra>",
         "legendgroup": "Ion chamber temperature probe 2",
         "line": {
          "color": "#636efa",
          "dash": "solid"
         },
         "marker": {
          "symbol": "circle"
         },
         "mode": "lines+markers",
         "name": "Ion chamber temperature probe 2",
         "showlegend": true,
         "type": "scattergl",
         "x": [
          "2023-12-13",
          "2023-12-20",
          "2024-01-03",
          "2024-01-17",
          "2024-01-31",
          "2024-03-20",
          "2024-04-03",
          "2024-04-17",
          "2024-05-29",
          "2024-07-10",
          "2024-09-11",
          "2024-10-23",
          "2024-11-06",
          "2024-11-27",
          "2024-12-18",
          "2024-12-27",
          "2025-01-29",
          "2025-02-12",
          "2025-03-05",
          "2025-03-12"
         ],
         "xaxis": "x",
         "y": {
          "bdata": "0woIDKwL+AqCDMoKowsjDAIMKQxvCtYK6QvKCuALxQuyCmwLKQxLDA==",
          "dtype": "i2"
         },
         "yaxis": "y"
        },
        {
         "hovertemplate": "category=Dose channel 1 pressure<br>date=%{x}<br>value=%{y}<extra></extra>",
         "legendgroup": "Dose channel 1 pressure",
         "line": {
          "color": "#EF553B",
          "dash": "solid"
         },
         "marker": {
          "symbol": "circle"
         },
         "mode": "lines+markers",
         "name": "Dose channel 1 pressure",
         "showlegend": true,
         "type": "scattergl",
         "x": [
          "2023-12-13",
          "2023-12-20",
          "2024-01-03",
          "2024-01-17",
          "2024-01-31",
          "2024-03-20",
          "2024-04-03",
          "2024-04-17",
          "2024-05-29",
          "2024-07-10",
          "2024-09-11",
          "2024-10-23",
          "2024-11-06",
          "2024-11-27",
          "2024-12-18",
          "2024-12-27",
          "2025-01-29",
          "2025-02-12",
          "2025-03-05",
          "2025-03-12"
         ],
         "xaxis": "x",
         "y": {
          "bdata": "7wMGBOAD8wMFBO4D6AP2A/sD+QP6A/oDBwT8AwYE6wPjA/8DCAT7Aw==",
          "dtype": "i2"
         },
         "yaxis": "y"
        },
        {
         "hovertemplate": "category=Dose channel 2 pressure<br>date=%{x}<br>value=%{y}<extra></extra>",
         "legendgroup": "Dose channel 2 pressure",
         "line": {
          "color": "#00cc96",
          "dash": "solid"
         },
         "marker": {
          "symbol": "circle"
         },
         "mode": "lines+markers",
         "name": "Dose channel 2 pressure",
         "showlegend": true,
         "type": "scattergl",
         "x": [
          "2023-12-13",
          "2023-12-20",
          "2024-01-03",
          "2024-01-17",
          "2024-01-31",
          "2024-03-20",
          "2024-04-03",
          "2024-04-17",
          "2024-05-29",
          "2024-07-10",
          "2024-09-11",
          "2024-10-23",
          "2024-11-06",
          "2024-11-27",
          "2024-12-18",
          "2024-12-27",
          "2025-01-29",
          "2025-02-12",
          "2025-03-05",
          "2025-03-12"
         ],
         "xaxis": "x",
         "y": {
          "bdata": "4AP3A9ID5QP3A98D2QPoA+0D6wPrA+wD+APtA/gD3QPUA/ED+QPtAw==",
          "dtype": "i2"
         },
         "yaxis": "y"
        },
        {
         "hovertemplate": "category=Monitor phase leg 1<br>date=%{x}<br>value=%{y}<extra></extra>",
         "legendgroup": "Monitor phase leg 1",
         "line": {
          "color": "#ab63fa",
          "dash": "solid"
         },
         "marker": {
          "symbol": "circle"
         },
         "mode": "lines+markers",
         "name": "Monitor phase leg 1",
         "showlegend": true,
         "type": "scattergl",
         "x": [
          "2023-12-13",
          "2023-12-20",
          "2024-01-03",
          "2024-01-17",
          "2024-01-31",
          "2024-03-20",
          "2024-04-03",
          "2024-04-17",
          "2024-05-29",
          "2024-07-10",
          "2024-09-11",
          "2024-10-23",
          "2024-11-06",
          "2024-11-27",
          "2024-12-18",
          "2024-12-27",
          "2025-01-29",
          "2025-02-12",
          "2025-03-05",
          "2025-03-12"
         ],
         "xaxis": "x",
         "y": {
          "bdata": "awcAAACAAABjBwAAWQcAAACAAAA3BwAAXgcAAEsHAAAAgAAAUAcAAFAHAAAAgP//RwcAAACA//8AgP//AID//2cHAAAAgP//AID//wCA//8=",
          "dtype": "i4"
         },
         "yaxis": "y"
        },
        {
         "hovertemplate": "category=Monitor phase leg 2<br>date=%{x}<br>value=%{y}<extra></extra>",
         "legendgroup": "Monitor phase leg 2",
         "line": {
          "color": "#FFA15A",
          "dash": "solid"
         },
         "marker": {
          "symbol": "circle"
         },
         "mode": "lines+markers",
         "name": "Monitor phase leg 2",
         "showlegend": true,
         "type": "scattergl",
         "x": [
          "2023-12-13",
          "2023-12-20",
          "2024-01-03",
          "2024-01-17",
          "2024-01-31",
          "2024-03-20",
          "2024-04-03",
          "2024-04-17",
          "2024-05-29",
          "2024-07-10",
          "2024-09-11",
          "2024-10-23",
          "2024-11-06",
          "2024-11-27",
          "2024-12-18",
          "2024-12-27",
          "2025-01-29",
          "2025-02-12",
          "2025-03-05",
          "2025-03-12"
         ],
         "xaxis": "x",
         "y": {
          "bdata": "KQcAAACAAAA5BwAARwcAAACAAABFBwAAIgcAADoHAAAAgAAALAcAACoHAAAAgP//GwcAAACA//8AgP//AID//yEHAAAAgP//AID//wCA//8=",
          "dtype": "i4"
         },
         "yaxis": "y"
        },
        {
         "hovertemplate": "category=Phase error<br>date=%{x}<br>value=%{y}<extra></extra>",
         "legendgroup": "Phase error",
         "line": {
          "color": "#19d3f3",
          "dash": "solid"
         },
         "marker": {
          "symbol": "circle"
         },
         "mode": "lines+markers",
         "name": "Phase error",
         "showlegend": true,
         "type": "scattergl",
         "x": [
          "2023-12-13",
          "2023-12-20",
          "2024-01-03",
          "2024-01-17",
          "2024-01-31",
          "2024-03-20",
          "2024-04-03",
          "2024-04-17",
          "2024-05-29",
          "2024-07-10",
          "2024-09-11",
          "2024-10-23",
          "2024-11-06",
          "2024-11-27",
          "2024-12-18",
          "2024-12-27",
          "2025-01-29",
          "2025-02-12",
          "2025-03-05",
          "2025-03-12"
         ],
         "xaxis": "x",
         "y": {
          "bdata": "7P8AAACAAADz/wAA+v8AAACAAAAEAAAA7v8AAPv/AAAAgAAA9f8AAPT///8AgP//8////wCA//8AgP//AID///f///8AgP//AID//wCA//8=",
          "dtype": "i4"
         },
         "yaxis": "y"
        },
        {
         "hovertemplate": "category=Dose channel 1 auxiliary capacitor control<br>date=%{x}<br>value=%{y}<extra></extra>",
         "legendgroup": "Dose channel 1 auxiliary capacitor control",
         "line": {
          "color": "#FF6692",
          "dash": "solid"
         },
         "marker": {
          "symbol": "circle"
         },
         "mode": "lines+markers",
         "name": "Dose channel 1 auxiliary capacitor control",
         "showlegend": true,
         "type": "scattergl",
         "x": [
          "2023-12-13",
          "2023-12-20",
          "2024-01-03",
          "2024-01-17",
          "2024-01-31",
          "2024-03-20",
          "2024-04-03",
          "2024-04-17",
          "2024-05-29",
          "2024-07-10",
          "2024-09-11",
          "2024-10-23",
          "2024-11-06",
          "2024-11-27",
          "2024-12-18",
          "2024-12-27",
          "2025-01-29",
          "2025-02-12",
          "2025-03-05",
          "2025-03-12"
         ],
         "xaxis": "x",
         "y": {
          "bdata": "AAAAAAAAAAAAAAAAAAAAAAAAAAA=",
          "dtype": "i1"
         },
         "yaxis": "y"
        },
        {
         "hovertemplate": "category=Dose channel 1 auxiliary capacitor monitor<br>date=%{x}<br>value=%{y}<extra></extra>",
         "legendgroup": "Dose channel 1 auxiliary capacitor monitor",
         "line": {
          "color": "#B6E880",
          "dash": "solid"
         },
         "marker": {
          "symbol": "circle"
         },
         "mode": "lines+markers",
         "name": "Dose channel 1 auxiliary capacitor monitor",
         "showlegend": true,
         "type": "scattergl",
         "x": [
          "2023-12-13",
          "2023-12-20",
          "2024-01-03",
          "2024-01-17",
          "2024-01-31",
          "2024-03-20",
          "2024-04-03",
          "2024-04-17",
          "2024-05-29",
          "2024-07-10",
          "2024-09-11",
          "2024-10-23",
          "2024-11-06",
          "2024-11-27",
          "2024-12-18",
          "2024-12-27",
          "2025-01-29",
          "2025-02-12",
          "2025-03-05",
          "2025-03-12"
         ],
         "xaxis": "x",
         "y": {
          "bdata": "AAAAAAAAAAAAAAAAAAAAAAAAAAA=",
          "dtype": "i1"
         },
         "yaxis": "y"
        },
        {
         "hovertemplate": "category=HDRE key<br>date=%{x}<br>value=%{y}<extra></extra>",
         "legendgroup": "HDRE key",
         "line": {
          "color": "#FF97FF",
          "dash": "solid"
         },
         "marker": {
          "symbol": "circle"
         },
         "mode": "lines+markers",
         "name": "HDRE key",
         "showlegend": true,
         "type": "scattergl",
         "x": [
          "2023-12-13",
          "2023-12-20",
          "2024-01-03",
          "2024-01-17",
          "2024-01-31",
          "2024-03-20",
          "2024-04-03",
          "2024-04-17",
          "2024-05-29",
          "2024-07-10",
          "2024-09-11",
          "2024-10-23",
          "2024-11-06",
          "2024-11-27",
          "2024-12-18",
          "2024-12-27",
          "2025-01-29",
          "2025-02-12",
          "2025-03-05",
          "2025-03-12"
         ],
         "xaxis": "x",
         "y": {
          "bdata": "AYAAAAGAAAABgAAAAYAAAAGAAAABgAAAAYAAAAGAAAABgAAAAYAAAAGA//8BgP//AYD//wGA//8BgP//AYD//wGA//8BgP//AYD//wGA//8=",
          "dtype": "i4"
         },
         "yaxis": "y"
        },
        {
         "hovertemplate": "category=Beam Timer<br>date=%{x}<br>value=%{y}<extra></extra>",
         "legendgroup": "Beam Timer",
         "line": {
          "color": "#FECB52",
          "dash": "solid"
         },
         "marker": {
          "symbol": "circle"
         },
         "mode": "lines+markers",
         "name": "Beam Timer",
         "showlegend": true,
         "type": "scattergl",
         "x": [
          "2023-12-13",
          "2023-12-20",
          "2024-01-03",
          "2024-01-17",
          "2024-01-31",
          "2024-03-20",
          "2024-04-03",
          "2024-04-17",
          "2024-05-29",
          "2024-07-10",
          "2024-09-11",
          "2024-10-23",
          "2024-11-06",
          "2024-11-27",
          "2024-12-18",
          "2024-12-27",
          "2025-01-29",
          "2025-02-12",
          "2025-03-05",
          "2025-03-12"
         ],
         "xaxis": "x",
         "y": {
          "bdata": "CAgICAgICAgICAgICAgICAgICAg=",
          "dtype": "i1"
         },
         "yaxis": "y"
        },
        {
         "hovertemplate": "category=Doserate Monitor<br>date=%{x}<br>value=%{y}<extra></extra>",
         "legendgroup": "Doserate Monitor",
         "line": {
          "color": "#636efa",
          "dash": "solid"
         },
         "marker": {
          "symbol": "circle"
         },
         "mode": "lines+markers",
         "name": "Doserate Monitor",
         "showlegend": true,
         "type": "scattergl",
         "x": [
          "2023-12-13",
          "2023-12-20",
          "2024-01-03",
          "2024-01-17",
          "2024-01-31",
          "2024-03-20",
          "2024-04-03",
          "2024-04-17",
          "2024-05-29",
          "2024-07-10",
          "2024-09-11",
          "2024-10-23",
          "2024-11-06",
          "2024-11-27",
          "2024-12-18",
          "2024-12-27",
          "2025-01-29",
          "2025-02-12",
          "2025-03-05",
          "2025-03-12"
         ],
         "xaxis": "x",
         "y": {
          "bdata": "DAwMDAwMDAwMDAwMDAwMDAwMDAw=",
          "dtype": "i1"
         },
         "yaxis": "y"
        },
        {
         "hovertemplate": "category=PPG Tuner Auto Gain<br>date=%{x}<br>value=%{y}<extra></extra>",
         "legendgroup": "PPG Tuner Auto Gain",
         "line": {
          "color": "#EF553B",
          "dash": "solid"
         },
         "marker": {
          "symbol": "circle"
         },
         "mode": "lines+markers",
         "name": "PPG Tuner Auto Gain",
         "showlegend": true,
         "type": "scattergl",
         "x": [
          "2023-12-13",
          "2023-12-20",
          "2024-01-03",
          "2024-01-17",
          "2024-01-31",
          "2024-03-20",
          "2024-04-03",
          "2024-04-17",
          "2024-05-29",
          "2024-07-10",
          "2024-09-11",
          "2024-10-23",
          "2024-11-06",
          "2024-11-27",
          "2024-12-18",
          "2024-12-27",
          "2025-01-29",
          "2025-02-12",
          "2025-03-05",
          "2025-03-12"
         ],
         "xaxis": "x",
         "y": {
          "bdata": "EhISEhISEhISEhISEhISEhISEhI=",
          "dtype": "i1"
         },
         "yaxis": "y"
        },
        {
         "hovertemplate": "category=PPG Tuner Auto Error Threshold<br>date=%{x}<br>value=%{y}<extra></extra>",
         "legendgroup": "PPG Tuner Auto Error Threshold",
         "line": {
          "color": "#00cc96",
          "dash": "solid"
         },
         "marker": {
          "symbol": "circle"
         },
         "mode": "lines+markers",
         "name": "PPG Tuner Auto Error Threshold",
         "showlegend": true,
         "type": "scattergl",
         "x": [
          "2023-12-13",
          "2023-12-20",
          "2024-01-03",
          "2024-01-17",
          "2024-01-31",
          "2024-03-20",
          "2024-04-03",
          "2024-04-17",
          "2024-05-29",
          "2024-07-10",
          "2024-09-11",
          "2024-10-23",
          "2024-11-06",
          "2024-11-27",
          "2024-12-18",
          "2024-12-27",
          "2025-01-29",
          "2025-02-12",
          "2025-03-05",
          "2025-03-12"
         ],
         "xaxis": "x",
         "y": {
          "bdata": "FBQUFBQUFBQUFBQUFBQUFBQUFBQ=",
          "dtype": "i1"
         },
         "yaxis": "y"
        }
       ],
       "layout": {
        "legend": {
         "title": {
          "text": "category"
         },
         "tracegroupgap": 0
        },
        "margin": {
         "t": 60
        },
        "template": {
         "data": {
          "bar": [
           {
            "error_x": {
             "color": "#2a3f5f"
            },
            "error_y": {
             "color": "#2a3f5f"
            },
            "marker": {
             "line": {
              "color": "#E5ECF6",
              "width": 0.5
             },
             "pattern": {
              "fillmode": "overlay",
              "size": 10,
              "solidity": 0.2
             }
            },
            "type": "bar"
           }
          ],
          "barpolar": [
           {
            "marker": {
             "line": {
              "color": "#E5ECF6",
              "width": 0.5
             },
             "pattern": {
              "fillmode": "overlay",
              "size": 10,
              "solidity": 0.2
             }
            },
            "type": "barpolar"
           }
          ],
          "carpet": [
           {
            "aaxis": {
             "endlinecolor": "#2a3f5f",
             "gridcolor": "white",
             "linecolor": "white",
             "minorgridcolor": "white",
             "startlinecolor": "#2a3f5f"
            },
            "baxis": {
             "endlinecolor": "#2a3f5f",
             "gridcolor": "white",
             "linecolor": "white",
             "minorgridcolor": "white",
             "startlinecolor": "#2a3f5f"
            },
            "type": "carpet"
           }
          ],
          "choropleth": [
           {
            "colorbar": {
             "outlinewidth": 0,
             "ticks": ""
            },
            "type": "choropleth"
           }
          ],
          "contour": [
           {
            "colorbar": {
             "outlinewidth": 0,
             "ticks": ""
            },
            "colorscale": [
             [
              0,
              "#0d0887"
             ],
             [
              0.1111111111111111,
              "#46039f"
             ],
             [
              0.2222222222222222,
              "#7201a8"
             ],
             [
              0.3333333333333333,
              "#9c179e"
             ],
             [
              0.4444444444444444,
              "#bd3786"
             ],
             [
              0.5555555555555556,
              "#d8576b"
             ],
             [
              0.6666666666666666,
              "#ed7953"
             ],
             [
              0.7777777777777778,
              "#fb9f3a"
             ],
             [
              0.8888888888888888,
              "#fdca26"
             ],
             [
              1,
              "#f0f921"
             ]
            ],
            "type": "contour"
           }
          ],
          "contourcarpet": [
           {
            "colorbar": {
             "outlinewidth": 0,
             "ticks": ""
            },
            "type": "contourcarpet"
           }
          ],
          "heatmap": [
           {
            "colorbar": {
             "outlinewidth": 0,
             "ticks": ""
            },
            "colorscale": [
             [
              0,
              "#0d0887"
             ],
             [
              0.1111111111111111,
              "#46039f"
             ],
             [
              0.2222222222222222,
              "#7201a8"
             ],
             [
              0.3333333333333333,
              "#9c179e"
             ],
             [
              0.4444444444444444,
              "#bd3786"
             ],
             [
              0.5555555555555556,
              "#d8576b"
             ],
             [
              0.6666666666666666,
              "#ed7953"
             ],
             [
              0.7777777777777778,
              "#fb9f3a"
             ],
             [
              0.8888888888888888,
              "#fdca26"
             ],
             [
              1,
              "#f0f921"
             ]
            ],
            "type": "heatmap"
           }
          ],
          "histogram": [
           {
            "marker": {
             "pattern": {
              "fillmode": "overlay",
              "size": 10,
              "solidity": 0.2
             }
            },
            "type": "histogram"
           }
          ],
          "histogram2d": [
           {
            "colorbar": {
             "outlinewidth": 0,
             "ticks": ""
            },
            "colorscale": [
             [
              0,
              "#0d0887"
             ],
             [
              0.1111111111111111,
              "#46039f"
             ],
             [
              0.2222222222222222,
              "#7201a8"
             ],
             [
              0.3333333333333333,
              "#9c179e"
             ],
             [
              0.4444444444444444,
              "#bd3786"
             ],
             [
              0.5555555555555556,
              "#d8576b"
             ],
             [
              0.6666666666666666,
              "#ed7953"
             ],
             [
              0.7777777777777778,
              "#fb9f3a"
             ],
             [
              0.8888888888888888,
              "#fdca26"
             ],
             [
              1,
              "#f0f921"
             ]
            ],
            "type": "histogram2d"
           }
          ],
          "histogram2dcontour": [
           {
            "colorbar": {
             "outlinewidth": 0,
             "ticks": ""
            },
            "colorscale": [
             [
              0,
              "#0d0887"
             ],
             [
              0.1111111111111111,
              "#46039f"
             ],
             [
              0.2222222222222222,
              "#7201a8"
             ],
             [
              0.3333333333333333,
              "#9c179e"
             ],
             [
              0.4444444444444444,
              "#bd3786"
             ],
             [
              0.5555555555555556,
              "#d8576b"
             ],
             [
              0.6666666666666666,
              "#ed7953"
             ],
             [
              0.7777777777777778,
              "#fb9f3a"
             ],
             [
              0.8888888888888888,
              "#fdca26"
             ],
             [
              1,
              "#f0f921"
             ]
            ],
            "type": "histogram2dcontour"
           }
          ],
          "mesh3d": [
           {
            "colorbar": {
             "outlinewidth": 0,
             "ticks": ""
            },
            "type": "mesh3d"
           }
          ],
          "parcoords": [
           {
            "line": {
             "colorbar": {
              "outlinewidth": 0,
              "ticks": ""
             }
            },
            "type": "parcoords"
           }
          ],
          "pie": [
           {
            "automargin": true,
            "type": "pie"
           }
          ],
          "scatter": [
           {
            "fillpattern": {
             "fillmode": "overlay",
             "size": 10,
             "solidity": 0.2
            },
            "type": "scatter"
           }
          ],
          "scatter3d": [
           {
            "line": {
             "colorbar": {
              "outlinewidth": 0,
              "ticks": ""
             }
            },
            "marker": {
             "colorbar": {
              "outlinewidth": 0,
              "ticks": ""
             }
            },
            "type": "scatter3d"
           }
          ],
          "scattercarpet": [
           {
            "marker": {
             "colorbar": {
              "outlinewidth": 0,
              "ticks": ""
             }
            },
            "type": "scattercarpet"
           }
          ],
          "scattergeo": [
           {
            "marker": {
             "colorbar": {
              "outlinewidth": 0,
              "ticks": ""
             }
            },
            "type": "scattergeo"
           }
          ],
          "scattergl": [
           {
            "marker": {
             "colorbar": {
              "outlinewidth": 0,
              "ticks": ""
             }
            },
            "type": "scattergl"
           }
          ],
          "scattermap": [
           {
            "marker": {
             "colorbar": {
              "outlinewidth": 0,
              "ticks": ""
             }
            },
            "type": "scattermap"
           }
          ],
          "scattermapbox": [
           {
            "marker": {
             "colorbar": {
              "outlinewidth": 0,
              "ticks": ""
             }
            },
            "type": "scattermapbox"
           }
          ],
          "scatterpolar": [
           {
            "marker": {
             "colorbar": {
              "outlinewidth": 0,
              "ticks": ""
             }
            },
            "type": "scatterpolar"
           }
          ],
          "scatterpolargl": [
           {
            "marker": {
             "colorbar": {
              "outlinewidth": 0,
              "ticks": ""
             }
            },
            "type": "scatterpolargl"
           }
          ],
          "scatterternary": [
           {
            "marker": {
             "colorbar": {
              "outlinewidth": 0,
              "ticks": ""
             }
            },
            "type": "scatterternary"
           }
          ],
          "surface": [
           {
            "colorbar": {
             "outlinewidth": 0,
             "ticks": ""
            },
            "colorscale": [
             [
              0,
              "#0d0887"
             ],
             [
              0.1111111111111111,
              "#46039f"
             ],
             [
              0.2222222222222222,
              "#7201a8"
             ],
             [
              0.3333333333333333,
              "#9c179e"
             ],
             [
              0.4444444444444444,
              "#bd3786"
             ],
             [
              0.5555555555555556,
              "#d8576b"
             ],
             [
              0.6666666666666666,
              "#ed7953"
             ],
             [
              0.7777777777777778,
              "#fb9f3a"
             ],
             [
              0.8888888888888888,
              "#fdca26"
             ],
             [
              1,
              "#f0f921"
             ]
            ],
            "type": "surface"
           }
          ],
          "table": [
           {
            "cells": {
             "fill": {
              "color": "#EBF0F8"
             },
             "line": {
              "color": "white"
             }
            },
            "header": {
             "fill": {
              "color": "#C8D4E3"
             },
             "line": {
              "color": "white"
             }
            },
            "type": "table"
           }
          ]
         },
         "layout": {
          "annotationdefaults": {
           "arrowcolor": "#2a3f5f",
           "arrowhead": 0,
           "arrowwidth": 1
          },
          "autotypenumbers": "strict",
          "coloraxis": {
           "colorbar": {
            "outlinewidth": 0,
            "ticks": ""
           }
          },
          "colorscale": {
           "diverging": [
            [
             0,
             "#8e0152"
            ],
            [
             0.1,
             "#c51b7d"
            ],
            [
             0.2,
             "#de77ae"
            ],
            [
             0.3,
             "#f1b6da"
            ],
            [
             0.4,
             "#fde0ef"
            ],
            [
             0.5,
             "#f7f7f7"
            ],
            [
             0.6,
             "#e6f5d0"
            ],
            [
             0.7,
             "#b8e186"
            ],
            [
             0.8,
             "#7fbc41"
            ],
            [
             0.9,
             "#4d9221"
            ],
            [
             1,
             "#276419"
            ]
           ],
           "sequential": [
            [
             0,
             "#0d0887"
            ],
            [
             0.1111111111111111,
             "#46039f"
            ],
            [
             0.2222222222222222,
             "#7201a8"
            ],
            [
             0.3333333333333333,
             "#9c179e"
            ],
            [
             0.4444444444444444,
             "#bd3786"
            ],
            [
             0.5555555555555556,
             "#d8576b"
            ],
            [
             0.6666666666666666,
             "#ed7953"
            ],
            [
             0.7777777777777778,
             "#fb9f3a"
            ],
            [
             0.8888888888888888,
             "#fdca26"
            ],
            [
             1,
             "#f0f921"
            ]
           ],
           "sequentialminus": [
            [
             0,
             "#0d0887"
            ],
            [
             0.1111111111111111,
             "#46039f"
            ],
            [
             0.2222222222222222,
             "#7201a8"
            ],
            [
             0.3333333333333333,
             "#9c179e"
            ],
            [
             0.4444444444444444,
             "#bd3786"
            ],
            [
             0.5555555555555556,
             "#d8576b"
            ],
            [
             0.6666666666666666,
             "#ed7953"
            ],
            [
             0.7777777777777778,
             "#fb9f3a"
            ],
            [
             0.8888888888888888,
             "#fdca26"
            ],
            [
             1,
             "#f0f921"
            ]
           ]
          },
          "colorway": [
           "#636efa",
           "#EF553B",
           "#00cc96",
           "#ab63fa",
           "#FFA15A",
           "#19d3f3",
           "#FF6692",
           "#B6E880",
           "#FF97FF",
           "#FECB52"
          ],
          "font": {
           "color": "#2a3f5f"
          },
          "geo": {
           "bgcolor": "white",
           "lakecolor": "white",
           "landcolor": "#E5ECF6",
           "showlakes": true,
           "showland": true,
           "subunitcolor": "white"
          },
          "hoverlabel": {
           "align": "left"
          },
          "hovermode": "closest",
          "mapbox": {
           "style": "light"
          },
          "paper_bgcolor": "white",
          "plot_bgcolor": "#E5ECF6",
          "polar": {
           "angularaxis": {
            "gridcolor": "white",
            "linecolor": "white",
            "ticks": ""
           },
           "bgcolor": "#E5ECF6",
           "radialaxis": {
            "gridcolor": "white",
            "linecolor": "white",
            "ticks": ""
           }
          },
          "scene": {
           "xaxis": {
            "backgroundcolor": "#E5ECF6",
            "gridcolor": "white",
            "gridwidth": 2,
            "linecolor": "white",
            "showbackground": true,
            "ticks": "",
            "zerolinecolor": "white"
           },
           "yaxis": {
            "backgroundcolor": "#E5ECF6",
            "gridcolor": "white",
            "gridwidth": 2,
            "linecolor": "white",
            "showbackground": true,
            "ticks": "",
            "zerolinecolor": "white"
           },
           "zaxis": {
            "backgroundcolor": "#E5ECF6",
            "gridcolor": "white",
            "gridwidth": 2,
            "linecolor": "white",
            "showbackground": true,
            "ticks": "",
            "zerolinecolor": "white"
           }
          },
          "shapedefaults": {
           "line": {
            "color": "#2a3f5f"
           }
          },
          "ternary": {
           "aaxis": {
            "gridcolor": "white",
            "linecolor": "white",
            "ticks": ""
           },
           "baxis": {
            "gridcolor": "white",
            "linecolor": "white",
            "ticks": ""
           },
           "bgcolor": "#E5ECF6",
           "caxis": {
            "gridcolor": "white",
            "linecolor": "white",
            "ticks": ""
           }
          },
          "title": {
           "x": 0.05
          },
          "xaxis": {
           "automargin": true,
           "gridcolor": "white",
           "linecolor": "white",
           "ticks": "",
           "title": {
            "standoff": 15
           },
           "zerolinecolor": "white",
           "zerolinewidth": 2
          },
          "yaxis": {
           "automargin": true,
           "gridcolor": "white",
           "linecolor": "white",
           "ticks": "",
           "title": {
            "standoff": 15
           },
           "zerolinecolor": "white",
           "zerolinewidth": 2
          }
         }
        },
        "xaxis": {
         "anchor": "y",
         "domain": [
          0,
          1
         ],
         "title": {
          "text": "date"
         }
        },
        "yaxis": {
         "anchor": "x",
         "domain": [
          0,
          1
         ],
         "title": {
          "text": "value"
         }
        }
       }
      }
     },
     "metadata": {},
     "output_type": "display_data"
    }
   ],
   "source": [
    "df2191 = be5201[be5201[\"linac\"] == 2191]\n",
    "df2191[\"date\"] = df2191[\"date\"].astype(\"str\")\n",
    "\n",
    "px.line(df2191, x=\"date\", color = \"category\", y =\"value\", hover_data=\"date\", markers=True)"
   ]
  },
  {
   "cell_type": "code",
   "execution_count": 167,
   "id": "86b11566",
   "metadata": {},
   "outputs": [
    {
     "ename": "ValueError",
     "evalue": "operands could not be broadcast together with shapes (228,) (456,) ",
     "output_type": "error",
     "traceback": [
      "\u001b[1;31m---------------------------------------------------------------------------\u001b[0m",
      "\u001b[1;31mValueError\u001b[0m                                Traceback (most recent call last)",
      "Cell \u001b[1;32mIn[167], line 7\u001b[0m\n\u001b[0;32m      4\u001b[0m old \u001b[38;5;241m=\u001b[39m be5201[be5201[\u001b[38;5;124m\"\u001b[39m\u001b[38;5;124mdate\u001b[39m\u001b[38;5;124m\"\u001b[39m] \u001b[38;5;241m==\u001b[39m dates[item]]\n\u001b[0;32m      5\u001b[0m new \u001b[38;5;241m=\u001b[39m be5201[be5201[\u001b[38;5;124m\"\u001b[39m\u001b[38;5;124mdate\u001b[39m\u001b[38;5;124m\"\u001b[39m] \u001b[38;5;241m==\u001b[39m dates[item\u001b[38;5;241m+\u001b[39m\u001b[38;5;241m1\u001b[39m]]\n\u001b[1;32m----> 7\u001b[0m \u001b[43mnew\u001b[49m\u001b[43m[\u001b[49m\u001b[38;5;124;43m\"\u001b[39;49m\u001b[38;5;124;43mvalue\u001b[39;49m\u001b[38;5;124;43m\"\u001b[39;49m\u001b[43m]\u001b[49m\u001b[38;5;241;43m.\u001b[39;49m\u001b[43mvalues\u001b[49m\u001b[43m \u001b[49m\u001b[38;5;241;43m-\u001b[39;49m\u001b[43m \u001b[49m\u001b[43mold\u001b[49m\u001b[43m[\u001b[49m\u001b[38;5;124;43m\"\u001b[39;49m\u001b[38;5;124;43mvalue\u001b[39;49m\u001b[38;5;124;43m\"\u001b[39;49m\u001b[43m]\u001b[49m\u001b[38;5;241;43m.\u001b[39;49m\u001b[43mvalues\u001b[49m\n",
      "\u001b[1;31mValueError\u001b[0m: operands could not be broadcast together with shapes (228,) (456,) "
     ]
    }
   ],
   "source": [
    "dates = list(set(be5201[\"date\"]))\n",
    "\n",
    "for item in range(len(dates)-1):\n",
    "    old = be5201[be5201[\"date\"] == dates[item]]\n",
    "    new = be5201[be5201[\"date\"] == dates[item+1]]\n",
    "\n",
    "    new[\"value\"].values - old[\"value\"].values\n",
    "\n",
    "    \n",
    "    "
   ]
  },
  {
   "cell_type": "markdown",
   "id": "6eec3244",
   "metadata": {},
   "source": [
    "De"
   ]
  },
  {
   "cell_type": "code",
   "execution_count": 82,
   "id": "303d7553",
   "metadata": {},
   "outputs": [],
   "source": [
    "from sklearn.model_selection import train_test_split\n",
    "from sklearn.linear_model import LinearRegression\n",
    "from sklearn.ensemble import RandomForestRegressor\n",
    "from sklearn.svm import SVR\n",
    "from sklearn.gaussian_process import GaussianProcessRegressor\n",
    "from sklearn.gaussian_process.kernels import RBF, ConstantKernel\n",
    "from sklearn.linear_model import BayesianRidge\n",
    "from sklearn.ensemble import VotingRegressor\n",
    "from sklearn.model_selection import cross_validate\n",
    "from sklearn.feature_selection import SelectKBest\n"
   ]
  },
  {
   "cell_type": "code",
   "execution_count": 80,
   "id": "479fea7e",
   "metadata": {},
   "outputs": [],
   "source": [
    "\n",
    "df_ml = no_p45[[\"value\", \"Part&item\", 'date', \"linac\"]].pivot(index=['date', \"linac\"], columns='Part&item', values='value') \n",
    "\n",
    "y = df_ml.iloc[:,:-5][\"I:381 P:1\"]\n",
    "X = df_ml.iloc[:,:-5].drop(\"I:381 P:1\", axis=1)\n",
    "\n",
    "X_train, X_test, y_train, y_test = train_test_split(\n",
    "    X, y, test_size=0.33, random_state=42)\n",
    "\t"
   ]
  },
  {
   "cell_type": "code",
   "execution_count": 81,
   "id": "1a4c54d9",
   "metadata": {},
   "outputs": [
    {
     "data": {
      "text/html": [
       "<div>\n",
       "<style scoped>\n",
       "    .dataframe tbody tr th:only-of-type {\n",
       "        vertical-align: middle;\n",
       "    }\n",
       "\n",
       "    .dataframe tbody tr th {\n",
       "        vertical-align: top;\n",
       "    }\n",
       "\n",
       "    .dataframe thead th {\n",
       "        text-align: right;\n",
       "    }\n",
       "</style>\n",
       "<table border=\"1\" class=\"dataframe\">\n",
       "  <thead>\n",
       "    <tr style=\"text-align: right;\">\n",
       "      <th></th>\n",
       "      <th>fit_time</th>\n",
       "      <th>score_time</th>\n",
       "      <th>test_score</th>\n",
       "      <th>train_score</th>\n",
       "    </tr>\n",
       "  </thead>\n",
       "  <tbody>\n",
       "    <tr>\n",
       "      <th>LinearRegression</th>\n",
       "      <td>0.004824</td>\n",
       "      <td>0.001348</td>\n",
       "      <td>-317.928225</td>\n",
       "      <td>0.999657</td>\n",
       "    </tr>\n",
       "    <tr>\n",
       "      <th>RandomForestRegressor</th>\n",
       "      <td>0.084012</td>\n",
       "      <td>0.008086</td>\n",
       "      <td>0.739990</td>\n",
       "      <td>0.996662</td>\n",
       "    </tr>\n",
       "    <tr>\n",
       "      <th>SVR</th>\n",
       "      <td>0.003488</td>\n",
       "      <td>0.001369</td>\n",
       "      <td>-2.918310</td>\n",
       "      <td>0.256159</td>\n",
       "    </tr>\n",
       "    <tr>\n",
       "      <th>GaussianProcessRegressor</th>\n",
       "      <td>0.002995</td>\n",
       "      <td>0.001740</td>\n",
       "      <td>-3974.311787</td>\n",
       "      <td>1.000000</td>\n",
       "    </tr>\n",
       "    <tr>\n",
       "      <th>BayesianRidge</th>\n",
       "      <td>0.003324</td>\n",
       "      <td>0.001309</td>\n",
       "      <td>-4080.235010</td>\n",
       "      <td>0.999313</td>\n",
       "    </tr>\n",
       "  </tbody>\n",
       "</table>\n",
       "</div>"
      ],
      "text/plain": [
       "                          fit_time  score_time   test_score  train_score\n",
       "LinearRegression          0.004824    0.001348  -317.928225     0.999657\n",
       "RandomForestRegressor     0.084012    0.008086     0.739990     0.996662\n",
       "SVR                       0.003488    0.001369    -2.918310     0.256159\n",
       "GaussianProcessRegressor  0.002995    0.001740 -3974.311787     1.000000\n",
       "BayesianRidge             0.003324    0.001309 -4080.235010     0.999313"
      ]
     },
     "execution_count": 81,
     "metadata": {},
     "output_type": "execute_result"
    }
   ],
   "source": [
    "models= [\n",
    "    LinearRegression,\n",
    "    RandomForestRegressor,\n",
    "    SVR,\n",
    "    GaussianProcessRegressor,\n",
    "    BayesianRidge\n",
    "]\n",
    "\n",
    "metric_scores = {}\n",
    "for model in models:\n",
    "    scores = cross_validate(model(), X, y, return_train_score=True)\n",
    "    for key, val in scores.items():\n",
    "        scores[key] = val.mean()\n",
    "    metric_scores[f\"{model.__name__}\"] = scores\n",
    "    \n",
    "pd.DataFrame(metric_scores).T"
   ]
  },
  {
   "cell_type": "code",
   "execution_count": 86,
   "id": "7b7ccbce",
   "metadata": {},
   "outputs": [
    {
     "name": "stderr",
     "output_type": "stream",
     "text": [
      "c:\\Users\\Laris\\miniconda3\\envs\\stage\\Lib\\site-packages\\sklearn\\feature_selection\\_univariate_selection.py:111: UserWarning:\n",
      "\n",
      "Features [ 1  7  8 12 13 14 15 16 17 18 19 20 21 22 23 24 28 29 30 31 32 33 34 35\n",
      " 36 37 38 39 40 49 50 51 52 53 54 55 56 57 58 59 60 61 63 64 65 66 67 68\n",
      " 69 70 71 72 73] are constant.\n",
      "\n",
      "c:\\Users\\Laris\\miniconda3\\envs\\stage\\Lib\\site-packages\\sklearn\\feature_selection\\_univariate_selection.py:112: RuntimeWarning:\n",
      "\n",
      "divide by zero encountered in divide\n",
      "\n",
      "c:\\Users\\Laris\\miniconda3\\envs\\stage\\Lib\\site-packages\\sklearn\\feature_selection\\_univariate_selection.py:112: RuntimeWarning:\n",
      "\n",
      "invalid value encountered in divide\n",
      "\n",
      "c:\\Users\\Laris\\miniconda3\\envs\\stage\\Lib\\site-packages\\sklearn\\feature_selection\\_univariate_selection.py:111: UserWarning:\n",
      "\n",
      "Features [ 1  7  8 12 13 14 15 16 17 18 19 20 21 22 23 24 28 29 30 31 32 33 34 35\n",
      " 36 37 38 39 40 49 50 51 52 53 54 55 56 57 58 59 60 61 63 64 65 66 67 68\n",
      " 69 70 71 72 73] are constant.\n",
      "\n",
      "c:\\Users\\Laris\\miniconda3\\envs\\stage\\Lib\\site-packages\\sklearn\\feature_selection\\_univariate_selection.py:112: RuntimeWarning:\n",
      "\n",
      "divide by zero encountered in divide\n",
      "\n",
      "c:\\Users\\Laris\\miniconda3\\envs\\stage\\Lib\\site-packages\\sklearn\\feature_selection\\_univariate_selection.py:112: RuntimeWarning:\n",
      "\n",
      "invalid value encountered in divide\n",
      "\n",
      "c:\\Users\\Laris\\miniconda3\\envs\\stage\\Lib\\site-packages\\sklearn\\feature_selection\\_univariate_selection.py:111: UserWarning:\n",
      "\n",
      "Features [ 1  7  8 12 13 14 15 16 17 18 19 20 21 22 23 24 28 29 30 31 32 33 34 35\n",
      " 36 37 38 39 40 49 50 51 52 53 54 55 56 57 58 59 60 61 63 64 65 66 67 68\n",
      " 69 70 71 72 73] are constant.\n",
      "\n",
      "c:\\Users\\Laris\\miniconda3\\envs\\stage\\Lib\\site-packages\\sklearn\\feature_selection\\_univariate_selection.py:112: RuntimeWarning:\n",
      "\n",
      "divide by zero encountered in divide\n",
      "\n",
      "c:\\Users\\Laris\\miniconda3\\envs\\stage\\Lib\\site-packages\\sklearn\\feature_selection\\_univariate_selection.py:112: RuntimeWarning:\n",
      "\n",
      "invalid value encountered in divide\n",
      "\n",
      "c:\\Users\\Laris\\miniconda3\\envs\\stage\\Lib\\site-packages\\sklearn\\feature_selection\\_univariate_selection.py:111: UserWarning:\n",
      "\n",
      "Features [ 1  7  8 12 13 14 15 16 17 18 19 20 21 22 23 24 28 29 30 31 32 33 34 35\n",
      " 36 37 38 39 40 49 50 51 52 53 54 55 56 57 58 59 60 61 63 64 65 66 67 68\n",
      " 69 70 71 72 73] are constant.\n",
      "\n",
      "c:\\Users\\Laris\\miniconda3\\envs\\stage\\Lib\\site-packages\\sklearn\\feature_selection\\_univariate_selection.py:112: RuntimeWarning:\n",
      "\n",
      "divide by zero encountered in divide\n",
      "\n",
      "c:\\Users\\Laris\\miniconda3\\envs\\stage\\Lib\\site-packages\\sklearn\\feature_selection\\_univariate_selection.py:112: RuntimeWarning:\n",
      "\n",
      "invalid value encountered in divide\n",
      "\n",
      "c:\\Users\\Laris\\miniconda3\\envs\\stage\\Lib\\site-packages\\sklearn\\feature_selection\\_univariate_selection.py:111: UserWarning:\n",
      "\n",
      "Features [ 1  7  8 12 13 14 15 16 17 18 19 20 21 22 23 24 28 29 30 31 32 33 34 35\n",
      " 36 37 38 39 40 49 50 51 52 53 54 55 56 57 58 59 60 61 63 64 65 66 67 68\n",
      " 69 70 71 72 73] are constant.\n",
      "\n",
      "c:\\Users\\Laris\\miniconda3\\envs\\stage\\Lib\\site-packages\\sklearn\\feature_selection\\_univariate_selection.py:112: RuntimeWarning:\n",
      "\n",
      "divide by zero encountered in divide\n",
      "\n",
      "c:\\Users\\Laris\\miniconda3\\envs\\stage\\Lib\\site-packages\\sklearn\\feature_selection\\_univariate_selection.py:112: RuntimeWarning:\n",
      "\n",
      "invalid value encountered in divide\n",
      "\n",
      "c:\\Users\\Laris\\miniconda3\\envs\\stage\\Lib\\site-packages\\sklearn\\feature_selection\\_univariate_selection.py:111: UserWarning:\n",
      "\n",
      "Features [ 1  7  8 12 13 14 15 16 17 18 19 20 21 22 23 24 28 29 30 31 32 33 34 35\n",
      " 36 37 38 39 40 49 50 51 52 53 54 55 56 57 58 59 60 61 63 64 65 66 67 68\n",
      " 69 70 71 72 73] are constant.\n",
      "\n",
      "c:\\Users\\Laris\\miniconda3\\envs\\stage\\Lib\\site-packages\\sklearn\\feature_selection\\_univariate_selection.py:112: RuntimeWarning:\n",
      "\n",
      "divide by zero encountered in divide\n",
      "\n",
      "c:\\Users\\Laris\\miniconda3\\envs\\stage\\Lib\\site-packages\\sklearn\\feature_selection\\_univariate_selection.py:112: RuntimeWarning:\n",
      "\n",
      "invalid value encountered in divide\n",
      "\n",
      "c:\\Users\\Laris\\miniconda3\\envs\\stage\\Lib\\site-packages\\sklearn\\feature_selection\\_univariate_selection.py:111: UserWarning:\n",
      "\n",
      "Features [ 1  7  8 12 13 14 15 16 17 18 19 20 21 22 23 24 28 29 30 31 32 33 34 35\n",
      " 36 37 38 39 40 49 50 51 52 53 54 55 56 57 58 59 60 61 63 64 65 66 67 68\n",
      " 69 70 71 72 73] are constant.\n",
      "\n",
      "c:\\Users\\Laris\\miniconda3\\envs\\stage\\Lib\\site-packages\\sklearn\\feature_selection\\_univariate_selection.py:112: RuntimeWarning:\n",
      "\n",
      "divide by zero encountered in divide\n",
      "\n",
      "c:\\Users\\Laris\\miniconda3\\envs\\stage\\Lib\\site-packages\\sklearn\\feature_selection\\_univariate_selection.py:112: RuntimeWarning:\n",
      "\n",
      "invalid value encountered in divide\n",
      "\n",
      "c:\\Users\\Laris\\miniconda3\\envs\\stage\\Lib\\site-packages\\sklearn\\feature_selection\\_univariate_selection.py:111: UserWarning:\n",
      "\n",
      "Features [ 1  7  8 12 13 14 15 16 17 18 19 20 21 22 23 24 28 29 30 31 32 33 34 35\n",
      " 36 37 38 39 40 49 50 51 52 53 54 55 56 57 58 59 60 61 63 64 65 66 67 68\n",
      " 69 70 71 72 73] are constant.\n",
      "\n",
      "c:\\Users\\Laris\\miniconda3\\envs\\stage\\Lib\\site-packages\\sklearn\\feature_selection\\_univariate_selection.py:112: RuntimeWarning:\n",
      "\n",
      "divide by zero encountered in divide\n",
      "\n",
      "c:\\Users\\Laris\\miniconda3\\envs\\stage\\Lib\\site-packages\\sklearn\\feature_selection\\_univariate_selection.py:112: RuntimeWarning:\n",
      "\n",
      "invalid value encountered in divide\n",
      "\n",
      "c:\\Users\\Laris\\miniconda3\\envs\\stage\\Lib\\site-packages\\sklearn\\feature_selection\\_univariate_selection.py:111: UserWarning:\n",
      "\n",
      "Features [ 1  7  8 12 13 14 15 16 17 18 19 20 21 22 23 24 28 29 30 31 32 33 34 35\n",
      " 36 37 38 39 40 49 50 51 52 53 54 55 56 57 58 59 60 61 63 64 65 66 67 68\n",
      " 69 70 71 72 73] are constant.\n",
      "\n",
      "c:\\Users\\Laris\\miniconda3\\envs\\stage\\Lib\\site-packages\\sklearn\\feature_selection\\_univariate_selection.py:112: RuntimeWarning:\n",
      "\n",
      "divide by zero encountered in divide\n",
      "\n",
      "c:\\Users\\Laris\\miniconda3\\envs\\stage\\Lib\\site-packages\\sklearn\\feature_selection\\_univariate_selection.py:112: RuntimeWarning:\n",
      "\n",
      "invalid value encountered in divide\n",
      "\n",
      "c:\\Users\\Laris\\miniconda3\\envs\\stage\\Lib\\site-packages\\sklearn\\feature_selection\\_univariate_selection.py:111: UserWarning:\n",
      "\n",
      "Features [ 1  7  8 12 13 14 15 16 17 18 19 20 21 22 23 24 28 29 30 31 32 33 34 35\n",
      " 36 37 38 39 40 49 50 51 52 53 54 55 56 57 58 59 60 61 63 64 65 66 67 68\n",
      " 69 70 71 72 73] are constant.\n",
      "\n",
      "c:\\Users\\Laris\\miniconda3\\envs\\stage\\Lib\\site-packages\\sklearn\\feature_selection\\_univariate_selection.py:112: RuntimeWarning:\n",
      "\n",
      "divide by zero encountered in divide\n",
      "\n",
      "c:\\Users\\Laris\\miniconda3\\envs\\stage\\Lib\\site-packages\\sklearn\\feature_selection\\_univariate_selection.py:112: RuntimeWarning:\n",
      "\n",
      "invalid value encountered in divide\n",
      "\n",
      "c:\\Users\\Laris\\miniconda3\\envs\\stage\\Lib\\site-packages\\sklearn\\feature_selection\\_univariate_selection.py:111: UserWarning:\n",
      "\n",
      "Features [ 1  7  8 12 13 14 15 16 17 18 19 20 21 22 23 24 28 29 30 31 32 33 34 35\n",
      " 36 37 38 39 40 49 50 51 52 53 54 55 56 57 58 59 60 61 63 64 65 66 67 68\n",
      " 69 70 71 72 73] are constant.\n",
      "\n",
      "c:\\Users\\Laris\\miniconda3\\envs\\stage\\Lib\\site-packages\\sklearn\\feature_selection\\_univariate_selection.py:112: RuntimeWarning:\n",
      "\n",
      "divide by zero encountered in divide\n",
      "\n",
      "c:\\Users\\Laris\\miniconda3\\envs\\stage\\Lib\\site-packages\\sklearn\\feature_selection\\_univariate_selection.py:112: RuntimeWarning:\n",
      "\n",
      "invalid value encountered in divide\n",
      "\n",
      "c:\\Users\\Laris\\miniconda3\\envs\\stage\\Lib\\site-packages\\sklearn\\feature_selection\\_univariate_selection.py:111: UserWarning:\n",
      "\n",
      "Features [ 1  7  8 12 13 14 15 16 17 18 19 20 21 22 23 24 28 29 30 31 32 33 34 35\n",
      " 36 37 38 39 40 49 50 51 52 53 54 55 56 57 58 59 60 61 63 64 65 66 67 68\n",
      " 69 70 71 72 73] are constant.\n",
      "\n",
      "c:\\Users\\Laris\\miniconda3\\envs\\stage\\Lib\\site-packages\\sklearn\\feature_selection\\_univariate_selection.py:112: RuntimeWarning:\n",
      "\n",
      "divide by zero encountered in divide\n",
      "\n",
      "c:\\Users\\Laris\\miniconda3\\envs\\stage\\Lib\\site-packages\\sklearn\\feature_selection\\_univariate_selection.py:112: RuntimeWarning:\n",
      "\n",
      "invalid value encountered in divide\n",
      "\n",
      "c:\\Users\\Laris\\miniconda3\\envs\\stage\\Lib\\site-packages\\sklearn\\feature_selection\\_univariate_selection.py:111: UserWarning:\n",
      "\n",
      "Features [ 1  7  8 12 13 14 15 16 17 18 19 20 21 22 23 24 28 29 30 31 32 33 34 35\n",
      " 36 37 38 39 40 49 50 51 52 53 54 55 56 57 58 59 60 61 63 64 65 66 67 68\n",
      " 69 70 71 72 73] are constant.\n",
      "\n",
      "c:\\Users\\Laris\\miniconda3\\envs\\stage\\Lib\\site-packages\\sklearn\\feature_selection\\_univariate_selection.py:112: RuntimeWarning:\n",
      "\n",
      "divide by zero encountered in divide\n",
      "\n",
      "c:\\Users\\Laris\\miniconda3\\envs\\stage\\Lib\\site-packages\\sklearn\\feature_selection\\_univariate_selection.py:112: RuntimeWarning:\n",
      "\n",
      "invalid value encountered in divide\n",
      "\n",
      "c:\\Users\\Laris\\miniconda3\\envs\\stage\\Lib\\site-packages\\sklearn\\feature_selection\\_univariate_selection.py:111: UserWarning:\n",
      "\n",
      "Features [ 1  7  8 12 13 14 15 16 17 18 19 20 21 22 23 24 28 29 30 31 32 33 34 35\n",
      " 36 37 38 39 40 49 50 51 52 53 54 55 56 57 58 59 60 61 63 64 65 66 67 68\n",
      " 69 70 71 72 73] are constant.\n",
      "\n",
      "c:\\Users\\Laris\\miniconda3\\envs\\stage\\Lib\\site-packages\\sklearn\\feature_selection\\_univariate_selection.py:112: RuntimeWarning:\n",
      "\n",
      "divide by zero encountered in divide\n",
      "\n",
      "c:\\Users\\Laris\\miniconda3\\envs\\stage\\Lib\\site-packages\\sklearn\\feature_selection\\_univariate_selection.py:112: RuntimeWarning:\n",
      "\n",
      "invalid value encountered in divide\n",
      "\n",
      "c:\\Users\\Laris\\miniconda3\\envs\\stage\\Lib\\site-packages\\sklearn\\feature_selection\\_univariate_selection.py:111: UserWarning:\n",
      "\n",
      "Features [ 1  7  8 12 13 14 15 16 17 18 19 20 21 22 23 24 28 29 30 31 32 33 34 35\n",
      " 36 37 38 39 40 49 50 51 52 53 54 55 56 57 58 59 60 61 63 64 65 66 67 68\n",
      " 69 70 71 72 73] are constant.\n",
      "\n",
      "c:\\Users\\Laris\\miniconda3\\envs\\stage\\Lib\\site-packages\\sklearn\\feature_selection\\_univariate_selection.py:112: RuntimeWarning:\n",
      "\n",
      "divide by zero encountered in divide\n",
      "\n",
      "c:\\Users\\Laris\\miniconda3\\envs\\stage\\Lib\\site-packages\\sklearn\\feature_selection\\_univariate_selection.py:112: RuntimeWarning:\n",
      "\n",
      "invalid value encountered in divide\n",
      "\n",
      "c:\\Users\\Laris\\miniconda3\\envs\\stage\\Lib\\site-packages\\sklearn\\feature_selection\\_univariate_selection.py:111: UserWarning:\n",
      "\n",
      "Features [ 1  7  8 12 13 14 15 16 17 18 19 20 21 22 23 24 28 29 30 31 32 33 34 35\n",
      " 36 37 38 39 40 49 50 51 52 53 54 55 56 57 58 59 60 61 63 64 65 66 67 68\n",
      " 69 70 71 72 73] are constant.\n",
      "\n",
      "c:\\Users\\Laris\\miniconda3\\envs\\stage\\Lib\\site-packages\\sklearn\\feature_selection\\_univariate_selection.py:112: RuntimeWarning:\n",
      "\n",
      "divide by zero encountered in divide\n",
      "\n",
      "c:\\Users\\Laris\\miniconda3\\envs\\stage\\Lib\\site-packages\\sklearn\\feature_selection\\_univariate_selection.py:112: RuntimeWarning:\n",
      "\n",
      "invalid value encountered in divide\n",
      "\n",
      "c:\\Users\\Laris\\miniconda3\\envs\\stage\\Lib\\site-packages\\sklearn\\feature_selection\\_univariate_selection.py:111: UserWarning:\n",
      "\n",
      "Features [ 1  7  8 12 13 14 15 16 17 18 19 20 21 22 23 24 28 29 30 31 32 33 34 35\n",
      " 36 37 38 39 40 49 50 51 52 53 54 55 56 57 58 59 60 61 63 64 65 66 67 68\n",
      " 69 70 71 72 73] are constant.\n",
      "\n",
      "c:\\Users\\Laris\\miniconda3\\envs\\stage\\Lib\\site-packages\\sklearn\\feature_selection\\_univariate_selection.py:112: RuntimeWarning:\n",
      "\n",
      "divide by zero encountered in divide\n",
      "\n",
      "c:\\Users\\Laris\\miniconda3\\envs\\stage\\Lib\\site-packages\\sklearn\\feature_selection\\_univariate_selection.py:112: RuntimeWarning:\n",
      "\n",
      "invalid value encountered in divide\n",
      "\n",
      "c:\\Users\\Laris\\miniconda3\\envs\\stage\\Lib\\site-packages\\sklearn\\feature_selection\\_univariate_selection.py:111: UserWarning:\n",
      "\n",
      "Features [ 1  7  8 12 13 14 15 16 17 18 19 20 21 22 23 24 28 29 30 31 32 33 34 35\n",
      " 36 37 38 39 40 49 50 51 52 53 54 55 56 57 58 59 60 61 63 64 65 66 67 68\n",
      " 69 70 71 72 73] are constant.\n",
      "\n",
      "c:\\Users\\Laris\\miniconda3\\envs\\stage\\Lib\\site-packages\\sklearn\\feature_selection\\_univariate_selection.py:112: RuntimeWarning:\n",
      "\n",
      "divide by zero encountered in divide\n",
      "\n",
      "c:\\Users\\Laris\\miniconda3\\envs\\stage\\Lib\\site-packages\\sklearn\\feature_selection\\_univariate_selection.py:112: RuntimeWarning:\n",
      "\n",
      "invalid value encountered in divide\n",
      "\n",
      "c:\\Users\\Laris\\miniconda3\\envs\\stage\\Lib\\site-packages\\sklearn\\feature_selection\\_univariate_selection.py:111: UserWarning:\n",
      "\n",
      "Features [ 1  7  8 12 13 14 15 16 17 18 19 20 21 22 23 24 28 29 30 31 32 33 34 35\n",
      " 36 37 38 39 40 49 50 51 52 53 54 55 56 57 58 59 60 61 63 64 65 66 67 68\n",
      " 69 70 71 72 73] are constant.\n",
      "\n",
      "c:\\Users\\Laris\\miniconda3\\envs\\stage\\Lib\\site-packages\\sklearn\\feature_selection\\_univariate_selection.py:112: RuntimeWarning:\n",
      "\n",
      "divide by zero encountered in divide\n",
      "\n",
      "c:\\Users\\Laris\\miniconda3\\envs\\stage\\Lib\\site-packages\\sklearn\\feature_selection\\_univariate_selection.py:112: RuntimeWarning:\n",
      "\n",
      "invalid value encountered in divide\n",
      "\n",
      "c:\\Users\\Laris\\miniconda3\\envs\\stage\\Lib\\site-packages\\sklearn\\feature_selection\\_univariate_selection.py:111: UserWarning:\n",
      "\n",
      "Features [ 1  7  8 12 13 14 15 16 17 18 19 20 21 22 23 24 28 29 30 31 32 33 34 35\n",
      " 36 37 38 39 40 49 50 51 52 53 54 55 56 57 58 59 60 61 63 64 65 66 67 68\n",
      " 69 70 71 72 73] are constant.\n",
      "\n",
      "c:\\Users\\Laris\\miniconda3\\envs\\stage\\Lib\\site-packages\\sklearn\\feature_selection\\_univariate_selection.py:112: RuntimeWarning:\n",
      "\n",
      "divide by zero encountered in divide\n",
      "\n",
      "c:\\Users\\Laris\\miniconda3\\envs\\stage\\Lib\\site-packages\\sklearn\\feature_selection\\_univariate_selection.py:112: RuntimeWarning:\n",
      "\n",
      "invalid value encountered in divide\n",
      "\n",
      "c:\\Users\\Laris\\miniconda3\\envs\\stage\\Lib\\site-packages\\sklearn\\feature_selection\\_univariate_selection.py:111: UserWarning:\n",
      "\n",
      "Features [ 1  7  8 12 13 14 15 16 17 18 19 20 21 22 23 24 28 29 30 31 32 33 34 35\n",
      " 36 37 38 39 40 49 50 51 52 53 54 55 56 57 58 59 60 61 63 64 65 66 67 68\n",
      " 69 70 71 72 73] are constant.\n",
      "\n",
      "c:\\Users\\Laris\\miniconda3\\envs\\stage\\Lib\\site-packages\\sklearn\\feature_selection\\_univariate_selection.py:112: RuntimeWarning:\n",
      "\n",
      "divide by zero encountered in divide\n",
      "\n",
      "c:\\Users\\Laris\\miniconda3\\envs\\stage\\Lib\\site-packages\\sklearn\\feature_selection\\_univariate_selection.py:112: RuntimeWarning:\n",
      "\n",
      "invalid value encountered in divide\n",
      "\n",
      "c:\\Users\\Laris\\miniconda3\\envs\\stage\\Lib\\site-packages\\sklearn\\feature_selection\\_univariate_selection.py:111: UserWarning:\n",
      "\n",
      "Features [ 1  7  8 12 13 14 15 16 17 18 19 20 21 22 23 24 28 29 30 31 32 33 34 35\n",
      " 36 37 38 39 40 49 50 51 52 53 54 55 56 57 58 59 60 61 63 64 65 66 67 68\n",
      " 69 70 71 72 73] are constant.\n",
      "\n",
      "c:\\Users\\Laris\\miniconda3\\envs\\stage\\Lib\\site-packages\\sklearn\\feature_selection\\_univariate_selection.py:112: RuntimeWarning:\n",
      "\n",
      "divide by zero encountered in divide\n",
      "\n",
      "c:\\Users\\Laris\\miniconda3\\envs\\stage\\Lib\\site-packages\\sklearn\\feature_selection\\_univariate_selection.py:112: RuntimeWarning:\n",
      "\n",
      "invalid value encountered in divide\n",
      "\n",
      "c:\\Users\\Laris\\miniconda3\\envs\\stage\\Lib\\site-packages\\sklearn\\feature_selection\\_univariate_selection.py:111: UserWarning:\n",
      "\n",
      "Features [ 1  7  8 12 13 14 15 16 17 18 19 20 21 22 23 24 28 29 30 31 32 33 34 35\n",
      " 36 37 38 39 40 49 50 51 52 53 54 55 56 57 58 59 60 61 63 64 65 66 67 68\n",
      " 69 70 71 72 73] are constant.\n",
      "\n",
      "c:\\Users\\Laris\\miniconda3\\envs\\stage\\Lib\\site-packages\\sklearn\\feature_selection\\_univariate_selection.py:112: RuntimeWarning:\n",
      "\n",
      "divide by zero encountered in divide\n",
      "\n",
      "c:\\Users\\Laris\\miniconda3\\envs\\stage\\Lib\\site-packages\\sklearn\\feature_selection\\_univariate_selection.py:112: RuntimeWarning:\n",
      "\n",
      "invalid value encountered in divide\n",
      "\n",
      "c:\\Users\\Laris\\miniconda3\\envs\\stage\\Lib\\site-packages\\sklearn\\feature_selection\\_univariate_selection.py:111: UserWarning:\n",
      "\n",
      "Features [ 1  7  8 12 13 14 15 16 17 18 19 20 21 22 23 24 28 29 30 31 32 33 34 35\n",
      " 36 37 38 39 40 49 50 51 52 53 54 55 56 57 58 59 60 61 63 64 65 66 67 68\n",
      " 69 70 71 72 73] are constant.\n",
      "\n",
      "c:\\Users\\Laris\\miniconda3\\envs\\stage\\Lib\\site-packages\\sklearn\\feature_selection\\_univariate_selection.py:112: RuntimeWarning:\n",
      "\n",
      "divide by zero encountered in divide\n",
      "\n",
      "c:\\Users\\Laris\\miniconda3\\envs\\stage\\Lib\\site-packages\\sklearn\\feature_selection\\_univariate_selection.py:112: RuntimeWarning:\n",
      "\n",
      "invalid value encountered in divide\n",
      "\n",
      "c:\\Users\\Laris\\miniconda3\\envs\\stage\\Lib\\site-packages\\sklearn\\feature_selection\\_univariate_selection.py:111: UserWarning:\n",
      "\n",
      "Features [ 1  7  8 12 13 14 15 16 17 18 19 20 21 22 23 24 28 29 30 31 32 33 34 35\n",
      " 36 37 38 39 40 49 50 51 52 53 54 55 56 57 58 59 60 61 63 64 65 66 67 68\n",
      " 69 70 71 72 73] are constant.\n",
      "\n",
      "c:\\Users\\Laris\\miniconda3\\envs\\stage\\Lib\\site-packages\\sklearn\\feature_selection\\_univariate_selection.py:112: RuntimeWarning:\n",
      "\n",
      "divide by zero encountered in divide\n",
      "\n",
      "c:\\Users\\Laris\\miniconda3\\envs\\stage\\Lib\\site-packages\\sklearn\\feature_selection\\_univariate_selection.py:112: RuntimeWarning:\n",
      "\n",
      "invalid value encountered in divide\n",
      "\n",
      "c:\\Users\\Laris\\miniconda3\\envs\\stage\\Lib\\site-packages\\sklearn\\feature_selection\\_univariate_selection.py:111: UserWarning:\n",
      "\n",
      "Features [ 1  7  8 12 13 14 15 16 17 18 19 20 21 22 23 24 28 29 30 31 32 33 34 35\n",
      " 36 37 38 39 40 49 50 51 52 53 54 55 56 57 58 59 60 61 63 64 65 66 67 68\n",
      " 69 70 71 72 73] are constant.\n",
      "\n",
      "c:\\Users\\Laris\\miniconda3\\envs\\stage\\Lib\\site-packages\\sklearn\\feature_selection\\_univariate_selection.py:112: RuntimeWarning:\n",
      "\n",
      "divide by zero encountered in divide\n",
      "\n",
      "c:\\Users\\Laris\\miniconda3\\envs\\stage\\Lib\\site-packages\\sklearn\\feature_selection\\_univariate_selection.py:112: RuntimeWarning:\n",
      "\n",
      "invalid value encountered in divide\n",
      "\n",
      "c:\\Users\\Laris\\miniconda3\\envs\\stage\\Lib\\site-packages\\sklearn\\feature_selection\\_univariate_selection.py:111: UserWarning:\n",
      "\n",
      "Features [ 1  7  8 12 13 14 15 16 17 18 19 20 21 22 23 24 28 29 30 31 32 33 34 35\n",
      " 36 37 38 39 40 49 50 51 52 53 54 55 56 57 58 59 60 61 63 64 65 66 67 68\n",
      " 69 70 71 72 73] are constant.\n",
      "\n",
      "c:\\Users\\Laris\\miniconda3\\envs\\stage\\Lib\\site-packages\\sklearn\\feature_selection\\_univariate_selection.py:112: RuntimeWarning:\n",
      "\n",
      "divide by zero encountered in divide\n",
      "\n",
      "c:\\Users\\Laris\\miniconda3\\envs\\stage\\Lib\\site-packages\\sklearn\\feature_selection\\_univariate_selection.py:112: RuntimeWarning:\n",
      "\n",
      "invalid value encountered in divide\n",
      "\n",
      "c:\\Users\\Laris\\miniconda3\\envs\\stage\\Lib\\site-packages\\sklearn\\feature_selection\\_univariate_selection.py:111: UserWarning:\n",
      "\n",
      "Features [ 1  7  8 12 13 14 15 16 17 18 19 20 21 22 23 24 28 29 30 31 32 33 34 35\n",
      " 36 37 38 39 40 49 50 51 52 53 54 55 56 57 58 59 60 61 63 64 65 66 67 68\n",
      " 69 70 71 72 73] are constant.\n",
      "\n",
      "c:\\Users\\Laris\\miniconda3\\envs\\stage\\Lib\\site-packages\\sklearn\\feature_selection\\_univariate_selection.py:112: RuntimeWarning:\n",
      "\n",
      "divide by zero encountered in divide\n",
      "\n",
      "c:\\Users\\Laris\\miniconda3\\envs\\stage\\Lib\\site-packages\\sklearn\\feature_selection\\_univariate_selection.py:112: RuntimeWarning:\n",
      "\n",
      "invalid value encountered in divide\n",
      "\n",
      "c:\\Users\\Laris\\miniconda3\\envs\\stage\\Lib\\site-packages\\sklearn\\feature_selection\\_univariate_selection.py:111: UserWarning:\n",
      "\n",
      "Features [ 1  7  8 12 13 14 15 16 17 18 19 20 21 22 23 24 28 29 30 31 32 33 34 35\n",
      " 36 37 38 39 40 49 50 51 52 53 54 55 56 57 58 59 60 61 63 64 65 66 67 68\n",
      " 69 70 71 72 73] are constant.\n",
      "\n",
      "c:\\Users\\Laris\\miniconda3\\envs\\stage\\Lib\\site-packages\\sklearn\\feature_selection\\_univariate_selection.py:112: RuntimeWarning:\n",
      "\n",
      "divide by zero encountered in divide\n",
      "\n",
      "c:\\Users\\Laris\\miniconda3\\envs\\stage\\Lib\\site-packages\\sklearn\\feature_selection\\_univariate_selection.py:112: RuntimeWarning:\n",
      "\n",
      "invalid value encountered in divide\n",
      "\n",
      "c:\\Users\\Laris\\miniconda3\\envs\\stage\\Lib\\site-packages\\sklearn\\feature_selection\\_univariate_selection.py:111: UserWarning:\n",
      "\n",
      "Features [ 1  7  8 12 13 14 15 16 17 18 19 20 21 22 23 24 28 29 30 31 32 33 34 35\n",
      " 36 37 38 39 40 49 50 51 52 53 54 55 56 57 58 59 60 61 63 64 65 66 67 68\n",
      " 69 70 71 72 73] are constant.\n",
      "\n",
      "c:\\Users\\Laris\\miniconda3\\envs\\stage\\Lib\\site-packages\\sklearn\\feature_selection\\_univariate_selection.py:112: RuntimeWarning:\n",
      "\n",
      "divide by zero encountered in divide\n",
      "\n",
      "c:\\Users\\Laris\\miniconda3\\envs\\stage\\Lib\\site-packages\\sklearn\\feature_selection\\_univariate_selection.py:112: RuntimeWarning:\n",
      "\n",
      "invalid value encountered in divide\n",
      "\n",
      "c:\\Users\\Laris\\miniconda3\\envs\\stage\\Lib\\site-packages\\sklearn\\feature_selection\\_univariate_selection.py:111: UserWarning:\n",
      "\n",
      "Features [ 1  7  8 12 13 14 15 16 17 18 19 20 21 22 23 24 28 29 30 31 32 33 34 35\n",
      " 36 37 38 39 40 49 50 51 52 53 54 55 56 57 58 59 60 61 63 64 65 66 67 68\n",
      " 69 70 71 72 73] are constant.\n",
      "\n",
      "c:\\Users\\Laris\\miniconda3\\envs\\stage\\Lib\\site-packages\\sklearn\\feature_selection\\_univariate_selection.py:112: RuntimeWarning:\n",
      "\n",
      "divide by zero encountered in divide\n",
      "\n",
      "c:\\Users\\Laris\\miniconda3\\envs\\stage\\Lib\\site-packages\\sklearn\\feature_selection\\_univariate_selection.py:112: RuntimeWarning:\n",
      "\n",
      "invalid value encountered in divide\n",
      "\n",
      "c:\\Users\\Laris\\miniconda3\\envs\\stage\\Lib\\site-packages\\sklearn\\feature_selection\\_univariate_selection.py:111: UserWarning:\n",
      "\n",
      "Features [ 1  7  8 12 13 14 15 16 17 18 19 20 21 22 23 24 28 29 30 31 32 33 34 35\n",
      " 36 37 38 39 40 49 50 51 52 53 54 55 56 57 58 59 60 61 63 64 65 66 67 68\n",
      " 69 70 71 72 73] are constant.\n",
      "\n",
      "c:\\Users\\Laris\\miniconda3\\envs\\stage\\Lib\\site-packages\\sklearn\\feature_selection\\_univariate_selection.py:112: RuntimeWarning:\n",
      "\n",
      "divide by zero encountered in divide\n",
      "\n",
      "c:\\Users\\Laris\\miniconda3\\envs\\stage\\Lib\\site-packages\\sklearn\\feature_selection\\_univariate_selection.py:112: RuntimeWarning:\n",
      "\n",
      "invalid value encountered in divide\n",
      "\n",
      "c:\\Users\\Laris\\miniconda3\\envs\\stage\\Lib\\site-packages\\sklearn\\feature_selection\\_univariate_selection.py:111: UserWarning:\n",
      "\n",
      "Features [ 1  7  8 12 13 14 15 16 17 18 19 20 21 22 23 24 28 29 30 31 32 33 34 35\n",
      " 36 37 38 39 40 49 50 51 52 53 54 55 56 57 58 59 60 61 63 64 65 66 67 68\n",
      " 69 70 71 72 73] are constant.\n",
      "\n",
      "c:\\Users\\Laris\\miniconda3\\envs\\stage\\Lib\\site-packages\\sklearn\\feature_selection\\_univariate_selection.py:112: RuntimeWarning:\n",
      "\n",
      "divide by zero encountered in divide\n",
      "\n",
      "c:\\Users\\Laris\\miniconda3\\envs\\stage\\Lib\\site-packages\\sklearn\\feature_selection\\_univariate_selection.py:112: RuntimeWarning:\n",
      "\n",
      "invalid value encountered in divide\n",
      "\n",
      "c:\\Users\\Laris\\miniconda3\\envs\\stage\\Lib\\site-packages\\sklearn\\feature_selection\\_univariate_selection.py:111: UserWarning:\n",
      "\n",
      "Features [ 1  7  8 12 13 14 15 16 17 18 19 20 21 22 23 24 28 29 30 31 32 33 34 35\n",
      " 36 37 38 39 40 49 50 51 52 53 54 55 56 57 58 59 60 61 63 64 65 66 67 68\n",
      " 69 70 71 72 73] are constant.\n",
      "\n",
      "c:\\Users\\Laris\\miniconda3\\envs\\stage\\Lib\\site-packages\\sklearn\\feature_selection\\_univariate_selection.py:112: RuntimeWarning:\n",
      "\n",
      "divide by zero encountered in divide\n",
      "\n",
      "c:\\Users\\Laris\\miniconda3\\envs\\stage\\Lib\\site-packages\\sklearn\\feature_selection\\_univariate_selection.py:112: RuntimeWarning:\n",
      "\n",
      "invalid value encountered in divide\n",
      "\n",
      "c:\\Users\\Laris\\miniconda3\\envs\\stage\\Lib\\site-packages\\sklearn\\feature_selection\\_univariate_selection.py:111: UserWarning:\n",
      "\n",
      "Features [ 1  7  8 12 13 14 15 16 17 18 19 20 21 22 23 24 28 29 30 31 32 33 34 35\n",
      " 36 37 38 39 40 49 50 51 52 53 54 55 56 57 58 59 60 61 63 64 65 66 67 68\n",
      " 69 70 71 72 73] are constant.\n",
      "\n",
      "c:\\Users\\Laris\\miniconda3\\envs\\stage\\Lib\\site-packages\\sklearn\\feature_selection\\_univariate_selection.py:112: RuntimeWarning:\n",
      "\n",
      "divide by zero encountered in divide\n",
      "\n",
      "c:\\Users\\Laris\\miniconda3\\envs\\stage\\Lib\\site-packages\\sklearn\\feature_selection\\_univariate_selection.py:112: RuntimeWarning:\n",
      "\n",
      "invalid value encountered in divide\n",
      "\n",
      "c:\\Users\\Laris\\miniconda3\\envs\\stage\\Lib\\site-packages\\sklearn\\feature_selection\\_univariate_selection.py:111: UserWarning:\n",
      "\n",
      "Features [ 1  7  8 12 13 14 15 16 17 18 19 20 21 22 23 24 28 29 30 31 32 33 34 35\n",
      " 36 37 38 39 40 49 50 51 52 53 54 55 56 57 58 59 60 61 63 64 65 66 67 68\n",
      " 69 70 71 72 73] are constant.\n",
      "\n",
      "c:\\Users\\Laris\\miniconda3\\envs\\stage\\Lib\\site-packages\\sklearn\\feature_selection\\_univariate_selection.py:112: RuntimeWarning:\n",
      "\n",
      "divide by zero encountered in divide\n",
      "\n",
      "c:\\Users\\Laris\\miniconda3\\envs\\stage\\Lib\\site-packages\\sklearn\\feature_selection\\_univariate_selection.py:112: RuntimeWarning:\n",
      "\n",
      "invalid value encountered in divide\n",
      "\n",
      "c:\\Users\\Laris\\miniconda3\\envs\\stage\\Lib\\site-packages\\sklearn\\feature_selection\\_univariate_selection.py:111: UserWarning:\n",
      "\n",
      "Features [ 1  7  8 12 13 14 15 16 17 18 19 20 21 22 23 24 28 29 30 31 32 33 34 35\n",
      " 36 37 38 39 40 49 50 51 52 53 54 55 56 57 58 59 60 61 63 64 65 66 67 68\n",
      " 69 70 71 72 73] are constant.\n",
      "\n",
      "c:\\Users\\Laris\\miniconda3\\envs\\stage\\Lib\\site-packages\\sklearn\\feature_selection\\_univariate_selection.py:112: RuntimeWarning:\n",
      "\n",
      "divide by zero encountered in divide\n",
      "\n",
      "c:\\Users\\Laris\\miniconda3\\envs\\stage\\Lib\\site-packages\\sklearn\\feature_selection\\_univariate_selection.py:112: RuntimeWarning:\n",
      "\n",
      "invalid value encountered in divide\n",
      "\n",
      "c:\\Users\\Laris\\miniconda3\\envs\\stage\\Lib\\site-packages\\sklearn\\feature_selection\\_univariate_selection.py:111: UserWarning:\n",
      "\n",
      "Features [ 1  7  8 12 13 14 15 16 17 18 19 20 21 22 23 24 28 29 30 31 32 33 34 35\n",
      " 36 37 38 39 40 49 50 51 52 53 54 55 56 57 58 59 60 61 63 64 65 66 67 68\n",
      " 69 70 71 72 73] are constant.\n",
      "\n",
      "c:\\Users\\Laris\\miniconda3\\envs\\stage\\Lib\\site-packages\\sklearn\\feature_selection\\_univariate_selection.py:112: RuntimeWarning:\n",
      "\n",
      "divide by zero encountered in divide\n",
      "\n",
      "c:\\Users\\Laris\\miniconda3\\envs\\stage\\Lib\\site-packages\\sklearn\\feature_selection\\_univariate_selection.py:112: RuntimeWarning:\n",
      "\n",
      "invalid value encountered in divide\n",
      "\n",
      "c:\\Users\\Laris\\miniconda3\\envs\\stage\\Lib\\site-packages\\sklearn\\feature_selection\\_univariate_selection.py:111: UserWarning:\n",
      "\n",
      "Features [ 1  7  8 12 13 14 15 16 17 18 19 20 21 22 23 24 28 29 30 31 32 33 34 35\n",
      " 36 37 38 39 40 49 50 51 52 53 54 55 56 57 58 59 60 61 63 64 65 66 67 68\n",
      " 69 70 71 72 73] are constant.\n",
      "\n",
      "c:\\Users\\Laris\\miniconda3\\envs\\stage\\Lib\\site-packages\\sklearn\\feature_selection\\_univariate_selection.py:112: RuntimeWarning:\n",
      "\n",
      "divide by zero encountered in divide\n",
      "\n",
      "c:\\Users\\Laris\\miniconda3\\envs\\stage\\Lib\\site-packages\\sklearn\\feature_selection\\_univariate_selection.py:112: RuntimeWarning:\n",
      "\n",
      "invalid value encountered in divide\n",
      "\n",
      "c:\\Users\\Laris\\miniconda3\\envs\\stage\\Lib\\site-packages\\sklearn\\feature_selection\\_univariate_selection.py:111: UserWarning:\n",
      "\n",
      "Features [ 1  7  8 12 13 14 15 16 17 18 19 20 21 22 23 24 28 29 30 31 32 33 34 35\n",
      " 36 37 38 39 40 49 50 51 52 53 54 55 56 57 58 59 60 61 63 64 65 66 67 68\n",
      " 69 70 71 72 73] are constant.\n",
      "\n",
      "c:\\Users\\Laris\\miniconda3\\envs\\stage\\Lib\\site-packages\\sklearn\\feature_selection\\_univariate_selection.py:112: RuntimeWarning:\n",
      "\n",
      "divide by zero encountered in divide\n",
      "\n",
      "c:\\Users\\Laris\\miniconda3\\envs\\stage\\Lib\\site-packages\\sklearn\\feature_selection\\_univariate_selection.py:112: RuntimeWarning:\n",
      "\n",
      "invalid value encountered in divide\n",
      "\n",
      "c:\\Users\\Laris\\miniconda3\\envs\\stage\\Lib\\site-packages\\sklearn\\feature_selection\\_univariate_selection.py:111: UserWarning:\n",
      "\n",
      "Features [ 1  7  8 12 13 14 15 16 17 18 19 20 21 22 23 24 28 29 30 31 32 33 34 35\n",
      " 36 37 38 39 40 49 50 51 52 53 54 55 56 57 58 59 60 61 63 64 65 66 67 68\n",
      " 69 70 71 72 73] are constant.\n",
      "\n",
      "c:\\Users\\Laris\\miniconda3\\envs\\stage\\Lib\\site-packages\\sklearn\\feature_selection\\_univariate_selection.py:112: RuntimeWarning:\n",
      "\n",
      "divide by zero encountered in divide\n",
      "\n",
      "c:\\Users\\Laris\\miniconda3\\envs\\stage\\Lib\\site-packages\\sklearn\\feature_selection\\_univariate_selection.py:112: RuntimeWarning:\n",
      "\n",
      "invalid value encountered in divide\n",
      "\n",
      "c:\\Users\\Laris\\miniconda3\\envs\\stage\\Lib\\site-packages\\sklearn\\feature_selection\\_univariate_selection.py:111: UserWarning:\n",
      "\n",
      "Features [ 1  7  8 12 13 14 15 16 17 18 19 20 21 22 23 24 28 29 30 31 32 33 34 35\n",
      " 36 37 38 39 40 49 50 51 52 53 54 55 56 57 58 59 60 61 63 64 65 66 67 68\n",
      " 69 70 71 72 73] are constant.\n",
      "\n",
      "c:\\Users\\Laris\\miniconda3\\envs\\stage\\Lib\\site-packages\\sklearn\\feature_selection\\_univariate_selection.py:112: RuntimeWarning:\n",
      "\n",
      "divide by zero encountered in divide\n",
      "\n",
      "c:\\Users\\Laris\\miniconda3\\envs\\stage\\Lib\\site-packages\\sklearn\\feature_selection\\_univariate_selection.py:112: RuntimeWarning:\n",
      "\n",
      "invalid value encountered in divide\n",
      "\n",
      "c:\\Users\\Laris\\miniconda3\\envs\\stage\\Lib\\site-packages\\sklearn\\feature_selection\\_univariate_selection.py:111: UserWarning:\n",
      "\n",
      "Features [ 1  7  8 12 13 14 15 16 17 18 19 20 21 22 23 24 28 29 30 31 32 33 34 35\n",
      " 36 37 38 39 40 49 50 51 52 53 54 55 56 57 58 59 60 61 63 64 65 66 67 68\n",
      " 69 70 71 72 73] are constant.\n",
      "\n",
      "c:\\Users\\Laris\\miniconda3\\envs\\stage\\Lib\\site-packages\\sklearn\\feature_selection\\_univariate_selection.py:112: RuntimeWarning:\n",
      "\n",
      "divide by zero encountered in divide\n",
      "\n",
      "c:\\Users\\Laris\\miniconda3\\envs\\stage\\Lib\\site-packages\\sklearn\\feature_selection\\_univariate_selection.py:112: RuntimeWarning:\n",
      "\n",
      "invalid value encountered in divide\n",
      "\n",
      "c:\\Users\\Laris\\miniconda3\\envs\\stage\\Lib\\site-packages\\sklearn\\feature_selection\\_univariate_selection.py:111: UserWarning:\n",
      "\n",
      "Features [ 1  7  8 12 13 14 15 16 17 18 19 20 21 22 23 24 28 29 30 31 32 33 34 35\n",
      " 36 37 38 39 40 49 50 51 52 53 54 55 56 57 58 59 60 61 63 64 65 66 67 68\n",
      " 69 70 71 72 73] are constant.\n",
      "\n",
      "c:\\Users\\Laris\\miniconda3\\envs\\stage\\Lib\\site-packages\\sklearn\\feature_selection\\_univariate_selection.py:112: RuntimeWarning:\n",
      "\n",
      "divide by zero encountered in divide\n",
      "\n",
      "c:\\Users\\Laris\\miniconda3\\envs\\stage\\Lib\\site-packages\\sklearn\\feature_selection\\_univariate_selection.py:112: RuntimeWarning:\n",
      "\n",
      "invalid value encountered in divide\n",
      "\n",
      "c:\\Users\\Laris\\miniconda3\\envs\\stage\\Lib\\site-packages\\sklearn\\feature_selection\\_univariate_selection.py:111: UserWarning:\n",
      "\n",
      "Features [ 1  7  8 12 13 14 15 16 17 18 19 20 21 22 23 24 28 29 30 31 32 33 34 35\n",
      " 36 37 38 39 40 49 50 51 52 53 54 55 56 57 58 59 60 61 63 64 65 66 67 68\n",
      " 69 70 71 72 73] are constant.\n",
      "\n",
      "c:\\Users\\Laris\\miniconda3\\envs\\stage\\Lib\\site-packages\\sklearn\\feature_selection\\_univariate_selection.py:112: RuntimeWarning:\n",
      "\n",
      "divide by zero encountered in divide\n",
      "\n",
      "c:\\Users\\Laris\\miniconda3\\envs\\stage\\Lib\\site-packages\\sklearn\\feature_selection\\_univariate_selection.py:112: RuntimeWarning:\n",
      "\n",
      "invalid value encountered in divide\n",
      "\n",
      "c:\\Users\\Laris\\miniconda3\\envs\\stage\\Lib\\site-packages\\sklearn\\feature_selection\\_univariate_selection.py:111: UserWarning:\n",
      "\n",
      "Features [ 1  7  8 12 13 14 15 16 17 18 19 20 21 22 23 24 28 29 30 31 32 33 34 35\n",
      " 36 37 38 39 40 49 50 51 52 53 54 55 56 57 58 59 60 61 63 64 65 66 67 68\n",
      " 69 70 71 72 73] are constant.\n",
      "\n",
      "c:\\Users\\Laris\\miniconda3\\envs\\stage\\Lib\\site-packages\\sklearn\\feature_selection\\_univariate_selection.py:112: RuntimeWarning:\n",
      "\n",
      "divide by zero encountered in divide\n",
      "\n",
      "c:\\Users\\Laris\\miniconda3\\envs\\stage\\Lib\\site-packages\\sklearn\\feature_selection\\_univariate_selection.py:112: RuntimeWarning:\n",
      "\n",
      "invalid value encountered in divide\n",
      "\n",
      "c:\\Users\\Laris\\miniconda3\\envs\\stage\\Lib\\site-packages\\sklearn\\feature_selection\\_univariate_selection.py:111: UserWarning:\n",
      "\n",
      "Features [ 1  7  8 12 13 14 15 16 17 18 19 20 21 22 23 24 28 29 30 31 32 33 34 35\n",
      " 36 37 38 39 40 49 50 51 52 53 54 55 56 57 58 59 60 61 63 64 65 66 67 68\n",
      " 69 70 71 72 73] are constant.\n",
      "\n",
      "c:\\Users\\Laris\\miniconda3\\envs\\stage\\Lib\\site-packages\\sklearn\\feature_selection\\_univariate_selection.py:112: RuntimeWarning:\n",
      "\n",
      "divide by zero encountered in divide\n",
      "\n",
      "c:\\Users\\Laris\\miniconda3\\envs\\stage\\Lib\\site-packages\\sklearn\\feature_selection\\_univariate_selection.py:112: RuntimeWarning:\n",
      "\n",
      "invalid value encountered in divide\n",
      "\n",
      "c:\\Users\\Laris\\miniconda3\\envs\\stage\\Lib\\site-packages\\sklearn\\feature_selection\\_univariate_selection.py:111: UserWarning:\n",
      "\n",
      "Features [ 1  7  8 12 13 14 15 16 17 18 19 20 21 22 23 24 28 29 30 31 32 33 34 35\n",
      " 36 37 38 39 40 49 50 51 52 53 54 55 56 57 58 59 60 61 63 64 65 66 67 68\n",
      " 69 70 71 72 73] are constant.\n",
      "\n",
      "c:\\Users\\Laris\\miniconda3\\envs\\stage\\Lib\\site-packages\\sklearn\\feature_selection\\_univariate_selection.py:112: RuntimeWarning:\n",
      "\n",
      "divide by zero encountered in divide\n",
      "\n",
      "c:\\Users\\Laris\\miniconda3\\envs\\stage\\Lib\\site-packages\\sklearn\\feature_selection\\_univariate_selection.py:112: RuntimeWarning:\n",
      "\n",
      "invalid value encountered in divide\n",
      "\n",
      "c:\\Users\\Laris\\miniconda3\\envs\\stage\\Lib\\site-packages\\sklearn\\feature_selection\\_univariate_selection.py:111: UserWarning:\n",
      "\n",
      "Features [ 1  7  8 12 13 14 15 16 17 18 19 20 21 22 23 24 28 29 30 31 32 33 34 35\n",
      " 36 37 38 39 40 49 50 51 52 53 54 55 56 57 58 59 60 61 63 64 65 66 67 68\n",
      " 69 70 71 72 73] are constant.\n",
      "\n",
      "c:\\Users\\Laris\\miniconda3\\envs\\stage\\Lib\\site-packages\\sklearn\\feature_selection\\_univariate_selection.py:112: RuntimeWarning:\n",
      "\n",
      "divide by zero encountered in divide\n",
      "\n",
      "c:\\Users\\Laris\\miniconda3\\envs\\stage\\Lib\\site-packages\\sklearn\\feature_selection\\_univariate_selection.py:112: RuntimeWarning:\n",
      "\n",
      "invalid value encountered in divide\n",
      "\n",
      "c:\\Users\\Laris\\miniconda3\\envs\\stage\\Lib\\site-packages\\sklearn\\feature_selection\\_univariate_selection.py:111: UserWarning:\n",
      "\n",
      "Features [ 1  7  8 12 13 14 15 16 17 18 19 20 21 22 23 24 28 29 30 31 32 33 34 35\n",
      " 36 37 38 39 40 49 50 51 52 53 54 55 56 57 58 59 60 61 63 64 65 66 67 68\n",
      " 69 70 71 72 73] are constant.\n",
      "\n",
      "c:\\Users\\Laris\\miniconda3\\envs\\stage\\Lib\\site-packages\\sklearn\\feature_selection\\_univariate_selection.py:112: RuntimeWarning:\n",
      "\n",
      "divide by zero encountered in divide\n",
      "\n",
      "c:\\Users\\Laris\\miniconda3\\envs\\stage\\Lib\\site-packages\\sklearn\\feature_selection\\_univariate_selection.py:112: RuntimeWarning:\n",
      "\n",
      "invalid value encountered in divide\n",
      "\n",
      "c:\\Users\\Laris\\miniconda3\\envs\\stage\\Lib\\site-packages\\sklearn\\feature_selection\\_univariate_selection.py:111: UserWarning:\n",
      "\n",
      "Features [ 1  7  8 12 13 14 15 16 17 18 19 20 21 22 23 24 28 29 30 31 32 33 34 35\n",
      " 36 37 38 39 40 49 50 51 52 53 54 55 56 57 58 59 60 61 63 64 65 66 67 68\n",
      " 69 70 71 72 73] are constant.\n",
      "\n",
      "c:\\Users\\Laris\\miniconda3\\envs\\stage\\Lib\\site-packages\\sklearn\\feature_selection\\_univariate_selection.py:112: RuntimeWarning:\n",
      "\n",
      "divide by zero encountered in divide\n",
      "\n",
      "c:\\Users\\Laris\\miniconda3\\envs\\stage\\Lib\\site-packages\\sklearn\\feature_selection\\_univariate_selection.py:112: RuntimeWarning:\n",
      "\n",
      "invalid value encountered in divide\n",
      "\n",
      "c:\\Users\\Laris\\miniconda3\\envs\\stage\\Lib\\site-packages\\sklearn\\feature_selection\\_univariate_selection.py:111: UserWarning:\n",
      "\n",
      "Features [ 1  7  8 12 13 14 15 16 17 18 19 20 21 22 23 24 28 29 30 31 32 33 34 35\n",
      " 36 37 38 39 40 49 50 51 52 53 54 55 56 57 58 59 60 61 63 64 65 66 67 68\n",
      " 69 70 71 72 73] are constant.\n",
      "\n",
      "c:\\Users\\Laris\\miniconda3\\envs\\stage\\Lib\\site-packages\\sklearn\\feature_selection\\_univariate_selection.py:112: RuntimeWarning:\n",
      "\n",
      "divide by zero encountered in divide\n",
      "\n",
      "c:\\Users\\Laris\\miniconda3\\envs\\stage\\Lib\\site-packages\\sklearn\\feature_selection\\_univariate_selection.py:112: RuntimeWarning:\n",
      "\n",
      "invalid value encountered in divide\n",
      "\n",
      "c:\\Users\\Laris\\miniconda3\\envs\\stage\\Lib\\site-packages\\sklearn\\feature_selection\\_univariate_selection.py:111: UserWarning:\n",
      "\n",
      "Features [ 1  7  8 12 13 14 15 16 17 18 19 20 21 22 23 24 28 29 30 31 32 33 34 35\n",
      " 36 37 38 39 40 49 50 51 52 53 54 55 56 57 58 59 60 61 63 64 65 66 67 68\n",
      " 69 70 71 72 73] are constant.\n",
      "\n",
      "c:\\Users\\Laris\\miniconda3\\envs\\stage\\Lib\\site-packages\\sklearn\\feature_selection\\_univariate_selection.py:112: RuntimeWarning:\n",
      "\n",
      "divide by zero encountered in divide\n",
      "\n",
      "c:\\Users\\Laris\\miniconda3\\envs\\stage\\Lib\\site-packages\\sklearn\\feature_selection\\_univariate_selection.py:112: RuntimeWarning:\n",
      "\n",
      "invalid value encountered in divide\n",
      "\n",
      "c:\\Users\\Laris\\miniconda3\\envs\\stage\\Lib\\site-packages\\sklearn\\feature_selection\\_univariate_selection.py:111: UserWarning:\n",
      "\n",
      "Features [ 1  7  8 12 13 14 15 16 17 18 19 20 21 22 23 24 28 29 30 31 32 33 34 35\n",
      " 36 37 38 39 40 49 50 51 52 53 54 55 56 57 58 59 60 61 63 64 65 66 67 68\n",
      " 69 70 71 72 73] are constant.\n",
      "\n",
      "c:\\Users\\Laris\\miniconda3\\envs\\stage\\Lib\\site-packages\\sklearn\\feature_selection\\_univariate_selection.py:112: RuntimeWarning:\n",
      "\n",
      "divide by zero encountered in divide\n",
      "\n",
      "c:\\Users\\Laris\\miniconda3\\envs\\stage\\Lib\\site-packages\\sklearn\\feature_selection\\_univariate_selection.py:112: RuntimeWarning:\n",
      "\n",
      "invalid value encountered in divide\n",
      "\n",
      "c:\\Users\\Laris\\miniconda3\\envs\\stage\\Lib\\site-packages\\sklearn\\feature_selection\\_univariate_selection.py:111: UserWarning:\n",
      "\n",
      "Features [ 1  7  8 12 13 14 15 16 17 18 19 20 21 22 23 24 28 29 30 31 32 33 34 35\n",
      " 36 37 38 39 40 49 50 51 52 53 54 55 56 57 58 59 60 61 63 64 65 66 67 68\n",
      " 69 70 71 72 73] are constant.\n",
      "\n",
      "c:\\Users\\Laris\\miniconda3\\envs\\stage\\Lib\\site-packages\\sklearn\\feature_selection\\_univariate_selection.py:112: RuntimeWarning:\n",
      "\n",
      "divide by zero encountered in divide\n",
      "\n",
      "c:\\Users\\Laris\\miniconda3\\envs\\stage\\Lib\\site-packages\\sklearn\\feature_selection\\_univariate_selection.py:112: RuntimeWarning:\n",
      "\n",
      "invalid value encountered in divide\n",
      "\n",
      "c:\\Users\\Laris\\miniconda3\\envs\\stage\\Lib\\site-packages\\sklearn\\feature_selection\\_univariate_selection.py:111: UserWarning:\n",
      "\n",
      "Features [ 1  7  8 12 13 14 15 16 17 18 19 20 21 22 23 24 28 29 30 31 32 33 34 35\n",
      " 36 37 38 39 40 49 50 51 52 53 54 55 56 57 58 59 60 61 63 64 65 66 67 68\n",
      " 69 70 71 72 73] are constant.\n",
      "\n",
      "c:\\Users\\Laris\\miniconda3\\envs\\stage\\Lib\\site-packages\\sklearn\\feature_selection\\_univariate_selection.py:112: RuntimeWarning:\n",
      "\n",
      "divide by zero encountered in divide\n",
      "\n",
      "c:\\Users\\Laris\\miniconda3\\envs\\stage\\Lib\\site-packages\\sklearn\\feature_selection\\_univariate_selection.py:112: RuntimeWarning:\n",
      "\n",
      "invalid value encountered in divide\n",
      "\n",
      "c:\\Users\\Laris\\miniconda3\\envs\\stage\\Lib\\site-packages\\sklearn\\feature_selection\\_univariate_selection.py:111: UserWarning:\n",
      "\n",
      "Features [ 1  7  8 12 13 14 15 16 17 18 19 20 21 22 23 24 28 29 30 31 32 33 34 35\n",
      " 36 37 38 39 40 49 50 51 52 53 54 55 56 57 58 59 60 61 63 64 65 66 67 68\n",
      " 69 70 71 72 73] are constant.\n",
      "\n",
      "c:\\Users\\Laris\\miniconda3\\envs\\stage\\Lib\\site-packages\\sklearn\\feature_selection\\_univariate_selection.py:112: RuntimeWarning:\n",
      "\n",
      "divide by zero encountered in divide\n",
      "\n",
      "c:\\Users\\Laris\\miniconda3\\envs\\stage\\Lib\\site-packages\\sklearn\\feature_selection\\_univariate_selection.py:112: RuntimeWarning:\n",
      "\n",
      "invalid value encountered in divide\n",
      "\n",
      "c:\\Users\\Laris\\miniconda3\\envs\\stage\\Lib\\site-packages\\sklearn\\feature_selection\\_univariate_selection.py:111: UserWarning:\n",
      "\n",
      "Features [ 1  7  8 12 13 14 15 16 17 18 19 20 21 22 23 24 28 29 30 31 32 33 34 35\n",
      " 36 37 38 39 40 49 50 51 52 53 54 55 56 57 58 59 60 61 63 64 65 66 67 68\n",
      " 69 70 71 72 73] are constant.\n",
      "\n",
      "c:\\Users\\Laris\\miniconda3\\envs\\stage\\Lib\\site-packages\\sklearn\\feature_selection\\_univariate_selection.py:112: RuntimeWarning:\n",
      "\n",
      "divide by zero encountered in divide\n",
      "\n",
      "c:\\Users\\Laris\\miniconda3\\envs\\stage\\Lib\\site-packages\\sklearn\\feature_selection\\_univariate_selection.py:112: RuntimeWarning:\n",
      "\n",
      "invalid value encountered in divide\n",
      "\n",
      "c:\\Users\\Laris\\miniconda3\\envs\\stage\\Lib\\site-packages\\sklearn\\feature_selection\\_univariate_selection.py:111: UserWarning:\n",
      "\n",
      "Features [ 1  7  8 12 13 14 15 16 17 18 19 20 21 22 23 24 28 29 30 31 32 33 34 35\n",
      " 36 37 38 39 40 49 50 51 52 53 54 55 56 57 58 59 60 61 63 64 65 66 67 68\n",
      " 69 70 71 72 73] are constant.\n",
      "\n",
      "c:\\Users\\Laris\\miniconda3\\envs\\stage\\Lib\\site-packages\\sklearn\\feature_selection\\_univariate_selection.py:112: RuntimeWarning:\n",
      "\n",
      "divide by zero encountered in divide\n",
      "\n",
      "c:\\Users\\Laris\\miniconda3\\envs\\stage\\Lib\\site-packages\\sklearn\\feature_selection\\_univariate_selection.py:112: RuntimeWarning:\n",
      "\n",
      "invalid value encountered in divide\n",
      "\n",
      "c:\\Users\\Laris\\miniconda3\\envs\\stage\\Lib\\site-packages\\sklearn\\feature_selection\\_univariate_selection.py:111: UserWarning:\n",
      "\n",
      "Features [ 1  7  8 12 13 14 15 16 17 18 19 20 21 22 23 24 28 29 30 31 32 33 34 35\n",
      " 36 37 38 39 40 49 50 51 52 53 54 55 56 57 58 59 60 61 63 64 65 66 67 68\n",
      " 69 70 71 72 73] are constant.\n",
      "\n",
      "c:\\Users\\Laris\\miniconda3\\envs\\stage\\Lib\\site-packages\\sklearn\\feature_selection\\_univariate_selection.py:112: RuntimeWarning:\n",
      "\n",
      "divide by zero encountered in divide\n",
      "\n",
      "c:\\Users\\Laris\\miniconda3\\envs\\stage\\Lib\\site-packages\\sklearn\\feature_selection\\_univariate_selection.py:112: RuntimeWarning:\n",
      "\n",
      "invalid value encountered in divide\n",
      "\n",
      "c:\\Users\\Laris\\miniconda3\\envs\\stage\\Lib\\site-packages\\sklearn\\feature_selection\\_univariate_selection.py:111: UserWarning:\n",
      "\n",
      "Features [ 1  7  8 12 13 14 15 16 17 18 19 20 21 22 23 24 28 29 30 31 32 33 34 35\n",
      " 36 37 38 39 40 49 50 51 52 53 54 55 56 57 58 59 60 61 63 64 65 66 67 68\n",
      " 69 70 71 72 73] are constant.\n",
      "\n",
      "c:\\Users\\Laris\\miniconda3\\envs\\stage\\Lib\\site-packages\\sklearn\\feature_selection\\_univariate_selection.py:112: RuntimeWarning:\n",
      "\n",
      "divide by zero encountered in divide\n",
      "\n",
      "c:\\Users\\Laris\\miniconda3\\envs\\stage\\Lib\\site-packages\\sklearn\\feature_selection\\_univariate_selection.py:112: RuntimeWarning:\n",
      "\n",
      "invalid value encountered in divide\n",
      "\n",
      "c:\\Users\\Laris\\miniconda3\\envs\\stage\\Lib\\site-packages\\sklearn\\feature_selection\\_univariate_selection.py:111: UserWarning:\n",
      "\n",
      "Features [ 1  7  8 12 13 14 15 16 17 18 19 20 21 22 23 24 28 29 30 31 32 33 34 35\n",
      " 36 37 38 39 40 49 50 51 52 53 54 55 56 57 58 59 60 61 63 64 65 66 67 68\n",
      " 69 70 71 72 73] are constant.\n",
      "\n",
      "c:\\Users\\Laris\\miniconda3\\envs\\stage\\Lib\\site-packages\\sklearn\\feature_selection\\_univariate_selection.py:112: RuntimeWarning:\n",
      "\n",
      "divide by zero encountered in divide\n",
      "\n",
      "c:\\Users\\Laris\\miniconda3\\envs\\stage\\Lib\\site-packages\\sklearn\\feature_selection\\_univariate_selection.py:112: RuntimeWarning:\n",
      "\n",
      "invalid value encountered in divide\n",
      "\n",
      "c:\\Users\\Laris\\miniconda3\\envs\\stage\\Lib\\site-packages\\sklearn\\feature_selection\\_univariate_selection.py:111: UserWarning:\n",
      "\n",
      "Features [ 1  7  8 12 13 14 15 16 17 18 19 20 21 22 23 24 28 29 30 31 32 33 34 35\n",
      " 36 37 38 39 40 49 50 51 52 53 54 55 56 57 58 59 60 61 63 64 65 66 67 68\n",
      " 69 70 71 72 73] are constant.\n",
      "\n",
      "c:\\Users\\Laris\\miniconda3\\envs\\stage\\Lib\\site-packages\\sklearn\\feature_selection\\_univariate_selection.py:112: RuntimeWarning:\n",
      "\n",
      "divide by zero encountered in divide\n",
      "\n",
      "c:\\Users\\Laris\\miniconda3\\envs\\stage\\Lib\\site-packages\\sklearn\\feature_selection\\_univariate_selection.py:112: RuntimeWarning:\n",
      "\n",
      "invalid value encountered in divide\n",
      "\n",
      "c:\\Users\\Laris\\miniconda3\\envs\\stage\\Lib\\site-packages\\sklearn\\feature_selection\\_univariate_selection.py:111: UserWarning:\n",
      "\n",
      "Features [ 1  7  8 12 13 14 15 16 17 18 19 20 21 22 23 24 28 29 30 31 32 33 34 35\n",
      " 36 37 38 39 40 49 50 51 52 53 54 55 56 57 58 59 60 61 63 64 65 66 67 68\n",
      " 69 70 71 72 73] are constant.\n",
      "\n",
      "c:\\Users\\Laris\\miniconda3\\envs\\stage\\Lib\\site-packages\\sklearn\\feature_selection\\_univariate_selection.py:112: RuntimeWarning:\n",
      "\n",
      "divide by zero encountered in divide\n",
      "\n",
      "c:\\Users\\Laris\\miniconda3\\envs\\stage\\Lib\\site-packages\\sklearn\\feature_selection\\_univariate_selection.py:112: RuntimeWarning:\n",
      "\n",
      "invalid value encountered in divide\n",
      "\n",
      "c:\\Users\\Laris\\miniconda3\\envs\\stage\\Lib\\site-packages\\sklearn\\feature_selection\\_univariate_selection.py:111: UserWarning:\n",
      "\n",
      "Features [ 1  7  8 12 13 14 15 16 17 18 19 20 21 22 23 24 28 29 30 31 32 33 34 35\n",
      " 36 37 38 39 40 49 50 51 52 53 54 55 56 57 58 59 60 61 63 64 65 66 67 68\n",
      " 69 70 71 72 73] are constant.\n",
      "\n",
      "c:\\Users\\Laris\\miniconda3\\envs\\stage\\Lib\\site-packages\\sklearn\\feature_selection\\_univariate_selection.py:112: RuntimeWarning:\n",
      "\n",
      "divide by zero encountered in divide\n",
      "\n",
      "c:\\Users\\Laris\\miniconda3\\envs\\stage\\Lib\\site-packages\\sklearn\\feature_selection\\_univariate_selection.py:112: RuntimeWarning:\n",
      "\n",
      "invalid value encountered in divide\n",
      "\n",
      "c:\\Users\\Laris\\miniconda3\\envs\\stage\\Lib\\site-packages\\sklearn\\feature_selection\\_univariate_selection.py:111: UserWarning:\n",
      "\n",
      "Features [ 1  7  8 12 13 14 15 16 17 18 19 20 21 22 23 24 28 29 30 31 32 33 34 35\n",
      " 36 37 38 39 40 49 50 51 52 53 54 55 56 57 58 59 60 61 63 64 65 66 67 68\n",
      " 69 70 71 72 73] are constant.\n",
      "\n",
      "c:\\Users\\Laris\\miniconda3\\envs\\stage\\Lib\\site-packages\\sklearn\\feature_selection\\_univariate_selection.py:112: RuntimeWarning:\n",
      "\n",
      "divide by zero encountered in divide\n",
      "\n",
      "c:\\Users\\Laris\\miniconda3\\envs\\stage\\Lib\\site-packages\\sklearn\\feature_selection\\_univariate_selection.py:112: RuntimeWarning:\n",
      "\n",
      "invalid value encountered in divide\n",
      "\n",
      "c:\\Users\\Laris\\miniconda3\\envs\\stage\\Lib\\site-packages\\sklearn\\feature_selection\\_univariate_selection.py:111: UserWarning:\n",
      "\n",
      "Features [ 1  7  8 12 13 14 15 16 17 18 19 20 21 22 23 24 28 29 30 31 32 33 34 35\n",
      " 36 37 38 39 40 49 50 51 52 53 54 55 56 57 58 59 60 61 63 64 65 66 67 68\n",
      " 69 70 71 72 73] are constant.\n",
      "\n",
      "c:\\Users\\Laris\\miniconda3\\envs\\stage\\Lib\\site-packages\\sklearn\\feature_selection\\_univariate_selection.py:112: RuntimeWarning:\n",
      "\n",
      "divide by zero encountered in divide\n",
      "\n",
      "c:\\Users\\Laris\\miniconda3\\envs\\stage\\Lib\\site-packages\\sklearn\\feature_selection\\_univariate_selection.py:112: RuntimeWarning:\n",
      "\n",
      "invalid value encountered in divide\n",
      "\n",
      "c:\\Users\\Laris\\miniconda3\\envs\\stage\\Lib\\site-packages\\sklearn\\feature_selection\\_univariate_selection.py:111: UserWarning:\n",
      "\n",
      "Features [ 1  7  8 12 13 14 15 16 17 18 19 20 21 22 23 24 28 29 30 31 32 33 34 35\n",
      " 36 37 38 39 40 49 50 51 52 53 54 55 56 57 58 59 60 61 63 64 65 66 67 68\n",
      " 69 70 71 72 73] are constant.\n",
      "\n",
      "c:\\Users\\Laris\\miniconda3\\envs\\stage\\Lib\\site-packages\\sklearn\\feature_selection\\_univariate_selection.py:112: RuntimeWarning:\n",
      "\n",
      "divide by zero encountered in divide\n",
      "\n",
      "c:\\Users\\Laris\\miniconda3\\envs\\stage\\Lib\\site-packages\\sklearn\\feature_selection\\_univariate_selection.py:112: RuntimeWarning:\n",
      "\n",
      "invalid value encountered in divide\n",
      "\n",
      "c:\\Users\\Laris\\miniconda3\\envs\\stage\\Lib\\site-packages\\sklearn\\feature_selection\\_univariate_selection.py:111: UserWarning:\n",
      "\n",
      "Features [ 1  7  8 12 13 14 15 16 17 18 19 20 21 22 23 24 28 29 30 31 32 33 34 35\n",
      " 36 37 38 39 40 49 50 51 52 53 54 55 56 57 58 59 60 61 63 64 65 66 67 68\n",
      " 69 70 71 72 73] are constant.\n",
      "\n",
      "c:\\Users\\Laris\\miniconda3\\envs\\stage\\Lib\\site-packages\\sklearn\\feature_selection\\_univariate_selection.py:112: RuntimeWarning:\n",
      "\n",
      "divide by zero encountered in divide\n",
      "\n",
      "c:\\Users\\Laris\\miniconda3\\envs\\stage\\Lib\\site-packages\\sklearn\\feature_selection\\_univariate_selection.py:112: RuntimeWarning:\n",
      "\n",
      "invalid value encountered in divide\n",
      "\n",
      "c:\\Users\\Laris\\miniconda3\\envs\\stage\\Lib\\site-packages\\sklearn\\feature_selection\\_univariate_selection.py:111: UserWarning:\n",
      "\n",
      "Features [ 1  7  8 12 13 14 15 16 17 18 19 20 21 22 23 24 28 29 30 31 32 33 34 35\n",
      " 36 37 38 39 40 49 50 51 52 53 54 55 56 57 58 59 60 61 63 64 65 66 67 68\n",
      " 69 70 71 72 73] are constant.\n",
      "\n",
      "c:\\Users\\Laris\\miniconda3\\envs\\stage\\Lib\\site-packages\\sklearn\\feature_selection\\_univariate_selection.py:112: RuntimeWarning:\n",
      "\n",
      "divide by zero encountered in divide\n",
      "\n",
      "c:\\Users\\Laris\\miniconda3\\envs\\stage\\Lib\\site-packages\\sklearn\\feature_selection\\_univariate_selection.py:112: RuntimeWarning:\n",
      "\n",
      "invalid value encountered in divide\n",
      "\n",
      "c:\\Users\\Laris\\miniconda3\\envs\\stage\\Lib\\site-packages\\sklearn\\feature_selection\\_univariate_selection.py:111: UserWarning:\n",
      "\n",
      "Features [ 1  7  8 12 13 14 15 16 17 18 19 20 21 22 23 24 28 29 30 31 32 33 34 35\n",
      " 36 37 38 39 40 49 50 51 52 53 54 55 56 57 58 59 60 61 63 64 65 66 67 68\n",
      " 69 70 71 72 73] are constant.\n",
      "\n",
      "c:\\Users\\Laris\\miniconda3\\envs\\stage\\Lib\\site-packages\\sklearn\\feature_selection\\_univariate_selection.py:112: RuntimeWarning:\n",
      "\n",
      "divide by zero encountered in divide\n",
      "\n",
      "c:\\Users\\Laris\\miniconda3\\envs\\stage\\Lib\\site-packages\\sklearn\\feature_selection\\_univariate_selection.py:112: RuntimeWarning:\n",
      "\n",
      "invalid value encountered in divide\n",
      "\n",
      "c:\\Users\\Laris\\miniconda3\\envs\\stage\\Lib\\site-packages\\sklearn\\feature_selection\\_univariate_selection.py:111: UserWarning:\n",
      "\n",
      "Features [ 1  7  8 12 13 14 15 16 17 18 19 20 21 22 23 24 28 29 30 31 32 33 34 35\n",
      " 36 37 38 39 40 49 50 51 52 53 54 55 56 57 58 59 60 61 63 64 65 66 67 68\n",
      " 69 70 71 72 73] are constant.\n",
      "\n",
      "c:\\Users\\Laris\\miniconda3\\envs\\stage\\Lib\\site-packages\\sklearn\\feature_selection\\_univariate_selection.py:112: RuntimeWarning:\n",
      "\n",
      "divide by zero encountered in divide\n",
      "\n",
      "c:\\Users\\Laris\\miniconda3\\envs\\stage\\Lib\\site-packages\\sklearn\\feature_selection\\_univariate_selection.py:112: RuntimeWarning:\n",
      "\n",
      "invalid value encountered in divide\n",
      "\n",
      "c:\\Users\\Laris\\miniconda3\\envs\\stage\\Lib\\site-packages\\sklearn\\feature_selection\\_univariate_selection.py:111: UserWarning:\n",
      "\n",
      "Features [ 1  7  8 12 13 14 15 16 17 18 19 20 21 22 23 24 28 29 30 31 32 33 34 35\n",
      " 36 37 38 39 40 49 50 51 52 53 54 55 56 57 58 59 60 61 63 64 65 66 67 68\n",
      " 69 70 71 72 73] are constant.\n",
      "\n",
      "c:\\Users\\Laris\\miniconda3\\envs\\stage\\Lib\\site-packages\\sklearn\\feature_selection\\_univariate_selection.py:112: RuntimeWarning:\n",
      "\n",
      "divide by zero encountered in divide\n",
      "\n",
      "c:\\Users\\Laris\\miniconda3\\envs\\stage\\Lib\\site-packages\\sklearn\\feature_selection\\_univariate_selection.py:112: RuntimeWarning:\n",
      "\n",
      "invalid value encountered in divide\n",
      "\n",
      "c:\\Users\\Laris\\miniconda3\\envs\\stage\\Lib\\site-packages\\sklearn\\feature_selection\\_univariate_selection.py:111: UserWarning:\n",
      "\n",
      "Features [ 1  7  8 12 13 14 15 16 17 18 19 20 21 22 23 24 28 29 30 31 32 33 34 35\n",
      " 36 37 38 39 40 49 50 51 52 53 54 55 56 57 58 59 60 61 63 64 65 66 67 68\n",
      " 69 70 71 72 73] are constant.\n",
      "\n",
      "c:\\Users\\Laris\\miniconda3\\envs\\stage\\Lib\\site-packages\\sklearn\\feature_selection\\_univariate_selection.py:112: RuntimeWarning:\n",
      "\n",
      "divide by zero encountered in divide\n",
      "\n",
      "c:\\Users\\Laris\\miniconda3\\envs\\stage\\Lib\\site-packages\\sklearn\\feature_selection\\_univariate_selection.py:112: RuntimeWarning:\n",
      "\n",
      "invalid value encountered in divide\n",
      "\n",
      "c:\\Users\\Laris\\miniconda3\\envs\\stage\\Lib\\site-packages\\sklearn\\feature_selection\\_univariate_selection.py:111: UserWarning:\n",
      "\n",
      "Features [ 1  7  8 12 13 14 15 16 17 18 19 20 21 22 23 24 28 29 30 31 32 33 34 35\n",
      " 36 37 38 39 40 49 50 51 52 53 54 55 56 57 58 59 60 61 63 64 65 66 67 68\n",
      " 69 70 71 72 73] are constant.\n",
      "\n",
      "c:\\Users\\Laris\\miniconda3\\envs\\stage\\Lib\\site-packages\\sklearn\\feature_selection\\_univariate_selection.py:112: RuntimeWarning:\n",
      "\n",
      "divide by zero encountered in divide\n",
      "\n",
      "c:\\Users\\Laris\\miniconda3\\envs\\stage\\Lib\\site-packages\\sklearn\\feature_selection\\_univariate_selection.py:112: RuntimeWarning:\n",
      "\n",
      "invalid value encountered in divide\n",
      "\n",
      "c:\\Users\\Laris\\miniconda3\\envs\\stage\\Lib\\site-packages\\sklearn\\feature_selection\\_univariate_selection.py:111: UserWarning:\n",
      "\n",
      "Features [ 1  7  8 12 13 14 15 16 17 18 19 20 21 22 23 24 28 29 30 31 32 33 34 35\n",
      " 36 37 38 39 40 49 50 51 52 53 54 55 56 57 58 59 60 61 63 64 65 66 67 68\n",
      " 69 70 71 72 73] are constant.\n",
      "\n",
      "c:\\Users\\Laris\\miniconda3\\envs\\stage\\Lib\\site-packages\\sklearn\\feature_selection\\_univariate_selection.py:112: RuntimeWarning:\n",
      "\n",
      "divide by zero encountered in divide\n",
      "\n",
      "c:\\Users\\Laris\\miniconda3\\envs\\stage\\Lib\\site-packages\\sklearn\\feature_selection\\_univariate_selection.py:112: RuntimeWarning:\n",
      "\n",
      "invalid value encountered in divide\n",
      "\n"
     ]
    }
   ],
   "source": [
    "metric_scores = {}\n",
    "k = 76\n",
    "while k:\n",
    "    X_select = SelectKBest(k=k).fit_transform(X, y)\n",
    "    scores = cross_validate(RandomForestRegressor(), X_select, y, return_train_score=True)\n",
    "    for key, val in scores.items():\n",
    "        scores[key] = val.mean()\n",
    "    metric_scores[f\"{k} features\"] = scores\n",
    "    k -= 1\n",
    "\n",
    "kbest = pd.DataFrame(metric_scores).T\n"
   ]
  },
  {
   "cell_type": "code",
   "execution_count": null,
   "id": "254fc3b4",
   "metadata": {},
   "outputs": [
    {
     "data": {
      "text/html": [
       "<div>\n",
       "<style scoped>\n",
       "    .dataframe tbody tr th:only-of-type {\n",
       "        vertical-align: middle;\n",
       "    }\n",
       "\n",
       "    .dataframe tbody tr th {\n",
       "        vertical-align: top;\n",
       "    }\n",
       "\n",
       "    .dataframe thead th {\n",
       "        text-align: right;\n",
       "    }\n",
       "</style>\n",
       "<table border=\"1\" class=\"dataframe\">\n",
       "  <thead>\n",
       "    <tr style=\"text-align: right;\">\n",
       "      <th></th>\n",
       "      <th>fit_time</th>\n",
       "      <th>score_time</th>\n",
       "      <th>test_score</th>\n",
       "      <th>train_score</th>\n",
       "    </tr>\n",
       "  </thead>\n",
       "  <tbody>\n",
       "    <tr>\n",
       "      <th>2 features</th>\n",
       "      <td>0.209074</td>\n",
       "      <td>0.019277</td>\n",
       "      <td>0.820197</td>\n",
       "      <td>0.998134</td>\n",
       "    </tr>\n",
       "    <tr>\n",
       "      <th>4 features</th>\n",
       "      <td>0.209232</td>\n",
       "      <td>0.018031</td>\n",
       "      <td>0.799703</td>\n",
       "      <td>0.997672</td>\n",
       "    </tr>\n",
       "    <tr>\n",
       "      <th>3 features</th>\n",
       "      <td>0.223980</td>\n",
       "      <td>0.020797</td>\n",
       "      <td>0.795667</td>\n",
       "      <td>0.997917</td>\n",
       "    </tr>\n",
       "    <tr>\n",
       "      <th>5 features</th>\n",
       "      <td>0.200119</td>\n",
       "      <td>0.017848</td>\n",
       "      <td>0.790065</td>\n",
       "      <td>0.997256</td>\n",
       "    </tr>\n",
       "    <tr>\n",
       "      <th>6 features</th>\n",
       "      <td>0.236229</td>\n",
       "      <td>0.019025</td>\n",
       "      <td>0.767550</td>\n",
       "      <td>0.997230</td>\n",
       "    </tr>\n",
       "    <tr>\n",
       "      <th>72 features</th>\n",
       "      <td>0.229624</td>\n",
       "      <td>0.019569</td>\n",
       "      <td>0.752759</td>\n",
       "      <td>0.997245</td>\n",
       "    </tr>\n",
       "    <tr>\n",
       "      <th>66 features</th>\n",
       "      <td>0.239345</td>\n",
       "      <td>0.020172</td>\n",
       "      <td>0.752632</td>\n",
       "      <td>0.997001</td>\n",
       "    </tr>\n",
       "    <tr>\n",
       "      <th>58 features</th>\n",
       "      <td>0.220017</td>\n",
       "      <td>0.019096</td>\n",
       "      <td>0.751621</td>\n",
       "      <td>0.996477</td>\n",
       "    </tr>\n",
       "    <tr>\n",
       "      <th>64 features</th>\n",
       "      <td>0.227282</td>\n",
       "      <td>0.026622</td>\n",
       "      <td>0.750137</td>\n",
       "      <td>0.996406</td>\n",
       "    </tr>\n",
       "    <tr>\n",
       "      <th>63 features</th>\n",
       "      <td>0.231796</td>\n",
       "      <td>0.020398</td>\n",
       "      <td>0.748568</td>\n",
       "      <td>0.996681</td>\n",
       "    </tr>\n",
       "    <tr>\n",
       "      <th>75 features</th>\n",
       "      <td>0.236871</td>\n",
       "      <td>0.019257</td>\n",
       "      <td>0.745293</td>\n",
       "      <td>0.996795</td>\n",
       "    </tr>\n",
       "    <tr>\n",
       "      <th>54 features</th>\n",
       "      <td>0.229095</td>\n",
       "      <td>0.018453</td>\n",
       "      <td>0.744161</td>\n",
       "      <td>0.996349</td>\n",
       "    </tr>\n",
       "    <tr>\n",
       "      <th>49 features</th>\n",
       "      <td>0.231883</td>\n",
       "      <td>0.022865</td>\n",
       "      <td>0.743522</td>\n",
       "      <td>0.996328</td>\n",
       "    </tr>\n",
       "    <tr>\n",
       "      <th>46 features</th>\n",
       "      <td>0.234695</td>\n",
       "      <td>0.020535</td>\n",
       "      <td>0.742879</td>\n",
       "      <td>0.996184</td>\n",
       "    </tr>\n",
       "    <tr>\n",
       "      <th>30 features</th>\n",
       "      <td>0.219620</td>\n",
       "      <td>0.018376</td>\n",
       "      <td>0.742817</td>\n",
       "      <td>0.996707</td>\n",
       "    </tr>\n",
       "    <tr>\n",
       "      <th>22 features</th>\n",
       "      <td>0.219522</td>\n",
       "      <td>0.020252</td>\n",
       "      <td>0.742588</td>\n",
       "      <td>0.997005</td>\n",
       "    </tr>\n",
       "    <tr>\n",
       "      <th>24 features</th>\n",
       "      <td>0.214636</td>\n",
       "      <td>0.018469</td>\n",
       "      <td>0.742343</td>\n",
       "      <td>0.996634</td>\n",
       "    </tr>\n",
       "    <tr>\n",
       "      <th>42 features</th>\n",
       "      <td>0.233582</td>\n",
       "      <td>0.018477</td>\n",
       "      <td>0.741445</td>\n",
       "      <td>0.996351</td>\n",
       "    </tr>\n",
       "    <tr>\n",
       "      <th>50 features</th>\n",
       "      <td>0.233685</td>\n",
       "      <td>0.019783</td>\n",
       "      <td>0.741379</td>\n",
       "      <td>0.996914</td>\n",
       "    </tr>\n",
       "    <tr>\n",
       "      <th>12 features</th>\n",
       "      <td>0.217598</td>\n",
       "      <td>0.021166</td>\n",
       "      <td>0.740783</td>\n",
       "      <td>0.997147</td>\n",
       "    </tr>\n",
       "    <tr>\n",
       "      <th>21 features</th>\n",
       "      <td>0.244896</td>\n",
       "      <td>0.020745</td>\n",
       "      <td>0.740088</td>\n",
       "      <td>0.997177</td>\n",
       "    </tr>\n",
       "  </tbody>\n",
       "</table>\n",
       "</div>"
      ],
      "text/plain": [
       "             fit_time  score_time  test_score  train_score\n",
       "2 features   0.209074    0.019277    0.820197     0.998134\n",
       "4 features   0.209232    0.018031    0.799703     0.997672\n",
       "3 features   0.223980    0.020797    0.795667     0.997917\n",
       "5 features   0.200119    0.017848    0.790065     0.997256\n",
       "6 features   0.236229    0.019025    0.767550     0.997230\n",
       "72 features  0.229624    0.019569    0.752759     0.997245\n",
       "66 features  0.239345    0.020172    0.752632     0.997001\n",
       "58 features  0.220017    0.019096    0.751621     0.996477\n",
       "64 features  0.227282    0.026622    0.750137     0.996406\n",
       "63 features  0.231796    0.020398    0.748568     0.996681\n",
       "75 features  0.236871    0.019257    0.745293     0.996795\n",
       "54 features  0.229095    0.018453    0.744161     0.996349\n",
       "49 features  0.231883    0.022865    0.743522     0.996328\n",
       "46 features  0.234695    0.020535    0.742879     0.996184\n",
       "30 features  0.219620    0.018376    0.742817     0.996707\n",
       "22 features  0.219522    0.020252    0.742588     0.997005\n",
       "24 features  0.214636    0.018469    0.742343     0.996634\n",
       "42 features  0.233582    0.018477    0.741445     0.996351\n",
       "50 features  0.233685    0.019783    0.741379     0.996914\n",
       "12 features  0.217598    0.021166    0.740783     0.997147\n",
       "21 features  0.244896    0.020745    0.740088     0.997177"
      ]
     },
     "execution_count": 89,
     "metadata": {},
     "output_type": "execute_result"
    }
   ],
   "source": [
    "kbest[kbest[\"test_score\"] > 0.739990].sort_values(by=\"test_score\", ascending=False)"
   ]
  },
  {
   "cell_type": "code",
   "execution_count": null,
   "id": "0498e29e",
   "metadata": {},
   "outputs": [],
   "source": [
    "model = RandomForestRegressor().fit(X, y)\n",
    "\n",
    "model.predict()"
   ]
  }
 ],
 "metadata": {
  "kernelspec": {
   "display_name": "stage",
   "language": "python",
   "name": "python3"
  },
  "language_info": {
   "codemirror_mode": {
    "name": "ipython",
    "version": 3
   },
   "file_extension": ".py",
   "mimetype": "text/x-python",
   "name": "python",
   "nbconvert_exporter": "python",
   "pygments_lexer": "ipython3",
   "version": "3.13.2"
  }
 },
 "nbformat": 4,
 "nbformat_minor": 5
}
